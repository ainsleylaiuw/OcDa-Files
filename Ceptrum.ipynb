{
 "cells": [
  {
   "cell_type": "markdown",
   "metadata": {},
   "source": [
    "# Cepstrum Plotting\n",
    "\n",
    "A continuation of PSD_by_Type notebook. This notebook was started when I was tasked to make spectrograms using the cepstrum of a signal. This should not be done with the OOIPY spectrogram plotting functions but should instead just be hardcoded using the calculated spectrogram functions."
   ]
  },
  {
   "cell_type": "markdown",
   "metadata": {},
   "source": [
    "## Imports & Useful Functions"
   ]
  },
  {
   "cell_type": "code",
   "execution_count": 1,
   "metadata": {},
   "outputs": [],
   "source": [
    "# data\n",
    "import ooipy\n",
    "from ooipy.tools import ooiplotlib as ooiplt\n",
    "import pandas as pd\n",
    "import numpy as np\n",
    "#import functions as fn\n",
    "# plotting\n",
    "import matplotlib\n",
    "matplotlib.use('TkAgg')\n",
    "import matplotlib.pyplot as plt\n",
    "from matplotlib.lines import Line2D\n",
    "import matplotlib.colors as colors\n",
    "from matplotlib.colors import Normalize\n",
    "from matplotlib.backends.backend_agg import FigureCanvasAgg\n",
    "# IO\n",
    "from io import BytesIO\n",
    "import io\n",
    "import json\n",
    "from scipy.io import wavfile\n",
    "import re\n",
    "\n",
    "from scipy.signal import welch\n",
    "\n",
    "def cepstrum_maker(S):\n",
    "    w = int(len(S)/10) \n",
    "    time_windows = []\n",
    "    for i in range(1, 11):\n",
    "        \"\"\"if (i == 10):\n",
    "            window = S[((i-1)*w):]\n",
    "        else:\n",
    "            window = S[((i-1)*w):(i*w)]\"\"\"\n",
    "        # we lose out on very last value\n",
    "        window = S[((i-1)*w):(i*w)]\n",
    "        time_windows.append(window)\n",
    "\n",
    "    # to see time_windows output\n",
    "    for idx, wind in enumerate(time_windows):\n",
    "        #print(f'window {idx}: {wind}')\n",
    "        #print(f'Window {idx} shape is {wind.shape}')\n",
    "        # compute cf\n",
    "        cf = (np.log(np.abs(np.fft.fft(wind))))\n",
    "        #if (len(wind) == 12000):\n",
    "        #    dict[idx].append(cf)\n",
    "    return np.mean(time_windows, axis=0)\n",
    "    \n",
    "\n",
    "\n",
    "def get_cepsPSD_dict(meta_data_CSV_path, location, print_options=False):\n",
    "    \"\"\"\n",
    "    From given csv metadata path and location string, give a dictionary of PSD values using the cepstrum\n",
    "    \"\"\"\n",
    "    rawdf = pd.read_csv('data/'+location+'/'+meta_data_CSV_path, sep=',')\n",
    "    if (print_options):\n",
    "        options = ['Cargo', 'Tanker', 'Fishing type']\n",
    "        df = rawdf[rawdf['ud_group'].isin(options)]\n",
    "        df = df.reset_index(drop=True)\n",
    "        #df = rawdf[(df['ud_group']=='Cargo') | (df['ud_group']=='Tanker') | (df['ud_group']=='Fishing type')]\n",
    "        # EC is the only one with missing ship type and only 4 of them, just ignore those\n",
    "        # .dropna() followed by .groupby() cleans and groups\n",
    "        grouped_df = df.dropna(subset=['ud_group', 'VESSEL TYPE']).groupby(['ud_group', 'VESSEL TYPE'])\n",
    "        #grouped_df.sum().tail(20)\n",
    "        mean_dict = {}  \n",
    "\n",
    "        # Create average data\n",
    "        for group_name, df_group in grouped_df:\n",
    "            print(group_name)\n",
    "\n",
    "    options = ['Cargo', 'Tanker', 'Fishing type']\n",
    "    df = rawdf[rawdf['VESSEL TYPE'].isin(options)]\n",
    "    df = rawdf.reset_index(drop=True)\n",
    "    grouped_df = df.dropna(subset=['ud_group', 'VESSEL TYPE']).groupby(['ud_group', 'VESSEL TYPE'])\n",
    "\n",
    "    # https://stackoverflow.com/questions/27405483/how-to-loop-over-grouped-pandas-dataframe\n",
    "    PSDs = {}\n",
    "    for group_name, df_group in grouped_df:\n",
    "        PSD_freq = []\n",
    "        PSD_val = []\n",
    "        dictPSD = { 'frequencies': PSD_freq, 'values': PSD_val}\n",
    "\n",
    "        # for-loop to compile list of PSD data objects pulled from column\n",
    "        for row_index, row in df_group.iterrows():\n",
    "            inst_id = df['instance_id'].iloc[row_index]\n",
    "            # get pickle files (DL locally? Call some API?)\n",
    "            # local storage method\n",
    "            data_path = 'data/' + location + '/'\n",
    "            wavfilepath = data_path + 'Audio/' + inst_id + '.wav'\n",
    "            # try-except deals with missing pickles\n",
    "            try:\n",
    "                output = wavfile.read(wavfilepath)\n",
    "                S = output[1]\n",
    "                total_cf = np.log(np.abs(np.fft.fft(S)))\n",
    "                total_quefrec = np.fft.ifft(total_cf)\n",
    "                cf = cepstrum_maker(S)\n",
    "                icf = np.fft.ifft(cf)\n",
    "                #print(cf)\n",
    "                obj = ooipy.hydrophone.basic.HydrophoneData(data=np.real(icf), header=None, node=\"Axial_Base\")\n",
    "                obj.stats.sampling_rate = 200\n",
    "                obj.stats.channel = 'HDH'\n",
    "                obj.compute_psd_welch(L = 256, overlap=0.3)\n",
    "                #print(obj.stats)\n",
    "                psd = obj.psd   \n",
    "                dictPSD['frequencies'].append(psd.freq)\n",
    "                dictPSD['values'].append(psd.values)\n",
    "            except FileNotFoundError:\n",
    "                pass\n",
    "        PSDs.update({group_name: dictPSD})\n",
    "    return PSDs"
   ]
  },
  {
   "cell_type": "markdown",
   "metadata": {},
   "source": [
    "## Spectrogram"
   ]
  },
  {
   "cell_type": "markdown",
   "metadata": {},
   "source": [
    "### Initial Testing on one Instance\n",
    "\n",
    "Issue (04/06/2023): inverse cepstrum (quefrency) returns a solid color plot. Cepstrum values seem fine\n",
    "(04/06/2023) The above doesn't seem like an error. Referencing Jinting's notebook, quefrency values had a few large spikes and lots of small values. This shows up as small similarly-colored lines near the x-axis in the 0th instance."
   ]
  },
  {
   "cell_type": "code",
   "execution_count": 86,
   "metadata": {},
   "outputs": [
    {
     "data": {
      "text/plain": [
       "6000"
      ]
     },
     "execution_count": 86,
     "metadata": {},
     "output_type": "execute_result"
    }
   ],
   "source": [
    "rawdf = pd.read_csv('data/'+'Axial_Base'+'/'+'AB_isolated_ais_10m_5_20.csv', sep=',')\n",
    "options = ['Cargo', 'Tanker', 'Fishing type']\n",
    "df = rawdf[rawdf['VESSEL TYPE'].isin(options)]\n",
    "df = rawdf.reset_index(drop=True)\n",
    "grouped_df = df.dropna(subset=['ud_group', 'VESSEL TYPE']).groupby(['ud_group', 'VESSEL TYPE'])\n",
    "\n",
    "inst_id = df['instance_id'].iloc[0]\n",
    "\n",
    "wavfilepath = 'data/Axial_Base/' + 'Audio/' + inst_id + '.wav'\n",
    "try:\n",
    "    output = wavfile.read(wavfilepath)\n",
    "    S = output[1]\n",
    "\n",
    "    w = int(len(S)/10) \n",
    "    time_windows = []\n",
    "    for i in range(1, 11):\n",
    "        \"\"\"if (i == 10):\n",
    "            window = S[((i-1)*w):]\n",
    "        else:\n",
    "            window = S[((i-1)*w):(i*w)]\"\"\"\n",
    "        # we lose out on very last value\n",
    "        window = S[((i-1)*w):(i*w)]\n",
    "        time_windows.append(window)\n",
    "\n",
    "    # to see time_windows output\n",
    "    cf_windows = []\n",
    "    for idx, wind in enumerate(time_windows):\n",
    "        #print(f'window {idx}: {wind}')\n",
    "        #print(f'Window {idx} shape is {wind.shape}')\n",
    "        # compute cf\n",
    "        cf = (np.log(np.abs(np.fft.fft(wind))))\n",
    "        icf = np.real(np.fft.ifft((cf)))\n",
    "        cf_windows.append(icf[:int(len(cf)/2)]) # only need half, nyquist\n",
    "    \n",
    "except FileNotFoundError:\n",
    "    pass\n",
    "len(cf_windows[0])\n"
   ]
  },
  {
   "cell_type": "code",
   "execution_count": 94,
   "metadata": {},
   "outputs": [
    {
     "data": {
      "text/plain": [
       "(6000, 10)"
      ]
     },
     "execution_count": 94,
     "metadata": {},
     "output_type": "execute_result"
    }
   ],
   "source": [
    "np.asarray((cf_windows)).T.shape"
   ]
  },
  {
   "cell_type": "code",
   "execution_count": 96,
   "metadata": {},
   "outputs": [],
   "source": [
    "Fs = 200\n",
    "t = np.arange(10 * 60 * Fs /10/2) \n",
    "\n",
    "#plt.contourf(np.arange(10), t, np.asarray(np.log(cf_windows)).T)\n",
    "plt.contourf(np.arange(10), t, np.asarray((cf_windows)).T, cmap=plt.cm.plasma)\n",
    "plt.ylim((-10))\n",
    "plt.colorbar()\n",
    "plt.ylabel('quefrency (s)')\n",
    "plt.xlabel('Time (min)')\n",
    "plt.show()"
   ]
  },
  {
   "cell_type": "code",
   "execution_count": 74,
   "metadata": {},
   "outputs": [
    {
     "name": "stdout",
     "output_type": "stream",
     "text": [
      "[ 7.62546834e+00  1.62688607e-01 -2.54196141e-01 ...  5.23199875e-03\n",
      "  1.40767965e-03 -1.67275795e-02]\n",
      "7.625468341244938 -0.25419614094295906\n"
     ]
    }
   ],
   "source": [
    "section = icf[:int(len(cf)/2)]\n",
    "print(section)\n",
    "print(np.max(section), np.min(section))"
   ]
  },
  {
   "cell_type": "code",
   "execution_count": 88,
   "metadata": {},
   "outputs": [],
   "source": [
    "#plt.plot(S[:int(len(S)/10)], label='original signal')\n",
    "plt.plot(icf, label='icf')\n",
    "plt.plot(cf, label='cf')\n",
    "\n",
    "plt.legend()\n",
    "plt.show()"
   ]
  }
 ],
 "metadata": {
  "kernelspec": {
   "display_name": "Python 3.9.12 ('base')",
   "language": "python",
   "name": "python3"
  },
  "language_info": {
   "codemirror_mode": {
    "name": "ipython",
    "version": 3
   },
   "file_extension": ".py",
   "mimetype": "text/x-python",
   "name": "python",
   "nbconvert_exporter": "python",
   "pygments_lexer": "ipython3",
   "version": "3.9.12"
  },
  "orig_nbformat": 4,
  "vscode": {
   "interpreter": {
    "hash": "a881572e0f47ad42fbe19c9bef42a69b454c13522f4345672cdd837ecfaff96a"
   }
  }
 },
 "nbformat": 4,
 "nbformat_minor": 2
}
