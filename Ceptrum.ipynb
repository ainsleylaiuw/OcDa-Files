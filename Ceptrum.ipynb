{
 "cells": [
  {
   "cell_type": "markdown",
   "metadata": {},
   "source": [
    "# Cepstrum Plotting\n",
    "\n",
    "A continuation of PSD_by_Type notebook. This notebook was started when I was tasked to make spectrograms using the cepstrum of a signal. This should not be done with the OOIPY spectrogram plotting functions but should instead just be hardcoded using the calculated spectrogram functions."
   ]
  },
  {
   "cell_type": "markdown",
   "metadata": {},
   "source": [
    "## Imports & Functions"
   ]
  },
  {
   "cell_type": "code",
   "execution_count": 1,
   "metadata": {},
   "outputs": [],
   "source": [
    "# data\n",
    "import ooipy\n",
    "from ooipy.tools import ooiplotlib as ooiplt\n",
    "import pandas as pd\n",
    "import numpy as np\n",
    "#import functions as fn\n",
    "# plotting\n",
    "import matplotlib\n",
    "matplotlib.use('TkAgg')\n",
    "import matplotlib.pyplot as plt\n",
    "from matplotlib.lines import Line2D\n",
    "import matplotlib.colors as colors\n",
    "from matplotlib.colors import Normalize\n",
    "from matplotlib.backends.backend_agg import FigureCanvasAgg\n",
    "# IO\n",
    "from io import BytesIO\n",
    "import io\n",
    "import json\n",
    "from scipy.io import wavfile\n",
    "import re\n",
    "\n",
    "from scipy.signal import welch\n",
    "\n",
    "def cepstrum_maker(S, t_sections=20):\n",
    "    w = int(len(S)/t_sections) \n",
    "    time_windows = []\n",
    "    for i in range(1, t_sections+1):\n",
    "        \"\"\"if (i == 10):\n",
    "            window = S[((i-1)*w):]\n",
    "        else:\n",
    "            window = S[((i-1)*w):(i*w)]\"\"\"\n",
    "        # we lose out on very last value\n",
    "        window = S[((i-1)*w):(i*w)]\n",
    "        time_windows.append(window)\n",
    "\n",
    "    cf_windows = []\n",
    "    for idx, wind in enumerate(time_windows):\n",
    "        #print(f'window {idx}: {wind}')\n",
    "        #print(f'Window {idx} shape is {wind.shape}')\n",
    "        # compute cf\n",
    "        cf = (np.log(np.abs(np.fft.fft(wind))))\n",
    "        icf = np.real(np.fft.ifft((cf)))\n",
    "        cf_windows.append(icf[:int(len(cf)/2)]) # only need half, nyquist\n",
    "        #cf_windows.append(cf)\n",
    "    return cf_windows\n",
    "    \n",
    "\n",
    "\n",
    "def get_cepsPSD_dict(meta_data_CSV_path, location, print_options=False):\n",
    "    \"\"\"\n",
    "    From given csv metadata path and location string, give a dictionary of PSD values using the cepstrum\n",
    "    \"\"\"\n",
    "    rawdf = pd.read_csv('data/'+location+'/'+meta_data_CSV_path, sep=',')\n",
    "    if (print_options):\n",
    "        options = ['Cargo', 'Tanker', 'Fishing type']\n",
    "        df = rawdf[rawdf['ud_group'].isin(options)]\n",
    "        df = df.reset_index(drop=True)\n",
    "        #df = rawdf[(df['ud_group']=='Cargo') | (df['ud_group']=='Tanker') | (df['ud_group']=='Fishing type')]\n",
    "        # EC is the only one with missing ship type and only 4 of them, just ignore those\n",
    "        # .dropna() followed by .groupby() cleans and groups\n",
    "        grouped_df = df.dropna(subset=['ud_group', 'VESSEL TYPE']).groupby(['ud_group', 'VESSEL TYPE'])\n",
    "        #grouped_df.sum().tail(20)\n",
    "        mean_dict = {}  \n",
    "\n",
    "        # Create average data\n",
    "        for group_name, df_group in grouped_df:\n",
    "            print(group_name)\n",
    "\n",
    "    options = ['Cargo', 'Tanker', 'Fishing type']\n",
    "    df = rawdf[rawdf['VESSEL TYPE'].isin(options)]\n",
    "    df = rawdf.reset_index(drop=True)\n",
    "    grouped_df = df.dropna(subset=['ud_group', 'VESSEL TYPE']).groupby(['ud_group', 'VESSEL TYPE'])\n",
    "\n",
    "    # https://stackoverflow.com/questions/27405483/how-to-loop-over-grouped-pandas-dataframe\n",
    "    PSDs = {}\n",
    "    for group_name, df_group in grouped_df:\n",
    "        PSD_freq = []\n",
    "        PSD_val = []\n",
    "        dictPSD = { 'frequencies': PSD_freq, 'values': PSD_val}\n",
    "\n",
    "        # for-loop to compile list of PSD data objects pulled from column\n",
    "        for row_index, row in df_group.iterrows():\n",
    "            inst_id = df['instance_id'].iloc[row_index]\n",
    "            # get pickle files (DL locally? Call some API?)\n",
    "            # local storage method\n",
    "            data_path = 'data/' + location + '/'\n",
    "            wavfilepath = data_path + 'Audio/' + inst_id + '.wav'\n",
    "            # try-except deals with missing pickles\n",
    "            try:\n",
    "                output = wavfile.read(wavfilepath)\n",
    "                S = output[1]\n",
    "                total_cf = np.log(np.abs(np.fft.fft(S)))\n",
    "                total_quefrec = np.fft.ifft(total_cf)\n",
    "                cf = cepstrum_maker(S)\n",
    "                icf = np.fft.ifft(cf)\n",
    "                #print(cf)\n",
    "                obj = ooipy.hydrophone.basic.HydrophoneData(data=np.real(icf), header=None, node=\"Axial_Base\")\n",
    "                obj.stats.sampling_rate = 200\n",
    "                obj.stats.channel = 'HDH'\n",
    "                obj.compute_psd_welch(L = 256, overlap=0.3)\n",
    "                #print(obj.stats)\n",
    "                psd = obj.psd   \n",
    "                dictPSD['frequencies'].append(psd.freq)\n",
    "                dictPSD['values'].append(psd.values)\n",
    "            except FileNotFoundError:\n",
    "                pass\n",
    "        PSDs.update({group_name: dictPSD})\n",
    "    return PSDs\n",
    "\n",
    "def sine_maker(frequency=440.0, duration=1.0):\n",
    "        \"\"\"\n",
    "        This will generate a sine wave with minimum of 1 second duration.\n",
    "        \"\"\"\n",
    "\n",
    "        BITRATE = 200.\n",
    "        grain = round(BITRATE / frequency)\n",
    "        points = grain * round(BITRATE * duration / grain) + 1\n",
    "        duration = points / BITRATE\n",
    "\n",
    "        data = np.zeros(int(BITRATE * max(duration, 1.0)))\n",
    "\n",
    "        #try:\n",
    "        times = np.linspace(0, duration, points, endpoint=False)\n",
    "        data[:points] = np.sin(times * frequency * 2 * np.pi)\n",
    "        data = np.array((data + 1.0) * 127.5, dtype=np.int8)\n",
    "        \"\"\"except:  # do it without numpy\n",
    "            data = ''\n",
    "            omega = 2.0*np.pi*frequency/BITRATE\n",
    "            for i in range(points):\n",
    "                data += chr(int(127.5*(1.0+np.sin(float(i)*omega))))\"\"\"\n",
    "        #self.stream.write(data)\n",
    "        return data\n",
    "\n",
    "def signal_maker(freq_list, duration):\n",
    "    signal = 0\n",
    "    for freq in freq_list:\n",
    "        signal = signal + sine_maker(frequency=freq, duration=duration)\n",
    "    return signal\n",
    "\n",
    "def spectrogram_maker(signal_arr):\n",
    "    obj = ooipy.hydrophone.basic.HydrophoneData(data=signal_arr, header=None, node=\"Axial_Base\")\n",
    "    obj.stats.sampling_rate = 200\n",
    "    obj.stats.channel = 'HDH'\n",
    "    spectrogram = obj.compute_spectrogram(L = 256,avg_time=10, overlap=0.9)\n",
    "    fmin=0\n",
    "    fmax=100\n",
    "    ooiplt.plot_spectrogram(spectrogram,plot=True,save=False,fmin=fmin,fmax=fmax,vmax=110)#,filename=path+inst_id+'.png')\n",
    "    "
   ]
  },
  {
   "cell_type": "markdown",
   "metadata": {},
   "source": [
    "## Spectrogram"
   ]
  },
  {
   "cell_type": "markdown",
   "metadata": {},
   "source": [
    "### For-Loop to make spectrogram of all instances"
   ]
  },
  {
   "cell_type": "code",
   "execution_count": null,
   "metadata": {},
   "outputs": [],
   "source": [
    "rawdf = pd.read_csv('data/'+'Axial_Base'+'/'+'AB_isolated_ais_10m_5_20.csv', sep=',')\n",
    "options = ['Cargo', 'Tanker', 'Fishing type']\n",
    "df = rawdf[rawdf['VESSEL TYPE'].isin(options)]\n",
    "df = rawdf.reset_index(drop=True)\n",
    "grouped_df = df.dropna(subset=['ud_group', 'VESSEL TYPE']).groupby(['ud_group', 'VESSEL TYPE'])\n",
    "\n",
    "for row_index, row in df.iterrows():\n",
    "    inst_id = df['instance_id'].iloc[row_index]\n",
    "\n",
    "    wavfilepath = 'data/Axial_Base/' + 'Audio/' + inst_id + '.wav'\n",
    "    try:\n",
    "        output = wavfile.read(wavfilepath)\n",
    "        S = output[1]\n",
    "        t_sections = 20\n",
    "        cf_windows = cepstrum_maker(S, t_sections=t_sections)\n",
    "\n",
    "        Fs = 200\n",
    "        #t = np.arange(t_sections * 60 * Fs /t_sections/2/2) \n",
    "        min_per_section = 10/t_sections\n",
    "        t = np.arange((min_per_section*60*Fs)/2) #/2 for cutting in half for nyquist\n",
    "\n",
    "        fig, ax = plt.subplots(figsize=(14, 9))\n",
    "        CS = ax.contourf(np.arange(0,10, 0.5), t/Fs, np.asarray((cf_windows)).T, cmap=plt.cm.plasma)\n",
    "        plt.ylim((-.01))\n",
    "        ax.set_title('Cepstrogram '+ inst_id)\n",
    "        fig.colorbar(CS)\n",
    "        ax.set_ylabel('quefrency (s)')\n",
    "        ax.set_xlabel('Time (min)')\n",
    "\n",
    "        filename = \"data/\"+'Axial_Base' + '/Cepstrum/Spectrograms/'+inst_id+'.png'\n",
    "        plt.savefig(filename)\n",
    "        plt.close(fig)\n",
    "        #plt.show()\n",
    "        \n",
    "    except (FileNotFoundError, TypeError) as e:\n",
    "        pass\n"
   ]
  },
  {
   "cell_type": "markdown",
   "metadata": {},
   "source": [
    "### For-Loop to make spectrogram of ONE instances"
   ]
  },
  {
   "cell_type": "code",
   "execution_count": 14,
   "metadata": {},
   "outputs": [],
   "source": [
    "rawdf = pd.read_csv('data/'+'Axial_Base'+'/'+'AB_isolated_ais_10m_5_20.csv', sep=',')\n",
    "options = ['Cargo', 'Tanker', 'Fishing type']\n",
    "df = rawdf[rawdf['VESSEL TYPE'].isin(options)]\n",
    "df = rawdf.reset_index(drop=True)\n",
    "grouped_df = df.dropna(subset=['ud_group', 'VESSEL TYPE']).groupby(['ud_group', 'VESSEL TYPE'])\n",
    "\n",
    "inst_id = df['instance_id'].iloc[1000]\n",
    "\n",
    "wavfilepath = 'data/Axial_Base/' + 'Audio/' + inst_id + '.wav'\n",
    "try:\n",
    "    output = wavfile.read(wavfilepath)\n",
    "    S = output[1]\n",
    "    t_sections = 20\n",
    "    cf_windows = cepstrum_maker(S, t_sections=t_sections)\n",
    "\n",
    "    Fs = 200\n",
    "    #t = np.arange(t_sections * 60 * Fs /t_sections/2/2) \n",
    "    min_per_section = 10/t_sections\n",
    "    t = np.arange((min_per_section*60*Fs)/2) #/2 for cutting in half for nyquist\n",
    "\n",
    "    #fig, ax = plt.subplots(figsize=(14, 9))\n",
    "    plt.contourf(np.arange(0,10, 0.5), t/Fs, np.asarray((cf_windows)).T, cmap=plt.cm.plasma, vmin=-1.5, vmax=3)\n",
    "    plt.ylim((-.01))\n",
    "    plt.title('Cepstrogram '+ inst_id)\n",
    "    plt.colorbar()\n",
    "    plt.ylabel('quefrency (s)')\n",
    "    plt.xlabel('Time (min)')\n",
    "\n",
    "    filename = \"data/\"+'Axial_Base' + '/Cepstrum/Spectrograms/'+inst_id+'.png'\n",
    "    #plt.savefig(filename)\n",
    "    #plt.close(fig)\n",
    "    plt.show()\n",
    "\n",
    "except (FileNotFoundError, TypeError) as e:\n",
    "    pass"
   ]
  },
  {
   "cell_type": "markdown",
   "metadata": {},
   "source": [
    "### Legacy code; observed icf and cf values for one time window (last window)"
   ]
  },
  {
   "cell_type": "code",
   "execution_count": null,
   "metadata": {},
   "outputs": [],
   "source": [
    "#plt.plot(S[:int(len(S)/10)], label='original signal')\n",
    "plt.plot(icf, label='icf, time domain')\n",
    "plt.plot(cf, label='cf, freq domain')\n",
    "\n",
    "plt.legend()\n",
    "plt.show()"
   ]
  },
  {
   "cell_type": "markdown",
   "metadata": {},
   "source": [
    "## Spectrogram Recreation\n",
    "\n",
    "From Spectrogram data/plots, we will attempt to recreate it using added sine waves or truncated cepstrums"
   ]
  },
  {
   "cell_type": "markdown",
   "metadata": {},
   "source": [
    "### Adding Sine Waves from graph (values taken visually)"
   ]
  },
  {
   "cell_type": "code",
   "execution_count": 10,
   "metadata": {},
   "outputs": [],
   "source": [
    "dur = 60*10\n",
    "\n",
    "# weighted sum of waves\n",
    "testa = sine_maker(frequency=5.0, duration=dur)\n",
    "testb = sine_maker(frequency=45.0, duration=dur)\n",
    "testc = 0.5*sine_maker(frequency=52.0, duration=dur)\n",
    "testd = sine_maker(frequency=60.0, duration=dur)\n",
    "teste = 0.6*sine_maker(frequency=68.0, duration=dur)\n",
    "\n",
    "# unweighted sum of waves\n",
    "signal = signal_maker([5, 45, 52, 60,68], dur)\n",
    "signal1 = testa+testb+testc+testd+teste\n",
    "\n",
    "plt.plot(signal1)\n",
    "plt.show()"
   ]
  },
  {
   "cell_type": "code",
   "execution_count": 11,
   "metadata": {},
   "outputs": [
    {
     "name": "stderr",
     "output_type": "stream",
     "text": [
      "c:\\Users\\UserALai\\miniconda3\\lib\\site-packages\\ooipy\\tools\\ooiplotlib.py:218: UserWarning: The following kwargs were not used by contour: 'plot', 'save', 'fmin', 'fmax', 'filename', 'title', 'xlabel', 'xlabel_rot', 'xlabel_format', 'ylabel', 'vdelta', 'vdelta_cbar', 'figsize', 'res_reduction_time', 'res_reduction_freq', 'dpi', 'fontsize', 'extend_type', 'logy'\n",
      "  ax.contourf(\n"
     ]
    }
   ],
   "source": [
    "spectrogram_maker(signal1)\n",
    "plt.show()"
   ]
  },
  {
   "cell_type": "code",
   "execution_count": 67,
   "metadata": {},
   "outputs": [
    {
     "data": {
      "text/plain": [
       "(120001,)"
      ]
     },
     "execution_count": 67,
     "metadata": {},
     "output_type": "execute_result"
    }
   ],
   "source": [
    "signal.shape"
   ]
  },
  {
   "cell_type": "markdown",
   "metadata": {},
   "source": [
    "### Zeroing out parts of Cepstrum"
   ]
  },
  {
   "cell_type": "code",
   "execution_count": 15,
   "metadata": {},
   "outputs": [],
   "source": [
    "# run one instance spectrogram code to get cepstrogram (stored as cf_windows)\n",
    "\n",
    "arr = np.asarray((cf_windows))\n",
    "\n",
    "# truncate and use lower quefrency\n",
    "arr[:, int(len(t)/3):] = 0\n",
    "cf_windows_rec = (arr.tolist())\n",
    "time_windows_rec = []\n",
    "\n",
    "# undo cepstrum process\n",
    "for idx, wind in enumerate(cf_windows_rec):\n",
    "    # did not account for np.abs() and np.real()\n",
    "    cf_transformed = np.exp(np.fft.fft(wind)) \n",
    "\n",
    "    # undo truncation from nyquist\n",
    "    # by adding on reflected frequency to end of frequency\n",
    "    time_wind = np.fft.ifft(np.append(cf_transformed, np.flip(cf_transformed)))\n",
    "    time_windows_rec.append(time_wind)\n",
    "\n",
    "# put windows together \n",
    "recreated_signal = np.concatenate(time_windows_rec)\n",
    "# and add on extra value(?)\n",
    "recreated_signal2 = np.append(recreated_signal, np.mean(recreated_signal))\n",
    "#eliminate extremely sharp peaks\n",
    "recreated_signal2 = recreated_signal2 * (np.abs(recreated_signal2)<500)\n",
    "spectrogram_maker(np.real(recreated_signal2))\n",
    "plt.show()"
   ]
  },
  {
   "cell_type": "code",
   "execution_count": 5,
   "metadata": {},
   "outputs": [],
   "source": [
    "plt.plot(arr)\n",
    "plt.show()"
   ]
  },
  {
   "cell_type": "code",
   "execution_count": 6,
   "metadata": {},
   "outputs": [
    {
     "name": "stderr",
     "output_type": "stream",
     "text": [
      "c:\\Users\\UserALai\\miniconda3\\lib\\site-packages\\matplotlib\\cbook\\__init__.py:1298: ComplexWarning: Casting complex values to real discards the imaginary part\n",
      "  return np.asarray(x, float)\n"
     ]
    }
   ],
   "source": [
    "plt.plot(recreated_signal2)\n",
    "plt.title('Recreated Signal in Time Domain')\n",
    "plt.show()"
   ]
  },
  {
   "cell_type": "markdown",
   "metadata": {},
   "source": [
    "### Zeroing out parts of Cepstru WITHOUT windowing"
   ]
  },
  {
   "cell_type": "code",
   "execution_count": 9,
   "metadata": {},
   "outputs": [],
   "source": [
    "csig = np.log(np.abs(np.fft.fft(S)))\n",
    "icsig = np.real(np.fft.ifft(csig))\n",
    "#icsig[int(len(icsig)/3):]=0\n",
    "rsig = np.real(np.fft.ifft(np.exp(np.fft.fft(icsig)))) # recreated??\n",
    "spectrogram_maker(rsig)\n",
    "plt.show()"
   ]
  }
 ],
 "metadata": {
  "kernelspec": {
   "display_name": "Python 3.9.12 ('base')",
   "language": "python",
   "name": "python3"
  },
  "language_info": {
   "codemirror_mode": {
    "name": "ipython",
    "version": 3
   },
   "file_extension": ".py",
   "mimetype": "text/x-python",
   "name": "python",
   "nbconvert_exporter": "python",
   "pygments_lexer": "ipython3",
   "version": "3.9.12"
  },
  "orig_nbformat": 4,
  "vscode": {
   "interpreter": {
    "hash": "a881572e0f47ad42fbe19c9bef42a69b454c13522f4345672cdd837ecfaff96a"
   }
  }
 },
 "nbformat": 4,
 "nbformat_minor": 2
}
