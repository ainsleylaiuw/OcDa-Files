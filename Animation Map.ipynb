{
 "cells": [
  {
   "cell_type": "code",
   "execution_count": 1,
   "id": "6cf189e8",
   "metadata": {},
   "outputs": [],
   "source": [
    "import os, json\n",
    "import pandas as pd\n",
    "import numpy as np"
   ]
  },
  {
   "cell_type": "code",
   "execution_count": 4,
   "id": "4eb71c30",
   "metadata": {},
   "outputs": [],
   "source": [
    "ais = pd.read_csv('Hist_AIS_data_1.csv')\n",
    "#ais2 = pd.concat([pd.read_csv('Hist_AIS_data_2.csv'), ais1])\n",
    "#ais = pd.concat([pd.read_csv('Hist_AIS_data_3.csv'), ais2])"
   ]
  },
  {
   "cell_type": "code",
   "execution_count": null,
   "id": "9f02592f",
   "metadata": {},
   "outputs": [],
   "source": []
  },
  {
   "cell_type": "code",
   "execution_count": 5,
   "id": "98f9a18f",
   "metadata": {},
   "outputs": [],
   "source": [
    "from geopy.distance import geodesic\n",
    "offdist = (44.2284, -124.57144)\n",
    "slfdist = (44.38132, -124.18216)\n",
    "ais['offdist'] = [geodesic((a, b), offdist).miles for a, b in ais[['LAT', 'LON']].values]\n",
    "ais['slfdist'] = [geodesic((a, b), slfdist).miles for a, b in ais[['LAT', 'LON']].values]"
   ]
  },
  {
   "cell_type": "code",
   "execution_count": 6,
   "id": "3edef089",
   "metadata": {},
   "outputs": [],
   "source": [
    "ais['TIMESTAMP UTC'] = pd.to_datetime(ais['TIMESTAMP UTC']).dt.strftime('%Y-%m-%d %H:%M:%S')\n",
    "ais['TIMESTAMP UTC'] = pd.to_datetime(ais['TIMESTAMP UTC'])"
   ]
  },
  {
   "cell_type": "code",
   "execution_count": 10,
   "id": "14795500",
   "metadata": {},
   "outputs": [
    {
     "data": {
      "text/html": [
       "<div>\n",
       "<style scoped>\n",
       "    .dataframe tbody tr th:only-of-type {\n",
       "        vertical-align: middle;\n",
       "    }\n",
       "\n",
       "    .dataframe tbody tr th {\n",
       "        vertical-align: top;\n",
       "    }\n",
       "\n",
       "    .dataframe thead th {\n",
       "        text-align: right;\n",
       "    }\n",
       "</style>\n",
       "<table border=\"1\" class=\"dataframe\">\n",
       "  <thead>\n",
       "    <tr style=\"text-align: right;\">\n",
       "      <th></th>\n",
       "      <th>MMSI</th>\n",
       "      <th>IMO</th>\n",
       "      <th>VESSEL NAME</th>\n",
       "      <th>VESSEL TYPE</th>\n",
       "      <th>LENGTH</th>\n",
       "      <th>STATUS</th>\n",
       "      <th>SPEED (KNOTSx10)</th>\n",
       "      <th>LON</th>\n",
       "      <th>LAT</th>\n",
       "      <th>COURSE</th>\n",
       "      <th>HEADING</th>\n",
       "      <th>TIMESTAMP UTC</th>\n",
       "      <th>offdist</th>\n",
       "      <th>slfdist</th>\n",
       "    </tr>\n",
       "  </thead>\n",
       "  <tbody>\n",
       "    <tr>\n",
       "      <th>0</th>\n",
       "      <td>367341970</td>\n",
       "      <td>0</td>\n",
       "      <td>MISS BERDIE</td>\n",
       "      <td>Unspecified</td>\n",
       "      <td>28.00</td>\n",
       "      <td>15</td>\n",
       "      <td>90</td>\n",
       "      <td>-124.2679</td>\n",
       "      <td>44.52745</td>\n",
       "      <td>54</td>\n",
       "      <td>50</td>\n",
       "      <td>2015-01-09 00:00:02</td>\n",
       "      <td>25.540090</td>\n",
       "      <td>10.944711</td>\n",
       "    </tr>\n",
       "    <tr>\n",
       "      <th>1</th>\n",
       "      <td>366934770</td>\n",
       "      <td>0</td>\n",
       "      <td>NOAHS ARK</td>\n",
       "      <td>Fishing</td>\n",
       "      <td>0.00</td>\n",
       "      <td>15</td>\n",
       "      <td>85</td>\n",
       "      <td>-124.1057</td>\n",
       "      <td>44.61136</td>\n",
       "      <td>129</td>\n",
       "      <td>511</td>\n",
       "      <td>2015-01-09 00:01:14</td>\n",
       "      <td>35.076412</td>\n",
       "      <td>16.327074</td>\n",
       "    </tr>\n",
       "    <tr>\n",
       "      <th>2</th>\n",
       "      <td>368572000</td>\n",
       "      <td>7534646</td>\n",
       "      <td>PEGASUS</td>\n",
       "      <td>Fishing Vessel</td>\n",
       "      <td>27.04</td>\n",
       "      <td>15</td>\n",
       "      <td>41</td>\n",
       "      <td>-124.8357</td>\n",
       "      <td>44.33352</td>\n",
       "      <td>239</td>\n",
       "      <td>266</td>\n",
       "      <td>2015-01-09 00:01:15</td>\n",
       "      <td>14.983131</td>\n",
       "      <td>32.542546</td>\n",
       "    </tr>\n",
       "    <tr>\n",
       "      <th>3</th>\n",
       "      <td>367341970</td>\n",
       "      <td>0</td>\n",
       "      <td>MISS BERDIE</td>\n",
       "      <td>Unspecified</td>\n",
       "      <td>28.00</td>\n",
       "      <td>15</td>\n",
       "      <td>90</td>\n",
       "      <td>-124.2622</td>\n",
       "      <td>44.53029</td>\n",
       "      <td>54</td>\n",
       "      <td>50</td>\n",
       "      <td>2015-01-09 00:02:02</td>\n",
       "      <td>25.864779</td>\n",
       "      <td>11.021360</td>\n",
       "    </tr>\n",
       "    <tr>\n",
       "      <th>4</th>\n",
       "      <td>366207630</td>\n",
       "      <td>0</td>\n",
       "      <td>MISS SUE</td>\n",
       "      <td>Fishing</td>\n",
       "      <td>0.00</td>\n",
       "      <td>15</td>\n",
       "      <td>0</td>\n",
       "      <td>-124.0551</td>\n",
       "      <td>44.62774</td>\n",
       "      <td>169</td>\n",
       "      <td>511</td>\n",
       "      <td>2015-01-09 00:02:38</td>\n",
       "      <td>37.589220</td>\n",
       "      <td>18.136246</td>\n",
       "    </tr>\n",
       "    <tr>\n",
       "      <th>...</th>\n",
       "      <td>...</td>\n",
       "      <td>...</td>\n",
       "      <td>...</td>\n",
       "      <td>...</td>\n",
       "      <td>...</td>\n",
       "      <td>...</td>\n",
       "      <td>...</td>\n",
       "      <td>...</td>\n",
       "      <td>...</td>\n",
       "      <td>...</td>\n",
       "      <td>...</td>\n",
       "      <td>...</td>\n",
       "      <td>...</td>\n",
       "      <td>...</td>\n",
       "    </tr>\n",
       "    <tr>\n",
       "      <th>1048569</th>\n",
       "      <td>338494100</td>\n",
       "      <td>8886979</td>\n",
       "      <td>PACIFIC RAM</td>\n",
       "      <td>Factory Trawler</td>\n",
       "      <td>22.00</td>\n",
       "      <td>15</td>\n",
       "      <td>32</td>\n",
       "      <td>-124.4123</td>\n",
       "      <td>44.55890</td>\n",
       "      <td>267</td>\n",
       "      <td>260</td>\n",
       "      <td>2017-09-21 09:24:06</td>\n",
       "      <td>24.141683</td>\n",
       "      <td>16.727786</td>\n",
       "    </tr>\n",
       "    <tr>\n",
       "      <th>1048570</th>\n",
       "      <td>369493030</td>\n",
       "      <td>0</td>\n",
       "      <td>CG47268</td>\n",
       "      <td>SAR</td>\n",
       "      <td>14.00</td>\n",
       "      <td>5</td>\n",
       "      <td>0</td>\n",
       "      <td>-124.0560</td>\n",
       "      <td>44.62598</td>\n",
       "      <td>334</td>\n",
       "      <td>511</td>\n",
       "      <td>2017-09-21 09:24:21</td>\n",
       "      <td>37.470105</td>\n",
       "      <td>18.006870</td>\n",
       "    </tr>\n",
       "    <tr>\n",
       "      <th>1048571</th>\n",
       "      <td>368572000</td>\n",
       "      <td>7534646</td>\n",
       "      <td>PEGASUS</td>\n",
       "      <td>Fishing Vessel</td>\n",
       "      <td>27.04</td>\n",
       "      <td>15</td>\n",
       "      <td>63</td>\n",
       "      <td>-124.2493</td>\n",
       "      <td>44.57270</td>\n",
       "      <td>249</td>\n",
       "      <td>254</td>\n",
       "      <td>2017-09-21 09:24:50</td>\n",
       "      <td>28.625680</td>\n",
       "      <td>13.624836</td>\n",
       "    </tr>\n",
       "    <tr>\n",
       "      <th>1048572</th>\n",
       "      <td>366804620</td>\n",
       "      <td>8115992</td>\n",
       "      <td>EXCALIBUR</td>\n",
       "      <td>Trawler</td>\n",
       "      <td>22.86</td>\n",
       "      <td>7</td>\n",
       "      <td>57</td>\n",
       "      <td>-124.1273</td>\n",
       "      <td>44.59623</td>\n",
       "      <td>248</td>\n",
       "      <td>236</td>\n",
       "      <td>2017-09-21 09:25:11</td>\n",
       "      <td>33.588634</td>\n",
       "      <td>15.084787</td>\n",
       "    </tr>\n",
       "    <tr>\n",
       "      <th>1048573</th>\n",
       "      <td>367338320</td>\n",
       "      <td>0</td>\n",
       "      <td>MAJESTIK</td>\n",
       "      <td>Fishing</td>\n",
       "      <td>0.00</td>\n",
       "      <td>15</td>\n",
       "      <td>68</td>\n",
       "      <td>-124.6625</td>\n",
       "      <td>44.54570</td>\n",
       "      <td>203</td>\n",
       "      <td>200</td>\n",
       "      <td>2017-09-21 09:25:26</td>\n",
       "      <td>22.367608</td>\n",
       "      <td>26.324421</td>\n",
       "    </tr>\n",
       "  </tbody>\n",
       "</table>\n",
       "<p>1048574 rows × 14 columns</p>\n",
       "</div>"
      ],
      "text/plain": [
       "              MMSI      IMO  VESSEL NAME      VESSEL TYPE  LENGTH  STATUS  \\\n",
       "0        367341970        0  MISS BERDIE      Unspecified   28.00      15   \n",
       "1        366934770        0    NOAHS ARK          Fishing    0.00      15   \n",
       "2        368572000  7534646      PEGASUS   Fishing Vessel   27.04      15   \n",
       "3        367341970        0  MISS BERDIE      Unspecified   28.00      15   \n",
       "4        366207630        0     MISS SUE          Fishing    0.00      15   \n",
       "...            ...      ...          ...              ...     ...     ...   \n",
       "1048569  338494100  8886979  PACIFIC RAM  Factory Trawler   22.00      15   \n",
       "1048570  369493030        0      CG47268              SAR   14.00       5   \n",
       "1048571  368572000  7534646      PEGASUS   Fishing Vessel   27.04      15   \n",
       "1048572  366804620  8115992    EXCALIBUR          Trawler   22.86       7   \n",
       "1048573  367338320        0     MAJESTIK          Fishing    0.00      15   \n",
       "\n",
       "         SPEED (KNOTSx10)       LON       LAT  COURSE  HEADING  \\\n",
       "0                      90 -124.2679  44.52745      54       50   \n",
       "1                      85 -124.1057  44.61136     129      511   \n",
       "2                      41 -124.8357  44.33352     239      266   \n",
       "3                      90 -124.2622  44.53029      54       50   \n",
       "4                       0 -124.0551  44.62774     169      511   \n",
       "...                   ...       ...       ...     ...      ...   \n",
       "1048569                32 -124.4123  44.55890     267      260   \n",
       "1048570                 0 -124.0560  44.62598     334      511   \n",
       "1048571                63 -124.2493  44.57270     249      254   \n",
       "1048572                57 -124.1273  44.59623     248      236   \n",
       "1048573                68 -124.6625  44.54570     203      200   \n",
       "\n",
       "              TIMESTAMP UTC    offdist    slfdist  \n",
       "0       2015-01-09 00:00:02  25.540090  10.944711  \n",
       "1       2015-01-09 00:01:14  35.076412  16.327074  \n",
       "2       2015-01-09 00:01:15  14.983131  32.542546  \n",
       "3       2015-01-09 00:02:02  25.864779  11.021360  \n",
       "4       2015-01-09 00:02:38  37.589220  18.136246  \n",
       "...                     ...        ...        ...  \n",
       "1048569 2017-09-21 09:24:06  24.141683  16.727786  \n",
       "1048570 2017-09-21 09:24:21  37.470105  18.006870  \n",
       "1048571 2017-09-21 09:24:50  28.625680  13.624836  \n",
       "1048572 2017-09-21 09:25:11  33.588634  15.084787  \n",
       "1048573 2017-09-21 09:25:26  22.367608  26.324421  \n",
       "\n",
       "[1048574 rows x 14 columns]"
      ]
     },
     "execution_count": 10,
     "metadata": {},
     "output_type": "execute_result"
    }
   ],
   "source": [
    "ais"
   ]
  },
  {
   "cell_type": "code",
   "execution_count": 9,
   "id": "9f1206df",
   "metadata": {},
   "outputs": [
    {
     "data": {
      "text/html": [
       "<div>\n",
       "<style scoped>\n",
       "    .dataframe tbody tr th:only-of-type {\n",
       "        vertical-align: middle;\n",
       "    }\n",
       "\n",
       "    .dataframe tbody tr th {\n",
       "        vertical-align: top;\n",
       "    }\n",
       "\n",
       "    .dataframe thead th {\n",
       "        text-align: right;\n",
       "    }\n",
       "</style>\n",
       "<table border=\"1\" class=\"dataframe\">\n",
       "  <thead>\n",
       "    <tr style=\"text-align: right;\">\n",
       "      <th></th>\n",
       "      <th>index</th>\n",
       "      <th>MMSI</th>\n",
       "      <th>IMO</th>\n",
       "      <th>VESSEL NAME</th>\n",
       "      <th>VESSEL TYPE</th>\n",
       "      <th>LENGTH</th>\n",
       "      <th>STATUS</th>\n",
       "      <th>SPEED (KNOTSx10)</th>\n",
       "      <th>LON</th>\n",
       "      <th>LAT</th>\n",
       "      <th>COURSE</th>\n",
       "      <th>HEADING</th>\n",
       "      <th>TIMESTAMP UTC</th>\n",
       "      <th>offdist</th>\n",
       "      <th>slfdist</th>\n",
       "    </tr>\n",
       "  </thead>\n",
       "  <tbody>\n",
       "    <tr>\n",
       "      <th>0</th>\n",
       "      <td>615315</td>\n",
       "      <td>368578000</td>\n",
       "      <td>0</td>\n",
       "      <td>SEEKER</td>\n",
       "      <td>Fishing</td>\n",
       "      <td>30.00</td>\n",
       "      <td>7</td>\n",
       "      <td>40</td>\n",
       "      <td>-124.77790</td>\n",
       "      <td>44.49060</td>\n",
       "      <td>278</td>\n",
       "      <td>294</td>\n",
       "      <td>2016-10-31 05:50</td>\n",
       "      <td>20.792961</td>\n",
       "      <td>30.422608</td>\n",
       "    </tr>\n",
       "    <tr>\n",
       "      <th>1</th>\n",
       "      <td>615316</td>\n",
       "      <td>338494100</td>\n",
       "      <td>8886979</td>\n",
       "      <td>PACIFIC RAM</td>\n",
       "      <td>Factory Trawler</td>\n",
       "      <td>22.00</td>\n",
       "      <td>15</td>\n",
       "      <td>40</td>\n",
       "      <td>-124.20780</td>\n",
       "      <td>44.54380</td>\n",
       "      <td>227</td>\n",
       "      <td>511</td>\n",
       "      <td>2016-10-31 05:50</td>\n",
       "      <td>28.256513</td>\n",
       "      <td>11.290263</td>\n",
       "    </tr>\n",
       "    <tr>\n",
       "      <th>2</th>\n",
       "      <td>615317</td>\n",
       "      <td>366738920</td>\n",
       "      <td>7732690</td>\n",
       "      <td>LISA MELINDA</td>\n",
       "      <td>Fishing Vessel</td>\n",
       "      <td>24.10</td>\n",
       "      <td>0</td>\n",
       "      <td>47</td>\n",
       "      <td>-124.18890</td>\n",
       "      <td>44.55487</td>\n",
       "      <td>234</td>\n",
       "      <td>234</td>\n",
       "      <td>2016-10-31 05:50</td>\n",
       "      <td>29.441679</td>\n",
       "      <td>11.987849</td>\n",
       "    </tr>\n",
       "    <tr>\n",
       "      <th>3</th>\n",
       "      <td>615318</td>\n",
       "      <td>367341970</td>\n",
       "      <td>0</td>\n",
       "      <td>MISS BERDIE</td>\n",
       "      <td>Unspecified</td>\n",
       "      <td>28.00</td>\n",
       "      <td>15</td>\n",
       "      <td>18</td>\n",
       "      <td>-124.77790</td>\n",
       "      <td>44.59960</td>\n",
       "      <td>190</td>\n",
       "      <td>210</td>\n",
       "      <td>2016-10-31 05:50</td>\n",
       "      <td>27.591826</td>\n",
       "      <td>33.077808</td>\n",
       "    </tr>\n",
       "    <tr>\n",
       "      <th>4</th>\n",
       "      <td>615319</td>\n",
       "      <td>368555000</td>\n",
       "      <td>8720113</td>\n",
       "      <td>ARCTIC STORM</td>\n",
       "      <td>Factory Trawler</td>\n",
       "      <td>101.81</td>\n",
       "      <td>0</td>\n",
       "      <td>38</td>\n",
       "      <td>-124.80600</td>\n",
       "      <td>44.58489</td>\n",
       "      <td>191</td>\n",
       "      <td>511</td>\n",
       "      <td>2016-10-31 05:50</td>\n",
       "      <td>27.215086</td>\n",
       "      <td>33.889704</td>\n",
       "    </tr>\n",
       "    <tr>\n",
       "      <th>...</th>\n",
       "      <td>...</td>\n",
       "      <td>...</td>\n",
       "      <td>...</td>\n",
       "      <td>...</td>\n",
       "      <td>...</td>\n",
       "      <td>...</td>\n",
       "      <td>...</td>\n",
       "      <td>...</td>\n",
       "      <td>...</td>\n",
       "      <td>...</td>\n",
       "      <td>...</td>\n",
       "      <td>...</td>\n",
       "      <td>...</td>\n",
       "      <td>...</td>\n",
       "      <td>...</td>\n",
       "    </tr>\n",
       "    <tr>\n",
       "      <th>577</th>\n",
       "      <td>577</td>\n",
       "      <td>0</td>\n",
       "      <td>0</td>\n",
       "      <td>offshore hydrophone2016-10-31 06:49:10</td>\n",
       "      <td>offshore hydrophone</td>\n",
       "      <td>0.00</td>\n",
       "      <td>0</td>\n",
       "      <td>10</td>\n",
       "      <td>-124.57144</td>\n",
       "      <td>44.22840</td>\n",
       "      <td>0</td>\n",
       "      <td>0</td>\n",
       "      <td>2016-10-31 06:40</td>\n",
       "      <td>0.000000</td>\n",
       "      <td>0.000000</td>\n",
       "    </tr>\n",
       "    <tr>\n",
       "      <th>578</th>\n",
       "      <td>578</td>\n",
       "      <td>0</td>\n",
       "      <td>0</td>\n",
       "      <td>shelf hydrophone2016-10-31 06:49:26</td>\n",
       "      <td>shelf hydrophone</td>\n",
       "      <td>0.00</td>\n",
       "      <td>0</td>\n",
       "      <td>0</td>\n",
       "      <td>-124.18216</td>\n",
       "      <td>44.38132</td>\n",
       "      <td>0</td>\n",
       "      <td>0</td>\n",
       "      <td>2016-10-31 06:40</td>\n",
       "      <td>0.000000</td>\n",
       "      <td>0.000000</td>\n",
       "    </tr>\n",
       "    <tr>\n",
       "      <th>579</th>\n",
       "      <td>579</td>\n",
       "      <td>0</td>\n",
       "      <td>0</td>\n",
       "      <td>offshore hydrophone2016-10-31 06:49:26</td>\n",
       "      <td>offshore hydrophone</td>\n",
       "      <td>0.00</td>\n",
       "      <td>0</td>\n",
       "      <td>10</td>\n",
       "      <td>-124.57144</td>\n",
       "      <td>44.22840</td>\n",
       "      <td>0</td>\n",
       "      <td>0</td>\n",
       "      <td>2016-10-31 06:40</td>\n",
       "      <td>0.000000</td>\n",
       "      <td>0.000000</td>\n",
       "    </tr>\n",
       "    <tr>\n",
       "      <th>580</th>\n",
       "      <td>580</td>\n",
       "      <td>0</td>\n",
       "      <td>0</td>\n",
       "      <td>shelf hydrophone2016-10-31 06:49:53</td>\n",
       "      <td>shelf hydrophone</td>\n",
       "      <td>0.00</td>\n",
       "      <td>0</td>\n",
       "      <td>0</td>\n",
       "      <td>-124.18216</td>\n",
       "      <td>44.38132</td>\n",
       "      <td>0</td>\n",
       "      <td>0</td>\n",
       "      <td>2016-10-31 06:40</td>\n",
       "      <td>0.000000</td>\n",
       "      <td>0.000000</td>\n",
       "    </tr>\n",
       "    <tr>\n",
       "      <th>581</th>\n",
       "      <td>581</td>\n",
       "      <td>0</td>\n",
       "      <td>0</td>\n",
       "      <td>offshore hydrophone2016-10-31 06:49:53</td>\n",
       "      <td>offshore hydrophone</td>\n",
       "      <td>0.00</td>\n",
       "      <td>0</td>\n",
       "      <td>10</td>\n",
       "      <td>-124.57144</td>\n",
       "      <td>44.22840</td>\n",
       "      <td>0</td>\n",
       "      <td>0</td>\n",
       "      <td>2016-10-31 06:40</td>\n",
       "      <td>0.000000</td>\n",
       "      <td>0.000000</td>\n",
       "    </tr>\n",
       "  </tbody>\n",
       "</table>\n",
       "<p>582 rows × 15 columns</p>\n",
       "</div>"
      ],
      "text/plain": [
       "      index       MMSI      IMO                             VESSEL NAME  \\\n",
       "0    615315  368578000        0                                  SEEKER   \n",
       "1    615316  338494100  8886979                             PACIFIC RAM   \n",
       "2    615317  366738920  7732690                            LISA MELINDA   \n",
       "3    615318  367341970        0                             MISS BERDIE   \n",
       "4    615319  368555000  8720113                            ARCTIC STORM   \n",
       "..      ...        ...      ...                                     ...   \n",
       "577     577          0        0  offshore hydrophone2016-10-31 06:49:10   \n",
       "578     578          0        0     shelf hydrophone2016-10-31 06:49:26   \n",
       "579     579          0        0  offshore hydrophone2016-10-31 06:49:26   \n",
       "580     580          0        0     shelf hydrophone2016-10-31 06:49:53   \n",
       "581     581          0        0  offshore hydrophone2016-10-31 06:49:53   \n",
       "\n",
       "             VESSEL TYPE  LENGTH  STATUS  SPEED (KNOTSx10)        LON  \\\n",
       "0                Fishing   30.00       7                40 -124.77790   \n",
       "1        Factory Trawler   22.00      15                40 -124.20780   \n",
       "2         Fishing Vessel   24.10       0                47 -124.18890   \n",
       "3            Unspecified   28.00      15                18 -124.77790   \n",
       "4        Factory Trawler  101.81       0                38 -124.80600   \n",
       "..                   ...     ...     ...               ...        ...   \n",
       "577  offshore hydrophone    0.00       0                10 -124.57144   \n",
       "578     shelf hydrophone    0.00       0                 0 -124.18216   \n",
       "579  offshore hydrophone    0.00       0                10 -124.57144   \n",
       "580     shelf hydrophone    0.00       0                 0 -124.18216   \n",
       "581  offshore hydrophone    0.00       0                10 -124.57144   \n",
       "\n",
       "          LAT  COURSE  HEADING     TIMESTAMP UTC    offdist    slfdist  \n",
       "0    44.49060     278      294  2016-10-31 05:50  20.792961  30.422608  \n",
       "1    44.54380     227      511  2016-10-31 05:50  28.256513  11.290263  \n",
       "2    44.55487     234      234  2016-10-31 05:50  29.441679  11.987849  \n",
       "3    44.59960     190      210  2016-10-31 05:50  27.591826  33.077808  \n",
       "4    44.58489     191      511  2016-10-31 05:50  27.215086  33.889704  \n",
       "..        ...     ...      ...               ...        ...        ...  \n",
       "577  44.22840       0        0  2016-10-31 06:40   0.000000   0.000000  \n",
       "578  44.38132       0        0  2016-10-31 06:40   0.000000   0.000000  \n",
       "579  44.22840       0        0  2016-10-31 06:40   0.000000   0.000000  \n",
       "580  44.38132       0        0  2016-10-31 06:40   0.000000   0.000000  \n",
       "581  44.22840       0        0  2016-10-31 06:40   0.000000   0.000000  \n",
       "\n",
       "[582 rows x 15 columns]"
      ]
     },
     "execution_count": 9,
     "metadata": {},
     "output_type": "execute_result"
    }
   ],
   "source": [
    "subais"
   ]
  },
  {
   "cell_type": "code",
   "execution_count": 8,
   "id": "981a40df",
   "metadata": {},
   "outputs": [
    {
     "name": "stderr",
     "output_type": "stream",
     "text": [
      "c:\\Users\\UserALai\\miniconda3\\lib\\site-packages\\pandas\\core\\indexing.py:723: SettingWithCopyWarning:\n",
      "\n",
      "\n",
      "A value is trying to be set on a copy of a slice from a DataFrame\n",
      "\n",
      "See the caveats in the documentation: https://pandas.pydata.org/pandas-docs/stable/user_guide/indexing.html#returning-a-view-versus-a-copy\n",
      "\n"
     ]
    },
    {
     "data": {
      "application/vnd.plotly.v1+json": {
       "config": {
        "plotlyServerURL": "https://plot.ly"
       },
       "data": [
        {
         "customdata": [
          [
           40,
           30.42260778929539
          ],
          [
           55,
           30.5614697004986
          ],
          [
           53,
           30.326322629229736
          ],
          [
           55,
           30.203646460330997
          ]
         ],
         "hovertemplate": "<b>%{hovertext}</b><br><br>VESSEL NAME=SEEKER<br>animation_frame=2016-10-31 05:50<br>LAT=%{lat}<br>LON=%{lon}<br>SPEED (KNOTSx10)=%{customdata[0]}<br>slfdist=%{customdata[1]}<extra></extra>",
         "hovertext": [
          "Fishing",
          "Fishing",
          "Fishing",
          "Fishing"
         ],
         "lat": [
          44.4906,
          44.49451,
          44.49715,
          44.50035
         ],
         "legendgroup": "SEEKER",
         "lon": [
          -124.7779,
          -124.7794,
          -124.7735,
          -124.7697
         ],
         "marker": {
          "color": "#636efa"
         },
         "mode": "markers",
         "name": "SEEKER",
         "showlegend": true,
         "subplot": "mapbox",
         "type": "scattermapbox"
        },
        {
         "customdata": [
          [
           40,
           11.290262854632205
          ],
          [
           46,
           11.175804695192875
          ],
          [
           43,
           10.995571992842619
          ],
          [
           53,
           10.866274212244539
          ]
         ],
         "hovertemplate": "<b>%{hovertext}</b><br><br>VESSEL NAME=PACIFIC RAM<br>animation_frame=2016-10-31 05:50<br>LAT=%{lat}<br>LON=%{lon}<br>SPEED (KNOTSx10)=%{customdata[0]}<br>slfdist=%{customdata[1]}<extra></extra>",
         "hovertext": [
          "Factory Trawler",
          "Factory Trawler",
          "Factory Trawler",
          "Factory Trawler"
         ],
         "lat": [
          44.5438,
          44.54189,
          44.53882,
          44.53661
         ],
         "legendgroup": "PACIFIC RAM",
         "lon": [
          -124.2078,
          -124.2106,
          -124.215,
          -124.2178
         ],
         "marker": {
          "color": "#EF553B"
         },
         "mode": "markers",
         "name": "PACIFIC RAM",
         "showlegend": true,
         "subplot": "mapbox",
         "type": "scattermapbox"
        },
        {
         "customdata": [
          [
           47,
           11.987848686873296
          ],
          [
           46,
           11.879253111642914
          ],
          [
           48,
           11.754681622855616
          ],
          [
           53,
           11.6546331507155
          ]
         ],
         "hovertemplate": "<b>%{hovertext}</b><br><br>VESSEL NAME=LISA MELINDA<br>animation_frame=2016-10-31 05:50<br>LAT=%{lat}<br>LON=%{lon}<br>SPEED (KNOTSx10)=%{customdata[0]}<br>slfdist=%{customdata[1]}<extra></extra>",
         "hovertext": [
          "Fishing Vessel",
          "Fishing Vessel",
          "Fishing Vessel",
          "Fishing Vessel"
         ],
         "lat": [
          44.55487,
          44.55322,
          44.5513,
          44.54972
         ],
         "legendgroup": "LISA MELINDA",
         "lon": [
          -124.1889,
          -124.192,
          -124.1953,
          -124.1982
         ],
         "marker": {
          "color": "#00cc96"
         },
         "mode": "markers",
         "name": "LISA MELINDA",
         "showlegend": true,
         "subplot": "mapbox",
         "type": "scattermapbox"
        },
        {
         "customdata": [
          [
           18,
           33.07780815626153
          ],
          [
           22,
           33.076580197969555
          ],
          [
           19,
           33.064756498356104
          ]
         ],
         "hovertemplate": "<b>%{hovertext}</b><br><br>VESSEL NAME=MISS BERDIE<br>animation_frame=2016-10-31 05:50<br>LAT=%{lat}<br>LON=%{lon}<br>SPEED (KNOTSx10)=%{customdata[0]}<br>slfdist=%{customdata[1]}<extra></extra>",
         "hovertext": [
          "Unspecified",
          "Unspecified",
          "Unspecified"
         ],
         "lat": [
          44.5996,
          44.59843,
          44.59748
         ],
         "legendgroup": "MISS BERDIE",
         "lon": [
          -124.7779,
          -124.7787,
          -124.7791
         ],
         "marker": {
          "color": "#ab63fa"
         },
         "mode": "markers",
         "name": "MISS BERDIE",
         "showlegend": true,
         "subplot": "mapbox",
         "type": "scattermapbox"
        },
        {
         "customdata": [
          [
           38,
           33.8897036777163
          ],
          [
           34,
           33.87092769988182
          ],
          [
           38,
           33.87949900223709
          ],
          [
           37,
           33.894768283203454
          ]
         ],
         "hovertemplate": "<b>%{hovertext}</b><br><br>VESSEL NAME=ARCTIC STORM<br>animation_frame=2016-10-31 05:50<br>LAT=%{lat}<br>LON=%{lon}<br>SPEED (KNOTSx10)=%{customdata[0]}<br>slfdist=%{customdata[1]}<extra></extra>",
         "hovertext": [
          "Factory Trawler",
          "Factory Trawler",
          "Factory Trawler",
          "Factory Trawler"
         ],
         "lat": [
          44.58489,
          44.58231,
          44.58019,
          44.57812
         ],
         "legendgroup": "ARCTIC STORM",
         "lon": [
          -124.806,
          -124.8072,
          -124.8087,
          -124.8103
         ],
         "marker": {
          "color": "#FFA15A"
         },
         "mode": "markers",
         "name": "ARCTIC STORM",
         "showlegend": true,
         "subplot": "mapbox",
         "type": "scattermapbox"
        },
        {
         "customdata": [
          [
           95,
           13.117994791807742
          ],
          [
           90,
           13.498726529136908
          ]
         ],
         "hovertemplate": "<b>%{hovertext}</b><br><br>VESSEL NAME=KEN & AL<br>animation_frame=2016-10-31 05:50<br>LAT=%{lat}<br>LON=%{lon}<br>SPEED (KNOTSx10)=%{customdata[0]}<br>slfdist=%{customdata[1]}<extra></extra>",
         "hovertext": [
          "Fishing",
          "Fishing"
         ],
         "lat": [
          44.54438,
          44.55094
         ],
         "legendgroup": "KEN & AL",
         "lon": [
          -124.3183,
          -124.3179
         ],
         "marker": {
          "color": "#19d3f3"
         },
         "mode": "markers",
         "name": "KEN & AL",
         "showlegend": true,
         "subplot": "mapbox",
         "type": "scattermapbox"
        },
        {
         "customdata": [
          [
           76,
           16.674219632348613
          ],
          [
           77,
           16.48076618196575
          ],
          [
           88,
           16.311035500423156
          ]
         ],
         "hovertemplate": "<b>%{hovertext}</b><br><br>VESSEL NAME=NORTHERN RAM<br>animation_frame=2016-10-31 05:50<br>LAT=%{lat}<br>LON=%{lon}<br>SPEED (KNOTSx10)=%{customdata[0]}<br>slfdist=%{customdata[1]}<extra></extra>",
         "hovertext": [
          "Fishing",
          "Fishing",
          "Fishing"
         ],
         "lat": [
          44.55013,
          44.55155,
          44.55297
         ],
         "legendgroup": "NORTHERN RAM",
         "lon": [
          -124.4233,
          -124.4158,
          -124.4088
         ],
         "marker": {
          "color": "#FF6692"
         },
         "mode": "markers",
         "name": "NORTHERN RAM",
         "showlegend": true,
         "subplot": "mapbox",
         "type": "scattermapbox"
        },
        {
         "customdata": [
          [
           29,
           16.631253079784017
          ],
          [
           34,
           16.706340667973556
          ],
          [
           32,
           16.7827706862921
          ]
         ],
         "hovertemplate": "<b>%{hovertext}</b><br><br>VESSEL NAME=SEA STORM<br>animation_frame=2016-10-31 05:50<br>LAT=%{lat}<br>LON=%{lon}<br>SPEED (KNOTSx10)=%{customdata[0]}<br>slfdist=%{customdata[1]}<extra></extra>",
         "hovertext": [
          "Trawler",
          "Trawler",
          "Trawler"
         ],
         "lat": [
          44.57178,
          44.57137,
          44.57102
         ],
         "legendgroup": "SEA STORM",
         "lon": [
          -124.3881,
          -124.3913,
          -124.3944
         ],
         "marker": {
          "color": "#B6E880"
         },
         "mode": "markers",
         "name": "SEA STORM",
         "showlegend": true,
         "subplot": "mapbox",
         "type": "scattermapbox"
        },
        {
         "customdata": [
          [
           0,
           18.206927813809813
          ]
         ],
         "hovertemplate": "<b>%{hovertext}</b><br><br>VESSEL NAME=PEGASUS<br>animation_frame=2016-10-31 05:50<br>LAT=%{lat}<br>LON=%{lon}<br>SPEED (KNOTSx10)=%{customdata[0]}<br>slfdist=%{customdata[1]}<extra></extra>",
         "hovertext": [
          "Fishing Vessel"
         ],
         "lat": [
          44.62862
         ],
         "legendgroup": "PEGASUS",
         "lon": [
          -124.0543
         ],
         "marker": {
          "color": "#FF97FF"
         },
         "mode": "markers",
         "name": "PEGASUS",
         "showlegend": true,
         "subplot": "mapbox",
         "type": "scattermapbox"
        },
        {
         "customdata": [
          [
           0,
           18.231074077249943
          ]
         ],
         "hovertemplate": "<b>%{hovertext}</b><br><br>VESSEL NAME=WINONA J<br>animation_frame=2016-10-31 05:50<br>LAT=%{lat}<br>LON=%{lon}<br>SPEED (KNOTSx10)=%{customdata[0]}<br>slfdist=%{customdata[1]}<extra></extra>",
         "hovertext": [
          "Fishing"
         ],
         "lat": [
          44.62894
         ],
         "legendgroup": "WINONA J",
         "lon": [
          -124.0541
         ],
         "marker": {
          "color": "#FECB52"
         },
         "mode": "markers",
         "name": "WINONA J",
         "showlegend": true,
         "subplot": "mapbox",
         "type": "scattermapbox"
        },
        {
         "customdata": [
          [
           39,
           29.09305937436625
          ]
         ],
         "hovertemplate": "<b>%{hovertext}</b><br><br>VESSEL NAME=SEADAWN<br>animation_frame=2016-10-31 05:50<br>LAT=%{lat}<br>LON=%{lon}<br>SPEED (KNOTSx10)=%{customdata[0]}<br>slfdist=%{customdata[1]}<extra></extra>",
         "hovertext": [
          "Fishing"
         ],
         "lat": [
          44.54671
         ],
         "legendgroup": "SEADAWN",
         "lon": [
          -124.7233
         ],
         "marker": {
          "color": "#636efa"
         },
         "mode": "markers",
         "name": "SEADAWN",
         "showlegend": true,
         "subplot": "mapbox",
         "type": "scattermapbox"
        },
        {
         "customdata": [
          [
           0,
           0
          ]
         ],
         "hovertemplate": "<b>%{hovertext}</b><br><br>VESSEL NAME=shelf hydrophone2016-10-31 05:50:25<br>animation_frame=2016-10-31 05:50<br>LAT=%{lat}<br>LON=%{lon}<br>SPEED (KNOTSx10)=%{customdata[0]}<br>slfdist=%{customdata[1]}<extra></extra>",
         "hovertext": [
          "shelf hydrophone"
         ],
         "lat": [
          44.38132
         ],
         "legendgroup": "shelf hydrophone2016-10-31 05:50:25",
         "lon": [
          -124.18216
         ],
         "marker": {
          "color": "#00cc96"
         },
         "mode": "markers",
         "name": "shelf hydrophone2016-10-31 05:50:25",
         "showlegend": true,
         "subplot": "mapbox",
         "type": "scattermapbox"
        },
        {
         "customdata": [
          [
           10,
           0
          ]
         ],
         "hovertemplate": "<b>%{hovertext}</b><br><br>VESSEL NAME=offshore hydrophone2016-10-31 05:50:25<br>animation_frame=2016-10-31 05:50<br>LAT=%{lat}<br>LON=%{lon}<br>SPEED (KNOTSx10)=%{customdata[0]}<br>slfdist=%{customdata[1]}<extra></extra>",
         "hovertext": [
          "offshore hydrophone"
         ],
         "lat": [
          44.2284
         ],
         "legendgroup": "offshore hydrophone2016-10-31 05:50:25",
         "lon": [
          -124.57144
         ],
         "marker": {
          "color": "#ab63fa"
         },
         "mode": "markers",
         "name": "offshore hydrophone2016-10-31 05:50:25",
         "showlegend": true,
         "subplot": "mapbox",
         "type": "scattermapbox"
        },
        {
         "customdata": [
          [
           0,
           0
          ]
         ],
         "hovertemplate": "<b>%{hovertext}</b><br><br>VESSEL NAME=shelf hydrophone2016-10-31 05:51:03<br>animation_frame=2016-10-31 05:50<br>LAT=%{lat}<br>LON=%{lon}<br>SPEED (KNOTSx10)=%{customdata[0]}<br>slfdist=%{customdata[1]}<extra></extra>",
         "hovertext": [
          "shelf hydrophone"
         ],
         "lat": [
          44.38132
         ],
         "legendgroup": "shelf hydrophone2016-10-31 05:51:03",
         "lon": [
          -124.18216
         ],
         "marker": {
          "color": "#FFA15A"
         },
         "mode": "markers",
         "name": "shelf hydrophone2016-10-31 05:51:03",
         "showlegend": true,
         "subplot": "mapbox",
         "type": "scattermapbox"
        },
        {
         "customdata": [
          [
           10,
           0
          ]
         ],
         "hovertemplate": "<b>%{hovertext}</b><br><br>VESSEL NAME=offshore hydrophone2016-10-31 05:51:03<br>animation_frame=2016-10-31 05:50<br>LAT=%{lat}<br>LON=%{lon}<br>SPEED (KNOTSx10)=%{customdata[0]}<br>slfdist=%{customdata[1]}<extra></extra>",
         "hovertext": [
          "offshore hydrophone"
         ],
         "lat": [
          44.2284
         ],
         "legendgroup": "offshore hydrophone2016-10-31 05:51:03",
         "lon": [
          -124.57144
         ],
         "marker": {
          "color": "#19d3f3"
         },
         "mode": "markers",
         "name": "offshore hydrophone2016-10-31 05:51:03",
         "showlegend": true,
         "subplot": "mapbox",
         "type": "scattermapbox"
        },
        {
         "customdata": [
          [
           0,
           0
          ]
         ],
         "hovertemplate": "<b>%{hovertext}</b><br><br>VESSEL NAME=shelf hydrophone2016-10-31 05:51:24<br>animation_frame=2016-10-31 05:50<br>LAT=%{lat}<br>LON=%{lon}<br>SPEED (KNOTSx10)=%{customdata[0]}<br>slfdist=%{customdata[1]}<extra></extra>",
         "hovertext": [
          "shelf hydrophone"
         ],
         "lat": [
          44.38132
         ],
         "legendgroup": "shelf hydrophone2016-10-31 05:51:24",
         "lon": [
          -124.18216
         ],
         "marker": {
          "color": "#FF6692"
         },
         "mode": "markers",
         "name": "shelf hydrophone2016-10-31 05:51:24",
         "showlegend": true,
         "subplot": "mapbox",
         "type": "scattermapbox"
        },
        {
         "customdata": [
          [
           10,
           0
          ]
         ],
         "hovertemplate": "<b>%{hovertext}</b><br><br>VESSEL NAME=offshore hydrophone2016-10-31 05:51:24<br>animation_frame=2016-10-31 05:50<br>LAT=%{lat}<br>LON=%{lon}<br>SPEED (KNOTSx10)=%{customdata[0]}<br>slfdist=%{customdata[1]}<extra></extra>",
         "hovertext": [
          "offshore hydrophone"
         ],
         "lat": [
          44.2284
         ],
         "legendgroup": "offshore hydrophone2016-10-31 05:51:24",
         "lon": [
          -124.57144
         ],
         "marker": {
          "color": "#B6E880"
         },
         "mode": "markers",
         "name": "offshore hydrophone2016-10-31 05:51:24",
         "showlegend": true,
         "subplot": "mapbox",
         "type": "scattermapbox"
        },
        {
         "customdata": [
          [
           0,
           0
          ]
         ],
         "hovertemplate": "<b>%{hovertext}</b><br><br>VESSEL NAME=shelf hydrophone2016-10-31 05:51:29<br>animation_frame=2016-10-31 05:50<br>LAT=%{lat}<br>LON=%{lon}<br>SPEED (KNOTSx10)=%{customdata[0]}<br>slfdist=%{customdata[1]}<extra></extra>",
         "hovertext": [
          "shelf hydrophone"
         ],
         "lat": [
          44.38132
         ],
         "legendgroup": "shelf hydrophone2016-10-31 05:51:29",
         "lon": [
          -124.18216
         ],
         "marker": {
          "color": "#FF97FF"
         },
         "mode": "markers",
         "name": "shelf hydrophone2016-10-31 05:51:29",
         "showlegend": true,
         "subplot": "mapbox",
         "type": "scattermapbox"
        },
        {
         "customdata": [
          [
           10,
           0
          ]
         ],
         "hovertemplate": "<b>%{hovertext}</b><br><br>VESSEL NAME=offshore hydrophone2016-10-31 05:51:29<br>animation_frame=2016-10-31 05:50<br>LAT=%{lat}<br>LON=%{lon}<br>SPEED (KNOTSx10)=%{customdata[0]}<br>slfdist=%{customdata[1]}<extra></extra>",
         "hovertext": [
          "offshore hydrophone"
         ],
         "lat": [
          44.2284
         ],
         "legendgroup": "offshore hydrophone2016-10-31 05:51:29",
         "lon": [
          -124.57144
         ],
         "marker": {
          "color": "#FECB52"
         },
         "mode": "markers",
         "name": "offshore hydrophone2016-10-31 05:51:29",
         "showlegend": true,
         "subplot": "mapbox",
         "type": "scattermapbox"
        },
        {
         "customdata": [
          [
           0,
           0
          ]
         ],
         "hovertemplate": "<b>%{hovertext}</b><br><br>VESSEL NAME=shelf hydrophone2016-10-31 05:52:07<br>animation_frame=2016-10-31 05:50<br>LAT=%{lat}<br>LON=%{lon}<br>SPEED (KNOTSx10)=%{customdata[0]}<br>slfdist=%{customdata[1]}<extra></extra>",
         "hovertext": [
          "shelf hydrophone"
         ],
         "lat": [
          44.38132
         ],
         "legendgroup": "shelf hydrophone2016-10-31 05:52:07",
         "lon": [
          -124.18216
         ],
         "marker": {
          "color": "#636efa"
         },
         "mode": "markers",
         "name": "shelf hydrophone2016-10-31 05:52:07",
         "showlegend": true,
         "subplot": "mapbox",
         "type": "scattermapbox"
        },
        {
         "customdata": [
          [
           10,
           0
          ]
         ],
         "hovertemplate": "<b>%{hovertext}</b><br><br>VESSEL NAME=offshore hydrophone2016-10-31 05:52:07<br>animation_frame=2016-10-31 05:50<br>LAT=%{lat}<br>LON=%{lon}<br>SPEED (KNOTSx10)=%{customdata[0]}<br>slfdist=%{customdata[1]}<extra></extra>",
         "hovertext": [
          "offshore hydrophone"
         ],
         "lat": [
          44.2284
         ],
         "legendgroup": "offshore hydrophone2016-10-31 05:52:07",
         "lon": [
          -124.57144
         ],
         "marker": {
          "color": "#EF553B"
         },
         "mode": "markers",
         "name": "offshore hydrophone2016-10-31 05:52:07",
         "showlegend": true,
         "subplot": "mapbox",
         "type": "scattermapbox"
        },
        {
         "customdata": [
          [
           0,
           0
          ]
         ],
         "hovertemplate": "<b>%{hovertext}</b><br><br>VESSEL NAME=shelf hydrophone2016-10-31 05:52:36<br>animation_frame=2016-10-31 05:50<br>LAT=%{lat}<br>LON=%{lon}<br>SPEED (KNOTSx10)=%{customdata[0]}<br>slfdist=%{customdata[1]}<extra></extra>",
         "hovertext": [
          "shelf hydrophone"
         ],
         "lat": [
          44.38132
         ],
         "legendgroup": "shelf hydrophone2016-10-31 05:52:36",
         "lon": [
          -124.18216
         ],
         "marker": {
          "color": "#00cc96"
         },
         "mode": "markers",
         "name": "shelf hydrophone2016-10-31 05:52:36",
         "showlegend": true,
         "subplot": "mapbox",
         "type": "scattermapbox"
        },
        {
         "customdata": [
          [
           10,
           0
          ]
         ],
         "hovertemplate": "<b>%{hovertext}</b><br><br>VESSEL NAME=offshore hydrophone2016-10-31 05:52:36<br>animation_frame=2016-10-31 05:50<br>LAT=%{lat}<br>LON=%{lon}<br>SPEED (KNOTSx10)=%{customdata[0]}<br>slfdist=%{customdata[1]}<extra></extra>",
         "hovertext": [
          "offshore hydrophone"
         ],
         "lat": [
          44.2284
         ],
         "legendgroup": "offshore hydrophone2016-10-31 05:52:36",
         "lon": [
          -124.57144
         ],
         "marker": {
          "color": "#ab63fa"
         },
         "mode": "markers",
         "name": "offshore hydrophone2016-10-31 05:52:36",
         "showlegend": true,
         "subplot": "mapbox",
         "type": "scattermapbox"
        },
        {
         "customdata": [
          [
           0,
           0
          ]
         ],
         "hovertemplate": "<b>%{hovertext}</b><br><br>VESSEL NAME=shelf hydrophone2016-10-31 05:52:59<br>animation_frame=2016-10-31 05:50<br>LAT=%{lat}<br>LON=%{lon}<br>SPEED (KNOTSx10)=%{customdata[0]}<br>slfdist=%{customdata[1]}<extra></extra>",
         "hovertext": [
          "shelf hydrophone"
         ],
         "lat": [
          44.38132
         ],
         "legendgroup": "shelf hydrophone2016-10-31 05:52:59",
         "lon": [
          -124.18216
         ],
         "marker": {
          "color": "#FFA15A"
         },
         "mode": "markers",
         "name": "shelf hydrophone2016-10-31 05:52:59",
         "showlegend": true,
         "subplot": "mapbox",
         "type": "scattermapbox"
        },
        {
         "customdata": [
          [
           10,
           0
          ]
         ],
         "hovertemplate": "<b>%{hovertext}</b><br><br>VESSEL NAME=offshore hydrophone2016-10-31 05:52:59<br>animation_frame=2016-10-31 05:50<br>LAT=%{lat}<br>LON=%{lon}<br>SPEED (KNOTSx10)=%{customdata[0]}<br>slfdist=%{customdata[1]}<extra></extra>",
         "hovertext": [
          "offshore hydrophone"
         ],
         "lat": [
          44.2284
         ],
         "legendgroup": "offshore hydrophone2016-10-31 05:52:59",
         "lon": [
          -124.57144
         ],
         "marker": {
          "color": "#19d3f3"
         },
         "mode": "markers",
         "name": "offshore hydrophone2016-10-31 05:52:59",
         "showlegend": true,
         "subplot": "mapbox",
         "type": "scattermapbox"
        },
        {
         "customdata": [
          [
           0,
           0
          ]
         ],
         "hovertemplate": "<b>%{hovertext}</b><br><br>VESSEL NAME=shelf hydrophone2016-10-31 05:53:03<br>animation_frame=2016-10-31 05:50<br>LAT=%{lat}<br>LON=%{lon}<br>SPEED (KNOTSx10)=%{customdata[0]}<br>slfdist=%{customdata[1]}<extra></extra>",
         "hovertext": [
          "shelf hydrophone"
         ],
         "lat": [
          44.38132
         ],
         "legendgroup": "shelf hydrophone2016-10-31 05:53:03",
         "lon": [
          -124.18216
         ],
         "marker": {
          "color": "#FF6692"
         },
         "mode": "markers",
         "name": "shelf hydrophone2016-10-31 05:53:03",
         "showlegend": true,
         "subplot": "mapbox",
         "type": "scattermapbox"
        },
        {
         "customdata": [
          [
           10,
           0
          ]
         ],
         "hovertemplate": "<b>%{hovertext}</b><br><br>VESSEL NAME=offshore hydrophone2016-10-31 05:53:03<br>animation_frame=2016-10-31 05:50<br>LAT=%{lat}<br>LON=%{lon}<br>SPEED (KNOTSx10)=%{customdata[0]}<br>slfdist=%{customdata[1]}<extra></extra>",
         "hovertext": [
          "offshore hydrophone"
         ],
         "lat": [
          44.2284
         ],
         "legendgroup": "offshore hydrophone2016-10-31 05:53:03",
         "lon": [
          -124.57144
         ],
         "marker": {
          "color": "#B6E880"
         },
         "mode": "markers",
         "name": "offshore hydrophone2016-10-31 05:53:03",
         "showlegend": true,
         "subplot": "mapbox",
         "type": "scattermapbox"
        },
        {
         "customdata": [
          [
           0,
           0
          ]
         ],
         "hovertemplate": "<b>%{hovertext}</b><br><br>VESSEL NAME=shelf hydrophone2016-10-31 05:53:26<br>animation_frame=2016-10-31 05:50<br>LAT=%{lat}<br>LON=%{lon}<br>SPEED (KNOTSx10)=%{customdata[0]}<br>slfdist=%{customdata[1]}<extra></extra>",
         "hovertext": [
          "shelf hydrophone"
         ],
         "lat": [
          44.38132
         ],
         "legendgroup": "shelf hydrophone2016-10-31 05:53:26",
         "lon": [
          -124.18216
         ],
         "marker": {
          "color": "#FF97FF"
         },
         "mode": "markers",
         "name": "shelf hydrophone2016-10-31 05:53:26",
         "showlegend": true,
         "subplot": "mapbox",
         "type": "scattermapbox"
        },
        {
         "customdata": [
          [
           10,
           0
          ]
         ],
         "hovertemplate": "<b>%{hovertext}</b><br><br>VESSEL NAME=offshore hydrophone2016-10-31 05:53:26<br>animation_frame=2016-10-31 05:50<br>LAT=%{lat}<br>LON=%{lon}<br>SPEED (KNOTSx10)=%{customdata[0]}<br>slfdist=%{customdata[1]}<extra></extra>",
         "hovertext": [
          "offshore hydrophone"
         ],
         "lat": [
          44.2284
         ],
         "legendgroup": "offshore hydrophone2016-10-31 05:53:26",
         "lon": [
          -124.57144
         ],
         "marker": {
          "color": "#FECB52"
         },
         "mode": "markers",
         "name": "offshore hydrophone2016-10-31 05:53:26",
         "showlegend": true,
         "subplot": "mapbox",
         "type": "scattermapbox"
        },
        {
         "customdata": [
          [
           0,
           0
          ]
         ],
         "hovertemplate": "<b>%{hovertext}</b><br><br>VESSEL NAME=shelf hydrophone2016-10-31 05:53:31<br>animation_frame=2016-10-31 05:50<br>LAT=%{lat}<br>LON=%{lon}<br>SPEED (KNOTSx10)=%{customdata[0]}<br>slfdist=%{customdata[1]}<extra></extra>",
         "hovertext": [
          "shelf hydrophone"
         ],
         "lat": [
          44.38132
         ],
         "legendgroup": "shelf hydrophone2016-10-31 05:53:31",
         "lon": [
          -124.18216
         ],
         "marker": {
          "color": "#636efa"
         },
         "mode": "markers",
         "name": "shelf hydrophone2016-10-31 05:53:31",
         "showlegend": true,
         "subplot": "mapbox",
         "type": "scattermapbox"
        },
        {
         "customdata": [
          [
           10,
           0
          ]
         ],
         "hovertemplate": "<b>%{hovertext}</b><br><br>VESSEL NAME=offshore hydrophone2016-10-31 05:53:31<br>animation_frame=2016-10-31 05:50<br>LAT=%{lat}<br>LON=%{lon}<br>SPEED (KNOTSx10)=%{customdata[0]}<br>slfdist=%{customdata[1]}<extra></extra>",
         "hovertext": [
          "offshore hydrophone"
         ],
         "lat": [
          44.2284
         ],
         "legendgroup": "offshore hydrophone2016-10-31 05:53:31",
         "lon": [
          -124.57144
         ],
         "marker": {
          "color": "#EF553B"
         },
         "mode": "markers",
         "name": "offshore hydrophone2016-10-31 05:53:31",
         "showlegend": true,
         "subplot": "mapbox",
         "type": "scattermapbox"
        },
        {
         "customdata": [
          [
           0,
           0
          ]
         ],
         "hovertemplate": "<b>%{hovertext}</b><br><br>VESSEL NAME=shelf hydrophone2016-10-31 05:53:44<br>animation_frame=2016-10-31 05:50<br>LAT=%{lat}<br>LON=%{lon}<br>SPEED (KNOTSx10)=%{customdata[0]}<br>slfdist=%{customdata[1]}<extra></extra>",
         "hovertext": [
          "shelf hydrophone"
         ],
         "lat": [
          44.38132
         ],
         "legendgroup": "shelf hydrophone2016-10-31 05:53:44",
         "lon": [
          -124.18216
         ],
         "marker": {
          "color": "#00cc96"
         },
         "mode": "markers",
         "name": "shelf hydrophone2016-10-31 05:53:44",
         "showlegend": true,
         "subplot": "mapbox",
         "type": "scattermapbox"
        },
        {
         "customdata": [
          [
           10,
           0
          ]
         ],
         "hovertemplate": "<b>%{hovertext}</b><br><br>VESSEL NAME=offshore hydrophone2016-10-31 05:53:44<br>animation_frame=2016-10-31 05:50<br>LAT=%{lat}<br>LON=%{lon}<br>SPEED (KNOTSx10)=%{customdata[0]}<br>slfdist=%{customdata[1]}<extra></extra>",
         "hovertext": [
          "offshore hydrophone"
         ],
         "lat": [
          44.2284
         ],
         "legendgroup": "offshore hydrophone2016-10-31 05:53:44",
         "lon": [
          -124.57144
         ],
         "marker": {
          "color": "#ab63fa"
         },
         "mode": "markers",
         "name": "offshore hydrophone2016-10-31 05:53:44",
         "showlegend": true,
         "subplot": "mapbox",
         "type": "scattermapbox"
        },
        {
         "customdata": [
          [
           0,
           0
          ]
         ],
         "hovertemplate": "<b>%{hovertext}</b><br><br>VESSEL NAME=shelf hydrophone2016-10-31 05:54:09<br>animation_frame=2016-10-31 05:50<br>LAT=%{lat}<br>LON=%{lon}<br>SPEED (KNOTSx10)=%{customdata[0]}<br>slfdist=%{customdata[1]}<extra></extra>",
         "hovertext": [
          "shelf hydrophone"
         ],
         "lat": [
          44.38132
         ],
         "legendgroup": "shelf hydrophone2016-10-31 05:54:09",
         "lon": [
          -124.18216
         ],
         "marker": {
          "color": "#FFA15A"
         },
         "mode": "markers",
         "name": "shelf hydrophone2016-10-31 05:54:09",
         "showlegend": true,
         "subplot": "mapbox",
         "type": "scattermapbox"
        },
        {
         "customdata": [
          [
           10,
           0
          ]
         ],
         "hovertemplate": "<b>%{hovertext}</b><br><br>VESSEL NAME=offshore hydrophone2016-10-31 05:54:09<br>animation_frame=2016-10-31 05:50<br>LAT=%{lat}<br>LON=%{lon}<br>SPEED (KNOTSx10)=%{customdata[0]}<br>slfdist=%{customdata[1]}<extra></extra>",
         "hovertext": [
          "offshore hydrophone"
         ],
         "lat": [
          44.2284
         ],
         "legendgroup": "offshore hydrophone2016-10-31 05:54:09",
         "lon": [
          -124.57144
         ],
         "marker": {
          "color": "#19d3f3"
         },
         "mode": "markers",
         "name": "offshore hydrophone2016-10-31 05:54:09",
         "showlegend": true,
         "subplot": "mapbox",
         "type": "scattermapbox"
        },
        {
         "customdata": [
          [
           0,
           0
          ]
         ],
         "hovertemplate": "<b>%{hovertext}</b><br><br>VESSEL NAME=shelf hydrophone2016-10-31 05:54:47<br>animation_frame=2016-10-31 05:50<br>LAT=%{lat}<br>LON=%{lon}<br>SPEED (KNOTSx10)=%{customdata[0]}<br>slfdist=%{customdata[1]}<extra></extra>",
         "hovertext": [
          "shelf hydrophone"
         ],
         "lat": [
          44.38132
         ],
         "legendgroup": "shelf hydrophone2016-10-31 05:54:47",
         "lon": [
          -124.18216
         ],
         "marker": {
          "color": "#FF6692"
         },
         "mode": "markers",
         "name": "shelf hydrophone2016-10-31 05:54:47",
         "showlegend": true,
         "subplot": "mapbox",
         "type": "scattermapbox"
        },
        {
         "customdata": [
          [
           10,
           0
          ]
         ],
         "hovertemplate": "<b>%{hovertext}</b><br><br>VESSEL NAME=offshore hydrophone2016-10-31 05:54:47<br>animation_frame=2016-10-31 05:50<br>LAT=%{lat}<br>LON=%{lon}<br>SPEED (KNOTSx10)=%{customdata[0]}<br>slfdist=%{customdata[1]}<extra></extra>",
         "hovertext": [
          "offshore hydrophone"
         ],
         "lat": [
          44.2284
         ],
         "legendgroup": "offshore hydrophone2016-10-31 05:54:47",
         "lon": [
          -124.57144
         ],
         "marker": {
          "color": "#B6E880"
         },
         "mode": "markers",
         "name": "offshore hydrophone2016-10-31 05:54:47",
         "showlegend": true,
         "subplot": "mapbox",
         "type": "scattermapbox"
        },
        {
         "customdata": [
          [
           0,
           0
          ]
         ],
         "hovertemplate": "<b>%{hovertext}</b><br><br>VESSEL NAME=shelf hydrophone2016-10-31 05:55:29<br>animation_frame=2016-10-31 05:50<br>LAT=%{lat}<br>LON=%{lon}<br>SPEED (KNOTSx10)=%{customdata[0]}<br>slfdist=%{customdata[1]}<extra></extra>",
         "hovertext": [
          "shelf hydrophone"
         ],
         "lat": [
          44.38132
         ],
         "legendgroup": "shelf hydrophone2016-10-31 05:55:29",
         "lon": [
          -124.18216
         ],
         "marker": {
          "color": "#FF97FF"
         },
         "mode": "markers",
         "name": "shelf hydrophone2016-10-31 05:55:29",
         "showlegend": true,
         "subplot": "mapbox",
         "type": "scattermapbox"
        },
        {
         "customdata": [
          [
           10,
           0
          ]
         ],
         "hovertemplate": "<b>%{hovertext}</b><br><br>VESSEL NAME=offshore hydrophone2016-10-31 05:55:29<br>animation_frame=2016-10-31 05:50<br>LAT=%{lat}<br>LON=%{lon}<br>SPEED (KNOTSx10)=%{customdata[0]}<br>slfdist=%{customdata[1]}<extra></extra>",
         "hovertext": [
          "offshore hydrophone"
         ],
         "lat": [
          44.2284
         ],
         "legendgroup": "offshore hydrophone2016-10-31 05:55:29",
         "lon": [
          -124.57144
         ],
         "marker": {
          "color": "#FECB52"
         },
         "mode": "markers",
         "name": "offshore hydrophone2016-10-31 05:55:29",
         "showlegend": true,
         "subplot": "mapbox",
         "type": "scattermapbox"
        },
        {
         "customdata": [
          [
           0,
           0
          ]
         ],
         "hovertemplate": "<b>%{hovertext}</b><br><br>VESSEL NAME=shelf hydrophone2016-10-31 05:55:36<br>animation_frame=2016-10-31 05:50<br>LAT=%{lat}<br>LON=%{lon}<br>SPEED (KNOTSx10)=%{customdata[0]}<br>slfdist=%{customdata[1]}<extra></extra>",
         "hovertext": [
          "shelf hydrophone"
         ],
         "lat": [
          44.38132
         ],
         "legendgroup": "shelf hydrophone2016-10-31 05:55:36",
         "lon": [
          -124.18216
         ],
         "marker": {
          "color": "#636efa"
         },
         "mode": "markers",
         "name": "shelf hydrophone2016-10-31 05:55:36",
         "showlegend": true,
         "subplot": "mapbox",
         "type": "scattermapbox"
        },
        {
         "customdata": [
          [
           10,
           0
          ]
         ],
         "hovertemplate": "<b>%{hovertext}</b><br><br>VESSEL NAME=offshore hydrophone2016-10-31 05:55:36<br>animation_frame=2016-10-31 05:50<br>LAT=%{lat}<br>LON=%{lon}<br>SPEED (KNOTSx10)=%{customdata[0]}<br>slfdist=%{customdata[1]}<extra></extra>",
         "hovertext": [
          "offshore hydrophone"
         ],
         "lat": [
          44.2284
         ],
         "legendgroup": "offshore hydrophone2016-10-31 05:55:36",
         "lon": [
          -124.57144
         ],
         "marker": {
          "color": "#EF553B"
         },
         "mode": "markers",
         "name": "offshore hydrophone2016-10-31 05:55:36",
         "showlegend": true,
         "subplot": "mapbox",
         "type": "scattermapbox"
        },
        {
         "customdata": [
          [
           0,
           0
          ]
         ],
         "hovertemplate": "<b>%{hovertext}</b><br><br>VESSEL NAME=shelf hydrophone2016-10-31 05:55:57<br>animation_frame=2016-10-31 05:50<br>LAT=%{lat}<br>LON=%{lon}<br>SPEED (KNOTSx10)=%{customdata[0]}<br>slfdist=%{customdata[1]}<extra></extra>",
         "hovertext": [
          "shelf hydrophone"
         ],
         "lat": [
          44.38132
         ],
         "legendgroup": "shelf hydrophone2016-10-31 05:55:57",
         "lon": [
          -124.18216
         ],
         "marker": {
          "color": "#00cc96"
         },
         "mode": "markers",
         "name": "shelf hydrophone2016-10-31 05:55:57",
         "showlegend": true,
         "subplot": "mapbox",
         "type": "scattermapbox"
        },
        {
         "customdata": [
          [
           10,
           0
          ]
         ],
         "hovertemplate": "<b>%{hovertext}</b><br><br>VESSEL NAME=offshore hydrophone2016-10-31 05:55:57<br>animation_frame=2016-10-31 05:50<br>LAT=%{lat}<br>LON=%{lon}<br>SPEED (KNOTSx10)=%{customdata[0]}<br>slfdist=%{customdata[1]}<extra></extra>",
         "hovertext": [
          "offshore hydrophone"
         ],
         "lat": [
          44.2284
         ],
         "legendgroup": "offshore hydrophone2016-10-31 05:55:57",
         "lon": [
          -124.57144
         ],
         "marker": {
          "color": "#ab63fa"
         },
         "mode": "markers",
         "name": "offshore hydrophone2016-10-31 05:55:57",
         "showlegend": true,
         "subplot": "mapbox",
         "type": "scattermapbox"
        },
        {
         "customdata": [
          [
           0,
           0
          ]
         ],
         "hovertemplate": "<b>%{hovertext}</b><br><br>VESSEL NAME=shelf hydrophone2016-10-31 05:56:00<br>animation_frame=2016-10-31 05:50<br>LAT=%{lat}<br>LON=%{lon}<br>SPEED (KNOTSx10)=%{customdata[0]}<br>slfdist=%{customdata[1]}<extra></extra>",
         "hovertext": [
          "shelf hydrophone"
         ],
         "lat": [
          44.38132
         ],
         "legendgroup": "shelf hydrophone2016-10-31 05:56:00",
         "lon": [
          -124.18216
         ],
         "marker": {
          "color": "#FFA15A"
         },
         "mode": "markers",
         "name": "shelf hydrophone2016-10-31 05:56:00",
         "showlegend": true,
         "subplot": "mapbox",
         "type": "scattermapbox"
        },
        {
         "customdata": [
          [
           10,
           0
          ]
         ],
         "hovertemplate": "<b>%{hovertext}</b><br><br>VESSEL NAME=offshore hydrophone2016-10-31 05:56:00<br>animation_frame=2016-10-31 05:50<br>LAT=%{lat}<br>LON=%{lon}<br>SPEED (KNOTSx10)=%{customdata[0]}<br>slfdist=%{customdata[1]}<extra></extra>",
         "hovertext": [
          "offshore hydrophone"
         ],
         "lat": [
          44.2284
         ],
         "legendgroup": "offshore hydrophone2016-10-31 05:56:00",
         "lon": [
          -124.57144
         ],
         "marker": {
          "color": "#19d3f3"
         },
         "mode": "markers",
         "name": "offshore hydrophone2016-10-31 05:56:00",
         "showlegend": true,
         "subplot": "mapbox",
         "type": "scattermapbox"
        },
        {
         "customdata": [
          [
           0,
           0
          ]
         ],
         "hovertemplate": "<b>%{hovertext}</b><br><br>VESSEL NAME=shelf hydrophone2016-10-31 05:56:09<br>animation_frame=2016-10-31 05:50<br>LAT=%{lat}<br>LON=%{lon}<br>SPEED (KNOTSx10)=%{customdata[0]}<br>slfdist=%{customdata[1]}<extra></extra>",
         "hovertext": [
          "shelf hydrophone"
         ],
         "lat": [
          44.38132
         ],
         "legendgroup": "shelf hydrophone2016-10-31 05:56:09",
         "lon": [
          -124.18216
         ],
         "marker": {
          "color": "#FF6692"
         },
         "mode": "markers",
         "name": "shelf hydrophone2016-10-31 05:56:09",
         "showlegend": true,
         "subplot": "mapbox",
         "type": "scattermapbox"
        },
        {
         "customdata": [
          [
           10,
           0
          ]
         ],
         "hovertemplate": "<b>%{hovertext}</b><br><br>VESSEL NAME=offshore hydrophone2016-10-31 05:56:09<br>animation_frame=2016-10-31 05:50<br>LAT=%{lat}<br>LON=%{lon}<br>SPEED (KNOTSx10)=%{customdata[0]}<br>slfdist=%{customdata[1]}<extra></extra>",
         "hovertext": [
          "offshore hydrophone"
         ],
         "lat": [
          44.2284
         ],
         "legendgroup": "offshore hydrophone2016-10-31 05:56:09",
         "lon": [
          -124.57144
         ],
         "marker": {
          "color": "#B6E880"
         },
         "mode": "markers",
         "name": "offshore hydrophone2016-10-31 05:56:09",
         "showlegend": true,
         "subplot": "mapbox",
         "type": "scattermapbox"
        },
        {
         "customdata": [
          [
           0,
           0
          ]
         ],
         "hovertemplate": "<b>%{hovertext}</b><br><br>VESSEL NAME=shelf hydrophone2016-10-31 05:56:13<br>animation_frame=2016-10-31 05:50<br>LAT=%{lat}<br>LON=%{lon}<br>SPEED (KNOTSx10)=%{customdata[0]}<br>slfdist=%{customdata[1]}<extra></extra>",
         "hovertext": [
          "shelf hydrophone"
         ],
         "lat": [
          44.38132
         ],
         "legendgroup": "shelf hydrophone2016-10-31 05:56:13",
         "lon": [
          -124.18216
         ],
         "marker": {
          "color": "#FF97FF"
         },
         "mode": "markers",
         "name": "shelf hydrophone2016-10-31 05:56:13",
         "showlegend": true,
         "subplot": "mapbox",
         "type": "scattermapbox"
        },
        {
         "customdata": [
          [
           10,
           0
          ]
         ],
         "hovertemplate": "<b>%{hovertext}</b><br><br>VESSEL NAME=offshore hydrophone2016-10-31 05:56:13<br>animation_frame=2016-10-31 05:50<br>LAT=%{lat}<br>LON=%{lon}<br>SPEED (KNOTSx10)=%{customdata[0]}<br>slfdist=%{customdata[1]}<extra></extra>",
         "hovertext": [
          "offshore hydrophone"
         ],
         "lat": [
          44.2284
         ],
         "legendgroup": "offshore hydrophone2016-10-31 05:56:13",
         "lon": [
          -124.57144
         ],
         "marker": {
          "color": "#FECB52"
         },
         "mode": "markers",
         "name": "offshore hydrophone2016-10-31 05:56:13",
         "showlegend": true,
         "subplot": "mapbox",
         "type": "scattermapbox"
        },
        {
         "customdata": [
          [
           0,
           0
          ]
         ],
         "hovertemplate": "<b>%{hovertext}</b><br><br>VESSEL NAME=shelf hydrophone2016-10-31 05:57:02<br>animation_frame=2016-10-31 05:50<br>LAT=%{lat}<br>LON=%{lon}<br>SPEED (KNOTSx10)=%{customdata[0]}<br>slfdist=%{customdata[1]}<extra></extra>",
         "hovertext": [
          "shelf hydrophone"
         ],
         "lat": [
          44.38132
         ],
         "legendgroup": "shelf hydrophone2016-10-31 05:57:02",
         "lon": [
          -124.18216
         ],
         "marker": {
          "color": "#636efa"
         },
         "mode": "markers",
         "name": "shelf hydrophone2016-10-31 05:57:02",
         "showlegend": true,
         "subplot": "mapbox",
         "type": "scattermapbox"
        },
        {
         "customdata": [
          [
           10,
           0
          ]
         ],
         "hovertemplate": "<b>%{hovertext}</b><br><br>VESSEL NAME=offshore hydrophone2016-10-31 05:57:02<br>animation_frame=2016-10-31 05:50<br>LAT=%{lat}<br>LON=%{lon}<br>SPEED (KNOTSx10)=%{customdata[0]}<br>slfdist=%{customdata[1]}<extra></extra>",
         "hovertext": [
          "offshore hydrophone"
         ],
         "lat": [
          44.2284
         ],
         "legendgroup": "offshore hydrophone2016-10-31 05:57:02",
         "lon": [
          -124.57144
         ],
         "marker": {
          "color": "#EF553B"
         },
         "mode": "markers",
         "name": "offshore hydrophone2016-10-31 05:57:02",
         "showlegend": true,
         "subplot": "mapbox",
         "type": "scattermapbox"
        },
        {
         "customdata": [
          [
           0,
           0
          ]
         ],
         "hovertemplate": "<b>%{hovertext}</b><br><br>VESSEL NAME=shelf hydrophone2016-10-31 05:57:07<br>animation_frame=2016-10-31 05:50<br>LAT=%{lat}<br>LON=%{lon}<br>SPEED (KNOTSx10)=%{customdata[0]}<br>slfdist=%{customdata[1]}<extra></extra>",
         "hovertext": [
          "shelf hydrophone"
         ],
         "lat": [
          44.38132
         ],
         "legendgroup": "shelf hydrophone2016-10-31 05:57:07",
         "lon": [
          -124.18216
         ],
         "marker": {
          "color": "#00cc96"
         },
         "mode": "markers",
         "name": "shelf hydrophone2016-10-31 05:57:07",
         "showlegend": true,
         "subplot": "mapbox",
         "type": "scattermapbox"
        },
        {
         "customdata": [
          [
           10,
           0
          ]
         ],
         "hovertemplate": "<b>%{hovertext}</b><br><br>VESSEL NAME=offshore hydrophone2016-10-31 05:57:07<br>animation_frame=2016-10-31 05:50<br>LAT=%{lat}<br>LON=%{lon}<br>SPEED (KNOTSx10)=%{customdata[0]}<br>slfdist=%{customdata[1]}<extra></extra>",
         "hovertext": [
          "offshore hydrophone"
         ],
         "lat": [
          44.2284
         ],
         "legendgroup": "offshore hydrophone2016-10-31 05:57:07",
         "lon": [
          -124.57144
         ],
         "marker": {
          "color": "#ab63fa"
         },
         "mode": "markers",
         "name": "offshore hydrophone2016-10-31 05:57:07",
         "showlegend": true,
         "subplot": "mapbox",
         "type": "scattermapbox"
        },
        {
         "customdata": [
          [
           0,
           0
          ]
         ],
         "hovertemplate": "<b>%{hovertext}</b><br><br>VESSEL NAME=shelf hydrophone2016-10-31 05:57:48<br>animation_frame=2016-10-31 05:50<br>LAT=%{lat}<br>LON=%{lon}<br>SPEED (KNOTSx10)=%{customdata[0]}<br>slfdist=%{customdata[1]}<extra></extra>",
         "hovertext": [
          "shelf hydrophone"
         ],
         "lat": [
          44.38132
         ],
         "legendgroup": "shelf hydrophone2016-10-31 05:57:48",
         "lon": [
          -124.18216
         ],
         "marker": {
          "color": "#FFA15A"
         },
         "mode": "markers",
         "name": "shelf hydrophone2016-10-31 05:57:48",
         "showlegend": true,
         "subplot": "mapbox",
         "type": "scattermapbox"
        },
        {
         "customdata": [
          [
           10,
           0
          ]
         ],
         "hovertemplate": "<b>%{hovertext}</b><br><br>VESSEL NAME=offshore hydrophone2016-10-31 05:57:48<br>animation_frame=2016-10-31 05:50<br>LAT=%{lat}<br>LON=%{lon}<br>SPEED (KNOTSx10)=%{customdata[0]}<br>slfdist=%{customdata[1]}<extra></extra>",
         "hovertext": [
          "offshore hydrophone"
         ],
         "lat": [
          44.2284
         ],
         "legendgroup": "offshore hydrophone2016-10-31 05:57:48",
         "lon": [
          -124.57144
         ],
         "marker": {
          "color": "#19d3f3"
         },
         "mode": "markers",
         "name": "offshore hydrophone2016-10-31 05:57:48",
         "showlegend": true,
         "subplot": "mapbox",
         "type": "scattermapbox"
        },
        {
         "customdata": [
          [
           0,
           0
          ]
         ],
         "hovertemplate": "<b>%{hovertext}</b><br><br>VESSEL NAME=shelf hydrophone2016-10-31 05:58:13<br>animation_frame=2016-10-31 05:50<br>LAT=%{lat}<br>LON=%{lon}<br>SPEED (KNOTSx10)=%{customdata[0]}<br>slfdist=%{customdata[1]}<extra></extra>",
         "hovertext": [
          "shelf hydrophone"
         ],
         "lat": [
          44.38132
         ],
         "legendgroup": "shelf hydrophone2016-10-31 05:58:13",
         "lon": [
          -124.18216
         ],
         "marker": {
          "color": "#FF6692"
         },
         "mode": "markers",
         "name": "shelf hydrophone2016-10-31 05:58:13",
         "showlegend": true,
         "subplot": "mapbox",
         "type": "scattermapbox"
        },
        {
         "customdata": [
          [
           10,
           0
          ]
         ],
         "hovertemplate": "<b>%{hovertext}</b><br><br>VESSEL NAME=offshore hydrophone2016-10-31 05:58:13<br>animation_frame=2016-10-31 05:50<br>LAT=%{lat}<br>LON=%{lon}<br>SPEED (KNOTSx10)=%{customdata[0]}<br>slfdist=%{customdata[1]}<extra></extra>",
         "hovertext": [
          "offshore hydrophone"
         ],
         "lat": [
          44.2284
         ],
         "legendgroup": "offshore hydrophone2016-10-31 05:58:13",
         "lon": [
          -124.57144
         ],
         "marker": {
          "color": "#B6E880"
         },
         "mode": "markers",
         "name": "offshore hydrophone2016-10-31 05:58:13",
         "showlegend": true,
         "subplot": "mapbox",
         "type": "scattermapbox"
        },
        {
         "customdata": [
          [
           0,
           0
          ]
         ],
         "hovertemplate": "<b>%{hovertext}</b><br><br>VESSEL NAME=shelf hydrophone2016-10-31 05:58:14<br>animation_frame=2016-10-31 05:50<br>LAT=%{lat}<br>LON=%{lon}<br>SPEED (KNOTSx10)=%{customdata[0]}<br>slfdist=%{customdata[1]}<extra></extra>",
         "hovertext": [
          "shelf hydrophone"
         ],
         "lat": [
          44.38132
         ],
         "legendgroup": "shelf hydrophone2016-10-31 05:58:14",
         "lon": [
          -124.18216
         ],
         "marker": {
          "color": "#FF97FF"
         },
         "mode": "markers",
         "name": "shelf hydrophone2016-10-31 05:58:14",
         "showlegend": true,
         "subplot": "mapbox",
         "type": "scattermapbox"
        },
        {
         "customdata": [
          [
           10,
           0
          ]
         ],
         "hovertemplate": "<b>%{hovertext}</b><br><br>VESSEL NAME=offshore hydrophone2016-10-31 05:58:14<br>animation_frame=2016-10-31 05:50<br>LAT=%{lat}<br>LON=%{lon}<br>SPEED (KNOTSx10)=%{customdata[0]}<br>slfdist=%{customdata[1]}<extra></extra>",
         "hovertext": [
          "offshore hydrophone"
         ],
         "lat": [
          44.2284
         ],
         "legendgroup": "offshore hydrophone2016-10-31 05:58:14",
         "lon": [
          -124.57144
         ],
         "marker": {
          "color": "#FECB52"
         },
         "mode": "markers",
         "name": "offshore hydrophone2016-10-31 05:58:14",
         "showlegend": true,
         "subplot": "mapbox",
         "type": "scattermapbox"
        },
        {
         "customdata": [
          [
           0,
           0
          ]
         ],
         "hovertemplate": "<b>%{hovertext}</b><br><br>VESSEL NAME=shelf hydrophone2016-10-31 05:58:27<br>animation_frame=2016-10-31 05:50<br>LAT=%{lat}<br>LON=%{lon}<br>SPEED (KNOTSx10)=%{customdata[0]}<br>slfdist=%{customdata[1]}<extra></extra>",
         "hovertext": [
          "shelf hydrophone"
         ],
         "lat": [
          44.38132
         ],
         "legendgroup": "shelf hydrophone2016-10-31 05:58:27",
         "lon": [
          -124.18216
         ],
         "marker": {
          "color": "#636efa"
         },
         "mode": "markers",
         "name": "shelf hydrophone2016-10-31 05:58:27",
         "showlegend": true,
         "subplot": "mapbox",
         "type": "scattermapbox"
        },
        {
         "customdata": [
          [
           10,
           0
          ]
         ],
         "hovertemplate": "<b>%{hovertext}</b><br><br>VESSEL NAME=offshore hydrophone2016-10-31 05:58:27<br>animation_frame=2016-10-31 05:50<br>LAT=%{lat}<br>LON=%{lon}<br>SPEED (KNOTSx10)=%{customdata[0]}<br>slfdist=%{customdata[1]}<extra></extra>",
         "hovertext": [
          "offshore hydrophone"
         ],
         "lat": [
          44.2284
         ],
         "legendgroup": "offshore hydrophone2016-10-31 05:58:27",
         "lon": [
          -124.57144
         ],
         "marker": {
          "color": "#EF553B"
         },
         "mode": "markers",
         "name": "offshore hydrophone2016-10-31 05:58:27",
         "showlegend": true,
         "subplot": "mapbox",
         "type": "scattermapbox"
        },
        {
         "customdata": [
          [
           0,
           0
          ]
         ],
         "hovertemplate": "<b>%{hovertext}</b><br><br>VESSEL NAME=shelf hydrophone2016-10-31 05:58:55<br>animation_frame=2016-10-31 05:50<br>LAT=%{lat}<br>LON=%{lon}<br>SPEED (KNOTSx10)=%{customdata[0]}<br>slfdist=%{customdata[1]}<extra></extra>",
         "hovertext": [
          "shelf hydrophone"
         ],
         "lat": [
          44.38132
         ],
         "legendgroup": "shelf hydrophone2016-10-31 05:58:55",
         "lon": [
          -124.18216
         ],
         "marker": {
          "color": "#00cc96"
         },
         "mode": "markers",
         "name": "shelf hydrophone2016-10-31 05:58:55",
         "showlegend": true,
         "subplot": "mapbox",
         "type": "scattermapbox"
        },
        {
         "customdata": [
          [
           10,
           0
          ]
         ],
         "hovertemplate": "<b>%{hovertext}</b><br><br>VESSEL NAME=offshore hydrophone2016-10-31 05:58:55<br>animation_frame=2016-10-31 05:50<br>LAT=%{lat}<br>LON=%{lon}<br>SPEED (KNOTSx10)=%{customdata[0]}<br>slfdist=%{customdata[1]}<extra></extra>",
         "hovertext": [
          "offshore hydrophone"
         ],
         "lat": [
          44.2284
         ],
         "legendgroup": "offshore hydrophone2016-10-31 05:58:55",
         "lon": [
          -124.57144
         ],
         "marker": {
          "color": "#ab63fa"
         },
         "mode": "markers",
         "name": "offshore hydrophone2016-10-31 05:58:55",
         "showlegend": true,
         "subplot": "mapbox",
         "type": "scattermapbox"
        },
        {
         "customdata": [
          [
           0,
           0
          ]
         ],
         "hovertemplate": "<b>%{hovertext}</b><br><br>VESSEL NAME=shelf hydrophone2016-10-31 05:59:02<br>animation_frame=2016-10-31 05:50<br>LAT=%{lat}<br>LON=%{lon}<br>SPEED (KNOTSx10)=%{customdata[0]}<br>slfdist=%{customdata[1]}<extra></extra>",
         "hovertext": [
          "shelf hydrophone"
         ],
         "lat": [
          44.38132
         ],
         "legendgroup": "shelf hydrophone2016-10-31 05:59:02",
         "lon": [
          -124.18216
         ],
         "marker": {
          "color": "#FFA15A"
         },
         "mode": "markers",
         "name": "shelf hydrophone2016-10-31 05:59:02",
         "showlegend": true,
         "subplot": "mapbox",
         "type": "scattermapbox"
        },
        {
         "customdata": [
          [
           10,
           0
          ]
         ],
         "hovertemplate": "<b>%{hovertext}</b><br><br>VESSEL NAME=offshore hydrophone2016-10-31 05:59:02<br>animation_frame=2016-10-31 05:50<br>LAT=%{lat}<br>LON=%{lon}<br>SPEED (KNOTSx10)=%{customdata[0]}<br>slfdist=%{customdata[1]}<extra></extra>",
         "hovertext": [
          "offshore hydrophone"
         ],
         "lat": [
          44.2284
         ],
         "legendgroup": "offshore hydrophone2016-10-31 05:59:02",
         "lon": [
          -124.57144
         ],
         "marker": {
          "color": "#19d3f3"
         },
         "mode": "markers",
         "name": "offshore hydrophone2016-10-31 05:59:02",
         "showlegend": true,
         "subplot": "mapbox",
         "type": "scattermapbox"
        },
        {
         "customdata": [
          [
           0,
           0
          ]
         ],
         "hovertemplate": "<b>%{hovertext}</b><br><br>VESSEL NAME=shelf hydrophone2016-10-31 05:59:22<br>animation_frame=2016-10-31 05:50<br>LAT=%{lat}<br>LON=%{lon}<br>SPEED (KNOTSx10)=%{customdata[0]}<br>slfdist=%{customdata[1]}<extra></extra>",
         "hovertext": [
          "shelf hydrophone"
         ],
         "lat": [
          44.38132
         ],
         "legendgroup": "shelf hydrophone2016-10-31 05:59:22",
         "lon": [
          -124.18216
         ],
         "marker": {
          "color": "#FF6692"
         },
         "mode": "markers",
         "name": "shelf hydrophone2016-10-31 05:59:22",
         "showlegend": true,
         "subplot": "mapbox",
         "type": "scattermapbox"
        },
        {
         "customdata": [
          [
           10,
           0
          ]
         ],
         "hovertemplate": "<b>%{hovertext}</b><br><br>VESSEL NAME=offshore hydrophone2016-10-31 05:59:22<br>animation_frame=2016-10-31 05:50<br>LAT=%{lat}<br>LON=%{lon}<br>SPEED (KNOTSx10)=%{customdata[0]}<br>slfdist=%{customdata[1]}<extra></extra>",
         "hovertext": [
          "offshore hydrophone"
         ],
         "lat": [
          44.2284
         ],
         "legendgroup": "offshore hydrophone2016-10-31 05:59:22",
         "lon": [
          -124.57144
         ],
         "marker": {
          "color": "#B6E880"
         },
         "mode": "markers",
         "name": "offshore hydrophone2016-10-31 05:59:22",
         "showlegend": true,
         "subplot": "mapbox",
         "type": "scattermapbox"
        },
        {
         "customdata": [
          [
           0,
           0
          ]
         ],
         "hovertemplate": "<b>%{hovertext}</b><br><br>VESSEL NAME=shelf hydrophone2016-10-31 05:59:25<br>animation_frame=2016-10-31 05:50<br>LAT=%{lat}<br>LON=%{lon}<br>SPEED (KNOTSx10)=%{customdata[0]}<br>slfdist=%{customdata[1]}<extra></extra>",
         "hovertext": [
          "shelf hydrophone"
         ],
         "lat": [
          44.38132
         ],
         "legendgroup": "shelf hydrophone2016-10-31 05:59:25",
         "lon": [
          -124.18216
         ],
         "marker": {
          "color": "#FF97FF"
         },
         "mode": "markers",
         "name": "shelf hydrophone2016-10-31 05:59:25",
         "showlegend": true,
         "subplot": "mapbox",
         "type": "scattermapbox"
        },
        {
         "customdata": [
          [
           10,
           0
          ]
         ],
         "hovertemplate": "<b>%{hovertext}</b><br><br>VESSEL NAME=offshore hydrophone2016-10-31 05:59:25<br>animation_frame=2016-10-31 05:50<br>LAT=%{lat}<br>LON=%{lon}<br>SPEED (KNOTSx10)=%{customdata[0]}<br>slfdist=%{customdata[1]}<extra></extra>",
         "hovertext": [
          "offshore hydrophone"
         ],
         "lat": [
          44.2284
         ],
         "legendgroup": "offshore hydrophone2016-10-31 05:59:25",
         "lon": [
          -124.57144
         ],
         "marker": {
          "color": "#FECB52"
         },
         "mode": "markers",
         "name": "offshore hydrophone2016-10-31 05:59:25",
         "showlegend": true,
         "subplot": "mapbox",
         "type": "scattermapbox"
        },
        {
         "customdata": [
          [
           0,
           0
          ]
         ],
         "hovertemplate": "<b>%{hovertext}</b><br><br>VESSEL NAME=shelf hydrophone2016-10-31 05:59:49<br>animation_frame=2016-10-31 05:50<br>LAT=%{lat}<br>LON=%{lon}<br>SPEED (KNOTSx10)=%{customdata[0]}<br>slfdist=%{customdata[1]}<extra></extra>",
         "hovertext": [
          "shelf hydrophone"
         ],
         "lat": [
          44.38132
         ],
         "legendgroup": "shelf hydrophone2016-10-31 05:59:49",
         "lon": [
          -124.18216
         ],
         "marker": {
          "color": "#636efa"
         },
         "mode": "markers",
         "name": "shelf hydrophone2016-10-31 05:59:49",
         "showlegend": true,
         "subplot": "mapbox",
         "type": "scattermapbox"
        },
        {
         "customdata": [
          [
           10,
           0
          ]
         ],
         "hovertemplate": "<b>%{hovertext}</b><br><br>VESSEL NAME=offshore hydrophone2016-10-31 05:59:49<br>animation_frame=2016-10-31 05:50<br>LAT=%{lat}<br>LON=%{lon}<br>SPEED (KNOTSx10)=%{customdata[0]}<br>slfdist=%{customdata[1]}<extra></extra>",
         "hovertext": [
          "offshore hydrophone"
         ],
         "lat": [
          44.2284
         ],
         "legendgroup": "offshore hydrophone2016-10-31 05:59:49",
         "lon": [
          -124.57144
         ],
         "marker": {
          "color": "#EF553B"
         },
         "mode": "markers",
         "name": "offshore hydrophone2016-10-31 05:59:49",
         "showlegend": true,
         "subplot": "mapbox",
         "type": "scattermapbox"
        }
       ],
       "frames": [
        {
         "data": [
          {
           "customdata": [
            [
             40,
             30.42260778929539
            ],
            [
             55,
             30.5614697004986
            ],
            [
             53,
             30.326322629229736
            ],
            [
             55,
             30.203646460330997
            ]
           ],
           "hovertemplate": "<b>%{hovertext}</b><br><br>VESSEL NAME=SEEKER<br>animation_frame=2016-10-31 05:50<br>LAT=%{lat}<br>LON=%{lon}<br>SPEED (KNOTSx10)=%{customdata[0]}<br>slfdist=%{customdata[1]}<extra></extra>",
           "hovertext": [
            "Fishing",
            "Fishing",
            "Fishing",
            "Fishing"
           ],
           "lat": [
            44.4906,
            44.49451,
            44.49715,
            44.50035
           ],
           "legendgroup": "SEEKER",
           "lon": [
            -124.7779,
            -124.7794,
            -124.7735,
            -124.7697
           ],
           "marker": {
            "color": "#636efa"
           },
           "mode": "markers",
           "name": "SEEKER",
           "showlegend": true,
           "subplot": "mapbox",
           "type": "scattermapbox"
          },
          {
           "customdata": [
            [
             40,
             11.290262854632205
            ],
            [
             46,
             11.175804695192875
            ],
            [
             43,
             10.995571992842619
            ],
            [
             53,
             10.866274212244539
            ]
           ],
           "hovertemplate": "<b>%{hovertext}</b><br><br>VESSEL NAME=PACIFIC RAM<br>animation_frame=2016-10-31 05:50<br>LAT=%{lat}<br>LON=%{lon}<br>SPEED (KNOTSx10)=%{customdata[0]}<br>slfdist=%{customdata[1]}<extra></extra>",
           "hovertext": [
            "Factory Trawler",
            "Factory Trawler",
            "Factory Trawler",
            "Factory Trawler"
           ],
           "lat": [
            44.5438,
            44.54189,
            44.53882,
            44.53661
           ],
           "legendgroup": "PACIFIC RAM",
           "lon": [
            -124.2078,
            -124.2106,
            -124.215,
            -124.2178
           ],
           "marker": {
            "color": "#EF553B"
           },
           "mode": "markers",
           "name": "PACIFIC RAM",
           "showlegend": true,
           "subplot": "mapbox",
           "type": "scattermapbox"
          },
          {
           "customdata": [
            [
             47,
             11.987848686873296
            ],
            [
             46,
             11.879253111642914
            ],
            [
             48,
             11.754681622855616
            ],
            [
             53,
             11.6546331507155
            ]
           ],
           "hovertemplate": "<b>%{hovertext}</b><br><br>VESSEL NAME=LISA MELINDA<br>animation_frame=2016-10-31 05:50<br>LAT=%{lat}<br>LON=%{lon}<br>SPEED (KNOTSx10)=%{customdata[0]}<br>slfdist=%{customdata[1]}<extra></extra>",
           "hovertext": [
            "Fishing Vessel",
            "Fishing Vessel",
            "Fishing Vessel",
            "Fishing Vessel"
           ],
           "lat": [
            44.55487,
            44.55322,
            44.5513,
            44.54972
           ],
           "legendgroup": "LISA MELINDA",
           "lon": [
            -124.1889,
            -124.192,
            -124.1953,
            -124.1982
           ],
           "marker": {
            "color": "#00cc96"
           },
           "mode": "markers",
           "name": "LISA MELINDA",
           "showlegend": true,
           "subplot": "mapbox",
           "type": "scattermapbox"
          },
          {
           "customdata": [
            [
             18,
             33.07780815626153
            ],
            [
             22,
             33.076580197969555
            ],
            [
             19,
             33.064756498356104
            ]
           ],
           "hovertemplate": "<b>%{hovertext}</b><br><br>VESSEL NAME=MISS BERDIE<br>animation_frame=2016-10-31 05:50<br>LAT=%{lat}<br>LON=%{lon}<br>SPEED (KNOTSx10)=%{customdata[0]}<br>slfdist=%{customdata[1]}<extra></extra>",
           "hovertext": [
            "Unspecified",
            "Unspecified",
            "Unspecified"
           ],
           "lat": [
            44.5996,
            44.59843,
            44.59748
           ],
           "legendgroup": "MISS BERDIE",
           "lon": [
            -124.7779,
            -124.7787,
            -124.7791
           ],
           "marker": {
            "color": "#ab63fa"
           },
           "mode": "markers",
           "name": "MISS BERDIE",
           "showlegend": true,
           "subplot": "mapbox",
           "type": "scattermapbox"
          },
          {
           "customdata": [
            [
             38,
             33.8897036777163
            ],
            [
             34,
             33.87092769988182
            ],
            [
             38,
             33.87949900223709
            ],
            [
             37,
             33.894768283203454
            ]
           ],
           "hovertemplate": "<b>%{hovertext}</b><br><br>VESSEL NAME=ARCTIC STORM<br>animation_frame=2016-10-31 05:50<br>LAT=%{lat}<br>LON=%{lon}<br>SPEED (KNOTSx10)=%{customdata[0]}<br>slfdist=%{customdata[1]}<extra></extra>",
           "hovertext": [
            "Factory Trawler",
            "Factory Trawler",
            "Factory Trawler",
            "Factory Trawler"
           ],
           "lat": [
            44.58489,
            44.58231,
            44.58019,
            44.57812
           ],
           "legendgroup": "ARCTIC STORM",
           "lon": [
            -124.806,
            -124.8072,
            -124.8087,
            -124.8103
           ],
           "marker": {
            "color": "#FFA15A"
           },
           "mode": "markers",
           "name": "ARCTIC STORM",
           "showlegend": true,
           "subplot": "mapbox",
           "type": "scattermapbox"
          },
          {
           "customdata": [
            [
             95,
             13.117994791807742
            ],
            [
             90,
             13.498726529136908
            ]
           ],
           "hovertemplate": "<b>%{hovertext}</b><br><br>VESSEL NAME=KEN & AL<br>animation_frame=2016-10-31 05:50<br>LAT=%{lat}<br>LON=%{lon}<br>SPEED (KNOTSx10)=%{customdata[0]}<br>slfdist=%{customdata[1]}<extra></extra>",
           "hovertext": [
            "Fishing",
            "Fishing"
           ],
           "lat": [
            44.54438,
            44.55094
           ],
           "legendgroup": "KEN & AL",
           "lon": [
            -124.3183,
            -124.3179
           ],
           "marker": {
            "color": "#19d3f3"
           },
           "mode": "markers",
           "name": "KEN & AL",
           "showlegend": true,
           "subplot": "mapbox",
           "type": "scattermapbox"
          },
          {
           "customdata": [
            [
             76,
             16.674219632348613
            ],
            [
             77,
             16.48076618196575
            ],
            [
             88,
             16.311035500423156
            ]
           ],
           "hovertemplate": "<b>%{hovertext}</b><br><br>VESSEL NAME=NORTHERN RAM<br>animation_frame=2016-10-31 05:50<br>LAT=%{lat}<br>LON=%{lon}<br>SPEED (KNOTSx10)=%{customdata[0]}<br>slfdist=%{customdata[1]}<extra></extra>",
           "hovertext": [
            "Fishing",
            "Fishing",
            "Fishing"
           ],
           "lat": [
            44.55013,
            44.55155,
            44.55297
           ],
           "legendgroup": "NORTHERN RAM",
           "lon": [
            -124.4233,
            -124.4158,
            -124.4088
           ],
           "marker": {
            "color": "#FF6692"
           },
           "mode": "markers",
           "name": "NORTHERN RAM",
           "showlegend": true,
           "subplot": "mapbox",
           "type": "scattermapbox"
          },
          {
           "customdata": [
            [
             29,
             16.631253079784017
            ],
            [
             34,
             16.706340667973556
            ],
            [
             32,
             16.7827706862921
            ]
           ],
           "hovertemplate": "<b>%{hovertext}</b><br><br>VESSEL NAME=SEA STORM<br>animation_frame=2016-10-31 05:50<br>LAT=%{lat}<br>LON=%{lon}<br>SPEED (KNOTSx10)=%{customdata[0]}<br>slfdist=%{customdata[1]}<extra></extra>",
           "hovertext": [
            "Trawler",
            "Trawler",
            "Trawler"
           ],
           "lat": [
            44.57178,
            44.57137,
            44.57102
           ],
           "legendgroup": "SEA STORM",
           "lon": [
            -124.3881,
            -124.3913,
            -124.3944
           ],
           "marker": {
            "color": "#B6E880"
           },
           "mode": "markers",
           "name": "SEA STORM",
           "showlegend": true,
           "subplot": "mapbox",
           "type": "scattermapbox"
          },
          {
           "customdata": [
            [
             0,
             18.206927813809813
            ]
           ],
           "hovertemplate": "<b>%{hovertext}</b><br><br>VESSEL NAME=PEGASUS<br>animation_frame=2016-10-31 05:50<br>LAT=%{lat}<br>LON=%{lon}<br>SPEED (KNOTSx10)=%{customdata[0]}<br>slfdist=%{customdata[1]}<extra></extra>",
           "hovertext": [
            "Fishing Vessel"
           ],
           "lat": [
            44.62862
           ],
           "legendgroup": "PEGASUS",
           "lon": [
            -124.0543
           ],
           "marker": {
            "color": "#FF97FF"
           },
           "mode": "markers",
           "name": "PEGASUS",
           "showlegend": true,
           "subplot": "mapbox",
           "type": "scattermapbox"
          },
          {
           "customdata": [
            [
             0,
             18.231074077249943
            ]
           ],
           "hovertemplate": "<b>%{hovertext}</b><br><br>VESSEL NAME=WINONA J<br>animation_frame=2016-10-31 05:50<br>LAT=%{lat}<br>LON=%{lon}<br>SPEED (KNOTSx10)=%{customdata[0]}<br>slfdist=%{customdata[1]}<extra></extra>",
           "hovertext": [
            "Fishing"
           ],
           "lat": [
            44.62894
           ],
           "legendgroup": "WINONA J",
           "lon": [
            -124.0541
           ],
           "marker": {
            "color": "#FECB52"
           },
           "mode": "markers",
           "name": "WINONA J",
           "showlegend": true,
           "subplot": "mapbox",
           "type": "scattermapbox"
          },
          {
           "customdata": [
            [
             39,
             29.09305937436625
            ]
           ],
           "hovertemplate": "<b>%{hovertext}</b><br><br>VESSEL NAME=SEADAWN<br>animation_frame=2016-10-31 05:50<br>LAT=%{lat}<br>LON=%{lon}<br>SPEED (KNOTSx10)=%{customdata[0]}<br>slfdist=%{customdata[1]}<extra></extra>",
           "hovertext": [
            "Fishing"
           ],
           "lat": [
            44.54671
           ],
           "legendgroup": "SEADAWN",
           "lon": [
            -124.7233
           ],
           "marker": {
            "color": "#636efa"
           },
           "mode": "markers",
           "name": "SEADAWN",
           "showlegend": true,
           "subplot": "mapbox",
           "type": "scattermapbox"
          },
          {
           "customdata": [
            [
             0,
             0
            ]
           ],
           "hovertemplate": "<b>%{hovertext}</b><br><br>VESSEL NAME=shelf hydrophone2016-10-31 05:50:25<br>animation_frame=2016-10-31 05:50<br>LAT=%{lat}<br>LON=%{lon}<br>SPEED (KNOTSx10)=%{customdata[0]}<br>slfdist=%{customdata[1]}<extra></extra>",
           "hovertext": [
            "shelf hydrophone"
           ],
           "lat": [
            44.38132
           ],
           "legendgroup": "shelf hydrophone2016-10-31 05:50:25",
           "lon": [
            -124.18216
           ],
           "marker": {
            "color": "#00cc96"
           },
           "mode": "markers",
           "name": "shelf hydrophone2016-10-31 05:50:25",
           "showlegend": true,
           "subplot": "mapbox",
           "type": "scattermapbox"
          },
          {
           "customdata": [
            [
             10,
             0
            ]
           ],
           "hovertemplate": "<b>%{hovertext}</b><br><br>VESSEL NAME=offshore hydrophone2016-10-31 05:50:25<br>animation_frame=2016-10-31 05:50<br>LAT=%{lat}<br>LON=%{lon}<br>SPEED (KNOTSx10)=%{customdata[0]}<br>slfdist=%{customdata[1]}<extra></extra>",
           "hovertext": [
            "offshore hydrophone"
           ],
           "lat": [
            44.2284
           ],
           "legendgroup": "offshore hydrophone2016-10-31 05:50:25",
           "lon": [
            -124.57144
           ],
           "marker": {
            "color": "#ab63fa"
           },
           "mode": "markers",
           "name": "offshore hydrophone2016-10-31 05:50:25",
           "showlegend": true,
           "subplot": "mapbox",
           "type": "scattermapbox"
          },
          {
           "customdata": [
            [
             0,
             0
            ]
           ],
           "hovertemplate": "<b>%{hovertext}</b><br><br>VESSEL NAME=shelf hydrophone2016-10-31 05:51:03<br>animation_frame=2016-10-31 05:50<br>LAT=%{lat}<br>LON=%{lon}<br>SPEED (KNOTSx10)=%{customdata[0]}<br>slfdist=%{customdata[1]}<extra></extra>",
           "hovertext": [
            "shelf hydrophone"
           ],
           "lat": [
            44.38132
           ],
           "legendgroup": "shelf hydrophone2016-10-31 05:51:03",
           "lon": [
            -124.18216
           ],
           "marker": {
            "color": "#FFA15A"
           },
           "mode": "markers",
           "name": "shelf hydrophone2016-10-31 05:51:03",
           "showlegend": true,
           "subplot": "mapbox",
           "type": "scattermapbox"
          },
          {
           "customdata": [
            [
             10,
             0
            ]
           ],
           "hovertemplate": "<b>%{hovertext}</b><br><br>VESSEL NAME=offshore hydrophone2016-10-31 05:51:03<br>animation_frame=2016-10-31 05:50<br>LAT=%{lat}<br>LON=%{lon}<br>SPEED (KNOTSx10)=%{customdata[0]}<br>slfdist=%{customdata[1]}<extra></extra>",
           "hovertext": [
            "offshore hydrophone"
           ],
           "lat": [
            44.2284
           ],
           "legendgroup": "offshore hydrophone2016-10-31 05:51:03",
           "lon": [
            -124.57144
           ],
           "marker": {
            "color": "#19d3f3"
           },
           "mode": "markers",
           "name": "offshore hydrophone2016-10-31 05:51:03",
           "showlegend": true,
           "subplot": "mapbox",
           "type": "scattermapbox"
          },
          {
           "customdata": [
            [
             0,
             0
            ]
           ],
           "hovertemplate": "<b>%{hovertext}</b><br><br>VESSEL NAME=shelf hydrophone2016-10-31 05:51:24<br>animation_frame=2016-10-31 05:50<br>LAT=%{lat}<br>LON=%{lon}<br>SPEED (KNOTSx10)=%{customdata[0]}<br>slfdist=%{customdata[1]}<extra></extra>",
           "hovertext": [
            "shelf hydrophone"
           ],
           "lat": [
            44.38132
           ],
           "legendgroup": "shelf hydrophone2016-10-31 05:51:24",
           "lon": [
            -124.18216
           ],
           "marker": {
            "color": "#FF6692"
           },
           "mode": "markers",
           "name": "shelf hydrophone2016-10-31 05:51:24",
           "showlegend": true,
           "subplot": "mapbox",
           "type": "scattermapbox"
          },
          {
           "customdata": [
            [
             10,
             0
            ]
           ],
           "hovertemplate": "<b>%{hovertext}</b><br><br>VESSEL NAME=offshore hydrophone2016-10-31 05:51:24<br>animation_frame=2016-10-31 05:50<br>LAT=%{lat}<br>LON=%{lon}<br>SPEED (KNOTSx10)=%{customdata[0]}<br>slfdist=%{customdata[1]}<extra></extra>",
           "hovertext": [
            "offshore hydrophone"
           ],
           "lat": [
            44.2284
           ],
           "legendgroup": "offshore hydrophone2016-10-31 05:51:24",
           "lon": [
            -124.57144
           ],
           "marker": {
            "color": "#B6E880"
           },
           "mode": "markers",
           "name": "offshore hydrophone2016-10-31 05:51:24",
           "showlegend": true,
           "subplot": "mapbox",
           "type": "scattermapbox"
          },
          {
           "customdata": [
            [
             0,
             0
            ]
           ],
           "hovertemplate": "<b>%{hovertext}</b><br><br>VESSEL NAME=shelf hydrophone2016-10-31 05:51:29<br>animation_frame=2016-10-31 05:50<br>LAT=%{lat}<br>LON=%{lon}<br>SPEED (KNOTSx10)=%{customdata[0]}<br>slfdist=%{customdata[1]}<extra></extra>",
           "hovertext": [
            "shelf hydrophone"
           ],
           "lat": [
            44.38132
           ],
           "legendgroup": "shelf hydrophone2016-10-31 05:51:29",
           "lon": [
            -124.18216
           ],
           "marker": {
            "color": "#FF97FF"
           },
           "mode": "markers",
           "name": "shelf hydrophone2016-10-31 05:51:29",
           "showlegend": true,
           "subplot": "mapbox",
           "type": "scattermapbox"
          },
          {
           "customdata": [
            [
             10,
             0
            ]
           ],
           "hovertemplate": "<b>%{hovertext}</b><br><br>VESSEL NAME=offshore hydrophone2016-10-31 05:51:29<br>animation_frame=2016-10-31 05:50<br>LAT=%{lat}<br>LON=%{lon}<br>SPEED (KNOTSx10)=%{customdata[0]}<br>slfdist=%{customdata[1]}<extra></extra>",
           "hovertext": [
            "offshore hydrophone"
           ],
           "lat": [
            44.2284
           ],
           "legendgroup": "offshore hydrophone2016-10-31 05:51:29",
           "lon": [
            -124.57144
           ],
           "marker": {
            "color": "#FECB52"
           },
           "mode": "markers",
           "name": "offshore hydrophone2016-10-31 05:51:29",
           "showlegend": true,
           "subplot": "mapbox",
           "type": "scattermapbox"
          },
          {
           "customdata": [
            [
             0,
             0
            ]
           ],
           "hovertemplate": "<b>%{hovertext}</b><br><br>VESSEL NAME=shelf hydrophone2016-10-31 05:52:07<br>animation_frame=2016-10-31 05:50<br>LAT=%{lat}<br>LON=%{lon}<br>SPEED (KNOTSx10)=%{customdata[0]}<br>slfdist=%{customdata[1]}<extra></extra>",
           "hovertext": [
            "shelf hydrophone"
           ],
           "lat": [
            44.38132
           ],
           "legendgroup": "shelf hydrophone2016-10-31 05:52:07",
           "lon": [
            -124.18216
           ],
           "marker": {
            "color": "#636efa"
           },
           "mode": "markers",
           "name": "shelf hydrophone2016-10-31 05:52:07",
           "showlegend": true,
           "subplot": "mapbox",
           "type": "scattermapbox"
          },
          {
           "customdata": [
            [
             10,
             0
            ]
           ],
           "hovertemplate": "<b>%{hovertext}</b><br><br>VESSEL NAME=offshore hydrophone2016-10-31 05:52:07<br>animation_frame=2016-10-31 05:50<br>LAT=%{lat}<br>LON=%{lon}<br>SPEED (KNOTSx10)=%{customdata[0]}<br>slfdist=%{customdata[1]}<extra></extra>",
           "hovertext": [
            "offshore hydrophone"
           ],
           "lat": [
            44.2284
           ],
           "legendgroup": "offshore hydrophone2016-10-31 05:52:07",
           "lon": [
            -124.57144
           ],
           "marker": {
            "color": "#EF553B"
           },
           "mode": "markers",
           "name": "offshore hydrophone2016-10-31 05:52:07",
           "showlegend": true,
           "subplot": "mapbox",
           "type": "scattermapbox"
          },
          {
           "customdata": [
            [
             0,
             0
            ]
           ],
           "hovertemplate": "<b>%{hovertext}</b><br><br>VESSEL NAME=shelf hydrophone2016-10-31 05:52:36<br>animation_frame=2016-10-31 05:50<br>LAT=%{lat}<br>LON=%{lon}<br>SPEED (KNOTSx10)=%{customdata[0]}<br>slfdist=%{customdata[1]}<extra></extra>",
           "hovertext": [
            "shelf hydrophone"
           ],
           "lat": [
            44.38132
           ],
           "legendgroup": "shelf hydrophone2016-10-31 05:52:36",
           "lon": [
            -124.18216
           ],
           "marker": {
            "color": "#00cc96"
           },
           "mode": "markers",
           "name": "shelf hydrophone2016-10-31 05:52:36",
           "showlegend": true,
           "subplot": "mapbox",
           "type": "scattermapbox"
          },
          {
           "customdata": [
            [
             10,
             0
            ]
           ],
           "hovertemplate": "<b>%{hovertext}</b><br><br>VESSEL NAME=offshore hydrophone2016-10-31 05:52:36<br>animation_frame=2016-10-31 05:50<br>LAT=%{lat}<br>LON=%{lon}<br>SPEED (KNOTSx10)=%{customdata[0]}<br>slfdist=%{customdata[1]}<extra></extra>",
           "hovertext": [
            "offshore hydrophone"
           ],
           "lat": [
            44.2284
           ],
           "legendgroup": "offshore hydrophone2016-10-31 05:52:36",
           "lon": [
            -124.57144
           ],
           "marker": {
            "color": "#ab63fa"
           },
           "mode": "markers",
           "name": "offshore hydrophone2016-10-31 05:52:36",
           "showlegend": true,
           "subplot": "mapbox",
           "type": "scattermapbox"
          },
          {
           "customdata": [
            [
             0,
             0
            ]
           ],
           "hovertemplate": "<b>%{hovertext}</b><br><br>VESSEL NAME=shelf hydrophone2016-10-31 05:52:59<br>animation_frame=2016-10-31 05:50<br>LAT=%{lat}<br>LON=%{lon}<br>SPEED (KNOTSx10)=%{customdata[0]}<br>slfdist=%{customdata[1]}<extra></extra>",
           "hovertext": [
            "shelf hydrophone"
           ],
           "lat": [
            44.38132
           ],
           "legendgroup": "shelf hydrophone2016-10-31 05:52:59",
           "lon": [
            -124.18216
           ],
           "marker": {
            "color": "#FFA15A"
           },
           "mode": "markers",
           "name": "shelf hydrophone2016-10-31 05:52:59",
           "showlegend": true,
           "subplot": "mapbox",
           "type": "scattermapbox"
          },
          {
           "customdata": [
            [
             10,
             0
            ]
           ],
           "hovertemplate": "<b>%{hovertext}</b><br><br>VESSEL NAME=offshore hydrophone2016-10-31 05:52:59<br>animation_frame=2016-10-31 05:50<br>LAT=%{lat}<br>LON=%{lon}<br>SPEED (KNOTSx10)=%{customdata[0]}<br>slfdist=%{customdata[1]}<extra></extra>",
           "hovertext": [
            "offshore hydrophone"
           ],
           "lat": [
            44.2284
           ],
           "legendgroup": "offshore hydrophone2016-10-31 05:52:59",
           "lon": [
            -124.57144
           ],
           "marker": {
            "color": "#19d3f3"
           },
           "mode": "markers",
           "name": "offshore hydrophone2016-10-31 05:52:59",
           "showlegend": true,
           "subplot": "mapbox",
           "type": "scattermapbox"
          },
          {
           "customdata": [
            [
             0,
             0
            ]
           ],
           "hovertemplate": "<b>%{hovertext}</b><br><br>VESSEL NAME=shelf hydrophone2016-10-31 05:53:03<br>animation_frame=2016-10-31 05:50<br>LAT=%{lat}<br>LON=%{lon}<br>SPEED (KNOTSx10)=%{customdata[0]}<br>slfdist=%{customdata[1]}<extra></extra>",
           "hovertext": [
            "shelf hydrophone"
           ],
           "lat": [
            44.38132
           ],
           "legendgroup": "shelf hydrophone2016-10-31 05:53:03",
           "lon": [
            -124.18216
           ],
           "marker": {
            "color": "#FF6692"
           },
           "mode": "markers",
           "name": "shelf hydrophone2016-10-31 05:53:03",
           "showlegend": true,
           "subplot": "mapbox",
           "type": "scattermapbox"
          },
          {
           "customdata": [
            [
             10,
             0
            ]
           ],
           "hovertemplate": "<b>%{hovertext}</b><br><br>VESSEL NAME=offshore hydrophone2016-10-31 05:53:03<br>animation_frame=2016-10-31 05:50<br>LAT=%{lat}<br>LON=%{lon}<br>SPEED (KNOTSx10)=%{customdata[0]}<br>slfdist=%{customdata[1]}<extra></extra>",
           "hovertext": [
            "offshore hydrophone"
           ],
           "lat": [
            44.2284
           ],
           "legendgroup": "offshore hydrophone2016-10-31 05:53:03",
           "lon": [
            -124.57144
           ],
           "marker": {
            "color": "#B6E880"
           },
           "mode": "markers",
           "name": "offshore hydrophone2016-10-31 05:53:03",
           "showlegend": true,
           "subplot": "mapbox",
           "type": "scattermapbox"
          },
          {
           "customdata": [
            [
             0,
             0
            ]
           ],
           "hovertemplate": "<b>%{hovertext}</b><br><br>VESSEL NAME=shelf hydrophone2016-10-31 05:53:26<br>animation_frame=2016-10-31 05:50<br>LAT=%{lat}<br>LON=%{lon}<br>SPEED (KNOTSx10)=%{customdata[0]}<br>slfdist=%{customdata[1]}<extra></extra>",
           "hovertext": [
            "shelf hydrophone"
           ],
           "lat": [
            44.38132
           ],
           "legendgroup": "shelf hydrophone2016-10-31 05:53:26",
           "lon": [
            -124.18216
           ],
           "marker": {
            "color": "#FF97FF"
           },
           "mode": "markers",
           "name": "shelf hydrophone2016-10-31 05:53:26",
           "showlegend": true,
           "subplot": "mapbox",
           "type": "scattermapbox"
          },
          {
           "customdata": [
            [
             10,
             0
            ]
           ],
           "hovertemplate": "<b>%{hovertext}</b><br><br>VESSEL NAME=offshore hydrophone2016-10-31 05:53:26<br>animation_frame=2016-10-31 05:50<br>LAT=%{lat}<br>LON=%{lon}<br>SPEED (KNOTSx10)=%{customdata[0]}<br>slfdist=%{customdata[1]}<extra></extra>",
           "hovertext": [
            "offshore hydrophone"
           ],
           "lat": [
            44.2284
           ],
           "legendgroup": "offshore hydrophone2016-10-31 05:53:26",
           "lon": [
            -124.57144
           ],
           "marker": {
            "color": "#FECB52"
           },
           "mode": "markers",
           "name": "offshore hydrophone2016-10-31 05:53:26",
           "showlegend": true,
           "subplot": "mapbox",
           "type": "scattermapbox"
          },
          {
           "customdata": [
            [
             0,
             0
            ]
           ],
           "hovertemplate": "<b>%{hovertext}</b><br><br>VESSEL NAME=shelf hydrophone2016-10-31 05:53:31<br>animation_frame=2016-10-31 05:50<br>LAT=%{lat}<br>LON=%{lon}<br>SPEED (KNOTSx10)=%{customdata[0]}<br>slfdist=%{customdata[1]}<extra></extra>",
           "hovertext": [
            "shelf hydrophone"
           ],
           "lat": [
            44.38132
           ],
           "legendgroup": "shelf hydrophone2016-10-31 05:53:31",
           "lon": [
            -124.18216
           ],
           "marker": {
            "color": "#636efa"
           },
           "mode": "markers",
           "name": "shelf hydrophone2016-10-31 05:53:31",
           "showlegend": true,
           "subplot": "mapbox",
           "type": "scattermapbox"
          },
          {
           "customdata": [
            [
             10,
             0
            ]
           ],
           "hovertemplate": "<b>%{hovertext}</b><br><br>VESSEL NAME=offshore hydrophone2016-10-31 05:53:31<br>animation_frame=2016-10-31 05:50<br>LAT=%{lat}<br>LON=%{lon}<br>SPEED (KNOTSx10)=%{customdata[0]}<br>slfdist=%{customdata[1]}<extra></extra>",
           "hovertext": [
            "offshore hydrophone"
           ],
           "lat": [
            44.2284
           ],
           "legendgroup": "offshore hydrophone2016-10-31 05:53:31",
           "lon": [
            -124.57144
           ],
           "marker": {
            "color": "#EF553B"
           },
           "mode": "markers",
           "name": "offshore hydrophone2016-10-31 05:53:31",
           "showlegend": true,
           "subplot": "mapbox",
           "type": "scattermapbox"
          },
          {
           "customdata": [
            [
             0,
             0
            ]
           ],
           "hovertemplate": "<b>%{hovertext}</b><br><br>VESSEL NAME=shelf hydrophone2016-10-31 05:53:44<br>animation_frame=2016-10-31 05:50<br>LAT=%{lat}<br>LON=%{lon}<br>SPEED (KNOTSx10)=%{customdata[0]}<br>slfdist=%{customdata[1]}<extra></extra>",
           "hovertext": [
            "shelf hydrophone"
           ],
           "lat": [
            44.38132
           ],
           "legendgroup": "shelf hydrophone2016-10-31 05:53:44",
           "lon": [
            -124.18216
           ],
           "marker": {
            "color": "#00cc96"
           },
           "mode": "markers",
           "name": "shelf hydrophone2016-10-31 05:53:44",
           "showlegend": true,
           "subplot": "mapbox",
           "type": "scattermapbox"
          },
          {
           "customdata": [
            [
             10,
             0
            ]
           ],
           "hovertemplate": "<b>%{hovertext}</b><br><br>VESSEL NAME=offshore hydrophone2016-10-31 05:53:44<br>animation_frame=2016-10-31 05:50<br>LAT=%{lat}<br>LON=%{lon}<br>SPEED (KNOTSx10)=%{customdata[0]}<br>slfdist=%{customdata[1]}<extra></extra>",
           "hovertext": [
            "offshore hydrophone"
           ],
           "lat": [
            44.2284
           ],
           "legendgroup": "offshore hydrophone2016-10-31 05:53:44",
           "lon": [
            -124.57144
           ],
           "marker": {
            "color": "#ab63fa"
           },
           "mode": "markers",
           "name": "offshore hydrophone2016-10-31 05:53:44",
           "showlegend": true,
           "subplot": "mapbox",
           "type": "scattermapbox"
          },
          {
           "customdata": [
            [
             0,
             0
            ]
           ],
           "hovertemplate": "<b>%{hovertext}</b><br><br>VESSEL NAME=shelf hydrophone2016-10-31 05:54:09<br>animation_frame=2016-10-31 05:50<br>LAT=%{lat}<br>LON=%{lon}<br>SPEED (KNOTSx10)=%{customdata[0]}<br>slfdist=%{customdata[1]}<extra></extra>",
           "hovertext": [
            "shelf hydrophone"
           ],
           "lat": [
            44.38132
           ],
           "legendgroup": "shelf hydrophone2016-10-31 05:54:09",
           "lon": [
            -124.18216
           ],
           "marker": {
            "color": "#FFA15A"
           },
           "mode": "markers",
           "name": "shelf hydrophone2016-10-31 05:54:09",
           "showlegend": true,
           "subplot": "mapbox",
           "type": "scattermapbox"
          },
          {
           "customdata": [
            [
             10,
             0
            ]
           ],
           "hovertemplate": "<b>%{hovertext}</b><br><br>VESSEL NAME=offshore hydrophone2016-10-31 05:54:09<br>animation_frame=2016-10-31 05:50<br>LAT=%{lat}<br>LON=%{lon}<br>SPEED (KNOTSx10)=%{customdata[0]}<br>slfdist=%{customdata[1]}<extra></extra>",
           "hovertext": [
            "offshore hydrophone"
           ],
           "lat": [
            44.2284
           ],
           "legendgroup": "offshore hydrophone2016-10-31 05:54:09",
           "lon": [
            -124.57144
           ],
           "marker": {
            "color": "#19d3f3"
           },
           "mode": "markers",
           "name": "offshore hydrophone2016-10-31 05:54:09",
           "showlegend": true,
           "subplot": "mapbox",
           "type": "scattermapbox"
          },
          {
           "customdata": [
            [
             0,
             0
            ]
           ],
           "hovertemplate": "<b>%{hovertext}</b><br><br>VESSEL NAME=shelf hydrophone2016-10-31 05:54:47<br>animation_frame=2016-10-31 05:50<br>LAT=%{lat}<br>LON=%{lon}<br>SPEED (KNOTSx10)=%{customdata[0]}<br>slfdist=%{customdata[1]}<extra></extra>",
           "hovertext": [
            "shelf hydrophone"
           ],
           "lat": [
            44.38132
           ],
           "legendgroup": "shelf hydrophone2016-10-31 05:54:47",
           "lon": [
            -124.18216
           ],
           "marker": {
            "color": "#FF6692"
           },
           "mode": "markers",
           "name": "shelf hydrophone2016-10-31 05:54:47",
           "showlegend": true,
           "subplot": "mapbox",
           "type": "scattermapbox"
          },
          {
           "customdata": [
            [
             10,
             0
            ]
           ],
           "hovertemplate": "<b>%{hovertext}</b><br><br>VESSEL NAME=offshore hydrophone2016-10-31 05:54:47<br>animation_frame=2016-10-31 05:50<br>LAT=%{lat}<br>LON=%{lon}<br>SPEED (KNOTSx10)=%{customdata[0]}<br>slfdist=%{customdata[1]}<extra></extra>",
           "hovertext": [
            "offshore hydrophone"
           ],
           "lat": [
            44.2284
           ],
           "legendgroup": "offshore hydrophone2016-10-31 05:54:47",
           "lon": [
            -124.57144
           ],
           "marker": {
            "color": "#B6E880"
           },
           "mode": "markers",
           "name": "offshore hydrophone2016-10-31 05:54:47",
           "showlegend": true,
           "subplot": "mapbox",
           "type": "scattermapbox"
          },
          {
           "customdata": [
            [
             0,
             0
            ]
           ],
           "hovertemplate": "<b>%{hovertext}</b><br><br>VESSEL NAME=shelf hydrophone2016-10-31 05:55:29<br>animation_frame=2016-10-31 05:50<br>LAT=%{lat}<br>LON=%{lon}<br>SPEED (KNOTSx10)=%{customdata[0]}<br>slfdist=%{customdata[1]}<extra></extra>",
           "hovertext": [
            "shelf hydrophone"
           ],
           "lat": [
            44.38132
           ],
           "legendgroup": "shelf hydrophone2016-10-31 05:55:29",
           "lon": [
            -124.18216
           ],
           "marker": {
            "color": "#FF97FF"
           },
           "mode": "markers",
           "name": "shelf hydrophone2016-10-31 05:55:29",
           "showlegend": true,
           "subplot": "mapbox",
           "type": "scattermapbox"
          },
          {
           "customdata": [
            [
             10,
             0
            ]
           ],
           "hovertemplate": "<b>%{hovertext}</b><br><br>VESSEL NAME=offshore hydrophone2016-10-31 05:55:29<br>animation_frame=2016-10-31 05:50<br>LAT=%{lat}<br>LON=%{lon}<br>SPEED (KNOTSx10)=%{customdata[0]}<br>slfdist=%{customdata[1]}<extra></extra>",
           "hovertext": [
            "offshore hydrophone"
           ],
           "lat": [
            44.2284
           ],
           "legendgroup": "offshore hydrophone2016-10-31 05:55:29",
           "lon": [
            -124.57144
           ],
           "marker": {
            "color": "#FECB52"
           },
           "mode": "markers",
           "name": "offshore hydrophone2016-10-31 05:55:29",
           "showlegend": true,
           "subplot": "mapbox",
           "type": "scattermapbox"
          },
          {
           "customdata": [
            [
             0,
             0
            ]
           ],
           "hovertemplate": "<b>%{hovertext}</b><br><br>VESSEL NAME=shelf hydrophone2016-10-31 05:55:36<br>animation_frame=2016-10-31 05:50<br>LAT=%{lat}<br>LON=%{lon}<br>SPEED (KNOTSx10)=%{customdata[0]}<br>slfdist=%{customdata[1]}<extra></extra>",
           "hovertext": [
            "shelf hydrophone"
           ],
           "lat": [
            44.38132
           ],
           "legendgroup": "shelf hydrophone2016-10-31 05:55:36",
           "lon": [
            -124.18216
           ],
           "marker": {
            "color": "#636efa"
           },
           "mode": "markers",
           "name": "shelf hydrophone2016-10-31 05:55:36",
           "showlegend": true,
           "subplot": "mapbox",
           "type": "scattermapbox"
          },
          {
           "customdata": [
            [
             10,
             0
            ]
           ],
           "hovertemplate": "<b>%{hovertext}</b><br><br>VESSEL NAME=offshore hydrophone2016-10-31 05:55:36<br>animation_frame=2016-10-31 05:50<br>LAT=%{lat}<br>LON=%{lon}<br>SPEED (KNOTSx10)=%{customdata[0]}<br>slfdist=%{customdata[1]}<extra></extra>",
           "hovertext": [
            "offshore hydrophone"
           ],
           "lat": [
            44.2284
           ],
           "legendgroup": "offshore hydrophone2016-10-31 05:55:36",
           "lon": [
            -124.57144
           ],
           "marker": {
            "color": "#EF553B"
           },
           "mode": "markers",
           "name": "offshore hydrophone2016-10-31 05:55:36",
           "showlegend": true,
           "subplot": "mapbox",
           "type": "scattermapbox"
          },
          {
           "customdata": [
            [
             0,
             0
            ]
           ],
           "hovertemplate": "<b>%{hovertext}</b><br><br>VESSEL NAME=shelf hydrophone2016-10-31 05:55:57<br>animation_frame=2016-10-31 05:50<br>LAT=%{lat}<br>LON=%{lon}<br>SPEED (KNOTSx10)=%{customdata[0]}<br>slfdist=%{customdata[1]}<extra></extra>",
           "hovertext": [
            "shelf hydrophone"
           ],
           "lat": [
            44.38132
           ],
           "legendgroup": "shelf hydrophone2016-10-31 05:55:57",
           "lon": [
            -124.18216
           ],
           "marker": {
            "color": "#00cc96"
           },
           "mode": "markers",
           "name": "shelf hydrophone2016-10-31 05:55:57",
           "showlegend": true,
           "subplot": "mapbox",
           "type": "scattermapbox"
          },
          {
           "customdata": [
            [
             10,
             0
            ]
           ],
           "hovertemplate": "<b>%{hovertext}</b><br><br>VESSEL NAME=offshore hydrophone2016-10-31 05:55:57<br>animation_frame=2016-10-31 05:50<br>LAT=%{lat}<br>LON=%{lon}<br>SPEED (KNOTSx10)=%{customdata[0]}<br>slfdist=%{customdata[1]}<extra></extra>",
           "hovertext": [
            "offshore hydrophone"
           ],
           "lat": [
            44.2284
           ],
           "legendgroup": "offshore hydrophone2016-10-31 05:55:57",
           "lon": [
            -124.57144
           ],
           "marker": {
            "color": "#ab63fa"
           },
           "mode": "markers",
           "name": "offshore hydrophone2016-10-31 05:55:57",
           "showlegend": true,
           "subplot": "mapbox",
           "type": "scattermapbox"
          },
          {
           "customdata": [
            [
             0,
             0
            ]
           ],
           "hovertemplate": "<b>%{hovertext}</b><br><br>VESSEL NAME=shelf hydrophone2016-10-31 05:56:00<br>animation_frame=2016-10-31 05:50<br>LAT=%{lat}<br>LON=%{lon}<br>SPEED (KNOTSx10)=%{customdata[0]}<br>slfdist=%{customdata[1]}<extra></extra>",
           "hovertext": [
            "shelf hydrophone"
           ],
           "lat": [
            44.38132
           ],
           "legendgroup": "shelf hydrophone2016-10-31 05:56:00",
           "lon": [
            -124.18216
           ],
           "marker": {
            "color": "#FFA15A"
           },
           "mode": "markers",
           "name": "shelf hydrophone2016-10-31 05:56:00",
           "showlegend": true,
           "subplot": "mapbox",
           "type": "scattermapbox"
          },
          {
           "customdata": [
            [
             10,
             0
            ]
           ],
           "hovertemplate": "<b>%{hovertext}</b><br><br>VESSEL NAME=offshore hydrophone2016-10-31 05:56:00<br>animation_frame=2016-10-31 05:50<br>LAT=%{lat}<br>LON=%{lon}<br>SPEED (KNOTSx10)=%{customdata[0]}<br>slfdist=%{customdata[1]}<extra></extra>",
           "hovertext": [
            "offshore hydrophone"
           ],
           "lat": [
            44.2284
           ],
           "legendgroup": "offshore hydrophone2016-10-31 05:56:00",
           "lon": [
            -124.57144
           ],
           "marker": {
            "color": "#19d3f3"
           },
           "mode": "markers",
           "name": "offshore hydrophone2016-10-31 05:56:00",
           "showlegend": true,
           "subplot": "mapbox",
           "type": "scattermapbox"
          },
          {
           "customdata": [
            [
             0,
             0
            ]
           ],
           "hovertemplate": "<b>%{hovertext}</b><br><br>VESSEL NAME=shelf hydrophone2016-10-31 05:56:09<br>animation_frame=2016-10-31 05:50<br>LAT=%{lat}<br>LON=%{lon}<br>SPEED (KNOTSx10)=%{customdata[0]}<br>slfdist=%{customdata[1]}<extra></extra>",
           "hovertext": [
            "shelf hydrophone"
           ],
           "lat": [
            44.38132
           ],
           "legendgroup": "shelf hydrophone2016-10-31 05:56:09",
           "lon": [
            -124.18216
           ],
           "marker": {
            "color": "#FF6692"
           },
           "mode": "markers",
           "name": "shelf hydrophone2016-10-31 05:56:09",
           "showlegend": true,
           "subplot": "mapbox",
           "type": "scattermapbox"
          },
          {
           "customdata": [
            [
             10,
             0
            ]
           ],
           "hovertemplate": "<b>%{hovertext}</b><br><br>VESSEL NAME=offshore hydrophone2016-10-31 05:56:09<br>animation_frame=2016-10-31 05:50<br>LAT=%{lat}<br>LON=%{lon}<br>SPEED (KNOTSx10)=%{customdata[0]}<br>slfdist=%{customdata[1]}<extra></extra>",
           "hovertext": [
            "offshore hydrophone"
           ],
           "lat": [
            44.2284
           ],
           "legendgroup": "offshore hydrophone2016-10-31 05:56:09",
           "lon": [
            -124.57144
           ],
           "marker": {
            "color": "#B6E880"
           },
           "mode": "markers",
           "name": "offshore hydrophone2016-10-31 05:56:09",
           "showlegend": true,
           "subplot": "mapbox",
           "type": "scattermapbox"
          },
          {
           "customdata": [
            [
             0,
             0
            ]
           ],
           "hovertemplate": "<b>%{hovertext}</b><br><br>VESSEL NAME=shelf hydrophone2016-10-31 05:56:13<br>animation_frame=2016-10-31 05:50<br>LAT=%{lat}<br>LON=%{lon}<br>SPEED (KNOTSx10)=%{customdata[0]}<br>slfdist=%{customdata[1]}<extra></extra>",
           "hovertext": [
            "shelf hydrophone"
           ],
           "lat": [
            44.38132
           ],
           "legendgroup": "shelf hydrophone2016-10-31 05:56:13",
           "lon": [
            -124.18216
           ],
           "marker": {
            "color": "#FF97FF"
           },
           "mode": "markers",
           "name": "shelf hydrophone2016-10-31 05:56:13",
           "showlegend": true,
           "subplot": "mapbox",
           "type": "scattermapbox"
          },
          {
           "customdata": [
            [
             10,
             0
            ]
           ],
           "hovertemplate": "<b>%{hovertext}</b><br><br>VESSEL NAME=offshore hydrophone2016-10-31 05:56:13<br>animation_frame=2016-10-31 05:50<br>LAT=%{lat}<br>LON=%{lon}<br>SPEED (KNOTSx10)=%{customdata[0]}<br>slfdist=%{customdata[1]}<extra></extra>",
           "hovertext": [
            "offshore hydrophone"
           ],
           "lat": [
            44.2284
           ],
           "legendgroup": "offshore hydrophone2016-10-31 05:56:13",
           "lon": [
            -124.57144
           ],
           "marker": {
            "color": "#FECB52"
           },
           "mode": "markers",
           "name": "offshore hydrophone2016-10-31 05:56:13",
           "showlegend": true,
           "subplot": "mapbox",
           "type": "scattermapbox"
          },
          {
           "customdata": [
            [
             0,
             0
            ]
           ],
           "hovertemplate": "<b>%{hovertext}</b><br><br>VESSEL NAME=shelf hydrophone2016-10-31 05:57:02<br>animation_frame=2016-10-31 05:50<br>LAT=%{lat}<br>LON=%{lon}<br>SPEED (KNOTSx10)=%{customdata[0]}<br>slfdist=%{customdata[1]}<extra></extra>",
           "hovertext": [
            "shelf hydrophone"
           ],
           "lat": [
            44.38132
           ],
           "legendgroup": "shelf hydrophone2016-10-31 05:57:02",
           "lon": [
            -124.18216
           ],
           "marker": {
            "color": "#636efa"
           },
           "mode": "markers",
           "name": "shelf hydrophone2016-10-31 05:57:02",
           "showlegend": true,
           "subplot": "mapbox",
           "type": "scattermapbox"
          },
          {
           "customdata": [
            [
             10,
             0
            ]
           ],
           "hovertemplate": "<b>%{hovertext}</b><br><br>VESSEL NAME=offshore hydrophone2016-10-31 05:57:02<br>animation_frame=2016-10-31 05:50<br>LAT=%{lat}<br>LON=%{lon}<br>SPEED (KNOTSx10)=%{customdata[0]}<br>slfdist=%{customdata[1]}<extra></extra>",
           "hovertext": [
            "offshore hydrophone"
           ],
           "lat": [
            44.2284
           ],
           "legendgroup": "offshore hydrophone2016-10-31 05:57:02",
           "lon": [
            -124.57144
           ],
           "marker": {
            "color": "#EF553B"
           },
           "mode": "markers",
           "name": "offshore hydrophone2016-10-31 05:57:02",
           "showlegend": true,
           "subplot": "mapbox",
           "type": "scattermapbox"
          },
          {
           "customdata": [
            [
             0,
             0
            ]
           ],
           "hovertemplate": "<b>%{hovertext}</b><br><br>VESSEL NAME=shelf hydrophone2016-10-31 05:57:07<br>animation_frame=2016-10-31 05:50<br>LAT=%{lat}<br>LON=%{lon}<br>SPEED (KNOTSx10)=%{customdata[0]}<br>slfdist=%{customdata[1]}<extra></extra>",
           "hovertext": [
            "shelf hydrophone"
           ],
           "lat": [
            44.38132
           ],
           "legendgroup": "shelf hydrophone2016-10-31 05:57:07",
           "lon": [
            -124.18216
           ],
           "marker": {
            "color": "#00cc96"
           },
           "mode": "markers",
           "name": "shelf hydrophone2016-10-31 05:57:07",
           "showlegend": true,
           "subplot": "mapbox",
           "type": "scattermapbox"
          },
          {
           "customdata": [
            [
             10,
             0
            ]
           ],
           "hovertemplate": "<b>%{hovertext}</b><br><br>VESSEL NAME=offshore hydrophone2016-10-31 05:57:07<br>animation_frame=2016-10-31 05:50<br>LAT=%{lat}<br>LON=%{lon}<br>SPEED (KNOTSx10)=%{customdata[0]}<br>slfdist=%{customdata[1]}<extra></extra>",
           "hovertext": [
            "offshore hydrophone"
           ],
           "lat": [
            44.2284
           ],
           "legendgroup": "offshore hydrophone2016-10-31 05:57:07",
           "lon": [
            -124.57144
           ],
           "marker": {
            "color": "#ab63fa"
           },
           "mode": "markers",
           "name": "offshore hydrophone2016-10-31 05:57:07",
           "showlegend": true,
           "subplot": "mapbox",
           "type": "scattermapbox"
          },
          {
           "customdata": [
            [
             0,
             0
            ]
           ],
           "hovertemplate": "<b>%{hovertext}</b><br><br>VESSEL NAME=shelf hydrophone2016-10-31 05:57:48<br>animation_frame=2016-10-31 05:50<br>LAT=%{lat}<br>LON=%{lon}<br>SPEED (KNOTSx10)=%{customdata[0]}<br>slfdist=%{customdata[1]}<extra></extra>",
           "hovertext": [
            "shelf hydrophone"
           ],
           "lat": [
            44.38132
           ],
           "legendgroup": "shelf hydrophone2016-10-31 05:57:48",
           "lon": [
            -124.18216
           ],
           "marker": {
            "color": "#FFA15A"
           },
           "mode": "markers",
           "name": "shelf hydrophone2016-10-31 05:57:48",
           "showlegend": true,
           "subplot": "mapbox",
           "type": "scattermapbox"
          },
          {
           "customdata": [
            [
             10,
             0
            ]
           ],
           "hovertemplate": "<b>%{hovertext}</b><br><br>VESSEL NAME=offshore hydrophone2016-10-31 05:57:48<br>animation_frame=2016-10-31 05:50<br>LAT=%{lat}<br>LON=%{lon}<br>SPEED (KNOTSx10)=%{customdata[0]}<br>slfdist=%{customdata[1]}<extra></extra>",
           "hovertext": [
            "offshore hydrophone"
           ],
           "lat": [
            44.2284
           ],
           "legendgroup": "offshore hydrophone2016-10-31 05:57:48",
           "lon": [
            -124.57144
           ],
           "marker": {
            "color": "#19d3f3"
           },
           "mode": "markers",
           "name": "offshore hydrophone2016-10-31 05:57:48",
           "showlegend": true,
           "subplot": "mapbox",
           "type": "scattermapbox"
          },
          {
           "customdata": [
            [
             0,
             0
            ]
           ],
           "hovertemplate": "<b>%{hovertext}</b><br><br>VESSEL NAME=shelf hydrophone2016-10-31 05:58:13<br>animation_frame=2016-10-31 05:50<br>LAT=%{lat}<br>LON=%{lon}<br>SPEED (KNOTSx10)=%{customdata[0]}<br>slfdist=%{customdata[1]}<extra></extra>",
           "hovertext": [
            "shelf hydrophone"
           ],
           "lat": [
            44.38132
           ],
           "legendgroup": "shelf hydrophone2016-10-31 05:58:13",
           "lon": [
            -124.18216
           ],
           "marker": {
            "color": "#FF6692"
           },
           "mode": "markers",
           "name": "shelf hydrophone2016-10-31 05:58:13",
           "showlegend": true,
           "subplot": "mapbox",
           "type": "scattermapbox"
          },
          {
           "customdata": [
            [
             10,
             0
            ]
           ],
           "hovertemplate": "<b>%{hovertext}</b><br><br>VESSEL NAME=offshore hydrophone2016-10-31 05:58:13<br>animation_frame=2016-10-31 05:50<br>LAT=%{lat}<br>LON=%{lon}<br>SPEED (KNOTSx10)=%{customdata[0]}<br>slfdist=%{customdata[1]}<extra></extra>",
           "hovertext": [
            "offshore hydrophone"
           ],
           "lat": [
            44.2284
           ],
           "legendgroup": "offshore hydrophone2016-10-31 05:58:13",
           "lon": [
            -124.57144
           ],
           "marker": {
            "color": "#B6E880"
           },
           "mode": "markers",
           "name": "offshore hydrophone2016-10-31 05:58:13",
           "showlegend": true,
           "subplot": "mapbox",
           "type": "scattermapbox"
          },
          {
           "customdata": [
            [
             0,
             0
            ]
           ],
           "hovertemplate": "<b>%{hovertext}</b><br><br>VESSEL NAME=shelf hydrophone2016-10-31 05:58:14<br>animation_frame=2016-10-31 05:50<br>LAT=%{lat}<br>LON=%{lon}<br>SPEED (KNOTSx10)=%{customdata[0]}<br>slfdist=%{customdata[1]}<extra></extra>",
           "hovertext": [
            "shelf hydrophone"
           ],
           "lat": [
            44.38132
           ],
           "legendgroup": "shelf hydrophone2016-10-31 05:58:14",
           "lon": [
            -124.18216
           ],
           "marker": {
            "color": "#FF97FF"
           },
           "mode": "markers",
           "name": "shelf hydrophone2016-10-31 05:58:14",
           "showlegend": true,
           "subplot": "mapbox",
           "type": "scattermapbox"
          },
          {
           "customdata": [
            [
             10,
             0
            ]
           ],
           "hovertemplate": "<b>%{hovertext}</b><br><br>VESSEL NAME=offshore hydrophone2016-10-31 05:58:14<br>animation_frame=2016-10-31 05:50<br>LAT=%{lat}<br>LON=%{lon}<br>SPEED (KNOTSx10)=%{customdata[0]}<br>slfdist=%{customdata[1]}<extra></extra>",
           "hovertext": [
            "offshore hydrophone"
           ],
           "lat": [
            44.2284
           ],
           "legendgroup": "offshore hydrophone2016-10-31 05:58:14",
           "lon": [
            -124.57144
           ],
           "marker": {
            "color": "#FECB52"
           },
           "mode": "markers",
           "name": "offshore hydrophone2016-10-31 05:58:14",
           "showlegend": true,
           "subplot": "mapbox",
           "type": "scattermapbox"
          },
          {
           "customdata": [
            [
             0,
             0
            ]
           ],
           "hovertemplate": "<b>%{hovertext}</b><br><br>VESSEL NAME=shelf hydrophone2016-10-31 05:58:27<br>animation_frame=2016-10-31 05:50<br>LAT=%{lat}<br>LON=%{lon}<br>SPEED (KNOTSx10)=%{customdata[0]}<br>slfdist=%{customdata[1]}<extra></extra>",
           "hovertext": [
            "shelf hydrophone"
           ],
           "lat": [
            44.38132
           ],
           "legendgroup": "shelf hydrophone2016-10-31 05:58:27",
           "lon": [
            -124.18216
           ],
           "marker": {
            "color": "#636efa"
           },
           "mode": "markers",
           "name": "shelf hydrophone2016-10-31 05:58:27",
           "showlegend": true,
           "subplot": "mapbox",
           "type": "scattermapbox"
          },
          {
           "customdata": [
            [
             10,
             0
            ]
           ],
           "hovertemplate": "<b>%{hovertext}</b><br><br>VESSEL NAME=offshore hydrophone2016-10-31 05:58:27<br>animation_frame=2016-10-31 05:50<br>LAT=%{lat}<br>LON=%{lon}<br>SPEED (KNOTSx10)=%{customdata[0]}<br>slfdist=%{customdata[1]}<extra></extra>",
           "hovertext": [
            "offshore hydrophone"
           ],
           "lat": [
            44.2284
           ],
           "legendgroup": "offshore hydrophone2016-10-31 05:58:27",
           "lon": [
            -124.57144
           ],
           "marker": {
            "color": "#EF553B"
           },
           "mode": "markers",
           "name": "offshore hydrophone2016-10-31 05:58:27",
           "showlegend": true,
           "subplot": "mapbox",
           "type": "scattermapbox"
          },
          {
           "customdata": [
            [
             0,
             0
            ]
           ],
           "hovertemplate": "<b>%{hovertext}</b><br><br>VESSEL NAME=shelf hydrophone2016-10-31 05:58:55<br>animation_frame=2016-10-31 05:50<br>LAT=%{lat}<br>LON=%{lon}<br>SPEED (KNOTSx10)=%{customdata[0]}<br>slfdist=%{customdata[1]}<extra></extra>",
           "hovertext": [
            "shelf hydrophone"
           ],
           "lat": [
            44.38132
           ],
           "legendgroup": "shelf hydrophone2016-10-31 05:58:55",
           "lon": [
            -124.18216
           ],
           "marker": {
            "color": "#00cc96"
           },
           "mode": "markers",
           "name": "shelf hydrophone2016-10-31 05:58:55",
           "showlegend": true,
           "subplot": "mapbox",
           "type": "scattermapbox"
          },
          {
           "customdata": [
            [
             10,
             0
            ]
           ],
           "hovertemplate": "<b>%{hovertext}</b><br><br>VESSEL NAME=offshore hydrophone2016-10-31 05:58:55<br>animation_frame=2016-10-31 05:50<br>LAT=%{lat}<br>LON=%{lon}<br>SPEED (KNOTSx10)=%{customdata[0]}<br>slfdist=%{customdata[1]}<extra></extra>",
           "hovertext": [
            "offshore hydrophone"
           ],
           "lat": [
            44.2284
           ],
           "legendgroup": "offshore hydrophone2016-10-31 05:58:55",
           "lon": [
            -124.57144
           ],
           "marker": {
            "color": "#ab63fa"
           },
           "mode": "markers",
           "name": "offshore hydrophone2016-10-31 05:58:55",
           "showlegend": true,
           "subplot": "mapbox",
           "type": "scattermapbox"
          },
          {
           "customdata": [
            [
             0,
             0
            ]
           ],
           "hovertemplate": "<b>%{hovertext}</b><br><br>VESSEL NAME=shelf hydrophone2016-10-31 05:59:02<br>animation_frame=2016-10-31 05:50<br>LAT=%{lat}<br>LON=%{lon}<br>SPEED (KNOTSx10)=%{customdata[0]}<br>slfdist=%{customdata[1]}<extra></extra>",
           "hovertext": [
            "shelf hydrophone"
           ],
           "lat": [
            44.38132
           ],
           "legendgroup": "shelf hydrophone2016-10-31 05:59:02",
           "lon": [
            -124.18216
           ],
           "marker": {
            "color": "#FFA15A"
           },
           "mode": "markers",
           "name": "shelf hydrophone2016-10-31 05:59:02",
           "showlegend": true,
           "subplot": "mapbox",
           "type": "scattermapbox"
          },
          {
           "customdata": [
            [
             10,
             0
            ]
           ],
           "hovertemplate": "<b>%{hovertext}</b><br><br>VESSEL NAME=offshore hydrophone2016-10-31 05:59:02<br>animation_frame=2016-10-31 05:50<br>LAT=%{lat}<br>LON=%{lon}<br>SPEED (KNOTSx10)=%{customdata[0]}<br>slfdist=%{customdata[1]}<extra></extra>",
           "hovertext": [
            "offshore hydrophone"
           ],
           "lat": [
            44.2284
           ],
           "legendgroup": "offshore hydrophone2016-10-31 05:59:02",
           "lon": [
            -124.57144
           ],
           "marker": {
            "color": "#19d3f3"
           },
           "mode": "markers",
           "name": "offshore hydrophone2016-10-31 05:59:02",
           "showlegend": true,
           "subplot": "mapbox",
           "type": "scattermapbox"
          },
          {
           "customdata": [
            [
             0,
             0
            ]
           ],
           "hovertemplate": "<b>%{hovertext}</b><br><br>VESSEL NAME=shelf hydrophone2016-10-31 05:59:22<br>animation_frame=2016-10-31 05:50<br>LAT=%{lat}<br>LON=%{lon}<br>SPEED (KNOTSx10)=%{customdata[0]}<br>slfdist=%{customdata[1]}<extra></extra>",
           "hovertext": [
            "shelf hydrophone"
           ],
           "lat": [
            44.38132
           ],
           "legendgroup": "shelf hydrophone2016-10-31 05:59:22",
           "lon": [
            -124.18216
           ],
           "marker": {
            "color": "#FF6692"
           },
           "mode": "markers",
           "name": "shelf hydrophone2016-10-31 05:59:22",
           "showlegend": true,
           "subplot": "mapbox",
           "type": "scattermapbox"
          },
          {
           "customdata": [
            [
             10,
             0
            ]
           ],
           "hovertemplate": "<b>%{hovertext}</b><br><br>VESSEL NAME=offshore hydrophone2016-10-31 05:59:22<br>animation_frame=2016-10-31 05:50<br>LAT=%{lat}<br>LON=%{lon}<br>SPEED (KNOTSx10)=%{customdata[0]}<br>slfdist=%{customdata[1]}<extra></extra>",
           "hovertext": [
            "offshore hydrophone"
           ],
           "lat": [
            44.2284
           ],
           "legendgroup": "offshore hydrophone2016-10-31 05:59:22",
           "lon": [
            -124.57144
           ],
           "marker": {
            "color": "#B6E880"
           },
           "mode": "markers",
           "name": "offshore hydrophone2016-10-31 05:59:22",
           "showlegend": true,
           "subplot": "mapbox",
           "type": "scattermapbox"
          },
          {
           "customdata": [
            [
             0,
             0
            ]
           ],
           "hovertemplate": "<b>%{hovertext}</b><br><br>VESSEL NAME=shelf hydrophone2016-10-31 05:59:25<br>animation_frame=2016-10-31 05:50<br>LAT=%{lat}<br>LON=%{lon}<br>SPEED (KNOTSx10)=%{customdata[0]}<br>slfdist=%{customdata[1]}<extra></extra>",
           "hovertext": [
            "shelf hydrophone"
           ],
           "lat": [
            44.38132
           ],
           "legendgroup": "shelf hydrophone2016-10-31 05:59:25",
           "lon": [
            -124.18216
           ],
           "marker": {
            "color": "#FF97FF"
           },
           "mode": "markers",
           "name": "shelf hydrophone2016-10-31 05:59:25",
           "showlegend": true,
           "subplot": "mapbox",
           "type": "scattermapbox"
          },
          {
           "customdata": [
            [
             10,
             0
            ]
           ],
           "hovertemplate": "<b>%{hovertext}</b><br><br>VESSEL NAME=offshore hydrophone2016-10-31 05:59:25<br>animation_frame=2016-10-31 05:50<br>LAT=%{lat}<br>LON=%{lon}<br>SPEED (KNOTSx10)=%{customdata[0]}<br>slfdist=%{customdata[1]}<extra></extra>",
           "hovertext": [
            "offshore hydrophone"
           ],
           "lat": [
            44.2284
           ],
           "legendgroup": "offshore hydrophone2016-10-31 05:59:25",
           "lon": [
            -124.57144
           ],
           "marker": {
            "color": "#FECB52"
           },
           "mode": "markers",
           "name": "offshore hydrophone2016-10-31 05:59:25",
           "showlegend": true,
           "subplot": "mapbox",
           "type": "scattermapbox"
          },
          {
           "customdata": [
            [
             0,
             0
            ]
           ],
           "hovertemplate": "<b>%{hovertext}</b><br><br>VESSEL NAME=shelf hydrophone2016-10-31 05:59:49<br>animation_frame=2016-10-31 05:50<br>LAT=%{lat}<br>LON=%{lon}<br>SPEED (KNOTSx10)=%{customdata[0]}<br>slfdist=%{customdata[1]}<extra></extra>",
           "hovertext": [
            "shelf hydrophone"
           ],
           "lat": [
            44.38132
           ],
           "legendgroup": "shelf hydrophone2016-10-31 05:59:49",
           "lon": [
            -124.18216
           ],
           "marker": {
            "color": "#636efa"
           },
           "mode": "markers",
           "name": "shelf hydrophone2016-10-31 05:59:49",
           "showlegend": true,
           "subplot": "mapbox",
           "type": "scattermapbox"
          },
          {
           "customdata": [
            [
             10,
             0
            ]
           ],
           "hovertemplate": "<b>%{hovertext}</b><br><br>VESSEL NAME=offshore hydrophone2016-10-31 05:59:49<br>animation_frame=2016-10-31 05:50<br>LAT=%{lat}<br>LON=%{lon}<br>SPEED (KNOTSx10)=%{customdata[0]}<br>slfdist=%{customdata[1]}<extra></extra>",
           "hovertext": [
            "offshore hydrophone"
           ],
           "lat": [
            44.2284
           ],
           "legendgroup": "offshore hydrophone2016-10-31 05:59:49",
           "lon": [
            -124.57144
           ],
           "marker": {
            "color": "#EF553B"
           },
           "mode": "markers",
           "name": "offshore hydrophone2016-10-31 05:59:49",
           "showlegend": true,
           "subplot": "mapbox",
           "type": "scattermapbox"
          }
         ],
         "name": "2016-10-31 05:50"
        },
        {
         "data": [
          {
           "customdata": [
            [
             48,
             30.113066917493395
            ],
            [
             46,
             30.04429786993945
            ],
            [
             49,
             29.98526656309747
            ],
            [
             34,
             29.902210518761386
            ]
           ],
           "hovertemplate": "<b>%{hovertext}</b><br><br>VESSEL NAME=SEEKER<br>animation_frame=2016-10-31 06:00<br>LAT=%{lat}<br>LON=%{lon}<br>SPEED (KNOTSx10)=%{customdata[0]}<br>slfdist=%{customdata[1]}<extra></extra>",
           "hovertext": [
            "Fishing",
            "Fishing",
            "Fishing",
            "Fishing"
           ],
           "lat": [
            44.50262,
            44.50473,
            44.50776,
            44.51137
           ],
           "legendgroup": "SEEKER",
           "lon": [
            -124.7669,
            -124.7646,
            -124.7621,
            -124.7588
           ],
           "marker": {
            "color": "#636efa"
           },
           "mode": "markers",
           "name": "SEEKER",
           "showlegend": true,
           "subplot": "mapbox",
           "type": "scattermapbox"
          },
          {
           "customdata": [
            [
             51,
             10.748534643991324
            ],
            [
             49,
             10.57621139559977
            ],
            [
             54,
             10.451668804877603
            ]
           ],
           "hovertemplate": "<b>%{hovertext}</b><br><br>VESSEL NAME=PACIFIC RAM<br>animation_frame=2016-10-31 06:00<br>LAT=%{lat}<br>LON=%{lon}<br>SPEED (KNOTSx10)=%{customdata[0]}<br>slfdist=%{customdata[1]}<extra></extra>",
           "hovertext": [
            "Factory Trawler",
            "Factory Trawler",
            "Factory Trawler"
           ],
           "lat": [
            44.53447,
            44.53121,
            44.52876
           ],
           "legendgroup": "PACIFIC RAM",
           "lon": [
            -124.2211,
            -124.2262,
            -124.23
           ],
           "marker": {
            "color": "#EF553B"
           },
           "mode": "markers",
           "name": "PACIFIC RAM",
           "showlegend": true,
           "subplot": "mapbox",
           "type": "scattermapbox"
          },
          {
           "customdata": [
            [
             52,
             11.536264611307919
            ],
            [
             45,
             11.388430836750954
            ],
            [
             42,
             11.25982181464705
            ],
            [
             41,
             11.157827863362938
            ]
           ],
           "hovertemplate": "<b>%{hovertext}</b><br><br>VESSEL NAME=LISA MELINDA<br>animation_frame=2016-10-31 06:00<br>LAT=%{lat}<br>LON=%{lon}<br>SPEED (KNOTSx10)=%{customdata[0]}<br>slfdist=%{customdata[1]}<extra></extra>",
           "hovertext": [
            "Fishing Vessel",
            "Fishing Vessel",
            "Fishing Vessel",
            "Fishing Vessel"
           ],
           "lat": [
            44.54781,
            44.54537,
            44.54317,
            44.54137
           ],
           "legendgroup": "LISA MELINDA",
           "lon": [
            -124.2017,
            -124.206,
            -124.21,
            -124.2133
           ],
           "marker": {
            "color": "#00cc96"
           },
           "mode": "markers",
           "name": "LISA MELINDA",
           "showlegend": true,
           "subplot": "mapbox",
           "type": "scattermapbox"
          },
          {
           "customdata": [
            [
             16,
             33.06257845102688
            ],
            [
             9,
             33.069482457259724
            ],
            [
             24,
             33.063868389201325
            ],
            [
             19,
             33.04549251728677
            ]
           ],
           "hovertemplate": "<b>%{hovertext}</b><br><br>VESSEL NAME=MISS BERDIE<br>animation_frame=2016-10-31 06:00<br>LAT=%{lat}<br>LON=%{lon}<br>SPEED (KNOTSx10)=%{customdata[0]}<br>slfdist=%{customdata[1]}<extra></extra>",
           "hovertext": [
            "Unspecified",
            "Unspecified",
            "Unspecified",
            "Unspecified"
           ],
           "lat": [
            44.59569,
            44.59447,
            44.59312,
            44.59104
           ],
           "legendgroup": "MISS BERDIE",
           "lon": [
            -124.7803,
            -124.7813,
            -124.7821,
            -124.7831
           ],
           "marker": {
            "color": "#ab63fa"
           },
           "mode": "markers",
           "name": "MISS BERDIE",
           "showlegend": true,
           "subplot": "mapbox",
           "type": "scattermapbox"
          },
          {
           "customdata": [
            [
             36,
             33.90734783752127
            ],
            [
             35,
             33.91839310658656
            ],
            [
             37,
             33.93502185427153
            ],
            [
             37,
             33.95917449125087
            ]
           ],
           "hovertemplate": "<b>%{hovertext}</b><br><br>VESSEL NAME=ARCTIC STORM<br>animation_frame=2016-10-31 06:00<br>LAT=%{lat}<br>LON=%{lon}<br>SPEED (KNOTSx10)=%{customdata[0]}<br>slfdist=%{customdata[1]}<extra></extra>",
           "hovertext": [
            "Factory Trawler",
            "Factory Trawler",
            "Factory Trawler",
            "Factory Trawler"
           ],
           "lat": [
            44.57659,
            44.57465,
            44.57221,
            44.57019
           ],
           "legendgroup": "ARCTIC STORM",
           "lon": [
            -124.8115,
            -124.8129,
            -124.8147,
            -124.8164
           ],
           "marker": {
            "color": "#FFA15A"
           },
           "mode": "markers",
           "name": "ARCTIC STORM",
           "showlegend": true,
           "subplot": "mapbox",
           "type": "scattermapbox"
          },
          {
           "customdata": [
            [
             78,
             14.07373459271907
            ],
            [
             68,
             14.396655257600727
            ],
            [
             67,
             15.321088185764836
            ]
           ],
           "hovertemplate": "<b>%{hovertext}</b><br><br>VESSEL NAME=KEN & AL<br>animation_frame=2016-10-31 06:00<br>LAT=%{lat}<br>LON=%{lon}<br>SPEED (KNOTSx10)=%{customdata[0]}<br>slfdist=%{customdata[1]}<extra></extra>",
           "hovertext": [
            "Fishing",
            "Fishing",
            "Fishing"
           ],
           "lat": [
            44.56075,
            44.56616,
            44.58149
           ],
           "legendgroup": "KEN & AL",
           "lon": [
            -124.3172,
            -124.3169,
            -124.3159
           ],
           "marker": {
            "color": "#19d3f3"
           },
           "mode": "markers",
           "name": "KEN & AL",
           "showlegend": true,
           "subplot": "mapbox",
           "type": "scattermapbox"
          },
          {
           "customdata": [
            [
             84,
             16.143712367423053
            ],
            [
             81,
             15.972695131209955
            ],
            [
             84,
             15.817897265502818
            ],
            [
             77,
             15.580260721251568
            ]
           ],
           "hovertemplate": "<b>%{hovertext}</b><br><br>VESSEL NAME=NORTHERN RAM<br>animation_frame=2016-10-31 06:00<br>LAT=%{lat}<br>LON=%{lon}<br>SPEED (KNOTSx10)=%{customdata[0]}<br>slfdist=%{customdata[1]}<extra></extra>",
           "hovertext": [
            "Fishing",
            "Fishing",
            "Fishing",
            "Fishing"
           ],
           "lat": [
            44.55438,
            44.55553,
            44.55663,
            44.55838
           ],
           "legendgroup": "NORTHERN RAM",
           "lon": [
            -124.4017,
            -124.3947,
            -124.3881,
            -124.3775
           ],
           "marker": {
            "color": "#FF6692"
           },
           "mode": "markers",
           "name": "NORTHERN RAM",
           "showlegend": true,
           "subplot": "mapbox",
           "type": "scattermapbox"
          },
          {
           "customdata": [
            [
             31,
             16.835219371616603
            ],
            [
             36,
             16.914953513021445
            ],
            [
             32,
             16.99784314380436
            ],
            [
             32,
             17.082780570827108
            ]
           ],
           "hovertemplate": "<b>%{hovertext}</b><br><br>VESSEL NAME=SEA STORM<br>animation_frame=2016-10-31 06:00<br>LAT=%{lat}<br>LON=%{lon}<br>SPEED (KNOTSx10)=%{customdata[0]}<br>slfdist=%{customdata[1]}<extra></extra>",
           "hovertext": [
            "Trawler",
            "Trawler",
            "Trawler",
            "Trawler"
           ],
           "lat": [
            44.5709,
            44.57058,
            44.5703,
            44.57004
           ],
           "legendgroup": "SEA STORM",
           "lon": [
            -124.3963,
            -124.3994,
            -124.4025,
            -124.4056
           ],
           "marker": {
            "color": "#B6E880"
           },
           "mode": "markers",
           "name": "SEA STORM",
           "showlegend": true,
           "subplot": "mapbox",
           "type": "scattermapbox"
          },
          {
           "customdata": [
            [
             27,
             29.146482725298068
            ],
            [
             27,
             29.186155336934068
            ],
            [
             33,
             29.21819531439353
            ]
           ],
           "hovertemplate": "<b>%{hovertext}</b><br><br>VESSEL NAME=SEADAWN<br>animation_frame=2016-10-31 06:00<br>LAT=%{lat}<br>LON=%{lon}<br>SPEED (KNOTSx10)=%{customdata[0]}<br>slfdist=%{customdata[1]}<extra></extra>",
           "hovertext": [
            "Fishing",
            "Fishing",
            "Fishing"
           ],
           "lat": [
            44.5441,
            44.54213,
            44.54054
           ],
           "legendgroup": "SEADAWN",
           "lon": [
            -124.726,
            -124.728,
            -124.7296
           ],
           "marker": {
            "color": "#636efa"
           },
           "mode": "markers",
           "name": "SEADAWN",
           "showlegend": true,
           "subplot": "mapbox",
           "type": "scattermapbox"
          },
          {
           "customdata": [
            [
             0,
             18.082127730312227
            ]
           ],
           "hovertemplate": "<b>%{hovertext}</b><br><br>VESSEL NAME=DUSK<br>animation_frame=2016-10-31 06:00<br>LAT=%{lat}<br>LON=%{lon}<br>SPEED (KNOTSx10)=%{customdata[0]}<br>slfdist=%{customdata[1]}<extra></extra>",
           "hovertext": [
            "Trawler"
           ],
           "lat": [
            44.62701
           ],
           "legendgroup": "DUSK",
           "lon": [
            -124.0555
           ],
           "marker": {
            "color": "#EF553B"
           },
           "mode": "markers",
           "name": "DUSK",
           "showlegend": true,
           "subplot": "mapbox",
           "type": "scattermapbox"
          },
          {
           "customdata": [
            [
             0,
             0
            ],
            [
             0,
             0
            ]
           ],
           "hovertemplate": "<b>%{hovertext}</b><br><br>VESSEL NAME=shelf hydrophone2016-10-31 06:00:07<br>animation_frame=2016-10-31 06:00<br>LAT=%{lat}<br>LON=%{lon}<br>SPEED (KNOTSx10)=%{customdata[0]}<br>slfdist=%{customdata[1]}<extra></extra>",
           "hovertext": [
            "shelf hydrophone",
            "shelf hydrophone"
           ],
           "lat": [
            44.38132,
            44.38132
           ],
           "legendgroup": "shelf hydrophone2016-10-31 06:00:07",
           "lon": [
            -124.18216,
            -124.18216
           ],
           "marker": {
            "color": "#00cc96"
           },
           "mode": "markers",
           "name": "shelf hydrophone2016-10-31 06:00:07",
           "showlegend": true,
           "subplot": "mapbox",
           "type": "scattermapbox"
          },
          {
           "customdata": [
            [
             10,
             0
            ],
            [
             10,
             0
            ]
           ],
           "hovertemplate": "<b>%{hovertext}</b><br><br>VESSEL NAME=offshore hydrophone2016-10-31 06:00:07<br>animation_frame=2016-10-31 06:00<br>LAT=%{lat}<br>LON=%{lon}<br>SPEED (KNOTSx10)=%{customdata[0]}<br>slfdist=%{customdata[1]}<extra></extra>",
           "hovertext": [
            "offshore hydrophone",
            "offshore hydrophone"
           ],
           "lat": [
            44.2284,
            44.2284
           ],
           "legendgroup": "offshore hydrophone2016-10-31 06:00:07",
           "lon": [
            -124.57144,
            -124.57144
           ],
           "marker": {
            "color": "#ab63fa"
           },
           "mode": "markers",
           "name": "offshore hydrophone2016-10-31 06:00:07",
           "showlegend": true,
           "subplot": "mapbox",
           "type": "scattermapbox"
          },
          {
           "customdata": [
            [
             0,
             0
            ],
            [
             0,
             0
            ]
           ],
           "hovertemplate": "<b>%{hovertext}</b><br><br>VESSEL NAME=shelf hydrophone2016-10-31 06:00:09<br>animation_frame=2016-10-31 06:00<br>LAT=%{lat}<br>LON=%{lon}<br>SPEED (KNOTSx10)=%{customdata[0]}<br>slfdist=%{customdata[1]}<extra></extra>",
           "hovertext": [
            "shelf hydrophone",
            "shelf hydrophone"
           ],
           "lat": [
            44.38132,
            44.38132
           ],
           "legendgroup": "shelf hydrophone2016-10-31 06:00:09",
           "lon": [
            -124.18216,
            -124.18216
           ],
           "marker": {
            "color": "#FFA15A"
           },
           "mode": "markers",
           "name": "shelf hydrophone2016-10-31 06:00:09",
           "showlegend": true,
           "subplot": "mapbox",
           "type": "scattermapbox"
          },
          {
           "customdata": [
            [
             10,
             0
            ],
            [
             10,
             0
            ]
           ],
           "hovertemplate": "<b>%{hovertext}</b><br><br>VESSEL NAME=offshore hydrophone2016-10-31 06:00:09<br>animation_frame=2016-10-31 06:00<br>LAT=%{lat}<br>LON=%{lon}<br>SPEED (KNOTSx10)=%{customdata[0]}<br>slfdist=%{customdata[1]}<extra></extra>",
           "hovertext": [
            "offshore hydrophone",
            "offshore hydrophone"
           ],
           "lat": [
            44.2284,
            44.2284
           ],
           "legendgroup": "offshore hydrophone2016-10-31 06:00:09",
           "lon": [
            -124.57144,
            -124.57144
           ],
           "marker": {
            "color": "#19d3f3"
           },
           "mode": "markers",
           "name": "offshore hydrophone2016-10-31 06:00:09",
           "showlegend": true,
           "subplot": "mapbox",
           "type": "scattermapbox"
          },
          {
           "customdata": [
            [
             0,
             0
            ]
           ],
           "hovertemplate": "<b>%{hovertext}</b><br><br>VESSEL NAME=shelf hydrophone2016-10-31 06:00:19<br>animation_frame=2016-10-31 06:00<br>LAT=%{lat}<br>LON=%{lon}<br>SPEED (KNOTSx10)=%{customdata[0]}<br>slfdist=%{customdata[1]}<extra></extra>",
           "hovertext": [
            "shelf hydrophone"
           ],
           "lat": [
            44.38132
           ],
           "legendgroup": "shelf hydrophone2016-10-31 06:00:19",
           "lon": [
            -124.18216
           ],
           "marker": {
            "color": "#FF6692"
           },
           "mode": "markers",
           "name": "shelf hydrophone2016-10-31 06:00:19",
           "showlegend": true,
           "subplot": "mapbox",
           "type": "scattermapbox"
          },
          {
           "customdata": [
            [
             10,
             0
            ]
           ],
           "hovertemplate": "<b>%{hovertext}</b><br><br>VESSEL NAME=offshore hydrophone2016-10-31 06:00:19<br>animation_frame=2016-10-31 06:00<br>LAT=%{lat}<br>LON=%{lon}<br>SPEED (KNOTSx10)=%{customdata[0]}<br>slfdist=%{customdata[1]}<extra></extra>",
           "hovertext": [
            "offshore hydrophone"
           ],
           "lat": [
            44.2284
           ],
           "legendgroup": "offshore hydrophone2016-10-31 06:00:19",
           "lon": [
            -124.57144
           ],
           "marker": {
            "color": "#B6E880"
           },
           "mode": "markers",
           "name": "offshore hydrophone2016-10-31 06:00:19",
           "showlegend": true,
           "subplot": "mapbox",
           "type": "scattermapbox"
          },
          {
           "customdata": [
            [
             0,
             0
            ]
           ],
           "hovertemplate": "<b>%{hovertext}</b><br><br>VESSEL NAME=shelf hydrophone2016-10-31 06:00:34<br>animation_frame=2016-10-31 06:00<br>LAT=%{lat}<br>LON=%{lon}<br>SPEED (KNOTSx10)=%{customdata[0]}<br>slfdist=%{customdata[1]}<extra></extra>",
           "hovertext": [
            "shelf hydrophone"
           ],
           "lat": [
            44.38132
           ],
           "legendgroup": "shelf hydrophone2016-10-31 06:00:34",
           "lon": [
            -124.18216
           ],
           "marker": {
            "color": "#FF97FF"
           },
           "mode": "markers",
           "name": "shelf hydrophone2016-10-31 06:00:34",
           "showlegend": true,
           "subplot": "mapbox",
           "type": "scattermapbox"
          },
          {
           "customdata": [
            [
             10,
             0
            ]
           ],
           "hovertemplate": "<b>%{hovertext}</b><br><br>VESSEL NAME=offshore hydrophone2016-10-31 06:00:34<br>animation_frame=2016-10-31 06:00<br>LAT=%{lat}<br>LON=%{lon}<br>SPEED (KNOTSx10)=%{customdata[0]}<br>slfdist=%{customdata[1]}<extra></extra>",
           "hovertext": [
            "offshore hydrophone"
           ],
           "lat": [
            44.2284
           ],
           "legendgroup": "offshore hydrophone2016-10-31 06:00:34",
           "lon": [
            -124.57144
           ],
           "marker": {
            "color": "#FECB52"
           },
           "mode": "markers",
           "name": "offshore hydrophone2016-10-31 06:00:34",
           "showlegend": true,
           "subplot": "mapbox",
           "type": "scattermapbox"
          },
          {
           "customdata": [
            [
             0,
             0
            ]
           ],
           "hovertemplate": "<b>%{hovertext}</b><br><br>VESSEL NAME=shelf hydrophone2016-10-31 06:01:06<br>animation_frame=2016-10-31 06:00<br>LAT=%{lat}<br>LON=%{lon}<br>SPEED (KNOTSx10)=%{customdata[0]}<br>slfdist=%{customdata[1]}<extra></extra>",
           "hovertext": [
            "shelf hydrophone"
           ],
           "lat": [
            44.38132
           ],
           "legendgroup": "shelf hydrophone2016-10-31 06:01:06",
           "lon": [
            -124.18216
           ],
           "marker": {
            "color": "#636efa"
           },
           "mode": "markers",
           "name": "shelf hydrophone2016-10-31 06:01:06",
           "showlegend": true,
           "subplot": "mapbox",
           "type": "scattermapbox"
          },
          {
           "customdata": [
            [
             10,
             0
            ]
           ],
           "hovertemplate": "<b>%{hovertext}</b><br><br>VESSEL NAME=offshore hydrophone2016-10-31 06:01:06<br>animation_frame=2016-10-31 06:00<br>LAT=%{lat}<br>LON=%{lon}<br>SPEED (KNOTSx10)=%{customdata[0]}<br>slfdist=%{customdata[1]}<extra></extra>",
           "hovertext": [
            "offshore hydrophone"
           ],
           "lat": [
            44.2284
           ],
           "legendgroup": "offshore hydrophone2016-10-31 06:01:06",
           "lon": [
            -124.57144
           ],
           "marker": {
            "color": "#EF553B"
           },
           "mode": "markers",
           "name": "offshore hydrophone2016-10-31 06:01:06",
           "showlegend": true,
           "subplot": "mapbox",
           "type": "scattermapbox"
          },
          {
           "customdata": [
            [
             0,
             0
            ]
           ],
           "hovertemplate": "<b>%{hovertext}</b><br><br>VESSEL NAME=shelf hydrophone2016-10-31 06:01:07<br>animation_frame=2016-10-31 06:00<br>LAT=%{lat}<br>LON=%{lon}<br>SPEED (KNOTSx10)=%{customdata[0]}<br>slfdist=%{customdata[1]}<extra></extra>",
           "hovertext": [
            "shelf hydrophone"
           ],
           "lat": [
            44.38132
           ],
           "legendgroup": "shelf hydrophone2016-10-31 06:01:07",
           "lon": [
            -124.18216
           ],
           "marker": {
            "color": "#00cc96"
           },
           "mode": "markers",
           "name": "shelf hydrophone2016-10-31 06:01:07",
           "showlegend": true,
           "subplot": "mapbox",
           "type": "scattermapbox"
          },
          {
           "customdata": [
            [
             10,
             0
            ]
           ],
           "hovertemplate": "<b>%{hovertext}</b><br><br>VESSEL NAME=offshore hydrophone2016-10-31 06:01:07<br>animation_frame=2016-10-31 06:00<br>LAT=%{lat}<br>LON=%{lon}<br>SPEED (KNOTSx10)=%{customdata[0]}<br>slfdist=%{customdata[1]}<extra></extra>",
           "hovertext": [
            "offshore hydrophone"
           ],
           "lat": [
            44.2284
           ],
           "legendgroup": "offshore hydrophone2016-10-31 06:01:07",
           "lon": [
            -124.57144
           ],
           "marker": {
            "color": "#ab63fa"
           },
           "mode": "markers",
           "name": "offshore hydrophone2016-10-31 06:01:07",
           "showlegend": true,
           "subplot": "mapbox",
           "type": "scattermapbox"
          },
          {
           "customdata": [
            [
             0,
             0
            ]
           ],
           "hovertemplate": "<b>%{hovertext}</b><br><br>VESSEL NAME=shelf hydrophone2016-10-31 06:01:43<br>animation_frame=2016-10-31 06:00<br>LAT=%{lat}<br>LON=%{lon}<br>SPEED (KNOTSx10)=%{customdata[0]}<br>slfdist=%{customdata[1]}<extra></extra>",
           "hovertext": [
            "shelf hydrophone"
           ],
           "lat": [
            44.38132
           ],
           "legendgroup": "shelf hydrophone2016-10-31 06:01:43",
           "lon": [
            -124.18216
           ],
           "marker": {
            "color": "#FFA15A"
           },
           "mode": "markers",
           "name": "shelf hydrophone2016-10-31 06:01:43",
           "showlegend": true,
           "subplot": "mapbox",
           "type": "scattermapbox"
          },
          {
           "customdata": [
            [
             10,
             0
            ]
           ],
           "hovertemplate": "<b>%{hovertext}</b><br><br>VESSEL NAME=offshore hydrophone2016-10-31 06:01:43<br>animation_frame=2016-10-31 06:00<br>LAT=%{lat}<br>LON=%{lon}<br>SPEED (KNOTSx10)=%{customdata[0]}<br>slfdist=%{customdata[1]}<extra></extra>",
           "hovertext": [
            "offshore hydrophone"
           ],
           "lat": [
            44.2284
           ],
           "legendgroup": "offshore hydrophone2016-10-31 06:01:43",
           "lon": [
            -124.57144
           ],
           "marker": {
            "color": "#19d3f3"
           },
           "mode": "markers",
           "name": "offshore hydrophone2016-10-31 06:01:43",
           "showlegend": true,
           "subplot": "mapbox",
           "type": "scattermapbox"
          },
          {
           "customdata": [
            [
             0,
             0
            ]
           ],
           "hovertemplate": "<b>%{hovertext}</b><br><br>VESSEL NAME=shelf hydrophone2016-10-31 06:02:28<br>animation_frame=2016-10-31 06:00<br>LAT=%{lat}<br>LON=%{lon}<br>SPEED (KNOTSx10)=%{customdata[0]}<br>slfdist=%{customdata[1]}<extra></extra>",
           "hovertext": [
            "shelf hydrophone"
           ],
           "lat": [
            44.38132
           ],
           "legendgroup": "shelf hydrophone2016-10-31 06:02:28",
           "lon": [
            -124.18216
           ],
           "marker": {
            "color": "#FF6692"
           },
           "mode": "markers",
           "name": "shelf hydrophone2016-10-31 06:02:28",
           "showlegend": true,
           "subplot": "mapbox",
           "type": "scattermapbox"
          },
          {
           "customdata": [
            [
             10,
             0
            ]
           ],
           "hovertemplate": "<b>%{hovertext}</b><br><br>VESSEL NAME=offshore hydrophone2016-10-31 06:02:28<br>animation_frame=2016-10-31 06:00<br>LAT=%{lat}<br>LON=%{lon}<br>SPEED (KNOTSx10)=%{customdata[0]}<br>slfdist=%{customdata[1]}<extra></extra>",
           "hovertext": [
            "offshore hydrophone"
           ],
           "lat": [
            44.2284
           ],
           "legendgroup": "offshore hydrophone2016-10-31 06:02:28",
           "lon": [
            -124.57144
           ],
           "marker": {
            "color": "#B6E880"
           },
           "mode": "markers",
           "name": "offshore hydrophone2016-10-31 06:02:28",
           "showlegend": true,
           "subplot": "mapbox",
           "type": "scattermapbox"
          },
          {
           "customdata": [
            [
             0,
             0
            ]
           ],
           "hovertemplate": "<b>%{hovertext}</b><br><br>VESSEL NAME=shelf hydrophone2016-10-31 06:02:36<br>animation_frame=2016-10-31 06:00<br>LAT=%{lat}<br>LON=%{lon}<br>SPEED (KNOTSx10)=%{customdata[0]}<br>slfdist=%{customdata[1]}<extra></extra>",
           "hovertext": [
            "shelf hydrophone"
           ],
           "lat": [
            44.38132
           ],
           "legendgroup": "shelf hydrophone2016-10-31 06:02:36",
           "lon": [
            -124.18216
           ],
           "marker": {
            "color": "#FF97FF"
           },
           "mode": "markers",
           "name": "shelf hydrophone2016-10-31 06:02:36",
           "showlegend": true,
           "subplot": "mapbox",
           "type": "scattermapbox"
          },
          {
           "customdata": [
            [
             10,
             0
            ]
           ],
           "hovertemplate": "<b>%{hovertext}</b><br><br>VESSEL NAME=offshore hydrophone2016-10-31 06:02:36<br>animation_frame=2016-10-31 06:00<br>LAT=%{lat}<br>LON=%{lon}<br>SPEED (KNOTSx10)=%{customdata[0]}<br>slfdist=%{customdata[1]}<extra></extra>",
           "hovertext": [
            "offshore hydrophone"
           ],
           "lat": [
            44.2284
           ],
           "legendgroup": "offshore hydrophone2016-10-31 06:02:36",
           "lon": [
            -124.57144
           ],
           "marker": {
            "color": "#FECB52"
           },
           "mode": "markers",
           "name": "offshore hydrophone2016-10-31 06:02:36",
           "showlegend": true,
           "subplot": "mapbox",
           "type": "scattermapbox"
          },
          {
           "customdata": [
            [
             0,
             0
            ]
           ],
           "hovertemplate": "<b>%{hovertext}</b><br><br>VESSEL NAME=shelf hydrophone2016-10-31 06:02:37<br>animation_frame=2016-10-31 06:00<br>LAT=%{lat}<br>LON=%{lon}<br>SPEED (KNOTSx10)=%{customdata[0]}<br>slfdist=%{customdata[1]}<extra></extra>",
           "hovertext": [
            "shelf hydrophone"
           ],
           "lat": [
            44.38132
           ],
           "legendgroup": "shelf hydrophone2016-10-31 06:02:37",
           "lon": [
            -124.18216
           ],
           "marker": {
            "color": "#636efa"
           },
           "mode": "markers",
           "name": "shelf hydrophone2016-10-31 06:02:37",
           "showlegend": true,
           "subplot": "mapbox",
           "type": "scattermapbox"
          },
          {
           "customdata": [
            [
             10,
             0
            ]
           ],
           "hovertemplate": "<b>%{hovertext}</b><br><br>VESSEL NAME=offshore hydrophone2016-10-31 06:02:37<br>animation_frame=2016-10-31 06:00<br>LAT=%{lat}<br>LON=%{lon}<br>SPEED (KNOTSx10)=%{customdata[0]}<br>slfdist=%{customdata[1]}<extra></extra>",
           "hovertext": [
            "offshore hydrophone"
           ],
           "lat": [
            44.2284
           ],
           "legendgroup": "offshore hydrophone2016-10-31 06:02:37",
           "lon": [
            -124.57144
           ],
           "marker": {
            "color": "#EF553B"
           },
           "mode": "markers",
           "name": "offshore hydrophone2016-10-31 06:02:37",
           "showlegend": true,
           "subplot": "mapbox",
           "type": "scattermapbox"
          },
          {
           "customdata": [
            [
             0,
             0
            ]
           ],
           "hovertemplate": "<b>%{hovertext}</b><br><br>VESSEL NAME=shelf hydrophone2016-10-31 06:02:55<br>animation_frame=2016-10-31 06:00<br>LAT=%{lat}<br>LON=%{lon}<br>SPEED (KNOTSx10)=%{customdata[0]}<br>slfdist=%{customdata[1]}<extra></extra>",
           "hovertext": [
            "shelf hydrophone"
           ],
           "lat": [
            44.38132
           ],
           "legendgroup": "shelf hydrophone2016-10-31 06:02:55",
           "lon": [
            -124.18216
           ],
           "marker": {
            "color": "#00cc96"
           },
           "mode": "markers",
           "name": "shelf hydrophone2016-10-31 06:02:55",
           "showlegend": true,
           "subplot": "mapbox",
           "type": "scattermapbox"
          },
          {
           "customdata": [
            [
             10,
             0
            ]
           ],
           "hovertemplate": "<b>%{hovertext}</b><br><br>VESSEL NAME=offshore hydrophone2016-10-31 06:02:55<br>animation_frame=2016-10-31 06:00<br>LAT=%{lat}<br>LON=%{lon}<br>SPEED (KNOTSx10)=%{customdata[0]}<br>slfdist=%{customdata[1]}<extra></extra>",
           "hovertext": [
            "offshore hydrophone"
           ],
           "lat": [
            44.2284
           ],
           "legendgroup": "offshore hydrophone2016-10-31 06:02:55",
           "lon": [
            -124.57144
           ],
           "marker": {
            "color": "#ab63fa"
           },
           "mode": "markers",
           "name": "offshore hydrophone2016-10-31 06:02:55",
           "showlegend": true,
           "subplot": "mapbox",
           "type": "scattermapbox"
          },
          {
           "customdata": [
            [
             0,
             0
            ]
           ],
           "hovertemplate": "<b>%{hovertext}</b><br><br>VESSEL NAME=shelf hydrophone2016-10-31 06:03:12<br>animation_frame=2016-10-31 06:00<br>LAT=%{lat}<br>LON=%{lon}<br>SPEED (KNOTSx10)=%{customdata[0]}<br>slfdist=%{customdata[1]}<extra></extra>",
           "hovertext": [
            "shelf hydrophone"
           ],
           "lat": [
            44.38132
           ],
           "legendgroup": "shelf hydrophone2016-10-31 06:03:12",
           "lon": [
            -124.18216
           ],
           "marker": {
            "color": "#FFA15A"
           },
           "mode": "markers",
           "name": "shelf hydrophone2016-10-31 06:03:12",
           "showlegend": true,
           "subplot": "mapbox",
           "type": "scattermapbox"
          },
          {
           "customdata": [
            [
             10,
             0
            ]
           ],
           "hovertemplate": "<b>%{hovertext}</b><br><br>VESSEL NAME=offshore hydrophone2016-10-31 06:03:12<br>animation_frame=2016-10-31 06:00<br>LAT=%{lat}<br>LON=%{lon}<br>SPEED (KNOTSx10)=%{customdata[0]}<br>slfdist=%{customdata[1]}<extra></extra>",
           "hovertext": [
            "offshore hydrophone"
           ],
           "lat": [
            44.2284
           ],
           "legendgroup": "offshore hydrophone2016-10-31 06:03:12",
           "lon": [
            -124.57144
           ],
           "marker": {
            "color": "#19d3f3"
           },
           "mode": "markers",
           "name": "offshore hydrophone2016-10-31 06:03:12",
           "showlegend": true,
           "subplot": "mapbox",
           "type": "scattermapbox"
          },
          {
           "customdata": [
            [
             0,
             0
            ]
           ],
           "hovertemplate": "<b>%{hovertext}</b><br><br>VESSEL NAME=shelf hydrophone2016-10-31 06:03:25<br>animation_frame=2016-10-31 06:00<br>LAT=%{lat}<br>LON=%{lon}<br>SPEED (KNOTSx10)=%{customdata[0]}<br>slfdist=%{customdata[1]}<extra></extra>",
           "hovertext": [
            "shelf hydrophone"
           ],
           "lat": [
            44.38132
           ],
           "legendgroup": "shelf hydrophone2016-10-31 06:03:25",
           "lon": [
            -124.18216
           ],
           "marker": {
            "color": "#FF6692"
           },
           "mode": "markers",
           "name": "shelf hydrophone2016-10-31 06:03:25",
           "showlegend": true,
           "subplot": "mapbox",
           "type": "scattermapbox"
          },
          {
           "customdata": [
            [
             10,
             0
            ]
           ],
           "hovertemplate": "<b>%{hovertext}</b><br><br>VESSEL NAME=offshore hydrophone2016-10-31 06:03:25<br>animation_frame=2016-10-31 06:00<br>LAT=%{lat}<br>LON=%{lon}<br>SPEED (KNOTSx10)=%{customdata[0]}<br>slfdist=%{customdata[1]}<extra></extra>",
           "hovertext": [
            "offshore hydrophone"
           ],
           "lat": [
            44.2284
           ],
           "legendgroup": "offshore hydrophone2016-10-31 06:03:25",
           "lon": [
            -124.57144
           ],
           "marker": {
            "color": "#B6E880"
           },
           "mode": "markers",
           "name": "offshore hydrophone2016-10-31 06:03:25",
           "showlegend": true,
           "subplot": "mapbox",
           "type": "scattermapbox"
          },
          {
           "customdata": [
            [
             0,
             0
            ]
           ],
           "hovertemplate": "<b>%{hovertext}</b><br><br>VESSEL NAME=shelf hydrophone2016-10-31 06:03:41<br>animation_frame=2016-10-31 06:00<br>LAT=%{lat}<br>LON=%{lon}<br>SPEED (KNOTSx10)=%{customdata[0]}<br>slfdist=%{customdata[1]}<extra></extra>",
           "hovertext": [
            "shelf hydrophone"
           ],
           "lat": [
            44.38132
           ],
           "legendgroup": "shelf hydrophone2016-10-31 06:03:41",
           "lon": [
            -124.18216
           ],
           "marker": {
            "color": "#FF97FF"
           },
           "mode": "markers",
           "name": "shelf hydrophone2016-10-31 06:03:41",
           "showlegend": true,
           "subplot": "mapbox",
           "type": "scattermapbox"
          },
          {
           "customdata": [
            [
             10,
             0
            ]
           ],
           "hovertemplate": "<b>%{hovertext}</b><br><br>VESSEL NAME=offshore hydrophone2016-10-31 06:03:41<br>animation_frame=2016-10-31 06:00<br>LAT=%{lat}<br>LON=%{lon}<br>SPEED (KNOTSx10)=%{customdata[0]}<br>slfdist=%{customdata[1]}<extra></extra>",
           "hovertext": [
            "offshore hydrophone"
           ],
           "lat": [
            44.2284
           ],
           "legendgroup": "offshore hydrophone2016-10-31 06:03:41",
           "lon": [
            -124.57144
           ],
           "marker": {
            "color": "#FECB52"
           },
           "mode": "markers",
           "name": "offshore hydrophone2016-10-31 06:03:41",
           "showlegend": true,
           "subplot": "mapbox",
           "type": "scattermapbox"
          },
          {
           "customdata": [
            [
             0,
             0
            ]
           ],
           "hovertemplate": "<b>%{hovertext}</b><br><br>VESSEL NAME=shelf hydrophone2016-10-31 06:03:44<br>animation_frame=2016-10-31 06:00<br>LAT=%{lat}<br>LON=%{lon}<br>SPEED (KNOTSx10)=%{customdata[0]}<br>slfdist=%{customdata[1]}<extra></extra>",
           "hovertext": [
            "shelf hydrophone"
           ],
           "lat": [
            44.38132
           ],
           "legendgroup": "shelf hydrophone2016-10-31 06:03:44",
           "lon": [
            -124.18216
           ],
           "marker": {
            "color": "#636efa"
           },
           "mode": "markers",
           "name": "shelf hydrophone2016-10-31 06:03:44",
           "showlegend": true,
           "subplot": "mapbox",
           "type": "scattermapbox"
          },
          {
           "customdata": [
            [
             10,
             0
            ]
           ],
           "hovertemplate": "<b>%{hovertext}</b><br><br>VESSEL NAME=offshore hydrophone2016-10-31 06:03:44<br>animation_frame=2016-10-31 06:00<br>LAT=%{lat}<br>LON=%{lon}<br>SPEED (KNOTSx10)=%{customdata[0]}<br>slfdist=%{customdata[1]}<extra></extra>",
           "hovertext": [
            "offshore hydrophone"
           ],
           "lat": [
            44.2284
           ],
           "legendgroup": "offshore hydrophone2016-10-31 06:03:44",
           "lon": [
            -124.57144
           ],
           "marker": {
            "color": "#EF553B"
           },
           "mode": "markers",
           "name": "offshore hydrophone2016-10-31 06:03:44",
           "showlegend": true,
           "subplot": "mapbox",
           "type": "scattermapbox"
          },
          {
           "customdata": [
            [
             0,
             0
            ]
           ],
           "hovertemplate": "<b>%{hovertext}</b><br><br>VESSEL NAME=shelf hydrophone2016-10-31 06:04:39<br>animation_frame=2016-10-31 06:00<br>LAT=%{lat}<br>LON=%{lon}<br>SPEED (KNOTSx10)=%{customdata[0]}<br>slfdist=%{customdata[1]}<extra></extra>",
           "hovertext": [
            "shelf hydrophone"
           ],
           "lat": [
            44.38132
           ],
           "legendgroup": "shelf hydrophone2016-10-31 06:04:39",
           "lon": [
            -124.18216
           ],
           "marker": {
            "color": "#00cc96"
           },
           "mode": "markers",
           "name": "shelf hydrophone2016-10-31 06:04:39",
           "showlegend": true,
           "subplot": "mapbox",
           "type": "scattermapbox"
          },
          {
           "customdata": [
            [
             10,
             0
            ]
           ],
           "hovertemplate": "<b>%{hovertext}</b><br><br>VESSEL NAME=offshore hydrophone2016-10-31 06:04:39<br>animation_frame=2016-10-31 06:00<br>LAT=%{lat}<br>LON=%{lon}<br>SPEED (KNOTSx10)=%{customdata[0]}<br>slfdist=%{customdata[1]}<extra></extra>",
           "hovertext": [
            "offshore hydrophone"
           ],
           "lat": [
            44.2284
           ],
           "legendgroup": "offshore hydrophone2016-10-31 06:04:39",
           "lon": [
            -124.57144
           ],
           "marker": {
            "color": "#ab63fa"
           },
           "mode": "markers",
           "name": "offshore hydrophone2016-10-31 06:04:39",
           "showlegend": true,
           "subplot": "mapbox",
           "type": "scattermapbox"
          },
          {
           "customdata": [
            [
             0,
             0
            ]
           ],
           "hovertemplate": "<b>%{hovertext}</b><br><br>VESSEL NAME=shelf hydrophone2016-10-31 06:05:07<br>animation_frame=2016-10-31 06:00<br>LAT=%{lat}<br>LON=%{lon}<br>SPEED (KNOTSx10)=%{customdata[0]}<br>slfdist=%{customdata[1]}<extra></extra>",
           "hovertext": [
            "shelf hydrophone"
           ],
           "lat": [
            44.38132
           ],
           "legendgroup": "shelf hydrophone2016-10-31 06:05:07",
           "lon": [
            -124.18216
           ],
           "marker": {
            "color": "#FFA15A"
           },
           "mode": "markers",
           "name": "shelf hydrophone2016-10-31 06:05:07",
           "showlegend": true,
           "subplot": "mapbox",
           "type": "scattermapbox"
          },
          {
           "customdata": [
            [
             10,
             0
            ]
           ],
           "hovertemplate": "<b>%{hovertext}</b><br><br>VESSEL NAME=offshore hydrophone2016-10-31 06:05:07<br>animation_frame=2016-10-31 06:00<br>LAT=%{lat}<br>LON=%{lon}<br>SPEED (KNOTSx10)=%{customdata[0]}<br>slfdist=%{customdata[1]}<extra></extra>",
           "hovertext": [
            "offshore hydrophone"
           ],
           "lat": [
            44.2284
           ],
           "legendgroup": "offshore hydrophone2016-10-31 06:05:07",
           "lon": [
            -124.57144
           ],
           "marker": {
            "color": "#19d3f3"
           },
           "mode": "markers",
           "name": "offshore hydrophone2016-10-31 06:05:07",
           "showlegend": true,
           "subplot": "mapbox",
           "type": "scattermapbox"
          },
          {
           "customdata": [
            [
             0,
             0
            ]
           ],
           "hovertemplate": "<b>%{hovertext}</b><br><br>VESSEL NAME=shelf hydrophone2016-10-31 06:05:12<br>animation_frame=2016-10-31 06:00<br>LAT=%{lat}<br>LON=%{lon}<br>SPEED (KNOTSx10)=%{customdata[0]}<br>slfdist=%{customdata[1]}<extra></extra>",
           "hovertext": [
            "shelf hydrophone"
           ],
           "lat": [
            44.38132
           ],
           "legendgroup": "shelf hydrophone2016-10-31 06:05:12",
           "lon": [
            -124.18216
           ],
           "marker": {
            "color": "#FF6692"
           },
           "mode": "markers",
           "name": "shelf hydrophone2016-10-31 06:05:12",
           "showlegend": true,
           "subplot": "mapbox",
           "type": "scattermapbox"
          },
          {
           "customdata": [
            [
             10,
             0
            ]
           ],
           "hovertemplate": "<b>%{hovertext}</b><br><br>VESSEL NAME=offshore hydrophone2016-10-31 06:05:12<br>animation_frame=2016-10-31 06:00<br>LAT=%{lat}<br>LON=%{lon}<br>SPEED (KNOTSx10)=%{customdata[0]}<br>slfdist=%{customdata[1]}<extra></extra>",
           "hovertext": [
            "offshore hydrophone"
           ],
           "lat": [
            44.2284
           ],
           "legendgroup": "offshore hydrophone2016-10-31 06:05:12",
           "lon": [
            -124.57144
           ],
           "marker": {
            "color": "#B6E880"
           },
           "mode": "markers",
           "name": "offshore hydrophone2016-10-31 06:05:12",
           "showlegend": true,
           "subplot": "mapbox",
           "type": "scattermapbox"
          },
          {
           "customdata": [
            [
             0,
             0
            ]
           ],
           "hovertemplate": "<b>%{hovertext}</b><br><br>VESSEL NAME=shelf hydrophone2016-10-31 06:05:49<br>animation_frame=2016-10-31 06:00<br>LAT=%{lat}<br>LON=%{lon}<br>SPEED (KNOTSx10)=%{customdata[0]}<br>slfdist=%{customdata[1]}<extra></extra>",
           "hovertext": [
            "shelf hydrophone"
           ],
           "lat": [
            44.38132
           ],
           "legendgroup": "shelf hydrophone2016-10-31 06:05:49",
           "lon": [
            -124.18216
           ],
           "marker": {
            "color": "#FF97FF"
           },
           "mode": "markers",
           "name": "shelf hydrophone2016-10-31 06:05:49",
           "showlegend": true,
           "subplot": "mapbox",
           "type": "scattermapbox"
          },
          {
           "customdata": [
            [
             10,
             0
            ]
           ],
           "hovertemplate": "<b>%{hovertext}</b><br><br>VESSEL NAME=offshore hydrophone2016-10-31 06:05:49<br>animation_frame=2016-10-31 06:00<br>LAT=%{lat}<br>LON=%{lon}<br>SPEED (KNOTSx10)=%{customdata[0]}<br>slfdist=%{customdata[1]}<extra></extra>",
           "hovertext": [
            "offshore hydrophone"
           ],
           "lat": [
            44.2284
           ],
           "legendgroup": "offshore hydrophone2016-10-31 06:05:49",
           "lon": [
            -124.57144
           ],
           "marker": {
            "color": "#FECB52"
           },
           "mode": "markers",
           "name": "offshore hydrophone2016-10-31 06:05:49",
           "showlegend": true,
           "subplot": "mapbox",
           "type": "scattermapbox"
          },
          {
           "customdata": [
            [
             0,
             0
            ]
           ],
           "hovertemplate": "<b>%{hovertext}</b><br><br>VESSEL NAME=shelf hydrophone2016-10-31 06:05:56<br>animation_frame=2016-10-31 06:00<br>LAT=%{lat}<br>LON=%{lon}<br>SPEED (KNOTSx10)=%{customdata[0]}<br>slfdist=%{customdata[1]}<extra></extra>",
           "hovertext": [
            "shelf hydrophone"
           ],
           "lat": [
            44.38132
           ],
           "legendgroup": "shelf hydrophone2016-10-31 06:05:56",
           "lon": [
            -124.18216
           ],
           "marker": {
            "color": "#636efa"
           },
           "mode": "markers",
           "name": "shelf hydrophone2016-10-31 06:05:56",
           "showlegend": true,
           "subplot": "mapbox",
           "type": "scattermapbox"
          },
          {
           "customdata": [
            [
             10,
             0
            ]
           ],
           "hovertemplate": "<b>%{hovertext}</b><br><br>VESSEL NAME=offshore hydrophone2016-10-31 06:05:56<br>animation_frame=2016-10-31 06:00<br>LAT=%{lat}<br>LON=%{lon}<br>SPEED (KNOTSx10)=%{customdata[0]}<br>slfdist=%{customdata[1]}<extra></extra>",
           "hovertext": [
            "offshore hydrophone"
           ],
           "lat": [
            44.2284
           ],
           "legendgroup": "offshore hydrophone2016-10-31 06:05:56",
           "lon": [
            -124.57144
           ],
           "marker": {
            "color": "#EF553B"
           },
           "mode": "markers",
           "name": "offshore hydrophone2016-10-31 06:05:56",
           "showlegend": true,
           "subplot": "mapbox",
           "type": "scattermapbox"
          },
          {
           "customdata": [
            [
             0,
             0
            ]
           ],
           "hovertemplate": "<b>%{hovertext}</b><br><br>VESSEL NAME=shelf hydrophone2016-10-31 06:06:07<br>animation_frame=2016-10-31 06:00<br>LAT=%{lat}<br>LON=%{lon}<br>SPEED (KNOTSx10)=%{customdata[0]}<br>slfdist=%{customdata[1]}<extra></extra>",
           "hovertext": [
            "shelf hydrophone"
           ],
           "lat": [
            44.38132
           ],
           "legendgroup": "shelf hydrophone2016-10-31 06:06:07",
           "lon": [
            -124.18216
           ],
           "marker": {
            "color": "#00cc96"
           },
           "mode": "markers",
           "name": "shelf hydrophone2016-10-31 06:06:07",
           "showlegend": true,
           "subplot": "mapbox",
           "type": "scattermapbox"
          },
          {
           "customdata": [
            [
             10,
             0
            ]
           ],
           "hovertemplate": "<b>%{hovertext}</b><br><br>VESSEL NAME=offshore hydrophone2016-10-31 06:06:07<br>animation_frame=2016-10-31 06:00<br>LAT=%{lat}<br>LON=%{lon}<br>SPEED (KNOTSx10)=%{customdata[0]}<br>slfdist=%{customdata[1]}<extra></extra>",
           "hovertext": [
            "offshore hydrophone"
           ],
           "lat": [
            44.2284
           ],
           "legendgroup": "offshore hydrophone2016-10-31 06:06:07",
           "lon": [
            -124.57144
           ],
           "marker": {
            "color": "#ab63fa"
           },
           "mode": "markers",
           "name": "offshore hydrophone2016-10-31 06:06:07",
           "showlegend": true,
           "subplot": "mapbox",
           "type": "scattermapbox"
          },
          {
           "customdata": [
            [
             0,
             0
            ]
           ],
           "hovertemplate": "<b>%{hovertext}</b><br><br>VESSEL NAME=shelf hydrophone2016-10-31 06:06:44<br>animation_frame=2016-10-31 06:00<br>LAT=%{lat}<br>LON=%{lon}<br>SPEED (KNOTSx10)=%{customdata[0]}<br>slfdist=%{customdata[1]}<extra></extra>",
           "hovertext": [
            "shelf hydrophone"
           ],
           "lat": [
            44.38132
           ],
           "legendgroup": "shelf hydrophone2016-10-31 06:06:44",
           "lon": [
            -124.18216
           ],
           "marker": {
            "color": "#FFA15A"
           },
           "mode": "markers",
           "name": "shelf hydrophone2016-10-31 06:06:44",
           "showlegend": true,
           "subplot": "mapbox",
           "type": "scattermapbox"
          },
          {
           "customdata": [
            [
             10,
             0
            ]
           ],
           "hovertemplate": "<b>%{hovertext}</b><br><br>VESSEL NAME=offshore hydrophone2016-10-31 06:06:44<br>animation_frame=2016-10-31 06:00<br>LAT=%{lat}<br>LON=%{lon}<br>SPEED (KNOTSx10)=%{customdata[0]}<br>slfdist=%{customdata[1]}<extra></extra>",
           "hovertext": [
            "offshore hydrophone"
           ],
           "lat": [
            44.2284
           ],
           "legendgroup": "offshore hydrophone2016-10-31 06:06:44",
           "lon": [
            -124.57144
           ],
           "marker": {
            "color": "#19d3f3"
           },
           "mode": "markers",
           "name": "offshore hydrophone2016-10-31 06:06:44",
           "showlegend": true,
           "subplot": "mapbox",
           "type": "scattermapbox"
          },
          {
           "customdata": [
            [
             0,
             0
            ]
           ],
           "hovertemplate": "<b>%{hovertext}</b><br><br>VESSEL NAME=shelf hydrophone2016-10-31 06:06:49<br>animation_frame=2016-10-31 06:00<br>LAT=%{lat}<br>LON=%{lon}<br>SPEED (KNOTSx10)=%{customdata[0]}<br>slfdist=%{customdata[1]}<extra></extra>",
           "hovertext": [
            "shelf hydrophone"
           ],
           "lat": [
            44.38132
           ],
           "legendgroup": "shelf hydrophone2016-10-31 06:06:49",
           "lon": [
            -124.18216
           ],
           "marker": {
            "color": "#FF6692"
           },
           "mode": "markers",
           "name": "shelf hydrophone2016-10-31 06:06:49",
           "showlegend": true,
           "subplot": "mapbox",
           "type": "scattermapbox"
          },
          {
           "customdata": [
            [
             10,
             0
            ]
           ],
           "hovertemplate": "<b>%{hovertext}</b><br><br>VESSEL NAME=offshore hydrophone2016-10-31 06:06:49<br>animation_frame=2016-10-31 06:00<br>LAT=%{lat}<br>LON=%{lon}<br>SPEED (KNOTSx10)=%{customdata[0]}<br>slfdist=%{customdata[1]}<extra></extra>",
           "hovertext": [
            "offshore hydrophone"
           ],
           "lat": [
            44.2284
           ],
           "legendgroup": "offshore hydrophone2016-10-31 06:06:49",
           "lon": [
            -124.57144
           ],
           "marker": {
            "color": "#B6E880"
           },
           "mode": "markers",
           "name": "offshore hydrophone2016-10-31 06:06:49",
           "showlegend": true,
           "subplot": "mapbox",
           "type": "scattermapbox"
          },
          {
           "customdata": [
            [
             0,
             0
            ]
           ],
           "hovertemplate": "<b>%{hovertext}</b><br><br>VESSEL NAME=shelf hydrophone2016-10-31 06:07:37<br>animation_frame=2016-10-31 06:00<br>LAT=%{lat}<br>LON=%{lon}<br>SPEED (KNOTSx10)=%{customdata[0]}<br>slfdist=%{customdata[1]}<extra></extra>",
           "hovertext": [
            "shelf hydrophone"
           ],
           "lat": [
            44.38132
           ],
           "legendgroup": "shelf hydrophone2016-10-31 06:07:37",
           "lon": [
            -124.18216
           ],
           "marker": {
            "color": "#FF97FF"
           },
           "mode": "markers",
           "name": "shelf hydrophone2016-10-31 06:07:37",
           "showlegend": true,
           "subplot": "mapbox",
           "type": "scattermapbox"
          },
          {
           "customdata": [
            [
             10,
             0
            ]
           ],
           "hovertemplate": "<b>%{hovertext}</b><br><br>VESSEL NAME=offshore hydrophone2016-10-31 06:07:37<br>animation_frame=2016-10-31 06:00<br>LAT=%{lat}<br>LON=%{lon}<br>SPEED (KNOTSx10)=%{customdata[0]}<br>slfdist=%{customdata[1]}<extra></extra>",
           "hovertext": [
            "offshore hydrophone"
           ],
           "lat": [
            44.2284
           ],
           "legendgroup": "offshore hydrophone2016-10-31 06:07:37",
           "lon": [
            -124.57144
           ],
           "marker": {
            "color": "#FECB52"
           },
           "mode": "markers",
           "name": "offshore hydrophone2016-10-31 06:07:37",
           "showlegend": true,
           "subplot": "mapbox",
           "type": "scattermapbox"
          },
          {
           "customdata": [
            [
             0,
             0
            ]
           ],
           "hovertemplate": "<b>%{hovertext}</b><br><br>VESSEL NAME=shelf hydrophone2016-10-31 06:07:52<br>animation_frame=2016-10-31 06:00<br>LAT=%{lat}<br>LON=%{lon}<br>SPEED (KNOTSx10)=%{customdata[0]}<br>slfdist=%{customdata[1]}<extra></extra>",
           "hovertext": [
            "shelf hydrophone"
           ],
           "lat": [
            44.38132
           ],
           "legendgroup": "shelf hydrophone2016-10-31 06:07:52",
           "lon": [
            -124.18216
           ],
           "marker": {
            "color": "#636efa"
           },
           "mode": "markers",
           "name": "shelf hydrophone2016-10-31 06:07:52",
           "showlegend": true,
           "subplot": "mapbox",
           "type": "scattermapbox"
          },
          {
           "customdata": [
            [
             10,
             0
            ]
           ],
           "hovertemplate": "<b>%{hovertext}</b><br><br>VESSEL NAME=offshore hydrophone2016-10-31 06:07:52<br>animation_frame=2016-10-31 06:00<br>LAT=%{lat}<br>LON=%{lon}<br>SPEED (KNOTSx10)=%{customdata[0]}<br>slfdist=%{customdata[1]}<extra></extra>",
           "hovertext": [
            "offshore hydrophone"
           ],
           "lat": [
            44.2284
           ],
           "legendgroup": "offshore hydrophone2016-10-31 06:07:52",
           "lon": [
            -124.57144
           ],
           "marker": {
            "color": "#EF553B"
           },
           "mode": "markers",
           "name": "offshore hydrophone2016-10-31 06:07:52",
           "showlegend": true,
           "subplot": "mapbox",
           "type": "scattermapbox"
          },
          {
           "customdata": [
            [
             0,
             0
            ]
           ],
           "hovertemplate": "<b>%{hovertext}</b><br><br>VESSEL NAME=shelf hydrophone2016-10-31 06:08:09<br>animation_frame=2016-10-31 06:00<br>LAT=%{lat}<br>LON=%{lon}<br>SPEED (KNOTSx10)=%{customdata[0]}<br>slfdist=%{customdata[1]}<extra></extra>",
           "hovertext": [
            "shelf hydrophone"
           ],
           "lat": [
            44.38132
           ],
           "legendgroup": "shelf hydrophone2016-10-31 06:08:09",
           "lon": [
            -124.18216
           ],
           "marker": {
            "color": "#00cc96"
           },
           "mode": "markers",
           "name": "shelf hydrophone2016-10-31 06:08:09",
           "showlegend": true,
           "subplot": "mapbox",
           "type": "scattermapbox"
          },
          {
           "customdata": [
            [
             10,
             0
            ]
           ],
           "hovertemplate": "<b>%{hovertext}</b><br><br>VESSEL NAME=offshore hydrophone2016-10-31 06:08:09<br>animation_frame=2016-10-31 06:00<br>LAT=%{lat}<br>LON=%{lon}<br>SPEED (KNOTSx10)=%{customdata[0]}<br>slfdist=%{customdata[1]}<extra></extra>",
           "hovertext": [
            "offshore hydrophone"
           ],
           "lat": [
            44.2284
           ],
           "legendgroup": "offshore hydrophone2016-10-31 06:08:09",
           "lon": [
            -124.57144
           ],
           "marker": {
            "color": "#ab63fa"
           },
           "mode": "markers",
           "name": "offshore hydrophone2016-10-31 06:08:09",
           "showlegend": true,
           "subplot": "mapbox",
           "type": "scattermapbox"
          },
          {
           "customdata": [
            [
             0,
             0
            ]
           ],
           "hovertemplate": "<b>%{hovertext}</b><br><br>VESSEL NAME=shelf hydrophone2016-10-31 06:08:27<br>animation_frame=2016-10-31 06:00<br>LAT=%{lat}<br>LON=%{lon}<br>SPEED (KNOTSx10)=%{customdata[0]}<br>slfdist=%{customdata[1]}<extra></extra>",
           "hovertext": [
            "shelf hydrophone"
           ],
           "lat": [
            44.38132
           ],
           "legendgroup": "shelf hydrophone2016-10-31 06:08:27",
           "lon": [
            -124.18216
           ],
           "marker": {
            "color": "#FFA15A"
           },
           "mode": "markers",
           "name": "shelf hydrophone2016-10-31 06:08:27",
           "showlegend": true,
           "subplot": "mapbox",
           "type": "scattermapbox"
          },
          {
           "customdata": [
            [
             10,
             0
            ]
           ],
           "hovertemplate": "<b>%{hovertext}</b><br><br>VESSEL NAME=offshore hydrophone2016-10-31 06:08:27<br>animation_frame=2016-10-31 06:00<br>LAT=%{lat}<br>LON=%{lon}<br>SPEED (KNOTSx10)=%{customdata[0]}<br>slfdist=%{customdata[1]}<extra></extra>",
           "hovertext": [
            "offshore hydrophone"
           ],
           "lat": [
            44.2284
           ],
           "legendgroup": "offshore hydrophone2016-10-31 06:08:27",
           "lon": [
            -124.57144
           ],
           "marker": {
            "color": "#19d3f3"
           },
           "mode": "markers",
           "name": "offshore hydrophone2016-10-31 06:08:27",
           "showlegend": true,
           "subplot": "mapbox",
           "type": "scattermapbox"
          },
          {
           "customdata": [
            [
             0,
             0
            ]
           ],
           "hovertemplate": "<b>%{hovertext}</b><br><br>VESSEL NAME=shelf hydrophone2016-10-31 06:09:04<br>animation_frame=2016-10-31 06:00<br>LAT=%{lat}<br>LON=%{lon}<br>SPEED (KNOTSx10)=%{customdata[0]}<br>slfdist=%{customdata[1]}<extra></extra>",
           "hovertext": [
            "shelf hydrophone"
           ],
           "lat": [
            44.38132
           ],
           "legendgroup": "shelf hydrophone2016-10-31 06:09:04",
           "lon": [
            -124.18216
           ],
           "marker": {
            "color": "#FF6692"
           },
           "mode": "markers",
           "name": "shelf hydrophone2016-10-31 06:09:04",
           "showlegend": true,
           "subplot": "mapbox",
           "type": "scattermapbox"
          },
          {
           "customdata": [
            [
             10,
             0
            ]
           ],
           "hovertemplate": "<b>%{hovertext}</b><br><br>VESSEL NAME=offshore hydrophone2016-10-31 06:09:04<br>animation_frame=2016-10-31 06:00<br>LAT=%{lat}<br>LON=%{lon}<br>SPEED (KNOTSx10)=%{customdata[0]}<br>slfdist=%{customdata[1]}<extra></extra>",
           "hovertext": [
            "offshore hydrophone"
           ],
           "lat": [
            44.2284
           ],
           "legendgroup": "offshore hydrophone2016-10-31 06:09:04",
           "lon": [
            -124.57144
           ],
           "marker": {
            "color": "#B6E880"
           },
           "mode": "markers",
           "name": "offshore hydrophone2016-10-31 06:09:04",
           "showlegend": true,
           "subplot": "mapbox",
           "type": "scattermapbox"
          },
          {
           "customdata": [
            [
             0,
             0
            ]
           ],
           "hovertemplate": "<b>%{hovertext}</b><br><br>VESSEL NAME=shelf hydrophone2016-10-31 06:09:20<br>animation_frame=2016-10-31 06:00<br>LAT=%{lat}<br>LON=%{lon}<br>SPEED (KNOTSx10)=%{customdata[0]}<br>slfdist=%{customdata[1]}<extra></extra>",
           "hovertext": [
            "shelf hydrophone"
           ],
           "lat": [
            44.38132
           ],
           "legendgroup": "shelf hydrophone2016-10-31 06:09:20",
           "lon": [
            -124.18216
           ],
           "marker": {
            "color": "#FF97FF"
           },
           "mode": "markers",
           "name": "shelf hydrophone2016-10-31 06:09:20",
           "showlegend": true,
           "subplot": "mapbox",
           "type": "scattermapbox"
          },
          {
           "customdata": [
            [
             10,
             0
            ]
           ],
           "hovertemplate": "<b>%{hovertext}</b><br><br>VESSEL NAME=offshore hydrophone2016-10-31 06:09:20<br>animation_frame=2016-10-31 06:00<br>LAT=%{lat}<br>LON=%{lon}<br>SPEED (KNOTSx10)=%{customdata[0]}<br>slfdist=%{customdata[1]}<extra></extra>",
           "hovertext": [
            "offshore hydrophone"
           ],
           "lat": [
            44.2284
           ],
           "legendgroup": "offshore hydrophone2016-10-31 06:09:20",
           "lon": [
            -124.57144
           ],
           "marker": {
            "color": "#FECB52"
           },
           "mode": "markers",
           "name": "offshore hydrophone2016-10-31 06:09:20",
           "showlegend": true,
           "subplot": "mapbox",
           "type": "scattermapbox"
          },
          {
           "customdata": [
            [
             0,
             0
            ]
           ],
           "hovertemplate": "<b>%{hovertext}</b><br><br>VESSEL NAME=shelf hydrophone2016-10-31 06:09:37<br>animation_frame=2016-10-31 06:00<br>LAT=%{lat}<br>LON=%{lon}<br>SPEED (KNOTSx10)=%{customdata[0]}<br>slfdist=%{customdata[1]}<extra></extra>",
           "hovertext": [
            "shelf hydrophone"
           ],
           "lat": [
            44.38132
           ],
           "legendgroup": "shelf hydrophone2016-10-31 06:09:37",
           "lon": [
            -124.18216
           ],
           "marker": {
            "color": "#636efa"
           },
           "mode": "markers",
           "name": "shelf hydrophone2016-10-31 06:09:37",
           "showlegend": true,
           "subplot": "mapbox",
           "type": "scattermapbox"
          },
          {
           "customdata": [
            [
             10,
             0
            ]
           ],
           "hovertemplate": "<b>%{hovertext}</b><br><br>VESSEL NAME=offshore hydrophone2016-10-31 06:09:37<br>animation_frame=2016-10-31 06:00<br>LAT=%{lat}<br>LON=%{lon}<br>SPEED (KNOTSx10)=%{customdata[0]}<br>slfdist=%{customdata[1]}<extra></extra>",
           "hovertext": [
            "offshore hydrophone"
           ],
           "lat": [
            44.2284
           ],
           "legendgroup": "offshore hydrophone2016-10-31 06:09:37",
           "lon": [
            -124.57144
           ],
           "marker": {
            "color": "#EF553B"
           },
           "mode": "markers",
           "name": "offshore hydrophone2016-10-31 06:09:37",
           "showlegend": true,
           "subplot": "mapbox",
           "type": "scattermapbox"
          },
          {
           "customdata": [
            [
             0,
             0
            ]
           ],
           "hovertemplate": "<b>%{hovertext}</b><br><br>VESSEL NAME=shelf hydrophone2016-10-31 06:09:40<br>animation_frame=2016-10-31 06:00<br>LAT=%{lat}<br>LON=%{lon}<br>SPEED (KNOTSx10)=%{customdata[0]}<br>slfdist=%{customdata[1]}<extra></extra>",
           "hovertext": [
            "shelf hydrophone"
           ],
           "lat": [
            44.38132
           ],
           "legendgroup": "shelf hydrophone2016-10-31 06:09:40",
           "lon": [
            -124.18216
           ],
           "marker": {
            "color": "#00cc96"
           },
           "mode": "markers",
           "name": "shelf hydrophone2016-10-31 06:09:40",
           "showlegend": true,
           "subplot": "mapbox",
           "type": "scattermapbox"
          },
          {
           "customdata": [
            [
             10,
             0
            ]
           ],
           "hovertemplate": "<b>%{hovertext}</b><br><br>VESSEL NAME=offshore hydrophone2016-10-31 06:09:40<br>animation_frame=2016-10-31 06:00<br>LAT=%{lat}<br>LON=%{lon}<br>SPEED (KNOTSx10)=%{customdata[0]}<br>slfdist=%{customdata[1]}<extra></extra>",
           "hovertext": [
            "offshore hydrophone"
           ],
           "lat": [
            44.2284
           ],
           "legendgroup": "offshore hydrophone2016-10-31 06:09:40",
           "lon": [
            -124.57144
           ],
           "marker": {
            "color": "#ab63fa"
           },
           "mode": "markers",
           "name": "offshore hydrophone2016-10-31 06:09:40",
           "showlegend": true,
           "subplot": "mapbox",
           "type": "scattermapbox"
          },
          {
           "customdata": [
            [
             0,
             0
            ]
           ],
           "hovertemplate": "<b>%{hovertext}</b><br><br>VESSEL NAME=shelf hydrophone2016-10-31 06:09:57<br>animation_frame=2016-10-31 06:00<br>LAT=%{lat}<br>LON=%{lon}<br>SPEED (KNOTSx10)=%{customdata[0]}<br>slfdist=%{customdata[1]}<extra></extra>",
           "hovertext": [
            "shelf hydrophone"
           ],
           "lat": [
            44.38132
           ],
           "legendgroup": "shelf hydrophone2016-10-31 06:09:57",
           "lon": [
            -124.18216
           ],
           "marker": {
            "color": "#FFA15A"
           },
           "mode": "markers",
           "name": "shelf hydrophone2016-10-31 06:09:57",
           "showlegend": true,
           "subplot": "mapbox",
           "type": "scattermapbox"
          },
          {
           "customdata": [
            [
             10,
             0
            ]
           ],
           "hovertemplate": "<b>%{hovertext}</b><br><br>VESSEL NAME=offshore hydrophone2016-10-31 06:09:57<br>animation_frame=2016-10-31 06:00<br>LAT=%{lat}<br>LON=%{lon}<br>SPEED (KNOTSx10)=%{customdata[0]}<br>slfdist=%{customdata[1]}<extra></extra>",
           "hovertext": [
            "offshore hydrophone"
           ],
           "lat": [
            44.2284
           ],
           "legendgroup": "offshore hydrophone2016-10-31 06:09:57",
           "lon": [
            -124.57144
           ],
           "marker": {
            "color": "#19d3f3"
           },
           "mode": "markers",
           "name": "offshore hydrophone2016-10-31 06:09:57",
           "showlegend": true,
           "subplot": "mapbox",
           "type": "scattermapbox"
          }
         ],
         "name": "2016-10-31 06:00"
        },
        {
         "data": [
          {
           "customdata": [
            [
             32,
             29.83314269550462
            ],
            [
             33,
             29.81679869110684
            ]
           ],
           "hovertemplate": "<b>%{hovertext}</b><br><br>VESSEL NAME=SEEKER<br>animation_frame=2016-10-31 06:10<br>LAT=%{lat}<br>LON=%{lon}<br>SPEED (KNOTSx10)=%{customdata[0]}<br>slfdist=%{customdata[1]}<extra></extra>",
           "hovertext": [
            "Fishing",
            "Fishing"
           ],
           "lat": [
            44.51551,
            44.5189
           ],
           "legendgroup": "SEEKER",
           "lon": [
            -124.7555,
            -124.7536
           ],
           "marker": {
            "color": "#636efa"
           },
           "mode": "markers",
           "name": "SEEKER",
           "showlegend": true,
           "subplot": "mapbox",
           "type": "scattermapbox"
          },
          {
           "customdata": [
            [
             56,
             10.33832446929002
            ],
            [
             53,
             10.22618903555488
            ],
            [
             51,
             10.133917419238626
            ],
            [
             54,
             10.02852789885836
            ]
           ],
           "hovertemplate": "<b>%{hovertext}</b><br><br>VESSEL NAME=PACIFIC RAM<br>animation_frame=2016-10-31 06:10<br>LAT=%{lat}<br>LON=%{lon}<br>SPEED (KNOTSx10)=%{customdata[0]}<br>slfdist=%{customdata[1]}<extra></extra>",
           "hovertext": [
            "Factory Trawler",
            "Factory Trawler",
            "Factory Trawler",
            "Factory Trawler"
           ],
           "lat": [
            44.52648,
            44.5241,
            44.52197,
            44.51941
           ],
           "legendgroup": "PACIFIC RAM",
           "lon": [
            -124.2334,
            -124.2371,
            -124.2407,
            -124.245
           ],
           "marker": {
            "color": "#EF553B"
           },
           "mode": "markers",
           "name": "PACIFIC RAM",
           "showlegend": true,
           "subplot": "mapbox",
           "type": "scattermapbox"
          },
          {
           "customdata": [
            [
             48,
             11.053406062180025
            ],
            [
             50,
             10.900784854487709
            ],
            [
             47,
             10.827742383973822
            ],
            [
             42,
             10.74219055857708
            ]
           ],
           "hovertemplate": "<b>%{hovertext}</b><br><br>VESSEL NAME=LISA MELINDA<br>animation_frame=2016-10-31 06:10<br>LAT=%{lat}<br>LON=%{lon}<br>SPEED (KNOTSx10)=%{customdata[0]}<br>slfdist=%{customdata[1]}<extra></extra>",
           "hovertext": [
            "Fishing Vessel",
            "Fishing Vessel",
            "Fishing Vessel",
            "Fishing Vessel"
           ],
           "lat": [
            44.53947,
            44.53662,
            44.53519,
            44.53347
           ],
           "legendgroup": "LISA MELINDA",
           "lon": [
            -124.2168,
            -124.2218,
            -124.2244,
            -124.2275
           ],
           "marker": {
            "color": "#00cc96"
           },
           "mode": "markers",
           "name": "LISA MELINDA",
           "showlegend": true,
           "subplot": "mapbox",
           "type": "scattermapbox"
          },
          {
           "customdata": [
            [
             24,
             33.041846604944965
            ],
            [
             19,
             33.048012741992274
            ],
            [
             18,
             33.048160750430284
            ]
           ],
           "hovertemplate": "<b>%{hovertext}</b><br><br>VESSEL NAME=MISS BERDIE<br>animation_frame=2016-10-31 06:10<br>LAT=%{lat}<br>LON=%{lon}<br>SPEED (KNOTSx10)=%{customdata[0]}<br>slfdist=%{customdata[1]}<extra></extra>",
           "hovertext": [
            "Unspecified",
            "Unspecified",
            "Unspecified"
           ],
           "lat": [
            44.58973,
            44.58829,
            44.58739
           ],
           "legendgroup": "MISS BERDIE",
           "lon": [
            -124.7839,
            -124.785,
            -124.7856
           ],
           "marker": {
            "color": "#ab63fa"
           },
           "mode": "markers",
           "name": "MISS BERDIE",
           "showlegend": true,
           "subplot": "mapbox",
           "type": "scattermapbox"
          },
          {
           "customdata": [
            [
             37,
             33.98874079237135
            ],
            [
             36,
             34.01580017830113
            ],
            [
             36,
             34.04017791997411
            ],
            [
             36,
             34.070072468604984
            ]
           ],
           "hovertemplate": "<b>%{hovertext}</b><br><br>VESSEL NAME=ARCTIC STORM<br>animation_frame=2016-10-31 06:10<br>LAT=%{lat}<br>LON=%{lon}<br>SPEED (KNOTSx10)=%{customdata[0]}<br>slfdist=%{customdata[1]}<extra></extra>",
           "hovertext": [
            "Factory Trawler",
            "Factory Trawler",
            "Factory Trawler",
            "Factory Trawler"
           ],
           "lat": [
            44.56782,
            44.56549,
            44.56356,
            44.56127
           ],
           "legendgroup": "ARCTIC STORM",
           "lon": [
            -124.8184,
            -124.8203,
            -124.8219,
            -124.8238
           ],
           "marker": {
            "color": "#FFA15A"
           },
           "mode": "markers",
           "name": "ARCTIC STORM",
           "showlegend": true,
           "subplot": "mapbox",
           "type": "scattermapbox"
          },
          {
           "customdata": [
            [
             86,
             15.417725616556785
            ],
            [
             77,
             15.248582280986618
            ],
            [
             82,
             15.121512034744324
            ],
            [
             80,
             15.038663748862527
            ],
            [
             84,
             14.934710937095069
            ]
           ],
           "hovertemplate": "<b>%{hovertext}</b><br><br>VESSEL NAME=NORTHERN RAM<br>animation_frame=2016-10-31 06:10<br>LAT=%{lat}<br>LON=%{lon}<br>SPEED (KNOTSx10)=%{customdata[0]}<br>slfdist=%{customdata[1]}<extra></extra>",
           "hovertext": [
            "Fishing",
            "Fishing",
            "Fishing",
            "Fishing",
            "Fishing"
           ],
           "lat": [
            44.5595,
            44.56073,
            44.5619,
            44.56263,
            44.56368
           ],
           "legendgroup": "NORTHERN RAM",
           "lon": [
            -124.3701,
            -124.362,
            -124.3552,
            -124.3507,
            -124.3446
           ],
           "marker": {
            "color": "#FF6692"
           },
           "mode": "markers",
           "name": "NORTHERN RAM",
           "showlegend": true,
           "subplot": "mapbox",
           "type": "scattermapbox"
          },
          {
           "customdata": [
            [
             34,
             17.192630009801437
            ],
            [
             34,
             17.276037944597615
            ],
            [
             35,
             17.34377514613285
            ],
            [
             31,
             17.45852655533869
            ]
           ],
           "hovertemplate": "<b>%{hovertext}</b><br><br>VESSEL NAME=SEA STORM<br>animation_frame=2016-10-31 06:10<br>LAT=%{lat}<br>LON=%{lon}<br>SPEED (KNOTSx10)=%{customdata[0]}<br>slfdist=%{customdata[1]}<extra></extra>",
           "hovertext": [
            "Trawler",
            "Trawler",
            "Trawler",
            "Trawler"
           ],
           "lat": [
            44.56962,
            44.56935,
            44.56895,
            44.56835
           ],
           "legendgroup": "SEA STORM",
           "lon": [
            -124.4097,
            -124.4127,
            -124.4154,
            -124.4198
           ],
           "marker": {
            "color": "#B6E880"
           },
           "mode": "markers",
           "name": "SEA STORM",
           "showlegend": true,
           "subplot": "mapbox",
           "type": "scattermapbox"
          },
          {
           "customdata": [
            [
             0,
             18.207575217304825
            ]
           ],
           "hovertemplate": "<b>%{hovertext}</b><br><br>VESSEL NAME=PEGASUS<br>animation_frame=2016-10-31 06:10<br>LAT=%{lat}<br>LON=%{lon}<br>SPEED (KNOTSx10)=%{customdata[0]}<br>slfdist=%{customdata[1]}<extra></extra>",
           "hovertext": [
            "Fishing Vessel"
           ],
           "lat": [
            44.62863
           ],
           "legendgroup": "PEGASUS",
           "lon": [
            -124.0543
           ],
           "marker": {
            "color": "#FF97FF"
           },
           "mode": "markers",
           "name": "PEGASUS",
           "showlegend": true,
           "subplot": "mapbox",
           "type": "scattermapbox"
          },
          {
           "customdata": [
            [
             28,
             29.25798473167967
            ],
            [
             27,
             29.39961090558038
            ]
           ],
           "hovertemplate": "<b>%{hovertext}</b><br><br>VESSEL NAME=SEADAWN<br>animation_frame=2016-10-31 06:10<br>LAT=%{lat}<br>LON=%{lon}<br>SPEED (KNOTSx10)=%{customdata[0]}<br>slfdist=%{customdata[1]}<extra></extra>",
           "hovertext": [
            "Fishing",
            "Fishing"
           ],
           "lat": [
            44.53869,
            44.53479
           ],
           "legendgroup": "SEADAWN",
           "lon": [
            -124.7315,
            -124.7367
           ],
           "marker": {
            "color": "#636efa"
           },
           "mode": "markers",
           "name": "SEADAWN",
           "showlegend": true,
           "subplot": "mapbox",
           "type": "scattermapbox"
          },
          {
           "customdata": [
            [
             0,
             0
            ]
           ],
           "hovertemplate": "<b>%{hovertext}</b><br><br>VESSEL NAME=shelf hydrophone2016-10-31 06:10:13<br>animation_frame=2016-10-31 06:10<br>LAT=%{lat}<br>LON=%{lon}<br>SPEED (KNOTSx10)=%{customdata[0]}<br>slfdist=%{customdata[1]}<extra></extra>",
           "hovertext": [
            "shelf hydrophone"
           ],
           "lat": [
            44.38132
           ],
           "legendgroup": "shelf hydrophone2016-10-31 06:10:13",
           "lon": [
            -124.18216
           ],
           "marker": {
            "color": "#FF6692"
           },
           "mode": "markers",
           "name": "shelf hydrophone2016-10-31 06:10:13",
           "showlegend": true,
           "subplot": "mapbox",
           "type": "scattermapbox"
          },
          {
           "customdata": [
            [
             10,
             0
            ]
           ],
           "hovertemplate": "<b>%{hovertext}</b><br><br>VESSEL NAME=offshore hydrophone2016-10-31 06:10:13<br>animation_frame=2016-10-31 06:10<br>LAT=%{lat}<br>LON=%{lon}<br>SPEED (KNOTSx10)=%{customdata[0]}<br>slfdist=%{customdata[1]}<extra></extra>",
           "hovertext": [
            "offshore hydrophone"
           ],
           "lat": [
            44.2284
           ],
           "legendgroup": "offshore hydrophone2016-10-31 06:10:13",
           "lon": [
            -124.57144
           ],
           "marker": {
            "color": "#B6E880"
           },
           "mode": "markers",
           "name": "offshore hydrophone2016-10-31 06:10:13",
           "showlegend": true,
           "subplot": "mapbox",
           "type": "scattermapbox"
          },
          {
           "customdata": [
            [
             0,
             0
            ]
           ],
           "hovertemplate": "<b>%{hovertext}</b><br><br>VESSEL NAME=shelf hydrophone2016-10-31 06:10:30<br>animation_frame=2016-10-31 06:10<br>LAT=%{lat}<br>LON=%{lon}<br>SPEED (KNOTSx10)=%{customdata[0]}<br>slfdist=%{customdata[1]}<extra></extra>",
           "hovertext": [
            "shelf hydrophone"
           ],
           "lat": [
            44.38132
           ],
           "legendgroup": "shelf hydrophone2016-10-31 06:10:30",
           "lon": [
            -124.18216
           ],
           "marker": {
            "color": "#FF97FF"
           },
           "mode": "markers",
           "name": "shelf hydrophone2016-10-31 06:10:30",
           "showlegend": true,
           "subplot": "mapbox",
           "type": "scattermapbox"
          },
          {
           "customdata": [
            [
             10,
             0
            ]
           ],
           "hovertemplate": "<b>%{hovertext}</b><br><br>VESSEL NAME=offshore hydrophone2016-10-31 06:10:30<br>animation_frame=2016-10-31 06:10<br>LAT=%{lat}<br>LON=%{lon}<br>SPEED (KNOTSx10)=%{customdata[0]}<br>slfdist=%{customdata[1]}<extra></extra>",
           "hovertext": [
            "offshore hydrophone"
           ],
           "lat": [
            44.2284
           ],
           "legendgroup": "offshore hydrophone2016-10-31 06:10:30",
           "lon": [
            -124.57144
           ],
           "marker": {
            "color": "#FECB52"
           },
           "mode": "markers",
           "name": "offshore hydrophone2016-10-31 06:10:30",
           "showlegend": true,
           "subplot": "mapbox",
           "type": "scattermapbox"
          },
          {
           "customdata": [
            [
             0,
             0
            ]
           ],
           "hovertemplate": "<b>%{hovertext}</b><br><br>VESSEL NAME=shelf hydrophone2016-10-31 06:10:57<br>animation_frame=2016-10-31 06:10<br>LAT=%{lat}<br>LON=%{lon}<br>SPEED (KNOTSx10)=%{customdata[0]}<br>slfdist=%{customdata[1]}<extra></extra>",
           "hovertext": [
            "shelf hydrophone"
           ],
           "lat": [
            44.38132
           ],
           "legendgroup": "shelf hydrophone2016-10-31 06:10:57",
           "lon": [
            -124.18216
           ],
           "marker": {
            "color": "#636efa"
           },
           "mode": "markers",
           "name": "shelf hydrophone2016-10-31 06:10:57",
           "showlegend": true,
           "subplot": "mapbox",
           "type": "scattermapbox"
          },
          {
           "customdata": [
            [
             10,
             0
            ]
           ],
           "hovertemplate": "<b>%{hovertext}</b><br><br>VESSEL NAME=offshore hydrophone2016-10-31 06:10:57<br>animation_frame=2016-10-31 06:10<br>LAT=%{lat}<br>LON=%{lon}<br>SPEED (KNOTSx10)=%{customdata[0]}<br>slfdist=%{customdata[1]}<extra></extra>",
           "hovertext": [
            "offshore hydrophone"
           ],
           "lat": [
            44.2284
           ],
           "legendgroup": "offshore hydrophone2016-10-31 06:10:57",
           "lon": [
            -124.57144
           ],
           "marker": {
            "color": "#EF553B"
           },
           "mode": "markers",
           "name": "offshore hydrophone2016-10-31 06:10:57",
           "showlegend": true,
           "subplot": "mapbox",
           "type": "scattermapbox"
          },
          {
           "customdata": [
            [
             0,
             0
            ]
           ],
           "hovertemplate": "<b>%{hovertext}</b><br><br>VESSEL NAME=shelf hydrophone2016-10-31 06:11:06<br>animation_frame=2016-10-31 06:10<br>LAT=%{lat}<br>LON=%{lon}<br>SPEED (KNOTSx10)=%{customdata[0]}<br>slfdist=%{customdata[1]}<extra></extra>",
           "hovertext": [
            "shelf hydrophone"
           ],
           "lat": [
            44.38132
           ],
           "legendgroup": "shelf hydrophone2016-10-31 06:11:06",
           "lon": [
            -124.18216
           ],
           "marker": {
            "color": "#00cc96"
           },
           "mode": "markers",
           "name": "shelf hydrophone2016-10-31 06:11:06",
           "showlegend": true,
           "subplot": "mapbox",
           "type": "scattermapbox"
          },
          {
           "customdata": [
            [
             10,
             0
            ]
           ],
           "hovertemplate": "<b>%{hovertext}</b><br><br>VESSEL NAME=offshore hydrophone2016-10-31 06:11:06<br>animation_frame=2016-10-31 06:10<br>LAT=%{lat}<br>LON=%{lon}<br>SPEED (KNOTSx10)=%{customdata[0]}<br>slfdist=%{customdata[1]}<extra></extra>",
           "hovertext": [
            "offshore hydrophone"
           ],
           "lat": [
            44.2284
           ],
           "legendgroup": "offshore hydrophone2016-10-31 06:11:06",
           "lon": [
            -124.57144
           ],
           "marker": {
            "color": "#ab63fa"
           },
           "mode": "markers",
           "name": "offshore hydrophone2016-10-31 06:11:06",
           "showlegend": true,
           "subplot": "mapbox",
           "type": "scattermapbox"
          },
          {
           "customdata": [
            [
             0,
             0
            ]
           ],
           "hovertemplate": "<b>%{hovertext}</b><br><br>VESSEL NAME=shelf hydrophone2016-10-31 06:11:34<br>animation_frame=2016-10-31 06:10<br>LAT=%{lat}<br>LON=%{lon}<br>SPEED (KNOTSx10)=%{customdata[0]}<br>slfdist=%{customdata[1]}<extra></extra>",
           "hovertext": [
            "shelf hydrophone"
           ],
           "lat": [
            44.38132
           ],
           "legendgroup": "shelf hydrophone2016-10-31 06:11:34",
           "lon": [
            -124.18216
           ],
           "marker": {
            "color": "#FFA15A"
           },
           "mode": "markers",
           "name": "shelf hydrophone2016-10-31 06:11:34",
           "showlegend": true,
           "subplot": "mapbox",
           "type": "scattermapbox"
          },
          {
           "customdata": [
            [
             10,
             0
            ]
           ],
           "hovertemplate": "<b>%{hovertext}</b><br><br>VESSEL NAME=offshore hydrophone2016-10-31 06:11:34<br>animation_frame=2016-10-31 06:10<br>LAT=%{lat}<br>LON=%{lon}<br>SPEED (KNOTSx10)=%{customdata[0]}<br>slfdist=%{customdata[1]}<extra></extra>",
           "hovertext": [
            "offshore hydrophone"
           ],
           "lat": [
            44.2284
           ],
           "legendgroup": "offshore hydrophone2016-10-31 06:11:34",
           "lon": [
            -124.57144
           ],
           "marker": {
            "color": "#19d3f3"
           },
           "mode": "markers",
           "name": "offshore hydrophone2016-10-31 06:11:34",
           "showlegend": true,
           "subplot": "mapbox",
           "type": "scattermapbox"
          },
          {
           "customdata": [
            [
             0,
             0
            ]
           ],
           "hovertemplate": "<b>%{hovertext}</b><br><br>VESSEL NAME=shelf hydrophone2016-10-31 06:11:59<br>animation_frame=2016-10-31 06:10<br>LAT=%{lat}<br>LON=%{lon}<br>SPEED (KNOTSx10)=%{customdata[0]}<br>slfdist=%{customdata[1]}<extra></extra>",
           "hovertext": [
            "shelf hydrophone"
           ],
           "lat": [
            44.38132
           ],
           "legendgroup": "shelf hydrophone2016-10-31 06:11:59",
           "lon": [
            -124.18216
           ],
           "marker": {
            "color": "#FF6692"
           },
           "mode": "markers",
           "name": "shelf hydrophone2016-10-31 06:11:59",
           "showlegend": true,
           "subplot": "mapbox",
           "type": "scattermapbox"
          },
          {
           "customdata": [
            [
             10,
             0
            ]
           ],
           "hovertemplate": "<b>%{hovertext}</b><br><br>VESSEL NAME=offshore hydrophone2016-10-31 06:11:59<br>animation_frame=2016-10-31 06:10<br>LAT=%{lat}<br>LON=%{lon}<br>SPEED (KNOTSx10)=%{customdata[0]}<br>slfdist=%{customdata[1]}<extra></extra>",
           "hovertext": [
            "offshore hydrophone"
           ],
           "lat": [
            44.2284
           ],
           "legendgroup": "offshore hydrophone2016-10-31 06:11:59",
           "lon": [
            -124.57144
           ],
           "marker": {
            "color": "#B6E880"
           },
           "mode": "markers",
           "name": "offshore hydrophone2016-10-31 06:11:59",
           "showlegend": true,
           "subplot": "mapbox",
           "type": "scattermapbox"
          },
          {
           "customdata": [
            [
             0,
             0
            ]
           ],
           "hovertemplate": "<b>%{hovertext}</b><br><br>VESSEL NAME=shelf hydrophone2016-10-31 06:12:19<br>animation_frame=2016-10-31 06:10<br>LAT=%{lat}<br>LON=%{lon}<br>SPEED (KNOTSx10)=%{customdata[0]}<br>slfdist=%{customdata[1]}<extra></extra>",
           "hovertext": [
            "shelf hydrophone"
           ],
           "lat": [
            44.38132
           ],
           "legendgroup": "shelf hydrophone2016-10-31 06:12:19",
           "lon": [
            -124.18216
           ],
           "marker": {
            "color": "#FF97FF"
           },
           "mode": "markers",
           "name": "shelf hydrophone2016-10-31 06:12:19",
           "showlegend": true,
           "subplot": "mapbox",
           "type": "scattermapbox"
          },
          {
           "customdata": [
            [
             10,
             0
            ]
           ],
           "hovertemplate": "<b>%{hovertext}</b><br><br>VESSEL NAME=offshore hydrophone2016-10-31 06:12:19<br>animation_frame=2016-10-31 06:10<br>LAT=%{lat}<br>LON=%{lon}<br>SPEED (KNOTSx10)=%{customdata[0]}<br>slfdist=%{customdata[1]}<extra></extra>",
           "hovertext": [
            "offshore hydrophone"
           ],
           "lat": [
            44.2284
           ],
           "legendgroup": "offshore hydrophone2016-10-31 06:12:19",
           "lon": [
            -124.57144
           ],
           "marker": {
            "color": "#FECB52"
           },
           "mode": "markers",
           "name": "offshore hydrophone2016-10-31 06:12:19",
           "showlegend": true,
           "subplot": "mapbox",
           "type": "scattermapbox"
          },
          {
           "customdata": [
            [
             0,
             0
            ]
           ],
           "hovertemplate": "<b>%{hovertext}</b><br><br>VESSEL NAME=shelf hydrophone2016-10-31 06:12:42<br>animation_frame=2016-10-31 06:10<br>LAT=%{lat}<br>LON=%{lon}<br>SPEED (KNOTSx10)=%{customdata[0]}<br>slfdist=%{customdata[1]}<extra></extra>",
           "hovertext": [
            "shelf hydrophone"
           ],
           "lat": [
            44.38132
           ],
           "legendgroup": "shelf hydrophone2016-10-31 06:12:42",
           "lon": [
            -124.18216
           ],
           "marker": {
            "color": "#636efa"
           },
           "mode": "markers",
           "name": "shelf hydrophone2016-10-31 06:12:42",
           "showlegend": true,
           "subplot": "mapbox",
           "type": "scattermapbox"
          },
          {
           "customdata": [
            [
             10,
             0
            ]
           ],
           "hovertemplate": "<b>%{hovertext}</b><br><br>VESSEL NAME=offshore hydrophone2016-10-31 06:12:42<br>animation_frame=2016-10-31 06:10<br>LAT=%{lat}<br>LON=%{lon}<br>SPEED (KNOTSx10)=%{customdata[0]}<br>slfdist=%{customdata[1]}<extra></extra>",
           "hovertext": [
            "offshore hydrophone"
           ],
           "lat": [
            44.2284
           ],
           "legendgroup": "offshore hydrophone2016-10-31 06:12:42",
           "lon": [
            -124.57144
           ],
           "marker": {
            "color": "#EF553B"
           },
           "mode": "markers",
           "name": "offshore hydrophone2016-10-31 06:12:42",
           "showlegend": true,
           "subplot": "mapbox",
           "type": "scattermapbox"
          },
          {
           "customdata": [
            [
             0,
             0
            ]
           ],
           "hovertemplate": "<b>%{hovertext}</b><br><br>VESSEL NAME=shelf hydrophone2016-10-31 06:13:10<br>animation_frame=2016-10-31 06:10<br>LAT=%{lat}<br>LON=%{lon}<br>SPEED (KNOTSx10)=%{customdata[0]}<br>slfdist=%{customdata[1]}<extra></extra>",
           "hovertext": [
            "shelf hydrophone"
           ],
           "lat": [
            44.38132
           ],
           "legendgroup": "shelf hydrophone2016-10-31 06:13:10",
           "lon": [
            -124.18216
           ],
           "marker": {
            "color": "#00cc96"
           },
           "mode": "markers",
           "name": "shelf hydrophone2016-10-31 06:13:10",
           "showlegend": true,
           "subplot": "mapbox",
           "type": "scattermapbox"
          },
          {
           "customdata": [
            [
             10,
             0
            ]
           ],
           "hovertemplate": "<b>%{hovertext}</b><br><br>VESSEL NAME=offshore hydrophone2016-10-31 06:13:10<br>animation_frame=2016-10-31 06:10<br>LAT=%{lat}<br>LON=%{lon}<br>SPEED (KNOTSx10)=%{customdata[0]}<br>slfdist=%{customdata[1]}<extra></extra>",
           "hovertext": [
            "offshore hydrophone"
           ],
           "lat": [
            44.2284
           ],
           "legendgroup": "offshore hydrophone2016-10-31 06:13:10",
           "lon": [
            -124.57144
           ],
           "marker": {
            "color": "#ab63fa"
           },
           "mode": "markers",
           "name": "offshore hydrophone2016-10-31 06:13:10",
           "showlegend": true,
           "subplot": "mapbox",
           "type": "scattermapbox"
          },
          {
           "customdata": [
            [
             0,
             0
            ]
           ],
           "hovertemplate": "<b>%{hovertext}</b><br><br>VESSEL NAME=shelf hydrophone2016-10-31 06:13:17<br>animation_frame=2016-10-31 06:10<br>LAT=%{lat}<br>LON=%{lon}<br>SPEED (KNOTSx10)=%{customdata[0]}<br>slfdist=%{customdata[1]}<extra></extra>",
           "hovertext": [
            "shelf hydrophone"
           ],
           "lat": [
            44.38132
           ],
           "legendgroup": "shelf hydrophone2016-10-31 06:13:17",
           "lon": [
            -124.18216
           ],
           "marker": {
            "color": "#FFA15A"
           },
           "mode": "markers",
           "name": "shelf hydrophone2016-10-31 06:13:17",
           "showlegend": true,
           "subplot": "mapbox",
           "type": "scattermapbox"
          },
          {
           "customdata": [
            [
             10,
             0
            ]
           ],
           "hovertemplate": "<b>%{hovertext}</b><br><br>VESSEL NAME=offshore hydrophone2016-10-31 06:13:17<br>animation_frame=2016-10-31 06:10<br>LAT=%{lat}<br>LON=%{lon}<br>SPEED (KNOTSx10)=%{customdata[0]}<br>slfdist=%{customdata[1]}<extra></extra>",
           "hovertext": [
            "offshore hydrophone"
           ],
           "lat": [
            44.2284
           ],
           "legendgroup": "offshore hydrophone2016-10-31 06:13:17",
           "lon": [
            -124.57144
           ],
           "marker": {
            "color": "#19d3f3"
           },
           "mode": "markers",
           "name": "offshore hydrophone2016-10-31 06:13:17",
           "showlegend": true,
           "subplot": "mapbox",
           "type": "scattermapbox"
          },
          {
           "customdata": [
            [
             0,
             0
            ]
           ],
           "hovertemplate": "<b>%{hovertext}</b><br><br>VESSEL NAME=shelf hydrophone2016-10-31 06:13:47<br>animation_frame=2016-10-31 06:10<br>LAT=%{lat}<br>LON=%{lon}<br>SPEED (KNOTSx10)=%{customdata[0]}<br>slfdist=%{customdata[1]}<extra></extra>",
           "hovertext": [
            "shelf hydrophone"
           ],
           "lat": [
            44.38132
           ],
           "legendgroup": "shelf hydrophone2016-10-31 06:13:47",
           "lon": [
            -124.18216
           ],
           "marker": {
            "color": "#FF6692"
           },
           "mode": "markers",
           "name": "shelf hydrophone2016-10-31 06:13:47",
           "showlegend": true,
           "subplot": "mapbox",
           "type": "scattermapbox"
          },
          {
           "customdata": [
            [
             10,
             0
            ]
           ],
           "hovertemplate": "<b>%{hovertext}</b><br><br>VESSEL NAME=offshore hydrophone2016-10-31 06:13:47<br>animation_frame=2016-10-31 06:10<br>LAT=%{lat}<br>LON=%{lon}<br>SPEED (KNOTSx10)=%{customdata[0]}<br>slfdist=%{customdata[1]}<extra></extra>",
           "hovertext": [
            "offshore hydrophone"
           ],
           "lat": [
            44.2284
           ],
           "legendgroup": "offshore hydrophone2016-10-31 06:13:47",
           "lon": [
            -124.57144
           ],
           "marker": {
            "color": "#B6E880"
           },
           "mode": "markers",
           "name": "offshore hydrophone2016-10-31 06:13:47",
           "showlegend": true,
           "subplot": "mapbox",
           "type": "scattermapbox"
          },
          {
           "customdata": [
            [
             0,
             0
            ]
           ],
           "hovertemplate": "<b>%{hovertext}</b><br><br>VESSEL NAME=shelf hydrophone2016-10-31 06:15:03<br>animation_frame=2016-10-31 06:10<br>LAT=%{lat}<br>LON=%{lon}<br>SPEED (KNOTSx10)=%{customdata[0]}<br>slfdist=%{customdata[1]}<extra></extra>",
           "hovertext": [
            "shelf hydrophone"
           ],
           "lat": [
            44.38132
           ],
           "legendgroup": "shelf hydrophone2016-10-31 06:15:03",
           "lon": [
            -124.18216
           ],
           "marker": {
            "color": "#FF97FF"
           },
           "mode": "markers",
           "name": "shelf hydrophone2016-10-31 06:15:03",
           "showlegend": true,
           "subplot": "mapbox",
           "type": "scattermapbox"
          },
          {
           "customdata": [
            [
             10,
             0
            ]
           ],
           "hovertemplate": "<b>%{hovertext}</b><br><br>VESSEL NAME=offshore hydrophone2016-10-31 06:15:03<br>animation_frame=2016-10-31 06:10<br>LAT=%{lat}<br>LON=%{lon}<br>SPEED (KNOTSx10)=%{customdata[0]}<br>slfdist=%{customdata[1]}<extra></extra>",
           "hovertext": [
            "offshore hydrophone"
           ],
           "lat": [
            44.2284
           ],
           "legendgroup": "offshore hydrophone2016-10-31 06:15:03",
           "lon": [
            -124.57144
           ],
           "marker": {
            "color": "#FECB52"
           },
           "mode": "markers",
           "name": "offshore hydrophone2016-10-31 06:15:03",
           "showlegend": true,
           "subplot": "mapbox",
           "type": "scattermapbox"
          },
          {
           "customdata": [
            [
             0,
             0
            ]
           ],
           "hovertemplate": "<b>%{hovertext}</b><br><br>VESSEL NAME=shelf hydrophone2016-10-31 06:15:04<br>animation_frame=2016-10-31 06:10<br>LAT=%{lat}<br>LON=%{lon}<br>SPEED (KNOTSx10)=%{customdata[0]}<br>slfdist=%{customdata[1]}<extra></extra>",
           "hovertext": [
            "shelf hydrophone"
           ],
           "lat": [
            44.38132
           ],
           "legendgroup": "shelf hydrophone2016-10-31 06:15:04",
           "lon": [
            -124.18216
           ],
           "marker": {
            "color": "#636efa"
           },
           "mode": "markers",
           "name": "shelf hydrophone2016-10-31 06:15:04",
           "showlegend": true,
           "subplot": "mapbox",
           "type": "scattermapbox"
          },
          {
           "customdata": [
            [
             10,
             0
            ]
           ],
           "hovertemplate": "<b>%{hovertext}</b><br><br>VESSEL NAME=offshore hydrophone2016-10-31 06:15:04<br>animation_frame=2016-10-31 06:10<br>LAT=%{lat}<br>LON=%{lon}<br>SPEED (KNOTSx10)=%{customdata[0]}<br>slfdist=%{customdata[1]}<extra></extra>",
           "hovertext": [
            "offshore hydrophone"
           ],
           "lat": [
            44.2284
           ],
           "legendgroup": "offshore hydrophone2016-10-31 06:15:04",
           "lon": [
            -124.57144
           ],
           "marker": {
            "color": "#EF553B"
           },
           "mode": "markers",
           "name": "offshore hydrophone2016-10-31 06:15:04",
           "showlegend": true,
           "subplot": "mapbox",
           "type": "scattermapbox"
          },
          {
           "customdata": [
            [
             0,
             0
            ]
           ],
           "hovertemplate": "<b>%{hovertext}</b><br><br>VESSEL NAME=shelf hydrophone2016-10-31 06:15:10<br>animation_frame=2016-10-31 06:10<br>LAT=%{lat}<br>LON=%{lon}<br>SPEED (KNOTSx10)=%{customdata[0]}<br>slfdist=%{customdata[1]}<extra></extra>",
           "hovertext": [
            "shelf hydrophone"
           ],
           "lat": [
            44.38132
           ],
           "legendgroup": "shelf hydrophone2016-10-31 06:15:10",
           "lon": [
            -124.18216
           ],
           "marker": {
            "color": "#00cc96"
           },
           "mode": "markers",
           "name": "shelf hydrophone2016-10-31 06:15:10",
           "showlegend": true,
           "subplot": "mapbox",
           "type": "scattermapbox"
          },
          {
           "customdata": [
            [
             10,
             0
            ]
           ],
           "hovertemplate": "<b>%{hovertext}</b><br><br>VESSEL NAME=offshore hydrophone2016-10-31 06:15:10<br>animation_frame=2016-10-31 06:10<br>LAT=%{lat}<br>LON=%{lon}<br>SPEED (KNOTSx10)=%{customdata[0]}<br>slfdist=%{customdata[1]}<extra></extra>",
           "hovertext": [
            "offshore hydrophone"
           ],
           "lat": [
            44.2284
           ],
           "legendgroup": "offshore hydrophone2016-10-31 06:15:10",
           "lon": [
            -124.57144
           ],
           "marker": {
            "color": "#ab63fa"
           },
           "mode": "markers",
           "name": "offshore hydrophone2016-10-31 06:15:10",
           "showlegend": true,
           "subplot": "mapbox",
           "type": "scattermapbox"
          },
          {
           "customdata": [
            [
             0,
             0
            ]
           ],
           "hovertemplate": "<b>%{hovertext}</b><br><br>VESSEL NAME=shelf hydrophone2016-10-31 06:15:17<br>animation_frame=2016-10-31 06:10<br>LAT=%{lat}<br>LON=%{lon}<br>SPEED (KNOTSx10)=%{customdata[0]}<br>slfdist=%{customdata[1]}<extra></extra>",
           "hovertext": [
            "shelf hydrophone"
           ],
           "lat": [
            44.38132
           ],
           "legendgroup": "shelf hydrophone2016-10-31 06:15:17",
           "lon": [
            -124.18216
           ],
           "marker": {
            "color": "#FFA15A"
           },
           "mode": "markers",
           "name": "shelf hydrophone2016-10-31 06:15:17",
           "showlegend": true,
           "subplot": "mapbox",
           "type": "scattermapbox"
          },
          {
           "customdata": [
            [
             10,
             0
            ]
           ],
           "hovertemplate": "<b>%{hovertext}</b><br><br>VESSEL NAME=offshore hydrophone2016-10-31 06:15:17<br>animation_frame=2016-10-31 06:10<br>LAT=%{lat}<br>LON=%{lon}<br>SPEED (KNOTSx10)=%{customdata[0]}<br>slfdist=%{customdata[1]}<extra></extra>",
           "hovertext": [
            "offshore hydrophone"
           ],
           "lat": [
            44.2284
           ],
           "legendgroup": "offshore hydrophone2016-10-31 06:15:17",
           "lon": [
            -124.57144
           ],
           "marker": {
            "color": "#19d3f3"
           },
           "mode": "markers",
           "name": "offshore hydrophone2016-10-31 06:15:17",
           "showlegend": true,
           "subplot": "mapbox",
           "type": "scattermapbox"
          },
          {
           "customdata": [
            [
             0,
             0
            ]
           ],
           "hovertemplate": "<b>%{hovertext}</b><br><br>VESSEL NAME=shelf hydrophone2016-10-31 06:15:28<br>animation_frame=2016-10-31 06:10<br>LAT=%{lat}<br>LON=%{lon}<br>SPEED (KNOTSx10)=%{customdata[0]}<br>slfdist=%{customdata[1]}<extra></extra>",
           "hovertext": [
            "shelf hydrophone"
           ],
           "lat": [
            44.38132
           ],
           "legendgroup": "shelf hydrophone2016-10-31 06:15:28",
           "lon": [
            -124.18216
           ],
           "marker": {
            "color": "#FF6692"
           },
           "mode": "markers",
           "name": "shelf hydrophone2016-10-31 06:15:28",
           "showlegend": true,
           "subplot": "mapbox",
           "type": "scattermapbox"
          },
          {
           "customdata": [
            [
             10,
             0
            ]
           ],
           "hovertemplate": "<b>%{hovertext}</b><br><br>VESSEL NAME=offshore hydrophone2016-10-31 06:15:28<br>animation_frame=2016-10-31 06:10<br>LAT=%{lat}<br>LON=%{lon}<br>SPEED (KNOTSx10)=%{customdata[0]}<br>slfdist=%{customdata[1]}<extra></extra>",
           "hovertext": [
            "offshore hydrophone"
           ],
           "lat": [
            44.2284
           ],
           "legendgroup": "offshore hydrophone2016-10-31 06:15:28",
           "lon": [
            -124.57144
           ],
           "marker": {
            "color": "#B6E880"
           },
           "mode": "markers",
           "name": "offshore hydrophone2016-10-31 06:15:28",
           "showlegend": true,
           "subplot": "mapbox",
           "type": "scattermapbox"
          },
          {
           "customdata": [
            [
             0,
             0
            ]
           ],
           "hovertemplate": "<b>%{hovertext}</b><br><br>VESSEL NAME=shelf hydrophone2016-10-31 06:15:45<br>animation_frame=2016-10-31 06:10<br>LAT=%{lat}<br>LON=%{lon}<br>SPEED (KNOTSx10)=%{customdata[0]}<br>slfdist=%{customdata[1]}<extra></extra>",
           "hovertext": [
            "shelf hydrophone"
           ],
           "lat": [
            44.38132
           ],
           "legendgroup": "shelf hydrophone2016-10-31 06:15:45",
           "lon": [
            -124.18216
           ],
           "marker": {
            "color": "#FF97FF"
           },
           "mode": "markers",
           "name": "shelf hydrophone2016-10-31 06:15:45",
           "showlegend": true,
           "subplot": "mapbox",
           "type": "scattermapbox"
          },
          {
           "customdata": [
            [
             10,
             0
            ]
           ],
           "hovertemplate": "<b>%{hovertext}</b><br><br>VESSEL NAME=offshore hydrophone2016-10-31 06:15:45<br>animation_frame=2016-10-31 06:10<br>LAT=%{lat}<br>LON=%{lon}<br>SPEED (KNOTSx10)=%{customdata[0]}<br>slfdist=%{customdata[1]}<extra></extra>",
           "hovertext": [
            "offshore hydrophone"
           ],
           "lat": [
            44.2284
           ],
           "legendgroup": "offshore hydrophone2016-10-31 06:15:45",
           "lon": [
            -124.57144
           ],
           "marker": {
            "color": "#FECB52"
           },
           "mode": "markers",
           "name": "offshore hydrophone2016-10-31 06:15:45",
           "showlegend": true,
           "subplot": "mapbox",
           "type": "scattermapbox"
          },
          {
           "customdata": [
            [
             0,
             0
            ]
           ],
           "hovertemplate": "<b>%{hovertext}</b><br><br>VESSEL NAME=shelf hydrophone2016-10-31 06:16:06<br>animation_frame=2016-10-31 06:10<br>LAT=%{lat}<br>LON=%{lon}<br>SPEED (KNOTSx10)=%{customdata[0]}<br>slfdist=%{customdata[1]}<extra></extra>",
           "hovertext": [
            "shelf hydrophone"
           ],
           "lat": [
            44.38132
           ],
           "legendgroup": "shelf hydrophone2016-10-31 06:16:06",
           "lon": [
            -124.18216
           ],
           "marker": {
            "color": "#636efa"
           },
           "mode": "markers",
           "name": "shelf hydrophone2016-10-31 06:16:06",
           "showlegend": true,
           "subplot": "mapbox",
           "type": "scattermapbox"
          },
          {
           "customdata": [
            [
             10,
             0
            ]
           ],
           "hovertemplate": "<b>%{hovertext}</b><br><br>VESSEL NAME=offshore hydrophone2016-10-31 06:16:06<br>animation_frame=2016-10-31 06:10<br>LAT=%{lat}<br>LON=%{lon}<br>SPEED (KNOTSx10)=%{customdata[0]}<br>slfdist=%{customdata[1]}<extra></extra>",
           "hovertext": [
            "offshore hydrophone"
           ],
           "lat": [
            44.2284
           ],
           "legendgroup": "offshore hydrophone2016-10-31 06:16:06",
           "lon": [
            -124.57144
           ],
           "marker": {
            "color": "#EF553B"
           },
           "mode": "markers",
           "name": "offshore hydrophone2016-10-31 06:16:06",
           "showlegend": true,
           "subplot": "mapbox",
           "type": "scattermapbox"
          },
          {
           "customdata": [
            [
             0,
             0
            ]
           ],
           "hovertemplate": "<b>%{hovertext}</b><br><br>VESSEL NAME=shelf hydrophone2016-10-31 06:17:00<br>animation_frame=2016-10-31 06:10<br>LAT=%{lat}<br>LON=%{lon}<br>SPEED (KNOTSx10)=%{customdata[0]}<br>slfdist=%{customdata[1]}<extra></extra>",
           "hovertext": [
            "shelf hydrophone"
           ],
           "lat": [
            44.38132
           ],
           "legendgroup": "shelf hydrophone2016-10-31 06:17:00",
           "lon": [
            -124.18216
           ],
           "marker": {
            "color": "#00cc96"
           },
           "mode": "markers",
           "name": "shelf hydrophone2016-10-31 06:17:00",
           "showlegend": true,
           "subplot": "mapbox",
           "type": "scattermapbox"
          },
          {
           "customdata": [
            [
             10,
             0
            ]
           ],
           "hovertemplate": "<b>%{hovertext}</b><br><br>VESSEL NAME=offshore hydrophone2016-10-31 06:17:00<br>animation_frame=2016-10-31 06:10<br>LAT=%{lat}<br>LON=%{lon}<br>SPEED (KNOTSx10)=%{customdata[0]}<br>slfdist=%{customdata[1]}<extra></extra>",
           "hovertext": [
            "offshore hydrophone"
           ],
           "lat": [
            44.2284
           ],
           "legendgroup": "offshore hydrophone2016-10-31 06:17:00",
           "lon": [
            -124.57144
           ],
           "marker": {
            "color": "#ab63fa"
           },
           "mode": "markers",
           "name": "offshore hydrophone2016-10-31 06:17:00",
           "showlegend": true,
           "subplot": "mapbox",
           "type": "scattermapbox"
          },
          {
           "customdata": [
            [
             0,
             0
            ]
           ],
           "hovertemplate": "<b>%{hovertext}</b><br><br>VESSEL NAME=shelf hydrophone2016-10-31 06:17:04<br>animation_frame=2016-10-31 06:10<br>LAT=%{lat}<br>LON=%{lon}<br>SPEED (KNOTSx10)=%{customdata[0]}<br>slfdist=%{customdata[1]}<extra></extra>",
           "hovertext": [
            "shelf hydrophone"
           ],
           "lat": [
            44.38132
           ],
           "legendgroup": "shelf hydrophone2016-10-31 06:17:04",
           "lon": [
            -124.18216
           ],
           "marker": {
            "color": "#FFA15A"
           },
           "mode": "markers",
           "name": "shelf hydrophone2016-10-31 06:17:04",
           "showlegend": true,
           "subplot": "mapbox",
           "type": "scattermapbox"
          },
          {
           "customdata": [
            [
             10,
             0
            ]
           ],
           "hovertemplate": "<b>%{hovertext}</b><br><br>VESSEL NAME=offshore hydrophone2016-10-31 06:17:04<br>animation_frame=2016-10-31 06:10<br>LAT=%{lat}<br>LON=%{lon}<br>SPEED (KNOTSx10)=%{customdata[0]}<br>slfdist=%{customdata[1]}<extra></extra>",
           "hovertext": [
            "offshore hydrophone"
           ],
           "lat": [
            44.2284
           ],
           "legendgroup": "offshore hydrophone2016-10-31 06:17:04",
           "lon": [
            -124.57144
           ],
           "marker": {
            "color": "#19d3f3"
           },
           "mode": "markers",
           "name": "offshore hydrophone2016-10-31 06:17:04",
           "showlegend": true,
           "subplot": "mapbox",
           "type": "scattermapbox"
          },
          {
           "customdata": [
            [
             0,
             0
            ]
           ],
           "hovertemplate": "<b>%{hovertext}</b><br><br>VESSEL NAME=shelf hydrophone2016-10-31 06:17:10<br>animation_frame=2016-10-31 06:10<br>LAT=%{lat}<br>LON=%{lon}<br>SPEED (KNOTSx10)=%{customdata[0]}<br>slfdist=%{customdata[1]}<extra></extra>",
           "hovertext": [
            "shelf hydrophone"
           ],
           "lat": [
            44.38132
           ],
           "legendgroup": "shelf hydrophone2016-10-31 06:17:10",
           "lon": [
            -124.18216
           ],
           "marker": {
            "color": "#FF6692"
           },
           "mode": "markers",
           "name": "shelf hydrophone2016-10-31 06:17:10",
           "showlegend": true,
           "subplot": "mapbox",
           "type": "scattermapbox"
          },
          {
           "customdata": [
            [
             10,
             0
            ]
           ],
           "hovertemplate": "<b>%{hovertext}</b><br><br>VESSEL NAME=offshore hydrophone2016-10-31 06:17:10<br>animation_frame=2016-10-31 06:10<br>LAT=%{lat}<br>LON=%{lon}<br>SPEED (KNOTSx10)=%{customdata[0]}<br>slfdist=%{customdata[1]}<extra></extra>",
           "hovertext": [
            "offshore hydrophone"
           ],
           "lat": [
            44.2284
           ],
           "legendgroup": "offshore hydrophone2016-10-31 06:17:10",
           "lon": [
            -124.57144
           ],
           "marker": {
            "color": "#B6E880"
           },
           "mode": "markers",
           "name": "offshore hydrophone2016-10-31 06:17:10",
           "showlegend": true,
           "subplot": "mapbox",
           "type": "scattermapbox"
          },
          {
           "customdata": [
            [
             0,
             0
            ]
           ],
           "hovertemplate": "<b>%{hovertext}</b><br><br>VESSEL NAME=shelf hydrophone2016-10-31 06:17:42<br>animation_frame=2016-10-31 06:10<br>LAT=%{lat}<br>LON=%{lon}<br>SPEED (KNOTSx10)=%{customdata[0]}<br>slfdist=%{customdata[1]}<extra></extra>",
           "hovertext": [
            "shelf hydrophone"
           ],
           "lat": [
            44.38132
           ],
           "legendgroup": "shelf hydrophone2016-10-31 06:17:42",
           "lon": [
            -124.18216
           ],
           "marker": {
            "color": "#FF97FF"
           },
           "mode": "markers",
           "name": "shelf hydrophone2016-10-31 06:17:42",
           "showlegend": true,
           "subplot": "mapbox",
           "type": "scattermapbox"
          },
          {
           "customdata": [
            [
             10,
             0
            ]
           ],
           "hovertemplate": "<b>%{hovertext}</b><br><br>VESSEL NAME=offshore hydrophone2016-10-31 06:17:42<br>animation_frame=2016-10-31 06:10<br>LAT=%{lat}<br>LON=%{lon}<br>SPEED (KNOTSx10)=%{customdata[0]}<br>slfdist=%{customdata[1]}<extra></extra>",
           "hovertext": [
            "offshore hydrophone"
           ],
           "lat": [
            44.2284
           ],
           "legendgroup": "offshore hydrophone2016-10-31 06:17:42",
           "lon": [
            -124.57144
           ],
           "marker": {
            "color": "#FECB52"
           },
           "mode": "markers",
           "name": "offshore hydrophone2016-10-31 06:17:42",
           "showlegend": true,
           "subplot": "mapbox",
           "type": "scattermapbox"
          },
          {
           "customdata": [
            [
             0,
             0
            ]
           ],
           "hovertemplate": "<b>%{hovertext}</b><br><br>VESSEL NAME=shelf hydrophone2016-10-31 06:18:41<br>animation_frame=2016-10-31 06:10<br>LAT=%{lat}<br>LON=%{lon}<br>SPEED (KNOTSx10)=%{customdata[0]}<br>slfdist=%{customdata[1]}<extra></extra>",
           "hovertext": [
            "shelf hydrophone"
           ],
           "lat": [
            44.38132
           ],
           "legendgroup": "shelf hydrophone2016-10-31 06:18:41",
           "lon": [
            -124.18216
           ],
           "marker": {
            "color": "#636efa"
           },
           "mode": "markers",
           "name": "shelf hydrophone2016-10-31 06:18:41",
           "showlegend": true,
           "subplot": "mapbox",
           "type": "scattermapbox"
          },
          {
           "customdata": [
            [
             10,
             0
            ]
           ],
           "hovertemplate": "<b>%{hovertext}</b><br><br>VESSEL NAME=offshore hydrophone2016-10-31 06:18:41<br>animation_frame=2016-10-31 06:10<br>LAT=%{lat}<br>LON=%{lon}<br>SPEED (KNOTSx10)=%{customdata[0]}<br>slfdist=%{customdata[1]}<extra></extra>",
           "hovertext": [
            "offshore hydrophone"
           ],
           "lat": [
            44.2284
           ],
           "legendgroup": "offshore hydrophone2016-10-31 06:18:41",
           "lon": [
            -124.57144
           ],
           "marker": {
            "color": "#EF553B"
           },
           "mode": "markers",
           "name": "offshore hydrophone2016-10-31 06:18:41",
           "showlegend": true,
           "subplot": "mapbox",
           "type": "scattermapbox"
          },
          {
           "customdata": [
            [
             0,
             0
            ]
           ],
           "hovertemplate": "<b>%{hovertext}</b><br><br>VESSEL NAME=shelf hydrophone2016-10-31 06:18:46<br>animation_frame=2016-10-31 06:10<br>LAT=%{lat}<br>LON=%{lon}<br>SPEED (KNOTSx10)=%{customdata[0]}<br>slfdist=%{customdata[1]}<extra></extra>",
           "hovertext": [
            "shelf hydrophone"
           ],
           "lat": [
            44.38132
           ],
           "legendgroup": "shelf hydrophone2016-10-31 06:18:46",
           "lon": [
            -124.18216
           ],
           "marker": {
            "color": "#00cc96"
           },
           "mode": "markers",
           "name": "shelf hydrophone2016-10-31 06:18:46",
           "showlegend": true,
           "subplot": "mapbox",
           "type": "scattermapbox"
          },
          {
           "customdata": [
            [
             10,
             0
            ]
           ],
           "hovertemplate": "<b>%{hovertext}</b><br><br>VESSEL NAME=offshore hydrophone2016-10-31 06:18:46<br>animation_frame=2016-10-31 06:10<br>LAT=%{lat}<br>LON=%{lon}<br>SPEED (KNOTSx10)=%{customdata[0]}<br>slfdist=%{customdata[1]}<extra></extra>",
           "hovertext": [
            "offshore hydrophone"
           ],
           "lat": [
            44.2284
           ],
           "legendgroup": "offshore hydrophone2016-10-31 06:18:46",
           "lon": [
            -124.57144
           ],
           "marker": {
            "color": "#ab63fa"
           },
           "mode": "markers",
           "name": "offshore hydrophone2016-10-31 06:18:46",
           "showlegend": true,
           "subplot": "mapbox",
           "type": "scattermapbox"
          },
          {
           "customdata": [
            [
             0,
             0
            ]
           ],
           "hovertemplate": "<b>%{hovertext}</b><br><br>VESSEL NAME=shelf hydrophone2016-10-31 06:18:56<br>animation_frame=2016-10-31 06:10<br>LAT=%{lat}<br>LON=%{lon}<br>SPEED (KNOTSx10)=%{customdata[0]}<br>slfdist=%{customdata[1]}<extra></extra>",
           "hovertext": [
            "shelf hydrophone"
           ],
           "lat": [
            44.38132
           ],
           "legendgroup": "shelf hydrophone2016-10-31 06:18:56",
           "lon": [
            -124.18216
           ],
           "marker": {
            "color": "#FFA15A"
           },
           "mode": "markers",
           "name": "shelf hydrophone2016-10-31 06:18:56",
           "showlegend": true,
           "subplot": "mapbox",
           "type": "scattermapbox"
          },
          {
           "customdata": [
            [
             10,
             0
            ]
           ],
           "hovertemplate": "<b>%{hovertext}</b><br><br>VESSEL NAME=offshore hydrophone2016-10-31 06:18:56<br>animation_frame=2016-10-31 06:10<br>LAT=%{lat}<br>LON=%{lon}<br>SPEED (KNOTSx10)=%{customdata[0]}<br>slfdist=%{customdata[1]}<extra></extra>",
           "hovertext": [
            "offshore hydrophone"
           ],
           "lat": [
            44.2284
           ],
           "legendgroup": "offshore hydrophone2016-10-31 06:18:56",
           "lon": [
            -124.57144
           ],
           "marker": {
            "color": "#19d3f3"
           },
           "mode": "markers",
           "name": "offshore hydrophone2016-10-31 06:18:56",
           "showlegend": true,
           "subplot": "mapbox",
           "type": "scattermapbox"
          },
          {
           "customdata": [
            [
             0,
             0
            ]
           ],
           "hovertemplate": "<b>%{hovertext}</b><br><br>VESSEL NAME=shelf hydrophone2016-10-31 06:19:04<br>animation_frame=2016-10-31 06:10<br>LAT=%{lat}<br>LON=%{lon}<br>SPEED (KNOTSx10)=%{customdata[0]}<br>slfdist=%{customdata[1]}<extra></extra>",
           "hovertext": [
            "shelf hydrophone"
           ],
           "lat": [
            44.38132
           ],
           "legendgroup": "shelf hydrophone2016-10-31 06:19:04",
           "lon": [
            -124.18216
           ],
           "marker": {
            "color": "#FF6692"
           },
           "mode": "markers",
           "name": "shelf hydrophone2016-10-31 06:19:04",
           "showlegend": true,
           "subplot": "mapbox",
           "type": "scattermapbox"
          },
          {
           "customdata": [
            [
             10,
             0
            ]
           ],
           "hovertemplate": "<b>%{hovertext}</b><br><br>VESSEL NAME=offshore hydrophone2016-10-31 06:19:04<br>animation_frame=2016-10-31 06:10<br>LAT=%{lat}<br>LON=%{lon}<br>SPEED (KNOTSx10)=%{customdata[0]}<br>slfdist=%{customdata[1]}<extra></extra>",
           "hovertext": [
            "offshore hydrophone"
           ],
           "lat": [
            44.2284
           ],
           "legendgroup": "offshore hydrophone2016-10-31 06:19:04",
           "lon": [
            -124.57144
           ],
           "marker": {
            "color": "#B6E880"
           },
           "mode": "markers",
           "name": "offshore hydrophone2016-10-31 06:19:04",
           "showlegend": true,
           "subplot": "mapbox",
           "type": "scattermapbox"
          },
          {
           "customdata": [
            [
             0,
             0
            ]
           ],
           "hovertemplate": "<b>%{hovertext}</b><br><br>VESSEL NAME=shelf hydrophone2016-10-31 06:19:08<br>animation_frame=2016-10-31 06:10<br>LAT=%{lat}<br>LON=%{lon}<br>SPEED (KNOTSx10)=%{customdata[0]}<br>slfdist=%{customdata[1]}<extra></extra>",
           "hovertext": [
            "shelf hydrophone"
           ],
           "lat": [
            44.38132
           ],
           "legendgroup": "shelf hydrophone2016-10-31 06:19:08",
           "lon": [
            -124.18216
           ],
           "marker": {
            "color": "#FF97FF"
           },
           "mode": "markers",
           "name": "shelf hydrophone2016-10-31 06:19:08",
           "showlegend": true,
           "subplot": "mapbox",
           "type": "scattermapbox"
          },
          {
           "customdata": [
            [
             10,
             0
            ]
           ],
           "hovertemplate": "<b>%{hovertext}</b><br><br>VESSEL NAME=offshore hydrophone2016-10-31 06:19:08<br>animation_frame=2016-10-31 06:10<br>LAT=%{lat}<br>LON=%{lon}<br>SPEED (KNOTSx10)=%{customdata[0]}<br>slfdist=%{customdata[1]}<extra></extra>",
           "hovertext": [
            "offshore hydrophone"
           ],
           "lat": [
            44.2284
           ],
           "legendgroup": "offshore hydrophone2016-10-31 06:19:08",
           "lon": [
            -124.57144
           ],
           "marker": {
            "color": "#FECB52"
           },
           "mode": "markers",
           "name": "offshore hydrophone2016-10-31 06:19:08",
           "showlegend": true,
           "subplot": "mapbox",
           "type": "scattermapbox"
          },
          {
           "customdata": [
            [
             0,
             0
            ]
           ],
           "hovertemplate": "<b>%{hovertext}</b><br><br>VESSEL NAME=shelf hydrophone2016-10-31 06:19:24<br>animation_frame=2016-10-31 06:10<br>LAT=%{lat}<br>LON=%{lon}<br>SPEED (KNOTSx10)=%{customdata[0]}<br>slfdist=%{customdata[1]}<extra></extra>",
           "hovertext": [
            "shelf hydrophone"
           ],
           "lat": [
            44.38132
           ],
           "legendgroup": "shelf hydrophone2016-10-31 06:19:24",
           "lon": [
            -124.18216
           ],
           "marker": {
            "color": "#636efa"
           },
           "mode": "markers",
           "name": "shelf hydrophone2016-10-31 06:19:24",
           "showlegend": true,
           "subplot": "mapbox",
           "type": "scattermapbox"
          },
          {
           "customdata": [
            [
             10,
             0
            ]
           ],
           "hovertemplate": "<b>%{hovertext}</b><br><br>VESSEL NAME=offshore hydrophone2016-10-31 06:19:24<br>animation_frame=2016-10-31 06:10<br>LAT=%{lat}<br>LON=%{lon}<br>SPEED (KNOTSx10)=%{customdata[0]}<br>slfdist=%{customdata[1]}<extra></extra>",
           "hovertext": [
            "offshore hydrophone"
           ],
           "lat": [
            44.2284
           ],
           "legendgroup": "offshore hydrophone2016-10-31 06:19:24",
           "lon": [
            -124.57144
           ],
           "marker": {
            "color": "#EF553B"
           },
           "mode": "markers",
           "name": "offshore hydrophone2016-10-31 06:19:24",
           "showlegend": true,
           "subplot": "mapbox",
           "type": "scattermapbox"
          },
          {
           "customdata": [
            [
             0,
             0
            ]
           ],
           "hovertemplate": "<b>%{hovertext}</b><br><br>VESSEL NAME=shelf hydrophone2016-10-31 06:19:55<br>animation_frame=2016-10-31 06:10<br>LAT=%{lat}<br>LON=%{lon}<br>SPEED (KNOTSx10)=%{customdata[0]}<br>slfdist=%{customdata[1]}<extra></extra>",
           "hovertext": [
            "shelf hydrophone"
           ],
           "lat": [
            44.38132
           ],
           "legendgroup": "shelf hydrophone2016-10-31 06:19:55",
           "lon": [
            -124.18216
           ],
           "marker": {
            "color": "#00cc96"
           },
           "mode": "markers",
           "name": "shelf hydrophone2016-10-31 06:19:55",
           "showlegend": true,
           "subplot": "mapbox",
           "type": "scattermapbox"
          },
          {
           "customdata": [
            [
             10,
             0
            ]
           ],
           "hovertemplate": "<b>%{hovertext}</b><br><br>VESSEL NAME=offshore hydrophone2016-10-31 06:19:55<br>animation_frame=2016-10-31 06:10<br>LAT=%{lat}<br>LON=%{lon}<br>SPEED (KNOTSx10)=%{customdata[0]}<br>slfdist=%{customdata[1]}<extra></extra>",
           "hovertext": [
            "offshore hydrophone"
           ],
           "lat": [
            44.2284
           ],
           "legendgroup": "offshore hydrophone2016-10-31 06:19:55",
           "lon": [
            -124.57144
           ],
           "marker": {
            "color": "#ab63fa"
           },
           "mode": "markers",
           "name": "offshore hydrophone2016-10-31 06:19:55",
           "showlegend": true,
           "subplot": "mapbox",
           "type": "scattermapbox"
          }
         ],
         "name": "2016-10-31 06:10"
        },
        {
         "data": [
          {
           "customdata": [
            [
             32,
             29.820231232888375
            ],
            [
             31,
             29.84135791539057
            ],
            [
             31,
             29.88063494340431
            ]
           ],
           "hovertemplate": "<b>%{hovertext}</b><br><br>VESSEL NAME=SEEKER<br>animation_frame=2016-10-31 06:20<br>LAT=%{lat}<br>LON=%{lon}<br>SPEED (KNOTSx10)=%{customdata[0]}<br>slfdist=%{customdata[1]}<extra></extra>",
           "hovertext": [
            "Fishing",
            "Fishing",
            "Fishing"
           ],
           "lat": [
            44.52119,
            44.52443,
            44.52717
           ],
           "legendgroup": "SEEKER",
           "lon": [
            -124.7526,
            -124.7515,
            -124.751
           ],
           "marker": {
            "color": "#636efa"
           },
           "mode": "markers",
           "name": "SEEKER",
           "showlegend": true,
           "subplot": "mapbox",
           "type": "scattermapbox"
          },
          {
           "customdata": [
            [
             47,
             9.947193196236379
            ],
            [
             49,
             9.882194186175981
            ],
            [
             54,
             9.776379057251447
            ],
            [
             47,
             9.724472471448976
            ]
           ],
           "hovertemplate": "<b>%{hovertext}</b><br><br>VESSEL NAME=PACIFIC RAM<br>animation_frame=2016-10-31 06:20<br>LAT=%{lat}<br>LON=%{lon}<br>SPEED (KNOTSx10)=%{customdata[0]}<br>slfdist=%{customdata[1]}<extra></extra>",
           "hovertext": [
            "Factory Trawler",
            "Factory Trawler",
            "Factory Trawler",
            "Factory Trawler"
           ],
           "lat": [
            44.51732,
            44.51544,
            44.51222,
            44.5104
           ],
           "legendgroup": "PACIFIC RAM",
           "lon": [
            -124.2485,
            -124.2519,
            -124.2575,
            -124.2608
           ],
           "marker": {
            "color": "#EF553B"
           },
           "mode": "markers",
           "name": "PACIFIC RAM",
           "showlegend": true,
           "subplot": "mapbox",
           "type": "scattermapbox"
          },
          {
           "customdata": [
            [
             47,
             10.648256862005372
            ],
            [
             48,
             10.57107309615616
            ],
            [
             50,
             10.483123021966518
            ],
            [
             52,
             10.39969669025018
            ]
           ],
           "hovertemplate": "<b>%{hovertext}</b><br><br>VESSEL NAME=LISA MELINDA<br>animation_frame=2016-10-31 06:20<br>LAT=%{lat}<br>LON=%{lon}<br>SPEED (KNOTSx10)=%{customdata[0]}<br>slfdist=%{customdata[1]}<extra></extra>",
           "hovertext": [
            "Fishing Vessel",
            "Fishing Vessel",
            "Fishing Vessel",
            "Fishing Vessel"
           ],
           "lat": [
            44.5315,
            44.52983,
            44.52786,
            44.52592
           ],
           "legendgroup": "LISA MELINDA",
           "lon": [
            -124.2311,
            -124.2341,
            -124.2376,
            -124.241
           ],
           "marker": {
            "color": "#00cc96"
           },
           "mode": "markers",
           "name": "LISA MELINDA",
           "showlegend": true,
           "subplot": "mapbox",
           "type": "scattermapbox"
          },
          {
           "customdata": [
            [
             22,
             33.0315151231028
            ],
            [
             16,
             33.01203498171544
            ],
            [
             20,
             33.00291108552733
            ],
            [
             13,
             32.99047225884207
            ]
           ],
           "hovertemplate": "<b>%{hovertext}</b><br><br>VESSEL NAME=MISS BERDIE<br>animation_frame=2016-10-31 06:20<br>LAT=%{lat}<br>LON=%{lon}<br>SPEED (KNOTSx10)=%{customdata[0]}<br>slfdist=%{customdata[1]}<extra></extra>",
           "hovertext": [
            "Unspecified",
            "Unspecified",
            "Unspecified",
            "Unspecified"
           ],
           "lat": [
            44.58576,
            44.58448,
            44.58324,
            44.58172
           ],
           "legendgroup": "MISS BERDIE",
           "lon": [
            -124.7863,
            -124.7867,
            -124.7873,
            -124.788
           ],
           "marker": {
            "color": "#ab63fa"
           },
           "mode": "markers",
           "name": "MISS BERDIE",
           "showlegend": true,
           "subplot": "mapbox",
           "type": "scattermapbox"
          },
          {
           "customdata": [
            [
             38,
             34.101984932683386
            ],
            [
             40,
             34.13932617868433
            ],
            [
             38,
             34.1702793930363
            ],
            [
             38,
             34.19864079822026
            ]
           ],
           "hovertemplate": "<b>%{hovertext}</b><br><br>VESSEL NAME=ARCTIC STORM<br>animation_frame=2016-10-31 06:20<br>LAT=%{lat}<br>LON=%{lon}<br>SPEED (KNOTSx10)=%{customdata[0]}<br>slfdist=%{customdata[1]}<extra></extra>",
           "hovertext": [
            "Factory Trawler",
            "Factory Trawler",
            "Factory Trawler",
            "Factory Trawler"
           ],
           "lat": [
            44.55921,
            44.55696,
            44.55479,
            44.55267
           ],
           "legendgroup": "ARCTIC STORM",
           "lon": [
            -124.8256,
            -124.8276,
            -124.8294,
            -124.8311
           ],
           "marker": {
            "color": "#FFA15A"
           },
           "mode": "markers",
           "name": "ARCTIC STORM",
           "showlegend": true,
           "subplot": "mapbox",
           "type": "scattermapbox"
          },
          {
           "customdata": [
            [
             111,
             16.717888684395653
            ],
            [
             82,
             17.188613258207344
            ],
            [
             74,
             17.58645810122391
            ],
            [
             68,
             18.002698908736484
            ]
           ],
           "hovertemplate": "<b>%{hovertext}</b><br><br>VESSEL NAME=KEN & AL<br>animation_frame=2016-10-31 06:20<br>LAT=%{lat}<br>LON=%{lon}<br>SPEED (KNOTSx10)=%{customdata[0]}<br>slfdist=%{customdata[1]}<extra></extra>",
           "hovertext": [
            "Fishing",
            "Fishing",
            "Fishing",
            "Fishing"
           ],
           "lat": [
            44.60411,
            44.61165,
            44.61801,
            44.62457
           ],
           "legendgroup": "KEN & AL",
           "lon": [
            -124.3146,
            -124.3141,
            -124.3136,
            -124.3133
           ],
           "marker": {
            "color": "#19d3f3"
           },
           "mode": "markers",
           "name": "KEN & AL",
           "showlegend": true,
           "subplot": "mapbox",
           "type": "scattermapbox"
          },
          {
           "customdata": [
            [
             75,
             14.814357622667492
            ],
            [
             75,
             14.709074704310014
            ],
            [
             77,
             14.610971799612225
            ],
            [
             89,
             14.522421461781304
            ]
           ],
           "hovertemplate": "<b>%{hovertext}</b><br><br>VESSEL NAME=NORTHERN RAM<br>animation_frame=2016-10-31 06:20<br>LAT=%{lat}<br>LON=%{lon}<br>SPEED (KNOTSx10)=%{customdata[0]}<br>slfdist=%{customdata[1]}<extra></extra>",
           "hovertext": [
            "Fishing",
            "Fishing",
            "Fishing",
            "Fishing"
           ],
           "lat": [
            44.56492,
            44.56598,
            44.56708,
            44.56825
           ],
           "legendgroup": "NORTHERN RAM",
           "lon": [
            -124.3372,
            -124.3305,
            -124.3237,
            -124.3168
           ],
           "marker": {
            "color": "#FF6692"
           },
           "mode": "markers",
           "name": "NORTHERN RAM",
           "showlegend": true,
           "subplot": "mapbox",
           "type": "scattermapbox"
          },
          {
           "customdata": [
            [
             32,
             17.536374570868112
            ],
            [
             31,
             17.583585910466976
            ],
            [
             30,
             17.655558965550703
            ],
            [
             32,
             17.736030226919205
            ]
           ],
           "hovertemplate": "<b>%{hovertext}</b><br><br>VESSEL NAME=SEA STORM<br>animation_frame=2016-10-31 06:20<br>LAT=%{lat}<br>LON=%{lon}<br>SPEED (KNOTSx10)=%{customdata[0]}<br>slfdist=%{customdata[1]}<extra></extra>",
           "hovertext": [
            "Trawler",
            "Trawler",
            "Trawler",
            "Trawler"
           ],
           "lat": [
            44.56791,
            44.56758,
            44.56733,
            44.56669
           ],
           "legendgroup": "SEA STORM",
           "lon": [
            -124.4228,
            -124.4247,
            -124.4272,
            -124.4305
           ],
           "marker": {
            "color": "#B6E880"
           },
           "mode": "markers",
           "name": "SEA STORM",
           "showlegend": true,
           "subplot": "mapbox",
           "type": "scattermapbox"
          },
          {
           "customdata": [
            [
             0,
             18.23172145960904
            ]
           ],
           "hovertemplate": "<b>%{hovertext}</b><br><br>VESSEL NAME=WINONA J<br>animation_frame=2016-10-31 06:20<br>LAT=%{lat}<br>LON=%{lon}<br>SPEED (KNOTSx10)=%{customdata[0]}<br>slfdist=%{customdata[1]}<extra></extra>",
           "hovertext": [
            "Fishing"
           ],
           "lat": [
            44.62895
           ],
           "legendgroup": "WINONA J",
           "lon": [
            -124.0541
           ],
           "marker": {
            "color": "#FECB52"
           },
           "mode": "markers",
           "name": "WINONA J",
           "showlegend": true,
           "subplot": "mapbox",
           "type": "scattermapbox"
          },
          {
           "customdata": [
            [
             32,
             29.42925600911688
            ]
           ],
           "hovertemplate": "<b>%{hovertext}</b><br><br>VESSEL NAME=SEADAWN<br>animation_frame=2016-10-31 06:20<br>LAT=%{lat}<br>LON=%{lon}<br>SPEED (KNOTSx10)=%{customdata[0]}<br>slfdist=%{customdata[1]}<extra></extra>",
           "hovertext": [
            "Fishing"
           ],
           "lat": [
            44.53165
           ],
           "legendgroup": "SEADAWN",
           "lon": [
            -124.739
           ],
           "marker": {
            "color": "#636efa"
           },
           "mode": "markers",
           "name": "SEADAWN",
           "showlegend": true,
           "subplot": "mapbox",
           "type": "scattermapbox"
          },
          {
           "customdata": [
            [
             0,
             18.08277536023323
            ]
           ],
           "hovertemplate": "<b>%{hovertext}</b><br><br>VESSEL NAME=DUSK<br>animation_frame=2016-10-31 06:20<br>LAT=%{lat}<br>LON=%{lon}<br>SPEED (KNOTSx10)=%{customdata[0]}<br>slfdist=%{customdata[1]}<extra></extra>",
           "hovertext": [
            "Trawler"
           ],
           "lat": [
            44.62702
           ],
           "legendgroup": "DUSK",
           "lon": [
            -124.0555
           ],
           "marker": {
            "color": "#EF553B"
           },
           "mode": "markers",
           "name": "DUSK",
           "showlegend": true,
           "subplot": "mapbox",
           "type": "scattermapbox"
          },
          {
           "customdata": [
            [
             0,
             0
            ]
           ],
           "hovertemplate": "<b>%{hovertext}</b><br><br>VESSEL NAME=shelf hydrophone2016-10-31 06:20:08<br>animation_frame=2016-10-31 06:20<br>LAT=%{lat}<br>LON=%{lon}<br>SPEED (KNOTSx10)=%{customdata[0]}<br>slfdist=%{customdata[1]}<extra></extra>",
           "hovertext": [
            "shelf hydrophone"
           ],
           "lat": [
            44.38132
           ],
           "legendgroup": "shelf hydrophone2016-10-31 06:20:08",
           "lon": [
            -124.18216
           ],
           "marker": {
            "color": "#FFA15A"
           },
           "mode": "markers",
           "name": "shelf hydrophone2016-10-31 06:20:08",
           "showlegend": true,
           "subplot": "mapbox",
           "type": "scattermapbox"
          },
          {
           "customdata": [
            [
             10,
             0
            ]
           ],
           "hovertemplate": "<b>%{hovertext}</b><br><br>VESSEL NAME=offshore hydrophone2016-10-31 06:20:08<br>animation_frame=2016-10-31 06:20<br>LAT=%{lat}<br>LON=%{lon}<br>SPEED (KNOTSx10)=%{customdata[0]}<br>slfdist=%{customdata[1]}<extra></extra>",
           "hovertext": [
            "offshore hydrophone"
           ],
           "lat": [
            44.2284
           ],
           "legendgroup": "offshore hydrophone2016-10-31 06:20:08",
           "lon": [
            -124.57144
           ],
           "marker": {
            "color": "#19d3f3"
           },
           "mode": "markers",
           "name": "offshore hydrophone2016-10-31 06:20:08",
           "showlegend": true,
           "subplot": "mapbox",
           "type": "scattermapbox"
          },
          {
           "customdata": [
            [
             0,
             0
            ]
           ],
           "hovertemplate": "<b>%{hovertext}</b><br><br>VESSEL NAME=shelf hydrophone2016-10-31 06:20:12<br>animation_frame=2016-10-31 06:20<br>LAT=%{lat}<br>LON=%{lon}<br>SPEED (KNOTSx10)=%{customdata[0]}<br>slfdist=%{customdata[1]}<extra></extra>",
           "hovertext": [
            "shelf hydrophone"
           ],
           "lat": [
            44.38132
           ],
           "legendgroup": "shelf hydrophone2016-10-31 06:20:12",
           "lon": [
            -124.18216
           ],
           "marker": {
            "color": "#FF6692"
           },
           "mode": "markers",
           "name": "shelf hydrophone2016-10-31 06:20:12",
           "showlegend": true,
           "subplot": "mapbox",
           "type": "scattermapbox"
          },
          {
           "customdata": [
            [
             10,
             0
            ]
           ],
           "hovertemplate": "<b>%{hovertext}</b><br><br>VESSEL NAME=offshore hydrophone2016-10-31 06:20:12<br>animation_frame=2016-10-31 06:20<br>LAT=%{lat}<br>LON=%{lon}<br>SPEED (KNOTSx10)=%{customdata[0]}<br>slfdist=%{customdata[1]}<extra></extra>",
           "hovertext": [
            "offshore hydrophone"
           ],
           "lat": [
            44.2284
           ],
           "legendgroup": "offshore hydrophone2016-10-31 06:20:12",
           "lon": [
            -124.57144
           ],
           "marker": {
            "color": "#B6E880"
           },
           "mode": "markers",
           "name": "offshore hydrophone2016-10-31 06:20:12",
           "showlegend": true,
           "subplot": "mapbox",
           "type": "scattermapbox"
          },
          {
           "customdata": [
            [
             0,
             0
            ]
           ],
           "hovertemplate": "<b>%{hovertext}</b><br><br>VESSEL NAME=shelf hydrophone2016-10-31 06:20:24<br>animation_frame=2016-10-31 06:20<br>LAT=%{lat}<br>LON=%{lon}<br>SPEED (KNOTSx10)=%{customdata[0]}<br>slfdist=%{customdata[1]}<extra></extra>",
           "hovertext": [
            "shelf hydrophone"
           ],
           "lat": [
            44.38132
           ],
           "legendgroup": "shelf hydrophone2016-10-31 06:20:24",
           "lon": [
            -124.18216
           ],
           "marker": {
            "color": "#FF97FF"
           },
           "mode": "markers",
           "name": "shelf hydrophone2016-10-31 06:20:24",
           "showlegend": true,
           "subplot": "mapbox",
           "type": "scattermapbox"
          },
          {
           "customdata": [
            [
             10,
             0
            ]
           ],
           "hovertemplate": "<b>%{hovertext}</b><br><br>VESSEL NAME=offshore hydrophone2016-10-31 06:20:24<br>animation_frame=2016-10-31 06:20<br>LAT=%{lat}<br>LON=%{lon}<br>SPEED (KNOTSx10)=%{customdata[0]}<br>slfdist=%{customdata[1]}<extra></extra>",
           "hovertext": [
            "offshore hydrophone"
           ],
           "lat": [
            44.2284
           ],
           "legendgroup": "offshore hydrophone2016-10-31 06:20:24",
           "lon": [
            -124.57144
           ],
           "marker": {
            "color": "#FECB52"
           },
           "mode": "markers",
           "name": "offshore hydrophone2016-10-31 06:20:24",
           "showlegend": true,
           "subplot": "mapbox",
           "type": "scattermapbox"
          },
          {
           "customdata": [
            [
             0,
             0
            ]
           ],
           "hovertemplate": "<b>%{hovertext}</b><br><br>VESSEL NAME=shelf hydrophone2016-10-31 06:20:52<br>animation_frame=2016-10-31 06:20<br>LAT=%{lat}<br>LON=%{lon}<br>SPEED (KNOTSx10)=%{customdata[0]}<br>slfdist=%{customdata[1]}<extra></extra>",
           "hovertext": [
            "shelf hydrophone"
           ],
           "lat": [
            44.38132
           ],
           "legendgroup": "shelf hydrophone2016-10-31 06:20:52",
           "lon": [
            -124.18216
           ],
           "marker": {
            "color": "#636efa"
           },
           "mode": "markers",
           "name": "shelf hydrophone2016-10-31 06:20:52",
           "showlegend": true,
           "subplot": "mapbox",
           "type": "scattermapbox"
          },
          {
           "customdata": [
            [
             10,
             0
            ]
           ],
           "hovertemplate": "<b>%{hovertext}</b><br><br>VESSEL NAME=offshore hydrophone2016-10-31 06:20:52<br>animation_frame=2016-10-31 06:20<br>LAT=%{lat}<br>LON=%{lon}<br>SPEED (KNOTSx10)=%{customdata[0]}<br>slfdist=%{customdata[1]}<extra></extra>",
           "hovertext": [
            "offshore hydrophone"
           ],
           "lat": [
            44.2284
           ],
           "legendgroup": "offshore hydrophone2016-10-31 06:20:52",
           "lon": [
            -124.57144
           ],
           "marker": {
            "color": "#EF553B"
           },
           "mode": "markers",
           "name": "offshore hydrophone2016-10-31 06:20:52",
           "showlegend": true,
           "subplot": "mapbox",
           "type": "scattermapbox"
          },
          {
           "customdata": [
            [
             0,
             0
            ]
           ],
           "hovertemplate": "<b>%{hovertext}</b><br><br>VESSEL NAME=shelf hydrophone2016-10-31 06:21:07<br>animation_frame=2016-10-31 06:20<br>LAT=%{lat}<br>LON=%{lon}<br>SPEED (KNOTSx10)=%{customdata[0]}<br>slfdist=%{customdata[1]}<extra></extra>",
           "hovertext": [
            "shelf hydrophone"
           ],
           "lat": [
            44.38132
           ],
           "legendgroup": "shelf hydrophone2016-10-31 06:21:07",
           "lon": [
            -124.18216
           ],
           "marker": {
            "color": "#00cc96"
           },
           "mode": "markers",
           "name": "shelf hydrophone2016-10-31 06:21:07",
           "showlegend": true,
           "subplot": "mapbox",
           "type": "scattermapbox"
          },
          {
           "customdata": [
            [
             10,
             0
            ]
           ],
           "hovertemplate": "<b>%{hovertext}</b><br><br>VESSEL NAME=offshore hydrophone2016-10-31 06:21:07<br>animation_frame=2016-10-31 06:20<br>LAT=%{lat}<br>LON=%{lon}<br>SPEED (KNOTSx10)=%{customdata[0]}<br>slfdist=%{customdata[1]}<extra></extra>",
           "hovertext": [
            "offshore hydrophone"
           ],
           "lat": [
            44.2284
           ],
           "legendgroup": "offshore hydrophone2016-10-31 06:21:07",
           "lon": [
            -124.57144
           ],
           "marker": {
            "color": "#ab63fa"
           },
           "mode": "markers",
           "name": "offshore hydrophone2016-10-31 06:21:07",
           "showlegend": true,
           "subplot": "mapbox",
           "type": "scattermapbox"
          },
          {
           "customdata": [
            [
             0,
             0
            ]
           ],
           "hovertemplate": "<b>%{hovertext}</b><br><br>VESSEL NAME=shelf hydrophone2016-10-31 06:21:27<br>animation_frame=2016-10-31 06:20<br>LAT=%{lat}<br>LON=%{lon}<br>SPEED (KNOTSx10)=%{customdata[0]}<br>slfdist=%{customdata[1]}<extra></extra>",
           "hovertext": [
            "shelf hydrophone"
           ],
           "lat": [
            44.38132
           ],
           "legendgroup": "shelf hydrophone2016-10-31 06:21:27",
           "lon": [
            -124.18216
           ],
           "marker": {
            "color": "#FFA15A"
           },
           "mode": "markers",
           "name": "shelf hydrophone2016-10-31 06:21:27",
           "showlegend": true,
           "subplot": "mapbox",
           "type": "scattermapbox"
          },
          {
           "customdata": [
            [
             10,
             0
            ]
           ],
           "hovertemplate": "<b>%{hovertext}</b><br><br>VESSEL NAME=offshore hydrophone2016-10-31 06:21:27<br>animation_frame=2016-10-31 06:20<br>LAT=%{lat}<br>LON=%{lon}<br>SPEED (KNOTSx10)=%{customdata[0]}<br>slfdist=%{customdata[1]}<extra></extra>",
           "hovertext": [
            "offshore hydrophone"
           ],
           "lat": [
            44.2284
           ],
           "legendgroup": "offshore hydrophone2016-10-31 06:21:27",
           "lon": [
            -124.57144
           ],
           "marker": {
            "color": "#19d3f3"
           },
           "mode": "markers",
           "name": "offshore hydrophone2016-10-31 06:21:27",
           "showlegend": true,
           "subplot": "mapbox",
           "type": "scattermapbox"
          },
          {
           "customdata": [
            [
             0,
             0
            ]
           ],
           "hovertemplate": "<b>%{hovertext}</b><br><br>VESSEL NAME=shelf hydrophone2016-10-31 06:21:40<br>animation_frame=2016-10-31 06:20<br>LAT=%{lat}<br>LON=%{lon}<br>SPEED (KNOTSx10)=%{customdata[0]}<br>slfdist=%{customdata[1]}<extra></extra>",
           "hovertext": [
            "shelf hydrophone"
           ],
           "lat": [
            44.38132
           ],
           "legendgroup": "shelf hydrophone2016-10-31 06:21:40",
           "lon": [
            -124.18216
           ],
           "marker": {
            "color": "#FF6692"
           },
           "mode": "markers",
           "name": "shelf hydrophone2016-10-31 06:21:40",
           "showlegend": true,
           "subplot": "mapbox",
           "type": "scattermapbox"
          },
          {
           "customdata": [
            [
             10,
             0
            ]
           ],
           "hovertemplate": "<b>%{hovertext}</b><br><br>VESSEL NAME=offshore hydrophone2016-10-31 06:21:40<br>animation_frame=2016-10-31 06:20<br>LAT=%{lat}<br>LON=%{lon}<br>SPEED (KNOTSx10)=%{customdata[0]}<br>slfdist=%{customdata[1]}<extra></extra>",
           "hovertext": [
            "offshore hydrophone"
           ],
           "lat": [
            44.2284
           ],
           "legendgroup": "offshore hydrophone2016-10-31 06:21:40",
           "lon": [
            -124.57144
           ],
           "marker": {
            "color": "#B6E880"
           },
           "mode": "markers",
           "name": "offshore hydrophone2016-10-31 06:21:40",
           "showlegend": true,
           "subplot": "mapbox",
           "type": "scattermapbox"
          },
          {
           "customdata": [
            [
             0,
             0
            ]
           ],
           "hovertemplate": "<b>%{hovertext}</b><br><br>VESSEL NAME=shelf hydrophone2016-10-31 06:21:51<br>animation_frame=2016-10-31 06:20<br>LAT=%{lat}<br>LON=%{lon}<br>SPEED (KNOTSx10)=%{customdata[0]}<br>slfdist=%{customdata[1]}<extra></extra>",
           "hovertext": [
            "shelf hydrophone"
           ],
           "lat": [
            44.38132
           ],
           "legendgroup": "shelf hydrophone2016-10-31 06:21:51",
           "lon": [
            -124.18216
           ],
           "marker": {
            "color": "#FF97FF"
           },
           "mode": "markers",
           "name": "shelf hydrophone2016-10-31 06:21:51",
           "showlegend": true,
           "subplot": "mapbox",
           "type": "scattermapbox"
          },
          {
           "customdata": [
            [
             10,
             0
            ]
           ],
           "hovertemplate": "<b>%{hovertext}</b><br><br>VESSEL NAME=offshore hydrophone2016-10-31 06:21:51<br>animation_frame=2016-10-31 06:20<br>LAT=%{lat}<br>LON=%{lon}<br>SPEED (KNOTSx10)=%{customdata[0]}<br>slfdist=%{customdata[1]}<extra></extra>",
           "hovertext": [
            "offshore hydrophone"
           ],
           "lat": [
            44.2284
           ],
           "legendgroup": "offshore hydrophone2016-10-31 06:21:51",
           "lon": [
            -124.57144
           ],
           "marker": {
            "color": "#FECB52"
           },
           "mode": "markers",
           "name": "offshore hydrophone2016-10-31 06:21:51",
           "showlegend": true,
           "subplot": "mapbox",
           "type": "scattermapbox"
          },
          {
           "customdata": [
            [
             0,
             0
            ]
           ],
           "hovertemplate": "<b>%{hovertext}</b><br><br>VESSEL NAME=shelf hydrophone2016-10-31 06:21:53<br>animation_frame=2016-10-31 06:20<br>LAT=%{lat}<br>LON=%{lon}<br>SPEED (KNOTSx10)=%{customdata[0]}<br>slfdist=%{customdata[1]}<extra></extra>",
           "hovertext": [
            "shelf hydrophone"
           ],
           "lat": [
            44.38132
           ],
           "legendgroup": "shelf hydrophone2016-10-31 06:21:53",
           "lon": [
            -124.18216
           ],
           "marker": {
            "color": "#636efa"
           },
           "mode": "markers",
           "name": "shelf hydrophone2016-10-31 06:21:53",
           "showlegend": true,
           "subplot": "mapbox",
           "type": "scattermapbox"
          },
          {
           "customdata": [
            [
             10,
             0
            ]
           ],
           "hovertemplate": "<b>%{hovertext}</b><br><br>VESSEL NAME=offshore hydrophone2016-10-31 06:21:53<br>animation_frame=2016-10-31 06:20<br>LAT=%{lat}<br>LON=%{lon}<br>SPEED (KNOTSx10)=%{customdata[0]}<br>slfdist=%{customdata[1]}<extra></extra>",
           "hovertext": [
            "offshore hydrophone"
           ],
           "lat": [
            44.2284
           ],
           "legendgroup": "offshore hydrophone2016-10-31 06:21:53",
           "lon": [
            -124.57144
           ],
           "marker": {
            "color": "#EF553B"
           },
           "mode": "markers",
           "name": "offshore hydrophone2016-10-31 06:21:53",
           "showlegend": true,
           "subplot": "mapbox",
           "type": "scattermapbox"
          },
          {
           "customdata": [
            [
             0,
             0
            ]
           ],
           "hovertemplate": "<b>%{hovertext}</b><br><br>VESSEL NAME=shelf hydrophone2016-10-31 06:22:33<br>animation_frame=2016-10-31 06:20<br>LAT=%{lat}<br>LON=%{lon}<br>SPEED (KNOTSx10)=%{customdata[0]}<br>slfdist=%{customdata[1]}<extra></extra>",
           "hovertext": [
            "shelf hydrophone"
           ],
           "lat": [
            44.38132
           ],
           "legendgroup": "shelf hydrophone2016-10-31 06:22:33",
           "lon": [
            -124.18216
           ],
           "marker": {
            "color": "#00cc96"
           },
           "mode": "markers",
           "name": "shelf hydrophone2016-10-31 06:22:33",
           "showlegend": true,
           "subplot": "mapbox",
           "type": "scattermapbox"
          },
          {
           "customdata": [
            [
             10,
             0
            ]
           ],
           "hovertemplate": "<b>%{hovertext}</b><br><br>VESSEL NAME=offshore hydrophone2016-10-31 06:22:33<br>animation_frame=2016-10-31 06:20<br>LAT=%{lat}<br>LON=%{lon}<br>SPEED (KNOTSx10)=%{customdata[0]}<br>slfdist=%{customdata[1]}<extra></extra>",
           "hovertext": [
            "offshore hydrophone"
           ],
           "lat": [
            44.2284
           ],
           "legendgroup": "offshore hydrophone2016-10-31 06:22:33",
           "lon": [
            -124.57144
           ],
           "marker": {
            "color": "#ab63fa"
           },
           "mode": "markers",
           "name": "offshore hydrophone2016-10-31 06:22:33",
           "showlegend": true,
           "subplot": "mapbox",
           "type": "scattermapbox"
          },
          {
           "customdata": [
            [
             0,
             0
            ]
           ],
           "hovertemplate": "<b>%{hovertext}</b><br><br>VESSEL NAME=shelf hydrophone2016-10-31 06:22:45<br>animation_frame=2016-10-31 06:20<br>LAT=%{lat}<br>LON=%{lon}<br>SPEED (KNOTSx10)=%{customdata[0]}<br>slfdist=%{customdata[1]}<extra></extra>",
           "hovertext": [
            "shelf hydrophone"
           ],
           "lat": [
            44.38132
           ],
           "legendgroup": "shelf hydrophone2016-10-31 06:22:45",
           "lon": [
            -124.18216
           ],
           "marker": {
            "color": "#FFA15A"
           },
           "mode": "markers",
           "name": "shelf hydrophone2016-10-31 06:22:45",
           "showlegend": true,
           "subplot": "mapbox",
           "type": "scattermapbox"
          },
          {
           "customdata": [
            [
             10,
             0
            ]
           ],
           "hovertemplate": "<b>%{hovertext}</b><br><br>VESSEL NAME=offshore hydrophone2016-10-31 06:22:45<br>animation_frame=2016-10-31 06:20<br>LAT=%{lat}<br>LON=%{lon}<br>SPEED (KNOTSx10)=%{customdata[0]}<br>slfdist=%{customdata[1]}<extra></extra>",
           "hovertext": [
            "offshore hydrophone"
           ],
           "lat": [
            44.2284
           ],
           "legendgroup": "offshore hydrophone2016-10-31 06:22:45",
           "lon": [
            -124.57144
           ],
           "marker": {
            "color": "#19d3f3"
           },
           "mode": "markers",
           "name": "offshore hydrophone2016-10-31 06:22:45",
           "showlegend": true,
           "subplot": "mapbox",
           "type": "scattermapbox"
          },
          {
           "customdata": [
            [
             0,
             0
            ]
           ],
           "hovertemplate": "<b>%{hovertext}</b><br><br>VESSEL NAME=shelf hydrophone2016-10-31 06:23:00<br>animation_frame=2016-10-31 06:20<br>LAT=%{lat}<br>LON=%{lon}<br>SPEED (KNOTSx10)=%{customdata[0]}<br>slfdist=%{customdata[1]}<extra></extra>",
           "hovertext": [
            "shelf hydrophone"
           ],
           "lat": [
            44.38132
           ],
           "legendgroup": "shelf hydrophone2016-10-31 06:23:00",
           "lon": [
            -124.18216
           ],
           "marker": {
            "color": "#FF6692"
           },
           "mode": "markers",
           "name": "shelf hydrophone2016-10-31 06:23:00",
           "showlegend": true,
           "subplot": "mapbox",
           "type": "scattermapbox"
          },
          {
           "customdata": [
            [
             10,
             0
            ]
           ],
           "hovertemplate": "<b>%{hovertext}</b><br><br>VESSEL NAME=offshore hydrophone2016-10-31 06:23:00<br>animation_frame=2016-10-31 06:20<br>LAT=%{lat}<br>LON=%{lon}<br>SPEED (KNOTSx10)=%{customdata[0]}<br>slfdist=%{customdata[1]}<extra></extra>",
           "hovertext": [
            "offshore hydrophone"
           ],
           "lat": [
            44.2284
           ],
           "legendgroup": "offshore hydrophone2016-10-31 06:23:00",
           "lon": [
            -124.57144
           ],
           "marker": {
            "color": "#B6E880"
           },
           "mode": "markers",
           "name": "offshore hydrophone2016-10-31 06:23:00",
           "showlegend": true,
           "subplot": "mapbox",
           "type": "scattermapbox"
          },
          {
           "customdata": [
            [
             0,
             0
            ]
           ],
           "hovertemplate": "<b>%{hovertext}</b><br><br>VESSEL NAME=shelf hydrophone2016-10-31 06:23:07<br>animation_frame=2016-10-31 06:20<br>LAT=%{lat}<br>LON=%{lon}<br>SPEED (KNOTSx10)=%{customdata[0]}<br>slfdist=%{customdata[1]}<extra></extra>",
           "hovertext": [
            "shelf hydrophone"
           ],
           "lat": [
            44.38132
           ],
           "legendgroup": "shelf hydrophone2016-10-31 06:23:07",
           "lon": [
            -124.18216
           ],
           "marker": {
            "color": "#FF97FF"
           },
           "mode": "markers",
           "name": "shelf hydrophone2016-10-31 06:23:07",
           "showlegend": true,
           "subplot": "mapbox",
           "type": "scattermapbox"
          },
          {
           "customdata": [
            [
             10,
             0
            ]
           ],
           "hovertemplate": "<b>%{hovertext}</b><br><br>VESSEL NAME=offshore hydrophone2016-10-31 06:23:07<br>animation_frame=2016-10-31 06:20<br>LAT=%{lat}<br>LON=%{lon}<br>SPEED (KNOTSx10)=%{customdata[0]}<br>slfdist=%{customdata[1]}<extra></extra>",
           "hovertext": [
            "offshore hydrophone"
           ],
           "lat": [
            44.2284
           ],
           "legendgroup": "offshore hydrophone2016-10-31 06:23:07",
           "lon": [
            -124.57144
           ],
           "marker": {
            "color": "#FECB52"
           },
           "mode": "markers",
           "name": "offshore hydrophone2016-10-31 06:23:07",
           "showlegend": true,
           "subplot": "mapbox",
           "type": "scattermapbox"
          },
          {
           "customdata": [
            [
             0,
             0
            ]
           ],
           "hovertemplate": "<b>%{hovertext}</b><br><br>VESSEL NAME=shelf hydrophone2016-10-31 06:23:09<br>animation_frame=2016-10-31 06:20<br>LAT=%{lat}<br>LON=%{lon}<br>SPEED (KNOTSx10)=%{customdata[0]}<br>slfdist=%{customdata[1]}<extra></extra>",
           "hovertext": [
            "shelf hydrophone"
           ],
           "lat": [
            44.38132
           ],
           "legendgroup": "shelf hydrophone2016-10-31 06:23:09",
           "lon": [
            -124.18216
           ],
           "marker": {
            "color": "#636efa"
           },
           "mode": "markers",
           "name": "shelf hydrophone2016-10-31 06:23:09",
           "showlegend": true,
           "subplot": "mapbox",
           "type": "scattermapbox"
          },
          {
           "customdata": [
            [
             10,
             0
            ]
           ],
           "hovertemplate": "<b>%{hovertext}</b><br><br>VESSEL NAME=offshore hydrophone2016-10-31 06:23:09<br>animation_frame=2016-10-31 06:20<br>LAT=%{lat}<br>LON=%{lon}<br>SPEED (KNOTSx10)=%{customdata[0]}<br>slfdist=%{customdata[1]}<extra></extra>",
           "hovertext": [
            "offshore hydrophone"
           ],
           "lat": [
            44.2284
           ],
           "legendgroup": "offshore hydrophone2016-10-31 06:23:09",
           "lon": [
            -124.57144
           ],
           "marker": {
            "color": "#EF553B"
           },
           "mode": "markers",
           "name": "offshore hydrophone2016-10-31 06:23:09",
           "showlegend": true,
           "subplot": "mapbox",
           "type": "scattermapbox"
          },
          {
           "customdata": [
            [
             0,
             0
            ]
           ],
           "hovertemplate": "<b>%{hovertext}</b><br><br>VESSEL NAME=shelf hydrophone2016-10-31 06:23:37<br>animation_frame=2016-10-31 06:20<br>LAT=%{lat}<br>LON=%{lon}<br>SPEED (KNOTSx10)=%{customdata[0]}<br>slfdist=%{customdata[1]}<extra></extra>",
           "hovertext": [
            "shelf hydrophone"
           ],
           "lat": [
            44.38132
           ],
           "legendgroup": "shelf hydrophone2016-10-31 06:23:37",
           "lon": [
            -124.18216
           ],
           "marker": {
            "color": "#00cc96"
           },
           "mode": "markers",
           "name": "shelf hydrophone2016-10-31 06:23:37",
           "showlegend": true,
           "subplot": "mapbox",
           "type": "scattermapbox"
          },
          {
           "customdata": [
            [
             10,
             0
            ]
           ],
           "hovertemplate": "<b>%{hovertext}</b><br><br>VESSEL NAME=offshore hydrophone2016-10-31 06:23:37<br>animation_frame=2016-10-31 06:20<br>LAT=%{lat}<br>LON=%{lon}<br>SPEED (KNOTSx10)=%{customdata[0]}<br>slfdist=%{customdata[1]}<extra></extra>",
           "hovertext": [
            "offshore hydrophone"
           ],
           "lat": [
            44.2284
           ],
           "legendgroup": "offshore hydrophone2016-10-31 06:23:37",
           "lon": [
            -124.57144
           ],
           "marker": {
            "color": "#ab63fa"
           },
           "mode": "markers",
           "name": "offshore hydrophone2016-10-31 06:23:37",
           "showlegend": true,
           "subplot": "mapbox",
           "type": "scattermapbox"
          },
          {
           "customdata": [
            [
             0,
             0
            ]
           ],
           "hovertemplate": "<b>%{hovertext}</b><br><br>VESSEL NAME=shelf hydrophone2016-10-31 06:23:46<br>animation_frame=2016-10-31 06:20<br>LAT=%{lat}<br>LON=%{lon}<br>SPEED (KNOTSx10)=%{customdata[0]}<br>slfdist=%{customdata[1]}<extra></extra>",
           "hovertext": [
            "shelf hydrophone"
           ],
           "lat": [
            44.38132
           ],
           "legendgroup": "shelf hydrophone2016-10-31 06:23:46",
           "lon": [
            -124.18216
           ],
           "marker": {
            "color": "#FFA15A"
           },
           "mode": "markers",
           "name": "shelf hydrophone2016-10-31 06:23:46",
           "showlegend": true,
           "subplot": "mapbox",
           "type": "scattermapbox"
          },
          {
           "customdata": [
            [
             10,
             0
            ]
           ],
           "hovertemplate": "<b>%{hovertext}</b><br><br>VESSEL NAME=offshore hydrophone2016-10-31 06:23:46<br>animation_frame=2016-10-31 06:20<br>LAT=%{lat}<br>LON=%{lon}<br>SPEED (KNOTSx10)=%{customdata[0]}<br>slfdist=%{customdata[1]}<extra></extra>",
           "hovertext": [
            "offshore hydrophone"
           ],
           "lat": [
            44.2284
           ],
           "legendgroup": "offshore hydrophone2016-10-31 06:23:46",
           "lon": [
            -124.57144
           ],
           "marker": {
            "color": "#19d3f3"
           },
           "mode": "markers",
           "name": "offshore hydrophone2016-10-31 06:23:46",
           "showlegend": true,
           "subplot": "mapbox",
           "type": "scattermapbox"
          },
          {
           "customdata": [
            [
             0,
             0
            ]
           ],
           "hovertemplate": "<b>%{hovertext}</b><br><br>VESSEL NAME=shelf hydrophone2016-10-31 06:24:00<br>animation_frame=2016-10-31 06:20<br>LAT=%{lat}<br>LON=%{lon}<br>SPEED (KNOTSx10)=%{customdata[0]}<br>slfdist=%{customdata[1]}<extra></extra>",
           "hovertext": [
            "shelf hydrophone"
           ],
           "lat": [
            44.38132
           ],
           "legendgroup": "shelf hydrophone2016-10-31 06:24:00",
           "lon": [
            -124.18216
           ],
           "marker": {
            "color": "#FF6692"
           },
           "mode": "markers",
           "name": "shelf hydrophone2016-10-31 06:24:00",
           "showlegend": true,
           "subplot": "mapbox",
           "type": "scattermapbox"
          },
          {
           "customdata": [
            [
             10,
             0
            ]
           ],
           "hovertemplate": "<b>%{hovertext}</b><br><br>VESSEL NAME=offshore hydrophone2016-10-31 06:24:00<br>animation_frame=2016-10-31 06:20<br>LAT=%{lat}<br>LON=%{lon}<br>SPEED (KNOTSx10)=%{customdata[0]}<br>slfdist=%{customdata[1]}<extra></extra>",
           "hovertext": [
            "offshore hydrophone"
           ],
           "lat": [
            44.2284
           ],
           "legendgroup": "offshore hydrophone2016-10-31 06:24:00",
           "lon": [
            -124.57144
           ],
           "marker": {
            "color": "#B6E880"
           },
           "mode": "markers",
           "name": "offshore hydrophone2016-10-31 06:24:00",
           "showlegend": true,
           "subplot": "mapbox",
           "type": "scattermapbox"
          },
          {
           "customdata": [
            [
             0,
             0
            ]
           ],
           "hovertemplate": "<b>%{hovertext}</b><br><br>VESSEL NAME=shelf hydrophone2016-10-31 06:24:14<br>animation_frame=2016-10-31 06:20<br>LAT=%{lat}<br>LON=%{lon}<br>SPEED (KNOTSx10)=%{customdata[0]}<br>slfdist=%{customdata[1]}<extra></extra>",
           "hovertext": [
            "shelf hydrophone"
           ],
           "lat": [
            44.38132
           ],
           "legendgroup": "shelf hydrophone2016-10-31 06:24:14",
           "lon": [
            -124.18216
           ],
           "marker": {
            "color": "#FF97FF"
           },
           "mode": "markers",
           "name": "shelf hydrophone2016-10-31 06:24:14",
           "showlegend": true,
           "subplot": "mapbox",
           "type": "scattermapbox"
          },
          {
           "customdata": [
            [
             10,
             0
            ]
           ],
           "hovertemplate": "<b>%{hovertext}</b><br><br>VESSEL NAME=offshore hydrophone2016-10-31 06:24:14<br>animation_frame=2016-10-31 06:20<br>LAT=%{lat}<br>LON=%{lon}<br>SPEED (KNOTSx10)=%{customdata[0]}<br>slfdist=%{customdata[1]}<extra></extra>",
           "hovertext": [
            "offshore hydrophone"
           ],
           "lat": [
            44.2284
           ],
           "legendgroup": "offshore hydrophone2016-10-31 06:24:14",
           "lon": [
            -124.57144
           ],
           "marker": {
            "color": "#FECB52"
           },
           "mode": "markers",
           "name": "offshore hydrophone2016-10-31 06:24:14",
           "showlegend": true,
           "subplot": "mapbox",
           "type": "scattermapbox"
          },
          {
           "customdata": [
            [
             0,
             0
            ]
           ],
           "hovertemplate": "<b>%{hovertext}</b><br><br>VESSEL NAME=shelf hydrophone2016-10-31 06:25:23<br>animation_frame=2016-10-31 06:20<br>LAT=%{lat}<br>LON=%{lon}<br>SPEED (KNOTSx10)=%{customdata[0]}<br>slfdist=%{customdata[1]}<extra></extra>",
           "hovertext": [
            "shelf hydrophone"
           ],
           "lat": [
            44.38132
           ],
           "legendgroup": "shelf hydrophone2016-10-31 06:25:23",
           "lon": [
            -124.18216
           ],
           "marker": {
            "color": "#636efa"
           },
           "mode": "markers",
           "name": "shelf hydrophone2016-10-31 06:25:23",
           "showlegend": true,
           "subplot": "mapbox",
           "type": "scattermapbox"
          },
          {
           "customdata": [
            [
             10,
             0
            ]
           ],
           "hovertemplate": "<b>%{hovertext}</b><br><br>VESSEL NAME=offshore hydrophone2016-10-31 06:25:23<br>animation_frame=2016-10-31 06:20<br>LAT=%{lat}<br>LON=%{lon}<br>SPEED (KNOTSx10)=%{customdata[0]}<br>slfdist=%{customdata[1]}<extra></extra>",
           "hovertext": [
            "offshore hydrophone"
           ],
           "lat": [
            44.2284
           ],
           "legendgroup": "offshore hydrophone2016-10-31 06:25:23",
           "lon": [
            -124.57144
           ],
           "marker": {
            "color": "#EF553B"
           },
           "mode": "markers",
           "name": "offshore hydrophone2016-10-31 06:25:23",
           "showlegend": true,
           "subplot": "mapbox",
           "type": "scattermapbox"
          },
          {
           "customdata": [
            [
             0,
             0
            ]
           ],
           "hovertemplate": "<b>%{hovertext}</b><br><br>VESSEL NAME=shelf hydrophone2016-10-31 06:25:26<br>animation_frame=2016-10-31 06:20<br>LAT=%{lat}<br>LON=%{lon}<br>SPEED (KNOTSx10)=%{customdata[0]}<br>slfdist=%{customdata[1]}<extra></extra>",
           "hovertext": [
            "shelf hydrophone"
           ],
           "lat": [
            44.38132
           ],
           "legendgroup": "shelf hydrophone2016-10-31 06:25:26",
           "lon": [
            -124.18216
           ],
           "marker": {
            "color": "#00cc96"
           },
           "mode": "markers",
           "name": "shelf hydrophone2016-10-31 06:25:26",
           "showlegend": true,
           "subplot": "mapbox",
           "type": "scattermapbox"
          },
          {
           "customdata": [
            [
             10,
             0
            ]
           ],
           "hovertemplate": "<b>%{hovertext}</b><br><br>VESSEL NAME=offshore hydrophone2016-10-31 06:25:26<br>animation_frame=2016-10-31 06:20<br>LAT=%{lat}<br>LON=%{lon}<br>SPEED (KNOTSx10)=%{customdata[0]}<br>slfdist=%{customdata[1]}<extra></extra>",
           "hovertext": [
            "offshore hydrophone"
           ],
           "lat": [
            44.2284
           ],
           "legendgroup": "offshore hydrophone2016-10-31 06:25:26",
           "lon": [
            -124.57144
           ],
           "marker": {
            "color": "#ab63fa"
           },
           "mode": "markers",
           "name": "offshore hydrophone2016-10-31 06:25:26",
           "showlegend": true,
           "subplot": "mapbox",
           "type": "scattermapbox"
          },
          {
           "customdata": [
            [
             0,
             0
            ]
           ],
           "hovertemplate": "<b>%{hovertext}</b><br><br>VESSEL NAME=shelf hydrophone2016-10-31 06:26:02<br>animation_frame=2016-10-31 06:20<br>LAT=%{lat}<br>LON=%{lon}<br>SPEED (KNOTSx10)=%{customdata[0]}<br>slfdist=%{customdata[1]}<extra></extra>",
           "hovertext": [
            "shelf hydrophone"
           ],
           "lat": [
            44.38132
           ],
           "legendgroup": "shelf hydrophone2016-10-31 06:26:02",
           "lon": [
            -124.18216
           ],
           "marker": {
            "color": "#FFA15A"
           },
           "mode": "markers",
           "name": "shelf hydrophone2016-10-31 06:26:02",
           "showlegend": true,
           "subplot": "mapbox",
           "type": "scattermapbox"
          },
          {
           "customdata": [
            [
             10,
             0
            ]
           ],
           "hovertemplate": "<b>%{hovertext}</b><br><br>VESSEL NAME=offshore hydrophone2016-10-31 06:26:02<br>animation_frame=2016-10-31 06:20<br>LAT=%{lat}<br>LON=%{lon}<br>SPEED (KNOTSx10)=%{customdata[0]}<br>slfdist=%{customdata[1]}<extra></extra>",
           "hovertext": [
            "offshore hydrophone"
           ],
           "lat": [
            44.2284
           ],
           "legendgroup": "offshore hydrophone2016-10-31 06:26:02",
           "lon": [
            -124.57144
           ],
           "marker": {
            "color": "#19d3f3"
           },
           "mode": "markers",
           "name": "offshore hydrophone2016-10-31 06:26:02",
           "showlegend": true,
           "subplot": "mapbox",
           "type": "scattermapbox"
          },
          {
           "customdata": [
            [
             0,
             0
            ]
           ],
           "hovertemplate": "<b>%{hovertext}</b><br><br>VESSEL NAME=shelf hydrophone2016-10-31 06:26:06<br>animation_frame=2016-10-31 06:20<br>LAT=%{lat}<br>LON=%{lon}<br>SPEED (KNOTSx10)=%{customdata[0]}<br>slfdist=%{customdata[1]}<extra></extra>",
           "hovertext": [
            "shelf hydrophone"
           ],
           "lat": [
            44.38132
           ],
           "legendgroup": "shelf hydrophone2016-10-31 06:26:06",
           "lon": [
            -124.18216
           ],
           "marker": {
            "color": "#FF6692"
           },
           "mode": "markers",
           "name": "shelf hydrophone2016-10-31 06:26:06",
           "showlegend": true,
           "subplot": "mapbox",
           "type": "scattermapbox"
          },
          {
           "customdata": [
            [
             10,
             0
            ]
           ],
           "hovertemplate": "<b>%{hovertext}</b><br><br>VESSEL NAME=offshore hydrophone2016-10-31 06:26:06<br>animation_frame=2016-10-31 06:20<br>LAT=%{lat}<br>LON=%{lon}<br>SPEED (KNOTSx10)=%{customdata[0]}<br>slfdist=%{customdata[1]}<extra></extra>",
           "hovertext": [
            "offshore hydrophone"
           ],
           "lat": [
            44.2284
           ],
           "legendgroup": "offshore hydrophone2016-10-31 06:26:06",
           "lon": [
            -124.57144
           ],
           "marker": {
            "color": "#B6E880"
           },
           "mode": "markers",
           "name": "offshore hydrophone2016-10-31 06:26:06",
           "showlegend": true,
           "subplot": "mapbox",
           "type": "scattermapbox"
          },
          {
           "customdata": [
            [
             0,
             0
            ]
           ],
           "hovertemplate": "<b>%{hovertext}</b><br><br>VESSEL NAME=shelf hydrophone2016-10-31 06:26:20<br>animation_frame=2016-10-31 06:20<br>LAT=%{lat}<br>LON=%{lon}<br>SPEED (KNOTSx10)=%{customdata[0]}<br>slfdist=%{customdata[1]}<extra></extra>",
           "hovertext": [
            "shelf hydrophone"
           ],
           "lat": [
            44.38132
           ],
           "legendgroup": "shelf hydrophone2016-10-31 06:26:20",
           "lon": [
            -124.18216
           ],
           "marker": {
            "color": "#FF97FF"
           },
           "mode": "markers",
           "name": "shelf hydrophone2016-10-31 06:26:20",
           "showlegend": true,
           "subplot": "mapbox",
           "type": "scattermapbox"
          },
          {
           "customdata": [
            [
             10,
             0
            ]
           ],
           "hovertemplate": "<b>%{hovertext}</b><br><br>VESSEL NAME=offshore hydrophone2016-10-31 06:26:20<br>animation_frame=2016-10-31 06:20<br>LAT=%{lat}<br>LON=%{lon}<br>SPEED (KNOTSx10)=%{customdata[0]}<br>slfdist=%{customdata[1]}<extra></extra>",
           "hovertext": [
            "offshore hydrophone"
           ],
           "lat": [
            44.2284
           ],
           "legendgroup": "offshore hydrophone2016-10-31 06:26:20",
           "lon": [
            -124.57144
           ],
           "marker": {
            "color": "#FECB52"
           },
           "mode": "markers",
           "name": "offshore hydrophone2016-10-31 06:26:20",
           "showlegend": true,
           "subplot": "mapbox",
           "type": "scattermapbox"
          },
          {
           "customdata": [
            [
             0,
             0
            ]
           ],
           "hovertemplate": "<b>%{hovertext}</b><br><br>VESSEL NAME=shelf hydrophone2016-10-31 06:26:36<br>animation_frame=2016-10-31 06:20<br>LAT=%{lat}<br>LON=%{lon}<br>SPEED (KNOTSx10)=%{customdata[0]}<br>slfdist=%{customdata[1]}<extra></extra>",
           "hovertext": [
            "shelf hydrophone"
           ],
           "lat": [
            44.38132
           ],
           "legendgroup": "shelf hydrophone2016-10-31 06:26:36",
           "lon": [
            -124.18216
           ],
           "marker": {
            "color": "#636efa"
           },
           "mode": "markers",
           "name": "shelf hydrophone2016-10-31 06:26:36",
           "showlegend": true,
           "subplot": "mapbox",
           "type": "scattermapbox"
          },
          {
           "customdata": [
            [
             10,
             0
            ]
           ],
           "hovertemplate": "<b>%{hovertext}</b><br><br>VESSEL NAME=offshore hydrophone2016-10-31 06:26:36<br>animation_frame=2016-10-31 06:20<br>LAT=%{lat}<br>LON=%{lon}<br>SPEED (KNOTSx10)=%{customdata[0]}<br>slfdist=%{customdata[1]}<extra></extra>",
           "hovertext": [
            "offshore hydrophone"
           ],
           "lat": [
            44.2284
           ],
           "legendgroup": "offshore hydrophone2016-10-31 06:26:36",
           "lon": [
            -124.57144
           ],
           "marker": {
            "color": "#EF553B"
           },
           "mode": "markers",
           "name": "offshore hydrophone2016-10-31 06:26:36",
           "showlegend": true,
           "subplot": "mapbox",
           "type": "scattermapbox"
          },
          {
           "customdata": [
            [
             0,
             0
            ]
           ],
           "hovertemplate": "<b>%{hovertext}</b><br><br>VESSEL NAME=shelf hydrophone2016-10-31 06:26:37<br>animation_frame=2016-10-31 06:20<br>LAT=%{lat}<br>LON=%{lon}<br>SPEED (KNOTSx10)=%{customdata[0]}<br>slfdist=%{customdata[1]}<extra></extra>",
           "hovertext": [
            "shelf hydrophone"
           ],
           "lat": [
            44.38132
           ],
           "legendgroup": "shelf hydrophone2016-10-31 06:26:37",
           "lon": [
            -124.18216
           ],
           "marker": {
            "color": "#00cc96"
           },
           "mode": "markers",
           "name": "shelf hydrophone2016-10-31 06:26:37",
           "showlegend": true,
           "subplot": "mapbox",
           "type": "scattermapbox"
          },
          {
           "customdata": [
            [
             10,
             0
            ]
           ],
           "hovertemplate": "<b>%{hovertext}</b><br><br>VESSEL NAME=offshore hydrophone2016-10-31 06:26:37<br>animation_frame=2016-10-31 06:20<br>LAT=%{lat}<br>LON=%{lon}<br>SPEED (KNOTSx10)=%{customdata[0]}<br>slfdist=%{customdata[1]}<extra></extra>",
           "hovertext": [
            "offshore hydrophone"
           ],
           "lat": [
            44.2284
           ],
           "legendgroup": "offshore hydrophone2016-10-31 06:26:37",
           "lon": [
            -124.57144
           ],
           "marker": {
            "color": "#ab63fa"
           },
           "mode": "markers",
           "name": "offshore hydrophone2016-10-31 06:26:37",
           "showlegend": true,
           "subplot": "mapbox",
           "type": "scattermapbox"
          },
          {
           "customdata": [
            [
             0,
             0
            ]
           ],
           "hovertemplate": "<b>%{hovertext}</b><br><br>VESSEL NAME=shelf hydrophone2016-10-31 06:26:43<br>animation_frame=2016-10-31 06:20<br>LAT=%{lat}<br>LON=%{lon}<br>SPEED (KNOTSx10)=%{customdata[0]}<br>slfdist=%{customdata[1]}<extra></extra>",
           "hovertext": [
            "shelf hydrophone"
           ],
           "lat": [
            44.38132
           ],
           "legendgroup": "shelf hydrophone2016-10-31 06:26:43",
           "lon": [
            -124.18216
           ],
           "marker": {
            "color": "#FFA15A"
           },
           "mode": "markers",
           "name": "shelf hydrophone2016-10-31 06:26:43",
           "showlegend": true,
           "subplot": "mapbox",
           "type": "scattermapbox"
          },
          {
           "customdata": [
            [
             10,
             0
            ]
           ],
           "hovertemplate": "<b>%{hovertext}</b><br><br>VESSEL NAME=offshore hydrophone2016-10-31 06:26:43<br>animation_frame=2016-10-31 06:20<br>LAT=%{lat}<br>LON=%{lon}<br>SPEED (KNOTSx10)=%{customdata[0]}<br>slfdist=%{customdata[1]}<extra></extra>",
           "hovertext": [
            "offshore hydrophone"
           ],
           "lat": [
            44.2284
           ],
           "legendgroup": "offshore hydrophone2016-10-31 06:26:43",
           "lon": [
            -124.57144
           ],
           "marker": {
            "color": "#19d3f3"
           },
           "mode": "markers",
           "name": "offshore hydrophone2016-10-31 06:26:43",
           "showlegend": true,
           "subplot": "mapbox",
           "type": "scattermapbox"
          },
          {
           "customdata": [
            [
             0,
             0
            ]
           ],
           "hovertemplate": "<b>%{hovertext}</b><br><br>VESSEL NAME=shelf hydrophone2016-10-31 06:28:07<br>animation_frame=2016-10-31 06:20<br>LAT=%{lat}<br>LON=%{lon}<br>SPEED (KNOTSx10)=%{customdata[0]}<br>slfdist=%{customdata[1]}<extra></extra>",
           "hovertext": [
            "shelf hydrophone"
           ],
           "lat": [
            44.38132
           ],
           "legendgroup": "shelf hydrophone2016-10-31 06:28:07",
           "lon": [
            -124.18216
           ],
           "marker": {
            "color": "#FF6692"
           },
           "mode": "markers",
           "name": "shelf hydrophone2016-10-31 06:28:07",
           "showlegend": true,
           "subplot": "mapbox",
           "type": "scattermapbox"
          },
          {
           "customdata": [
            [
             10,
             0
            ]
           ],
           "hovertemplate": "<b>%{hovertext}</b><br><br>VESSEL NAME=offshore hydrophone2016-10-31 06:28:07<br>animation_frame=2016-10-31 06:20<br>LAT=%{lat}<br>LON=%{lon}<br>SPEED (KNOTSx10)=%{customdata[0]}<br>slfdist=%{customdata[1]}<extra></extra>",
           "hovertext": [
            "offshore hydrophone"
           ],
           "lat": [
            44.2284
           ],
           "legendgroup": "offshore hydrophone2016-10-31 06:28:07",
           "lon": [
            -124.57144
           ],
           "marker": {
            "color": "#B6E880"
           },
           "mode": "markers",
           "name": "offshore hydrophone2016-10-31 06:28:07",
           "showlegend": true,
           "subplot": "mapbox",
           "type": "scattermapbox"
          },
          {
           "customdata": [
            [
             0,
             0
            ]
           ],
           "hovertemplate": "<b>%{hovertext}</b><br><br>VESSEL NAME=shelf hydrophone2016-10-31 06:28:12<br>animation_frame=2016-10-31 06:20<br>LAT=%{lat}<br>LON=%{lon}<br>SPEED (KNOTSx10)=%{customdata[0]}<br>slfdist=%{customdata[1]}<extra></extra>",
           "hovertext": [
            "shelf hydrophone"
           ],
           "lat": [
            44.38132
           ],
           "legendgroup": "shelf hydrophone2016-10-31 06:28:12",
           "lon": [
            -124.18216
           ],
           "marker": {
            "color": "#FF97FF"
           },
           "mode": "markers",
           "name": "shelf hydrophone2016-10-31 06:28:12",
           "showlegend": true,
           "subplot": "mapbox",
           "type": "scattermapbox"
          },
          {
           "customdata": [
            [
             10,
             0
            ]
           ],
           "hovertemplate": "<b>%{hovertext}</b><br><br>VESSEL NAME=offshore hydrophone2016-10-31 06:28:12<br>animation_frame=2016-10-31 06:20<br>LAT=%{lat}<br>LON=%{lon}<br>SPEED (KNOTSx10)=%{customdata[0]}<br>slfdist=%{customdata[1]}<extra></extra>",
           "hovertext": [
            "offshore hydrophone"
           ],
           "lat": [
            44.2284
           ],
           "legendgroup": "offshore hydrophone2016-10-31 06:28:12",
           "lon": [
            -124.57144
           ],
           "marker": {
            "color": "#FECB52"
           },
           "mode": "markers",
           "name": "offshore hydrophone2016-10-31 06:28:12",
           "showlegend": true,
           "subplot": "mapbox",
           "type": "scattermapbox"
          },
          {
           "customdata": [
            [
             0,
             0
            ]
           ],
           "hovertemplate": "<b>%{hovertext}</b><br><br>VESSEL NAME=shelf hydrophone2016-10-31 06:28:26<br>animation_frame=2016-10-31 06:20<br>LAT=%{lat}<br>LON=%{lon}<br>SPEED (KNOTSx10)=%{customdata[0]}<br>slfdist=%{customdata[1]}<extra></extra>",
           "hovertext": [
            "shelf hydrophone"
           ],
           "lat": [
            44.38132
           ],
           "legendgroup": "shelf hydrophone2016-10-31 06:28:26",
           "lon": [
            -124.18216
           ],
           "marker": {
            "color": "#636efa"
           },
           "mode": "markers",
           "name": "shelf hydrophone2016-10-31 06:28:26",
           "showlegend": true,
           "subplot": "mapbox",
           "type": "scattermapbox"
          },
          {
           "customdata": [
            [
             10,
             0
            ]
           ],
           "hovertemplate": "<b>%{hovertext}</b><br><br>VESSEL NAME=offshore hydrophone2016-10-31 06:28:26<br>animation_frame=2016-10-31 06:20<br>LAT=%{lat}<br>LON=%{lon}<br>SPEED (KNOTSx10)=%{customdata[0]}<br>slfdist=%{customdata[1]}<extra></extra>",
           "hovertext": [
            "offshore hydrophone"
           ],
           "lat": [
            44.2284
           ],
           "legendgroup": "offshore hydrophone2016-10-31 06:28:26",
           "lon": [
            -124.57144
           ],
           "marker": {
            "color": "#EF553B"
           },
           "mode": "markers",
           "name": "offshore hydrophone2016-10-31 06:28:26",
           "showlegend": true,
           "subplot": "mapbox",
           "type": "scattermapbox"
          },
          {
           "customdata": [
            [
             0,
             0
            ]
           ],
           "hovertemplate": "<b>%{hovertext}</b><br><br>VESSEL NAME=shelf hydrophone2016-10-31 06:28:39<br>animation_frame=2016-10-31 06:20<br>LAT=%{lat}<br>LON=%{lon}<br>SPEED (KNOTSx10)=%{customdata[0]}<br>slfdist=%{customdata[1]}<extra></extra>",
           "hovertext": [
            "shelf hydrophone"
           ],
           "lat": [
            44.38132
           ],
           "legendgroup": "shelf hydrophone2016-10-31 06:28:39",
           "lon": [
            -124.18216
           ],
           "marker": {
            "color": "#00cc96"
           },
           "mode": "markers",
           "name": "shelf hydrophone2016-10-31 06:28:39",
           "showlegend": true,
           "subplot": "mapbox",
           "type": "scattermapbox"
          },
          {
           "customdata": [
            [
             10,
             0
            ]
           ],
           "hovertemplate": "<b>%{hovertext}</b><br><br>VESSEL NAME=offshore hydrophone2016-10-31 06:28:39<br>animation_frame=2016-10-31 06:20<br>LAT=%{lat}<br>LON=%{lon}<br>SPEED (KNOTSx10)=%{customdata[0]}<br>slfdist=%{customdata[1]}<extra></extra>",
           "hovertext": [
            "offshore hydrophone"
           ],
           "lat": [
            44.2284
           ],
           "legendgroup": "offshore hydrophone2016-10-31 06:28:39",
           "lon": [
            -124.57144
           ],
           "marker": {
            "color": "#ab63fa"
           },
           "mode": "markers",
           "name": "offshore hydrophone2016-10-31 06:28:39",
           "showlegend": true,
           "subplot": "mapbox",
           "type": "scattermapbox"
          },
          {
           "customdata": [
            [
             0,
             0
            ]
           ],
           "hovertemplate": "<b>%{hovertext}</b><br><br>VESSEL NAME=shelf hydrophone2016-10-31 06:28:40<br>animation_frame=2016-10-31 06:20<br>LAT=%{lat}<br>LON=%{lon}<br>SPEED (KNOTSx10)=%{customdata[0]}<br>slfdist=%{customdata[1]}<extra></extra>",
           "hovertext": [
            "shelf hydrophone"
           ],
           "lat": [
            44.38132
           ],
           "legendgroup": "shelf hydrophone2016-10-31 06:28:40",
           "lon": [
            -124.18216
           ],
           "marker": {
            "color": "#FFA15A"
           },
           "mode": "markers",
           "name": "shelf hydrophone2016-10-31 06:28:40",
           "showlegend": true,
           "subplot": "mapbox",
           "type": "scattermapbox"
          },
          {
           "customdata": [
            [
             10,
             0
            ]
           ],
           "hovertemplate": "<b>%{hovertext}</b><br><br>VESSEL NAME=offshore hydrophone2016-10-31 06:28:40<br>animation_frame=2016-10-31 06:20<br>LAT=%{lat}<br>LON=%{lon}<br>SPEED (KNOTSx10)=%{customdata[0]}<br>slfdist=%{customdata[1]}<extra></extra>",
           "hovertext": [
            "offshore hydrophone"
           ],
           "lat": [
            44.2284
           ],
           "legendgroup": "offshore hydrophone2016-10-31 06:28:40",
           "lon": [
            -124.57144
           ],
           "marker": {
            "color": "#19d3f3"
           },
           "mode": "markers",
           "name": "offshore hydrophone2016-10-31 06:28:40",
           "showlegend": true,
           "subplot": "mapbox",
           "type": "scattermapbox"
          },
          {
           "customdata": [
            [
             0,
             0
            ]
           ],
           "hovertemplate": "<b>%{hovertext}</b><br><br>VESSEL NAME=shelf hydrophone2016-10-31 06:29:04<br>animation_frame=2016-10-31 06:20<br>LAT=%{lat}<br>LON=%{lon}<br>SPEED (KNOTSx10)=%{customdata[0]}<br>slfdist=%{customdata[1]}<extra></extra>",
           "hovertext": [
            "shelf hydrophone"
           ],
           "lat": [
            44.38132
           ],
           "legendgroup": "shelf hydrophone2016-10-31 06:29:04",
           "lon": [
            -124.18216
           ],
           "marker": {
            "color": "#FF6692"
           },
           "mode": "markers",
           "name": "shelf hydrophone2016-10-31 06:29:04",
           "showlegend": true,
           "subplot": "mapbox",
           "type": "scattermapbox"
          },
          {
           "customdata": [
            [
             10,
             0
            ]
           ],
           "hovertemplate": "<b>%{hovertext}</b><br><br>VESSEL NAME=offshore hydrophone2016-10-31 06:29:04<br>animation_frame=2016-10-31 06:20<br>LAT=%{lat}<br>LON=%{lon}<br>SPEED (KNOTSx10)=%{customdata[0]}<br>slfdist=%{customdata[1]}<extra></extra>",
           "hovertext": [
            "offshore hydrophone"
           ],
           "lat": [
            44.2284
           ],
           "legendgroup": "offshore hydrophone2016-10-31 06:29:04",
           "lon": [
            -124.57144
           ],
           "marker": {
            "color": "#B6E880"
           },
           "mode": "markers",
           "name": "offshore hydrophone2016-10-31 06:29:04",
           "showlegend": true,
           "subplot": "mapbox",
           "type": "scattermapbox"
          },
          {
           "customdata": [
            [
             0,
             0
            ]
           ],
           "hovertemplate": "<b>%{hovertext}</b><br><br>VESSEL NAME=shelf hydrophone2016-10-31 06:29:37<br>animation_frame=2016-10-31 06:20<br>LAT=%{lat}<br>LON=%{lon}<br>SPEED (KNOTSx10)=%{customdata[0]}<br>slfdist=%{customdata[1]}<extra></extra>",
           "hovertext": [
            "shelf hydrophone"
           ],
           "lat": [
            44.38132
           ],
           "legendgroup": "shelf hydrophone2016-10-31 06:29:37",
           "lon": [
            -124.18216
           ],
           "marker": {
            "color": "#FF97FF"
           },
           "mode": "markers",
           "name": "shelf hydrophone2016-10-31 06:29:37",
           "showlegend": true,
           "subplot": "mapbox",
           "type": "scattermapbox"
          },
          {
           "customdata": [
            [
             10,
             0
            ]
           ],
           "hovertemplate": "<b>%{hovertext}</b><br><br>VESSEL NAME=offshore hydrophone2016-10-31 06:29:37<br>animation_frame=2016-10-31 06:20<br>LAT=%{lat}<br>LON=%{lon}<br>SPEED (KNOTSx10)=%{customdata[0]}<br>slfdist=%{customdata[1]}<extra></extra>",
           "hovertext": [
            "offshore hydrophone"
           ],
           "lat": [
            44.2284
           ],
           "legendgroup": "offshore hydrophone2016-10-31 06:29:37",
           "lon": [
            -124.57144
           ],
           "marker": {
            "color": "#FECB52"
           },
           "mode": "markers",
           "name": "offshore hydrophone2016-10-31 06:29:37",
           "showlegend": true,
           "subplot": "mapbox",
           "type": "scattermapbox"
          },
          {
           "customdata": [
            [
             0,
             0
            ]
           ],
           "hovertemplate": "<b>%{hovertext}</b><br><br>VESSEL NAME=shelf hydrophone2016-10-31 06:29:56<br>animation_frame=2016-10-31 06:20<br>LAT=%{lat}<br>LON=%{lon}<br>SPEED (KNOTSx10)=%{customdata[0]}<br>slfdist=%{customdata[1]}<extra></extra>",
           "hovertext": [
            "shelf hydrophone"
           ],
           "lat": [
            44.38132
           ],
           "legendgroup": "shelf hydrophone2016-10-31 06:29:56",
           "lon": [
            -124.18216
           ],
           "marker": {
            "color": "#636efa"
           },
           "mode": "markers",
           "name": "shelf hydrophone2016-10-31 06:29:56",
           "showlegend": true,
           "subplot": "mapbox",
           "type": "scattermapbox"
          },
          {
           "customdata": [
            [
             10,
             0
            ]
           ],
           "hovertemplate": "<b>%{hovertext}</b><br><br>VESSEL NAME=offshore hydrophone2016-10-31 06:29:56<br>animation_frame=2016-10-31 06:20<br>LAT=%{lat}<br>LON=%{lon}<br>SPEED (KNOTSx10)=%{customdata[0]}<br>slfdist=%{customdata[1]}<extra></extra>",
           "hovertext": [
            "offshore hydrophone"
           ],
           "lat": [
            44.2284
           ],
           "legendgroup": "offshore hydrophone2016-10-31 06:29:56",
           "lon": [
            -124.57144
           ],
           "marker": {
            "color": "#EF553B"
           },
           "mode": "markers",
           "name": "offshore hydrophone2016-10-31 06:29:56",
           "showlegend": true,
           "subplot": "mapbox",
           "type": "scattermapbox"
          }
         ],
         "name": "2016-10-31 06:20"
        },
        {
         "data": [
          {
           "customdata": [
            [
             33,
             29.91724339213576
            ],
            [
             32,
             29.983636325894462
            ]
           ],
           "hovertemplate": "<b>%{hovertext}</b><br><br>VESSEL NAME=SEEKER<br>animation_frame=2016-10-31 06:30<br>LAT=%{lat}<br>LON=%{lon}<br>SPEED (KNOTSx10)=%{customdata[0]}<br>slfdist=%{customdata[1]}<extra></extra>",
           "hovertext": [
            "Fishing",
            "Fishing"
           ],
           "lat": [
            44.52915,
            44.53158
           ],
           "legendgroup": "SEEKER",
           "lon": [
            -124.7508,
            -124.751
           ],
           "marker": {
            "color": "#636efa"
           },
           "mode": "markers",
           "name": "SEEKER",
           "showlegend": true,
           "subplot": "mapbox",
           "type": "scattermapbox"
          },
          {
           "customdata": [
            [
             55,
             9.656390633382381
            ],
            [
             56,
             9.598496387604389
            ],
            [
             52,
             9.552788617189098
            ],
            [
             56,
             9.508296155526937
            ]
           ],
           "hovertemplate": "<b>%{hovertext}</b><br><br>VESSEL NAME=PACIFIC RAM<br>animation_frame=2016-10-31 06:30<br>LAT=%{lat}<br>LON=%{lon}<br>SPEED (KNOTSx10)=%{customdata[0]}<br>slfdist=%{customdata[1]}<extra></extra>",
           "hovertext": [
            "Factory Trawler",
            "Factory Trawler",
            "Factory Trawler",
            "Factory Trawler"
           ],
           "lat": [
            44.50809,
            44.50585,
            44.5036,
            44.5013
           ],
           "legendgroup": "PACIFIC RAM",
           "lon": [
            -124.2646,
            -124.2684,
            -124.2725,
            -124.2765
           ],
           "marker": {
            "color": "#EF553B"
           },
           "mode": "markers",
           "name": "PACIFIC RAM",
           "showlegend": true,
           "subplot": "mapbox",
           "type": "scattermapbox"
          },
          {
           "customdata": [
            [
             53,
             10.317926951182287
            ],
            [
             39,
             10.249995115088815
            ],
            [
             48,
             10.158304460613445
            ],
            [
             51,
             10.075919017366532
            ]
           ],
           "hovertemplate": "<b>%{hovertext}</b><br><br>VESSEL NAME=LISA MELINDA<br>animation_frame=2016-10-31 06:30<br>LAT=%{lat}<br>LON=%{lon}<br>SPEED (KNOTSx10)=%{customdata[0]}<br>slfdist=%{customdata[1]}<extra></extra>",
           "hovertext": [
            "Fishing Vessel",
            "Fishing Vessel",
            "Fishing Vessel",
            "Fishing Vessel"
           ],
           "lat": [
            44.52388,
            44.52215,
            44.51957,
            44.5171
           ],
           "legendgroup": "LISA MELINDA",
           "lon": [
            -124.2447,
            -124.2477,
            -124.2524,
            -124.2568
           ],
           "marker": {
            "color": "#00cc96"
           },
           "mode": "markers",
           "name": "LISA MELINDA",
           "showlegend": true,
           "subplot": "mapbox",
           "type": "scattermapbox"
          },
          {
           "customdata": [
            [
             20,
             32.973621180682706
            ],
            [
             20,
             32.95512130185379
            ],
            [
             18,
             32.94014147931669
            ],
            [
             22,
             32.93522942597259
            ]
           ],
           "hovertemplate": "<b>%{hovertext}</b><br><br>VESSEL NAME=MISS BERDIE<br>animation_frame=2016-10-31 06:30<br>LAT=%{lat}<br>LON=%{lon}<br>SPEED (KNOTSx10)=%{customdata[0]}<br>slfdist=%{customdata[1]}<extra></extra>",
           "hovertext": [
            "Unspecified",
            "Unspecified",
            "Unspecified",
            "Unspecified"
           ],
           "lat": [
            44.58019,
            44.57843,
            44.57726,
            44.57612
           ],
           "legendgroup": "MISS BERDIE",
           "lon": [
            -124.7886,
            -124.7893,
            -124.7897,
            -124.7903
           ],
           "marker": {
            "color": "#ab63fa"
           },
           "mode": "markers",
           "name": "MISS BERDIE",
           "showlegend": true,
           "subplot": "mapbox",
           "type": "scattermapbox"
          },
          {
           "customdata": [
            [
             40,
             34.24058830387113
            ],
            [
             39,
             34.27877577211879
            ],
            [
             38,
             34.32280944523357
            ],
            [
             40,
             34.3678097513434
            ]
           ],
           "hovertemplate": "<b>%{hovertext}</b><br><br>VESSEL NAME=ARCTIC STORM<br>animation_frame=2016-10-31 06:30<br>LAT=%{lat}<br>LON=%{lon}<br>SPEED (KNOTSx10)=%{customdata[0]}<br>slfdist=%{customdata[1]}<extra></extra>",
           "hovertext": [
            "Factory Trawler",
            "Factory Trawler",
            "Factory Trawler",
            "Factory Trawler"
           ],
           "lat": [
            44.5499,
            44.54772,
            44.54576,
            44.54339
           ],
           "legendgroup": "ARCTIC STORM",
           "lon": [
            -124.8334,
            -124.8353,
            -124.8372,
            -124.8393
           ],
           "marker": {
            "color": "#FFA15A"
           },
           "mode": "markers",
           "name": "ARCTIC STORM",
           "showlegend": true,
           "subplot": "mapbox",
           "type": "scattermapbox"
          },
          {
           "customdata": [
            [
             65,
             18.487493025611993
            ],
            [
             75,
             18.824598418063974
            ],
            [
             73,
             19.237673243175895
            ]
           ],
           "hovertemplate": "<b>%{hovertext}</b><br><br>VESSEL NAME=KEN & AL<br>animation_frame=2016-10-31 06:30<br>LAT=%{lat}<br>LON=%{lon}<br>SPEED (KNOTSx10)=%{customdata[0]}<br>slfdist=%{customdata[1]}<extra></extra>",
           "hovertext": [
            "Fishing",
            "Fishing",
            "Fishing"
           ],
           "lat": [
            44.63219,
            44.6375,
            44.64391
           ],
           "legendgroup": "KEN & AL",
           "lon": [
            -124.3129,
            -124.3125,
            -124.3123
           ],
           "marker": {
            "color": "#19d3f3"
           },
           "mode": "markers",
           "name": "KEN & AL",
           "showlegend": true,
           "subplot": "mapbox",
           "type": "scattermapbox"
          },
          {
           "customdata": [
            [
             80,
             14.427134895682626
            ],
            [
             80,
             14.34826799709773
            ],
            [
             71,
             14.283160194988707
            ],
            [
             75,
             14.243298108047401
            ]
           ],
           "hovertemplate": "<b>%{hovertext}</b><br><br>VESSEL NAME=NORTHERN RAM<br>animation_frame=2016-10-31 06:30<br>LAT=%{lat}<br>LON=%{lon}<br>SPEED (KNOTSx10)=%{customdata[0]}<br>slfdist=%{customdata[1]}<extra></extra>",
           "hovertext": [
            "Fishing",
            "Fishing",
            "Fishing",
            "Fishing"
           ],
           "lat": [
            44.56953,
            44.57058,
            44.57178,
            44.57298
           ],
           "legendgroup": "NORTHERN RAM",
           "lon": [
            -124.3089,
            -124.302,
            -124.2949,
            -124.2887
           ],
           "marker": {
            "color": "#FF6692"
           },
           "mode": "markers",
           "name": "NORTHERN RAM",
           "showlegend": true,
           "subplot": "mapbox",
           "type": "scattermapbox"
          },
          {
           "customdata": [
            [
             33,
             17.811828914346314
            ],
            [
             35,
             17.889704239437314
            ],
            [
             31,
             17.988940526978585
            ],
            [
             29,
             18.04912591983388
            ]
           ],
           "hovertemplate": "<b>%{hovertext}</b><br><br>VESSEL NAME=SEA STORM<br>animation_frame=2016-10-31 06:30<br>LAT=%{lat}<br>LON=%{lon}<br>SPEED (KNOTSx10)=%{customdata[0]}<br>slfdist=%{customdata[1]}<extra></extra>",
           "hovertext": [
            "Trawler",
            "Trawler",
            "Trawler",
            "Trawler"
           ],
           "lat": [
            44.56607,
            44.56547,
            44.56471,
            44.56428
           ],
           "legendgroup": "SEA STORM",
           "lon": [
            -124.4336,
            -124.4367,
            -124.4406,
            -124.4429
           ],
           "marker": {
            "color": "#B6E880"
           },
           "mode": "markers",
           "name": "SEA STORM",
           "showlegend": true,
           "subplot": "mapbox",
           "type": "scattermapbox"
          },
          {
           "customdata": [
            [
             24,
             29.43010842503578
            ],
            [
             28,
             29.42647891099119
            ],
            [
             28,
             29.433859291467954
            ]
           ],
           "hovertemplate": "<b>%{hovertext}</b><br><br>VESSEL NAME=SEADAWN<br>animation_frame=2016-10-31 06:30<br>LAT=%{lat}<br>LON=%{lon}<br>SPEED (KNOTSx10)=%{customdata[0]}<br>slfdist=%{customdata[1]}<extra></extra>",
           "hovertext": [
            "Fishing",
            "Fishing",
            "Fishing"
           ],
           "lat": [
            44.5254,
            44.52362,
            44.52064
           ],
           "legendgroup": "SEADAWN",
           "lon": [
            -124.7422,
            -124.743,
            -124.7446
           ],
           "marker": {
            "color": "#636efa"
           },
           "mode": "markers",
           "name": "SEADAWN",
           "showlegend": true,
           "subplot": "mapbox",
           "type": "scattermapbox"
          },
          {
           "customdata": [
            [
             0,
             0
            ]
           ],
           "hovertemplate": "<b>%{hovertext}</b><br><br>VESSEL NAME=shelf hydrophone2016-10-31 06:30:33<br>animation_frame=2016-10-31 06:30<br>LAT=%{lat}<br>LON=%{lon}<br>SPEED (KNOTSx10)=%{customdata[0]}<br>slfdist=%{customdata[1]}<extra></extra>",
           "hovertext": [
            "shelf hydrophone"
           ],
           "lat": [
            44.38132
           ],
           "legendgroup": "shelf hydrophone2016-10-31 06:30:33",
           "lon": [
            -124.18216
           ],
           "marker": {
            "color": "#00cc96"
           },
           "mode": "markers",
           "name": "shelf hydrophone2016-10-31 06:30:33",
           "showlegend": true,
           "subplot": "mapbox",
           "type": "scattermapbox"
          },
          {
           "customdata": [
            [
             10,
             0
            ]
           ],
           "hovertemplate": "<b>%{hovertext}</b><br><br>VESSEL NAME=offshore hydrophone2016-10-31 06:30:33<br>animation_frame=2016-10-31 06:30<br>LAT=%{lat}<br>LON=%{lon}<br>SPEED (KNOTSx10)=%{customdata[0]}<br>slfdist=%{customdata[1]}<extra></extra>",
           "hovertext": [
            "offshore hydrophone"
           ],
           "lat": [
            44.2284
           ],
           "legendgroup": "offshore hydrophone2016-10-31 06:30:33",
           "lon": [
            -124.57144
           ],
           "marker": {
            "color": "#ab63fa"
           },
           "mode": "markers",
           "name": "offshore hydrophone2016-10-31 06:30:33",
           "showlegend": true,
           "subplot": "mapbox",
           "type": "scattermapbox"
          },
          {
           "customdata": [
            [
             0,
             0
            ]
           ],
           "hovertemplate": "<b>%{hovertext}</b><br><br>VESSEL NAME=shelf hydrophone2016-10-31 06:30:46<br>animation_frame=2016-10-31 06:30<br>LAT=%{lat}<br>LON=%{lon}<br>SPEED (KNOTSx10)=%{customdata[0]}<br>slfdist=%{customdata[1]}<extra></extra>",
           "hovertext": [
            "shelf hydrophone"
           ],
           "lat": [
            44.38132
           ],
           "legendgroup": "shelf hydrophone2016-10-31 06:30:46",
           "lon": [
            -124.18216
           ],
           "marker": {
            "color": "#FFA15A"
           },
           "mode": "markers",
           "name": "shelf hydrophone2016-10-31 06:30:46",
           "showlegend": true,
           "subplot": "mapbox",
           "type": "scattermapbox"
          },
          {
           "customdata": [
            [
             10,
             0
            ]
           ],
           "hovertemplate": "<b>%{hovertext}</b><br><br>VESSEL NAME=offshore hydrophone2016-10-31 06:30:46<br>animation_frame=2016-10-31 06:30<br>LAT=%{lat}<br>LON=%{lon}<br>SPEED (KNOTSx10)=%{customdata[0]}<br>slfdist=%{customdata[1]}<extra></extra>",
           "hovertext": [
            "offshore hydrophone"
           ],
           "lat": [
            44.2284
           ],
           "legendgroup": "offshore hydrophone2016-10-31 06:30:46",
           "lon": [
            -124.57144
           ],
           "marker": {
            "color": "#19d3f3"
           },
           "mode": "markers",
           "name": "offshore hydrophone2016-10-31 06:30:46",
           "showlegend": true,
           "subplot": "mapbox",
           "type": "scattermapbox"
          },
          {
           "customdata": [
            [
             0,
             0
            ]
           ],
           "hovertemplate": "<b>%{hovertext}</b><br><br>VESSEL NAME=shelf hydrophone2016-10-31 06:31:19<br>animation_frame=2016-10-31 06:30<br>LAT=%{lat}<br>LON=%{lon}<br>SPEED (KNOTSx10)=%{customdata[0]}<br>slfdist=%{customdata[1]}<extra></extra>",
           "hovertext": [
            "shelf hydrophone"
           ],
           "lat": [
            44.38132
           ],
           "legendgroup": "shelf hydrophone2016-10-31 06:31:19",
           "lon": [
            -124.18216
           ],
           "marker": {
            "color": "#FF6692"
           },
           "mode": "markers",
           "name": "shelf hydrophone2016-10-31 06:31:19",
           "showlegend": true,
           "subplot": "mapbox",
           "type": "scattermapbox"
          },
          {
           "customdata": [
            [
             10,
             0
            ]
           ],
           "hovertemplate": "<b>%{hovertext}</b><br><br>VESSEL NAME=offshore hydrophone2016-10-31 06:31:19<br>animation_frame=2016-10-31 06:30<br>LAT=%{lat}<br>LON=%{lon}<br>SPEED (KNOTSx10)=%{customdata[0]}<br>slfdist=%{customdata[1]}<extra></extra>",
           "hovertext": [
            "offshore hydrophone"
           ],
           "lat": [
            44.2284
           ],
           "legendgroup": "offshore hydrophone2016-10-31 06:31:19",
           "lon": [
            -124.57144
           ],
           "marker": {
            "color": "#B6E880"
           },
           "mode": "markers",
           "name": "offshore hydrophone2016-10-31 06:31:19",
           "showlegend": true,
           "subplot": "mapbox",
           "type": "scattermapbox"
          },
          {
           "customdata": [
            [
             0,
             0
            ]
           ],
           "hovertemplate": "<b>%{hovertext}</b><br><br>VESSEL NAME=shelf hydrophone2016-10-31 06:31:20<br>animation_frame=2016-10-31 06:30<br>LAT=%{lat}<br>LON=%{lon}<br>SPEED (KNOTSx10)=%{customdata[0]}<br>slfdist=%{customdata[1]}<extra></extra>",
           "hovertext": [
            "shelf hydrophone"
           ],
           "lat": [
            44.38132
           ],
           "legendgroup": "shelf hydrophone2016-10-31 06:31:20",
           "lon": [
            -124.18216
           ],
           "marker": {
            "color": "#FF97FF"
           },
           "mode": "markers",
           "name": "shelf hydrophone2016-10-31 06:31:20",
           "showlegend": true,
           "subplot": "mapbox",
           "type": "scattermapbox"
          },
          {
           "customdata": [
            [
             10,
             0
            ]
           ],
           "hovertemplate": "<b>%{hovertext}</b><br><br>VESSEL NAME=offshore hydrophone2016-10-31 06:31:20<br>animation_frame=2016-10-31 06:30<br>LAT=%{lat}<br>LON=%{lon}<br>SPEED (KNOTSx10)=%{customdata[0]}<br>slfdist=%{customdata[1]}<extra></extra>",
           "hovertext": [
            "offshore hydrophone"
           ],
           "lat": [
            44.2284
           ],
           "legendgroup": "offshore hydrophone2016-10-31 06:31:20",
           "lon": [
            -124.57144
           ],
           "marker": {
            "color": "#FECB52"
           },
           "mode": "markers",
           "name": "offshore hydrophone2016-10-31 06:31:20",
           "showlegend": true,
           "subplot": "mapbox",
           "type": "scattermapbox"
          },
          {
           "customdata": [
            [
             0,
             0
            ]
           ],
           "hovertemplate": "<b>%{hovertext}</b><br><br>VESSEL NAME=shelf hydrophone2016-10-31 06:31:25<br>animation_frame=2016-10-31 06:30<br>LAT=%{lat}<br>LON=%{lon}<br>SPEED (KNOTSx10)=%{customdata[0]}<br>slfdist=%{customdata[1]}<extra></extra>",
           "hovertext": [
            "shelf hydrophone"
           ],
           "lat": [
            44.38132
           ],
           "legendgroup": "shelf hydrophone2016-10-31 06:31:25",
           "lon": [
            -124.18216
           ],
           "marker": {
            "color": "#636efa"
           },
           "mode": "markers",
           "name": "shelf hydrophone2016-10-31 06:31:25",
           "showlegend": true,
           "subplot": "mapbox",
           "type": "scattermapbox"
          },
          {
           "customdata": [
            [
             10,
             0
            ]
           ],
           "hovertemplate": "<b>%{hovertext}</b><br><br>VESSEL NAME=offshore hydrophone2016-10-31 06:31:25<br>animation_frame=2016-10-31 06:30<br>LAT=%{lat}<br>LON=%{lon}<br>SPEED (KNOTSx10)=%{customdata[0]}<br>slfdist=%{customdata[1]}<extra></extra>",
           "hovertext": [
            "offshore hydrophone"
           ],
           "lat": [
            44.2284
           ],
           "legendgroup": "offshore hydrophone2016-10-31 06:31:25",
           "lon": [
            -124.57144
           ],
           "marker": {
            "color": "#EF553B"
           },
           "mode": "markers",
           "name": "offshore hydrophone2016-10-31 06:31:25",
           "showlegend": true,
           "subplot": "mapbox",
           "type": "scattermapbox"
          },
          {
           "customdata": [
            [
             0,
             0
            ]
           ],
           "hovertemplate": "<b>%{hovertext}</b><br><br>VESSEL NAME=shelf hydrophone2016-10-31 06:31:26<br>animation_frame=2016-10-31 06:30<br>LAT=%{lat}<br>LON=%{lon}<br>SPEED (KNOTSx10)=%{customdata[0]}<br>slfdist=%{customdata[1]}<extra></extra>",
           "hovertext": [
            "shelf hydrophone"
           ],
           "lat": [
            44.38132
           ],
           "legendgroup": "shelf hydrophone2016-10-31 06:31:26",
           "lon": [
            -124.18216
           ],
           "marker": {
            "color": "#00cc96"
           },
           "mode": "markers",
           "name": "shelf hydrophone2016-10-31 06:31:26",
           "showlegend": true,
           "subplot": "mapbox",
           "type": "scattermapbox"
          },
          {
           "customdata": [
            [
             10,
             0
            ]
           ],
           "hovertemplate": "<b>%{hovertext}</b><br><br>VESSEL NAME=offshore hydrophone2016-10-31 06:31:26<br>animation_frame=2016-10-31 06:30<br>LAT=%{lat}<br>LON=%{lon}<br>SPEED (KNOTSx10)=%{customdata[0]}<br>slfdist=%{customdata[1]}<extra></extra>",
           "hovertext": [
            "offshore hydrophone"
           ],
           "lat": [
            44.2284
           ],
           "legendgroup": "offshore hydrophone2016-10-31 06:31:26",
           "lon": [
            -124.57144
           ],
           "marker": {
            "color": "#ab63fa"
           },
           "mode": "markers",
           "name": "offshore hydrophone2016-10-31 06:31:26",
           "showlegend": true,
           "subplot": "mapbox",
           "type": "scattermapbox"
          },
          {
           "customdata": [
            [
             0,
             0
            ]
           ],
           "hovertemplate": "<b>%{hovertext}</b><br><br>VESSEL NAME=shelf hydrophone2016-10-31 06:31:49<br>animation_frame=2016-10-31 06:30<br>LAT=%{lat}<br>LON=%{lon}<br>SPEED (KNOTSx10)=%{customdata[0]}<br>slfdist=%{customdata[1]}<extra></extra>",
           "hovertext": [
            "shelf hydrophone"
           ],
           "lat": [
            44.38132
           ],
           "legendgroup": "shelf hydrophone2016-10-31 06:31:49",
           "lon": [
            -124.18216
           ],
           "marker": {
            "color": "#FFA15A"
           },
           "mode": "markers",
           "name": "shelf hydrophone2016-10-31 06:31:49",
           "showlegend": true,
           "subplot": "mapbox",
           "type": "scattermapbox"
          },
          {
           "customdata": [
            [
             10,
             0
            ]
           ],
           "hovertemplate": "<b>%{hovertext}</b><br><br>VESSEL NAME=offshore hydrophone2016-10-31 06:31:49<br>animation_frame=2016-10-31 06:30<br>LAT=%{lat}<br>LON=%{lon}<br>SPEED (KNOTSx10)=%{customdata[0]}<br>slfdist=%{customdata[1]}<extra></extra>",
           "hovertext": [
            "offshore hydrophone"
           ],
           "lat": [
            44.2284
           ],
           "legendgroup": "offshore hydrophone2016-10-31 06:31:49",
           "lon": [
            -124.57144
           ],
           "marker": {
            "color": "#19d3f3"
           },
           "mode": "markers",
           "name": "offshore hydrophone2016-10-31 06:31:49",
           "showlegend": true,
           "subplot": "mapbox",
           "type": "scattermapbox"
          },
          {
           "customdata": [
            [
             0,
             0
            ]
           ],
           "hovertemplate": "<b>%{hovertext}</b><br><br>VESSEL NAME=shelf hydrophone2016-10-31 06:32:15<br>animation_frame=2016-10-31 06:30<br>LAT=%{lat}<br>LON=%{lon}<br>SPEED (KNOTSx10)=%{customdata[0]}<br>slfdist=%{customdata[1]}<extra></extra>",
           "hovertext": [
            "shelf hydrophone"
           ],
           "lat": [
            44.38132
           ],
           "legendgroup": "shelf hydrophone2016-10-31 06:32:15",
           "lon": [
            -124.18216
           ],
           "marker": {
            "color": "#FF6692"
           },
           "mode": "markers",
           "name": "shelf hydrophone2016-10-31 06:32:15",
           "showlegend": true,
           "subplot": "mapbox",
           "type": "scattermapbox"
          },
          {
           "customdata": [
            [
             10,
             0
            ]
           ],
           "hovertemplate": "<b>%{hovertext}</b><br><br>VESSEL NAME=offshore hydrophone2016-10-31 06:32:15<br>animation_frame=2016-10-31 06:30<br>LAT=%{lat}<br>LON=%{lon}<br>SPEED (KNOTSx10)=%{customdata[0]}<br>slfdist=%{customdata[1]}<extra></extra>",
           "hovertext": [
            "offshore hydrophone"
           ],
           "lat": [
            44.2284
           ],
           "legendgroup": "offshore hydrophone2016-10-31 06:32:15",
           "lon": [
            -124.57144
           ],
           "marker": {
            "color": "#B6E880"
           },
           "mode": "markers",
           "name": "offshore hydrophone2016-10-31 06:32:15",
           "showlegend": true,
           "subplot": "mapbox",
           "type": "scattermapbox"
          },
          {
           "customdata": [
            [
             0,
             0
            ]
           ],
           "hovertemplate": "<b>%{hovertext}</b><br><br>VESSEL NAME=shelf hydrophone2016-10-31 06:33:03<br>animation_frame=2016-10-31 06:30<br>LAT=%{lat}<br>LON=%{lon}<br>SPEED (KNOTSx10)=%{customdata[0]}<br>slfdist=%{customdata[1]}<extra></extra>",
           "hovertext": [
            "shelf hydrophone"
           ],
           "lat": [
            44.38132
           ],
           "legendgroup": "shelf hydrophone2016-10-31 06:33:03",
           "lon": [
            -124.18216
           ],
           "marker": {
            "color": "#FF97FF"
           },
           "mode": "markers",
           "name": "shelf hydrophone2016-10-31 06:33:03",
           "showlegend": true,
           "subplot": "mapbox",
           "type": "scattermapbox"
          },
          {
           "customdata": [
            [
             10,
             0
            ]
           ],
           "hovertemplate": "<b>%{hovertext}</b><br><br>VESSEL NAME=offshore hydrophone2016-10-31 06:33:03<br>animation_frame=2016-10-31 06:30<br>LAT=%{lat}<br>LON=%{lon}<br>SPEED (KNOTSx10)=%{customdata[0]}<br>slfdist=%{customdata[1]}<extra></extra>",
           "hovertext": [
            "offshore hydrophone"
           ],
           "lat": [
            44.2284
           ],
           "legendgroup": "offshore hydrophone2016-10-31 06:33:03",
           "lon": [
            -124.57144
           ],
           "marker": {
            "color": "#FECB52"
           },
           "mode": "markers",
           "name": "offshore hydrophone2016-10-31 06:33:03",
           "showlegend": true,
           "subplot": "mapbox",
           "type": "scattermapbox"
          },
          {
           "customdata": [
            [
             0,
             0
            ]
           ],
           "hovertemplate": "<b>%{hovertext}</b><br><br>VESSEL NAME=shelf hydrophone2016-10-31 06:33:09<br>animation_frame=2016-10-31 06:30<br>LAT=%{lat}<br>LON=%{lon}<br>SPEED (KNOTSx10)=%{customdata[0]}<br>slfdist=%{customdata[1]}<extra></extra>",
           "hovertext": [
            "shelf hydrophone"
           ],
           "lat": [
            44.38132
           ],
           "legendgroup": "shelf hydrophone2016-10-31 06:33:09",
           "lon": [
            -124.18216
           ],
           "marker": {
            "color": "#636efa"
           },
           "mode": "markers",
           "name": "shelf hydrophone2016-10-31 06:33:09",
           "showlegend": true,
           "subplot": "mapbox",
           "type": "scattermapbox"
          },
          {
           "customdata": [
            [
             10,
             0
            ]
           ],
           "hovertemplate": "<b>%{hovertext}</b><br><br>VESSEL NAME=offshore hydrophone2016-10-31 06:33:09<br>animation_frame=2016-10-31 06:30<br>LAT=%{lat}<br>LON=%{lon}<br>SPEED (KNOTSx10)=%{customdata[0]}<br>slfdist=%{customdata[1]}<extra></extra>",
           "hovertext": [
            "offshore hydrophone"
           ],
           "lat": [
            44.2284
           ],
           "legendgroup": "offshore hydrophone2016-10-31 06:33:09",
           "lon": [
            -124.57144
           ],
           "marker": {
            "color": "#EF553B"
           },
           "mode": "markers",
           "name": "offshore hydrophone2016-10-31 06:33:09",
           "showlegend": true,
           "subplot": "mapbox",
           "type": "scattermapbox"
          },
          {
           "customdata": [
            [
             0,
             0
            ]
           ],
           "hovertemplate": "<b>%{hovertext}</b><br><br>VESSEL NAME=shelf hydrophone2016-10-31 06:33:17<br>animation_frame=2016-10-31 06:30<br>LAT=%{lat}<br>LON=%{lon}<br>SPEED (KNOTSx10)=%{customdata[0]}<br>slfdist=%{customdata[1]}<extra></extra>",
           "hovertext": [
            "shelf hydrophone"
           ],
           "lat": [
            44.38132
           ],
           "legendgroup": "shelf hydrophone2016-10-31 06:33:17",
           "lon": [
            -124.18216
           ],
           "marker": {
            "color": "#00cc96"
           },
           "mode": "markers",
           "name": "shelf hydrophone2016-10-31 06:33:17",
           "showlegend": true,
           "subplot": "mapbox",
           "type": "scattermapbox"
          },
          {
           "customdata": [
            [
             10,
             0
            ]
           ],
           "hovertemplate": "<b>%{hovertext}</b><br><br>VESSEL NAME=offshore hydrophone2016-10-31 06:33:17<br>animation_frame=2016-10-31 06:30<br>LAT=%{lat}<br>LON=%{lon}<br>SPEED (KNOTSx10)=%{customdata[0]}<br>slfdist=%{customdata[1]}<extra></extra>",
           "hovertext": [
            "offshore hydrophone"
           ],
           "lat": [
            44.2284
           ],
           "legendgroup": "offshore hydrophone2016-10-31 06:33:17",
           "lon": [
            -124.57144
           ],
           "marker": {
            "color": "#ab63fa"
           },
           "mode": "markers",
           "name": "offshore hydrophone2016-10-31 06:33:17",
           "showlegend": true,
           "subplot": "mapbox",
           "type": "scattermapbox"
          },
          {
           "customdata": [
            [
             0,
             0
            ]
           ],
           "hovertemplate": "<b>%{hovertext}</b><br><br>VESSEL NAME=shelf hydrophone2016-10-31 06:33:37<br>animation_frame=2016-10-31 06:30<br>LAT=%{lat}<br>LON=%{lon}<br>SPEED (KNOTSx10)=%{customdata[0]}<br>slfdist=%{customdata[1]}<extra></extra>",
           "hovertext": [
            "shelf hydrophone"
           ],
           "lat": [
            44.38132
           ],
           "legendgroup": "shelf hydrophone2016-10-31 06:33:37",
           "lon": [
            -124.18216
           ],
           "marker": {
            "color": "#FFA15A"
           },
           "mode": "markers",
           "name": "shelf hydrophone2016-10-31 06:33:37",
           "showlegend": true,
           "subplot": "mapbox",
           "type": "scattermapbox"
          },
          {
           "customdata": [
            [
             10,
             0
            ]
           ],
           "hovertemplate": "<b>%{hovertext}</b><br><br>VESSEL NAME=offshore hydrophone2016-10-31 06:33:37<br>animation_frame=2016-10-31 06:30<br>LAT=%{lat}<br>LON=%{lon}<br>SPEED (KNOTSx10)=%{customdata[0]}<br>slfdist=%{customdata[1]}<extra></extra>",
           "hovertext": [
            "offshore hydrophone"
           ],
           "lat": [
            44.2284
           ],
           "legendgroup": "offshore hydrophone2016-10-31 06:33:37",
           "lon": [
            -124.57144
           ],
           "marker": {
            "color": "#19d3f3"
           },
           "mode": "markers",
           "name": "offshore hydrophone2016-10-31 06:33:37",
           "showlegend": true,
           "subplot": "mapbox",
           "type": "scattermapbox"
          },
          {
           "customdata": [
            [
             0,
             0
            ],
            [
             0,
             0
            ]
           ],
           "hovertemplate": "<b>%{hovertext}</b><br><br>VESSEL NAME=shelf hydrophone2016-10-31 06:33:40<br>animation_frame=2016-10-31 06:30<br>LAT=%{lat}<br>LON=%{lon}<br>SPEED (KNOTSx10)=%{customdata[0]}<br>slfdist=%{customdata[1]}<extra></extra>",
           "hovertext": [
            "shelf hydrophone",
            "shelf hydrophone"
           ],
           "lat": [
            44.38132,
            44.38132
           ],
           "legendgroup": "shelf hydrophone2016-10-31 06:33:40",
           "lon": [
            -124.18216,
            -124.18216
           ],
           "marker": {
            "color": "#FF6692"
           },
           "mode": "markers",
           "name": "shelf hydrophone2016-10-31 06:33:40",
           "showlegend": true,
           "subplot": "mapbox",
           "type": "scattermapbox"
          },
          {
           "customdata": [
            [
             10,
             0
            ],
            [
             10,
             0
            ]
           ],
           "hovertemplate": "<b>%{hovertext}</b><br><br>VESSEL NAME=offshore hydrophone2016-10-31 06:33:40<br>animation_frame=2016-10-31 06:30<br>LAT=%{lat}<br>LON=%{lon}<br>SPEED (KNOTSx10)=%{customdata[0]}<br>slfdist=%{customdata[1]}<extra></extra>",
           "hovertext": [
            "offshore hydrophone",
            "offshore hydrophone"
           ],
           "lat": [
            44.2284,
            44.2284
           ],
           "legendgroup": "offshore hydrophone2016-10-31 06:33:40",
           "lon": [
            -124.57144,
            -124.57144
           ],
           "marker": {
            "color": "#B6E880"
           },
           "mode": "markers",
           "name": "offshore hydrophone2016-10-31 06:33:40",
           "showlegend": true,
           "subplot": "mapbox",
           "type": "scattermapbox"
          },
          {
           "customdata": [
            [
             0,
             0
            ]
           ],
           "hovertemplate": "<b>%{hovertext}</b><br><br>VESSEL NAME=shelf hydrophone2016-10-31 06:33:47<br>animation_frame=2016-10-31 06:30<br>LAT=%{lat}<br>LON=%{lon}<br>SPEED (KNOTSx10)=%{customdata[0]}<br>slfdist=%{customdata[1]}<extra></extra>",
           "hovertext": [
            "shelf hydrophone"
           ],
           "lat": [
            44.38132
           ],
           "legendgroup": "shelf hydrophone2016-10-31 06:33:47",
           "lon": [
            -124.18216
           ],
           "marker": {
            "color": "#FF97FF"
           },
           "mode": "markers",
           "name": "shelf hydrophone2016-10-31 06:33:47",
           "showlegend": true,
           "subplot": "mapbox",
           "type": "scattermapbox"
          },
          {
           "customdata": [
            [
             10,
             0
            ]
           ],
           "hovertemplate": "<b>%{hovertext}</b><br><br>VESSEL NAME=offshore hydrophone2016-10-31 06:33:47<br>animation_frame=2016-10-31 06:30<br>LAT=%{lat}<br>LON=%{lon}<br>SPEED (KNOTSx10)=%{customdata[0]}<br>slfdist=%{customdata[1]}<extra></extra>",
           "hovertext": [
            "offshore hydrophone"
           ],
           "lat": [
            44.2284
           ],
           "legendgroup": "offshore hydrophone2016-10-31 06:33:47",
           "lon": [
            -124.57144
           ],
           "marker": {
            "color": "#FECB52"
           },
           "mode": "markers",
           "name": "offshore hydrophone2016-10-31 06:33:47",
           "showlegend": true,
           "subplot": "mapbox",
           "type": "scattermapbox"
          },
          {
           "customdata": [
            [
             0,
             0
            ]
           ],
           "hovertemplate": "<b>%{hovertext}</b><br><br>VESSEL NAME=shelf hydrophone2016-10-31 06:35:00<br>animation_frame=2016-10-31 06:30<br>LAT=%{lat}<br>LON=%{lon}<br>SPEED (KNOTSx10)=%{customdata[0]}<br>slfdist=%{customdata[1]}<extra></extra>",
           "hovertext": [
            "shelf hydrophone"
           ],
           "lat": [
            44.38132
           ],
           "legendgroup": "shelf hydrophone2016-10-31 06:35:00",
           "lon": [
            -124.18216
           ],
           "marker": {
            "color": "#636efa"
           },
           "mode": "markers",
           "name": "shelf hydrophone2016-10-31 06:35:00",
           "showlegend": true,
           "subplot": "mapbox",
           "type": "scattermapbox"
          },
          {
           "customdata": [
            [
             10,
             0
            ]
           ],
           "hovertemplate": "<b>%{hovertext}</b><br><br>VESSEL NAME=offshore hydrophone2016-10-31 06:35:00<br>animation_frame=2016-10-31 06:30<br>LAT=%{lat}<br>LON=%{lon}<br>SPEED (KNOTSx10)=%{customdata[0]}<br>slfdist=%{customdata[1]}<extra></extra>",
           "hovertext": [
            "offshore hydrophone"
           ],
           "lat": [
            44.2284
           ],
           "legendgroup": "offshore hydrophone2016-10-31 06:35:00",
           "lon": [
            -124.57144
           ],
           "marker": {
            "color": "#EF553B"
           },
           "mode": "markers",
           "name": "offshore hydrophone2016-10-31 06:35:00",
           "showlegend": true,
           "subplot": "mapbox",
           "type": "scattermapbox"
          },
          {
           "customdata": [
            [
             0,
             0
            ]
           ],
           "hovertemplate": "<b>%{hovertext}</b><br><br>VESSEL NAME=shelf hydrophone2016-10-31 06:35:06<br>animation_frame=2016-10-31 06:30<br>LAT=%{lat}<br>LON=%{lon}<br>SPEED (KNOTSx10)=%{customdata[0]}<br>slfdist=%{customdata[1]}<extra></extra>",
           "hovertext": [
            "shelf hydrophone"
           ],
           "lat": [
            44.38132
           ],
           "legendgroup": "shelf hydrophone2016-10-31 06:35:06",
           "lon": [
            -124.18216
           ],
           "marker": {
            "color": "#00cc96"
           },
           "mode": "markers",
           "name": "shelf hydrophone2016-10-31 06:35:06",
           "showlegend": true,
           "subplot": "mapbox",
           "type": "scattermapbox"
          },
          {
           "customdata": [
            [
             10,
             0
            ]
           ],
           "hovertemplate": "<b>%{hovertext}</b><br><br>VESSEL NAME=offshore hydrophone2016-10-31 06:35:06<br>animation_frame=2016-10-31 06:30<br>LAT=%{lat}<br>LON=%{lon}<br>SPEED (KNOTSx10)=%{customdata[0]}<br>slfdist=%{customdata[1]}<extra></extra>",
           "hovertext": [
            "offshore hydrophone"
           ],
           "lat": [
            44.2284
           ],
           "legendgroup": "offshore hydrophone2016-10-31 06:35:06",
           "lon": [
            -124.57144
           ],
           "marker": {
            "color": "#ab63fa"
           },
           "mode": "markers",
           "name": "offshore hydrophone2016-10-31 06:35:06",
           "showlegend": true,
           "subplot": "mapbox",
           "type": "scattermapbox"
          },
          {
           "customdata": [
            [
             0,
             0
            ]
           ],
           "hovertemplate": "<b>%{hovertext}</b><br><br>VESSEL NAME=shelf hydrophone2016-10-31 06:35:33<br>animation_frame=2016-10-31 06:30<br>LAT=%{lat}<br>LON=%{lon}<br>SPEED (KNOTSx10)=%{customdata[0]}<br>slfdist=%{customdata[1]}<extra></extra>",
           "hovertext": [
            "shelf hydrophone"
           ],
           "lat": [
            44.38132
           ],
           "legendgroup": "shelf hydrophone2016-10-31 06:35:33",
           "lon": [
            -124.18216
           ],
           "marker": {
            "color": "#FFA15A"
           },
           "mode": "markers",
           "name": "shelf hydrophone2016-10-31 06:35:33",
           "showlegend": true,
           "subplot": "mapbox",
           "type": "scattermapbox"
          },
          {
           "customdata": [
            [
             10,
             0
            ]
           ],
           "hovertemplate": "<b>%{hovertext}</b><br><br>VESSEL NAME=offshore hydrophone2016-10-31 06:35:33<br>animation_frame=2016-10-31 06:30<br>LAT=%{lat}<br>LON=%{lon}<br>SPEED (KNOTSx10)=%{customdata[0]}<br>slfdist=%{customdata[1]}<extra></extra>",
           "hovertext": [
            "offshore hydrophone"
           ],
           "lat": [
            44.2284
           ],
           "legendgroup": "offshore hydrophone2016-10-31 06:35:33",
           "lon": [
            -124.57144
           ],
           "marker": {
            "color": "#19d3f3"
           },
           "mode": "markers",
           "name": "offshore hydrophone2016-10-31 06:35:33",
           "showlegend": true,
           "subplot": "mapbox",
           "type": "scattermapbox"
          },
          {
           "customdata": [
            [
             0,
             0
            ]
           ],
           "hovertemplate": "<b>%{hovertext}</b><br><br>VESSEL NAME=shelf hydrophone2016-10-31 06:35:38<br>animation_frame=2016-10-31 06:30<br>LAT=%{lat}<br>LON=%{lon}<br>SPEED (KNOTSx10)=%{customdata[0]}<br>slfdist=%{customdata[1]}<extra></extra>",
           "hovertext": [
            "shelf hydrophone"
           ],
           "lat": [
            44.38132
           ],
           "legendgroup": "shelf hydrophone2016-10-31 06:35:38",
           "lon": [
            -124.18216
           ],
           "marker": {
            "color": "#FF6692"
           },
           "mode": "markers",
           "name": "shelf hydrophone2016-10-31 06:35:38",
           "showlegend": true,
           "subplot": "mapbox",
           "type": "scattermapbox"
          },
          {
           "customdata": [
            [
             10,
             0
            ]
           ],
           "hovertemplate": "<b>%{hovertext}</b><br><br>VESSEL NAME=offshore hydrophone2016-10-31 06:35:38<br>animation_frame=2016-10-31 06:30<br>LAT=%{lat}<br>LON=%{lon}<br>SPEED (KNOTSx10)=%{customdata[0]}<br>slfdist=%{customdata[1]}<extra></extra>",
           "hovertext": [
            "offshore hydrophone"
           ],
           "lat": [
            44.2284
           ],
           "legendgroup": "offshore hydrophone2016-10-31 06:35:38",
           "lon": [
            -124.57144
           ],
           "marker": {
            "color": "#B6E880"
           },
           "mode": "markers",
           "name": "offshore hydrophone2016-10-31 06:35:38",
           "showlegend": true,
           "subplot": "mapbox",
           "type": "scattermapbox"
          },
          {
           "customdata": [
            [
             0,
             0
            ]
           ],
           "hovertemplate": "<b>%{hovertext}</b><br><br>VESSEL NAME=shelf hydrophone2016-10-31 06:36:05<br>animation_frame=2016-10-31 06:30<br>LAT=%{lat}<br>LON=%{lon}<br>SPEED (KNOTSx10)=%{customdata[0]}<br>slfdist=%{customdata[1]}<extra></extra>",
           "hovertext": [
            "shelf hydrophone"
           ],
           "lat": [
            44.38132
           ],
           "legendgroup": "shelf hydrophone2016-10-31 06:36:05",
           "lon": [
            -124.18216
           ],
           "marker": {
            "color": "#FF97FF"
           },
           "mode": "markers",
           "name": "shelf hydrophone2016-10-31 06:36:05",
           "showlegend": true,
           "subplot": "mapbox",
           "type": "scattermapbox"
          },
          {
           "customdata": [
            [
             10,
             0
            ]
           ],
           "hovertemplate": "<b>%{hovertext}</b><br><br>VESSEL NAME=offshore hydrophone2016-10-31 06:36:05<br>animation_frame=2016-10-31 06:30<br>LAT=%{lat}<br>LON=%{lon}<br>SPEED (KNOTSx10)=%{customdata[0]}<br>slfdist=%{customdata[1]}<extra></extra>",
           "hovertext": [
            "offshore hydrophone"
           ],
           "lat": [
            44.2284
           ],
           "legendgroup": "offshore hydrophone2016-10-31 06:36:05",
           "lon": [
            -124.57144
           ],
           "marker": {
            "color": "#FECB52"
           },
           "mode": "markers",
           "name": "offshore hydrophone2016-10-31 06:36:05",
           "showlegend": true,
           "subplot": "mapbox",
           "type": "scattermapbox"
          },
          {
           "customdata": [
            [
             0,
             0
            ]
           ],
           "hovertemplate": "<b>%{hovertext}</b><br><br>VESSEL NAME=shelf hydrophone2016-10-31 06:36:06<br>animation_frame=2016-10-31 06:30<br>LAT=%{lat}<br>LON=%{lon}<br>SPEED (KNOTSx10)=%{customdata[0]}<br>slfdist=%{customdata[1]}<extra></extra>",
           "hovertext": [
            "shelf hydrophone"
           ],
           "lat": [
            44.38132
           ],
           "legendgroup": "shelf hydrophone2016-10-31 06:36:06",
           "lon": [
            -124.18216
           ],
           "marker": {
            "color": "#636efa"
           },
           "mode": "markers",
           "name": "shelf hydrophone2016-10-31 06:36:06",
           "showlegend": true,
           "subplot": "mapbox",
           "type": "scattermapbox"
          },
          {
           "customdata": [
            [
             10,
             0
            ]
           ],
           "hovertemplate": "<b>%{hovertext}</b><br><br>VESSEL NAME=offshore hydrophone2016-10-31 06:36:06<br>animation_frame=2016-10-31 06:30<br>LAT=%{lat}<br>LON=%{lon}<br>SPEED (KNOTSx10)=%{customdata[0]}<br>slfdist=%{customdata[1]}<extra></extra>",
           "hovertext": [
            "offshore hydrophone"
           ],
           "lat": [
            44.2284
           ],
           "legendgroup": "offshore hydrophone2016-10-31 06:36:06",
           "lon": [
            -124.57144
           ],
           "marker": {
            "color": "#EF553B"
           },
           "mode": "markers",
           "name": "offshore hydrophone2016-10-31 06:36:06",
           "showlegend": true,
           "subplot": "mapbox",
           "type": "scattermapbox"
          },
          {
           "customdata": [
            [
             0,
             0
            ]
           ],
           "hovertemplate": "<b>%{hovertext}</b><br><br>VESSEL NAME=shelf hydrophone2016-10-31 06:36:25<br>animation_frame=2016-10-31 06:30<br>LAT=%{lat}<br>LON=%{lon}<br>SPEED (KNOTSx10)=%{customdata[0]}<br>slfdist=%{customdata[1]}<extra></extra>",
           "hovertext": [
            "shelf hydrophone"
           ],
           "lat": [
            44.38132
           ],
           "legendgroup": "shelf hydrophone2016-10-31 06:36:25",
           "lon": [
            -124.18216
           ],
           "marker": {
            "color": "#00cc96"
           },
           "mode": "markers",
           "name": "shelf hydrophone2016-10-31 06:36:25",
           "showlegend": true,
           "subplot": "mapbox",
           "type": "scattermapbox"
          },
          {
           "customdata": [
            [
             10,
             0
            ]
           ],
           "hovertemplate": "<b>%{hovertext}</b><br><br>VESSEL NAME=offshore hydrophone2016-10-31 06:36:25<br>animation_frame=2016-10-31 06:30<br>LAT=%{lat}<br>LON=%{lon}<br>SPEED (KNOTSx10)=%{customdata[0]}<br>slfdist=%{customdata[1]}<extra></extra>",
           "hovertext": [
            "offshore hydrophone"
           ],
           "lat": [
            44.2284
           ],
           "legendgroup": "offshore hydrophone2016-10-31 06:36:25",
           "lon": [
            -124.57144
           ],
           "marker": {
            "color": "#ab63fa"
           },
           "mode": "markers",
           "name": "offshore hydrophone2016-10-31 06:36:25",
           "showlegend": true,
           "subplot": "mapbox",
           "type": "scattermapbox"
          },
          {
           "customdata": [
            [
             0,
             0
            ]
           ],
           "hovertemplate": "<b>%{hovertext}</b><br><br>VESSEL NAME=shelf hydrophone2016-10-31 06:36:53<br>animation_frame=2016-10-31 06:30<br>LAT=%{lat}<br>LON=%{lon}<br>SPEED (KNOTSx10)=%{customdata[0]}<br>slfdist=%{customdata[1]}<extra></extra>",
           "hovertext": [
            "shelf hydrophone"
           ],
           "lat": [
            44.38132
           ],
           "legendgroup": "shelf hydrophone2016-10-31 06:36:53",
           "lon": [
            -124.18216
           ],
           "marker": {
            "color": "#FFA15A"
           },
           "mode": "markers",
           "name": "shelf hydrophone2016-10-31 06:36:53",
           "showlegend": true,
           "subplot": "mapbox",
           "type": "scattermapbox"
          },
          {
           "customdata": [
            [
             10,
             0
            ]
           ],
           "hovertemplate": "<b>%{hovertext}</b><br><br>VESSEL NAME=offshore hydrophone2016-10-31 06:36:53<br>animation_frame=2016-10-31 06:30<br>LAT=%{lat}<br>LON=%{lon}<br>SPEED (KNOTSx10)=%{customdata[0]}<br>slfdist=%{customdata[1]}<extra></extra>",
           "hovertext": [
            "offshore hydrophone"
           ],
           "lat": [
            44.2284
           ],
           "legendgroup": "offshore hydrophone2016-10-31 06:36:53",
           "lon": [
            -124.57144
           ],
           "marker": {
            "color": "#19d3f3"
           },
           "mode": "markers",
           "name": "offshore hydrophone2016-10-31 06:36:53",
           "showlegend": true,
           "subplot": "mapbox",
           "type": "scattermapbox"
          },
          {
           "customdata": [
            [
             0,
             0
            ]
           ],
           "hovertemplate": "<b>%{hovertext}</b><br><br>VESSEL NAME=shelf hydrophone2016-10-31 06:37:29<br>animation_frame=2016-10-31 06:30<br>LAT=%{lat}<br>LON=%{lon}<br>SPEED (KNOTSx10)=%{customdata[0]}<br>slfdist=%{customdata[1]}<extra></extra>",
           "hovertext": [
            "shelf hydrophone"
           ],
           "lat": [
            44.38132
           ],
           "legendgroup": "shelf hydrophone2016-10-31 06:37:29",
           "lon": [
            -124.18216
           ],
           "marker": {
            "color": "#FF6692"
           },
           "mode": "markers",
           "name": "shelf hydrophone2016-10-31 06:37:29",
           "showlegend": true,
           "subplot": "mapbox",
           "type": "scattermapbox"
          },
          {
           "customdata": [
            [
             10,
             0
            ]
           ],
           "hovertemplate": "<b>%{hovertext}</b><br><br>VESSEL NAME=offshore hydrophone2016-10-31 06:37:29<br>animation_frame=2016-10-31 06:30<br>LAT=%{lat}<br>LON=%{lon}<br>SPEED (KNOTSx10)=%{customdata[0]}<br>slfdist=%{customdata[1]}<extra></extra>",
           "hovertext": [
            "offshore hydrophone"
           ],
           "lat": [
            44.2284
           ],
           "legendgroup": "offshore hydrophone2016-10-31 06:37:29",
           "lon": [
            -124.57144
           ],
           "marker": {
            "color": "#B6E880"
           },
           "mode": "markers",
           "name": "offshore hydrophone2016-10-31 06:37:29",
           "showlegend": true,
           "subplot": "mapbox",
           "type": "scattermapbox"
          },
          {
           "customdata": [
            [
             0,
             0
            ]
           ],
           "hovertemplate": "<b>%{hovertext}</b><br><br>VESSEL NAME=shelf hydrophone2016-10-31 06:37:39<br>animation_frame=2016-10-31 06:30<br>LAT=%{lat}<br>LON=%{lon}<br>SPEED (KNOTSx10)=%{customdata[0]}<br>slfdist=%{customdata[1]}<extra></extra>",
           "hovertext": [
            "shelf hydrophone"
           ],
           "lat": [
            44.38132
           ],
           "legendgroup": "shelf hydrophone2016-10-31 06:37:39",
           "lon": [
            -124.18216
           ],
           "marker": {
            "color": "#FF97FF"
           },
           "mode": "markers",
           "name": "shelf hydrophone2016-10-31 06:37:39",
           "showlegend": true,
           "subplot": "mapbox",
           "type": "scattermapbox"
          },
          {
           "customdata": [
            [
             10,
             0
            ]
           ],
           "hovertemplate": "<b>%{hovertext}</b><br><br>VESSEL NAME=offshore hydrophone2016-10-31 06:37:39<br>animation_frame=2016-10-31 06:30<br>LAT=%{lat}<br>LON=%{lon}<br>SPEED (KNOTSx10)=%{customdata[0]}<br>slfdist=%{customdata[1]}<extra></extra>",
           "hovertext": [
            "offshore hydrophone"
           ],
           "lat": [
            44.2284
           ],
           "legendgroup": "offshore hydrophone2016-10-31 06:37:39",
           "lon": [
            -124.57144
           ],
           "marker": {
            "color": "#FECB52"
           },
           "mode": "markers",
           "name": "offshore hydrophone2016-10-31 06:37:39",
           "showlegend": true,
           "subplot": "mapbox",
           "type": "scattermapbox"
          },
          {
           "customdata": [
            [
             0,
             0
            ]
           ],
           "hovertemplate": "<b>%{hovertext}</b><br><br>VESSEL NAME=shelf hydrophone2016-10-31 06:38:03<br>animation_frame=2016-10-31 06:30<br>LAT=%{lat}<br>LON=%{lon}<br>SPEED (KNOTSx10)=%{customdata[0]}<br>slfdist=%{customdata[1]}<extra></extra>",
           "hovertext": [
            "shelf hydrophone"
           ],
           "lat": [
            44.38132
           ],
           "legendgroup": "shelf hydrophone2016-10-31 06:38:03",
           "lon": [
            -124.18216
           ],
           "marker": {
            "color": "#636efa"
           },
           "mode": "markers",
           "name": "shelf hydrophone2016-10-31 06:38:03",
           "showlegend": true,
           "subplot": "mapbox",
           "type": "scattermapbox"
          },
          {
           "customdata": [
            [
             10,
             0
            ]
           ],
           "hovertemplate": "<b>%{hovertext}</b><br><br>VESSEL NAME=offshore hydrophone2016-10-31 06:38:03<br>animation_frame=2016-10-31 06:30<br>LAT=%{lat}<br>LON=%{lon}<br>SPEED (KNOTSx10)=%{customdata[0]}<br>slfdist=%{customdata[1]}<extra></extra>",
           "hovertext": [
            "offshore hydrophone"
           ],
           "lat": [
            44.2284
           ],
           "legendgroup": "offshore hydrophone2016-10-31 06:38:03",
           "lon": [
            -124.57144
           ],
           "marker": {
            "color": "#EF553B"
           },
           "mode": "markers",
           "name": "offshore hydrophone2016-10-31 06:38:03",
           "showlegend": true,
           "subplot": "mapbox",
           "type": "scattermapbox"
          },
          {
           "customdata": [
            [
             0,
             0
            ]
           ],
           "hovertemplate": "<b>%{hovertext}</b><br><br>VESSEL NAME=shelf hydrophone2016-10-31 06:38:18<br>animation_frame=2016-10-31 06:30<br>LAT=%{lat}<br>LON=%{lon}<br>SPEED (KNOTSx10)=%{customdata[0]}<br>slfdist=%{customdata[1]}<extra></extra>",
           "hovertext": [
            "shelf hydrophone"
           ],
           "lat": [
            44.38132
           ],
           "legendgroup": "shelf hydrophone2016-10-31 06:38:18",
           "lon": [
            -124.18216
           ],
           "marker": {
            "color": "#00cc96"
           },
           "mode": "markers",
           "name": "shelf hydrophone2016-10-31 06:38:18",
           "showlegend": true,
           "subplot": "mapbox",
           "type": "scattermapbox"
          },
          {
           "customdata": [
            [
             10,
             0
            ]
           ],
           "hovertemplate": "<b>%{hovertext}</b><br><br>VESSEL NAME=offshore hydrophone2016-10-31 06:38:18<br>animation_frame=2016-10-31 06:30<br>LAT=%{lat}<br>LON=%{lon}<br>SPEED (KNOTSx10)=%{customdata[0]}<br>slfdist=%{customdata[1]}<extra></extra>",
           "hovertext": [
            "offshore hydrophone"
           ],
           "lat": [
            44.2284
           ],
           "legendgroup": "offshore hydrophone2016-10-31 06:38:18",
           "lon": [
            -124.57144
           ],
           "marker": {
            "color": "#ab63fa"
           },
           "mode": "markers",
           "name": "offshore hydrophone2016-10-31 06:38:18",
           "showlegend": true,
           "subplot": "mapbox",
           "type": "scattermapbox"
          },
          {
           "customdata": [
            [
             0,
             0
            ]
           ],
           "hovertemplate": "<b>%{hovertext}</b><br><br>VESSEL NAME=shelf hydrophone2016-10-31 06:38:27<br>animation_frame=2016-10-31 06:30<br>LAT=%{lat}<br>LON=%{lon}<br>SPEED (KNOTSx10)=%{customdata[0]}<br>slfdist=%{customdata[1]}<extra></extra>",
           "hovertext": [
            "shelf hydrophone"
           ],
           "lat": [
            44.38132
           ],
           "legendgroup": "shelf hydrophone2016-10-31 06:38:27",
           "lon": [
            -124.18216
           ],
           "marker": {
            "color": "#FFA15A"
           },
           "mode": "markers",
           "name": "shelf hydrophone2016-10-31 06:38:27",
           "showlegend": true,
           "subplot": "mapbox",
           "type": "scattermapbox"
          },
          {
           "customdata": [
            [
             10,
             0
            ]
           ],
           "hovertemplate": "<b>%{hovertext}</b><br><br>VESSEL NAME=offshore hydrophone2016-10-31 06:38:27<br>animation_frame=2016-10-31 06:30<br>LAT=%{lat}<br>LON=%{lon}<br>SPEED (KNOTSx10)=%{customdata[0]}<br>slfdist=%{customdata[1]}<extra></extra>",
           "hovertext": [
            "offshore hydrophone"
           ],
           "lat": [
            44.2284
           ],
           "legendgroup": "offshore hydrophone2016-10-31 06:38:27",
           "lon": [
            -124.57144
           ],
           "marker": {
            "color": "#19d3f3"
           },
           "mode": "markers",
           "name": "offshore hydrophone2016-10-31 06:38:27",
           "showlegend": true,
           "subplot": "mapbox",
           "type": "scattermapbox"
          },
          {
           "customdata": [
            [
             0,
             0
            ]
           ],
           "hovertemplate": "<b>%{hovertext}</b><br><br>VESSEL NAME=shelf hydrophone2016-10-31 06:38:37<br>animation_frame=2016-10-31 06:30<br>LAT=%{lat}<br>LON=%{lon}<br>SPEED (KNOTSx10)=%{customdata[0]}<br>slfdist=%{customdata[1]}<extra></extra>",
           "hovertext": [
            "shelf hydrophone"
           ],
           "lat": [
            44.38132
           ],
           "legendgroup": "shelf hydrophone2016-10-31 06:38:37",
           "lon": [
            -124.18216
           ],
           "marker": {
            "color": "#FF6692"
           },
           "mode": "markers",
           "name": "shelf hydrophone2016-10-31 06:38:37",
           "showlegend": true,
           "subplot": "mapbox",
           "type": "scattermapbox"
          },
          {
           "customdata": [
            [
             10,
             0
            ]
           ],
           "hovertemplate": "<b>%{hovertext}</b><br><br>VESSEL NAME=offshore hydrophone2016-10-31 06:38:37<br>animation_frame=2016-10-31 06:30<br>LAT=%{lat}<br>LON=%{lon}<br>SPEED (KNOTSx10)=%{customdata[0]}<br>slfdist=%{customdata[1]}<extra></extra>",
           "hovertext": [
            "offshore hydrophone"
           ],
           "lat": [
            44.2284
           ],
           "legendgroup": "offshore hydrophone2016-10-31 06:38:37",
           "lon": [
            -124.57144
           ],
           "marker": {
            "color": "#B6E880"
           },
           "mode": "markers",
           "name": "offshore hydrophone2016-10-31 06:38:37",
           "showlegend": true,
           "subplot": "mapbox",
           "type": "scattermapbox"
          },
          {
           "customdata": [
            [
             0,
             0
            ]
           ],
           "hovertemplate": "<b>%{hovertext}</b><br><br>VESSEL NAME=shelf hydrophone2016-10-31 06:38:47<br>animation_frame=2016-10-31 06:30<br>LAT=%{lat}<br>LON=%{lon}<br>SPEED (KNOTSx10)=%{customdata[0]}<br>slfdist=%{customdata[1]}<extra></extra>",
           "hovertext": [
            "shelf hydrophone"
           ],
           "lat": [
            44.38132
           ],
           "legendgroup": "shelf hydrophone2016-10-31 06:38:47",
           "lon": [
            -124.18216
           ],
           "marker": {
            "color": "#FF97FF"
           },
           "mode": "markers",
           "name": "shelf hydrophone2016-10-31 06:38:47",
           "showlegend": true,
           "subplot": "mapbox",
           "type": "scattermapbox"
          },
          {
           "customdata": [
            [
             10,
             0
            ]
           ],
           "hovertemplate": "<b>%{hovertext}</b><br><br>VESSEL NAME=offshore hydrophone2016-10-31 06:38:47<br>animation_frame=2016-10-31 06:30<br>LAT=%{lat}<br>LON=%{lon}<br>SPEED (KNOTSx10)=%{customdata[0]}<br>slfdist=%{customdata[1]}<extra></extra>",
           "hovertext": [
            "offshore hydrophone"
           ],
           "lat": [
            44.2284
           ],
           "legendgroup": "offshore hydrophone2016-10-31 06:38:47",
           "lon": [
            -124.57144
           ],
           "marker": {
            "color": "#FECB52"
           },
           "mode": "markers",
           "name": "offshore hydrophone2016-10-31 06:38:47",
           "showlegend": true,
           "subplot": "mapbox",
           "type": "scattermapbox"
          },
          {
           "customdata": [
            [
             0,
             0
            ]
           ],
           "hovertemplate": "<b>%{hovertext}</b><br><br>VESSEL NAME=shelf hydrophone2016-10-31 06:39:32<br>animation_frame=2016-10-31 06:30<br>LAT=%{lat}<br>LON=%{lon}<br>SPEED (KNOTSx10)=%{customdata[0]}<br>slfdist=%{customdata[1]}<extra></extra>",
           "hovertext": [
            "shelf hydrophone"
           ],
           "lat": [
            44.38132
           ],
           "legendgroup": "shelf hydrophone2016-10-31 06:39:32",
           "lon": [
            -124.18216
           ],
           "marker": {
            "color": "#636efa"
           },
           "mode": "markers",
           "name": "shelf hydrophone2016-10-31 06:39:32",
           "showlegend": true,
           "subplot": "mapbox",
           "type": "scattermapbox"
          },
          {
           "customdata": [
            [
             10,
             0
            ]
           ],
           "hovertemplate": "<b>%{hovertext}</b><br><br>VESSEL NAME=offshore hydrophone2016-10-31 06:39:32<br>animation_frame=2016-10-31 06:30<br>LAT=%{lat}<br>LON=%{lon}<br>SPEED (KNOTSx10)=%{customdata[0]}<br>slfdist=%{customdata[1]}<extra></extra>",
           "hovertext": [
            "offshore hydrophone"
           ],
           "lat": [
            44.2284
           ],
           "legendgroup": "offshore hydrophone2016-10-31 06:39:32",
           "lon": [
            -124.57144
           ],
           "marker": {
            "color": "#EF553B"
           },
           "mode": "markers",
           "name": "offshore hydrophone2016-10-31 06:39:32",
           "showlegend": true,
           "subplot": "mapbox",
           "type": "scattermapbox"
          },
          {
           "customdata": [
            [
             0,
             0
            ]
           ],
           "hovertemplate": "<b>%{hovertext}</b><br><br>VESSEL NAME=shelf hydrophone2016-10-31 06:39:53<br>animation_frame=2016-10-31 06:30<br>LAT=%{lat}<br>LON=%{lon}<br>SPEED (KNOTSx10)=%{customdata[0]}<br>slfdist=%{customdata[1]}<extra></extra>",
           "hovertext": [
            "shelf hydrophone"
           ],
           "lat": [
            44.38132
           ],
           "legendgroup": "shelf hydrophone2016-10-31 06:39:53",
           "lon": [
            -124.18216
           ],
           "marker": {
            "color": "#00cc96"
           },
           "mode": "markers",
           "name": "shelf hydrophone2016-10-31 06:39:53",
           "showlegend": true,
           "subplot": "mapbox",
           "type": "scattermapbox"
          },
          {
           "customdata": [
            [
             10,
             0
            ]
           ],
           "hovertemplate": "<b>%{hovertext}</b><br><br>VESSEL NAME=offshore hydrophone2016-10-31 06:39:53<br>animation_frame=2016-10-31 06:30<br>LAT=%{lat}<br>LON=%{lon}<br>SPEED (KNOTSx10)=%{customdata[0]}<br>slfdist=%{customdata[1]}<extra></extra>",
           "hovertext": [
            "offshore hydrophone"
           ],
           "lat": [
            44.2284
           ],
           "legendgroup": "offshore hydrophone2016-10-31 06:39:53",
           "lon": [
            -124.57144
           ],
           "marker": {
            "color": "#ab63fa"
           },
           "mode": "markers",
           "name": "offshore hydrophone2016-10-31 06:39:53",
           "showlegend": true,
           "subplot": "mapbox",
           "type": "scattermapbox"
          }
         ],
         "name": "2016-10-31 06:30"
        },
        {
         "data": [
          {
           "customdata": [
            [
             32,
             30.159424614686753
            ],
            [
             32,
             30.256206242934343
            ],
            [
             27,
             30.420508708621693
            ]
           ],
           "hovertemplate": "<b>%{hovertext}</b><br><br>VESSEL NAME=SEEKER<br>animation_frame=2016-10-31 06:40<br>LAT=%{lat}<br>LON=%{lon}<br>SPEED (KNOTSx10)=%{customdata[0]}<br>slfdist=%{customdata[1]}<extra></extra>",
           "hovertext": [
            "Fishing",
            "Fishing",
            "Fishing"
           ],
           "lat": [
            44.5364,
            44.53866,
            44.54176
           ],
           "legendgroup": "SEEKER",
           "lon": [
            -124.7523,
            -124.7532,
            -124.7551
           ],
           "marker": {
            "color": "#636efa"
           },
           "mode": "markers",
           "name": "SEEKER",
           "showlegend": true,
           "subplot": "mapbox",
           "type": "scattermapbox"
          },
          {
           "customdata": [
            [
             53,
             9.464996562342955
            ],
            [
             57,
             9.436599193572713
            ],
            [
             57,
             9.40872344767631
            ],
            [
             54,
             9.390604712443523
            ]
           ],
           "hovertemplate": "<b>%{hovertext}</b><br><br>VESSEL NAME=PACIFIC RAM<br>animation_frame=2016-10-31 06:40<br>LAT=%{lat}<br>LON=%{lon}<br>SPEED (KNOTSx10)=%{customdata[0]}<br>slfdist=%{customdata[1]}<extra></extra>",
           "hovertext": [
            "Factory Trawler",
            "Factory Trawler",
            "Factory Trawler",
            "Factory Trawler"
           ],
           "lat": [
            44.49865,
            44.49661,
            44.49415,
            44.49178
           ],
           "legendgroup": "PACIFIC RAM",
           "lon": [
            -124.2811,
            -124.2846,
            -124.2888,
            -124.2929
           ],
           "marker": {
            "color": "#EF553B"
           },
           "mode": "markers",
           "name": "PACIFIC RAM",
           "showlegend": true,
           "subplot": "mapbox",
           "type": "scattermapbox"
          },
          {
           "customdata": [
            [
             45,
             10.022043718489789
            ],
            [
             45,
             9.959493273498682
            ],
            [
             50,
             9.907127311921531
            ],
            [
             55,
             9.85731983883557
            ]
           ],
           "hovertemplate": "<b>%{hovertext}</b><br><br>VESSEL NAME=LISA MELINDA<br>animation_frame=2016-10-31 06:40<br>LAT=%{lat}<br>LON=%{lon}<br>SPEED (KNOTSx10)=%{customdata[0]}<br>slfdist=%{customdata[1]}<extra></extra>",
           "hovertext": [
            "Fishing Vessel",
            "Fishing Vessel",
            "Fishing Vessel",
            "Fishing Vessel"
           ],
           "lat": [
            44.5153,
            44.51311,
            44.51106,
            44.50886
           ],
           "legendgroup": "LISA MELINDA",
           "lon": [
            -124.2601,
            -124.264,
            -124.2677,
            -124.2717
           ],
           "marker": {
            "color": "#00cc96"
           },
           "mode": "markers",
           "name": "LISA MELINDA",
           "showlegend": true,
           "subplot": "mapbox",
           "type": "scattermapbox"
          },
          {
           "customdata": [
            [
             23,
             32.93188850601652
            ],
            [
             16,
             32.9192635514446
            ]
           ],
           "hovertemplate": "<b>%{hovertext}</b><br><br>VESSEL NAME=MISS BERDIE<br>animation_frame=2016-10-31 06:40<br>LAT=%{lat}<br>LON=%{lon}<br>SPEED (KNOTSx10)=%{customdata[0]}<br>slfdist=%{customdata[1]}<extra></extra>",
           "hovertext": [
            "Unspecified",
            "Unspecified"
           ],
           "lat": [
            44.57356,
            44.57145
           ],
           "legendgroup": "MISS BERDIE",
           "lon": [
            -124.7918,
            -124.7928
           ],
           "marker": {
            "color": "#ab63fa"
           },
           "mode": "markers",
           "name": "MISS BERDIE",
           "showlegend": true,
           "subplot": "mapbox",
           "type": "scattermapbox"
          },
          {
           "customdata": [
            [
             39,
             34.39949130811077
            ],
            [
             39,
             34.445385277184926
            ],
            [
             40,
             34.57355918724693
            ],
            [
             51,
             34.716466158829135
            ]
           ],
           "hovertemplate": "<b>%{hovertext}</b><br><br>VESSEL NAME=ARCTIC STORM<br>animation_frame=2016-10-31 06:40<br>LAT=%{lat}<br>LON=%{lon}<br>SPEED (KNOTSx10)=%{customdata[0]}<br>slfdist=%{customdata[1]}<extra></extra>",
           "hovertext": [
            "Factory Trawler",
            "Factory Trawler",
            "Factory Trawler",
            "Factory Trawler"
           ],
           "lat": [
            44.54122,
            44.5388,
            44.53777,
            44.53984
           ],
           "legendgroup": "ARCTIC STORM",
           "lon": [
            -124.841,
            -124.8431,
            -124.8463,
            -124.8484
           ],
           "marker": {
            "color": "#FFA15A"
           },
           "mode": "markers",
           "name": "ARCTIC STORM",
           "showlegend": true,
           "subplot": "mapbox",
           "type": "scattermapbox"
          },
          {
           "customdata": [
            [
             92,
             19.80187470341387
            ],
            [
             76,
             20.151504135234653
            ],
            [
             88,
             20.43052453078797
            ]
           ],
           "hovertemplate": "<b>%{hovertext}</b><br><br>VESSEL NAME=KEN & AL<br>animation_frame=2016-10-31 06:40<br>LAT=%{lat}<br>LON=%{lon}<br>SPEED (KNOTSx10)=%{customdata[0]}<br>slfdist=%{customdata[1]}<extra></extra>",
           "hovertext": [
            "Fishing",
            "Fishing",
            "Fishing"
           ],
           "lat": [
            44.65264,
            44.65806,
            44.66239
           ],
           "legendgroup": "KEN & AL",
           "lon": [
            -124.312,
            -124.3117,
            -124.3114
           ],
           "marker": {
            "color": "#19d3f3"
           },
           "mode": "markers",
           "name": "KEN & AL",
           "showlegend": true,
           "subplot": "mapbox",
           "type": "scattermapbox"
          },
          {
           "customdata": [
            [
             85,
             14.190886302399969
            ],
            [
             76,
             14.148381760493232
            ],
            [
             76,
             14.11636620930526
            ],
            [
             77,
             14.090509334373886
            ]
           ],
           "hovertemplate": "<b>%{hovertext}</b><br><br>VESSEL NAME=NORTHERN RAM<br>animation_frame=2016-10-31 06:40<br>LAT=%{lat}<br>LON=%{lon}<br>SPEED (KNOTSx10)=%{customdata[0]}<br>slfdist=%{customdata[1]}<extra></extra>",
           "hovertext": [
            "Fishing",
            "Fishing",
            "Fishing",
            "Fishing"
           ],
           "lat": [
            44.57417,
            44.57522,
            44.57633,
            44.57753
           ],
           "legendgroup": "NORTHERN RAM",
           "lon": [
            -124.2814,
            -124.2747,
            -124.2679,
            -124.2605
           ],
           "marker": {
            "color": "#FF6692"
           },
           "mode": "markers",
           "name": "NORTHERN RAM",
           "showlegend": true,
           "subplot": "mapbox",
           "type": "scattermapbox"
          },
          {
           "customdata": [
            [
             36,
             18.12352406308676
            ],
            [
             31,
             18.23636261225507
            ],
            [
             31,
             18.330135512066004
            ],
            [
             35,
             18.429056007702197
            ]
           ],
           "hovertemplate": "<b>%{hovertext}</b><br><br>VESSEL NAME=SEA STORM<br>animation_frame=2016-10-31 06:40<br>LAT=%{lat}<br>LON=%{lon}<br>SPEED (KNOTSx10)=%{customdata[0]}<br>slfdist=%{customdata[1]}<extra></extra>",
           "hovertext": [
            "Trawler",
            "Trawler",
            "Trawler",
            "Trawler"
           ],
           "lat": [
            44.56369,
            44.56306,
            44.56253,
            44.56201
           ],
           "legendgroup": "SEA STORM",
           "lon": [
            -124.4458,
            -124.4498,
            -124.4531,
            -124.4565
           ],
           "marker": {
            "color": "#B6E880"
           },
           "mode": "markers",
           "name": "SEA STORM",
           "showlegend": true,
           "subplot": "mapbox",
           "type": "scattermapbox"
          },
          {
           "customdata": [
            [
             0,
             18.206927813809813
            ]
           ],
           "hovertemplate": "<b>%{hovertext}</b><br><br>VESSEL NAME=PEGASUS<br>animation_frame=2016-10-31 06:40<br>LAT=%{lat}<br>LON=%{lon}<br>SPEED (KNOTSx10)=%{customdata[0]}<br>slfdist=%{customdata[1]}<extra></extra>",
           "hovertext": [
            "Fishing Vessel"
           ],
           "lat": [
            44.62862
           ],
           "legendgroup": "PEGASUS",
           "lon": [
            -124.0543
           ],
           "marker": {
            "color": "#FF97FF"
           },
           "mode": "markers",
           "name": "PEGASUS",
           "showlegend": true,
           "subplot": "mapbox",
           "type": "scattermapbox"
          },
          {
           "customdata": [
            [
             0,
             18.231074077249943
            ]
           ],
           "hovertemplate": "<b>%{hovertext}</b><br><br>VESSEL NAME=WINONA J<br>animation_frame=2016-10-31 06:40<br>LAT=%{lat}<br>LON=%{lon}<br>SPEED (KNOTSx10)=%{customdata[0]}<br>slfdist=%{customdata[1]}<extra></extra>",
           "hovertext": [
            "Fishing"
           ],
           "lat": [
            44.62894
           ],
           "legendgroup": "WINONA J",
           "lon": [
            -124.0541
           ],
           "marker": {
            "color": "#FECB52"
           },
           "mode": "markers",
           "name": "WINONA J",
           "showlegend": true,
           "subplot": "mapbox",
           "type": "scattermapbox"
          },
          {
           "customdata": [
            [
             30,
             29.448352363242762
            ],
            [
             31,
             29.462730880766486
            ],
            [
             33,
             29.502306927411126
            ],
            [
             29,
             29.532262890972234
            ]
           ],
           "hovertemplate": "<b>%{hovertext}</b><br><br>VESSEL NAME=SEADAWN<br>animation_frame=2016-10-31 06:40<br>LAT=%{lat}<br>LON=%{lon}<br>SPEED (KNOTSx10)=%{customdata[0]}<br>slfdist=%{customdata[1]}<extra></extra>",
           "hovertext": [
            "Fishing",
            "Fishing",
            "Fishing",
            "Fishing"
           ],
           "lat": [
            44.51855,
            44.51728,
            44.51432,
            44.51262
           ],
           "legendgroup": "SEADAWN",
           "lon": [
            -124.7459,
            -124.7468,
            -124.749,
            -124.7504
           ],
           "marker": {
            "color": "#636efa"
           },
           "mode": "markers",
           "name": "SEADAWN",
           "showlegend": true,
           "subplot": "mapbox",
           "type": "scattermapbox"
          },
          {
           "customdata": [
            [
             0,
             18.082127730312227
            ]
           ],
           "hovertemplate": "<b>%{hovertext}</b><br><br>VESSEL NAME=DUSK<br>animation_frame=2016-10-31 06:40<br>LAT=%{lat}<br>LON=%{lon}<br>SPEED (KNOTSx10)=%{customdata[0]}<br>slfdist=%{customdata[1]}<extra></extra>",
           "hovertext": [
            "Trawler"
           ],
           "lat": [
            44.62701
           ],
           "legendgroup": "DUSK",
           "lon": [
            -124.0555
           ],
           "marker": {
            "color": "#EF553B"
           },
           "mode": "markers",
           "name": "DUSK",
           "showlegend": true,
           "subplot": "mapbox",
           "type": "scattermapbox"
          },
          {
           "customdata": [
            [
             0,
             0
            ]
           ],
           "hovertemplate": "<b>%{hovertext}</b><br><br>VESSEL NAME=shelf hydrophone2016-10-31 06:40:29<br>animation_frame=2016-10-31 06:40<br>LAT=%{lat}<br>LON=%{lon}<br>SPEED (KNOTSx10)=%{customdata[0]}<br>slfdist=%{customdata[1]}<extra></extra>",
           "hovertext": [
            "shelf hydrophone"
           ],
           "lat": [
            44.38132
           ],
           "legendgroup": "shelf hydrophone2016-10-31 06:40:29",
           "lon": [
            -124.18216
           ],
           "marker": {
            "color": "#FFA15A"
           },
           "mode": "markers",
           "name": "shelf hydrophone2016-10-31 06:40:29",
           "showlegend": true,
           "subplot": "mapbox",
           "type": "scattermapbox"
          },
          {
           "customdata": [
            [
             10,
             0
            ]
           ],
           "hovertemplate": "<b>%{hovertext}</b><br><br>VESSEL NAME=offshore hydrophone2016-10-31 06:40:29<br>animation_frame=2016-10-31 06:40<br>LAT=%{lat}<br>LON=%{lon}<br>SPEED (KNOTSx10)=%{customdata[0]}<br>slfdist=%{customdata[1]}<extra></extra>",
           "hovertext": [
            "offshore hydrophone"
           ],
           "lat": [
            44.2284
           ],
           "legendgroup": "offshore hydrophone2016-10-31 06:40:29",
           "lon": [
            -124.57144
           ],
           "marker": {
            "color": "#19d3f3"
           },
           "mode": "markers",
           "name": "offshore hydrophone2016-10-31 06:40:29",
           "showlegend": true,
           "subplot": "mapbox",
           "type": "scattermapbox"
          },
          {
           "customdata": [
            [
             0,
             0
            ]
           ],
           "hovertemplate": "<b>%{hovertext}</b><br><br>VESSEL NAME=shelf hydrophone2016-10-31 06:40:47<br>animation_frame=2016-10-31 06:40<br>LAT=%{lat}<br>LON=%{lon}<br>SPEED (KNOTSx10)=%{customdata[0]}<br>slfdist=%{customdata[1]}<extra></extra>",
           "hovertext": [
            "shelf hydrophone"
           ],
           "lat": [
            44.38132
           ],
           "legendgroup": "shelf hydrophone2016-10-31 06:40:47",
           "lon": [
            -124.18216
           ],
           "marker": {
            "color": "#FF6692"
           },
           "mode": "markers",
           "name": "shelf hydrophone2016-10-31 06:40:47",
           "showlegend": true,
           "subplot": "mapbox",
           "type": "scattermapbox"
          },
          {
           "customdata": [
            [
             10,
             0
            ]
           ],
           "hovertemplate": "<b>%{hovertext}</b><br><br>VESSEL NAME=offshore hydrophone2016-10-31 06:40:47<br>animation_frame=2016-10-31 06:40<br>LAT=%{lat}<br>LON=%{lon}<br>SPEED (KNOTSx10)=%{customdata[0]}<br>slfdist=%{customdata[1]}<extra></extra>",
           "hovertext": [
            "offshore hydrophone"
           ],
           "lat": [
            44.2284
           ],
           "legendgroup": "offshore hydrophone2016-10-31 06:40:47",
           "lon": [
            -124.57144
           ],
           "marker": {
            "color": "#B6E880"
           },
           "mode": "markers",
           "name": "offshore hydrophone2016-10-31 06:40:47",
           "showlegend": true,
           "subplot": "mapbox",
           "type": "scattermapbox"
          },
          {
           "customdata": [
            [
             0,
             0
            ]
           ],
           "hovertemplate": "<b>%{hovertext}</b><br><br>VESSEL NAME=shelf hydrophone2016-10-31 06:40:48<br>animation_frame=2016-10-31 06:40<br>LAT=%{lat}<br>LON=%{lon}<br>SPEED (KNOTSx10)=%{customdata[0]}<br>slfdist=%{customdata[1]}<extra></extra>",
           "hovertext": [
            "shelf hydrophone"
           ],
           "lat": [
            44.38132
           ],
           "legendgroup": "shelf hydrophone2016-10-31 06:40:48",
           "lon": [
            -124.18216
           ],
           "marker": {
            "color": "#FF97FF"
           },
           "mode": "markers",
           "name": "shelf hydrophone2016-10-31 06:40:48",
           "showlegend": true,
           "subplot": "mapbox",
           "type": "scattermapbox"
          },
          {
           "customdata": [
            [
             10,
             0
            ]
           ],
           "hovertemplate": "<b>%{hovertext}</b><br><br>VESSEL NAME=offshore hydrophone2016-10-31 06:40:48<br>animation_frame=2016-10-31 06:40<br>LAT=%{lat}<br>LON=%{lon}<br>SPEED (KNOTSx10)=%{customdata[0]}<br>slfdist=%{customdata[1]}<extra></extra>",
           "hovertext": [
            "offshore hydrophone"
           ],
           "lat": [
            44.2284
           ],
           "legendgroup": "offshore hydrophone2016-10-31 06:40:48",
           "lon": [
            -124.57144
           ],
           "marker": {
            "color": "#FECB52"
           },
           "mode": "markers",
           "name": "offshore hydrophone2016-10-31 06:40:48",
           "showlegend": true,
           "subplot": "mapbox",
           "type": "scattermapbox"
          },
          {
           "customdata": [
            [
             0,
             0
            ]
           ],
           "hovertemplate": "<b>%{hovertext}</b><br><br>VESSEL NAME=shelf hydrophone2016-10-31 06:40:53<br>animation_frame=2016-10-31 06:40<br>LAT=%{lat}<br>LON=%{lon}<br>SPEED (KNOTSx10)=%{customdata[0]}<br>slfdist=%{customdata[1]}<extra></extra>",
           "hovertext": [
            "shelf hydrophone"
           ],
           "lat": [
            44.38132
           ],
           "legendgroup": "shelf hydrophone2016-10-31 06:40:53",
           "lon": [
            -124.18216
           ],
           "marker": {
            "color": "#636efa"
           },
           "mode": "markers",
           "name": "shelf hydrophone2016-10-31 06:40:53",
           "showlegend": true,
           "subplot": "mapbox",
           "type": "scattermapbox"
          },
          {
           "customdata": [
            [
             10,
             0
            ]
           ],
           "hovertemplate": "<b>%{hovertext}</b><br><br>VESSEL NAME=offshore hydrophone2016-10-31 06:40:53<br>animation_frame=2016-10-31 06:40<br>LAT=%{lat}<br>LON=%{lon}<br>SPEED (KNOTSx10)=%{customdata[0]}<br>slfdist=%{customdata[1]}<extra></extra>",
           "hovertext": [
            "offshore hydrophone"
           ],
           "lat": [
            44.2284
           ],
           "legendgroup": "offshore hydrophone2016-10-31 06:40:53",
           "lon": [
            -124.57144
           ],
           "marker": {
            "color": "#EF553B"
           },
           "mode": "markers",
           "name": "offshore hydrophone2016-10-31 06:40:53",
           "showlegend": true,
           "subplot": "mapbox",
           "type": "scattermapbox"
          },
          {
           "customdata": [
            [
             0,
             0
            ]
           ],
           "hovertemplate": "<b>%{hovertext}</b><br><br>VESSEL NAME=shelf hydrophone2016-10-31 06:40:55<br>animation_frame=2016-10-31 06:40<br>LAT=%{lat}<br>LON=%{lon}<br>SPEED (KNOTSx10)=%{customdata[0]}<br>slfdist=%{customdata[1]}<extra></extra>",
           "hovertext": [
            "shelf hydrophone"
           ],
           "lat": [
            44.38132
           ],
           "legendgroup": "shelf hydrophone2016-10-31 06:40:55",
           "lon": [
            -124.18216
           ],
           "marker": {
            "color": "#00cc96"
           },
           "mode": "markers",
           "name": "shelf hydrophone2016-10-31 06:40:55",
           "showlegend": true,
           "subplot": "mapbox",
           "type": "scattermapbox"
          },
          {
           "customdata": [
            [
             10,
             0
            ]
           ],
           "hovertemplate": "<b>%{hovertext}</b><br><br>VESSEL NAME=offshore hydrophone2016-10-31 06:40:55<br>animation_frame=2016-10-31 06:40<br>LAT=%{lat}<br>LON=%{lon}<br>SPEED (KNOTSx10)=%{customdata[0]}<br>slfdist=%{customdata[1]}<extra></extra>",
           "hovertext": [
            "offshore hydrophone"
           ],
           "lat": [
            44.2284
           ],
           "legendgroup": "offshore hydrophone2016-10-31 06:40:55",
           "lon": [
            -124.57144
           ],
           "marker": {
            "color": "#ab63fa"
           },
           "mode": "markers",
           "name": "offshore hydrophone2016-10-31 06:40:55",
           "showlegend": true,
           "subplot": "mapbox",
           "type": "scattermapbox"
          },
          {
           "customdata": [
            [
             0,
             0
            ]
           ],
           "hovertemplate": "<b>%{hovertext}</b><br><br>VESSEL NAME=shelf hydrophone2016-10-31 06:41:06<br>animation_frame=2016-10-31 06:40<br>LAT=%{lat}<br>LON=%{lon}<br>SPEED (KNOTSx10)=%{customdata[0]}<br>slfdist=%{customdata[1]}<extra></extra>",
           "hovertext": [
            "shelf hydrophone"
           ],
           "lat": [
            44.38132
           ],
           "legendgroup": "shelf hydrophone2016-10-31 06:41:06",
           "lon": [
            -124.18216
           ],
           "marker": {
            "color": "#FFA15A"
           },
           "mode": "markers",
           "name": "shelf hydrophone2016-10-31 06:41:06",
           "showlegend": true,
           "subplot": "mapbox",
           "type": "scattermapbox"
          },
          {
           "customdata": [
            [
             10,
             0
            ]
           ],
           "hovertemplate": "<b>%{hovertext}</b><br><br>VESSEL NAME=offshore hydrophone2016-10-31 06:41:06<br>animation_frame=2016-10-31 06:40<br>LAT=%{lat}<br>LON=%{lon}<br>SPEED (KNOTSx10)=%{customdata[0]}<br>slfdist=%{customdata[1]}<extra></extra>",
           "hovertext": [
            "offshore hydrophone"
           ],
           "lat": [
            44.2284
           ],
           "legendgroup": "offshore hydrophone2016-10-31 06:41:06",
           "lon": [
            -124.57144
           ],
           "marker": {
            "color": "#19d3f3"
           },
           "mode": "markers",
           "name": "offshore hydrophone2016-10-31 06:41:06",
           "showlegend": true,
           "subplot": "mapbox",
           "type": "scattermapbox"
          },
          {
           "customdata": [
            [
             0,
             0
            ]
           ],
           "hovertemplate": "<b>%{hovertext}</b><br><br>VESSEL NAME=shelf hydrophone2016-10-31 06:42:12<br>animation_frame=2016-10-31 06:40<br>LAT=%{lat}<br>LON=%{lon}<br>SPEED (KNOTSx10)=%{customdata[0]}<br>slfdist=%{customdata[1]}<extra></extra>",
           "hovertext": [
            "shelf hydrophone"
           ],
           "lat": [
            44.38132
           ],
           "legendgroup": "shelf hydrophone2016-10-31 06:42:12",
           "lon": [
            -124.18216
           ],
           "marker": {
            "color": "#FF6692"
           },
           "mode": "markers",
           "name": "shelf hydrophone2016-10-31 06:42:12",
           "showlegend": true,
           "subplot": "mapbox",
           "type": "scattermapbox"
          },
          {
           "customdata": [
            [
             10,
             0
            ]
           ],
           "hovertemplate": "<b>%{hovertext}</b><br><br>VESSEL NAME=offshore hydrophone2016-10-31 06:42:12<br>animation_frame=2016-10-31 06:40<br>LAT=%{lat}<br>LON=%{lon}<br>SPEED (KNOTSx10)=%{customdata[0]}<br>slfdist=%{customdata[1]}<extra></extra>",
           "hovertext": [
            "offshore hydrophone"
           ],
           "lat": [
            44.2284
           ],
           "legendgroup": "offshore hydrophone2016-10-31 06:42:12",
           "lon": [
            -124.57144
           ],
           "marker": {
            "color": "#B6E880"
           },
           "mode": "markers",
           "name": "offshore hydrophone2016-10-31 06:42:12",
           "showlegend": true,
           "subplot": "mapbox",
           "type": "scattermapbox"
          },
          {
           "customdata": [
            [
             0,
             0
            ]
           ],
           "hovertemplate": "<b>%{hovertext}</b><br><br>VESSEL NAME=shelf hydrophone2016-10-31 06:42:13<br>animation_frame=2016-10-31 06:40<br>LAT=%{lat}<br>LON=%{lon}<br>SPEED (KNOTSx10)=%{customdata[0]}<br>slfdist=%{customdata[1]}<extra></extra>",
           "hovertext": [
            "shelf hydrophone"
           ],
           "lat": [
            44.38132
           ],
           "legendgroup": "shelf hydrophone2016-10-31 06:42:13",
           "lon": [
            -124.18216
           ],
           "marker": {
            "color": "#FF97FF"
           },
           "mode": "markers",
           "name": "shelf hydrophone2016-10-31 06:42:13",
           "showlegend": true,
           "subplot": "mapbox",
           "type": "scattermapbox"
          },
          {
           "customdata": [
            [
             10,
             0
            ]
           ],
           "hovertemplate": "<b>%{hovertext}</b><br><br>VESSEL NAME=offshore hydrophone2016-10-31 06:42:13<br>animation_frame=2016-10-31 06:40<br>LAT=%{lat}<br>LON=%{lon}<br>SPEED (KNOTSx10)=%{customdata[0]}<br>slfdist=%{customdata[1]}<extra></extra>",
           "hovertext": [
            "offshore hydrophone"
           ],
           "lat": [
            44.2284
           ],
           "legendgroup": "offshore hydrophone2016-10-31 06:42:13",
           "lon": [
            -124.57144
           ],
           "marker": {
            "color": "#FECB52"
           },
           "mode": "markers",
           "name": "offshore hydrophone2016-10-31 06:42:13",
           "showlegend": true,
           "subplot": "mapbox",
           "type": "scattermapbox"
          },
          {
           "customdata": [
            [
             0,
             0
            ]
           ],
           "hovertemplate": "<b>%{hovertext}</b><br><br>VESSEL NAME=shelf hydrophone2016-10-31 06:42:19<br>animation_frame=2016-10-31 06:40<br>LAT=%{lat}<br>LON=%{lon}<br>SPEED (KNOTSx10)=%{customdata[0]}<br>slfdist=%{customdata[1]}<extra></extra>",
           "hovertext": [
            "shelf hydrophone"
           ],
           "lat": [
            44.38132
           ],
           "legendgroup": "shelf hydrophone2016-10-31 06:42:19",
           "lon": [
            -124.18216
           ],
           "marker": {
            "color": "#636efa"
           },
           "mode": "markers",
           "name": "shelf hydrophone2016-10-31 06:42:19",
           "showlegend": true,
           "subplot": "mapbox",
           "type": "scattermapbox"
          },
          {
           "customdata": [
            [
             10,
             0
            ]
           ],
           "hovertemplate": "<b>%{hovertext}</b><br><br>VESSEL NAME=offshore hydrophone2016-10-31 06:42:19<br>animation_frame=2016-10-31 06:40<br>LAT=%{lat}<br>LON=%{lon}<br>SPEED (KNOTSx10)=%{customdata[0]}<br>slfdist=%{customdata[1]}<extra></extra>",
           "hovertext": [
            "offshore hydrophone"
           ],
           "lat": [
            44.2284
           ],
           "legendgroup": "offshore hydrophone2016-10-31 06:42:19",
           "lon": [
            -124.57144
           ],
           "marker": {
            "color": "#EF553B"
           },
           "mode": "markers",
           "name": "offshore hydrophone2016-10-31 06:42:19",
           "showlegend": true,
           "subplot": "mapbox",
           "type": "scattermapbox"
          },
          {
           "customdata": [
            [
             0,
             0
            ]
           ],
           "hovertemplate": "<b>%{hovertext}</b><br><br>VESSEL NAME=shelf hydrophone2016-10-31 06:42:37<br>animation_frame=2016-10-31 06:40<br>LAT=%{lat}<br>LON=%{lon}<br>SPEED (KNOTSx10)=%{customdata[0]}<br>slfdist=%{customdata[1]}<extra></extra>",
           "hovertext": [
            "shelf hydrophone"
           ],
           "lat": [
            44.38132
           ],
           "legendgroup": "shelf hydrophone2016-10-31 06:42:37",
           "lon": [
            -124.18216
           ],
           "marker": {
            "color": "#00cc96"
           },
           "mode": "markers",
           "name": "shelf hydrophone2016-10-31 06:42:37",
           "showlegend": true,
           "subplot": "mapbox",
           "type": "scattermapbox"
          },
          {
           "customdata": [
            [
             10,
             0
            ]
           ],
           "hovertemplate": "<b>%{hovertext}</b><br><br>VESSEL NAME=offshore hydrophone2016-10-31 06:42:37<br>animation_frame=2016-10-31 06:40<br>LAT=%{lat}<br>LON=%{lon}<br>SPEED (KNOTSx10)=%{customdata[0]}<br>slfdist=%{customdata[1]}<extra></extra>",
           "hovertext": [
            "offshore hydrophone"
           ],
           "lat": [
            44.2284
           ],
           "legendgroup": "offshore hydrophone2016-10-31 06:42:37",
           "lon": [
            -124.57144
           ],
           "marker": {
            "color": "#ab63fa"
           },
           "mode": "markers",
           "name": "offshore hydrophone2016-10-31 06:42:37",
           "showlegend": true,
           "subplot": "mapbox",
           "type": "scattermapbox"
          },
          {
           "customdata": [
            [
             0,
             0
            ]
           ],
           "hovertemplate": "<b>%{hovertext}</b><br><br>VESSEL NAME=shelf hydrophone2016-10-31 06:43:02<br>animation_frame=2016-10-31 06:40<br>LAT=%{lat}<br>LON=%{lon}<br>SPEED (KNOTSx10)=%{customdata[0]}<br>slfdist=%{customdata[1]}<extra></extra>",
           "hovertext": [
            "shelf hydrophone"
           ],
           "lat": [
            44.38132
           ],
           "legendgroup": "shelf hydrophone2016-10-31 06:43:02",
           "lon": [
            -124.18216
           ],
           "marker": {
            "color": "#FFA15A"
           },
           "mode": "markers",
           "name": "shelf hydrophone2016-10-31 06:43:02",
           "showlegend": true,
           "subplot": "mapbox",
           "type": "scattermapbox"
          },
          {
           "customdata": [
            [
             10,
             0
            ]
           ],
           "hovertemplate": "<b>%{hovertext}</b><br><br>VESSEL NAME=offshore hydrophone2016-10-31 06:43:02<br>animation_frame=2016-10-31 06:40<br>LAT=%{lat}<br>LON=%{lon}<br>SPEED (KNOTSx10)=%{customdata[0]}<br>slfdist=%{customdata[1]}<extra></extra>",
           "hovertext": [
            "offshore hydrophone"
           ],
           "lat": [
            44.2284
           ],
           "legendgroup": "offshore hydrophone2016-10-31 06:43:02",
           "lon": [
            -124.57144
           ],
           "marker": {
            "color": "#19d3f3"
           },
           "mode": "markers",
           "name": "offshore hydrophone2016-10-31 06:43:02",
           "showlegend": true,
           "subplot": "mapbox",
           "type": "scattermapbox"
          },
          {
           "customdata": [
            [
             0,
             0
            ]
           ],
           "hovertemplate": "<b>%{hovertext}</b><br><br>VESSEL NAME=shelf hydrophone2016-10-31 06:43:09<br>animation_frame=2016-10-31 06:40<br>LAT=%{lat}<br>LON=%{lon}<br>SPEED (KNOTSx10)=%{customdata[0]}<br>slfdist=%{customdata[1]}<extra></extra>",
           "hovertext": [
            "shelf hydrophone"
           ],
           "lat": [
            44.38132
           ],
           "legendgroup": "shelf hydrophone2016-10-31 06:43:09",
           "lon": [
            -124.18216
           ],
           "marker": {
            "color": "#FF6692"
           },
           "mode": "markers",
           "name": "shelf hydrophone2016-10-31 06:43:09",
           "showlegend": true,
           "subplot": "mapbox",
           "type": "scattermapbox"
          },
          {
           "customdata": [
            [
             10,
             0
            ]
           ],
           "hovertemplate": "<b>%{hovertext}</b><br><br>VESSEL NAME=offshore hydrophone2016-10-31 06:43:09<br>animation_frame=2016-10-31 06:40<br>LAT=%{lat}<br>LON=%{lon}<br>SPEED (KNOTSx10)=%{customdata[0]}<br>slfdist=%{customdata[1]}<extra></extra>",
           "hovertext": [
            "offshore hydrophone"
           ],
           "lat": [
            44.2284
           ],
           "legendgroup": "offshore hydrophone2016-10-31 06:43:09",
           "lon": [
            -124.57144
           ],
           "marker": {
            "color": "#B6E880"
           },
           "mode": "markers",
           "name": "offshore hydrophone2016-10-31 06:43:09",
           "showlegend": true,
           "subplot": "mapbox",
           "type": "scattermapbox"
          },
          {
           "customdata": [
            [
             0,
             0
            ]
           ],
           "hovertemplate": "<b>%{hovertext}</b><br><br>VESSEL NAME=shelf hydrophone2016-10-31 06:43:44<br>animation_frame=2016-10-31 06:40<br>LAT=%{lat}<br>LON=%{lon}<br>SPEED (KNOTSx10)=%{customdata[0]}<br>slfdist=%{customdata[1]}<extra></extra>",
           "hovertext": [
            "shelf hydrophone"
           ],
           "lat": [
            44.38132
           ],
           "legendgroup": "shelf hydrophone2016-10-31 06:43:44",
           "lon": [
            -124.18216
           ],
           "marker": {
            "color": "#FF97FF"
           },
           "mode": "markers",
           "name": "shelf hydrophone2016-10-31 06:43:44",
           "showlegend": true,
           "subplot": "mapbox",
           "type": "scattermapbox"
          },
          {
           "customdata": [
            [
             10,
             0
            ]
           ],
           "hovertemplate": "<b>%{hovertext}</b><br><br>VESSEL NAME=offshore hydrophone2016-10-31 06:43:44<br>animation_frame=2016-10-31 06:40<br>LAT=%{lat}<br>LON=%{lon}<br>SPEED (KNOTSx10)=%{customdata[0]}<br>slfdist=%{customdata[1]}<extra></extra>",
           "hovertext": [
            "offshore hydrophone"
           ],
           "lat": [
            44.2284
           ],
           "legendgroup": "offshore hydrophone2016-10-31 06:43:44",
           "lon": [
            -124.57144
           ],
           "marker": {
            "color": "#FECB52"
           },
           "mode": "markers",
           "name": "offshore hydrophone2016-10-31 06:43:44",
           "showlegend": true,
           "subplot": "mapbox",
           "type": "scattermapbox"
          },
          {
           "customdata": [
            [
             0,
             0
            ]
           ],
           "hovertemplate": "<b>%{hovertext}</b><br><br>VESSEL NAME=shelf hydrophone2016-10-31 06:43:45<br>animation_frame=2016-10-31 06:40<br>LAT=%{lat}<br>LON=%{lon}<br>SPEED (KNOTSx10)=%{customdata[0]}<br>slfdist=%{customdata[1]}<extra></extra>",
           "hovertext": [
            "shelf hydrophone"
           ],
           "lat": [
            44.38132
           ],
           "legendgroup": "shelf hydrophone2016-10-31 06:43:45",
           "lon": [
            -124.18216
           ],
           "marker": {
            "color": "#636efa"
           },
           "mode": "markers",
           "name": "shelf hydrophone2016-10-31 06:43:45",
           "showlegend": true,
           "subplot": "mapbox",
           "type": "scattermapbox"
          },
          {
           "customdata": [
            [
             10,
             0
            ]
           ],
           "hovertemplate": "<b>%{hovertext}</b><br><br>VESSEL NAME=offshore hydrophone2016-10-31 06:43:45<br>animation_frame=2016-10-31 06:40<br>LAT=%{lat}<br>LON=%{lon}<br>SPEED (KNOTSx10)=%{customdata[0]}<br>slfdist=%{customdata[1]}<extra></extra>",
           "hovertext": [
            "offshore hydrophone"
           ],
           "lat": [
            44.2284
           ],
           "legendgroup": "offshore hydrophone2016-10-31 06:43:45",
           "lon": [
            -124.57144
           ],
           "marker": {
            "color": "#EF553B"
           },
           "mode": "markers",
           "name": "offshore hydrophone2016-10-31 06:43:45",
           "showlegend": true,
           "subplot": "mapbox",
           "type": "scattermapbox"
          },
          {
           "customdata": [
            [
             0,
             0
            ]
           ],
           "hovertemplate": "<b>%{hovertext}</b><br><br>VESSEL NAME=shelf hydrophone2016-10-31 06:43:47<br>animation_frame=2016-10-31 06:40<br>LAT=%{lat}<br>LON=%{lon}<br>SPEED (KNOTSx10)=%{customdata[0]}<br>slfdist=%{customdata[1]}<extra></extra>",
           "hovertext": [
            "shelf hydrophone"
           ],
           "lat": [
            44.38132
           ],
           "legendgroup": "shelf hydrophone2016-10-31 06:43:47",
           "lon": [
            -124.18216
           ],
           "marker": {
            "color": "#00cc96"
           },
           "mode": "markers",
           "name": "shelf hydrophone2016-10-31 06:43:47",
           "showlegend": true,
           "subplot": "mapbox",
           "type": "scattermapbox"
          },
          {
           "customdata": [
            [
             10,
             0
            ]
           ],
           "hovertemplate": "<b>%{hovertext}</b><br><br>VESSEL NAME=offshore hydrophone2016-10-31 06:43:47<br>animation_frame=2016-10-31 06:40<br>LAT=%{lat}<br>LON=%{lon}<br>SPEED (KNOTSx10)=%{customdata[0]}<br>slfdist=%{customdata[1]}<extra></extra>",
           "hovertext": [
            "offshore hydrophone"
           ],
           "lat": [
            44.2284
           ],
           "legendgroup": "offshore hydrophone2016-10-31 06:43:47",
           "lon": [
            -124.57144
           ],
           "marker": {
            "color": "#ab63fa"
           },
           "mode": "markers",
           "name": "offshore hydrophone2016-10-31 06:43:47",
           "showlegend": true,
           "subplot": "mapbox",
           "type": "scattermapbox"
          },
          {
           "customdata": [
            [
             0,
             0
            ]
           ],
           "hovertemplate": "<b>%{hovertext}</b><br><br>VESSEL NAME=shelf hydrophone2016-10-31 06:43:56<br>animation_frame=2016-10-31 06:40<br>LAT=%{lat}<br>LON=%{lon}<br>SPEED (KNOTSx10)=%{customdata[0]}<br>slfdist=%{customdata[1]}<extra></extra>",
           "hovertext": [
            "shelf hydrophone"
           ],
           "lat": [
            44.38132
           ],
           "legendgroup": "shelf hydrophone2016-10-31 06:43:56",
           "lon": [
            -124.18216
           ],
           "marker": {
            "color": "#FFA15A"
           },
           "mode": "markers",
           "name": "shelf hydrophone2016-10-31 06:43:56",
           "showlegend": true,
           "subplot": "mapbox",
           "type": "scattermapbox"
          },
          {
           "customdata": [
            [
             10,
             0
            ]
           ],
           "hovertemplate": "<b>%{hovertext}</b><br><br>VESSEL NAME=offshore hydrophone2016-10-31 06:43:56<br>animation_frame=2016-10-31 06:40<br>LAT=%{lat}<br>LON=%{lon}<br>SPEED (KNOTSx10)=%{customdata[0]}<br>slfdist=%{customdata[1]}<extra></extra>",
           "hovertext": [
            "offshore hydrophone"
           ],
           "lat": [
            44.2284
           ],
           "legendgroup": "offshore hydrophone2016-10-31 06:43:56",
           "lon": [
            -124.57144
           ],
           "marker": {
            "color": "#19d3f3"
           },
           "mode": "markers",
           "name": "offshore hydrophone2016-10-31 06:43:56",
           "showlegend": true,
           "subplot": "mapbox",
           "type": "scattermapbox"
          },
          {
           "customdata": [
            [
             0,
             0
            ]
           ],
           "hovertemplate": "<b>%{hovertext}</b><br><br>VESSEL NAME=shelf hydrophone2016-10-31 06:44:30<br>animation_frame=2016-10-31 06:40<br>LAT=%{lat}<br>LON=%{lon}<br>SPEED (KNOTSx10)=%{customdata[0]}<br>slfdist=%{customdata[1]}<extra></extra>",
           "hovertext": [
            "shelf hydrophone"
           ],
           "lat": [
            44.38132
           ],
           "legendgroup": "shelf hydrophone2016-10-31 06:44:30",
           "lon": [
            -124.18216
           ],
           "marker": {
            "color": "#FF6692"
           },
           "mode": "markers",
           "name": "shelf hydrophone2016-10-31 06:44:30",
           "showlegend": true,
           "subplot": "mapbox",
           "type": "scattermapbox"
          },
          {
           "customdata": [
            [
             10,
             0
            ]
           ],
           "hovertemplate": "<b>%{hovertext}</b><br><br>VESSEL NAME=offshore hydrophone2016-10-31 06:44:30<br>animation_frame=2016-10-31 06:40<br>LAT=%{lat}<br>LON=%{lon}<br>SPEED (KNOTSx10)=%{customdata[0]}<br>slfdist=%{customdata[1]}<extra></extra>",
           "hovertext": [
            "offshore hydrophone"
           ],
           "lat": [
            44.2284
           ],
           "legendgroup": "offshore hydrophone2016-10-31 06:44:30",
           "lon": [
            -124.57144
           ],
           "marker": {
            "color": "#B6E880"
           },
           "mode": "markers",
           "name": "offshore hydrophone2016-10-31 06:44:30",
           "showlegend": true,
           "subplot": "mapbox",
           "type": "scattermapbox"
          },
          {
           "customdata": [
            [
             0,
             0
            ]
           ],
           "hovertemplate": "<b>%{hovertext}</b><br><br>VESSEL NAME=shelf hydrophone2016-10-31 06:44:44<br>animation_frame=2016-10-31 06:40<br>LAT=%{lat}<br>LON=%{lon}<br>SPEED (KNOTSx10)=%{customdata[0]}<br>slfdist=%{customdata[1]}<extra></extra>",
           "hovertext": [
            "shelf hydrophone"
           ],
           "lat": [
            44.38132
           ],
           "legendgroup": "shelf hydrophone2016-10-31 06:44:44",
           "lon": [
            -124.18216
           ],
           "marker": {
            "color": "#FF97FF"
           },
           "mode": "markers",
           "name": "shelf hydrophone2016-10-31 06:44:44",
           "showlegend": true,
           "subplot": "mapbox",
           "type": "scattermapbox"
          },
          {
           "customdata": [
            [
             10,
             0
            ]
           ],
           "hovertemplate": "<b>%{hovertext}</b><br><br>VESSEL NAME=offshore hydrophone2016-10-31 06:44:44<br>animation_frame=2016-10-31 06:40<br>LAT=%{lat}<br>LON=%{lon}<br>SPEED (KNOTSx10)=%{customdata[0]}<br>slfdist=%{customdata[1]}<extra></extra>",
           "hovertext": [
            "offshore hydrophone"
           ],
           "lat": [
            44.2284
           ],
           "legendgroup": "offshore hydrophone2016-10-31 06:44:44",
           "lon": [
            -124.57144
           ],
           "marker": {
            "color": "#FECB52"
           },
           "mode": "markers",
           "name": "offshore hydrophone2016-10-31 06:44:44",
           "showlegend": true,
           "subplot": "mapbox",
           "type": "scattermapbox"
          },
          {
           "customdata": [
            [
             0,
             0
            ]
           ],
           "hovertemplate": "<b>%{hovertext}</b><br><br>VESSEL NAME=shelf hydrophone2016-10-31 06:44:59<br>animation_frame=2016-10-31 06:40<br>LAT=%{lat}<br>LON=%{lon}<br>SPEED (KNOTSx10)=%{customdata[0]}<br>slfdist=%{customdata[1]}<extra></extra>",
           "hovertext": [
            "shelf hydrophone"
           ],
           "lat": [
            44.38132
           ],
           "legendgroup": "shelf hydrophone2016-10-31 06:44:59",
           "lon": [
            -124.18216
           ],
           "marker": {
            "color": "#636efa"
           },
           "mode": "markers",
           "name": "shelf hydrophone2016-10-31 06:44:59",
           "showlegend": true,
           "subplot": "mapbox",
           "type": "scattermapbox"
          },
          {
           "customdata": [
            [
             10,
             0
            ]
           ],
           "hovertemplate": "<b>%{hovertext}</b><br><br>VESSEL NAME=offshore hydrophone2016-10-31 06:44:59<br>animation_frame=2016-10-31 06:40<br>LAT=%{lat}<br>LON=%{lon}<br>SPEED (KNOTSx10)=%{customdata[0]}<br>slfdist=%{customdata[1]}<extra></extra>",
           "hovertext": [
            "offshore hydrophone"
           ],
           "lat": [
            44.2284
           ],
           "legendgroup": "offshore hydrophone2016-10-31 06:44:59",
           "lon": [
            -124.57144
           ],
           "marker": {
            "color": "#EF553B"
           },
           "mode": "markers",
           "name": "offshore hydrophone2016-10-31 06:44:59",
           "showlegend": true,
           "subplot": "mapbox",
           "type": "scattermapbox"
          },
          {
           "customdata": [
            [
             0,
             0
            ]
           ],
           "hovertemplate": "<b>%{hovertext}</b><br><br>VESSEL NAME=shelf hydrophone2016-10-31 06:45:08<br>animation_frame=2016-10-31 06:40<br>LAT=%{lat}<br>LON=%{lon}<br>SPEED (KNOTSx10)=%{customdata[0]}<br>slfdist=%{customdata[1]}<extra></extra>",
           "hovertext": [
            "shelf hydrophone"
           ],
           "lat": [
            44.38132
           ],
           "legendgroup": "shelf hydrophone2016-10-31 06:45:08",
           "lon": [
            -124.18216
           ],
           "marker": {
            "color": "#00cc96"
           },
           "mode": "markers",
           "name": "shelf hydrophone2016-10-31 06:45:08",
           "showlegend": true,
           "subplot": "mapbox",
           "type": "scattermapbox"
          },
          {
           "customdata": [
            [
             10,
             0
            ]
           ],
           "hovertemplate": "<b>%{hovertext}</b><br><br>VESSEL NAME=offshore hydrophone2016-10-31 06:45:08<br>animation_frame=2016-10-31 06:40<br>LAT=%{lat}<br>LON=%{lon}<br>SPEED (KNOTSx10)=%{customdata[0]}<br>slfdist=%{customdata[1]}<extra></extra>",
           "hovertext": [
            "offshore hydrophone"
           ],
           "lat": [
            44.2284
           ],
           "legendgroup": "offshore hydrophone2016-10-31 06:45:08",
           "lon": [
            -124.57144
           ],
           "marker": {
            "color": "#ab63fa"
           },
           "mode": "markers",
           "name": "offshore hydrophone2016-10-31 06:45:08",
           "showlegend": true,
           "subplot": "mapbox",
           "type": "scattermapbox"
          },
          {
           "customdata": [
            [
             0,
             0
            ]
           ],
           "hovertemplate": "<b>%{hovertext}</b><br><br>VESSEL NAME=shelf hydrophone2016-10-31 06:45:29<br>animation_frame=2016-10-31 06:40<br>LAT=%{lat}<br>LON=%{lon}<br>SPEED (KNOTSx10)=%{customdata[0]}<br>slfdist=%{customdata[1]}<extra></extra>",
           "hovertext": [
            "shelf hydrophone"
           ],
           "lat": [
            44.38132
           ],
           "legendgroup": "shelf hydrophone2016-10-31 06:45:29",
           "lon": [
            -124.18216
           ],
           "marker": {
            "color": "#FFA15A"
           },
           "mode": "markers",
           "name": "shelf hydrophone2016-10-31 06:45:29",
           "showlegend": true,
           "subplot": "mapbox",
           "type": "scattermapbox"
          },
          {
           "customdata": [
            [
             10,
             0
            ]
           ],
           "hovertemplate": "<b>%{hovertext}</b><br><br>VESSEL NAME=offshore hydrophone2016-10-31 06:45:29<br>animation_frame=2016-10-31 06:40<br>LAT=%{lat}<br>LON=%{lon}<br>SPEED (KNOTSx10)=%{customdata[0]}<br>slfdist=%{customdata[1]}<extra></extra>",
           "hovertext": [
            "offshore hydrophone"
           ],
           "lat": [
            44.2284
           ],
           "legendgroup": "offshore hydrophone2016-10-31 06:45:29",
           "lon": [
            -124.57144
           ],
           "marker": {
            "color": "#19d3f3"
           },
           "mode": "markers",
           "name": "offshore hydrophone2016-10-31 06:45:29",
           "showlegend": true,
           "subplot": "mapbox",
           "type": "scattermapbox"
          },
          {
           "customdata": [
            [
             0,
             0
            ]
           ],
           "hovertemplate": "<b>%{hovertext}</b><br><br>VESSEL NAME=shelf hydrophone2016-10-31 06:45:42<br>animation_frame=2016-10-31 06:40<br>LAT=%{lat}<br>LON=%{lon}<br>SPEED (KNOTSx10)=%{customdata[0]}<br>slfdist=%{customdata[1]}<extra></extra>",
           "hovertext": [
            "shelf hydrophone"
           ],
           "lat": [
            44.38132
           ],
           "legendgroup": "shelf hydrophone2016-10-31 06:45:42",
           "lon": [
            -124.18216
           ],
           "marker": {
            "color": "#FF6692"
           },
           "mode": "markers",
           "name": "shelf hydrophone2016-10-31 06:45:42",
           "showlegend": true,
           "subplot": "mapbox",
           "type": "scattermapbox"
          },
          {
           "customdata": [
            [
             10,
             0
            ]
           ],
           "hovertemplate": "<b>%{hovertext}</b><br><br>VESSEL NAME=offshore hydrophone2016-10-31 06:45:42<br>animation_frame=2016-10-31 06:40<br>LAT=%{lat}<br>LON=%{lon}<br>SPEED (KNOTSx10)=%{customdata[0]}<br>slfdist=%{customdata[1]}<extra></extra>",
           "hovertext": [
            "offshore hydrophone"
           ],
           "lat": [
            44.2284
           ],
           "legendgroup": "offshore hydrophone2016-10-31 06:45:42",
           "lon": [
            -124.57144
           ],
           "marker": {
            "color": "#B6E880"
           },
           "mode": "markers",
           "name": "offshore hydrophone2016-10-31 06:45:42",
           "showlegend": true,
           "subplot": "mapbox",
           "type": "scattermapbox"
          },
          {
           "customdata": [
            [
             0,
             0
            ]
           ],
           "hovertemplate": "<b>%{hovertext}</b><br><br>VESSEL NAME=shelf hydrophone2016-10-31 06:46:27<br>animation_frame=2016-10-31 06:40<br>LAT=%{lat}<br>LON=%{lon}<br>SPEED (KNOTSx10)=%{customdata[0]}<br>slfdist=%{customdata[1]}<extra></extra>",
           "hovertext": [
            "shelf hydrophone"
           ],
           "lat": [
            44.38132
           ],
           "legendgroup": "shelf hydrophone2016-10-31 06:46:27",
           "lon": [
            -124.18216
           ],
           "marker": {
            "color": "#FF97FF"
           },
           "mode": "markers",
           "name": "shelf hydrophone2016-10-31 06:46:27",
           "showlegend": true,
           "subplot": "mapbox",
           "type": "scattermapbox"
          },
          {
           "customdata": [
            [
             10,
             0
            ]
           ],
           "hovertemplate": "<b>%{hovertext}</b><br><br>VESSEL NAME=offshore hydrophone2016-10-31 06:46:27<br>animation_frame=2016-10-31 06:40<br>LAT=%{lat}<br>LON=%{lon}<br>SPEED (KNOTSx10)=%{customdata[0]}<br>slfdist=%{customdata[1]}<extra></extra>",
           "hovertext": [
            "offshore hydrophone"
           ],
           "lat": [
            44.2284
           ],
           "legendgroup": "offshore hydrophone2016-10-31 06:46:27",
           "lon": [
            -124.57144
           ],
           "marker": {
            "color": "#FECB52"
           },
           "mode": "markers",
           "name": "offshore hydrophone2016-10-31 06:46:27",
           "showlegend": true,
           "subplot": "mapbox",
           "type": "scattermapbox"
          },
          {
           "customdata": [
            [
             0,
             0
            ]
           ],
           "hovertemplate": "<b>%{hovertext}</b><br><br>VESSEL NAME=shelf hydrophone2016-10-31 06:46:29<br>animation_frame=2016-10-31 06:40<br>LAT=%{lat}<br>LON=%{lon}<br>SPEED (KNOTSx10)=%{customdata[0]}<br>slfdist=%{customdata[1]}<extra></extra>",
           "hovertext": [
            "shelf hydrophone"
           ],
           "lat": [
            44.38132
           ],
           "legendgroup": "shelf hydrophone2016-10-31 06:46:29",
           "lon": [
            -124.18216
           ],
           "marker": {
            "color": "#636efa"
           },
           "mode": "markers",
           "name": "shelf hydrophone2016-10-31 06:46:29",
           "showlegend": true,
           "subplot": "mapbox",
           "type": "scattermapbox"
          },
          {
           "customdata": [
            [
             10,
             0
            ]
           ],
           "hovertemplate": "<b>%{hovertext}</b><br><br>VESSEL NAME=offshore hydrophone2016-10-31 06:46:29<br>animation_frame=2016-10-31 06:40<br>LAT=%{lat}<br>LON=%{lon}<br>SPEED (KNOTSx10)=%{customdata[0]}<br>slfdist=%{customdata[1]}<extra></extra>",
           "hovertext": [
            "offshore hydrophone"
           ],
           "lat": [
            44.2284
           ],
           "legendgroup": "offshore hydrophone2016-10-31 06:46:29",
           "lon": [
            -124.57144
           ],
           "marker": {
            "color": "#EF553B"
           },
           "mode": "markers",
           "name": "offshore hydrophone2016-10-31 06:46:29",
           "showlegend": true,
           "subplot": "mapbox",
           "type": "scattermapbox"
          },
          {
           "customdata": [
            [
             0,
             0
            ]
           ],
           "hovertemplate": "<b>%{hovertext}</b><br><br>VESSEL NAME=shelf hydrophone2016-10-31 06:46:37<br>animation_frame=2016-10-31 06:40<br>LAT=%{lat}<br>LON=%{lon}<br>SPEED (KNOTSx10)=%{customdata[0]}<br>slfdist=%{customdata[1]}<extra></extra>",
           "hovertext": [
            "shelf hydrophone"
           ],
           "lat": [
            44.38132
           ],
           "legendgroup": "shelf hydrophone2016-10-31 06:46:37",
           "lon": [
            -124.18216
           ],
           "marker": {
            "color": "#00cc96"
           },
           "mode": "markers",
           "name": "shelf hydrophone2016-10-31 06:46:37",
           "showlegend": true,
           "subplot": "mapbox",
           "type": "scattermapbox"
          },
          {
           "customdata": [
            [
             10,
             0
            ]
           ],
           "hovertemplate": "<b>%{hovertext}</b><br><br>VESSEL NAME=offshore hydrophone2016-10-31 06:46:37<br>animation_frame=2016-10-31 06:40<br>LAT=%{lat}<br>LON=%{lon}<br>SPEED (KNOTSx10)=%{customdata[0]}<br>slfdist=%{customdata[1]}<extra></extra>",
           "hovertext": [
            "offshore hydrophone"
           ],
           "lat": [
            44.2284
           ],
           "legendgroup": "offshore hydrophone2016-10-31 06:46:37",
           "lon": [
            -124.57144
           ],
           "marker": {
            "color": "#ab63fa"
           },
           "mode": "markers",
           "name": "offshore hydrophone2016-10-31 06:46:37",
           "showlegend": true,
           "subplot": "mapbox",
           "type": "scattermapbox"
          },
          {
           "customdata": [
            [
             0,
             0
            ]
           ],
           "hovertemplate": "<b>%{hovertext}</b><br><br>VESSEL NAME=shelf hydrophone2016-10-31 06:47:06<br>animation_frame=2016-10-31 06:40<br>LAT=%{lat}<br>LON=%{lon}<br>SPEED (KNOTSx10)=%{customdata[0]}<br>slfdist=%{customdata[1]}<extra></extra>",
           "hovertext": [
            "shelf hydrophone"
           ],
           "lat": [
            44.38132
           ],
           "legendgroup": "shelf hydrophone2016-10-31 06:47:06",
           "lon": [
            -124.18216
           ],
           "marker": {
            "color": "#FFA15A"
           },
           "mode": "markers",
           "name": "shelf hydrophone2016-10-31 06:47:06",
           "showlegend": true,
           "subplot": "mapbox",
           "type": "scattermapbox"
          },
          {
           "customdata": [
            [
             10,
             0
            ]
           ],
           "hovertemplate": "<b>%{hovertext}</b><br><br>VESSEL NAME=offshore hydrophone2016-10-31 06:47:06<br>animation_frame=2016-10-31 06:40<br>LAT=%{lat}<br>LON=%{lon}<br>SPEED (KNOTSx10)=%{customdata[0]}<br>slfdist=%{customdata[1]}<extra></extra>",
           "hovertext": [
            "offshore hydrophone"
           ],
           "lat": [
            44.2284
           ],
           "legendgroup": "offshore hydrophone2016-10-31 06:47:06",
           "lon": [
            -124.57144
           ],
           "marker": {
            "color": "#19d3f3"
           },
           "mode": "markers",
           "name": "offshore hydrophone2016-10-31 06:47:06",
           "showlegend": true,
           "subplot": "mapbox",
           "type": "scattermapbox"
          },
          {
           "customdata": [
            [
             0,
             0
            ]
           ],
           "hovertemplate": "<b>%{hovertext}</b><br><br>VESSEL NAME=shelf hydrophone2016-10-31 06:47:14<br>animation_frame=2016-10-31 06:40<br>LAT=%{lat}<br>LON=%{lon}<br>SPEED (KNOTSx10)=%{customdata[0]}<br>slfdist=%{customdata[1]}<extra></extra>",
           "hovertext": [
            "shelf hydrophone"
           ],
           "lat": [
            44.38132
           ],
           "legendgroup": "shelf hydrophone2016-10-31 06:47:14",
           "lon": [
            -124.18216
           ],
           "marker": {
            "color": "#FF6692"
           },
           "mode": "markers",
           "name": "shelf hydrophone2016-10-31 06:47:14",
           "showlegend": true,
           "subplot": "mapbox",
           "type": "scattermapbox"
          },
          {
           "customdata": [
            [
             10,
             0
            ]
           ],
           "hovertemplate": "<b>%{hovertext}</b><br><br>VESSEL NAME=offshore hydrophone2016-10-31 06:47:14<br>animation_frame=2016-10-31 06:40<br>LAT=%{lat}<br>LON=%{lon}<br>SPEED (KNOTSx10)=%{customdata[0]}<br>slfdist=%{customdata[1]}<extra></extra>",
           "hovertext": [
            "offshore hydrophone"
           ],
           "lat": [
            44.2284
           ],
           "legendgroup": "offshore hydrophone2016-10-31 06:47:14",
           "lon": [
            -124.57144
           ],
           "marker": {
            "color": "#B6E880"
           },
           "mode": "markers",
           "name": "offshore hydrophone2016-10-31 06:47:14",
           "showlegend": true,
           "subplot": "mapbox",
           "type": "scattermapbox"
          },
          {
           "customdata": [
            [
             0,
             0
            ]
           ],
           "hovertemplate": "<b>%{hovertext}</b><br><br>VESSEL NAME=shelf hydrophone2016-10-31 06:47:59<br>animation_frame=2016-10-31 06:40<br>LAT=%{lat}<br>LON=%{lon}<br>SPEED (KNOTSx10)=%{customdata[0]}<br>slfdist=%{customdata[1]}<extra></extra>",
           "hovertext": [
            "shelf hydrophone"
           ],
           "lat": [
            44.38132
           ],
           "legendgroup": "shelf hydrophone2016-10-31 06:47:59",
           "lon": [
            -124.18216
           ],
           "marker": {
            "color": "#FF97FF"
           },
           "mode": "markers",
           "name": "shelf hydrophone2016-10-31 06:47:59",
           "showlegend": true,
           "subplot": "mapbox",
           "type": "scattermapbox"
          },
          {
           "customdata": [
            [
             10,
             0
            ]
           ],
           "hovertemplate": "<b>%{hovertext}</b><br><br>VESSEL NAME=offshore hydrophone2016-10-31 06:47:59<br>animation_frame=2016-10-31 06:40<br>LAT=%{lat}<br>LON=%{lon}<br>SPEED (KNOTSx10)=%{customdata[0]}<br>slfdist=%{customdata[1]}<extra></extra>",
           "hovertext": [
            "offshore hydrophone"
           ],
           "lat": [
            44.2284
           ],
           "legendgroup": "offshore hydrophone2016-10-31 06:47:59",
           "lon": [
            -124.57144
           ],
           "marker": {
            "color": "#FECB52"
           },
           "mode": "markers",
           "name": "offshore hydrophone2016-10-31 06:47:59",
           "showlegend": true,
           "subplot": "mapbox",
           "type": "scattermapbox"
          },
          {
           "customdata": [
            [
             0,
             0
            ]
           ],
           "hovertemplate": "<b>%{hovertext}</b><br><br>VESSEL NAME=shelf hydrophone2016-10-31 06:48:16<br>animation_frame=2016-10-31 06:40<br>LAT=%{lat}<br>LON=%{lon}<br>SPEED (KNOTSx10)=%{customdata[0]}<br>slfdist=%{customdata[1]}<extra></extra>",
           "hovertext": [
            "shelf hydrophone"
           ],
           "lat": [
            44.38132
           ],
           "legendgroup": "shelf hydrophone2016-10-31 06:48:16",
           "lon": [
            -124.18216
           ],
           "marker": {
            "color": "#636efa"
           },
           "mode": "markers",
           "name": "shelf hydrophone2016-10-31 06:48:16",
           "showlegend": true,
           "subplot": "mapbox",
           "type": "scattermapbox"
          },
          {
           "customdata": [
            [
             10,
             0
            ]
           ],
           "hovertemplate": "<b>%{hovertext}</b><br><br>VESSEL NAME=offshore hydrophone2016-10-31 06:48:16<br>animation_frame=2016-10-31 06:40<br>LAT=%{lat}<br>LON=%{lon}<br>SPEED (KNOTSx10)=%{customdata[0]}<br>slfdist=%{customdata[1]}<extra></extra>",
           "hovertext": [
            "offshore hydrophone"
           ],
           "lat": [
            44.2284
           ],
           "legendgroup": "offshore hydrophone2016-10-31 06:48:16",
           "lon": [
            -124.57144
           ],
           "marker": {
            "color": "#EF553B"
           },
           "mode": "markers",
           "name": "offshore hydrophone2016-10-31 06:48:16",
           "showlegend": true,
           "subplot": "mapbox",
           "type": "scattermapbox"
          },
          {
           "customdata": [
            [
             0,
             0
            ]
           ],
           "hovertemplate": "<b>%{hovertext}</b><br><br>VESSEL NAME=shelf hydrophone2016-10-31 06:48:22<br>animation_frame=2016-10-31 06:40<br>LAT=%{lat}<br>LON=%{lon}<br>SPEED (KNOTSx10)=%{customdata[0]}<br>slfdist=%{customdata[1]}<extra></extra>",
           "hovertext": [
            "shelf hydrophone"
           ],
           "lat": [
            44.38132
           ],
           "legendgroup": "shelf hydrophone2016-10-31 06:48:22",
           "lon": [
            -124.18216
           ],
           "marker": {
            "color": "#00cc96"
           },
           "mode": "markers",
           "name": "shelf hydrophone2016-10-31 06:48:22",
           "showlegend": true,
           "subplot": "mapbox",
           "type": "scattermapbox"
          },
          {
           "customdata": [
            [
             10,
             0
            ]
           ],
           "hovertemplate": "<b>%{hovertext}</b><br><br>VESSEL NAME=offshore hydrophone2016-10-31 06:48:22<br>animation_frame=2016-10-31 06:40<br>LAT=%{lat}<br>LON=%{lon}<br>SPEED (KNOTSx10)=%{customdata[0]}<br>slfdist=%{customdata[1]}<extra></extra>",
           "hovertext": [
            "offshore hydrophone"
           ],
           "lat": [
            44.2284
           ],
           "legendgroup": "offshore hydrophone2016-10-31 06:48:22",
           "lon": [
            -124.57144
           ],
           "marker": {
            "color": "#ab63fa"
           },
           "mode": "markers",
           "name": "offshore hydrophone2016-10-31 06:48:22",
           "showlegend": true,
           "subplot": "mapbox",
           "type": "scattermapbox"
          },
          {
           "customdata": [
            [
             0,
             0
            ]
           ],
           "hovertemplate": "<b>%{hovertext}</b><br><br>VESSEL NAME=shelf hydrophone2016-10-31 06:48:26<br>animation_frame=2016-10-31 06:40<br>LAT=%{lat}<br>LON=%{lon}<br>SPEED (KNOTSx10)=%{customdata[0]}<br>slfdist=%{customdata[1]}<extra></extra>",
           "hovertext": [
            "shelf hydrophone"
           ],
           "lat": [
            44.38132
           ],
           "legendgroup": "shelf hydrophone2016-10-31 06:48:26",
           "lon": [
            -124.18216
           ],
           "marker": {
            "color": "#FFA15A"
           },
           "mode": "markers",
           "name": "shelf hydrophone2016-10-31 06:48:26",
           "showlegend": true,
           "subplot": "mapbox",
           "type": "scattermapbox"
          },
          {
           "customdata": [
            [
             10,
             0
            ]
           ],
           "hovertemplate": "<b>%{hovertext}</b><br><br>VESSEL NAME=offshore hydrophone2016-10-31 06:48:26<br>animation_frame=2016-10-31 06:40<br>LAT=%{lat}<br>LON=%{lon}<br>SPEED (KNOTSx10)=%{customdata[0]}<br>slfdist=%{customdata[1]}<extra></extra>",
           "hovertext": [
            "offshore hydrophone"
           ],
           "lat": [
            44.2284
           ],
           "legendgroup": "offshore hydrophone2016-10-31 06:48:26",
           "lon": [
            -124.57144
           ],
           "marker": {
            "color": "#19d3f3"
           },
           "mode": "markers",
           "name": "offshore hydrophone2016-10-31 06:48:26",
           "showlegend": true,
           "subplot": "mapbox",
           "type": "scattermapbox"
          },
          {
           "customdata": [
            [
             0,
             0
            ]
           ],
           "hovertemplate": "<b>%{hovertext}</b><br><br>VESSEL NAME=shelf hydrophone2016-10-31 06:48:52<br>animation_frame=2016-10-31 06:40<br>LAT=%{lat}<br>LON=%{lon}<br>SPEED (KNOTSx10)=%{customdata[0]}<br>slfdist=%{customdata[1]}<extra></extra>",
           "hovertext": [
            "shelf hydrophone"
           ],
           "lat": [
            44.38132
           ],
           "legendgroup": "shelf hydrophone2016-10-31 06:48:52",
           "lon": [
            -124.18216
           ],
           "marker": {
            "color": "#FF6692"
           },
           "mode": "markers",
           "name": "shelf hydrophone2016-10-31 06:48:52",
           "showlegend": true,
           "subplot": "mapbox",
           "type": "scattermapbox"
          },
          {
           "customdata": [
            [
             10,
             0
            ]
           ],
           "hovertemplate": "<b>%{hovertext}</b><br><br>VESSEL NAME=offshore hydrophone2016-10-31 06:48:52<br>animation_frame=2016-10-31 06:40<br>LAT=%{lat}<br>LON=%{lon}<br>SPEED (KNOTSx10)=%{customdata[0]}<br>slfdist=%{customdata[1]}<extra></extra>",
           "hovertext": [
            "offshore hydrophone"
           ],
           "lat": [
            44.2284
           ],
           "legendgroup": "offshore hydrophone2016-10-31 06:48:52",
           "lon": [
            -124.57144
           ],
           "marker": {
            "color": "#B6E880"
           },
           "mode": "markers",
           "name": "offshore hydrophone2016-10-31 06:48:52",
           "showlegend": true,
           "subplot": "mapbox",
           "type": "scattermapbox"
          },
          {
           "customdata": [
            [
             0,
             0
            ]
           ],
           "hovertemplate": "<b>%{hovertext}</b><br><br>VESSEL NAME=shelf hydrophone2016-10-31 06:49:10<br>animation_frame=2016-10-31 06:40<br>LAT=%{lat}<br>LON=%{lon}<br>SPEED (KNOTSx10)=%{customdata[0]}<br>slfdist=%{customdata[1]}<extra></extra>",
           "hovertext": [
            "shelf hydrophone"
           ],
           "lat": [
            44.38132
           ],
           "legendgroup": "shelf hydrophone2016-10-31 06:49:10",
           "lon": [
            -124.18216
           ],
           "marker": {
            "color": "#FF97FF"
           },
           "mode": "markers",
           "name": "shelf hydrophone2016-10-31 06:49:10",
           "showlegend": true,
           "subplot": "mapbox",
           "type": "scattermapbox"
          },
          {
           "customdata": [
            [
             10,
             0
            ]
           ],
           "hovertemplate": "<b>%{hovertext}</b><br><br>VESSEL NAME=offshore hydrophone2016-10-31 06:49:10<br>animation_frame=2016-10-31 06:40<br>LAT=%{lat}<br>LON=%{lon}<br>SPEED (KNOTSx10)=%{customdata[0]}<br>slfdist=%{customdata[1]}<extra></extra>",
           "hovertext": [
            "offshore hydrophone"
           ],
           "lat": [
            44.2284
           ],
           "legendgroup": "offshore hydrophone2016-10-31 06:49:10",
           "lon": [
            -124.57144
           ],
           "marker": {
            "color": "#FECB52"
           },
           "mode": "markers",
           "name": "offshore hydrophone2016-10-31 06:49:10",
           "showlegend": true,
           "subplot": "mapbox",
           "type": "scattermapbox"
          },
          {
           "customdata": [
            [
             0,
             0
            ]
           ],
           "hovertemplate": "<b>%{hovertext}</b><br><br>VESSEL NAME=shelf hydrophone2016-10-31 06:49:26<br>animation_frame=2016-10-31 06:40<br>LAT=%{lat}<br>LON=%{lon}<br>SPEED (KNOTSx10)=%{customdata[0]}<br>slfdist=%{customdata[1]}<extra></extra>",
           "hovertext": [
            "shelf hydrophone"
           ],
           "lat": [
            44.38132
           ],
           "legendgroup": "shelf hydrophone2016-10-31 06:49:26",
           "lon": [
            -124.18216
           ],
           "marker": {
            "color": "#636efa"
           },
           "mode": "markers",
           "name": "shelf hydrophone2016-10-31 06:49:26",
           "showlegend": true,
           "subplot": "mapbox",
           "type": "scattermapbox"
          },
          {
           "customdata": [
            [
             10,
             0
            ]
           ],
           "hovertemplate": "<b>%{hovertext}</b><br><br>VESSEL NAME=offshore hydrophone2016-10-31 06:49:26<br>animation_frame=2016-10-31 06:40<br>LAT=%{lat}<br>LON=%{lon}<br>SPEED (KNOTSx10)=%{customdata[0]}<br>slfdist=%{customdata[1]}<extra></extra>",
           "hovertext": [
            "offshore hydrophone"
           ],
           "lat": [
            44.2284
           ],
           "legendgroup": "offshore hydrophone2016-10-31 06:49:26",
           "lon": [
            -124.57144
           ],
           "marker": {
            "color": "#EF553B"
           },
           "mode": "markers",
           "name": "offshore hydrophone2016-10-31 06:49:26",
           "showlegend": true,
           "subplot": "mapbox",
           "type": "scattermapbox"
          },
          {
           "customdata": [
            [
             0,
             0
            ]
           ],
           "hovertemplate": "<b>%{hovertext}</b><br><br>VESSEL NAME=shelf hydrophone2016-10-31 06:49:53<br>animation_frame=2016-10-31 06:40<br>LAT=%{lat}<br>LON=%{lon}<br>SPEED (KNOTSx10)=%{customdata[0]}<br>slfdist=%{customdata[1]}<extra></extra>",
           "hovertext": [
            "shelf hydrophone"
           ],
           "lat": [
            44.38132
           ],
           "legendgroup": "shelf hydrophone2016-10-31 06:49:53",
           "lon": [
            -124.18216
           ],
           "marker": {
            "color": "#00cc96"
           },
           "mode": "markers",
           "name": "shelf hydrophone2016-10-31 06:49:53",
           "showlegend": true,
           "subplot": "mapbox",
           "type": "scattermapbox"
          },
          {
           "customdata": [
            [
             10,
             0
            ]
           ],
           "hovertemplate": "<b>%{hovertext}</b><br><br>VESSEL NAME=offshore hydrophone2016-10-31 06:49:53<br>animation_frame=2016-10-31 06:40<br>LAT=%{lat}<br>LON=%{lon}<br>SPEED (KNOTSx10)=%{customdata[0]}<br>slfdist=%{customdata[1]}<extra></extra>",
           "hovertext": [
            "offshore hydrophone"
           ],
           "lat": [
            44.2284
           ],
           "legendgroup": "offshore hydrophone2016-10-31 06:49:53",
           "lon": [
            -124.57144
           ],
           "marker": {
            "color": "#ab63fa"
           },
           "mode": "markers",
           "name": "offshore hydrophone2016-10-31 06:49:53",
           "showlegend": true,
           "subplot": "mapbox",
           "type": "scattermapbox"
          }
         ],
         "name": "2016-10-31 06:40"
        }
       ],
       "layout": {
        "legend": {
         "title": {
          "text": "VESSEL NAME"
         },
         "tracegroupgap": 0
        },
        "mapbox": {
         "center": {
          "lat": 44.388732680412375,
          "lon": -124.41246477663228
         },
         "domain": {
          "x": [
           0,
           1
          ],
          "y": [
           0,
           1
          ]
         },
         "style": "carto-positron",
         "zoom": 5
        },
        "margin": {
         "t": 60
        },
        "sliders": [
         {
          "active": 0,
          "currentvalue": {
           "prefix": "animation_frame="
          },
          "len": 0.9,
          "pad": {
           "b": 10,
           "t": 60
          },
          "steps": [
           {
            "args": [
             [
              "2016-10-31 05:50"
             ],
             {
              "frame": {
               "duration": 0,
               "redraw": true
              },
              "fromcurrent": true,
              "mode": "immediate",
              "transition": {
               "duration": 0,
               "easing": "linear"
              }
             }
            ],
            "label": "2016-10-31 05:50",
            "method": "animate"
           },
           {
            "args": [
             [
              "2016-10-31 06:00"
             ],
             {
              "frame": {
               "duration": 0,
               "redraw": true
              },
              "fromcurrent": true,
              "mode": "immediate",
              "transition": {
               "duration": 0,
               "easing": "linear"
              }
             }
            ],
            "label": "2016-10-31 06:00",
            "method": "animate"
           },
           {
            "args": [
             [
              "2016-10-31 06:10"
             ],
             {
              "frame": {
               "duration": 0,
               "redraw": true
              },
              "fromcurrent": true,
              "mode": "immediate",
              "transition": {
               "duration": 0,
               "easing": "linear"
              }
             }
            ],
            "label": "2016-10-31 06:10",
            "method": "animate"
           },
           {
            "args": [
             [
              "2016-10-31 06:20"
             ],
             {
              "frame": {
               "duration": 0,
               "redraw": true
              },
              "fromcurrent": true,
              "mode": "immediate",
              "transition": {
               "duration": 0,
               "easing": "linear"
              }
             }
            ],
            "label": "2016-10-31 06:20",
            "method": "animate"
           },
           {
            "args": [
             [
              "2016-10-31 06:30"
             ],
             {
              "frame": {
               "duration": 0,
               "redraw": true
              },
              "fromcurrent": true,
              "mode": "immediate",
              "transition": {
               "duration": 0,
               "easing": "linear"
              }
             }
            ],
            "label": "2016-10-31 06:30",
            "method": "animate"
           },
           {
            "args": [
             [
              "2016-10-31 06:40"
             ],
             {
              "frame": {
               "duration": 0,
               "redraw": true
              },
              "fromcurrent": true,
              "mode": "immediate",
              "transition": {
               "duration": 0,
               "easing": "linear"
              }
             }
            ],
            "label": "2016-10-31 06:40",
            "method": "animate"
           }
          ],
          "x": 0.1,
          "xanchor": "left",
          "y": 0,
          "yanchor": "top"
         }
        ],
        "template": {
         "data": {
          "bar": [
           {
            "error_x": {
             "color": "#2a3f5f"
            },
            "error_y": {
             "color": "#2a3f5f"
            },
            "marker": {
             "line": {
              "color": "#E5ECF6",
              "width": 0.5
             },
             "pattern": {
              "fillmode": "overlay",
              "size": 10,
              "solidity": 0.2
             }
            },
            "type": "bar"
           }
          ],
          "barpolar": [
           {
            "marker": {
             "line": {
              "color": "#E5ECF6",
              "width": 0.5
             },
             "pattern": {
              "fillmode": "overlay",
              "size": 10,
              "solidity": 0.2
             }
            },
            "type": "barpolar"
           }
          ],
          "carpet": [
           {
            "aaxis": {
             "endlinecolor": "#2a3f5f",
             "gridcolor": "white",
             "linecolor": "white",
             "minorgridcolor": "white",
             "startlinecolor": "#2a3f5f"
            },
            "baxis": {
             "endlinecolor": "#2a3f5f",
             "gridcolor": "white",
             "linecolor": "white",
             "minorgridcolor": "white",
             "startlinecolor": "#2a3f5f"
            },
            "type": "carpet"
           }
          ],
          "choropleth": [
           {
            "colorbar": {
             "outlinewidth": 0,
             "ticks": ""
            },
            "type": "choropleth"
           }
          ],
          "contour": [
           {
            "colorbar": {
             "outlinewidth": 0,
             "ticks": ""
            },
            "colorscale": [
             [
              0,
              "#0d0887"
             ],
             [
              0.1111111111111111,
              "#46039f"
             ],
             [
              0.2222222222222222,
              "#7201a8"
             ],
             [
              0.3333333333333333,
              "#9c179e"
             ],
             [
              0.4444444444444444,
              "#bd3786"
             ],
             [
              0.5555555555555556,
              "#d8576b"
             ],
             [
              0.6666666666666666,
              "#ed7953"
             ],
             [
              0.7777777777777778,
              "#fb9f3a"
             ],
             [
              0.8888888888888888,
              "#fdca26"
             ],
             [
              1,
              "#f0f921"
             ]
            ],
            "type": "contour"
           }
          ],
          "contourcarpet": [
           {
            "colorbar": {
             "outlinewidth": 0,
             "ticks": ""
            },
            "type": "contourcarpet"
           }
          ],
          "heatmap": [
           {
            "colorbar": {
             "outlinewidth": 0,
             "ticks": ""
            },
            "colorscale": [
             [
              0,
              "#0d0887"
             ],
             [
              0.1111111111111111,
              "#46039f"
             ],
             [
              0.2222222222222222,
              "#7201a8"
             ],
             [
              0.3333333333333333,
              "#9c179e"
             ],
             [
              0.4444444444444444,
              "#bd3786"
             ],
             [
              0.5555555555555556,
              "#d8576b"
             ],
             [
              0.6666666666666666,
              "#ed7953"
             ],
             [
              0.7777777777777778,
              "#fb9f3a"
             ],
             [
              0.8888888888888888,
              "#fdca26"
             ],
             [
              1,
              "#f0f921"
             ]
            ],
            "type": "heatmap"
           }
          ],
          "heatmapgl": [
           {
            "colorbar": {
             "outlinewidth": 0,
             "ticks": ""
            },
            "colorscale": [
             [
              0,
              "#0d0887"
             ],
             [
              0.1111111111111111,
              "#46039f"
             ],
             [
              0.2222222222222222,
              "#7201a8"
             ],
             [
              0.3333333333333333,
              "#9c179e"
             ],
             [
              0.4444444444444444,
              "#bd3786"
             ],
             [
              0.5555555555555556,
              "#d8576b"
             ],
             [
              0.6666666666666666,
              "#ed7953"
             ],
             [
              0.7777777777777778,
              "#fb9f3a"
             ],
             [
              0.8888888888888888,
              "#fdca26"
             ],
             [
              1,
              "#f0f921"
             ]
            ],
            "type": "heatmapgl"
           }
          ],
          "histogram": [
           {
            "marker": {
             "pattern": {
              "fillmode": "overlay",
              "size": 10,
              "solidity": 0.2
             }
            },
            "type": "histogram"
           }
          ],
          "histogram2d": [
           {
            "colorbar": {
             "outlinewidth": 0,
             "ticks": ""
            },
            "colorscale": [
             [
              0,
              "#0d0887"
             ],
             [
              0.1111111111111111,
              "#46039f"
             ],
             [
              0.2222222222222222,
              "#7201a8"
             ],
             [
              0.3333333333333333,
              "#9c179e"
             ],
             [
              0.4444444444444444,
              "#bd3786"
             ],
             [
              0.5555555555555556,
              "#d8576b"
             ],
             [
              0.6666666666666666,
              "#ed7953"
             ],
             [
              0.7777777777777778,
              "#fb9f3a"
             ],
             [
              0.8888888888888888,
              "#fdca26"
             ],
             [
              1,
              "#f0f921"
             ]
            ],
            "type": "histogram2d"
           }
          ],
          "histogram2dcontour": [
           {
            "colorbar": {
             "outlinewidth": 0,
             "ticks": ""
            },
            "colorscale": [
             [
              0,
              "#0d0887"
             ],
             [
              0.1111111111111111,
              "#46039f"
             ],
             [
              0.2222222222222222,
              "#7201a8"
             ],
             [
              0.3333333333333333,
              "#9c179e"
             ],
             [
              0.4444444444444444,
              "#bd3786"
             ],
             [
              0.5555555555555556,
              "#d8576b"
             ],
             [
              0.6666666666666666,
              "#ed7953"
             ],
             [
              0.7777777777777778,
              "#fb9f3a"
             ],
             [
              0.8888888888888888,
              "#fdca26"
             ],
             [
              1,
              "#f0f921"
             ]
            ],
            "type": "histogram2dcontour"
           }
          ],
          "mesh3d": [
           {
            "colorbar": {
             "outlinewidth": 0,
             "ticks": ""
            },
            "type": "mesh3d"
           }
          ],
          "parcoords": [
           {
            "line": {
             "colorbar": {
              "outlinewidth": 0,
              "ticks": ""
             }
            },
            "type": "parcoords"
           }
          ],
          "pie": [
           {
            "automargin": true,
            "type": "pie"
           }
          ],
          "scatter": [
           {
            "fillpattern": {
             "fillmode": "overlay",
             "size": 10,
             "solidity": 0.2
            },
            "type": "scatter"
           }
          ],
          "scatter3d": [
           {
            "line": {
             "colorbar": {
              "outlinewidth": 0,
              "ticks": ""
             }
            },
            "marker": {
             "colorbar": {
              "outlinewidth": 0,
              "ticks": ""
             }
            },
            "type": "scatter3d"
           }
          ],
          "scattercarpet": [
           {
            "marker": {
             "colorbar": {
              "outlinewidth": 0,
              "ticks": ""
             }
            },
            "type": "scattercarpet"
           }
          ],
          "scattergeo": [
           {
            "marker": {
             "colorbar": {
              "outlinewidth": 0,
              "ticks": ""
             }
            },
            "type": "scattergeo"
           }
          ],
          "scattergl": [
           {
            "marker": {
             "colorbar": {
              "outlinewidth": 0,
              "ticks": ""
             }
            },
            "type": "scattergl"
           }
          ],
          "scattermapbox": [
           {
            "marker": {
             "colorbar": {
              "outlinewidth": 0,
              "ticks": ""
             }
            },
            "type": "scattermapbox"
           }
          ],
          "scatterpolar": [
           {
            "marker": {
             "colorbar": {
              "outlinewidth": 0,
              "ticks": ""
             }
            },
            "type": "scatterpolar"
           }
          ],
          "scatterpolargl": [
           {
            "marker": {
             "colorbar": {
              "outlinewidth": 0,
              "ticks": ""
             }
            },
            "type": "scatterpolargl"
           }
          ],
          "scatterternary": [
           {
            "marker": {
             "colorbar": {
              "outlinewidth": 0,
              "ticks": ""
             }
            },
            "type": "scatterternary"
           }
          ],
          "surface": [
           {
            "colorbar": {
             "outlinewidth": 0,
             "ticks": ""
            },
            "colorscale": [
             [
              0,
              "#0d0887"
             ],
             [
              0.1111111111111111,
              "#46039f"
             ],
             [
              0.2222222222222222,
              "#7201a8"
             ],
             [
              0.3333333333333333,
              "#9c179e"
             ],
             [
              0.4444444444444444,
              "#bd3786"
             ],
             [
              0.5555555555555556,
              "#d8576b"
             ],
             [
              0.6666666666666666,
              "#ed7953"
             ],
             [
              0.7777777777777778,
              "#fb9f3a"
             ],
             [
              0.8888888888888888,
              "#fdca26"
             ],
             [
              1,
              "#f0f921"
             ]
            ],
            "type": "surface"
           }
          ],
          "table": [
           {
            "cells": {
             "fill": {
              "color": "#EBF0F8"
             },
             "line": {
              "color": "white"
             }
            },
            "header": {
             "fill": {
              "color": "#C8D4E3"
             },
             "line": {
              "color": "white"
             }
            },
            "type": "table"
           }
          ]
         },
         "layout": {
          "annotationdefaults": {
           "arrowcolor": "#2a3f5f",
           "arrowhead": 0,
           "arrowwidth": 1
          },
          "autotypenumbers": "strict",
          "coloraxis": {
           "colorbar": {
            "outlinewidth": 0,
            "ticks": ""
           }
          },
          "colorscale": {
           "diverging": [
            [
             0,
             "#8e0152"
            ],
            [
             0.1,
             "#c51b7d"
            ],
            [
             0.2,
             "#de77ae"
            ],
            [
             0.3,
             "#f1b6da"
            ],
            [
             0.4,
             "#fde0ef"
            ],
            [
             0.5,
             "#f7f7f7"
            ],
            [
             0.6,
             "#e6f5d0"
            ],
            [
             0.7,
             "#b8e186"
            ],
            [
             0.8,
             "#7fbc41"
            ],
            [
             0.9,
             "#4d9221"
            ],
            [
             1,
             "#276419"
            ]
           ],
           "sequential": [
            [
             0,
             "#0d0887"
            ],
            [
             0.1111111111111111,
             "#46039f"
            ],
            [
             0.2222222222222222,
             "#7201a8"
            ],
            [
             0.3333333333333333,
             "#9c179e"
            ],
            [
             0.4444444444444444,
             "#bd3786"
            ],
            [
             0.5555555555555556,
             "#d8576b"
            ],
            [
             0.6666666666666666,
             "#ed7953"
            ],
            [
             0.7777777777777778,
             "#fb9f3a"
            ],
            [
             0.8888888888888888,
             "#fdca26"
            ],
            [
             1,
             "#f0f921"
            ]
           ],
           "sequentialminus": [
            [
             0,
             "#0d0887"
            ],
            [
             0.1111111111111111,
             "#46039f"
            ],
            [
             0.2222222222222222,
             "#7201a8"
            ],
            [
             0.3333333333333333,
             "#9c179e"
            ],
            [
             0.4444444444444444,
             "#bd3786"
            ],
            [
             0.5555555555555556,
             "#d8576b"
            ],
            [
             0.6666666666666666,
             "#ed7953"
            ],
            [
             0.7777777777777778,
             "#fb9f3a"
            ],
            [
             0.8888888888888888,
             "#fdca26"
            ],
            [
             1,
             "#f0f921"
            ]
           ]
          },
          "colorway": [
           "#636efa",
           "#EF553B",
           "#00cc96",
           "#ab63fa",
           "#FFA15A",
           "#19d3f3",
           "#FF6692",
           "#B6E880",
           "#FF97FF",
           "#FECB52"
          ],
          "font": {
           "color": "#2a3f5f"
          },
          "geo": {
           "bgcolor": "white",
           "lakecolor": "white",
           "landcolor": "#E5ECF6",
           "showlakes": true,
           "showland": true,
           "subunitcolor": "white"
          },
          "hoverlabel": {
           "align": "left"
          },
          "hovermode": "closest",
          "mapbox": {
           "style": "light"
          },
          "paper_bgcolor": "white",
          "plot_bgcolor": "#E5ECF6",
          "polar": {
           "angularaxis": {
            "gridcolor": "white",
            "linecolor": "white",
            "ticks": ""
           },
           "bgcolor": "#E5ECF6",
           "radialaxis": {
            "gridcolor": "white",
            "linecolor": "white",
            "ticks": ""
           }
          },
          "scene": {
           "xaxis": {
            "backgroundcolor": "#E5ECF6",
            "gridcolor": "white",
            "gridwidth": 2,
            "linecolor": "white",
            "showbackground": true,
            "ticks": "",
            "zerolinecolor": "white"
           },
           "yaxis": {
            "backgroundcolor": "#E5ECF6",
            "gridcolor": "white",
            "gridwidth": 2,
            "linecolor": "white",
            "showbackground": true,
            "ticks": "",
            "zerolinecolor": "white"
           },
           "zaxis": {
            "backgroundcolor": "#E5ECF6",
            "gridcolor": "white",
            "gridwidth": 2,
            "linecolor": "white",
            "showbackground": true,
            "ticks": "",
            "zerolinecolor": "white"
           }
          },
          "shapedefaults": {
           "line": {
            "color": "#2a3f5f"
           }
          },
          "ternary": {
           "aaxis": {
            "gridcolor": "white",
            "linecolor": "white",
            "ticks": ""
           },
           "baxis": {
            "gridcolor": "white",
            "linecolor": "white",
            "ticks": ""
           },
           "bgcolor": "#E5ECF6",
           "caxis": {
            "gridcolor": "white",
            "linecolor": "white",
            "ticks": ""
           }
          },
          "title": {
           "x": 0.05
          },
          "xaxis": {
           "automargin": true,
           "gridcolor": "white",
           "linecolor": "white",
           "ticks": "",
           "title": {
            "standoff": 15
           },
           "zerolinecolor": "white",
           "zerolinewidth": 2
          },
          "yaxis": {
           "automargin": true,
           "gridcolor": "white",
           "linecolor": "white",
           "ticks": "",
           "title": {
            "standoff": 15
           },
           "zerolinecolor": "white",
           "zerolinewidth": 2
          }
         }
        },
        "updatemenus": [
         {
          "buttons": [
           {
            "args": [
             null,
             {
              "frame": {
               "duration": 500,
               "redraw": true
              },
              "fromcurrent": true,
              "mode": "immediate",
              "transition": {
               "duration": 500,
               "easing": "linear"
              }
             }
            ],
            "label": "&#9654;",
            "method": "animate"
           },
           {
            "args": [
             [
              null
             ],
             {
              "frame": {
               "duration": 0,
               "redraw": true
              },
              "fromcurrent": true,
              "mode": "immediate",
              "transition": {
               "duration": 0,
               "easing": "linear"
              }
             }
            ],
            "label": "&#9724;",
            "method": "animate"
           }
          ],
          "direction": "left",
          "pad": {
           "r": 10,
           "t": 70
          },
          "showactive": false,
          "type": "buttons",
          "x": 0.1,
          "xanchor": "right",
          "y": 0,
          "yanchor": "top"
         }
        ]
       }
      }
     },
     "metadata": {},
     "output_type": "display_data"
    }
   ],
   "source": [
    "import plotly.express as px\n",
    "import datetime\n",
    "#def animate_map(starttime, endtime):\n",
    "starttime = '2016-10-31 05:50:00'\n",
    "endtime = '2016-10-31 06:50:00'\n",
    "subais = ais[(ais['TIMESTAMP UTC'] > starttime) & (ais['TIMESTAMP UTC'] < endtime)]\n",
    "time = subais['TIMESTAMP UTC']\n",
    "for i in time:\n",
    "    subais.loc[len(subais.index)] = [0,0,'shelf hydrophone'+str(i),'shelf hydrophone',0,0,0, -124.18216,44.38132,0,0, i, 0,0]\n",
    "    subais.loc[len(subais.index)] = [0,0,'offshore hydrophone'+str(i),'offshore hydrophone',0,0,10, -124.57144,44.2284,0,0, i, 0,0]\n",
    "subais = subais.reset_index()\n",
    "for i in range(len(subais)):\n",
    "    subais.loc[i,'TIMESTAMP UTC'] = subais.iloc[i]['TIMESTAMP UTC']- datetime.timedelta(minutes=subais.iloc[i]['TIMESTAMP UTC'].minute % 10)\n",
    "subais['TIMESTAMP UTC'] = subais['TIMESTAMP UTC'].dt.to_period('T')\n",
    "fig = px.scatter_mapbox(subais,\n",
    "            lat=\"LAT\" ,\n",
    "            lon=\"LON\",\n",
    "            hover_name=\"VESSEL TYPE\",\n",
    "            hover_data= ['SPEED (KNOTSx10)','slfdist'],\n",
    "            color=\"VESSEL NAME\",\n",
    "            animation_frame=subais['TIMESTAMP UTC'].astype(dtype=str),\n",
    "            mapbox_style='carto-positron',                 \n",
    "            zoom=5)\n",
    "fig.show();\n",
    "#animate_map('2016-10-31 05:50:00', '2016-10-31 06:50:00')"
   ]
  },
  {
   "cell_type": "code",
   "execution_count": null,
   "id": "c98a4e44",
   "metadata": {},
   "outputs": [
    {
     "ename": "ValueError",
     "evalue": "cannot set a row with mismatched columns",
     "output_type": "error",
     "traceback": [
      "\u001b[0;31m---------------------------------------------------------------------------\u001b[0m",
      "\u001b[0;31mValueError\u001b[0m                                Traceback (most recent call last)",
      "\u001b[0;32m/var/folders/s9/mll14c051qx8hmr_3mq3f0vx56kfc4/T/ipykernel_38155/1433657505.py\u001b[0m in \u001b[0;36m<module>\u001b[0;34m\u001b[0m\n\u001b[0;32m----> 1\u001b[0;31m \u001b[0manimate_map\u001b[0m\u001b[0;34m(\u001b[0m\u001b[0;34m'2016-10-31 05:50:00'\u001b[0m\u001b[0;34m,\u001b[0m \u001b[0;34m'2016-10-31 06:50:00'\u001b[0m\u001b[0;34m)\u001b[0m\u001b[0;34m\u001b[0m\u001b[0;34m\u001b[0m\u001b[0m\n\u001b[0m",
      "\u001b[0;32m/var/folders/s9/mll14c051qx8hmr_3mq3f0vx56kfc4/T/ipykernel_38155/4193614073.py\u001b[0m in \u001b[0;36manimate_map\u001b[0;34m(starttime, endtime)\u001b[0m\n\u001b[1;32m      5\u001b[0m     \u001b[0mtime\u001b[0m \u001b[0;34m=\u001b[0m \u001b[0msubais\u001b[0m\u001b[0;34m[\u001b[0m\u001b[0;34m'TIMESTAMP UTC'\u001b[0m\u001b[0;34m]\u001b[0m\u001b[0;34m\u001b[0m\u001b[0;34m\u001b[0m\u001b[0m\n\u001b[1;32m      6\u001b[0m     \u001b[0;32mfor\u001b[0m \u001b[0mi\u001b[0m \u001b[0;32min\u001b[0m \u001b[0mtime\u001b[0m\u001b[0;34m:\u001b[0m\u001b[0;34m\u001b[0m\u001b[0;34m\u001b[0m\u001b[0m\n\u001b[0;32m----> 7\u001b[0;31m         \u001b[0msubais\u001b[0m\u001b[0;34m.\u001b[0m\u001b[0mloc\u001b[0m\u001b[0;34m[\u001b[0m\u001b[0mlen\u001b[0m\u001b[0;34m(\u001b[0m\u001b[0msubais\u001b[0m\u001b[0;34m.\u001b[0m\u001b[0mindex\u001b[0m\u001b[0;34m)\u001b[0m\u001b[0;34m]\u001b[0m \u001b[0;34m=\u001b[0m \u001b[0;34m[\u001b[0m\u001b[0;36m0\u001b[0m\u001b[0;34m,\u001b[0m\u001b[0;36m0\u001b[0m\u001b[0;34m,\u001b[0m\u001b[0;34m'hydrophone'\u001b[0m\u001b[0;34m+\u001b[0m\u001b[0mstr\u001b[0m\u001b[0;34m(\u001b[0m\u001b[0mi\u001b[0m\u001b[0;34m)\u001b[0m\u001b[0;34m,\u001b[0m\u001b[0;34m'hydrophone'\u001b[0m\u001b[0;34m,\u001b[0m\u001b[0;36m0\u001b[0m\u001b[0;34m,\u001b[0m\u001b[0;36m0\u001b[0m\u001b[0;34m,\u001b[0m\u001b[0;36m0\u001b[0m\u001b[0;34m,\u001b[0m \u001b[0mhyd\u001b[0m\u001b[0;34m[\u001b[0m\u001b[0;36m1\u001b[0m\u001b[0;34m]\u001b[0m\u001b[0;34m,\u001b[0m\u001b[0mhyd\u001b[0m\u001b[0;34m[\u001b[0m\u001b[0;36m0\u001b[0m\u001b[0;34m]\u001b[0m\u001b[0;34m,\u001b[0m\u001b[0;36m0\u001b[0m\u001b[0;34m,\u001b[0m\u001b[0;36m0\u001b[0m\u001b[0;34m,\u001b[0m \u001b[0mi\u001b[0m\u001b[0;34m,\u001b[0m \u001b[0;36m0\u001b[0m\u001b[0;34m,\u001b[0m\u001b[0;36m0\u001b[0m\u001b[0;34m]\u001b[0m\u001b[0;34m\u001b[0m\u001b[0;34m\u001b[0m\u001b[0m\n\u001b[0m\u001b[1;32m      8\u001b[0m     \u001b[0msubais\u001b[0m \u001b[0;34m=\u001b[0m \u001b[0msubais\u001b[0m\u001b[0;34m.\u001b[0m\u001b[0mreset_index\u001b[0m\u001b[0;34m(\u001b[0m\u001b[0;34m)\u001b[0m\u001b[0;34m\u001b[0m\u001b[0;34m\u001b[0m\u001b[0m\n\u001b[1;32m      9\u001b[0m     \u001b[0;32mfor\u001b[0m \u001b[0mi\u001b[0m \u001b[0;32min\u001b[0m \u001b[0mrange\u001b[0m\u001b[0;34m(\u001b[0m\u001b[0mlen\u001b[0m\u001b[0;34m(\u001b[0m\u001b[0msubais\u001b[0m\u001b[0;34m)\u001b[0m\u001b[0;34m)\u001b[0m\u001b[0;34m:\u001b[0m\u001b[0;34m\u001b[0m\u001b[0;34m\u001b[0m\u001b[0m\n",
      "\u001b[0;32m/opt/anaconda3/lib/python3.7/site-packages/pandas/core/indexing.py\u001b[0m in \u001b[0;36m__setitem__\u001b[0;34m(self, key, value)\u001b[0m\n\u001b[1;32m    668\u001b[0m             \u001b[0mkey\u001b[0m \u001b[0;34m=\u001b[0m \u001b[0mcom\u001b[0m\u001b[0;34m.\u001b[0m\u001b[0mapply_if_callable\u001b[0m\u001b[0;34m(\u001b[0m\u001b[0mkey\u001b[0m\u001b[0;34m,\u001b[0m \u001b[0mself\u001b[0m\u001b[0;34m.\u001b[0m\u001b[0mobj\u001b[0m\u001b[0;34m)\u001b[0m\u001b[0;34m\u001b[0m\u001b[0;34m\u001b[0m\u001b[0m\n\u001b[1;32m    669\u001b[0m         \u001b[0mindexer\u001b[0m \u001b[0;34m=\u001b[0m \u001b[0mself\u001b[0m\u001b[0;34m.\u001b[0m\u001b[0m_get_setitem_indexer\u001b[0m\u001b[0;34m(\u001b[0m\u001b[0mkey\u001b[0m\u001b[0;34m)\u001b[0m\u001b[0;34m\u001b[0m\u001b[0;34m\u001b[0m\u001b[0m\n\u001b[0;32m--> 670\u001b[0;31m         \u001b[0mself\u001b[0m\u001b[0;34m.\u001b[0m\u001b[0m_setitem_with_indexer\u001b[0m\u001b[0;34m(\u001b[0m\u001b[0mindexer\u001b[0m\u001b[0;34m,\u001b[0m \u001b[0mvalue\u001b[0m\u001b[0;34m)\u001b[0m\u001b[0;34m\u001b[0m\u001b[0;34m\u001b[0m\u001b[0m\n\u001b[0m\u001b[1;32m    671\u001b[0m \u001b[0;34m\u001b[0m\u001b[0m\n\u001b[1;32m    672\u001b[0m     \u001b[0;32mdef\u001b[0m \u001b[0m_validate_key\u001b[0m\u001b[0;34m(\u001b[0m\u001b[0mself\u001b[0m\u001b[0;34m,\u001b[0m \u001b[0mkey\u001b[0m\u001b[0;34m,\u001b[0m \u001b[0maxis\u001b[0m\u001b[0;34m:\u001b[0m \u001b[0mint\u001b[0m\u001b[0;34m)\u001b[0m\u001b[0;34m:\u001b[0m\u001b[0;34m\u001b[0m\u001b[0;34m\u001b[0m\u001b[0m\n",
      "\u001b[0;32m/opt/anaconda3/lib/python3.7/site-packages/pandas/core/indexing.py\u001b[0m in \u001b[0;36m_setitem_with_indexer\u001b[0;34m(self, indexer, value)\u001b[0m\n\u001b[1;32m    872\u001b[0m \u001b[0;34m\u001b[0m\u001b[0m\n\u001b[1;32m    873\u001b[0m             \u001b[0;32mif\u001b[0m \u001b[0mmissing\u001b[0m\u001b[0;34m:\u001b[0m\u001b[0;34m\u001b[0m\u001b[0;34m\u001b[0m\u001b[0m\n\u001b[0;32m--> 874\u001b[0;31m                 \u001b[0;32mreturn\u001b[0m \u001b[0mself\u001b[0m\u001b[0;34m.\u001b[0m\u001b[0m_setitem_with_indexer_missing\u001b[0m\u001b[0;34m(\u001b[0m\u001b[0mindexer\u001b[0m\u001b[0;34m,\u001b[0m \u001b[0mvalue\u001b[0m\u001b[0;34m)\u001b[0m\u001b[0;34m\u001b[0m\u001b[0;34m\u001b[0m\u001b[0m\n\u001b[0m\u001b[1;32m    875\u001b[0m \u001b[0;34m\u001b[0m\u001b[0m\n\u001b[1;32m    876\u001b[0m         \u001b[0;31m# set\u001b[0m\u001b[0;34m\u001b[0m\u001b[0;34m\u001b[0m\u001b[0;34m\u001b[0m\u001b[0m\n",
      "\u001b[0;32m/opt/anaconda3/lib/python3.7/site-packages/pandas/core/indexing.py\u001b[0m in \u001b[0;36m_setitem_with_indexer_missing\u001b[0;34m(self, indexer, value)\u001b[0m\n\u001b[1;32m   1116\u001b[0m                     \u001b[0;31m# must have conforming columns\u001b[0m\u001b[0;34m\u001b[0m\u001b[0;34m\u001b[0m\u001b[0;34m\u001b[0m\u001b[0m\n\u001b[1;32m   1117\u001b[0m                     \u001b[0;32mif\u001b[0m \u001b[0mlen\u001b[0m\u001b[0;34m(\u001b[0m\u001b[0mvalue\u001b[0m\u001b[0;34m)\u001b[0m \u001b[0;34m!=\u001b[0m \u001b[0mlen\u001b[0m\u001b[0;34m(\u001b[0m\u001b[0mself\u001b[0m\u001b[0;34m.\u001b[0m\u001b[0mobj\u001b[0m\u001b[0;34m.\u001b[0m\u001b[0mcolumns\u001b[0m\u001b[0;34m)\u001b[0m\u001b[0;34m:\u001b[0m\u001b[0;34m\u001b[0m\u001b[0;34m\u001b[0m\u001b[0m\n\u001b[0;32m-> 1118\u001b[0;31m                         \u001b[0;32mraise\u001b[0m \u001b[0mValueError\u001b[0m\u001b[0;34m(\u001b[0m\u001b[0;34m\"cannot set a row with mismatched columns\"\u001b[0m\u001b[0;34m)\u001b[0m\u001b[0;34m\u001b[0m\u001b[0;34m\u001b[0m\u001b[0m\n\u001b[0m\u001b[1;32m   1119\u001b[0m \u001b[0;34m\u001b[0m\u001b[0m\n\u001b[1;32m   1120\u001b[0m                 \u001b[0mvalue\u001b[0m \u001b[0;34m=\u001b[0m \u001b[0mSeries\u001b[0m\u001b[0;34m(\u001b[0m\u001b[0mvalue\u001b[0m\u001b[0;34m,\u001b[0m \u001b[0mindex\u001b[0m\u001b[0;34m=\u001b[0m\u001b[0mself\u001b[0m\u001b[0;34m.\u001b[0m\u001b[0mobj\u001b[0m\u001b[0;34m.\u001b[0m\u001b[0mcolumns\u001b[0m\u001b[0;34m,\u001b[0m \u001b[0mname\u001b[0m\u001b[0;34m=\u001b[0m\u001b[0mindexer\u001b[0m\u001b[0;34m)\u001b[0m\u001b[0;34m\u001b[0m\u001b[0;34m\u001b[0m\u001b[0m\n",
      "\u001b[0;31mValueError\u001b[0m: cannot set a row with mismatched columns"
     ]
    }
   ],
   "source": []
  }
 ],
 "metadata": {
  "kernelspec": {
   "display_name": "Python 3.9.12 ('base')",
   "language": "python",
   "name": "python3"
  },
  "language_info": {
   "codemirror_mode": {
    "name": "ipython",
    "version": 3
   },
   "file_extension": ".py",
   "mimetype": "text/x-python",
   "name": "python",
   "nbconvert_exporter": "python",
   "pygments_lexer": "ipython3",
   "version": "3.9.12"
  },
  "vscode": {
   "interpreter": {
    "hash": "a881572e0f47ad42fbe19c9bef42a69b454c13522f4345672cdd837ecfaff96a"
   }
  }
 },
 "nbformat": 4,
 "nbformat_minor": 5
}
