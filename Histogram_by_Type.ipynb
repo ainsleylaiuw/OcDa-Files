{
 "cells": [
  {
   "cell_type": "markdown",
   "metadata": {},
   "source": [
    "# Histogram for Each Ship Type for Multiple Locations\n",
    "\n",
    "Histograms for the speed of the ship and distance from hydrophones"
   ]
  },
  {
   "cell_type": "code",
   "execution_count": 2,
   "metadata": {},
   "outputs": [],
   "source": [
    "# data\n",
    "import ooipy\n",
    "from ooipy.tools import ooiplotlib as ooiplt\n",
    "import pandas as pd\n",
    "import numpy as np\n",
    "#import functions as fn\n",
    "# plotting\n",
    "import matplotlib.pyplot as plt\n",
    "from matplotlib.lines import Line2D\n",
    "import matplotlib.colors as colors\n",
    "from matplotlib.colors import Normalize\n",
    "from matplotlib.backends.backend_agg import FigureCanvasAgg\n",
    "# IO\n",
    "from io import BytesIO\n",
    "import io\n",
    "import json"
   ]
  },
  {
   "cell_type": "code",
   "execution_count": null,
   "metadata": {},
   "outputs": [],
   "source": [
    "df = pd.read_csv('data/Axial_Base/AB_isolated_ais_10m_5_20.csv', sep=',')\n",
    "grouped_df = df.dropna(subset=['ud_group']).groupby('ud_group')\n",
    "\n",
    "for group_name, df_group in grouped_df:\n",
    "    print(group_name)\n",
    "    data = df_group['mean_speed(KNOTSx10)'].values\n",
    "    print(data.shape)\n",
    "    plt.hist(data)\n",
    "    plt.xlabel('Mean Speed (Knots x 10)')\n",
    "    plt.ylabel('Frequency')\n",
    "    plt.title(group_name + ' Ship Mean Speed Distribution')\n",
    "    plt.show()"
   ]
  },
  {
   "cell_type": "code",
   "execution_count": 26,
   "metadata": {},
   "outputs": [],
   "source": [
    "def plot_distribution(meta_data_CSV_path, location):\n",
    "    df = pd.read_csv(meta_data_CSV_path, sep=',')\n",
    "    grouped_df = df.dropna(subset=['ud_group']).groupby('ud_group')\n",
    "\n",
    "    for group_name, df_group in grouped_df:\n",
    "        print(group_name)\n",
    "        data = df_group['mean_speed(KNOTSx10)'].values\n",
    "        print(data.shape)\n",
    "        plt.hist(data)\n",
    "        plt.xlabel('Mean Speed (Knots x 10)')\n",
    "        plt.ylabel('Frequency')\n",
    "        plt.title(group_name + ' Ship Mean Speed Distribution')\n",
    "        #plt.show()\n",
    "        filepath = 'data/'+location+'/'\n",
    "        plt.savefig(filepath+group_name+'_speed_distribution.jpg', format='jpg')\n",
    "        plt.close()\n",
    "\n",
    "def plot_distribution_SOG(meta_data_CSV_path, location):\n",
    "    df = pd.read_csv(meta_data_CSV_path, sep=',')\n",
    "    grouped_df = df.dropna(subset=['ud_group']).groupby('ud_group')\n",
    "\n",
    "    for group_name, df_group in grouped_df:\n",
    "        print(group_name)\n",
    "\n",
    "        if (location=='Eastern_Caldera'):\n",
    "            data = df_group['SPEED (KNOTSx10)'].values\n",
    "            print(data.shape)\n",
    "            plt.hist(data)\n",
    "            plt.xlabel('Speed (Knots x 10)')\n",
    "            plt.ylabel('Frequency')\n",
    "            plt.title(group_name + ' Ship Speed Distribution')\n",
    "            #plt.show()\n",
    "            filepath = 'data/'+location+'/'\n",
    "            plt.savefig(filepath+group_name+'_speed_distribution.jpg', format='jpg')\n",
    "            plt.close()\n",
    "        else:\n",
    "            data = df_group['SOG'].values\n",
    "            print(data.shape)\n",
    "            plt.hist(data)\n",
    "            plt.xlabel('SOG')\n",
    "            plt.ylabel('Frequency')\n",
    "            plt.title(group_name + ' Ship SOG Distribution')\n",
    "            #plt.show()\n",
    "            filepath = 'data/'+location+'/'\n",
    "            plt.savefig(filepath+group_name+'_speed_distribution.jpg', format='jpg')\n",
    "            plt.close()\n",
    "        "
   ]
  },
  {
   "cell_type": "code",
   "execution_count": 22,
   "metadata": {},
   "outputs": [
    {
     "ename": "NameError",
     "evalue": "name 'filepath' is not defined",
     "output_type": "error",
     "traceback": [
      "\u001b[1;31m---------------------------------------------------------------------------\u001b[0m",
      "\u001b[1;31mNameError\u001b[0m                                 Traceback (most recent call last)",
      "\u001b[1;32mc:\\Users\\UserALai\\Documents\\Work\\Ocean Data\\OcDa-Files\\Histogram_by_Type.ipynb Cell 5'\u001b[0m in \u001b[0;36m<cell line: 1>\u001b[1;34m()\u001b[0m\n\u001b[1;32m----> <a href='vscode-notebook-cell:/c%3A/Users/UserALai/Documents/Work/Ocean%20Data/OcDa-Files/Histogram_by_Type.ipynb#ch0000009?line=0'>1</a>\u001b[0m filepath\n",
      "\u001b[1;31mNameError\u001b[0m: name 'filepath' is not defined"
     ]
    }
   ],
   "source": [
    "filepath"
   ]
  },
  {
   "cell_type": "code",
   "execution_count": 28,
   "metadata": {},
   "outputs": [
    {
     "name": "stdout",
     "output_type": "stream",
     "text": [
      "Cargo\n",
      "(78,)\n",
      "Fishing type\n",
      "(50,)\n",
      "Passenger\n",
      "(2,)\n",
      "Recreational\n",
      "(3,)\n",
      "Research\n",
      "(2932,)\n",
      "Tanker\n",
      "(10,)\n",
      "Cargo\n",
      "(234,)\n",
      "Fishing type\n",
      "(31,)\n",
      "Offshore\n",
      "(182,)\n",
      "Other purpose\n",
      "(4,)\n",
      "Research\n",
      "(6784,)\n",
      "Tanker\n",
      "(36,)\n",
      "Cargo\n"
     ]
    },
    {
     "ename": "KeyError",
     "evalue": "'mean_speed(KNOTSx10)'",
     "output_type": "error",
     "traceback": [
      "\u001b[1;31m---------------------------------------------------------------------------\u001b[0m",
      "\u001b[1;31mKeyError\u001b[0m                                  Traceback (most recent call last)",
      "File \u001b[1;32mc:\\Users\\UserALai\\miniconda3\\lib\\site-packages\\pandas\\core\\indexes\\base.py:3361\u001b[0m, in \u001b[0;36mIndex.get_loc\u001b[1;34m(self, key, method, tolerance)\u001b[0m\n\u001b[0;32m   3360\u001b[0m \u001b[39mtry\u001b[39;00m:\n\u001b[1;32m-> 3361\u001b[0m     \u001b[39mreturn\u001b[39;00m \u001b[39mself\u001b[39;49m\u001b[39m.\u001b[39;49m_engine\u001b[39m.\u001b[39;49mget_loc(casted_key)\n\u001b[0;32m   3362\u001b[0m \u001b[39mexcept\u001b[39;00m \u001b[39mKeyError\u001b[39;00m \u001b[39mas\u001b[39;00m err:\n",
      "File \u001b[1;32mc:\\Users\\UserALai\\miniconda3\\lib\\site-packages\\pandas\\_libs\\index.pyx:76\u001b[0m, in \u001b[0;36mpandas._libs.index.IndexEngine.get_loc\u001b[1;34m()\u001b[0m\n",
      "File \u001b[1;32mc:\\Users\\UserALai\\miniconda3\\lib\\site-packages\\pandas\\_libs\\index.pyx:108\u001b[0m, in \u001b[0;36mpandas._libs.index.IndexEngine.get_loc\u001b[1;34m()\u001b[0m\n",
      "File \u001b[1;32mpandas\\_libs\\hashtable_class_helper.pxi:5198\u001b[0m, in \u001b[0;36mpandas._libs.hashtable.PyObjectHashTable.get_item\u001b[1;34m()\u001b[0m\n",
      "File \u001b[1;32mpandas\\_libs\\hashtable_class_helper.pxi:5206\u001b[0m, in \u001b[0;36mpandas._libs.hashtable.PyObjectHashTable.get_item\u001b[1;34m()\u001b[0m\n",
      "\u001b[1;31mKeyError\u001b[0m: 'mean_speed(KNOTSx10)'",
      "\nThe above exception was the direct cause of the following exception:\n",
      "\u001b[1;31mKeyError\u001b[0m                                  Traceback (most recent call last)",
      "\u001b[1;32mc:\\Users\\UserALai\\Documents\\Work\\Ocean Data\\OcDa-Files\\Histogram_by_Type.ipynb Cell 6'\u001b[0m in \u001b[0;36m<cell line: 8>\u001b[1;34m()\u001b[0m\n\u001b[0;32m      <a href='vscode-notebook-cell:/c%3A/Users/UserALai/Documents/Work/Ocean%20Data/OcDa-Files/Histogram_by_Type.ipynb#ch0000008?line=4'>5</a>\u001b[0m plot_distribution(\u001b[39m'\u001b[39m\u001b[39mdata/Central_Caldera/CC_isolated_ais_10m_5_20.csv\u001b[39m\u001b[39m'\u001b[39m, \u001b[39m'\u001b[39m\u001b[39mCentral_Caldera\u001b[39m\u001b[39m'\u001b[39m)\n\u001b[0;32m      <a href='vscode-notebook-cell:/c%3A/Users/UserALai/Documents/Work/Ocean%20Data/OcDa-Files/Histogram_by_Type.ipynb#ch0000008?line=6'>7</a>\u001b[0m \u001b[39m# Eastern Caldera\u001b[39;00m\n\u001b[1;32m----> <a href='vscode-notebook-cell:/c%3A/Users/UserALai/Documents/Work/Ocean%20Data/OcDa-Files/Histogram_by_Type.ipynb#ch0000008?line=7'>8</a>\u001b[0m plot_distribution(\u001b[39m'\u001b[39;49m\u001b[39mdata/Eastern_Caldera/EC_isolated_ais_5_20.csv\u001b[39;49m\u001b[39m'\u001b[39;49m, \u001b[39m'\u001b[39;49m\u001b[39mEastern_Caldera\u001b[39;49m\u001b[39m'\u001b[39;49m)\n",
      "\u001b[1;32mc:\\Users\\UserALai\\Documents\\Work\\Ocean Data\\OcDa-Files\\Histogram_by_Type.ipynb Cell 4'\u001b[0m in \u001b[0;36mplot_distribution\u001b[1;34m(meta_data_CSV_path, location)\u001b[0m\n\u001b[0;32m      <a href='vscode-notebook-cell:/c%3A/Users/UserALai/Documents/Work/Ocean%20Data/OcDa-Files/Histogram_by_Type.ipynb#ch0000007?line=4'>5</a>\u001b[0m \u001b[39mfor\u001b[39;00m group_name, df_group \u001b[39min\u001b[39;00m grouped_df:\n\u001b[0;32m      <a href='vscode-notebook-cell:/c%3A/Users/UserALai/Documents/Work/Ocean%20Data/OcDa-Files/Histogram_by_Type.ipynb#ch0000007?line=5'>6</a>\u001b[0m     \u001b[39mprint\u001b[39m(group_name)\n\u001b[1;32m----> <a href='vscode-notebook-cell:/c%3A/Users/UserALai/Documents/Work/Ocean%20Data/OcDa-Files/Histogram_by_Type.ipynb#ch0000007?line=6'>7</a>\u001b[0m     data \u001b[39m=\u001b[39m df_group[\u001b[39m'\u001b[39;49m\u001b[39mmean_speed(KNOTSx10)\u001b[39;49m\u001b[39m'\u001b[39;49m]\u001b[39m.\u001b[39mvalues\n\u001b[0;32m      <a href='vscode-notebook-cell:/c%3A/Users/UserALai/Documents/Work/Ocean%20Data/OcDa-Files/Histogram_by_Type.ipynb#ch0000007?line=7'>8</a>\u001b[0m     \u001b[39mprint\u001b[39m(data\u001b[39m.\u001b[39mshape)\n\u001b[0;32m      <a href='vscode-notebook-cell:/c%3A/Users/UserALai/Documents/Work/Ocean%20Data/OcDa-Files/Histogram_by_Type.ipynb#ch0000007?line=8'>9</a>\u001b[0m     plt\u001b[39m.\u001b[39mhist(data)\n",
      "File \u001b[1;32mc:\\Users\\UserALai\\miniconda3\\lib\\site-packages\\pandas\\core\\frame.py:3458\u001b[0m, in \u001b[0;36mDataFrame.__getitem__\u001b[1;34m(self, key)\u001b[0m\n\u001b[0;32m   3456\u001b[0m \u001b[39mif\u001b[39;00m \u001b[39mself\u001b[39m\u001b[39m.\u001b[39mcolumns\u001b[39m.\u001b[39mnlevels \u001b[39m>\u001b[39m \u001b[39m1\u001b[39m:\n\u001b[0;32m   3457\u001b[0m     \u001b[39mreturn\u001b[39;00m \u001b[39mself\u001b[39m\u001b[39m.\u001b[39m_getitem_multilevel(key)\n\u001b[1;32m-> 3458\u001b[0m indexer \u001b[39m=\u001b[39m \u001b[39mself\u001b[39;49m\u001b[39m.\u001b[39;49mcolumns\u001b[39m.\u001b[39;49mget_loc(key)\n\u001b[0;32m   3459\u001b[0m \u001b[39mif\u001b[39;00m is_integer(indexer):\n\u001b[0;32m   3460\u001b[0m     indexer \u001b[39m=\u001b[39m [indexer]\n",
      "File \u001b[1;32mc:\\Users\\UserALai\\miniconda3\\lib\\site-packages\\pandas\\core\\indexes\\base.py:3363\u001b[0m, in \u001b[0;36mIndex.get_loc\u001b[1;34m(self, key, method, tolerance)\u001b[0m\n\u001b[0;32m   3361\u001b[0m         \u001b[39mreturn\u001b[39;00m \u001b[39mself\u001b[39m\u001b[39m.\u001b[39m_engine\u001b[39m.\u001b[39mget_loc(casted_key)\n\u001b[0;32m   3362\u001b[0m     \u001b[39mexcept\u001b[39;00m \u001b[39mKeyError\u001b[39;00m \u001b[39mas\u001b[39;00m err:\n\u001b[1;32m-> 3363\u001b[0m         \u001b[39mraise\u001b[39;00m \u001b[39mKeyError\u001b[39;00m(key) \u001b[39mfrom\u001b[39;00m \u001b[39merr\u001b[39;00m\n\u001b[0;32m   3365\u001b[0m \u001b[39mif\u001b[39;00m is_scalar(key) \u001b[39mand\u001b[39;00m isna(key) \u001b[39mand\u001b[39;00m \u001b[39mnot\u001b[39;00m \u001b[39mself\u001b[39m\u001b[39m.\u001b[39mhasnans:\n\u001b[0;32m   3366\u001b[0m     \u001b[39mraise\u001b[39;00m \u001b[39mKeyError\u001b[39;00m(key)\n",
      "\u001b[1;31mKeyError\u001b[0m: 'mean_speed(KNOTSx10)'"
     ]
    }
   ],
   "source": [
    "# Axial Base\n",
    "plot_distribution('data/Axial_Base/AB_isolated_ais_10m_5_20.csv', 'Axial_Base')\n",
    "\n",
    "# Central Caldera\n",
    "plot_distribution('data/Central_Caldera/CC_isolated_ais_10m_5_20.csv', 'Central_Caldera')\n",
    "\n",
    "# Eastern Caldera\n",
    "plot_distribution('data/Eastern_Caldera/EC_isolated_ais_5_20.csv', 'Eastern_Caldera')"
   ]
  }
 ],
 "metadata": {
  "kernelspec": {
   "display_name": "Python 3.9.12 ('base')",
   "language": "python",
   "name": "python3"
  },
  "language_info": {
   "codemirror_mode": {
    "name": "ipython",
    "version": 3
   },
   "file_extension": ".py",
   "mimetype": "text/x-python",
   "name": "python",
   "nbconvert_exporter": "python",
   "pygments_lexer": "ipython3",
   "version": "3.9.12"
  },
  "orig_nbformat": 4,
  "vscode": {
   "interpreter": {
    "hash": "a881572e0f47ad42fbe19c9bef42a69b454c13522f4345672cdd837ecfaff96a"
   }
  }
 },
 "nbformat": 4,
 "nbformat_minor": 2
}
