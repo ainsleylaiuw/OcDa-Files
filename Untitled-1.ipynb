{
 "cells": [
  {
   "cell_type": "markdown",
   "metadata": {},
   "source": [
    "# Refactored ODL Notebook\n",
    "\n",
    "Refactored to use avg_time=1 data. Made 06/10/2023"
   ]
  },
  {
   "cell_type": "markdown",
   "metadata": {},
   "source": [
    "## Imports"
   ]
  },
  {
   "cell_type": "code",
   "execution_count": 2,
   "metadata": {},
   "outputs": [
    {
     "name": "stderr",
     "output_type": "stream",
     "text": [
      "c:\\Users\\UserALai\\miniconda3\\lib\\site-packages\\scipy\\__init__.py:146: UserWarning: A NumPy version >=1.16.5 and <1.23.0 is required for this version of SciPy (detected version 1.23.5\n",
      "  warnings.warn(f\"A NumPy version >={np_minversion} and <{np_maxversion}\"\n"
     ]
    }
   ],
   "source": [
    "# data\n",
    "from obspy import read as obsread\n",
    "import ooipy\n",
    "from ooipy.tools import ooiplotlib as ooiplt\n",
    "import pandas as pd\n",
    "import numpy as np\n",
    "#import functions as fn\n",
    "# plotting\n",
    "#import matplotlib\n",
    "#matplotlib.use('TkAgg')\n",
    "import matplotlib.pyplot as plt\n",
    "from matplotlib.lines import Line2D\n",
    "import matplotlib.colors as colors\n",
    "from matplotlib.colors import Normalize\n",
    "from matplotlib.backends.backend_agg import FigureCanvasAgg\n",
    "# IO\n",
    "from io import BytesIO\n",
    "import io\n",
    "import json\n",
    "from scipy.io import wavfile\n",
    "\n",
    "# general\n",
    "from datetime import datetime\n",
    "import re\n",
    "\n",
    "from scipy.signal import welch\n",
    "\n",
    "from geopy.distance import geodesic\n",
    "import plotly.express as px\n",
    "import datetime"
   ]
  },
  {
   "cell_type": "code",
   "execution_count": 10,
   "metadata": {},
   "outputs": [
    {
     "data": {
      "text/html": [
       "<div>\n",
       "<style scoped>\n",
       "    .dataframe tbody tr th:only-of-type {\n",
       "        vertical-align: middle;\n",
       "    }\n",
       "\n",
       "    .dataframe tbody tr th {\n",
       "        vertical-align: top;\n",
       "    }\n",
       "\n",
       "    .dataframe thead th {\n",
       "        text-align: right;\n",
       "    }\n",
       "</style>\n",
       "<table border=\"1\" class=\"dataframe\">\n",
       "  <thead>\n",
       "    <tr style=\"text-align: right;\">\n",
       "      <th></th>\n",
       "      <th>Unnamed: 0</th>\n",
       "      <th>MMSI</th>\n",
       "      <th>SHIPNAME</th>\n",
       "      <th>VESSEL TYPE</th>\n",
       "      <th>SPEED (KNOTSx10)</th>\n",
       "      <th>COURSE</th>\n",
       "      <th>HEADING</th>\n",
       "      <th>TIMESTAMP UTC</th>\n",
       "      <th>LENGTH</th>\n",
       "      <th>Year</th>\n",
       "      <th>ship_Loc</th>\n",
       "      <th>LAT</th>\n",
       "      <th>LON</th>\n",
       "      <th>distance(in km)</th>\n",
       "      <th>eastern_caldera_Loc</th>\n",
       "      <th>instance_id</th>\n",
       "      <th>ud_group</th>\n",
       "      <th>ecdist</th>\n",
       "      <th>ccdist</th>\n",
       "    </tr>\n",
       "  </thead>\n",
       "  <tbody>\n",
       "    <tr>\n",
       "      <th>16871</th>\n",
       "      <td>16871</td>\n",
       "      <td>372305000</td>\n",
       "      <td>FEDERAL IRIS</td>\n",
       "      <td>Bulk Carrier</td>\n",
       "      <td>11</td>\n",
       "      <td>99</td>\n",
       "      <td>9</td>\n",
       "      <td>2016-08-28 10:36:44</td>\n",
       "      <td>199.98</td>\n",
       "      <td>2016</td>\n",
       "      <td>(45.9382, -130.0353)</td>\n",
       "      <td>45.93820</td>\n",
       "      <td>-130.0353</td>\n",
       "      <td>4.74</td>\n",
       "      <td>(45.9399, -129.9742)</td>\n",
       "      <td>EC_20160828103644_20160828104644</td>\n",
       "      <td>Cargo</td>\n",
       "      <td>2.946522</td>\n",
       "      <td>1.717023</td>\n",
       "    </tr>\n",
       "    <tr>\n",
       "      <th>16872</th>\n",
       "      <td>16872</td>\n",
       "      <td>372305000</td>\n",
       "      <td>FEDERAL IRIS</td>\n",
       "      <td>Bulk Carrier</td>\n",
       "      <td>11</td>\n",
       "      <td>90</td>\n",
       "      <td>9</td>\n",
       "      <td>2016-08-28 10:43:04</td>\n",
       "      <td>199.98</td>\n",
       "      <td>2016</td>\n",
       "      <td>(45.93805, -130.0327)</td>\n",
       "      <td>45.93805</td>\n",
       "      <td>-130.0327</td>\n",
       "      <td>4.54</td>\n",
       "      <td>(45.9399, -129.9742)</td>\n",
       "      <td>EC_20160828103644_20160828104644</td>\n",
       "      <td>Cargo</td>\n",
       "      <td>2.821796</td>\n",
       "      <td>1.633769</td>\n",
       "    </tr>\n",
       "    <tr>\n",
       "      <th>16873</th>\n",
       "      <td>16873</td>\n",
       "      <td>372305000</td>\n",
       "      <td>FEDERAL IRIS</td>\n",
       "      <td>Bulk Carrier</td>\n",
       "      <td>10</td>\n",
       "      <td>91</td>\n",
       "      <td>10</td>\n",
       "      <td>2016-08-28 10:51:15</td>\n",
       "      <td>199.98</td>\n",
       "      <td>2016</td>\n",
       "      <td>(45.9379, -130.0295)</td>\n",
       "      <td>45.93790</td>\n",
       "      <td>-130.0295</td>\n",
       "      <td>4.29</td>\n",
       "      <td>(45.9399, -129.9742)</td>\n",
       "      <td>EC_20160828104644_20160828105644</td>\n",
       "      <td>Cargo</td>\n",
       "      <td>2.668286</td>\n",
       "      <td>1.537405</td>\n",
       "    </tr>\n",
       "    <tr>\n",
       "      <th>16874</th>\n",
       "      <td>16874</td>\n",
       "      <td>372305000</td>\n",
       "      <td>FEDERAL IRIS</td>\n",
       "      <td>Bulk Carrier</td>\n",
       "      <td>9</td>\n",
       "      <td>90</td>\n",
       "      <td>13</td>\n",
       "      <td>2016-08-28 11:01:14</td>\n",
       "      <td>199.98</td>\n",
       "      <td>2016</td>\n",
       "      <td>(45.93753, -130.0257)</td>\n",
       "      <td>45.93753</td>\n",
       "      <td>-130.0257</td>\n",
       "      <td>4.00</td>\n",
       "      <td>(45.9399, -129.9742)</td>\n",
       "      <td>EC_20160828105644_20160828110644</td>\n",
       "      <td>Cargo</td>\n",
       "      <td>2.487001</td>\n",
       "      <td>1.447196</td>\n",
       "    </tr>\n",
       "    <tr>\n",
       "      <th>16875</th>\n",
       "      <td>16875</td>\n",
       "      <td>372305000</td>\n",
       "      <td>FEDERAL IRIS</td>\n",
       "      <td>Bulk Carrier</td>\n",
       "      <td>11</td>\n",
       "      <td>93</td>\n",
       "      <td>23</td>\n",
       "      <td>2016-08-28 11:07:53</td>\n",
       "      <td>199.98</td>\n",
       "      <td>2016</td>\n",
       "      <td>(45.93736, -130.0229)</td>\n",
       "      <td>45.93736</td>\n",
       "      <td>-130.0229</td>\n",
       "      <td>3.79</td>\n",
       "      <td>(45.9399, -129.9742)</td>\n",
       "      <td>EC_20160828110644_20160828111644</td>\n",
       "      <td>Cargo</td>\n",
       "      <td>2.353238</td>\n",
       "      <td>1.386541</td>\n",
       "    </tr>\n",
       "    <tr>\n",
       "      <th>16876</th>\n",
       "      <td>16876</td>\n",
       "      <td>372305000</td>\n",
       "      <td>FEDERAL IRIS</td>\n",
       "      <td>Bulk Carrier</td>\n",
       "      <td>10</td>\n",
       "      <td>92</td>\n",
       "      <td>19</td>\n",
       "      <td>2016-08-28 11:13:04</td>\n",
       "      <td>199.98</td>\n",
       "      <td>2016</td>\n",
       "      <td>(45.93718, -130.0205)</td>\n",
       "      <td>45.93718</td>\n",
       "      <td>-130.0205</td>\n",
       "      <td>3.60</td>\n",
       "      <td>(45.9399, -129.9742)</td>\n",
       "      <td>EC_20160828110644_20160828111644</td>\n",
       "      <td>Cargo</td>\n",
       "      <td>2.238940</td>\n",
       "      <td>1.345417</td>\n",
       "    </tr>\n",
       "    <tr>\n",
       "      <th>16877</th>\n",
       "      <td>16877</td>\n",
       "      <td>372305000</td>\n",
       "      <td>FEDERAL IRIS</td>\n",
       "      <td>Bulk Carrier</td>\n",
       "      <td>12</td>\n",
       "      <td>94</td>\n",
       "      <td>16</td>\n",
       "      <td>2016-08-28 11:18:45</td>\n",
       "      <td>199.98</td>\n",
       "      <td>2016</td>\n",
       "      <td>(45.93695, -130.0177)</td>\n",
       "      <td>45.93695</td>\n",
       "      <td>-130.0177</td>\n",
       "      <td>3.39</td>\n",
       "      <td>(45.9399, -129.9742)</td>\n",
       "      <td>EC_20160828111644_20160828112644</td>\n",
       "      <td>Cargo</td>\n",
       "      <td>2.106006</td>\n",
       "      <td>1.310224</td>\n",
       "    </tr>\n",
       "    <tr>\n",
       "      <th>16878</th>\n",
       "      <td>16878</td>\n",
       "      <td>372305000</td>\n",
       "      <td>FEDERAL IRIS</td>\n",
       "      <td>Bulk Carrier</td>\n",
       "      <td>12</td>\n",
       "      <td>98</td>\n",
       "      <td>29</td>\n",
       "      <td>2016-08-28 11:34:35</td>\n",
       "      <td>199.98</td>\n",
       "      <td>2016</td>\n",
       "      <td>(45.93631, -130.0101)</td>\n",
       "      <td>45.93631</td>\n",
       "      <td>-130.0101</td>\n",
       "      <td>2.81</td>\n",
       "      <td>(45.9399, -129.9742)</td>\n",
       "      <td>EC_20160828112644_20160828113644</td>\n",
       "      <td>Cargo</td>\n",
       "      <td>1.747595</td>\n",
       "      <td>1.285230</td>\n",
       "    </tr>\n",
       "    <tr>\n",
       "      <th>16881</th>\n",
       "      <td>16881</td>\n",
       "      <td>372305000</td>\n",
       "      <td>FEDERAL IRIS</td>\n",
       "      <td>Bulk Carrier</td>\n",
       "      <td>13</td>\n",
       "      <td>89</td>\n",
       "      <td>10</td>\n",
       "      <td>2016-08-28 11:59:45</td>\n",
       "      <td>199.98</td>\n",
       "      <td>2016</td>\n",
       "      <td>(45.93566, -129.9972)</td>\n",
       "      <td>45.93566</td>\n",
       "      <td>-129.9972</td>\n",
       "      <td>1.84</td>\n",
       "      <td>(45.9399, -129.9742)</td>\n",
       "      <td>EC_20160828115644_20160828120644</td>\n",
       "      <td>Cargo</td>\n",
       "      <td>1.146344</td>\n",
       "      <td>1.443448</td>\n",
       "    </tr>\n",
       "    <tr>\n",
       "      <th>16882</th>\n",
       "      <td>16882</td>\n",
       "      <td>372305000</td>\n",
       "      <td>FEDERAL IRIS</td>\n",
       "      <td>Bulk Carrier</td>\n",
       "      <td>13</td>\n",
       "      <td>98</td>\n",
       "      <td>8</td>\n",
       "      <td>2016-08-28 12:06:35</td>\n",
       "      <td>199.98</td>\n",
       "      <td>2016</td>\n",
       "      <td>(45.93555, -129.9936)</td>\n",
       "      <td>45.93555</td>\n",
       "      <td>-129.9936</td>\n",
       "      <td>1.58</td>\n",
       "      <td>(45.9399, -129.9742)</td>\n",
       "      <td>EC_20160828115644_20160828120644</td>\n",
       "      <td>Cargo</td>\n",
       "      <td>0.981927</td>\n",
       "      <td>1.526248</td>\n",
       "    </tr>\n",
       "    <tr>\n",
       "      <th>16884</th>\n",
       "      <td>16884</td>\n",
       "      <td>372305000</td>\n",
       "      <td>FEDERAL IRIS</td>\n",
       "      <td>Bulk Carrier</td>\n",
       "      <td>11</td>\n",
       "      <td>93</td>\n",
       "      <td>2</td>\n",
       "      <td>2016-08-28 12:24:04</td>\n",
       "      <td>199.98</td>\n",
       "      <td>2016</td>\n",
       "      <td>(45.93445, -129.9859)</td>\n",
       "      <td>45.93445</td>\n",
       "      <td>-129.9859</td>\n",
       "      <td>1.09</td>\n",
       "      <td>(45.9399, -129.9742)</td>\n",
       "      <td>EC_20160828121644_20160828122644</td>\n",
       "      <td>Cargo</td>\n",
       "      <td>0.677902</td>\n",
       "      <td>1.795242</td>\n",
       "    </tr>\n",
       "    <tr>\n",
       "      <th>16885</th>\n",
       "      <td>16885</td>\n",
       "      <td>372305000</td>\n",
       "      <td>FEDERAL IRIS</td>\n",
       "      <td>Bulk Carrier</td>\n",
       "      <td>11</td>\n",
       "      <td>93</td>\n",
       "      <td>2</td>\n",
       "      <td>2016-08-28 12:26:14</td>\n",
       "      <td>199.98</td>\n",
       "      <td>2016</td>\n",
       "      <td>(45.93439, -129.9849)</td>\n",
       "      <td>45.93439</td>\n",
       "      <td>-129.9849</td>\n",
       "      <td>1.03</td>\n",
       "      <td>(45.9399, -129.9742)</td>\n",
       "      <td>EC_20160828121644_20160828122644</td>\n",
       "      <td>Cargo</td>\n",
       "      <td>0.640838</td>\n",
       "      <td>1.828586</td>\n",
       "    </tr>\n",
       "    <tr>\n",
       "      <th>16887</th>\n",
       "      <td>16887</td>\n",
       "      <td>372305000</td>\n",
       "      <td>FEDERAL IRIS</td>\n",
       "      <td>Bulk Carrier</td>\n",
       "      <td>12</td>\n",
       "      <td>100</td>\n",
       "      <td>353</td>\n",
       "      <td>2016-08-28 12:44:45</td>\n",
       "      <td>199.98</td>\n",
       "      <td>2016</td>\n",
       "      <td>(45.93347, -129.9768)</td>\n",
       "      <td>45.93347</td>\n",
       "      <td>-129.9768</td>\n",
       "      <td>0.74</td>\n",
       "      <td>(45.9399, -129.9742)</td>\n",
       "      <td>EC_20160828123644_20160828124644</td>\n",
       "      <td>Cargo</td>\n",
       "      <td>0.461426</td>\n",
       "      <td>2.140726</td>\n",
       "    </tr>\n",
       "    <tr>\n",
       "      <th>16888</th>\n",
       "      <td>16888</td>\n",
       "      <td>372305000</td>\n",
       "      <td>FEDERAL IRIS</td>\n",
       "      <td>Bulk Carrier</td>\n",
       "      <td>12</td>\n",
       "      <td>96</td>\n",
       "      <td>352</td>\n",
       "      <td>2016-08-28 12:56:24</td>\n",
       "      <td>199.98</td>\n",
       "      <td>2016</td>\n",
       "      <td>(45.93256, -129.9715)</td>\n",
       "      <td>45.93256</td>\n",
       "      <td>-129.9715</td>\n",
       "      <td>0.84</td>\n",
       "      <td>(45.9399, -129.9742)</td>\n",
       "      <td>EC_20160828124644_20160828125644</td>\n",
       "      <td>Cargo</td>\n",
       "      <td>0.523371</td>\n",
       "      <td>2.372314</td>\n",
       "    </tr>\n",
       "    <tr>\n",
       "      <th>16889</th>\n",
       "      <td>16889</td>\n",
       "      <td>372305000</td>\n",
       "      <td>FEDERAL IRIS</td>\n",
       "      <td>Bulk Carrier</td>\n",
       "      <td>12</td>\n",
       "      <td>94</td>\n",
       "      <td>352</td>\n",
       "      <td>2016-08-28 13:02:04</td>\n",
       "      <td>199.98</td>\n",
       "      <td>2016</td>\n",
       "      <td>(45.93235, -129.9688)</td>\n",
       "      <td>45.93235</td>\n",
       "      <td>-129.9688</td>\n",
       "      <td>0.94</td>\n",
       "      <td>(45.9399, -129.9742)</td>\n",
       "      <td>EC_20160828125644_20160828130644</td>\n",
       "      <td>Cargo</td>\n",
       "      <td>0.582768</td>\n",
       "      <td>2.481660</td>\n",
       "    </tr>\n",
       "    <tr>\n",
       "      <th>16890</th>\n",
       "      <td>16890</td>\n",
       "      <td>372305000</td>\n",
       "      <td>FEDERAL IRIS</td>\n",
       "      <td>Bulk Carrier</td>\n",
       "      <td>12</td>\n",
       "      <td>91</td>\n",
       "      <td>351</td>\n",
       "      <td>2016-08-28 13:05:05</td>\n",
       "      <td>199.98</td>\n",
       "      <td>2016</td>\n",
       "      <td>(45.93227, -129.9673)</td>\n",
       "      <td>45.93227</td>\n",
       "      <td>-129.9673</td>\n",
       "      <td>1.00</td>\n",
       "      <td>(45.9399, -129.9742)</td>\n",
       "      <td>EC_20160828125644_20160828130644</td>\n",
       "      <td>Cargo</td>\n",
       "      <td>0.623101</td>\n",
       "      <td>2.541729</td>\n",
       "    </tr>\n",
       "    <tr>\n",
       "      <th>16891</th>\n",
       "      <td>16891</td>\n",
       "      <td>372305000</td>\n",
       "      <td>FEDERAL IRIS</td>\n",
       "      <td>Bulk Carrier</td>\n",
       "      <td>12</td>\n",
       "      <td>91</td>\n",
       "      <td>346</td>\n",
       "      <td>2016-08-28 13:10:25</td>\n",
       "      <td>199.98</td>\n",
       "      <td>2016</td>\n",
       "      <td>(45.93222, -129.9647)</td>\n",
       "      <td>45.93222</td>\n",
       "      <td>-129.9647</td>\n",
       "      <td>1.13</td>\n",
       "      <td>(45.9399, -129.9742)</td>\n",
       "      <td>EC_20160828130644_20160828131644</td>\n",
       "      <td>Cargo</td>\n",
       "      <td>0.700660</td>\n",
       "      <td>2.643688</td>\n",
       "    </tr>\n",
       "    <tr>\n",
       "      <th>16894</th>\n",
       "      <td>16894</td>\n",
       "      <td>372305000</td>\n",
       "      <td>FEDERAL IRIS</td>\n",
       "      <td>Bulk Carrier</td>\n",
       "      <td>11</td>\n",
       "      <td>106</td>\n",
       "      <td>346</td>\n",
       "      <td>2016-08-28 13:45:35</td>\n",
       "      <td>199.98</td>\n",
       "      <td>2016</td>\n",
       "      <td>(45.93041, -129.9495)</td>\n",
       "      <td>45.93041</td>\n",
       "      <td>-129.9495</td>\n",
       "      <td>2.19</td>\n",
       "      <td>(45.9399, -129.9742)</td>\n",
       "      <td>EC_20160828133644_20160828134644</td>\n",
       "      <td>Cargo</td>\n",
       "      <td>1.358811</td>\n",
       "      <td>3.324513</td>\n",
       "    </tr>\n",
       "    <tr>\n",
       "      <th>16895</th>\n",
       "      <td>16895</td>\n",
       "      <td>372305000</td>\n",
       "      <td>FEDERAL IRIS</td>\n",
       "      <td>Bulk Carrier</td>\n",
       "      <td>10</td>\n",
       "      <td>105</td>\n",
       "      <td>344</td>\n",
       "      <td>2016-08-28 13:53:25</td>\n",
       "      <td>199.98</td>\n",
       "      <td>2016</td>\n",
       "      <td>(45.92963, -129.9462)</td>\n",
       "      <td>45.92963</td>\n",
       "      <td>-129.9462</td>\n",
       "      <td>2.45</td>\n",
       "      <td>(45.9399, -129.9742)</td>\n",
       "      <td>EC_20160828134644_20160828135644</td>\n",
       "      <td>Cargo</td>\n",
       "      <td>1.524393</td>\n",
       "      <td>3.488997</td>\n",
       "    </tr>\n",
       "    <tr>\n",
       "      <th>16897</th>\n",
       "      <td>16897</td>\n",
       "      <td>372305000</td>\n",
       "      <td>FEDERAL IRIS</td>\n",
       "      <td>Bulk Carrier</td>\n",
       "      <td>9</td>\n",
       "      <td>95</td>\n",
       "      <td>335</td>\n",
       "      <td>2016-08-28 14:11:05</td>\n",
       "      <td>199.98</td>\n",
       "      <td>2016</td>\n",
       "      <td>(45.92856, -129.9396)</td>\n",
       "      <td>45.92856</td>\n",
       "      <td>-129.9396</td>\n",
       "      <td>2.96</td>\n",
       "      <td>(45.9399, -129.9742)</td>\n",
       "      <td>EC_20160828140644_20160828141644</td>\n",
       "      <td>Cargo</td>\n",
       "      <td>1.842171</td>\n",
       "      <td>3.802545</td>\n",
       "    </tr>\n",
       "    <tr>\n",
       "      <th>16898</th>\n",
       "      <td>16898</td>\n",
       "      <td>372305000</td>\n",
       "      <td>FEDERAL IRIS</td>\n",
       "      <td>Bulk Carrier</td>\n",
       "      <td>9</td>\n",
       "      <td>93</td>\n",
       "      <td>332</td>\n",
       "      <td>2016-08-28 14:13:36</td>\n",
       "      <td>199.98</td>\n",
       "      <td>2016</td>\n",
       "      <td>(45.92849, -129.9387)</td>\n",
       "      <td>45.92849</td>\n",
       "      <td>-129.9387</td>\n",
       "      <td>3.03</td>\n",
       "      <td>(45.9399, -129.9742)</td>\n",
       "      <td>EC_20160828140644_20160828141644</td>\n",
       "      <td>Cargo</td>\n",
       "      <td>1.883536</td>\n",
       "      <td>3.842976</td>\n",
       "    </tr>\n",
       "    <tr>\n",
       "      <th>16900</th>\n",
       "      <td>16900</td>\n",
       "      <td>372305000</td>\n",
       "      <td>FEDERAL IRIS</td>\n",
       "      <td>Bulk Carrier</td>\n",
       "      <td>9</td>\n",
       "      <td>96</td>\n",
       "      <td>335</td>\n",
       "      <td>2016-08-28 14:27:15</td>\n",
       "      <td>199.98</td>\n",
       "      <td>2016</td>\n",
       "      <td>(45.92787, -129.934)</td>\n",
       "      <td>45.92787</td>\n",
       "      <td>-129.9340</td>\n",
       "      <td>3.39</td>\n",
       "      <td>(45.9399, -129.9742)</td>\n",
       "      <td>EC_20160828142644_20160828143644</td>\n",
       "      <td>Cargo</td>\n",
       "      <td>2.107921</td>\n",
       "      <td>4.063248</td>\n",
       "    </tr>\n",
       "  </tbody>\n",
       "</table>\n",
       "</div>"
      ],
      "text/plain": [
       "       Unnamed: 0       MMSI      SHIPNAME   VESSEL TYPE  SPEED (KNOTSx10)  \\\n",
       "16871       16871  372305000  FEDERAL IRIS  Bulk Carrier                11   \n",
       "16872       16872  372305000  FEDERAL IRIS  Bulk Carrier                11   \n",
       "16873       16873  372305000  FEDERAL IRIS  Bulk Carrier                10   \n",
       "16874       16874  372305000  FEDERAL IRIS  Bulk Carrier                 9   \n",
       "16875       16875  372305000  FEDERAL IRIS  Bulk Carrier                11   \n",
       "16876       16876  372305000  FEDERAL IRIS  Bulk Carrier                10   \n",
       "16877       16877  372305000  FEDERAL IRIS  Bulk Carrier                12   \n",
       "16878       16878  372305000  FEDERAL IRIS  Bulk Carrier                12   \n",
       "16881       16881  372305000  FEDERAL IRIS  Bulk Carrier                13   \n",
       "16882       16882  372305000  FEDERAL IRIS  Bulk Carrier                13   \n",
       "16884       16884  372305000  FEDERAL IRIS  Bulk Carrier                11   \n",
       "16885       16885  372305000  FEDERAL IRIS  Bulk Carrier                11   \n",
       "16887       16887  372305000  FEDERAL IRIS  Bulk Carrier                12   \n",
       "16888       16888  372305000  FEDERAL IRIS  Bulk Carrier                12   \n",
       "16889       16889  372305000  FEDERAL IRIS  Bulk Carrier                12   \n",
       "16890       16890  372305000  FEDERAL IRIS  Bulk Carrier                12   \n",
       "16891       16891  372305000  FEDERAL IRIS  Bulk Carrier                12   \n",
       "16894       16894  372305000  FEDERAL IRIS  Bulk Carrier                11   \n",
       "16895       16895  372305000  FEDERAL IRIS  Bulk Carrier                10   \n",
       "16897       16897  372305000  FEDERAL IRIS  Bulk Carrier                 9   \n",
       "16898       16898  372305000  FEDERAL IRIS  Bulk Carrier                 9   \n",
       "16900       16900  372305000  FEDERAL IRIS  Bulk Carrier                 9   \n",
       "\n",
       "       COURSE  HEADING       TIMESTAMP UTC  LENGTH  Year  \\\n",
       "16871      99        9 2016-08-28 10:36:44  199.98  2016   \n",
       "16872      90        9 2016-08-28 10:43:04  199.98  2016   \n",
       "16873      91       10 2016-08-28 10:51:15  199.98  2016   \n",
       "16874      90       13 2016-08-28 11:01:14  199.98  2016   \n",
       "16875      93       23 2016-08-28 11:07:53  199.98  2016   \n",
       "16876      92       19 2016-08-28 11:13:04  199.98  2016   \n",
       "16877      94       16 2016-08-28 11:18:45  199.98  2016   \n",
       "16878      98       29 2016-08-28 11:34:35  199.98  2016   \n",
       "16881      89       10 2016-08-28 11:59:45  199.98  2016   \n",
       "16882      98        8 2016-08-28 12:06:35  199.98  2016   \n",
       "16884      93        2 2016-08-28 12:24:04  199.98  2016   \n",
       "16885      93        2 2016-08-28 12:26:14  199.98  2016   \n",
       "16887     100      353 2016-08-28 12:44:45  199.98  2016   \n",
       "16888      96      352 2016-08-28 12:56:24  199.98  2016   \n",
       "16889      94      352 2016-08-28 13:02:04  199.98  2016   \n",
       "16890      91      351 2016-08-28 13:05:05  199.98  2016   \n",
       "16891      91      346 2016-08-28 13:10:25  199.98  2016   \n",
       "16894     106      346 2016-08-28 13:45:35  199.98  2016   \n",
       "16895     105      344 2016-08-28 13:53:25  199.98  2016   \n",
       "16897      95      335 2016-08-28 14:11:05  199.98  2016   \n",
       "16898      93      332 2016-08-28 14:13:36  199.98  2016   \n",
       "16900      96      335 2016-08-28 14:27:15  199.98  2016   \n",
       "\n",
       "                    ship_Loc       LAT       LON  distance(in km)  \\\n",
       "16871   (45.9382, -130.0353)  45.93820 -130.0353             4.74   \n",
       "16872  (45.93805, -130.0327)  45.93805 -130.0327             4.54   \n",
       "16873   (45.9379, -130.0295)  45.93790 -130.0295             4.29   \n",
       "16874  (45.93753, -130.0257)  45.93753 -130.0257             4.00   \n",
       "16875  (45.93736, -130.0229)  45.93736 -130.0229             3.79   \n",
       "16876  (45.93718, -130.0205)  45.93718 -130.0205             3.60   \n",
       "16877  (45.93695, -130.0177)  45.93695 -130.0177             3.39   \n",
       "16878  (45.93631, -130.0101)  45.93631 -130.0101             2.81   \n",
       "16881  (45.93566, -129.9972)  45.93566 -129.9972             1.84   \n",
       "16882  (45.93555, -129.9936)  45.93555 -129.9936             1.58   \n",
       "16884  (45.93445, -129.9859)  45.93445 -129.9859             1.09   \n",
       "16885  (45.93439, -129.9849)  45.93439 -129.9849             1.03   \n",
       "16887  (45.93347, -129.9768)  45.93347 -129.9768             0.74   \n",
       "16888  (45.93256, -129.9715)  45.93256 -129.9715             0.84   \n",
       "16889  (45.93235, -129.9688)  45.93235 -129.9688             0.94   \n",
       "16890  (45.93227, -129.9673)  45.93227 -129.9673             1.00   \n",
       "16891  (45.93222, -129.9647)  45.93222 -129.9647             1.13   \n",
       "16894  (45.93041, -129.9495)  45.93041 -129.9495             2.19   \n",
       "16895  (45.92963, -129.9462)  45.92963 -129.9462             2.45   \n",
       "16897  (45.92856, -129.9396)  45.92856 -129.9396             2.96   \n",
       "16898  (45.92849, -129.9387)  45.92849 -129.9387             3.03   \n",
       "16900   (45.92787, -129.934)  45.92787 -129.9340             3.39   \n",
       "\n",
       "        eastern_caldera_Loc                       instance_id ud_group  \\\n",
       "16871  (45.9399, -129.9742)  EC_20160828103644_20160828104644    Cargo   \n",
       "16872  (45.9399, -129.9742)  EC_20160828103644_20160828104644    Cargo   \n",
       "16873  (45.9399, -129.9742)  EC_20160828104644_20160828105644    Cargo   \n",
       "16874  (45.9399, -129.9742)  EC_20160828105644_20160828110644    Cargo   \n",
       "16875  (45.9399, -129.9742)  EC_20160828110644_20160828111644    Cargo   \n",
       "16876  (45.9399, -129.9742)  EC_20160828110644_20160828111644    Cargo   \n",
       "16877  (45.9399, -129.9742)  EC_20160828111644_20160828112644    Cargo   \n",
       "16878  (45.9399, -129.9742)  EC_20160828112644_20160828113644    Cargo   \n",
       "16881  (45.9399, -129.9742)  EC_20160828115644_20160828120644    Cargo   \n",
       "16882  (45.9399, -129.9742)  EC_20160828115644_20160828120644    Cargo   \n",
       "16884  (45.9399, -129.9742)  EC_20160828121644_20160828122644    Cargo   \n",
       "16885  (45.9399, -129.9742)  EC_20160828121644_20160828122644    Cargo   \n",
       "16887  (45.9399, -129.9742)  EC_20160828123644_20160828124644    Cargo   \n",
       "16888  (45.9399, -129.9742)  EC_20160828124644_20160828125644    Cargo   \n",
       "16889  (45.9399, -129.9742)  EC_20160828125644_20160828130644    Cargo   \n",
       "16890  (45.9399, -129.9742)  EC_20160828125644_20160828130644    Cargo   \n",
       "16891  (45.9399, -129.9742)  EC_20160828130644_20160828131644    Cargo   \n",
       "16894  (45.9399, -129.9742)  EC_20160828133644_20160828134644    Cargo   \n",
       "16895  (45.9399, -129.9742)  EC_20160828134644_20160828135644    Cargo   \n",
       "16897  (45.9399, -129.9742)  EC_20160828140644_20160828141644    Cargo   \n",
       "16898  (45.9399, -129.9742)  EC_20160828140644_20160828141644    Cargo   \n",
       "16900  (45.9399, -129.9742)  EC_20160828142644_20160828143644    Cargo   \n",
       "\n",
       "         ecdist    ccdist  \n",
       "16871  2.946522  1.717023  \n",
       "16872  2.821796  1.633769  \n",
       "16873  2.668286  1.537405  \n",
       "16874  2.487001  1.447196  \n",
       "16875  2.353238  1.386541  \n",
       "16876  2.238940  1.345417  \n",
       "16877  2.106006  1.310224  \n",
       "16878  1.747595  1.285230  \n",
       "16881  1.146344  1.443448  \n",
       "16882  0.981927  1.526248  \n",
       "16884  0.677902  1.795242  \n",
       "16885  0.640838  1.828586  \n",
       "16887  0.461426  2.140726  \n",
       "16888  0.523371  2.372314  \n",
       "16889  0.582768  2.481660  \n",
       "16890  0.623101  2.541729  \n",
       "16891  0.700660  2.643688  \n",
       "16894  1.358811  3.324513  \n",
       "16895  1.524393  3.488997  \n",
       "16897  1.842171  3.802545  \n",
       "16898  1.883536  3.842976  \n",
       "16900  2.107921  4.063248  "
      ]
     },
     "execution_count": 10,
     "metadata": {},
     "output_type": "execute_result"
    }
   ],
   "source": [
    "ais"
   ]
  },
  {
   "cell_type": "markdown",
   "metadata": {},
   "source": [
    "## Functions"
   ]
  },
  {
   "cell_type": "code",
   "execution_count": 27,
   "metadata": {},
   "outputs": [],
   "source": [
    "CC_node_LF = 'Central_Caldera'\n",
    "EC_node_LF = 'Eastern_Caldera'\n",
    "ecdist = (45.9399, -129.9742)\n",
    "ccdist = (45.9549, -130.0089)\n",
    "def animate_map(starttime, endtime):\n",
    "    subais = ais[(ais['TIMESTAMP UTC'] > starttime) & (ais['TIMESTAMP UTC'] < endtime)]\n",
    "    time = subais['TIMESTAMP UTC']\n",
    "    for i in time:\n",
    "        #subais.loc[len(subais.index)] = [0,0,'cc hydrophone'+str(i),'cc hydrophone',0,0,0, -130.0089,45.9549,0,0, i, 0,0]\n",
    "        subais.loc[len(subais.index)] = [0,0, 'cc hydrophone '+str(i), 'cc hydrophone', 0,0,0,i,0, 0,0,45.9549, -130.0089, 0, 0,0,0,0,0]\n",
    "        #subais.loc[len(subais.index)] = [0,0,'ec hydrophone'+str(i),'ec hydrophone',0,0,10, -129.9742,45.9399,0,0, i, 0,0]\n",
    "        subais.loc[len(subais.index)] = [0,0, 'ec hydrophone '+str(i), 'ec hydrophone', 0,0,0,i,0, 0,0,45.9399, -129.9742, 0, 0,0,0,0,0]\n",
    "    subais = subais.reset_index()\n",
    "    for i in range(len(subais)):\n",
    "        subais.loc[i,'TIMESTAMP UTC'] = subais.iloc[i]['TIMESTAMP UTC']- datetime.timedelta(minutes=subais.iloc[i]['TIMESTAMP UTC'].minute % 10)\n",
    "    subais['TIMESTAMP UTC'] = subais['TIMESTAMP UTC'].dt.to_period('T')\n",
    "    fig = px.scatter_mapbox(subais,\n",
    "              lat=\"LAT\" ,\n",
    "              lon=\"LON\",\n",
    "              hover_name=\"VESSEL TYPE\",\n",
    "              hover_data= ['SPEED (KNOTSx10)','ccdist'],\n",
    "              color=\"SHIPNAME\",\n",
    "              animation_frame=subais['TIMESTAMP UTC'].astype(dtype=str),\n",
    "              mapbox_style='carto-positron',                 \n",
    "              zoom=5)\n",
    "    fig.show()\n",
    "\n",
    "def get_PSD_dict(meta_data_CSV_path, location, close_distance=False):\n",
    "    \"\"\"\n",
    "    Generate a dictionary that holds PSD data\n",
    "    Ex. psd_dict[ship_type][freq_values] # not actual key names\n",
    "    This data gets passed into the spdf generation and plotting functions\n",
    "    \n",
    "    Parameters\n",
    "    ----------\n",
    "    meta_data_CSV_path : str\n",
    "        A file path that points to the .csv that contains the metadata. \n",
    "        Mainly used to group based on ship type (ud_group). Also matches instance_id\n",
    "        to corresponding ship type.\n",
    "\n",
    "    location : str\n",
    "        String containing location of the hydrophone (i.e. Axial_Base).\n",
    "        Used for file pathing\n",
    "\n",
    "    Returns\n",
    "    -------\n",
    "    dict: a nested dictionary for ship type and their respective PSD data\n",
    "    \"\"\"\n",
    "\n",
    "    df = pd.read_csv(meta_data_CSV_path, sep=',')\n",
    "\n",
    "    if close_distance:\n",
    "        depth_dict = {\n",
    "            \"Axial_Base\": 3,\n",
    "            \"Eastern_Caldera\": 1.5,\n",
    "            \"Central_Caldera\": 1.5,\n",
    "            \"Oregon_Slope\": 3,\n",
    "            \"Southern_Hydrate\": 0.8\n",
    "        }\n",
    "        # subset to close instances\n",
    "        df = df.loc[df[\"mean_distance(in kms)\"] <= depth_dict[location]]\n",
    "        df = df.reset_index(drop=True)\n",
    "\n",
    "    # EC is the only one with missing ship type and only 4 of them, just ignore those\n",
    "    # .dropna() followed by .groupby() cleans and groups\n",
    "    grouped_df = df.dropna(subset=['ud_group']).groupby('ud_group')\n",
    "\n",
    "    # https://stackoverflow.com/questions/27405483/how-to-loop-over-grouped-pandas-dataframe\n",
    "    PSDs = {}\n",
    "    for group_name, df_group in grouped_df:\n",
    "        PSD_obj_list = []\n",
    "        PSD_freq = []\n",
    "        PSD_val = []\n",
    "        dictPSD = {'objects': PSD_obj_list, 'frequencies': PSD_freq, 'values': PSD_val}\n",
    "\n",
    "        # for-loop to compile list of PSD data objects pulled from column\n",
    "        for row_index, row in df_group.iterrows():\n",
    "            inst_id = df['instance_id'].iloc[row_index]\n",
    "            # get pickle files (DL locally? Call some API?)\n",
    "            # local storage method\n",
    "            data_path = 'data/' + location + '/'\n",
    "            pklfilepath = data_path + 'PSD_pickles/' + inst_id + '.pkl'\n",
    "            # try-except deals with missing pickles\n",
    "            try:\n",
    "                with open(pklfilepath, 'rb') as f:\n",
    "                    dict1 = json.load(f)\n",
    "                #print(\"----------PKL FOUND----------\")\n",
    "                # create PSD object and fill out PSD object fields\n",
    "                psd = ooipy.Psd(dict1['f'], dict1['psd'])\n",
    "                dictPSD['objects'].append(psd)\n",
    "                dictPSD['frequencies'].append(psd.freq)\n",
    "                dictPSD['values'].append(psd.values)\n",
    "            except FileNotFoundError:\n",
    "                #print(\"Could not find pkl\")\n",
    "                pass\n",
    "        PSDs.update({group_name: dictPSD})\n",
    "    return PSDs\n",
    "\n",
    "# function pulled from https://github.com/Ocean-Data-Lab/Website-backend     \n",
    "def get_spdf(spec, fs_hz=200, fmax=None, spl_bins=np.linspace(0, 120, 481),\n",
    "             percentiles=[1, 5, 10, 50, 90, 95, 99]):\n",
    "    if fmax is None:\n",
    "        fmax = 100 #spec.frequency[-1]\n",
    "\n",
    "    n_freq_bin = int(len(spec['frequencies'][0]) * fmax/(fs_hz/2)) + 1\n",
    "\n",
    "    spdf_dct = {'freq': np.array(np.linspace(0, fmax, n_freq_bin)),\n",
    "                'spl': spl_bins[:-1],\n",
    "                'pdf': np.empty((n_freq_bin, 480))\n",
    "                #'number_psd': len(spec.time) this isn't used\n",
    "                }\n",
    "\n",
    "    for p in percentiles:\n",
    "        spdf_dct[str(p)] = np.empty(n_freq_bin)\n",
    "\n",
    "    for idx, freq_bin in enumerate(np.asarray(spec['values']).T[:n_freq_bin - 1]):\n",
    "        hist, _ = np.histogram(freq_bin, bins=spl_bins, density=True)\n",
    "        spdf_dct['pdf'][idx] = hist\n",
    "        spdf_dct['50'][idx] = np.median(freq_bin)\n",
    "        for p in percentiles:\n",
    "            spdf_dct[str(p)][idx] = np.nanquantile(freq_bin, p/100)\n",
    "\n",
    "    return spdf_dct\n",
    "\n",
    "def plot_spdf(spdf, vmin=0.003, vmax=0.2, vdelta=0.0025, save=False, filename=None, log=True, title='Spectral PDF', shipType=None, location=None):\n",
    "    cbarticks = np.arange(vmin, vmax+vdelta, vdelta)\n",
    "    fig, ax = plt.subplots(figsize=(9, 5))\n",
    "    im = ax.contourf(spdf['freq'], spdf['spl'], np.transpose(spdf['pdf']),\n",
    "                     cbarticks, norm=colors.Normalize(vmin=vmin, vmax=vmax),\n",
    "                     cmap='jet', extend='max', alpha=0.50, linewidth=0)\n",
    "\n",
    "    # plot some percentiles:\n",
    "    plt.plot(spdf['freq'], spdf['1'], color='black')\n",
    "    plt.plot(spdf['freq'], spdf['5'], color='black')\n",
    "    plt.plot(spdf['freq'], spdf['10'], color='black')\n",
    "    plt.plot(spdf['freq'], spdf['50'], color='black')\n",
    "    plt.plot(spdf['freq'], spdf['90'], color='black')\n",
    "    plt.plot(spdf['freq'], spdf['95'], color='black')\n",
    "    plt.plot(spdf['freq'], spdf['99'], color='black')\n",
    "\n",
    "    plt.ylabel(r'spectral level (dB rel $1 \\mathrm{\\frac{μ Pa^2}{Hz}}$)')\n",
    "    plt.xlabel('frequency (Hz)')\n",
    "    plt.ylim([36, 100])\n",
    "    plt.xlim([0, 90])\n",
    "    if log:\n",
    "        plt.xscale('log')\n",
    "\n",
    "    plt.colorbar(im, ax=ax, ticks=[vmin, vmin + (vmax-vmin)/4, vmin + (vmax-vmin)/2,\n",
    "                 vmin + 3*(vmax-vmin)/4,  vmax],  pad=0.03, label='probability', format='%.3f')\n",
    "    plt.tick_params(axis='y')\n",
    "    plt.grid(True)\n",
    "    plt.title(title)\n",
    "    handles, labels = plt.gca().get_legend_handles_labels()\n",
    "    line = Line2D(\n",
    "        [0], [0], label='percentiles: 1, 5, 10, 50, 90, 95, 99', color='k')\n",
    "    handles.extend([line])\n",
    "    plt.legend(handles=handles, loc='upper right')\n",
    "    plt.tight_layout()\n",
    "    plt.xlim((200/512, 100))\n",
    "    filepath = 'data/'+location+'/'\n",
    "    #plt.savefig(filepath+shipType+'.jpg', format='jpg')\n",
    "    plt.savefig(filepath+title+'.jpg', format='jpg')\n",
    "    plt.close() # suppress plotting\n",
    "\n",
    "def get_PSD_dict_given_filt_df(df, location, close_distance=False):\n",
    "    df = df.reset_index(drop=True)\n",
    "    \"\"\"df = pd.read_csv(meta_data_CSV_path, sep=',')\n",
    "\n",
    "    if close_distance:\n",
    "        depth_dict = {\n",
    "            \"Axial_Base\": 3,\n",
    "            \"Eastern_Caldera\": 1.5,\n",
    "            \"Central_Caldera\": 1.5,\n",
    "            \"Oregon_Slope\": 3,\n",
    "            \"Southern_Hydrate\": 0.8\n",
    "        }\n",
    "        # subset to close instances\n",
    "        df = df.loc[df[\"mean_distance(in kms)\"] <= depth_dict[location]]\n",
    "        df = df.reset_index(drop=True)\"\"\"\n",
    "\n",
    "    # https://stackoverflow.com/questions/27405483/how-to-loop-over-grouped-pandas-dataframe\n",
    "    PSD_obj_list = []\n",
    "    PSD_freq = []\n",
    "    PSD_val = []\n",
    "    dictPSD = {'objects': PSD_obj_list, 'frequencies': PSD_freq, 'values': PSD_val}\n",
    "\n",
    "    # for-loop to compile list of PSD data objects pulled from column\n",
    "    for row_index, row in df.iterrows():\n",
    "        inst_id = df['instance_id'].iloc[row_index]\n",
    "        # get pickle files (DL locally? Call some API?)\n",
    "        # local storage method\n",
    "        data_path = 'data/' + location + '/'\n",
    "        pklfilepath = data_path + 'PSD_pickles/' + inst_id + '.json'\n",
    "        #if (location == 'Eastern_Caldera'):\n",
    "        #    pklfilepath = data_path + 'PSD_pickles/' + inst_id + '.pkl'\n",
    "        # try-except deals with missing pickles\n",
    "        try:\n",
    "            print(pklfilepath)\n",
    "            with open(pklfilepath, 'rb') as f:\n",
    "                dict1 = json.load(f)\n",
    "            #print(\"----------PKL FOUND----------\")\n",
    "            # create PSD object and fill out PSD object fields\n",
    "            psd = ooipy.Psd(dict1['f'], dict1['psd'])\n",
    "            dictPSD['objects'].append(psd)\n",
    "            dictPSD['frequencies'].append(psd.freq)\n",
    "            dictPSD['values'].append(psd.values)\n",
    "        except FileNotFoundError:\n",
    "            #print(\"Could not find pkl\")\n",
    "            pass\n",
    "    #PSDs.update({group_name: dictPSD})\n",
    "    return dictPSD\n",
    "\n",
    "def Rx_level_from_df(df,location):\n",
    "\n",
    "    \"\"\"\n",
    "    Requires dataframe for specific MMSI and maybe filtered to be sufficiently close to hydrophone.\n",
    "\n",
    "    Return lists that contain range values (closest to farthest) within a set range (df param should already be filtered),\n",
    "    and a list that contains the receive level, which is calculated from the FFT of the time series data.\n",
    "    Due to needing the time series data, may be time-consuming to run.\n",
    "    This data can be used to get source levels by adding/making up from Tx loss using a separate function.\n",
    "\n",
    "    Parameters\n",
    "    ----------\n",
    "    df : Pandas dataframe\n",
    "        A dataframe that is filtered to only contain one MMSI. Should probably also be close to hydrophone.\n",
    "\n",
    "    Returns\n",
    "    -------\n",
    "    R : a list of range values in kilometers. When using it for Tx loss, need to make it an array and *1000 to get meters.\n",
    "\n",
    "    Rx_level : a list of receive levels\n",
    "\n",
    "\n",
    "    \"\"\"\n",
    "\n",
    "    df = df.sort_values(by=['mean_distance(in kms)'])\n",
    "    df = df.reset_index(drop=True)\n",
    "\n",
    "    Rx_level = []\n",
    "    R = []\n",
    "    file404 = 0\n",
    "    for row_index, row in df.iterrows():\n",
    "        try:\n",
    "            inst = df['instance_id'].loc[row_index]\n",
    "            #print(inst)\n",
    "            st = obsread('data/'+location+'/Mseed/'+inst+'.mseed')\n",
    "            data = st[-1].data\n",
    "            #print(st[-1])\n",
    "            \n",
    "            Fs = 200\n",
    "            N = len(data)\n",
    "            freqs = np.linspace(-(Fs/2), Fs/2, N) # divide by 2 for nyquist, center on zero for fftshift. N points to match with N points in recording\n",
    "            ft_data = np.fft.fft(data)\n",
    "            idx_5hz = 63000 # index corresponding to frequency of 5 on the frequency domain centered on zero\n",
    "            idx_90hz = 114000\n",
    "\n",
    "            # Follows equation to get sound exposure\n",
    "            SE = np.sum(np.fft.fftshift(np.abs(ft_data)**2)[idx_5hz:idx_90hz] / (N * Fs))\n",
    "            SEL = 10 * np.log10(SE) # dB conversion\n",
    "            #print(f'SEL = {SEL}')\n",
    "            Rx_level.append(SEL)\n",
    "            R.append(df['mean_distance(in kms)'].loc[row_index])\n",
    "            #print(df['mean_distance(in kms)'].loc[row_index])\n",
    "        except FileNotFoundError:\n",
    "            file404 +=  1\n",
    "            pass\n",
    "\n",
    "    print(f'Files not found: {file404}')\n",
    "    return R, Rx_level\n",
    "\n",
    "Tx_loss1 = lambda x: 20*np.log10(x*1000)\n",
    "#Tx_loss2 = lambda x: 20*np.log10(3*1000)+10*np.log10((x*1000)/(3*1000))\n",
    "\n",
    "def Tx_loss2(x, location):\n",
    "    depth_dict = {\n",
    "            \"AB\": 3,\n",
    "            \"EC\": 1.5,\n",
    "            \"CC\": 1.5,\n",
    "            \"OS\": 3,\n",
    "            \"SH\": 0.8\n",
    "        }\n",
    "    return 20*np.log10(depth_dict[location]*1000)+10*np.log10((x*1000)/(depth_dict[location]*1000))\n"
   ]
  },
  {
   "cell_type": "code",
   "execution_count": null,
   "metadata": {},
   "outputs": [],
   "source": []
  },
  {
   "cell_type": "markdown",
   "metadata": {},
   "source": [
    "## Work"
   ]
  },
  {
   "cell_type": "markdown",
   "metadata": {},
   "source": [
    "### Eastern Caldera"
   ]
  },
  {
   "cell_type": "code",
   "execution_count": 21,
   "metadata": {},
   "outputs": [
    {
     "name": "stdout",
     "output_type": "stream",
     "text": [
      "data/Eastern_Caldera/PSD_pickles/EC_20160828103644_20160828104644.json\n",
      "data/Eastern_Caldera/PSD_pickles/EC_20160828103644_20160828104644.json\n",
      "data/Eastern_Caldera/PSD_pickles/EC_20160828104644_20160828105644.json\n",
      "data/Eastern_Caldera/PSD_pickles/EC_20160828105644_20160828110644.json\n",
      "data/Eastern_Caldera/PSD_pickles/EC_20160828110644_20160828111644.json\n",
      "data/Eastern_Caldera/PSD_pickles/EC_20160828110644_20160828111644.json\n",
      "data/Eastern_Caldera/PSD_pickles/EC_20160828111644_20160828112644.json\n",
      "data/Eastern_Caldera/PSD_pickles/EC_20160828112644_20160828113644.json\n",
      "data/Eastern_Caldera/PSD_pickles/EC_20160828115644_20160828120644.json\n",
      "data/Eastern_Caldera/PSD_pickles/EC_20160828115644_20160828120644.json\n",
      "data/Eastern_Caldera/PSD_pickles/EC_20160828121644_20160828122644.json\n",
      "data/Eastern_Caldera/PSD_pickles/EC_20160828121644_20160828122644.json\n",
      "data/Eastern_Caldera/PSD_pickles/EC_20160828123644_20160828124644.json\n",
      "data/Eastern_Caldera/PSD_pickles/EC_20160828124644_20160828125644.json\n",
      "data/Eastern_Caldera/PSD_pickles/EC_20160828125644_20160828130644.json\n",
      "data/Eastern_Caldera/PSD_pickles/EC_20160828125644_20160828130644.json\n",
      "data/Eastern_Caldera/PSD_pickles/EC_20160828130644_20160828131644.json\n",
      "data/Eastern_Caldera/PSD_pickles/EC_20160828133644_20160828134644.json\n",
      "data/Eastern_Caldera/PSD_pickles/EC_20160828134644_20160828135644.json\n",
      "data/Eastern_Caldera/PSD_pickles/EC_20160828140644_20160828141644.json\n",
      "data/Eastern_Caldera/PSD_pickles/EC_20160828140644_20160828141644.json\n",
      "data/Eastern_Caldera/PSD_pickles/EC_20160828142644_20160828143644.json\n"
     ]
    }
   ],
   "source": [
    "EC_df = pd.read_csv('data/Eastern_Caldera/EC_isolated_ais_5_20.csv', sep=',')\n",
    "\n",
    "# Cargo\n",
    "key = 'Cargo'\n",
    "MMSI_1 = 372305000\n",
    "df = EC_df[(EC_df['ud_group']==key)]\n",
    "df = df[df['MMSI']==MMSI_1]\n",
    "#df.groupby('MMSI').count() # this lets us see MMSI occurances\n",
    "psd = get_PSD_dict_given_filt_df(df, 'Eastern_Caldera')\n",
    "#spdf = get_spdf(psd)\n",
    "#plot_spdf(spdf, log=False, title=key + ' Spectral PDF ('+str(MMSI_1)+')', shipType=key, location='Eastern_Caldera')\n",
    "end_time = (pd.to_datetime(df['TIMESTAMP UTC'].iloc[5], format='%Y-%m-%d %H:%M:%S'))\n",
    "start_time = (pd.to_datetime(df['TIMESTAMP UTC'].iloc[0], format='%Y-%m-%d %H:%M:%S'))\n",
    "#start_time = (pd.to_datetime('2016-08-28 08:36:44', format='%Y-%m-%d %H:%M:%S'))\n",
    "#EC_hdata_LF = ooipy.get_acoustic_data_LF(start_time, end_time, EC_node_LF, verbose=True, zero_mean=True)\n",
    "#EC_spec_LF = EC_hdata_LF.compute_spectrogram(avg_time=1, overlap=0)\n",
    "\n",
    "#ooipy.plot(EC_spec_LF, fmin=0, fmax=100, xlabel_rot=30)"
   ]
  },
  {
   "cell_type": "code",
   "execution_count": 22,
   "metadata": {},
   "outputs": [
    {
     "data": {
      "text/html": [
       "<div>\n",
       "<style scoped>\n",
       "    .dataframe tbody tr th:only-of-type {\n",
       "        vertical-align: middle;\n",
       "    }\n",
       "\n",
       "    .dataframe tbody tr th {\n",
       "        vertical-align: top;\n",
       "    }\n",
       "\n",
       "    .dataframe thead th {\n",
       "        text-align: right;\n",
       "    }\n",
       "</style>\n",
       "<table border=\"1\" class=\"dataframe\">\n",
       "  <thead>\n",
       "    <tr style=\"text-align: right;\">\n",
       "      <th></th>\n",
       "      <th>Unnamed: 0</th>\n",
       "      <th>MMSI</th>\n",
       "      <th>SHIPNAME</th>\n",
       "      <th>VESSEL TYPE</th>\n",
       "      <th>SPEED (KNOTSx10)</th>\n",
       "      <th>COURSE</th>\n",
       "      <th>HEADING</th>\n",
       "      <th>TIMESTAMP UTC</th>\n",
       "      <th>LENGTH</th>\n",
       "      <th>Year</th>\n",
       "      <th>ship_Loc</th>\n",
       "      <th>LAT</th>\n",
       "      <th>LON</th>\n",
       "      <th>distance(in km)</th>\n",
       "      <th>eastern_caldera_Loc</th>\n",
       "      <th>instance_id</th>\n",
       "      <th>ud_group</th>\n",
       "    </tr>\n",
       "  </thead>\n",
       "  <tbody>\n",
       "    <tr>\n",
       "      <th>16871</th>\n",
       "      <td>16871</td>\n",
       "      <td>372305000</td>\n",
       "      <td>FEDERAL IRIS</td>\n",
       "      <td>Bulk Carrier</td>\n",
       "      <td>11</td>\n",
       "      <td>99</td>\n",
       "      <td>9</td>\n",
       "      <td>2016-08-28 10:36:44</td>\n",
       "      <td>199.98</td>\n",
       "      <td>2016</td>\n",
       "      <td>(45.9382, -130.0353)</td>\n",
       "      <td>45.93820</td>\n",
       "      <td>-130.0353</td>\n",
       "      <td>4.74</td>\n",
       "      <td>(45.9399, -129.9742)</td>\n",
       "      <td>EC_20160828103644_20160828104644</td>\n",
       "      <td>Cargo</td>\n",
       "    </tr>\n",
       "    <tr>\n",
       "      <th>16872</th>\n",
       "      <td>16872</td>\n",
       "      <td>372305000</td>\n",
       "      <td>FEDERAL IRIS</td>\n",
       "      <td>Bulk Carrier</td>\n",
       "      <td>11</td>\n",
       "      <td>90</td>\n",
       "      <td>9</td>\n",
       "      <td>2016-08-28 10:43:04</td>\n",
       "      <td>199.98</td>\n",
       "      <td>2016</td>\n",
       "      <td>(45.93805, -130.0327)</td>\n",
       "      <td>45.93805</td>\n",
       "      <td>-130.0327</td>\n",
       "      <td>4.54</td>\n",
       "      <td>(45.9399, -129.9742)</td>\n",
       "      <td>EC_20160828103644_20160828104644</td>\n",
       "      <td>Cargo</td>\n",
       "    </tr>\n",
       "    <tr>\n",
       "      <th>16873</th>\n",
       "      <td>16873</td>\n",
       "      <td>372305000</td>\n",
       "      <td>FEDERAL IRIS</td>\n",
       "      <td>Bulk Carrier</td>\n",
       "      <td>10</td>\n",
       "      <td>91</td>\n",
       "      <td>10</td>\n",
       "      <td>2016-08-28 10:51:15</td>\n",
       "      <td>199.98</td>\n",
       "      <td>2016</td>\n",
       "      <td>(45.9379, -130.0295)</td>\n",
       "      <td>45.93790</td>\n",
       "      <td>-130.0295</td>\n",
       "      <td>4.29</td>\n",
       "      <td>(45.9399, -129.9742)</td>\n",
       "      <td>EC_20160828104644_20160828105644</td>\n",
       "      <td>Cargo</td>\n",
       "    </tr>\n",
       "    <tr>\n",
       "      <th>16874</th>\n",
       "      <td>16874</td>\n",
       "      <td>372305000</td>\n",
       "      <td>FEDERAL IRIS</td>\n",
       "      <td>Bulk Carrier</td>\n",
       "      <td>9</td>\n",
       "      <td>90</td>\n",
       "      <td>13</td>\n",
       "      <td>2016-08-28 11:01:14</td>\n",
       "      <td>199.98</td>\n",
       "      <td>2016</td>\n",
       "      <td>(45.93753, -130.0257)</td>\n",
       "      <td>45.93753</td>\n",
       "      <td>-130.0257</td>\n",
       "      <td>4.00</td>\n",
       "      <td>(45.9399, -129.9742)</td>\n",
       "      <td>EC_20160828105644_20160828110644</td>\n",
       "      <td>Cargo</td>\n",
       "    </tr>\n",
       "    <tr>\n",
       "      <th>16875</th>\n",
       "      <td>16875</td>\n",
       "      <td>372305000</td>\n",
       "      <td>FEDERAL IRIS</td>\n",
       "      <td>Bulk Carrier</td>\n",
       "      <td>11</td>\n",
       "      <td>93</td>\n",
       "      <td>23</td>\n",
       "      <td>2016-08-28 11:07:53</td>\n",
       "      <td>199.98</td>\n",
       "      <td>2016</td>\n",
       "      <td>(45.93736, -130.0229)</td>\n",
       "      <td>45.93736</td>\n",
       "      <td>-130.0229</td>\n",
       "      <td>3.79</td>\n",
       "      <td>(45.9399, -129.9742)</td>\n",
       "      <td>EC_20160828110644_20160828111644</td>\n",
       "      <td>Cargo</td>\n",
       "    </tr>\n",
       "    <tr>\n",
       "      <th>16876</th>\n",
       "      <td>16876</td>\n",
       "      <td>372305000</td>\n",
       "      <td>FEDERAL IRIS</td>\n",
       "      <td>Bulk Carrier</td>\n",
       "      <td>10</td>\n",
       "      <td>92</td>\n",
       "      <td>19</td>\n",
       "      <td>2016-08-28 11:13:04</td>\n",
       "      <td>199.98</td>\n",
       "      <td>2016</td>\n",
       "      <td>(45.93718, -130.0205)</td>\n",
       "      <td>45.93718</td>\n",
       "      <td>-130.0205</td>\n",
       "      <td>3.60</td>\n",
       "      <td>(45.9399, -129.9742)</td>\n",
       "      <td>EC_20160828110644_20160828111644</td>\n",
       "      <td>Cargo</td>\n",
       "    </tr>\n",
       "    <tr>\n",
       "      <th>16877</th>\n",
       "      <td>16877</td>\n",
       "      <td>372305000</td>\n",
       "      <td>FEDERAL IRIS</td>\n",
       "      <td>Bulk Carrier</td>\n",
       "      <td>12</td>\n",
       "      <td>94</td>\n",
       "      <td>16</td>\n",
       "      <td>2016-08-28 11:18:45</td>\n",
       "      <td>199.98</td>\n",
       "      <td>2016</td>\n",
       "      <td>(45.93695, -130.0177)</td>\n",
       "      <td>45.93695</td>\n",
       "      <td>-130.0177</td>\n",
       "      <td>3.39</td>\n",
       "      <td>(45.9399, -129.9742)</td>\n",
       "      <td>EC_20160828111644_20160828112644</td>\n",
       "      <td>Cargo</td>\n",
       "    </tr>\n",
       "    <tr>\n",
       "      <th>16878</th>\n",
       "      <td>16878</td>\n",
       "      <td>372305000</td>\n",
       "      <td>FEDERAL IRIS</td>\n",
       "      <td>Bulk Carrier</td>\n",
       "      <td>12</td>\n",
       "      <td>98</td>\n",
       "      <td>29</td>\n",
       "      <td>2016-08-28 11:34:35</td>\n",
       "      <td>199.98</td>\n",
       "      <td>2016</td>\n",
       "      <td>(45.93631, -130.0101)</td>\n",
       "      <td>45.93631</td>\n",
       "      <td>-130.0101</td>\n",
       "      <td>2.81</td>\n",
       "      <td>(45.9399, -129.9742)</td>\n",
       "      <td>EC_20160828112644_20160828113644</td>\n",
       "      <td>Cargo</td>\n",
       "    </tr>\n",
       "    <tr>\n",
       "      <th>16881</th>\n",
       "      <td>16881</td>\n",
       "      <td>372305000</td>\n",
       "      <td>FEDERAL IRIS</td>\n",
       "      <td>Bulk Carrier</td>\n",
       "      <td>13</td>\n",
       "      <td>89</td>\n",
       "      <td>10</td>\n",
       "      <td>2016-08-28 11:59:45</td>\n",
       "      <td>199.98</td>\n",
       "      <td>2016</td>\n",
       "      <td>(45.93566, -129.9972)</td>\n",
       "      <td>45.93566</td>\n",
       "      <td>-129.9972</td>\n",
       "      <td>1.84</td>\n",
       "      <td>(45.9399, -129.9742)</td>\n",
       "      <td>EC_20160828115644_20160828120644</td>\n",
       "      <td>Cargo</td>\n",
       "    </tr>\n",
       "    <tr>\n",
       "      <th>16882</th>\n",
       "      <td>16882</td>\n",
       "      <td>372305000</td>\n",
       "      <td>FEDERAL IRIS</td>\n",
       "      <td>Bulk Carrier</td>\n",
       "      <td>13</td>\n",
       "      <td>98</td>\n",
       "      <td>8</td>\n",
       "      <td>2016-08-28 12:06:35</td>\n",
       "      <td>199.98</td>\n",
       "      <td>2016</td>\n",
       "      <td>(45.93555, -129.9936)</td>\n",
       "      <td>45.93555</td>\n",
       "      <td>-129.9936</td>\n",
       "      <td>1.58</td>\n",
       "      <td>(45.9399, -129.9742)</td>\n",
       "      <td>EC_20160828115644_20160828120644</td>\n",
       "      <td>Cargo</td>\n",
       "    </tr>\n",
       "    <tr>\n",
       "      <th>16884</th>\n",
       "      <td>16884</td>\n",
       "      <td>372305000</td>\n",
       "      <td>FEDERAL IRIS</td>\n",
       "      <td>Bulk Carrier</td>\n",
       "      <td>11</td>\n",
       "      <td>93</td>\n",
       "      <td>2</td>\n",
       "      <td>2016-08-28 12:24:04</td>\n",
       "      <td>199.98</td>\n",
       "      <td>2016</td>\n",
       "      <td>(45.93445, -129.9859)</td>\n",
       "      <td>45.93445</td>\n",
       "      <td>-129.9859</td>\n",
       "      <td>1.09</td>\n",
       "      <td>(45.9399, -129.9742)</td>\n",
       "      <td>EC_20160828121644_20160828122644</td>\n",
       "      <td>Cargo</td>\n",
       "    </tr>\n",
       "    <tr>\n",
       "      <th>16885</th>\n",
       "      <td>16885</td>\n",
       "      <td>372305000</td>\n",
       "      <td>FEDERAL IRIS</td>\n",
       "      <td>Bulk Carrier</td>\n",
       "      <td>11</td>\n",
       "      <td>93</td>\n",
       "      <td>2</td>\n",
       "      <td>2016-08-28 12:26:14</td>\n",
       "      <td>199.98</td>\n",
       "      <td>2016</td>\n",
       "      <td>(45.93439, -129.9849)</td>\n",
       "      <td>45.93439</td>\n",
       "      <td>-129.9849</td>\n",
       "      <td>1.03</td>\n",
       "      <td>(45.9399, -129.9742)</td>\n",
       "      <td>EC_20160828121644_20160828122644</td>\n",
       "      <td>Cargo</td>\n",
       "    </tr>\n",
       "    <tr>\n",
       "      <th>16887</th>\n",
       "      <td>16887</td>\n",
       "      <td>372305000</td>\n",
       "      <td>FEDERAL IRIS</td>\n",
       "      <td>Bulk Carrier</td>\n",
       "      <td>12</td>\n",
       "      <td>100</td>\n",
       "      <td>353</td>\n",
       "      <td>2016-08-28 12:44:45</td>\n",
       "      <td>199.98</td>\n",
       "      <td>2016</td>\n",
       "      <td>(45.93347, -129.9768)</td>\n",
       "      <td>45.93347</td>\n",
       "      <td>-129.9768</td>\n",
       "      <td>0.74</td>\n",
       "      <td>(45.9399, -129.9742)</td>\n",
       "      <td>EC_20160828123644_20160828124644</td>\n",
       "      <td>Cargo</td>\n",
       "    </tr>\n",
       "    <tr>\n",
       "      <th>16888</th>\n",
       "      <td>16888</td>\n",
       "      <td>372305000</td>\n",
       "      <td>FEDERAL IRIS</td>\n",
       "      <td>Bulk Carrier</td>\n",
       "      <td>12</td>\n",
       "      <td>96</td>\n",
       "      <td>352</td>\n",
       "      <td>2016-08-28 12:56:24</td>\n",
       "      <td>199.98</td>\n",
       "      <td>2016</td>\n",
       "      <td>(45.93256, -129.9715)</td>\n",
       "      <td>45.93256</td>\n",
       "      <td>-129.9715</td>\n",
       "      <td>0.84</td>\n",
       "      <td>(45.9399, -129.9742)</td>\n",
       "      <td>EC_20160828124644_20160828125644</td>\n",
       "      <td>Cargo</td>\n",
       "    </tr>\n",
       "    <tr>\n",
       "      <th>16889</th>\n",
       "      <td>16889</td>\n",
       "      <td>372305000</td>\n",
       "      <td>FEDERAL IRIS</td>\n",
       "      <td>Bulk Carrier</td>\n",
       "      <td>12</td>\n",
       "      <td>94</td>\n",
       "      <td>352</td>\n",
       "      <td>2016-08-28 13:02:04</td>\n",
       "      <td>199.98</td>\n",
       "      <td>2016</td>\n",
       "      <td>(45.93235, -129.9688)</td>\n",
       "      <td>45.93235</td>\n",
       "      <td>-129.9688</td>\n",
       "      <td>0.94</td>\n",
       "      <td>(45.9399, -129.9742)</td>\n",
       "      <td>EC_20160828125644_20160828130644</td>\n",
       "      <td>Cargo</td>\n",
       "    </tr>\n",
       "    <tr>\n",
       "      <th>16890</th>\n",
       "      <td>16890</td>\n",
       "      <td>372305000</td>\n",
       "      <td>FEDERAL IRIS</td>\n",
       "      <td>Bulk Carrier</td>\n",
       "      <td>12</td>\n",
       "      <td>91</td>\n",
       "      <td>351</td>\n",
       "      <td>2016-08-28 13:05:05</td>\n",
       "      <td>199.98</td>\n",
       "      <td>2016</td>\n",
       "      <td>(45.93227, -129.9673)</td>\n",
       "      <td>45.93227</td>\n",
       "      <td>-129.9673</td>\n",
       "      <td>1.00</td>\n",
       "      <td>(45.9399, -129.9742)</td>\n",
       "      <td>EC_20160828125644_20160828130644</td>\n",
       "      <td>Cargo</td>\n",
       "    </tr>\n",
       "    <tr>\n",
       "      <th>16891</th>\n",
       "      <td>16891</td>\n",
       "      <td>372305000</td>\n",
       "      <td>FEDERAL IRIS</td>\n",
       "      <td>Bulk Carrier</td>\n",
       "      <td>12</td>\n",
       "      <td>91</td>\n",
       "      <td>346</td>\n",
       "      <td>2016-08-28 13:10:25</td>\n",
       "      <td>199.98</td>\n",
       "      <td>2016</td>\n",
       "      <td>(45.93222, -129.9647)</td>\n",
       "      <td>45.93222</td>\n",
       "      <td>-129.9647</td>\n",
       "      <td>1.13</td>\n",
       "      <td>(45.9399, -129.9742)</td>\n",
       "      <td>EC_20160828130644_20160828131644</td>\n",
       "      <td>Cargo</td>\n",
       "    </tr>\n",
       "    <tr>\n",
       "      <th>16894</th>\n",
       "      <td>16894</td>\n",
       "      <td>372305000</td>\n",
       "      <td>FEDERAL IRIS</td>\n",
       "      <td>Bulk Carrier</td>\n",
       "      <td>11</td>\n",
       "      <td>106</td>\n",
       "      <td>346</td>\n",
       "      <td>2016-08-28 13:45:35</td>\n",
       "      <td>199.98</td>\n",
       "      <td>2016</td>\n",
       "      <td>(45.93041, -129.9495)</td>\n",
       "      <td>45.93041</td>\n",
       "      <td>-129.9495</td>\n",
       "      <td>2.19</td>\n",
       "      <td>(45.9399, -129.9742)</td>\n",
       "      <td>EC_20160828133644_20160828134644</td>\n",
       "      <td>Cargo</td>\n",
       "    </tr>\n",
       "    <tr>\n",
       "      <th>16895</th>\n",
       "      <td>16895</td>\n",
       "      <td>372305000</td>\n",
       "      <td>FEDERAL IRIS</td>\n",
       "      <td>Bulk Carrier</td>\n",
       "      <td>10</td>\n",
       "      <td>105</td>\n",
       "      <td>344</td>\n",
       "      <td>2016-08-28 13:53:25</td>\n",
       "      <td>199.98</td>\n",
       "      <td>2016</td>\n",
       "      <td>(45.92963, -129.9462)</td>\n",
       "      <td>45.92963</td>\n",
       "      <td>-129.9462</td>\n",
       "      <td>2.45</td>\n",
       "      <td>(45.9399, -129.9742)</td>\n",
       "      <td>EC_20160828134644_20160828135644</td>\n",
       "      <td>Cargo</td>\n",
       "    </tr>\n",
       "    <tr>\n",
       "      <th>16897</th>\n",
       "      <td>16897</td>\n",
       "      <td>372305000</td>\n",
       "      <td>FEDERAL IRIS</td>\n",
       "      <td>Bulk Carrier</td>\n",
       "      <td>9</td>\n",
       "      <td>95</td>\n",
       "      <td>335</td>\n",
       "      <td>2016-08-28 14:11:05</td>\n",
       "      <td>199.98</td>\n",
       "      <td>2016</td>\n",
       "      <td>(45.92856, -129.9396)</td>\n",
       "      <td>45.92856</td>\n",
       "      <td>-129.9396</td>\n",
       "      <td>2.96</td>\n",
       "      <td>(45.9399, -129.9742)</td>\n",
       "      <td>EC_20160828140644_20160828141644</td>\n",
       "      <td>Cargo</td>\n",
       "    </tr>\n",
       "    <tr>\n",
       "      <th>16898</th>\n",
       "      <td>16898</td>\n",
       "      <td>372305000</td>\n",
       "      <td>FEDERAL IRIS</td>\n",
       "      <td>Bulk Carrier</td>\n",
       "      <td>9</td>\n",
       "      <td>93</td>\n",
       "      <td>332</td>\n",
       "      <td>2016-08-28 14:13:36</td>\n",
       "      <td>199.98</td>\n",
       "      <td>2016</td>\n",
       "      <td>(45.92849, -129.9387)</td>\n",
       "      <td>45.92849</td>\n",
       "      <td>-129.9387</td>\n",
       "      <td>3.03</td>\n",
       "      <td>(45.9399, -129.9742)</td>\n",
       "      <td>EC_20160828140644_20160828141644</td>\n",
       "      <td>Cargo</td>\n",
       "    </tr>\n",
       "    <tr>\n",
       "      <th>16900</th>\n",
       "      <td>16900</td>\n",
       "      <td>372305000</td>\n",
       "      <td>FEDERAL IRIS</td>\n",
       "      <td>Bulk Carrier</td>\n",
       "      <td>9</td>\n",
       "      <td>96</td>\n",
       "      <td>335</td>\n",
       "      <td>2016-08-28 14:27:15</td>\n",
       "      <td>199.98</td>\n",
       "      <td>2016</td>\n",
       "      <td>(45.92787, -129.934)</td>\n",
       "      <td>45.92787</td>\n",
       "      <td>-129.9340</td>\n",
       "      <td>3.39</td>\n",
       "      <td>(45.9399, -129.9742)</td>\n",
       "      <td>EC_20160828142644_20160828143644</td>\n",
       "      <td>Cargo</td>\n",
       "    </tr>\n",
       "  </tbody>\n",
       "</table>\n",
       "</div>"
      ],
      "text/plain": [
       "       Unnamed: 0       MMSI      SHIPNAME   VESSEL TYPE  SPEED (KNOTSx10)  \\\n",
       "16871       16871  372305000  FEDERAL IRIS  Bulk Carrier                11   \n",
       "16872       16872  372305000  FEDERAL IRIS  Bulk Carrier                11   \n",
       "16873       16873  372305000  FEDERAL IRIS  Bulk Carrier                10   \n",
       "16874       16874  372305000  FEDERAL IRIS  Bulk Carrier                 9   \n",
       "16875       16875  372305000  FEDERAL IRIS  Bulk Carrier                11   \n",
       "16876       16876  372305000  FEDERAL IRIS  Bulk Carrier                10   \n",
       "16877       16877  372305000  FEDERAL IRIS  Bulk Carrier                12   \n",
       "16878       16878  372305000  FEDERAL IRIS  Bulk Carrier                12   \n",
       "16881       16881  372305000  FEDERAL IRIS  Bulk Carrier                13   \n",
       "16882       16882  372305000  FEDERAL IRIS  Bulk Carrier                13   \n",
       "16884       16884  372305000  FEDERAL IRIS  Bulk Carrier                11   \n",
       "16885       16885  372305000  FEDERAL IRIS  Bulk Carrier                11   \n",
       "16887       16887  372305000  FEDERAL IRIS  Bulk Carrier                12   \n",
       "16888       16888  372305000  FEDERAL IRIS  Bulk Carrier                12   \n",
       "16889       16889  372305000  FEDERAL IRIS  Bulk Carrier                12   \n",
       "16890       16890  372305000  FEDERAL IRIS  Bulk Carrier                12   \n",
       "16891       16891  372305000  FEDERAL IRIS  Bulk Carrier                12   \n",
       "16894       16894  372305000  FEDERAL IRIS  Bulk Carrier                11   \n",
       "16895       16895  372305000  FEDERAL IRIS  Bulk Carrier                10   \n",
       "16897       16897  372305000  FEDERAL IRIS  Bulk Carrier                 9   \n",
       "16898       16898  372305000  FEDERAL IRIS  Bulk Carrier                 9   \n",
       "16900       16900  372305000  FEDERAL IRIS  Bulk Carrier                 9   \n",
       "\n",
       "       COURSE  HEADING        TIMESTAMP UTC  LENGTH  Year  \\\n",
       "16871      99        9  2016-08-28 10:36:44  199.98  2016   \n",
       "16872      90        9  2016-08-28 10:43:04  199.98  2016   \n",
       "16873      91       10  2016-08-28 10:51:15  199.98  2016   \n",
       "16874      90       13  2016-08-28 11:01:14  199.98  2016   \n",
       "16875      93       23  2016-08-28 11:07:53  199.98  2016   \n",
       "16876      92       19  2016-08-28 11:13:04  199.98  2016   \n",
       "16877      94       16  2016-08-28 11:18:45  199.98  2016   \n",
       "16878      98       29  2016-08-28 11:34:35  199.98  2016   \n",
       "16881      89       10  2016-08-28 11:59:45  199.98  2016   \n",
       "16882      98        8  2016-08-28 12:06:35  199.98  2016   \n",
       "16884      93        2  2016-08-28 12:24:04  199.98  2016   \n",
       "16885      93        2  2016-08-28 12:26:14  199.98  2016   \n",
       "16887     100      353  2016-08-28 12:44:45  199.98  2016   \n",
       "16888      96      352  2016-08-28 12:56:24  199.98  2016   \n",
       "16889      94      352  2016-08-28 13:02:04  199.98  2016   \n",
       "16890      91      351  2016-08-28 13:05:05  199.98  2016   \n",
       "16891      91      346  2016-08-28 13:10:25  199.98  2016   \n",
       "16894     106      346  2016-08-28 13:45:35  199.98  2016   \n",
       "16895     105      344  2016-08-28 13:53:25  199.98  2016   \n",
       "16897      95      335  2016-08-28 14:11:05  199.98  2016   \n",
       "16898      93      332  2016-08-28 14:13:36  199.98  2016   \n",
       "16900      96      335  2016-08-28 14:27:15  199.98  2016   \n",
       "\n",
       "                    ship_Loc       LAT       LON  distance(in km)  \\\n",
       "16871   (45.9382, -130.0353)  45.93820 -130.0353             4.74   \n",
       "16872  (45.93805, -130.0327)  45.93805 -130.0327             4.54   \n",
       "16873   (45.9379, -130.0295)  45.93790 -130.0295             4.29   \n",
       "16874  (45.93753, -130.0257)  45.93753 -130.0257             4.00   \n",
       "16875  (45.93736, -130.0229)  45.93736 -130.0229             3.79   \n",
       "16876  (45.93718, -130.0205)  45.93718 -130.0205             3.60   \n",
       "16877  (45.93695, -130.0177)  45.93695 -130.0177             3.39   \n",
       "16878  (45.93631, -130.0101)  45.93631 -130.0101             2.81   \n",
       "16881  (45.93566, -129.9972)  45.93566 -129.9972             1.84   \n",
       "16882  (45.93555, -129.9936)  45.93555 -129.9936             1.58   \n",
       "16884  (45.93445, -129.9859)  45.93445 -129.9859             1.09   \n",
       "16885  (45.93439, -129.9849)  45.93439 -129.9849             1.03   \n",
       "16887  (45.93347, -129.9768)  45.93347 -129.9768             0.74   \n",
       "16888  (45.93256, -129.9715)  45.93256 -129.9715             0.84   \n",
       "16889  (45.93235, -129.9688)  45.93235 -129.9688             0.94   \n",
       "16890  (45.93227, -129.9673)  45.93227 -129.9673             1.00   \n",
       "16891  (45.93222, -129.9647)  45.93222 -129.9647             1.13   \n",
       "16894  (45.93041, -129.9495)  45.93041 -129.9495             2.19   \n",
       "16895  (45.92963, -129.9462)  45.92963 -129.9462             2.45   \n",
       "16897  (45.92856, -129.9396)  45.92856 -129.9396             2.96   \n",
       "16898  (45.92849, -129.9387)  45.92849 -129.9387             3.03   \n",
       "16900   (45.92787, -129.934)  45.92787 -129.9340             3.39   \n",
       "\n",
       "        eastern_caldera_Loc                       instance_id ud_group  \n",
       "16871  (45.9399, -129.9742)  EC_20160828103644_20160828104644    Cargo  \n",
       "16872  (45.9399, -129.9742)  EC_20160828103644_20160828104644    Cargo  \n",
       "16873  (45.9399, -129.9742)  EC_20160828104644_20160828105644    Cargo  \n",
       "16874  (45.9399, -129.9742)  EC_20160828105644_20160828110644    Cargo  \n",
       "16875  (45.9399, -129.9742)  EC_20160828110644_20160828111644    Cargo  \n",
       "16876  (45.9399, -129.9742)  EC_20160828110644_20160828111644    Cargo  \n",
       "16877  (45.9399, -129.9742)  EC_20160828111644_20160828112644    Cargo  \n",
       "16878  (45.9399, -129.9742)  EC_20160828112644_20160828113644    Cargo  \n",
       "16881  (45.9399, -129.9742)  EC_20160828115644_20160828120644    Cargo  \n",
       "16882  (45.9399, -129.9742)  EC_20160828115644_20160828120644    Cargo  \n",
       "16884  (45.9399, -129.9742)  EC_20160828121644_20160828122644    Cargo  \n",
       "16885  (45.9399, -129.9742)  EC_20160828121644_20160828122644    Cargo  \n",
       "16887  (45.9399, -129.9742)  EC_20160828123644_20160828124644    Cargo  \n",
       "16888  (45.9399, -129.9742)  EC_20160828124644_20160828125644    Cargo  \n",
       "16889  (45.9399, -129.9742)  EC_20160828125644_20160828130644    Cargo  \n",
       "16890  (45.9399, -129.9742)  EC_20160828125644_20160828130644    Cargo  \n",
       "16891  (45.9399, -129.9742)  EC_20160828130644_20160828131644    Cargo  \n",
       "16894  (45.9399, -129.9742)  EC_20160828133644_20160828134644    Cargo  \n",
       "16895  (45.9399, -129.9742)  EC_20160828134644_20160828135644    Cargo  \n",
       "16897  (45.9399, -129.9742)  EC_20160828140644_20160828141644    Cargo  \n",
       "16898  (45.9399, -129.9742)  EC_20160828140644_20160828141644    Cargo  \n",
       "16900  (45.9399, -129.9742)  EC_20160828142644_20160828143644    Cargo  "
      ]
     },
     "execution_count": 22,
     "metadata": {},
     "output_type": "execute_result"
    }
   ],
   "source": [
    "df"
   ]
  },
  {
   "cell_type": "code",
   "execution_count": 24,
   "metadata": {},
   "outputs": [
    {
     "ename": "NameError",
     "evalue": "name 'subais' is not defined",
     "output_type": "error",
     "traceback": [
      "\u001b[1;31m---------------------------------------------------------------------------\u001b[0m",
      "\u001b[1;31mNameError\u001b[0m                                 Traceback (most recent call last)",
      "\u001b[1;32mc:\\Users\\UserALai\\Documents\\Work\\Ocean Data\\OcDa-Files\\Untitled-1.ipynb Cell 12'\u001b[0m in \u001b[0;36m<cell line: 1>\u001b[1;34m()\u001b[0m\n\u001b[1;32m----> <a href='vscode-notebook-cell:/c%3A/Users/UserALai/Documents/Work/Ocean%20Data/OcDa-Files/Untitled-1.ipynb#ch0000010?line=0'>1</a>\u001b[0m subais\n",
      "\u001b[1;31mNameError\u001b[0m: name 'subais' is not defined"
     ]
    }
   ],
   "source": [
    "subais"
   ]
  },
  {
   "cell_type": "code",
   "execution_count": 28,
   "metadata": {},
   "outputs": [
    {
     "name": "stderr",
     "output_type": "stream",
     "text": [
      "c:\\Users\\UserALai\\miniconda3\\lib\\site-packages\\pandas\\core\\indexing.py:723: SettingWithCopyWarning: \n",
      "A value is trying to be set on a copy of a slice from a DataFrame\n",
      "\n",
      "See the caveats in the documentation: https://pandas.pydata.org/pandas-docs/stable/user_guide/indexing.html#returning-a-view-versus-a-copy\n",
      "  iloc._setitem_with_indexer(indexer, value, self.name)\n"
     ]
    },
    {
     "data": {
      "application/vnd.plotly.v1+json": {
       "config": {
        "plotlyServerURL": "https://plot.ly"
       },
       "data": [
        {
         "customdata": [
          [
           11,
           1.7170230156475963
          ]
         ],
         "hovertemplate": "<b>%{hovertext}</b><br><br>SHIPNAME=FEDERAL IRIS<br>animation_frame=2016-08-28 10:30<br>LAT=%{lat}<br>LON=%{lon}<br>SPEED (KNOTSx10)=%{customdata[0]}<br>ccdist=%{customdata[1]}<extra></extra>",
         "hovertext": [
          "Bulk Carrier"
         ],
         "lat": [
          45.9382
         ],
         "legendgroup": "FEDERAL IRIS",
         "lon": [
          -130.0353
         ],
         "marker": {
          "color": "#636efa"
         },
         "mode": "markers",
         "name": "FEDERAL IRIS",
         "showlegend": true,
         "subplot": "mapbox",
         "type": "scattermapbox"
        },
        {
         "customdata": [
          [
           0,
           0
          ]
         ],
         "hovertemplate": "<b>%{hovertext}</b><br><br>SHIPNAME=cc hydrophone 2016-08-28 10:36:44<br>animation_frame=2016-08-28 10:30<br>LAT=%{lat}<br>LON=%{lon}<br>SPEED (KNOTSx10)=%{customdata[0]}<br>ccdist=%{customdata[1]}<extra></extra>",
         "hovertext": [
          "cc hydrophone"
         ],
         "lat": [
          45.9549
         ],
         "legendgroup": "cc hydrophone 2016-08-28 10:36:44",
         "lon": [
          -130.0089
         ],
         "marker": {
          "color": "#EF553B"
         },
         "mode": "markers",
         "name": "cc hydrophone 2016-08-28 10:36:44",
         "showlegend": true,
         "subplot": "mapbox",
         "type": "scattermapbox"
        },
        {
         "customdata": [
          [
           0,
           0
          ]
         ],
         "hovertemplate": "<b>%{hovertext}</b><br><br>SHIPNAME=ec hydrophone 2016-08-28 10:36:44<br>animation_frame=2016-08-28 10:30<br>LAT=%{lat}<br>LON=%{lon}<br>SPEED (KNOTSx10)=%{customdata[0]}<br>ccdist=%{customdata[1]}<extra></extra>",
         "hovertext": [
          "ec hydrophone"
         ],
         "lat": [
          45.9399
         ],
         "legendgroup": "ec hydrophone 2016-08-28 10:36:44",
         "lon": [
          -129.9742
         ],
         "marker": {
          "color": "#00cc96"
         },
         "mode": "markers",
         "name": "ec hydrophone 2016-08-28 10:36:44",
         "showlegend": true,
         "subplot": "mapbox",
         "type": "scattermapbox"
        }
       ],
       "frames": [
        {
         "data": [
          {
           "customdata": [
            [
             11,
             1.7170230156475963
            ]
           ],
           "hovertemplate": "<b>%{hovertext}</b><br><br>SHIPNAME=FEDERAL IRIS<br>animation_frame=2016-08-28 10:30<br>LAT=%{lat}<br>LON=%{lon}<br>SPEED (KNOTSx10)=%{customdata[0]}<br>ccdist=%{customdata[1]}<extra></extra>",
           "hovertext": [
            "Bulk Carrier"
           ],
           "lat": [
            45.9382
           ],
           "legendgroup": "FEDERAL IRIS",
           "lon": [
            -130.0353
           ],
           "marker": {
            "color": "#636efa"
           },
           "mode": "markers",
           "name": "FEDERAL IRIS",
           "showlegend": true,
           "subplot": "mapbox",
           "type": "scattermapbox"
          },
          {
           "customdata": [
            [
             0,
             0
            ]
           ],
           "hovertemplate": "<b>%{hovertext}</b><br><br>SHIPNAME=cc hydrophone 2016-08-28 10:36:44<br>animation_frame=2016-08-28 10:30<br>LAT=%{lat}<br>LON=%{lon}<br>SPEED (KNOTSx10)=%{customdata[0]}<br>ccdist=%{customdata[1]}<extra></extra>",
           "hovertext": [
            "cc hydrophone"
           ],
           "lat": [
            45.9549
           ],
           "legendgroup": "cc hydrophone 2016-08-28 10:36:44",
           "lon": [
            -130.0089
           ],
           "marker": {
            "color": "#EF553B"
           },
           "mode": "markers",
           "name": "cc hydrophone 2016-08-28 10:36:44",
           "showlegend": true,
           "subplot": "mapbox",
           "type": "scattermapbox"
          },
          {
           "customdata": [
            [
             0,
             0
            ]
           ],
           "hovertemplate": "<b>%{hovertext}</b><br><br>SHIPNAME=ec hydrophone 2016-08-28 10:36:44<br>animation_frame=2016-08-28 10:30<br>LAT=%{lat}<br>LON=%{lon}<br>SPEED (KNOTSx10)=%{customdata[0]}<br>ccdist=%{customdata[1]}<extra></extra>",
           "hovertext": [
            "ec hydrophone"
           ],
           "lat": [
            45.9399
           ],
           "legendgroup": "ec hydrophone 2016-08-28 10:36:44",
           "lon": [
            -129.9742
           ],
           "marker": {
            "color": "#00cc96"
           },
           "mode": "markers",
           "name": "ec hydrophone 2016-08-28 10:36:44",
           "showlegend": true,
           "subplot": "mapbox",
           "type": "scattermapbox"
          }
         ],
         "name": "2016-08-28 10:30"
        },
        {
         "data": [
          {
           "customdata": [
            [
             11,
             1.6337692064482388
            ]
           ],
           "hovertemplate": "<b>%{hovertext}</b><br><br>SHIPNAME=FEDERAL IRIS<br>animation_frame=2016-08-28 10:40<br>LAT=%{lat}<br>LON=%{lon}<br>SPEED (KNOTSx10)=%{customdata[0]}<br>ccdist=%{customdata[1]}<extra></extra>",
           "hovertext": [
            "Bulk Carrier"
           ],
           "lat": [
            45.93805
           ],
           "legendgroup": "FEDERAL IRIS",
           "lon": [
            -130.0327
           ],
           "marker": {
            "color": "#636efa"
           },
           "mode": "markers",
           "name": "FEDERAL IRIS",
           "showlegend": true,
           "subplot": "mapbox",
           "type": "scattermapbox"
          },
          {
           "customdata": [
            [
             0,
             0
            ]
           ],
           "hovertemplate": "<b>%{hovertext}</b><br><br>SHIPNAME=cc hydrophone 2016-08-28 10:43:04<br>animation_frame=2016-08-28 10:40<br>LAT=%{lat}<br>LON=%{lon}<br>SPEED (KNOTSx10)=%{customdata[0]}<br>ccdist=%{customdata[1]}<extra></extra>",
           "hovertext": [
            "cc hydrophone"
           ],
           "lat": [
            45.9549
           ],
           "legendgroup": "cc hydrophone 2016-08-28 10:43:04",
           "lon": [
            -130.0089
           ],
           "marker": {
            "color": "#ab63fa"
           },
           "mode": "markers",
           "name": "cc hydrophone 2016-08-28 10:43:04",
           "showlegend": true,
           "subplot": "mapbox",
           "type": "scattermapbox"
          },
          {
           "customdata": [
            [
             0,
             0
            ]
           ],
           "hovertemplate": "<b>%{hovertext}</b><br><br>SHIPNAME=ec hydrophone 2016-08-28 10:43:04<br>animation_frame=2016-08-28 10:40<br>LAT=%{lat}<br>LON=%{lon}<br>SPEED (KNOTSx10)=%{customdata[0]}<br>ccdist=%{customdata[1]}<extra></extra>",
           "hovertext": [
            "ec hydrophone"
           ],
           "lat": [
            45.9399
           ],
           "legendgroup": "ec hydrophone 2016-08-28 10:43:04",
           "lon": [
            -129.9742
           ],
           "marker": {
            "color": "#FFA15A"
           },
           "mode": "markers",
           "name": "ec hydrophone 2016-08-28 10:43:04",
           "showlegend": true,
           "subplot": "mapbox",
           "type": "scattermapbox"
          }
         ],
         "name": "2016-08-28 10:40"
        },
        {
         "data": [
          {
           "customdata": [
            [
             10,
             1.5374050670009385
            ]
           ],
           "hovertemplate": "<b>%{hovertext}</b><br><br>SHIPNAME=FEDERAL IRIS<br>animation_frame=2016-08-28 10:50<br>LAT=%{lat}<br>LON=%{lon}<br>SPEED (KNOTSx10)=%{customdata[0]}<br>ccdist=%{customdata[1]}<extra></extra>",
           "hovertext": [
            "Bulk Carrier"
           ],
           "lat": [
            45.9379
           ],
           "legendgroup": "FEDERAL IRIS",
           "lon": [
            -130.0295
           ],
           "marker": {
            "color": "#636efa"
           },
           "mode": "markers",
           "name": "FEDERAL IRIS",
           "showlegend": true,
           "subplot": "mapbox",
           "type": "scattermapbox"
          },
          {
           "customdata": [
            [
             0,
             0
            ]
           ],
           "hovertemplate": "<b>%{hovertext}</b><br><br>SHIPNAME=cc hydrophone 2016-08-28 10:51:15<br>animation_frame=2016-08-28 10:50<br>LAT=%{lat}<br>LON=%{lon}<br>SPEED (KNOTSx10)=%{customdata[0]}<br>ccdist=%{customdata[1]}<extra></extra>",
           "hovertext": [
            "cc hydrophone"
           ],
           "lat": [
            45.9549
           ],
           "legendgroup": "cc hydrophone 2016-08-28 10:51:15",
           "lon": [
            -130.0089
           ],
           "marker": {
            "color": "#19d3f3"
           },
           "mode": "markers",
           "name": "cc hydrophone 2016-08-28 10:51:15",
           "showlegend": true,
           "subplot": "mapbox",
           "type": "scattermapbox"
          },
          {
           "customdata": [
            [
             0,
             0
            ]
           ],
           "hovertemplate": "<b>%{hovertext}</b><br><br>SHIPNAME=ec hydrophone 2016-08-28 10:51:15<br>animation_frame=2016-08-28 10:50<br>LAT=%{lat}<br>LON=%{lon}<br>SPEED (KNOTSx10)=%{customdata[0]}<br>ccdist=%{customdata[1]}<extra></extra>",
           "hovertext": [
            "ec hydrophone"
           ],
           "lat": [
            45.9399
           ],
           "legendgroup": "ec hydrophone 2016-08-28 10:51:15",
           "lon": [
            -129.9742
           ],
           "marker": {
            "color": "#FF6692"
           },
           "mode": "markers",
           "name": "ec hydrophone 2016-08-28 10:51:15",
           "showlegend": true,
           "subplot": "mapbox",
           "type": "scattermapbox"
          }
         ],
         "name": "2016-08-28 10:50"
        },
        {
         "data": [
          {
           "customdata": [
            [
             9,
             1.4471956020526642
            ],
            [
             11,
             1.3865405382005713
            ]
           ],
           "hovertemplate": "<b>%{hovertext}</b><br><br>SHIPNAME=FEDERAL IRIS<br>animation_frame=2016-08-28 11:00<br>LAT=%{lat}<br>LON=%{lon}<br>SPEED (KNOTSx10)=%{customdata[0]}<br>ccdist=%{customdata[1]}<extra></extra>",
           "hovertext": [
            "Bulk Carrier",
            "Bulk Carrier"
           ],
           "lat": [
            45.93753,
            45.93736
           ],
           "legendgroup": "FEDERAL IRIS",
           "lon": [
            -130.0257,
            -130.0229
           ],
           "marker": {
            "color": "#636efa"
           },
           "mode": "markers",
           "name": "FEDERAL IRIS",
           "showlegend": true,
           "subplot": "mapbox",
           "type": "scattermapbox"
          },
          {
           "customdata": [
            [
             0,
             0
            ]
           ],
           "hovertemplate": "<b>%{hovertext}</b><br><br>SHIPNAME=cc hydrophone 2016-08-28 11:01:14<br>animation_frame=2016-08-28 11:00<br>LAT=%{lat}<br>LON=%{lon}<br>SPEED (KNOTSx10)=%{customdata[0]}<br>ccdist=%{customdata[1]}<extra></extra>",
           "hovertext": [
            "cc hydrophone"
           ],
           "lat": [
            45.9549
           ],
           "legendgroup": "cc hydrophone 2016-08-28 11:01:14",
           "lon": [
            -130.0089
           ],
           "marker": {
            "color": "#B6E880"
           },
           "mode": "markers",
           "name": "cc hydrophone 2016-08-28 11:01:14",
           "showlegend": true,
           "subplot": "mapbox",
           "type": "scattermapbox"
          },
          {
           "customdata": [
            [
             0,
             0
            ]
           ],
           "hovertemplate": "<b>%{hovertext}</b><br><br>SHIPNAME=ec hydrophone 2016-08-28 11:01:14<br>animation_frame=2016-08-28 11:00<br>LAT=%{lat}<br>LON=%{lon}<br>SPEED (KNOTSx10)=%{customdata[0]}<br>ccdist=%{customdata[1]}<extra></extra>",
           "hovertext": [
            "ec hydrophone"
           ],
           "lat": [
            45.9399
           ],
           "legendgroup": "ec hydrophone 2016-08-28 11:01:14",
           "lon": [
            -129.9742
           ],
           "marker": {
            "color": "#FF97FF"
           },
           "mode": "markers",
           "name": "ec hydrophone 2016-08-28 11:01:14",
           "showlegend": true,
           "subplot": "mapbox",
           "type": "scattermapbox"
          },
          {
           "customdata": [
            [
             0,
             0
            ]
           ],
           "hovertemplate": "<b>%{hovertext}</b><br><br>SHIPNAME=cc hydrophone 2016-08-28 11:07:53<br>animation_frame=2016-08-28 11:00<br>LAT=%{lat}<br>LON=%{lon}<br>SPEED (KNOTSx10)=%{customdata[0]}<br>ccdist=%{customdata[1]}<extra></extra>",
           "hovertext": [
            "cc hydrophone"
           ],
           "lat": [
            45.9549
           ],
           "legendgroup": "cc hydrophone 2016-08-28 11:07:53",
           "lon": [
            -130.0089
           ],
           "marker": {
            "color": "#FECB52"
           },
           "mode": "markers",
           "name": "cc hydrophone 2016-08-28 11:07:53",
           "showlegend": true,
           "subplot": "mapbox",
           "type": "scattermapbox"
          },
          {
           "customdata": [
            [
             0,
             0
            ]
           ],
           "hovertemplate": "<b>%{hovertext}</b><br><br>SHIPNAME=ec hydrophone 2016-08-28 11:07:53<br>animation_frame=2016-08-28 11:00<br>LAT=%{lat}<br>LON=%{lon}<br>SPEED (KNOTSx10)=%{customdata[0]}<br>ccdist=%{customdata[1]}<extra></extra>",
           "hovertext": [
            "ec hydrophone"
           ],
           "lat": [
            45.9399
           ],
           "legendgroup": "ec hydrophone 2016-08-28 11:07:53",
           "lon": [
            -129.9742
           ],
           "marker": {
            "color": "#636efa"
           },
           "mode": "markers",
           "name": "ec hydrophone 2016-08-28 11:07:53",
           "showlegend": true,
           "subplot": "mapbox",
           "type": "scattermapbox"
          }
         ],
         "name": "2016-08-28 11:00"
        },
        {
         "data": [
          {
           "customdata": [
            [
             10,
             1.3454173591752798
            ],
            [
             12,
             1.3102243765427777
            ]
           ],
           "hovertemplate": "<b>%{hovertext}</b><br><br>SHIPNAME=FEDERAL IRIS<br>animation_frame=2016-08-28 11:10<br>LAT=%{lat}<br>LON=%{lon}<br>SPEED (KNOTSx10)=%{customdata[0]}<br>ccdist=%{customdata[1]}<extra></extra>",
           "hovertext": [
            "Bulk Carrier",
            "Bulk Carrier"
           ],
           "lat": [
            45.93718,
            45.93695
           ],
           "legendgroup": "FEDERAL IRIS",
           "lon": [
            -130.0205,
            -130.0177
           ],
           "marker": {
            "color": "#636efa"
           },
           "mode": "markers",
           "name": "FEDERAL IRIS",
           "showlegend": true,
           "subplot": "mapbox",
           "type": "scattermapbox"
          },
          {
           "customdata": [
            [
             0,
             0
            ]
           ],
           "hovertemplate": "<b>%{hovertext}</b><br><br>SHIPNAME=cc hydrophone 2016-08-28 11:13:04<br>animation_frame=2016-08-28 11:10<br>LAT=%{lat}<br>LON=%{lon}<br>SPEED (KNOTSx10)=%{customdata[0]}<br>ccdist=%{customdata[1]}<extra></extra>",
           "hovertext": [
            "cc hydrophone"
           ],
           "lat": [
            45.9549
           ],
           "legendgroup": "cc hydrophone 2016-08-28 11:13:04",
           "lon": [
            -130.0089
           ],
           "marker": {
            "color": "#EF553B"
           },
           "mode": "markers",
           "name": "cc hydrophone 2016-08-28 11:13:04",
           "showlegend": true,
           "subplot": "mapbox",
           "type": "scattermapbox"
          },
          {
           "customdata": [
            [
             0,
             0
            ]
           ],
           "hovertemplate": "<b>%{hovertext}</b><br><br>SHIPNAME=ec hydrophone 2016-08-28 11:13:04<br>animation_frame=2016-08-28 11:10<br>LAT=%{lat}<br>LON=%{lon}<br>SPEED (KNOTSx10)=%{customdata[0]}<br>ccdist=%{customdata[1]}<extra></extra>",
           "hovertext": [
            "ec hydrophone"
           ],
           "lat": [
            45.9399
           ],
           "legendgroup": "ec hydrophone 2016-08-28 11:13:04",
           "lon": [
            -129.9742
           ],
           "marker": {
            "color": "#00cc96"
           },
           "mode": "markers",
           "name": "ec hydrophone 2016-08-28 11:13:04",
           "showlegend": true,
           "subplot": "mapbox",
           "type": "scattermapbox"
          },
          {
           "customdata": [
            [
             0,
             0
            ]
           ],
           "hovertemplate": "<b>%{hovertext}</b><br><br>SHIPNAME=cc hydrophone 2016-08-28 11:18:45<br>animation_frame=2016-08-28 11:10<br>LAT=%{lat}<br>LON=%{lon}<br>SPEED (KNOTSx10)=%{customdata[0]}<br>ccdist=%{customdata[1]}<extra></extra>",
           "hovertext": [
            "cc hydrophone"
           ],
           "lat": [
            45.9549
           ],
           "legendgroup": "cc hydrophone 2016-08-28 11:18:45",
           "lon": [
            -130.0089
           ],
           "marker": {
            "color": "#ab63fa"
           },
           "mode": "markers",
           "name": "cc hydrophone 2016-08-28 11:18:45",
           "showlegend": true,
           "subplot": "mapbox",
           "type": "scattermapbox"
          },
          {
           "customdata": [
            [
             0,
             0
            ]
           ],
           "hovertemplate": "<b>%{hovertext}</b><br><br>SHIPNAME=ec hydrophone 2016-08-28 11:18:45<br>animation_frame=2016-08-28 11:10<br>LAT=%{lat}<br>LON=%{lon}<br>SPEED (KNOTSx10)=%{customdata[0]}<br>ccdist=%{customdata[1]}<extra></extra>",
           "hovertext": [
            "ec hydrophone"
           ],
           "lat": [
            45.9399
           ],
           "legendgroup": "ec hydrophone 2016-08-28 11:18:45",
           "lon": [
            -129.9742
           ],
           "marker": {
            "color": "#FFA15A"
           },
           "mode": "markers",
           "name": "ec hydrophone 2016-08-28 11:18:45",
           "showlegend": true,
           "subplot": "mapbox",
           "type": "scattermapbox"
          }
         ],
         "name": "2016-08-28 11:10"
        },
        {
         "data": [
          {
           "customdata": [
            [
             12,
             1.285230006154111
            ]
           ],
           "hovertemplate": "<b>%{hovertext}</b><br><br>SHIPNAME=FEDERAL IRIS<br>animation_frame=2016-08-28 11:30<br>LAT=%{lat}<br>LON=%{lon}<br>SPEED (KNOTSx10)=%{customdata[0]}<br>ccdist=%{customdata[1]}<extra></extra>",
           "hovertext": [
            "Bulk Carrier"
           ],
           "lat": [
            45.93631
           ],
           "legendgroup": "FEDERAL IRIS",
           "lon": [
            -130.0101
           ],
           "marker": {
            "color": "#636efa"
           },
           "mode": "markers",
           "name": "FEDERAL IRIS",
           "showlegend": true,
           "subplot": "mapbox",
           "type": "scattermapbox"
          },
          {
           "customdata": [
            [
             0,
             0
            ]
           ],
           "hovertemplate": "<b>%{hovertext}</b><br><br>SHIPNAME=cc hydrophone 2016-08-28 11:34:35<br>animation_frame=2016-08-28 11:30<br>LAT=%{lat}<br>LON=%{lon}<br>SPEED (KNOTSx10)=%{customdata[0]}<br>ccdist=%{customdata[1]}<extra></extra>",
           "hovertext": [
            "cc hydrophone"
           ],
           "lat": [
            45.9549
           ],
           "legendgroup": "cc hydrophone 2016-08-28 11:34:35",
           "lon": [
            -130.0089
           ],
           "marker": {
            "color": "#19d3f3"
           },
           "mode": "markers",
           "name": "cc hydrophone 2016-08-28 11:34:35",
           "showlegend": true,
           "subplot": "mapbox",
           "type": "scattermapbox"
          },
          {
           "customdata": [
            [
             0,
             0
            ]
           ],
           "hovertemplate": "<b>%{hovertext}</b><br><br>SHIPNAME=ec hydrophone 2016-08-28 11:34:35<br>animation_frame=2016-08-28 11:30<br>LAT=%{lat}<br>LON=%{lon}<br>SPEED (KNOTSx10)=%{customdata[0]}<br>ccdist=%{customdata[1]}<extra></extra>",
           "hovertext": [
            "ec hydrophone"
           ],
           "lat": [
            45.9399
           ],
           "legendgroup": "ec hydrophone 2016-08-28 11:34:35",
           "lon": [
            -129.9742
           ],
           "marker": {
            "color": "#FF6692"
           },
           "mode": "markers",
           "name": "ec hydrophone 2016-08-28 11:34:35",
           "showlegend": true,
           "subplot": "mapbox",
           "type": "scattermapbox"
          }
         ],
         "name": "2016-08-28 11:30"
        },
        {
         "data": [
          {
           "customdata": [
            [
             13,
             1.4434481520729758
            ]
           ],
           "hovertemplate": "<b>%{hovertext}</b><br><br>SHIPNAME=FEDERAL IRIS<br>animation_frame=2016-08-28 11:50<br>LAT=%{lat}<br>LON=%{lon}<br>SPEED (KNOTSx10)=%{customdata[0]}<br>ccdist=%{customdata[1]}<extra></extra>",
           "hovertext": [
            "Bulk Carrier"
           ],
           "lat": [
            45.93566
           ],
           "legendgroup": "FEDERAL IRIS",
           "lon": [
            -129.9972
           ],
           "marker": {
            "color": "#636efa"
           },
           "mode": "markers",
           "name": "FEDERAL IRIS",
           "showlegend": true,
           "subplot": "mapbox",
           "type": "scattermapbox"
          },
          {
           "customdata": [
            [
             0,
             0
            ]
           ],
           "hovertemplate": "<b>%{hovertext}</b><br><br>SHIPNAME=cc hydrophone 2016-08-28 11:59:45<br>animation_frame=2016-08-28 11:50<br>LAT=%{lat}<br>LON=%{lon}<br>SPEED (KNOTSx10)=%{customdata[0]}<br>ccdist=%{customdata[1]}<extra></extra>",
           "hovertext": [
            "cc hydrophone"
           ],
           "lat": [
            45.9549
           ],
           "legendgroup": "cc hydrophone 2016-08-28 11:59:45",
           "lon": [
            -130.0089
           ],
           "marker": {
            "color": "#B6E880"
           },
           "mode": "markers",
           "name": "cc hydrophone 2016-08-28 11:59:45",
           "showlegend": true,
           "subplot": "mapbox",
           "type": "scattermapbox"
          },
          {
           "customdata": [
            [
             0,
             0
            ]
           ],
           "hovertemplate": "<b>%{hovertext}</b><br><br>SHIPNAME=ec hydrophone 2016-08-28 11:59:45<br>animation_frame=2016-08-28 11:50<br>LAT=%{lat}<br>LON=%{lon}<br>SPEED (KNOTSx10)=%{customdata[0]}<br>ccdist=%{customdata[1]}<extra></extra>",
           "hovertext": [
            "ec hydrophone"
           ],
           "lat": [
            45.9399
           ],
           "legendgroup": "ec hydrophone 2016-08-28 11:59:45",
           "lon": [
            -129.9742
           ],
           "marker": {
            "color": "#FF97FF"
           },
           "mode": "markers",
           "name": "ec hydrophone 2016-08-28 11:59:45",
           "showlegend": true,
           "subplot": "mapbox",
           "type": "scattermapbox"
          }
         ],
         "name": "2016-08-28 11:50"
        },
        {
         "data": [
          {
           "customdata": [
            [
             13,
             1.5262476480634166
            ]
           ],
           "hovertemplate": "<b>%{hovertext}</b><br><br>SHIPNAME=FEDERAL IRIS<br>animation_frame=2016-08-28 12:00<br>LAT=%{lat}<br>LON=%{lon}<br>SPEED (KNOTSx10)=%{customdata[0]}<br>ccdist=%{customdata[1]}<extra></extra>",
           "hovertext": [
            "Bulk Carrier"
           ],
           "lat": [
            45.93555
           ],
           "legendgroup": "FEDERAL IRIS",
           "lon": [
            -129.9936
           ],
           "marker": {
            "color": "#636efa"
           },
           "mode": "markers",
           "name": "FEDERAL IRIS",
           "showlegend": true,
           "subplot": "mapbox",
           "type": "scattermapbox"
          },
          {
           "customdata": [
            [
             0,
             0
            ]
           ],
           "hovertemplate": "<b>%{hovertext}</b><br><br>SHIPNAME=cc hydrophone 2016-08-28 12:06:35<br>animation_frame=2016-08-28 12:00<br>LAT=%{lat}<br>LON=%{lon}<br>SPEED (KNOTSx10)=%{customdata[0]}<br>ccdist=%{customdata[1]}<extra></extra>",
           "hovertext": [
            "cc hydrophone"
           ],
           "lat": [
            45.9549
           ],
           "legendgroup": "cc hydrophone 2016-08-28 12:06:35",
           "lon": [
            -130.0089
           ],
           "marker": {
            "color": "#FECB52"
           },
           "mode": "markers",
           "name": "cc hydrophone 2016-08-28 12:06:35",
           "showlegend": true,
           "subplot": "mapbox",
           "type": "scattermapbox"
          },
          {
           "customdata": [
            [
             0,
             0
            ]
           ],
           "hovertemplate": "<b>%{hovertext}</b><br><br>SHIPNAME=ec hydrophone 2016-08-28 12:06:35<br>animation_frame=2016-08-28 12:00<br>LAT=%{lat}<br>LON=%{lon}<br>SPEED (KNOTSx10)=%{customdata[0]}<br>ccdist=%{customdata[1]}<extra></extra>",
           "hovertext": [
            "ec hydrophone"
           ],
           "lat": [
            45.9399
           ],
           "legendgroup": "ec hydrophone 2016-08-28 12:06:35",
           "lon": [
            -129.9742
           ],
           "marker": {
            "color": "#636efa"
           },
           "mode": "markers",
           "name": "ec hydrophone 2016-08-28 12:06:35",
           "showlegend": true,
           "subplot": "mapbox",
           "type": "scattermapbox"
          }
         ],
         "name": "2016-08-28 12:00"
        },
        {
         "data": [
          {
           "customdata": [
            [
             11,
             1.7952418987691503
            ],
            [
             11,
             1.8285857512435915
            ]
           ],
           "hovertemplate": "<b>%{hovertext}</b><br><br>SHIPNAME=FEDERAL IRIS<br>animation_frame=2016-08-28 12:20<br>LAT=%{lat}<br>LON=%{lon}<br>SPEED (KNOTSx10)=%{customdata[0]}<br>ccdist=%{customdata[1]}<extra></extra>",
           "hovertext": [
            "Bulk Carrier",
            "Bulk Carrier"
           ],
           "lat": [
            45.93445,
            45.93439
           ],
           "legendgroup": "FEDERAL IRIS",
           "lon": [
            -129.9859,
            -129.9849
           ],
           "marker": {
            "color": "#636efa"
           },
           "mode": "markers",
           "name": "FEDERAL IRIS",
           "showlegend": true,
           "subplot": "mapbox",
           "type": "scattermapbox"
          },
          {
           "customdata": [
            [
             0,
             0
            ]
           ],
           "hovertemplate": "<b>%{hovertext}</b><br><br>SHIPNAME=cc hydrophone 2016-08-28 12:24:04<br>animation_frame=2016-08-28 12:20<br>LAT=%{lat}<br>LON=%{lon}<br>SPEED (KNOTSx10)=%{customdata[0]}<br>ccdist=%{customdata[1]}<extra></extra>",
           "hovertext": [
            "cc hydrophone"
           ],
           "lat": [
            45.9549
           ],
           "legendgroup": "cc hydrophone 2016-08-28 12:24:04",
           "lon": [
            -130.0089
           ],
           "marker": {
            "color": "#EF553B"
           },
           "mode": "markers",
           "name": "cc hydrophone 2016-08-28 12:24:04",
           "showlegend": true,
           "subplot": "mapbox",
           "type": "scattermapbox"
          },
          {
           "customdata": [
            [
             0,
             0
            ]
           ],
           "hovertemplate": "<b>%{hovertext}</b><br><br>SHIPNAME=ec hydrophone 2016-08-28 12:24:04<br>animation_frame=2016-08-28 12:20<br>LAT=%{lat}<br>LON=%{lon}<br>SPEED (KNOTSx10)=%{customdata[0]}<br>ccdist=%{customdata[1]}<extra></extra>",
           "hovertext": [
            "ec hydrophone"
           ],
           "lat": [
            45.9399
           ],
           "legendgroup": "ec hydrophone 2016-08-28 12:24:04",
           "lon": [
            -129.9742
           ],
           "marker": {
            "color": "#00cc96"
           },
           "mode": "markers",
           "name": "ec hydrophone 2016-08-28 12:24:04",
           "showlegend": true,
           "subplot": "mapbox",
           "type": "scattermapbox"
          },
          {
           "customdata": [
            [
             0,
             0
            ]
           ],
           "hovertemplate": "<b>%{hovertext}</b><br><br>SHIPNAME=cc hydrophone 2016-08-28 12:26:14<br>animation_frame=2016-08-28 12:20<br>LAT=%{lat}<br>LON=%{lon}<br>SPEED (KNOTSx10)=%{customdata[0]}<br>ccdist=%{customdata[1]}<extra></extra>",
           "hovertext": [
            "cc hydrophone"
           ],
           "lat": [
            45.9549
           ],
           "legendgroup": "cc hydrophone 2016-08-28 12:26:14",
           "lon": [
            -130.0089
           ],
           "marker": {
            "color": "#ab63fa"
           },
           "mode": "markers",
           "name": "cc hydrophone 2016-08-28 12:26:14",
           "showlegend": true,
           "subplot": "mapbox",
           "type": "scattermapbox"
          },
          {
           "customdata": [
            [
             0,
             0
            ]
           ],
           "hovertemplate": "<b>%{hovertext}</b><br><br>SHIPNAME=ec hydrophone 2016-08-28 12:26:14<br>animation_frame=2016-08-28 12:20<br>LAT=%{lat}<br>LON=%{lon}<br>SPEED (KNOTSx10)=%{customdata[0]}<br>ccdist=%{customdata[1]}<extra></extra>",
           "hovertext": [
            "ec hydrophone"
           ],
           "lat": [
            45.9399
           ],
           "legendgroup": "ec hydrophone 2016-08-28 12:26:14",
           "lon": [
            -129.9742
           ],
           "marker": {
            "color": "#FFA15A"
           },
           "mode": "markers",
           "name": "ec hydrophone 2016-08-28 12:26:14",
           "showlegend": true,
           "subplot": "mapbox",
           "type": "scattermapbox"
          }
         ],
         "name": "2016-08-28 12:20"
        },
        {
         "data": [
          {
           "customdata": [
            [
             12,
             2.140725817844604
            ]
           ],
           "hovertemplate": "<b>%{hovertext}</b><br><br>SHIPNAME=FEDERAL IRIS<br>animation_frame=2016-08-28 12:40<br>LAT=%{lat}<br>LON=%{lon}<br>SPEED (KNOTSx10)=%{customdata[0]}<br>ccdist=%{customdata[1]}<extra></extra>",
           "hovertext": [
            "Bulk Carrier"
           ],
           "lat": [
            45.93347
           ],
           "legendgroup": "FEDERAL IRIS",
           "lon": [
            -129.9768
           ],
           "marker": {
            "color": "#636efa"
           },
           "mode": "markers",
           "name": "FEDERAL IRIS",
           "showlegend": true,
           "subplot": "mapbox",
           "type": "scattermapbox"
          },
          {
           "customdata": [
            [
             0,
             0
            ]
           ],
           "hovertemplate": "<b>%{hovertext}</b><br><br>SHIPNAME=cc hydrophone 2016-08-28 12:44:45<br>animation_frame=2016-08-28 12:40<br>LAT=%{lat}<br>LON=%{lon}<br>SPEED (KNOTSx10)=%{customdata[0]}<br>ccdist=%{customdata[1]}<extra></extra>",
           "hovertext": [
            "cc hydrophone"
           ],
           "lat": [
            45.9549
           ],
           "legendgroup": "cc hydrophone 2016-08-28 12:44:45",
           "lon": [
            -130.0089
           ],
           "marker": {
            "color": "#19d3f3"
           },
           "mode": "markers",
           "name": "cc hydrophone 2016-08-28 12:44:45",
           "showlegend": true,
           "subplot": "mapbox",
           "type": "scattermapbox"
          },
          {
           "customdata": [
            [
             0,
             0
            ]
           ],
           "hovertemplate": "<b>%{hovertext}</b><br><br>SHIPNAME=ec hydrophone 2016-08-28 12:44:45<br>animation_frame=2016-08-28 12:40<br>LAT=%{lat}<br>LON=%{lon}<br>SPEED (KNOTSx10)=%{customdata[0]}<br>ccdist=%{customdata[1]}<extra></extra>",
           "hovertext": [
            "ec hydrophone"
           ],
           "lat": [
            45.9399
           ],
           "legendgroup": "ec hydrophone 2016-08-28 12:44:45",
           "lon": [
            -129.9742
           ],
           "marker": {
            "color": "#FF6692"
           },
           "mode": "markers",
           "name": "ec hydrophone 2016-08-28 12:44:45",
           "showlegend": true,
           "subplot": "mapbox",
           "type": "scattermapbox"
          }
         ],
         "name": "2016-08-28 12:40"
        },
        {
         "data": [
          {
           "customdata": [
            [
             12,
             2.3723142238717796
            ]
           ],
           "hovertemplate": "<b>%{hovertext}</b><br><br>SHIPNAME=FEDERAL IRIS<br>animation_frame=2016-08-28 12:50<br>LAT=%{lat}<br>LON=%{lon}<br>SPEED (KNOTSx10)=%{customdata[0]}<br>ccdist=%{customdata[1]}<extra></extra>",
           "hovertext": [
            "Bulk Carrier"
           ],
           "lat": [
            45.93256
           ],
           "legendgroup": "FEDERAL IRIS",
           "lon": [
            -129.9715
           ],
           "marker": {
            "color": "#636efa"
           },
           "mode": "markers",
           "name": "FEDERAL IRIS",
           "showlegend": true,
           "subplot": "mapbox",
           "type": "scattermapbox"
          },
          {
           "customdata": [
            [
             0,
             0
            ]
           ],
           "hovertemplate": "<b>%{hovertext}</b><br><br>SHIPNAME=cc hydrophone 2016-08-28 12:56:24<br>animation_frame=2016-08-28 12:50<br>LAT=%{lat}<br>LON=%{lon}<br>SPEED (KNOTSx10)=%{customdata[0]}<br>ccdist=%{customdata[1]}<extra></extra>",
           "hovertext": [
            "cc hydrophone"
           ],
           "lat": [
            45.9549
           ],
           "legendgroup": "cc hydrophone 2016-08-28 12:56:24",
           "lon": [
            -130.0089
           ],
           "marker": {
            "color": "#B6E880"
           },
           "mode": "markers",
           "name": "cc hydrophone 2016-08-28 12:56:24",
           "showlegend": true,
           "subplot": "mapbox",
           "type": "scattermapbox"
          },
          {
           "customdata": [
            [
             0,
             0
            ]
           ],
           "hovertemplate": "<b>%{hovertext}</b><br><br>SHIPNAME=ec hydrophone 2016-08-28 12:56:24<br>animation_frame=2016-08-28 12:50<br>LAT=%{lat}<br>LON=%{lon}<br>SPEED (KNOTSx10)=%{customdata[0]}<br>ccdist=%{customdata[1]}<extra></extra>",
           "hovertext": [
            "ec hydrophone"
           ],
           "lat": [
            45.9399
           ],
           "legendgroup": "ec hydrophone 2016-08-28 12:56:24",
           "lon": [
            -129.9742
           ],
           "marker": {
            "color": "#FF97FF"
           },
           "mode": "markers",
           "name": "ec hydrophone 2016-08-28 12:56:24",
           "showlegend": true,
           "subplot": "mapbox",
           "type": "scattermapbox"
          }
         ],
         "name": "2016-08-28 12:50"
        }
       ],
       "layout": {
        "legend": {
         "title": {
          "text": "SHIPNAME"
         },
         "tracegroupgap": 0
        },
        "mapbox": {
         "center": {
          "lat": 45.94363714285714,
          "lon": -129.99685
         },
         "domain": {
          "x": [
           0,
           1
          ],
          "y": [
           0,
           1
          ]
         },
         "style": "carto-positron",
         "zoom": 5
        },
        "margin": {
         "t": 60
        },
        "sliders": [
         {
          "active": 0,
          "currentvalue": {
           "prefix": "animation_frame="
          },
          "len": 0.9,
          "pad": {
           "b": 10,
           "t": 60
          },
          "steps": [
           {
            "args": [
             [
              "2016-08-28 10:30"
             ],
             {
              "frame": {
               "duration": 0,
               "redraw": true
              },
              "fromcurrent": true,
              "mode": "immediate",
              "transition": {
               "duration": 0,
               "easing": "linear"
              }
             }
            ],
            "label": "2016-08-28 10:30",
            "method": "animate"
           },
           {
            "args": [
             [
              "2016-08-28 10:40"
             ],
             {
              "frame": {
               "duration": 0,
               "redraw": true
              },
              "fromcurrent": true,
              "mode": "immediate",
              "transition": {
               "duration": 0,
               "easing": "linear"
              }
             }
            ],
            "label": "2016-08-28 10:40",
            "method": "animate"
           },
           {
            "args": [
             [
              "2016-08-28 10:50"
             ],
             {
              "frame": {
               "duration": 0,
               "redraw": true
              },
              "fromcurrent": true,
              "mode": "immediate",
              "transition": {
               "duration": 0,
               "easing": "linear"
              }
             }
            ],
            "label": "2016-08-28 10:50",
            "method": "animate"
           },
           {
            "args": [
             [
              "2016-08-28 11:00"
             ],
             {
              "frame": {
               "duration": 0,
               "redraw": true
              },
              "fromcurrent": true,
              "mode": "immediate",
              "transition": {
               "duration": 0,
               "easing": "linear"
              }
             }
            ],
            "label": "2016-08-28 11:00",
            "method": "animate"
           },
           {
            "args": [
             [
              "2016-08-28 11:10"
             ],
             {
              "frame": {
               "duration": 0,
               "redraw": true
              },
              "fromcurrent": true,
              "mode": "immediate",
              "transition": {
               "duration": 0,
               "easing": "linear"
              }
             }
            ],
            "label": "2016-08-28 11:10",
            "method": "animate"
           },
           {
            "args": [
             [
              "2016-08-28 11:30"
             ],
             {
              "frame": {
               "duration": 0,
               "redraw": true
              },
              "fromcurrent": true,
              "mode": "immediate",
              "transition": {
               "duration": 0,
               "easing": "linear"
              }
             }
            ],
            "label": "2016-08-28 11:30",
            "method": "animate"
           },
           {
            "args": [
             [
              "2016-08-28 11:50"
             ],
             {
              "frame": {
               "duration": 0,
               "redraw": true
              },
              "fromcurrent": true,
              "mode": "immediate",
              "transition": {
               "duration": 0,
               "easing": "linear"
              }
             }
            ],
            "label": "2016-08-28 11:50",
            "method": "animate"
           },
           {
            "args": [
             [
              "2016-08-28 12:00"
             ],
             {
              "frame": {
               "duration": 0,
               "redraw": true
              },
              "fromcurrent": true,
              "mode": "immediate",
              "transition": {
               "duration": 0,
               "easing": "linear"
              }
             }
            ],
            "label": "2016-08-28 12:00",
            "method": "animate"
           },
           {
            "args": [
             [
              "2016-08-28 12:20"
             ],
             {
              "frame": {
               "duration": 0,
               "redraw": true
              },
              "fromcurrent": true,
              "mode": "immediate",
              "transition": {
               "duration": 0,
               "easing": "linear"
              }
             }
            ],
            "label": "2016-08-28 12:20",
            "method": "animate"
           },
           {
            "args": [
             [
              "2016-08-28 12:40"
             ],
             {
              "frame": {
               "duration": 0,
               "redraw": true
              },
              "fromcurrent": true,
              "mode": "immediate",
              "transition": {
               "duration": 0,
               "easing": "linear"
              }
             }
            ],
            "label": "2016-08-28 12:40",
            "method": "animate"
           },
           {
            "args": [
             [
              "2016-08-28 12:50"
             ],
             {
              "frame": {
               "duration": 0,
               "redraw": true
              },
              "fromcurrent": true,
              "mode": "immediate",
              "transition": {
               "duration": 0,
               "easing": "linear"
              }
             }
            ],
            "label": "2016-08-28 12:50",
            "method": "animate"
           }
          ],
          "x": 0.1,
          "xanchor": "left",
          "y": 0,
          "yanchor": "top"
         }
        ],
        "template": {
         "data": {
          "bar": [
           {
            "error_x": {
             "color": "#2a3f5f"
            },
            "error_y": {
             "color": "#2a3f5f"
            },
            "marker": {
             "line": {
              "color": "#E5ECF6",
              "width": 0.5
             },
             "pattern": {
              "fillmode": "overlay",
              "size": 10,
              "solidity": 0.2
             }
            },
            "type": "bar"
           }
          ],
          "barpolar": [
           {
            "marker": {
             "line": {
              "color": "#E5ECF6",
              "width": 0.5
             },
             "pattern": {
              "fillmode": "overlay",
              "size": 10,
              "solidity": 0.2
             }
            },
            "type": "barpolar"
           }
          ],
          "carpet": [
           {
            "aaxis": {
             "endlinecolor": "#2a3f5f",
             "gridcolor": "white",
             "linecolor": "white",
             "minorgridcolor": "white",
             "startlinecolor": "#2a3f5f"
            },
            "baxis": {
             "endlinecolor": "#2a3f5f",
             "gridcolor": "white",
             "linecolor": "white",
             "minorgridcolor": "white",
             "startlinecolor": "#2a3f5f"
            },
            "type": "carpet"
           }
          ],
          "choropleth": [
           {
            "colorbar": {
             "outlinewidth": 0,
             "ticks": ""
            },
            "type": "choropleth"
           }
          ],
          "contour": [
           {
            "colorbar": {
             "outlinewidth": 0,
             "ticks": ""
            },
            "colorscale": [
             [
              0,
              "#0d0887"
             ],
             [
              0.1111111111111111,
              "#46039f"
             ],
             [
              0.2222222222222222,
              "#7201a8"
             ],
             [
              0.3333333333333333,
              "#9c179e"
             ],
             [
              0.4444444444444444,
              "#bd3786"
             ],
             [
              0.5555555555555556,
              "#d8576b"
             ],
             [
              0.6666666666666666,
              "#ed7953"
             ],
             [
              0.7777777777777778,
              "#fb9f3a"
             ],
             [
              0.8888888888888888,
              "#fdca26"
             ],
             [
              1,
              "#f0f921"
             ]
            ],
            "type": "contour"
           }
          ],
          "contourcarpet": [
           {
            "colorbar": {
             "outlinewidth": 0,
             "ticks": ""
            },
            "type": "contourcarpet"
           }
          ],
          "heatmap": [
           {
            "colorbar": {
             "outlinewidth": 0,
             "ticks": ""
            },
            "colorscale": [
             [
              0,
              "#0d0887"
             ],
             [
              0.1111111111111111,
              "#46039f"
             ],
             [
              0.2222222222222222,
              "#7201a8"
             ],
             [
              0.3333333333333333,
              "#9c179e"
             ],
             [
              0.4444444444444444,
              "#bd3786"
             ],
             [
              0.5555555555555556,
              "#d8576b"
             ],
             [
              0.6666666666666666,
              "#ed7953"
             ],
             [
              0.7777777777777778,
              "#fb9f3a"
             ],
             [
              0.8888888888888888,
              "#fdca26"
             ],
             [
              1,
              "#f0f921"
             ]
            ],
            "type": "heatmap"
           }
          ],
          "heatmapgl": [
           {
            "colorbar": {
             "outlinewidth": 0,
             "ticks": ""
            },
            "colorscale": [
             [
              0,
              "#0d0887"
             ],
             [
              0.1111111111111111,
              "#46039f"
             ],
             [
              0.2222222222222222,
              "#7201a8"
             ],
             [
              0.3333333333333333,
              "#9c179e"
             ],
             [
              0.4444444444444444,
              "#bd3786"
             ],
             [
              0.5555555555555556,
              "#d8576b"
             ],
             [
              0.6666666666666666,
              "#ed7953"
             ],
             [
              0.7777777777777778,
              "#fb9f3a"
             ],
             [
              0.8888888888888888,
              "#fdca26"
             ],
             [
              1,
              "#f0f921"
             ]
            ],
            "type": "heatmapgl"
           }
          ],
          "histogram": [
           {
            "marker": {
             "pattern": {
              "fillmode": "overlay",
              "size": 10,
              "solidity": 0.2
             }
            },
            "type": "histogram"
           }
          ],
          "histogram2d": [
           {
            "colorbar": {
             "outlinewidth": 0,
             "ticks": ""
            },
            "colorscale": [
             [
              0,
              "#0d0887"
             ],
             [
              0.1111111111111111,
              "#46039f"
             ],
             [
              0.2222222222222222,
              "#7201a8"
             ],
             [
              0.3333333333333333,
              "#9c179e"
             ],
             [
              0.4444444444444444,
              "#bd3786"
             ],
             [
              0.5555555555555556,
              "#d8576b"
             ],
             [
              0.6666666666666666,
              "#ed7953"
             ],
             [
              0.7777777777777778,
              "#fb9f3a"
             ],
             [
              0.8888888888888888,
              "#fdca26"
             ],
             [
              1,
              "#f0f921"
             ]
            ],
            "type": "histogram2d"
           }
          ],
          "histogram2dcontour": [
           {
            "colorbar": {
             "outlinewidth": 0,
             "ticks": ""
            },
            "colorscale": [
             [
              0,
              "#0d0887"
             ],
             [
              0.1111111111111111,
              "#46039f"
             ],
             [
              0.2222222222222222,
              "#7201a8"
             ],
             [
              0.3333333333333333,
              "#9c179e"
             ],
             [
              0.4444444444444444,
              "#bd3786"
             ],
             [
              0.5555555555555556,
              "#d8576b"
             ],
             [
              0.6666666666666666,
              "#ed7953"
             ],
             [
              0.7777777777777778,
              "#fb9f3a"
             ],
             [
              0.8888888888888888,
              "#fdca26"
             ],
             [
              1,
              "#f0f921"
             ]
            ],
            "type": "histogram2dcontour"
           }
          ],
          "mesh3d": [
           {
            "colorbar": {
             "outlinewidth": 0,
             "ticks": ""
            },
            "type": "mesh3d"
           }
          ],
          "parcoords": [
           {
            "line": {
             "colorbar": {
              "outlinewidth": 0,
              "ticks": ""
             }
            },
            "type": "parcoords"
           }
          ],
          "pie": [
           {
            "automargin": true,
            "type": "pie"
           }
          ],
          "scatter": [
           {
            "fillpattern": {
             "fillmode": "overlay",
             "size": 10,
             "solidity": 0.2
            },
            "type": "scatter"
           }
          ],
          "scatter3d": [
           {
            "line": {
             "colorbar": {
              "outlinewidth": 0,
              "ticks": ""
             }
            },
            "marker": {
             "colorbar": {
              "outlinewidth": 0,
              "ticks": ""
             }
            },
            "type": "scatter3d"
           }
          ],
          "scattercarpet": [
           {
            "marker": {
             "colorbar": {
              "outlinewidth": 0,
              "ticks": ""
             }
            },
            "type": "scattercarpet"
           }
          ],
          "scattergeo": [
           {
            "marker": {
             "colorbar": {
              "outlinewidth": 0,
              "ticks": ""
             }
            },
            "type": "scattergeo"
           }
          ],
          "scattergl": [
           {
            "marker": {
             "colorbar": {
              "outlinewidth": 0,
              "ticks": ""
             }
            },
            "type": "scattergl"
           }
          ],
          "scattermapbox": [
           {
            "marker": {
             "colorbar": {
              "outlinewidth": 0,
              "ticks": ""
             }
            },
            "type": "scattermapbox"
           }
          ],
          "scatterpolar": [
           {
            "marker": {
             "colorbar": {
              "outlinewidth": 0,
              "ticks": ""
             }
            },
            "type": "scatterpolar"
           }
          ],
          "scatterpolargl": [
           {
            "marker": {
             "colorbar": {
              "outlinewidth": 0,
              "ticks": ""
             }
            },
            "type": "scatterpolargl"
           }
          ],
          "scatterternary": [
           {
            "marker": {
             "colorbar": {
              "outlinewidth": 0,
              "ticks": ""
             }
            },
            "type": "scatterternary"
           }
          ],
          "surface": [
           {
            "colorbar": {
             "outlinewidth": 0,
             "ticks": ""
            },
            "colorscale": [
             [
              0,
              "#0d0887"
             ],
             [
              0.1111111111111111,
              "#46039f"
             ],
             [
              0.2222222222222222,
              "#7201a8"
             ],
             [
              0.3333333333333333,
              "#9c179e"
             ],
             [
              0.4444444444444444,
              "#bd3786"
             ],
             [
              0.5555555555555556,
              "#d8576b"
             ],
             [
              0.6666666666666666,
              "#ed7953"
             ],
             [
              0.7777777777777778,
              "#fb9f3a"
             ],
             [
              0.8888888888888888,
              "#fdca26"
             ],
             [
              1,
              "#f0f921"
             ]
            ],
            "type": "surface"
           }
          ],
          "table": [
           {
            "cells": {
             "fill": {
              "color": "#EBF0F8"
             },
             "line": {
              "color": "white"
             }
            },
            "header": {
             "fill": {
              "color": "#C8D4E3"
             },
             "line": {
              "color": "white"
             }
            },
            "type": "table"
           }
          ]
         },
         "layout": {
          "annotationdefaults": {
           "arrowcolor": "#2a3f5f",
           "arrowhead": 0,
           "arrowwidth": 1
          },
          "autotypenumbers": "strict",
          "coloraxis": {
           "colorbar": {
            "outlinewidth": 0,
            "ticks": ""
           }
          },
          "colorscale": {
           "diverging": [
            [
             0,
             "#8e0152"
            ],
            [
             0.1,
             "#c51b7d"
            ],
            [
             0.2,
             "#de77ae"
            ],
            [
             0.3,
             "#f1b6da"
            ],
            [
             0.4,
             "#fde0ef"
            ],
            [
             0.5,
             "#f7f7f7"
            ],
            [
             0.6,
             "#e6f5d0"
            ],
            [
             0.7,
             "#b8e186"
            ],
            [
             0.8,
             "#7fbc41"
            ],
            [
             0.9,
             "#4d9221"
            ],
            [
             1,
             "#276419"
            ]
           ],
           "sequential": [
            [
             0,
             "#0d0887"
            ],
            [
             0.1111111111111111,
             "#46039f"
            ],
            [
             0.2222222222222222,
             "#7201a8"
            ],
            [
             0.3333333333333333,
             "#9c179e"
            ],
            [
             0.4444444444444444,
             "#bd3786"
            ],
            [
             0.5555555555555556,
             "#d8576b"
            ],
            [
             0.6666666666666666,
             "#ed7953"
            ],
            [
             0.7777777777777778,
             "#fb9f3a"
            ],
            [
             0.8888888888888888,
             "#fdca26"
            ],
            [
             1,
             "#f0f921"
            ]
           ],
           "sequentialminus": [
            [
             0,
             "#0d0887"
            ],
            [
             0.1111111111111111,
             "#46039f"
            ],
            [
             0.2222222222222222,
             "#7201a8"
            ],
            [
             0.3333333333333333,
             "#9c179e"
            ],
            [
             0.4444444444444444,
             "#bd3786"
            ],
            [
             0.5555555555555556,
             "#d8576b"
            ],
            [
             0.6666666666666666,
             "#ed7953"
            ],
            [
             0.7777777777777778,
             "#fb9f3a"
            ],
            [
             0.8888888888888888,
             "#fdca26"
            ],
            [
             1,
             "#f0f921"
            ]
           ]
          },
          "colorway": [
           "#636efa",
           "#EF553B",
           "#00cc96",
           "#ab63fa",
           "#FFA15A",
           "#19d3f3",
           "#FF6692",
           "#B6E880",
           "#FF97FF",
           "#FECB52"
          ],
          "font": {
           "color": "#2a3f5f"
          },
          "geo": {
           "bgcolor": "white",
           "lakecolor": "white",
           "landcolor": "#E5ECF6",
           "showlakes": true,
           "showland": true,
           "subunitcolor": "white"
          },
          "hoverlabel": {
           "align": "left"
          },
          "hovermode": "closest",
          "mapbox": {
           "style": "light"
          },
          "paper_bgcolor": "white",
          "plot_bgcolor": "#E5ECF6",
          "polar": {
           "angularaxis": {
            "gridcolor": "white",
            "linecolor": "white",
            "ticks": ""
           },
           "bgcolor": "#E5ECF6",
           "radialaxis": {
            "gridcolor": "white",
            "linecolor": "white",
            "ticks": ""
           }
          },
          "scene": {
           "xaxis": {
            "backgroundcolor": "#E5ECF6",
            "gridcolor": "white",
            "gridwidth": 2,
            "linecolor": "white",
            "showbackground": true,
            "ticks": "",
            "zerolinecolor": "white"
           },
           "yaxis": {
            "backgroundcolor": "#E5ECF6",
            "gridcolor": "white",
            "gridwidth": 2,
            "linecolor": "white",
            "showbackground": true,
            "ticks": "",
            "zerolinecolor": "white"
           },
           "zaxis": {
            "backgroundcolor": "#E5ECF6",
            "gridcolor": "white",
            "gridwidth": 2,
            "linecolor": "white",
            "showbackground": true,
            "ticks": "",
            "zerolinecolor": "white"
           }
          },
          "shapedefaults": {
           "line": {
            "color": "#2a3f5f"
           }
          },
          "ternary": {
           "aaxis": {
            "gridcolor": "white",
            "linecolor": "white",
            "ticks": ""
           },
           "baxis": {
            "gridcolor": "white",
            "linecolor": "white",
            "ticks": ""
           },
           "bgcolor": "#E5ECF6",
           "caxis": {
            "gridcolor": "white",
            "linecolor": "white",
            "ticks": ""
           }
          },
          "title": {
           "x": 0.05
          },
          "xaxis": {
           "automargin": true,
           "gridcolor": "white",
           "linecolor": "white",
           "ticks": "",
           "title": {
            "standoff": 15
           },
           "zerolinecolor": "white",
           "zerolinewidth": 2
          },
          "yaxis": {
           "automargin": true,
           "gridcolor": "white",
           "linecolor": "white",
           "ticks": "",
           "title": {
            "standoff": 15
           },
           "zerolinecolor": "white",
           "zerolinewidth": 2
          }
         }
        },
        "updatemenus": [
         {
          "buttons": [
           {
            "args": [
             null,
             {
              "frame": {
               "duration": 500,
               "redraw": true
              },
              "fromcurrent": true,
              "mode": "immediate",
              "transition": {
               "duration": 500,
               "easing": "linear"
              }
             }
            ],
            "label": "&#9654;",
            "method": "animate"
           },
           {
            "args": [
             [
              null
             ],
             {
              "frame": {
               "duration": 0,
               "redraw": true
              },
              "fromcurrent": true,
              "mode": "immediate",
              "transition": {
               "duration": 0,
               "easing": "linear"
              }
             }
            ],
            "label": "&#9724;",
            "method": "animate"
           }
          ],
          "direction": "left",
          "pad": {
           "r": 10,
           "t": 70
          },
          "showactive": false,
          "type": "buttons",
          "x": 0.1,
          "xanchor": "right",
          "y": 0,
          "yanchor": "top"
         }
        ]
       }
      }
     },
     "metadata": {},
     "output_type": "display_data"
    }
   ],
   "source": [
    "ais = df\n",
    "\n",
    "ecdist = (45.9399, -129.9742)\n",
    "ccdist = (45.9549, -130.0089)\n",
    "ais['ecdist'] = [geodesic((a, b), ecdist).miles for a, b in ais[['LAT', 'LON']].values]\n",
    "ais['ccdist'] = [geodesic((a, b), ccdist).miles for a, b in ais[['LAT', 'LON']].values]\n",
    "\n",
    "ais['TIMESTAMP UTC'] = pd.to_datetime(ais['TIMESTAMP UTC']).dt.strftime('%Y-%m-%d %H:%M:%S')\n",
    "ais['TIMESTAMP UTC'] = pd.to_datetime(ais['TIMESTAMP UTC'])\n",
    "\n",
    "animate_map('2016-08-28 09:03:45', '2016-08-28 13:02:04')\n",
    "#2016-08-28 13:02:04\n",
    "\n"
   ]
  },
  {
   "cell_type": "markdown",
   "metadata": {},
   "source": [
    "### Central Caldera"
   ]
  },
  {
   "cell_type": "code",
   "execution_count": 77,
   "metadata": {},
   "outputs": [
    {
     "name": "stdout",
     "output_type": "stream",
     "text": [
      "data/Central_Caldera/PSD_pickles/CC_20160828090345_20160828091345.json\n",
      "data/Central_Caldera/PSD_pickles/CC_20160828090345_20160828091345.json\n",
      "data/Central_Caldera/PSD_pickles/CC_20160828091345_20160828092345.json\n",
      "data/Central_Caldera/PSD_pickles/CC_20160828092345_20160828093345.json\n",
      "data/Central_Caldera/PSD_pickles/CC_20160828094345_20160828095345.json\n",
      "data/Central_Caldera/PSD_pickles/CC_20160828094345_20160828095345.json\n",
      "data/Central_Caldera/PSD_pickles/CC_20160828095345_20160828100345.json\n",
      "data/Central_Caldera/PSD_pickles/CC_20160828100345_20160828101345.json\n",
      "data/Central_Caldera/PSD_pickles/CC_20160828101345_20160828102345.json\n",
      "data/Central_Caldera/PSD_pickles/CC_20160828102345_20160828103345.json\n",
      "data/Central_Caldera/PSD_pickles/CC_20160828103345_20160828104345.json\n",
      "data/Central_Caldera/PSD_pickles/CC_20160828103345_20160828104345.json\n",
      "data/Central_Caldera/PSD_pickles/CC_20160828104345_20160828105345.json\n",
      "data/Central_Caldera/PSD_pickles/CC_20160828105345_20160828110345.json\n",
      "data/Central_Caldera/PSD_pickles/CC_20160828110345_20160828111345.json\n",
      "data/Central_Caldera/PSD_pickles/CC_20160828110345_20160828111345.json\n",
      "data/Central_Caldera/PSD_pickles/CC_20160828111345_20160828112345.json\n",
      "data/Central_Caldera/PSD_pickles/CC_20160828113345_20160828114345.json\n",
      "data/Central_Caldera/PSD_pickles/CC_20160828115345_20160828120345.json\n",
      "data/Central_Caldera/PSD_pickles/CC_20160828120345_20160828121345.json\n",
      "data/Central_Caldera/PSD_pickles/CC_20160828122345_20160828123345.json\n",
      "data/Central_Caldera/PSD_pickles/CC_20160828122345_20160828123345.json\n",
      "data/Central_Caldera/PSD_pickles/CC_20160828124345_20160828125345.json\n",
      "data/Central_Caldera/PSD_pickles/CC_20160828125345_20160828130345.json\n",
      "data/Central_Caldera/PSD_pickles/CC_20160828125345_20160828130345.json\n"
     ]
    },
    {
     "name": "stderr",
     "output_type": "stream",
     "text": [
      "C:\\Users\\UserALai\\AppData\\Local\\Temp\\ipykernel_18244\\1815691292.py:125: UserWarning:\n",
      "\n",
      "The following kwargs were not used by contour: 'linewidth'\n",
      "\n"
     ]
    }
   ],
   "source": [
    "CC_df = pd.read_csv('data/Central_Caldera/CC_isolated_ais_5_20.csv', sep=',')\n",
    "\n",
    "# Cargo\n",
    "key = 'Cargo'\n",
    "MMSI_1 = 372305000\n",
    "df = CC_df[(CC_df['ud_group']==key)]\n",
    "df = df[df['MMSI']==MMSI_1]\n",
    "# df.groupby('MMSI').count() # this lets us see MMSI occurances\n",
    "psd = get_PSD_dict_given_filt_df(df, 'Central_Caldera')\n",
    "spdf = get_spdf(psd)\n",
    "plot_spdf(spdf, log=False, title=key + ' Spectral PDF ('+str(MMSI_1)+')', shipType=key, location='Central_Caldera')\n",
    "end_time = (pd.to_datetime(df['TIMESTAMP UTC'].iloc[5], format='%Y-%m-%d %H:%M:%S'))\n",
    "start_time = (pd.to_datetime('2016-08-28 06:03:45', format='%Y-%m-%d %H:%M:%S'))"
   ]
  },
  {
   "cell_type": "code",
   "execution_count": 78,
   "metadata": {},
   "outputs": [
    {
     "data": {
      "text/html": [
       "<div>\n",
       "<style scoped>\n",
       "    .dataframe tbody tr th:only-of-type {\n",
       "        vertical-align: middle;\n",
       "    }\n",
       "\n",
       "    .dataframe tbody tr th {\n",
       "        vertical-align: top;\n",
       "    }\n",
       "\n",
       "    .dataframe thead th {\n",
       "        text-align: right;\n",
       "    }\n",
       "</style>\n",
       "<table border=\"1\" class=\"dataframe\">\n",
       "  <thead>\n",
       "    <tr style=\"text-align: right;\">\n",
       "      <th></th>\n",
       "      <th>Unnamed: 0</th>\n",
       "      <th>MMSI</th>\n",
       "      <th>SHIPNAME</th>\n",
       "      <th>VESSEL TYPE</th>\n",
       "      <th>SPEED (KNOTSx10)</th>\n",
       "      <th>COURSE</th>\n",
       "      <th>HEADING</th>\n",
       "      <th>TIMESTAMP UTC</th>\n",
       "      <th>LENGTH</th>\n",
       "      <th>Year</th>\n",
       "      <th>ship_Loc</th>\n",
       "      <th>LAT</th>\n",
       "      <th>LON</th>\n",
       "      <th>distance(in km)</th>\n",
       "      <th>central_caldera_Loc</th>\n",
       "      <th>instance_id</th>\n",
       "      <th>ud_group</th>\n",
       "    </tr>\n",
       "  </thead>\n",
       "  <tbody>\n",
       "    <tr>\n",
       "      <th>16492</th>\n",
       "      <td>16492</td>\n",
       "      <td>372305000</td>\n",
       "      <td>FEDERAL IRIS</td>\n",
       "      <td>Bulk Carrier</td>\n",
       "      <td>8</td>\n",
       "      <td>93</td>\n",
       "      <td>40</td>\n",
       "      <td>2016-08-28 09:03:45</td>\n",
       "      <td>199.98</td>\n",
       "      <td>2016</td>\n",
       "      <td>(45.94035, -130.0679)</td>\n",
       "      <td>45.94035</td>\n",
       "      <td>-130.0679</td>\n",
       "      <td>4.85</td>\n",
       "      <td>(45.9549, -130.0089)</td>\n",
       "      <td>CC_20160828090345_20160828091345</td>\n",
       "      <td>Cargo</td>\n",
       "    </tr>\n",
       "    <tr>\n",
       "      <th>16493</th>\n",
       "      <td>16493</td>\n",
       "      <td>372305000</td>\n",
       "      <td>FEDERAL IRIS</td>\n",
       "      <td>Bulk Carrier</td>\n",
       "      <td>10</td>\n",
       "      <td>102</td>\n",
       "      <td>38</td>\n",
       "      <td>2016-08-28 09:11:24</td>\n",
       "      <td>199.98</td>\n",
       "      <td>2016</td>\n",
       "      <td>(45.94016, -130.0656)</td>\n",
       "      <td>45.94016</td>\n",
       "      <td>-130.0656</td>\n",
       "      <td>4.69</td>\n",
       "      <td>(45.9549, -130.0089)</td>\n",
       "      <td>CC_20160828090345_20160828091345</td>\n",
       "      <td>Cargo</td>\n",
       "    </tr>\n",
       "    <tr>\n",
       "      <th>16494</th>\n",
       "      <td>16494</td>\n",
       "      <td>372305000</td>\n",
       "      <td>FEDERAL IRIS</td>\n",
       "      <td>Bulk Carrier</td>\n",
       "      <td>7</td>\n",
       "      <td>88</td>\n",
       "      <td>37</td>\n",
       "      <td>2016-08-28 09:18:25</td>\n",
       "      <td>199.98</td>\n",
       "      <td>2016</td>\n",
       "      <td>(45.93999, -130.0635)</td>\n",
       "      <td>45.93999</td>\n",
       "      <td>-130.0635</td>\n",
       "      <td>4.55</td>\n",
       "      <td>(45.9549, -130.0089)</td>\n",
       "      <td>CC_20160828091345_20160828092345</td>\n",
       "      <td>Cargo</td>\n",
       "    </tr>\n",
       "    <tr>\n",
       "      <th>16495</th>\n",
       "      <td>16495</td>\n",
       "      <td>372305000</td>\n",
       "      <td>FEDERAL IRIS</td>\n",
       "      <td>Bulk Carrier</td>\n",
       "      <td>8</td>\n",
       "      <td>100</td>\n",
       "      <td>26</td>\n",
       "      <td>2016-08-28 09:27:45</td>\n",
       "      <td>199.98</td>\n",
       "      <td>2016</td>\n",
       "      <td>(45.93944, -130.0605)</td>\n",
       "      <td>45.93944</td>\n",
       "      <td>-130.0605</td>\n",
       "      <td>4.35</td>\n",
       "      <td>(45.9549, -130.0089)</td>\n",
       "      <td>CC_20160828092345_20160828093345</td>\n",
       "      <td>Cargo</td>\n",
       "    </tr>\n",
       "    <tr>\n",
       "      <th>16497</th>\n",
       "      <td>16497</td>\n",
       "      <td>372305000</td>\n",
       "      <td>FEDERAL IRIS</td>\n",
       "      <td>Bulk Carrier</td>\n",
       "      <td>11</td>\n",
       "      <td>90</td>\n",
       "      <td>29</td>\n",
       "      <td>2016-08-28 09:44:55</td>\n",
       "      <td>199.98</td>\n",
       "      <td>2016</td>\n",
       "      <td>(45.93909, -130.0549)</td>\n",
       "      <td>45.93909</td>\n",
       "      <td>-130.0549</td>\n",
       "      <td>3.98</td>\n",
       "      <td>(45.9549, -130.0089)</td>\n",
       "      <td>CC_20160828094345_20160828095345</td>\n",
       "      <td>Cargo</td>\n",
       "    </tr>\n",
       "    <tr>\n",
       "      <th>16498</th>\n",
       "      <td>16498</td>\n",
       "      <td>372305000</td>\n",
       "      <td>FEDERAL IRIS</td>\n",
       "      <td>Bulk Carrier</td>\n",
       "      <td>9</td>\n",
       "      <td>87</td>\n",
       "      <td>24</td>\n",
       "      <td>2016-08-28 09:50:05</td>\n",
       "      <td>199.98</td>\n",
       "      <td>2016</td>\n",
       "      <td>(45.93893, -130.0528)</td>\n",
       "      <td>45.93893</td>\n",
       "      <td>-130.0528</td>\n",
       "      <td>3.84</td>\n",
       "      <td>(45.9549, -130.0089)</td>\n",
       "      <td>CC_20160828094345_20160828095345</td>\n",
       "      <td>Cargo</td>\n",
       "    </tr>\n",
       "    <tr>\n",
       "      <th>16499</th>\n",
       "      <td>16499</td>\n",
       "      <td>372305000</td>\n",
       "      <td>FEDERAL IRIS</td>\n",
       "      <td>Bulk Carrier</td>\n",
       "      <td>8</td>\n",
       "      <td>73</td>\n",
       "      <td>27</td>\n",
       "      <td>2016-08-28 09:55:25</td>\n",
       "      <td>199.98</td>\n",
       "      <td>2016</td>\n",
       "      <td>(45.93913, -130.0511)</td>\n",
       "      <td>45.93913</td>\n",
       "      <td>-130.0511</td>\n",
       "      <td>3.71</td>\n",
       "      <td>(45.9549, -130.0089)</td>\n",
       "      <td>CC_20160828095345_20160828100345</td>\n",
       "      <td>Cargo</td>\n",
       "    </tr>\n",
       "    <tr>\n",
       "      <th>16500</th>\n",
       "      <td>16500</td>\n",
       "      <td>372305000</td>\n",
       "      <td>FEDERAL IRIS</td>\n",
       "      <td>Bulk Carrier</td>\n",
       "      <td>10</td>\n",
       "      <td>91</td>\n",
       "      <td>11</td>\n",
       "      <td>2016-08-28 10:10:15</td>\n",
       "      <td>199.98</td>\n",
       "      <td>2016</td>\n",
       "      <td>(45.93918, -130.0456)</td>\n",
       "      <td>45.93918</td>\n",
       "      <td>-130.0456</td>\n",
       "      <td>3.34</td>\n",
       "      <td>(45.9549, -130.0089)</td>\n",
       "      <td>CC_20160828100345_20160828101345</td>\n",
       "      <td>Cargo</td>\n",
       "    </tr>\n",
       "    <tr>\n",
       "      <th>16501</th>\n",
       "      <td>16501</td>\n",
       "      <td>372305000</td>\n",
       "      <td>FEDERAL IRIS</td>\n",
       "      <td>Bulk Carrier</td>\n",
       "      <td>9</td>\n",
       "      <td>89</td>\n",
       "      <td>9</td>\n",
       "      <td>2016-08-28 10:15:24</td>\n",
       "      <td>199.98</td>\n",
       "      <td>2016</td>\n",
       "      <td>(45.93912, -130.0437)</td>\n",
       "      <td>45.93912</td>\n",
       "      <td>-130.0437</td>\n",
       "      <td>3.22</td>\n",
       "      <td>(45.9549, -130.0089)</td>\n",
       "      <td>CC_20160828101345_20160828102345</td>\n",
       "      <td>Cargo</td>\n",
       "    </tr>\n",
       "    <tr>\n",
       "      <th>16502</th>\n",
       "      <td>16502</td>\n",
       "      <td>372305000</td>\n",
       "      <td>FEDERAL IRIS</td>\n",
       "      <td>Bulk Carrier</td>\n",
       "      <td>11</td>\n",
       "      <td>98</td>\n",
       "      <td>12</td>\n",
       "      <td>2016-08-28 10:25:33</td>\n",
       "      <td>199.98</td>\n",
       "      <td>2016</td>\n",
       "      <td>(45.93873, -130.0397)</td>\n",
       "      <td>45.93873</td>\n",
       "      <td>-130.0397</td>\n",
       "      <td>2.99</td>\n",
       "      <td>(45.9549, -130.0089)</td>\n",
       "      <td>CC_20160828102345_20160828103345</td>\n",
       "      <td>Cargo</td>\n",
       "    </tr>\n",
       "    <tr>\n",
       "      <th>16503</th>\n",
       "      <td>16503</td>\n",
       "      <td>372305000</td>\n",
       "      <td>FEDERAL IRIS</td>\n",
       "      <td>Bulk Carrier</td>\n",
       "      <td>11</td>\n",
       "      <td>99</td>\n",
       "      <td>9</td>\n",
       "      <td>2016-08-28 10:36:44</td>\n",
       "      <td>199.98</td>\n",
       "      <td>2016</td>\n",
       "      <td>(45.9382, -130.0353)</td>\n",
       "      <td>45.93820</td>\n",
       "      <td>-130.0353</td>\n",
       "      <td>2.76</td>\n",
       "      <td>(45.9549, -130.0089)</td>\n",
       "      <td>CC_20160828103345_20160828104345</td>\n",
       "      <td>Cargo</td>\n",
       "    </tr>\n",
       "    <tr>\n",
       "      <th>16504</th>\n",
       "      <td>16504</td>\n",
       "      <td>372305000</td>\n",
       "      <td>FEDERAL IRIS</td>\n",
       "      <td>Bulk Carrier</td>\n",
       "      <td>11</td>\n",
       "      <td>90</td>\n",
       "      <td>9</td>\n",
       "      <td>2016-08-28 10:43:04</td>\n",
       "      <td>199.98</td>\n",
       "      <td>2016</td>\n",
       "      <td>(45.93805, -130.0327)</td>\n",
       "      <td>45.93805</td>\n",
       "      <td>-130.0327</td>\n",
       "      <td>2.63</td>\n",
       "      <td>(45.9549, -130.0089)</td>\n",
       "      <td>CC_20160828103345_20160828104345</td>\n",
       "      <td>Cargo</td>\n",
       "    </tr>\n",
       "    <tr>\n",
       "      <th>16505</th>\n",
       "      <td>16505</td>\n",
       "      <td>372305000</td>\n",
       "      <td>FEDERAL IRIS</td>\n",
       "      <td>Bulk Carrier</td>\n",
       "      <td>10</td>\n",
       "      <td>91</td>\n",
       "      <td>10</td>\n",
       "      <td>2016-08-28 10:51:15</td>\n",
       "      <td>199.98</td>\n",
       "      <td>2016</td>\n",
       "      <td>(45.9379, -130.0295)</td>\n",
       "      <td>45.93790</td>\n",
       "      <td>-130.0295</td>\n",
       "      <td>2.47</td>\n",
       "      <td>(45.9549, -130.0089)</td>\n",
       "      <td>CC_20160828104345_20160828105345</td>\n",
       "      <td>Cargo</td>\n",
       "    </tr>\n",
       "    <tr>\n",
       "      <th>16506</th>\n",
       "      <td>16506</td>\n",
       "      <td>372305000</td>\n",
       "      <td>FEDERAL IRIS</td>\n",
       "      <td>Bulk Carrier</td>\n",
       "      <td>9</td>\n",
       "      <td>90</td>\n",
       "      <td>13</td>\n",
       "      <td>2016-08-28 11:01:14</td>\n",
       "      <td>199.98</td>\n",
       "      <td>2016</td>\n",
       "      <td>(45.93753, -130.0257)</td>\n",
       "      <td>45.93753</td>\n",
       "      <td>-130.0257</td>\n",
       "      <td>2.33</td>\n",
       "      <td>(45.9549, -130.0089)</td>\n",
       "      <td>CC_20160828105345_20160828110345</td>\n",
       "      <td>Cargo</td>\n",
       "    </tr>\n",
       "    <tr>\n",
       "      <th>16507</th>\n",
       "      <td>16507</td>\n",
       "      <td>372305000</td>\n",
       "      <td>FEDERAL IRIS</td>\n",
       "      <td>Bulk Carrier</td>\n",
       "      <td>11</td>\n",
       "      <td>93</td>\n",
       "      <td>23</td>\n",
       "      <td>2016-08-28 11:07:53</td>\n",
       "      <td>199.98</td>\n",
       "      <td>2016</td>\n",
       "      <td>(45.93736, -130.0229)</td>\n",
       "      <td>45.93736</td>\n",
       "      <td>-130.0229</td>\n",
       "      <td>2.23</td>\n",
       "      <td>(45.9549, -130.0089)</td>\n",
       "      <td>CC_20160828110345_20160828111345</td>\n",
       "      <td>Cargo</td>\n",
       "    </tr>\n",
       "    <tr>\n",
       "      <th>16508</th>\n",
       "      <td>16508</td>\n",
       "      <td>372305000</td>\n",
       "      <td>FEDERAL IRIS</td>\n",
       "      <td>Bulk Carrier</td>\n",
       "      <td>10</td>\n",
       "      <td>92</td>\n",
       "      <td>19</td>\n",
       "      <td>2016-08-28 11:13:04</td>\n",
       "      <td>199.98</td>\n",
       "      <td>2016</td>\n",
       "      <td>(45.93718, -130.0205)</td>\n",
       "      <td>45.93718</td>\n",
       "      <td>-130.0205</td>\n",
       "      <td>2.17</td>\n",
       "      <td>(45.9549, -130.0089)</td>\n",
       "      <td>CC_20160828110345_20160828111345</td>\n",
       "      <td>Cargo</td>\n",
       "    </tr>\n",
       "    <tr>\n",
       "      <th>16509</th>\n",
       "      <td>16509</td>\n",
       "      <td>372305000</td>\n",
       "      <td>FEDERAL IRIS</td>\n",
       "      <td>Bulk Carrier</td>\n",
       "      <td>12</td>\n",
       "      <td>94</td>\n",
       "      <td>16</td>\n",
       "      <td>2016-08-28 11:18:45</td>\n",
       "      <td>199.98</td>\n",
       "      <td>2016</td>\n",
       "      <td>(45.93695, -130.0177)</td>\n",
       "      <td>45.93695</td>\n",
       "      <td>-130.0177</td>\n",
       "      <td>2.11</td>\n",
       "      <td>(45.9549, -130.0089)</td>\n",
       "      <td>CC_20160828111345_20160828112345</td>\n",
       "      <td>Cargo</td>\n",
       "    </tr>\n",
       "    <tr>\n",
       "      <th>16511</th>\n",
       "      <td>16511</td>\n",
       "      <td>372305000</td>\n",
       "      <td>FEDERAL IRIS</td>\n",
       "      <td>Bulk Carrier</td>\n",
       "      <td>12</td>\n",
       "      <td>98</td>\n",
       "      <td>29</td>\n",
       "      <td>2016-08-28 11:34:35</td>\n",
       "      <td>199.98</td>\n",
       "      <td>2016</td>\n",
       "      <td>(45.93631, -130.0101)</td>\n",
       "      <td>45.93631</td>\n",
       "      <td>-130.0101</td>\n",
       "      <td>2.07</td>\n",
       "      <td>(45.9549, -130.0089)</td>\n",
       "      <td>CC_20160828113345_20160828114345</td>\n",
       "      <td>Cargo</td>\n",
       "    </tr>\n",
       "    <tr>\n",
       "      <th>16513</th>\n",
       "      <td>16513</td>\n",
       "      <td>372305000</td>\n",
       "      <td>FEDERAL IRIS</td>\n",
       "      <td>Bulk Carrier</td>\n",
       "      <td>13</td>\n",
       "      <td>89</td>\n",
       "      <td>10</td>\n",
       "      <td>2016-08-28 11:59:45</td>\n",
       "      <td>199.98</td>\n",
       "      <td>2016</td>\n",
       "      <td>(45.93566, -129.9972)</td>\n",
       "      <td>45.93566</td>\n",
       "      <td>-129.9972</td>\n",
       "      <td>2.32</td>\n",
       "      <td>(45.9549, -130.0089)</td>\n",
       "      <td>CC_20160828115345_20160828120345</td>\n",
       "      <td>Cargo</td>\n",
       "    </tr>\n",
       "    <tr>\n",
       "      <th>16514</th>\n",
       "      <td>16514</td>\n",
       "      <td>372305000</td>\n",
       "      <td>FEDERAL IRIS</td>\n",
       "      <td>Bulk Carrier</td>\n",
       "      <td>13</td>\n",
       "      <td>98</td>\n",
       "      <td>8</td>\n",
       "      <td>2016-08-28 12:06:35</td>\n",
       "      <td>199.98</td>\n",
       "      <td>2016</td>\n",
       "      <td>(45.93555, -129.9936)</td>\n",
       "      <td>45.93555</td>\n",
       "      <td>-129.9936</td>\n",
       "      <td>2.46</td>\n",
       "      <td>(45.9549, -130.0089)</td>\n",
       "      <td>CC_20160828120345_20160828121345</td>\n",
       "      <td>Cargo</td>\n",
       "    </tr>\n",
       "    <tr>\n",
       "      <th>16516</th>\n",
       "      <td>16516</td>\n",
       "      <td>372305000</td>\n",
       "      <td>FEDERAL IRIS</td>\n",
       "      <td>Bulk Carrier</td>\n",
       "      <td>11</td>\n",
       "      <td>93</td>\n",
       "      <td>2</td>\n",
       "      <td>2016-08-28 12:24:04</td>\n",
       "      <td>199.98</td>\n",
       "      <td>2016</td>\n",
       "      <td>(45.93445, -129.9859)</td>\n",
       "      <td>45.93445</td>\n",
       "      <td>-129.9859</td>\n",
       "      <td>2.89</td>\n",
       "      <td>(45.9549, -130.0089)</td>\n",
       "      <td>CC_20160828122345_20160828123345</td>\n",
       "      <td>Cargo</td>\n",
       "    </tr>\n",
       "    <tr>\n",
       "      <th>16517</th>\n",
       "      <td>16517</td>\n",
       "      <td>372305000</td>\n",
       "      <td>FEDERAL IRIS</td>\n",
       "      <td>Bulk Carrier</td>\n",
       "      <td>11</td>\n",
       "      <td>93</td>\n",
       "      <td>2</td>\n",
       "      <td>2016-08-28 12:26:14</td>\n",
       "      <td>199.98</td>\n",
       "      <td>2016</td>\n",
       "      <td>(45.93439, -129.9849)</td>\n",
       "      <td>45.93439</td>\n",
       "      <td>-129.9849</td>\n",
       "      <td>2.94</td>\n",
       "      <td>(45.9549, -130.0089)</td>\n",
       "      <td>CC_20160828122345_20160828123345</td>\n",
       "      <td>Cargo</td>\n",
       "    </tr>\n",
       "    <tr>\n",
       "      <th>16519</th>\n",
       "      <td>16519</td>\n",
       "      <td>372305000</td>\n",
       "      <td>FEDERAL IRIS</td>\n",
       "      <td>Bulk Carrier</td>\n",
       "      <td>12</td>\n",
       "      <td>100</td>\n",
       "      <td>353</td>\n",
       "      <td>2016-08-28 12:44:45</td>\n",
       "      <td>199.98</td>\n",
       "      <td>2016</td>\n",
       "      <td>(45.93347, -129.9768)</td>\n",
       "      <td>45.93347</td>\n",
       "      <td>-129.9768</td>\n",
       "      <td>3.45</td>\n",
       "      <td>(45.9549, -130.0089)</td>\n",
       "      <td>CC_20160828124345_20160828125345</td>\n",
       "      <td>Cargo</td>\n",
       "    </tr>\n",
       "    <tr>\n",
       "      <th>16520</th>\n",
       "      <td>16520</td>\n",
       "      <td>372305000</td>\n",
       "      <td>FEDERAL IRIS</td>\n",
       "      <td>Bulk Carrier</td>\n",
       "      <td>12</td>\n",
       "      <td>96</td>\n",
       "      <td>352</td>\n",
       "      <td>2016-08-28 12:56:24</td>\n",
       "      <td>199.98</td>\n",
       "      <td>2016</td>\n",
       "      <td>(45.93256, -129.9715)</td>\n",
       "      <td>45.93256</td>\n",
       "      <td>-129.9715</td>\n",
       "      <td>3.82</td>\n",
       "      <td>(45.9549, -130.0089)</td>\n",
       "      <td>CC_20160828125345_20160828130345</td>\n",
       "      <td>Cargo</td>\n",
       "    </tr>\n",
       "    <tr>\n",
       "      <th>16521</th>\n",
       "      <td>16521</td>\n",
       "      <td>372305000</td>\n",
       "      <td>FEDERAL IRIS</td>\n",
       "      <td>Bulk Carrier</td>\n",
       "      <td>12</td>\n",
       "      <td>94</td>\n",
       "      <td>352</td>\n",
       "      <td>2016-08-28 13:02:04</td>\n",
       "      <td>199.98</td>\n",
       "      <td>2016</td>\n",
       "      <td>(45.93235, -129.9688)</td>\n",
       "      <td>45.93235</td>\n",
       "      <td>-129.9688</td>\n",
       "      <td>3.99</td>\n",
       "      <td>(45.9549, -130.0089)</td>\n",
       "      <td>CC_20160828125345_20160828130345</td>\n",
       "      <td>Cargo</td>\n",
       "    </tr>\n",
       "  </tbody>\n",
       "</table>\n",
       "</div>"
      ],
      "text/plain": [
       "       Unnamed: 0       MMSI      SHIPNAME   VESSEL TYPE  SPEED (KNOTSx10)  \\\n",
       "16492       16492  372305000  FEDERAL IRIS  Bulk Carrier                 8   \n",
       "16493       16493  372305000  FEDERAL IRIS  Bulk Carrier                10   \n",
       "16494       16494  372305000  FEDERAL IRIS  Bulk Carrier                 7   \n",
       "16495       16495  372305000  FEDERAL IRIS  Bulk Carrier                 8   \n",
       "16497       16497  372305000  FEDERAL IRIS  Bulk Carrier                11   \n",
       "16498       16498  372305000  FEDERAL IRIS  Bulk Carrier                 9   \n",
       "16499       16499  372305000  FEDERAL IRIS  Bulk Carrier                 8   \n",
       "16500       16500  372305000  FEDERAL IRIS  Bulk Carrier                10   \n",
       "16501       16501  372305000  FEDERAL IRIS  Bulk Carrier                 9   \n",
       "16502       16502  372305000  FEDERAL IRIS  Bulk Carrier                11   \n",
       "16503       16503  372305000  FEDERAL IRIS  Bulk Carrier                11   \n",
       "16504       16504  372305000  FEDERAL IRIS  Bulk Carrier                11   \n",
       "16505       16505  372305000  FEDERAL IRIS  Bulk Carrier                10   \n",
       "16506       16506  372305000  FEDERAL IRIS  Bulk Carrier                 9   \n",
       "16507       16507  372305000  FEDERAL IRIS  Bulk Carrier                11   \n",
       "16508       16508  372305000  FEDERAL IRIS  Bulk Carrier                10   \n",
       "16509       16509  372305000  FEDERAL IRIS  Bulk Carrier                12   \n",
       "16511       16511  372305000  FEDERAL IRIS  Bulk Carrier                12   \n",
       "16513       16513  372305000  FEDERAL IRIS  Bulk Carrier                13   \n",
       "16514       16514  372305000  FEDERAL IRIS  Bulk Carrier                13   \n",
       "16516       16516  372305000  FEDERAL IRIS  Bulk Carrier                11   \n",
       "16517       16517  372305000  FEDERAL IRIS  Bulk Carrier                11   \n",
       "16519       16519  372305000  FEDERAL IRIS  Bulk Carrier                12   \n",
       "16520       16520  372305000  FEDERAL IRIS  Bulk Carrier                12   \n",
       "16521       16521  372305000  FEDERAL IRIS  Bulk Carrier                12   \n",
       "\n",
       "       COURSE  HEADING        TIMESTAMP UTC  LENGTH  Year  \\\n",
       "16492      93       40  2016-08-28 09:03:45  199.98  2016   \n",
       "16493     102       38  2016-08-28 09:11:24  199.98  2016   \n",
       "16494      88       37  2016-08-28 09:18:25  199.98  2016   \n",
       "16495     100       26  2016-08-28 09:27:45  199.98  2016   \n",
       "16497      90       29  2016-08-28 09:44:55  199.98  2016   \n",
       "16498      87       24  2016-08-28 09:50:05  199.98  2016   \n",
       "16499      73       27  2016-08-28 09:55:25  199.98  2016   \n",
       "16500      91       11  2016-08-28 10:10:15  199.98  2016   \n",
       "16501      89        9  2016-08-28 10:15:24  199.98  2016   \n",
       "16502      98       12  2016-08-28 10:25:33  199.98  2016   \n",
       "16503      99        9  2016-08-28 10:36:44  199.98  2016   \n",
       "16504      90        9  2016-08-28 10:43:04  199.98  2016   \n",
       "16505      91       10  2016-08-28 10:51:15  199.98  2016   \n",
       "16506      90       13  2016-08-28 11:01:14  199.98  2016   \n",
       "16507      93       23  2016-08-28 11:07:53  199.98  2016   \n",
       "16508      92       19  2016-08-28 11:13:04  199.98  2016   \n",
       "16509      94       16  2016-08-28 11:18:45  199.98  2016   \n",
       "16511      98       29  2016-08-28 11:34:35  199.98  2016   \n",
       "16513      89       10  2016-08-28 11:59:45  199.98  2016   \n",
       "16514      98        8  2016-08-28 12:06:35  199.98  2016   \n",
       "16516      93        2  2016-08-28 12:24:04  199.98  2016   \n",
       "16517      93        2  2016-08-28 12:26:14  199.98  2016   \n",
       "16519     100      353  2016-08-28 12:44:45  199.98  2016   \n",
       "16520      96      352  2016-08-28 12:56:24  199.98  2016   \n",
       "16521      94      352  2016-08-28 13:02:04  199.98  2016   \n",
       "\n",
       "                    ship_Loc       LAT       LON  distance(in km)  \\\n",
       "16492  (45.94035, -130.0679)  45.94035 -130.0679             4.85   \n",
       "16493  (45.94016, -130.0656)  45.94016 -130.0656             4.69   \n",
       "16494  (45.93999, -130.0635)  45.93999 -130.0635             4.55   \n",
       "16495  (45.93944, -130.0605)  45.93944 -130.0605             4.35   \n",
       "16497  (45.93909, -130.0549)  45.93909 -130.0549             3.98   \n",
       "16498  (45.93893, -130.0528)  45.93893 -130.0528             3.84   \n",
       "16499  (45.93913, -130.0511)  45.93913 -130.0511             3.71   \n",
       "16500  (45.93918, -130.0456)  45.93918 -130.0456             3.34   \n",
       "16501  (45.93912, -130.0437)  45.93912 -130.0437             3.22   \n",
       "16502  (45.93873, -130.0397)  45.93873 -130.0397             2.99   \n",
       "16503   (45.9382, -130.0353)  45.93820 -130.0353             2.76   \n",
       "16504  (45.93805, -130.0327)  45.93805 -130.0327             2.63   \n",
       "16505   (45.9379, -130.0295)  45.93790 -130.0295             2.47   \n",
       "16506  (45.93753, -130.0257)  45.93753 -130.0257             2.33   \n",
       "16507  (45.93736, -130.0229)  45.93736 -130.0229             2.23   \n",
       "16508  (45.93718, -130.0205)  45.93718 -130.0205             2.17   \n",
       "16509  (45.93695, -130.0177)  45.93695 -130.0177             2.11   \n",
       "16511  (45.93631, -130.0101)  45.93631 -130.0101             2.07   \n",
       "16513  (45.93566, -129.9972)  45.93566 -129.9972             2.32   \n",
       "16514  (45.93555, -129.9936)  45.93555 -129.9936             2.46   \n",
       "16516  (45.93445, -129.9859)  45.93445 -129.9859             2.89   \n",
       "16517  (45.93439, -129.9849)  45.93439 -129.9849             2.94   \n",
       "16519  (45.93347, -129.9768)  45.93347 -129.9768             3.45   \n",
       "16520  (45.93256, -129.9715)  45.93256 -129.9715             3.82   \n",
       "16521  (45.93235, -129.9688)  45.93235 -129.9688             3.99   \n",
       "\n",
       "        central_caldera_Loc                       instance_id ud_group  \n",
       "16492  (45.9549, -130.0089)  CC_20160828090345_20160828091345    Cargo  \n",
       "16493  (45.9549, -130.0089)  CC_20160828090345_20160828091345    Cargo  \n",
       "16494  (45.9549, -130.0089)  CC_20160828091345_20160828092345    Cargo  \n",
       "16495  (45.9549, -130.0089)  CC_20160828092345_20160828093345    Cargo  \n",
       "16497  (45.9549, -130.0089)  CC_20160828094345_20160828095345    Cargo  \n",
       "16498  (45.9549, -130.0089)  CC_20160828094345_20160828095345    Cargo  \n",
       "16499  (45.9549, -130.0089)  CC_20160828095345_20160828100345    Cargo  \n",
       "16500  (45.9549, -130.0089)  CC_20160828100345_20160828101345    Cargo  \n",
       "16501  (45.9549, -130.0089)  CC_20160828101345_20160828102345    Cargo  \n",
       "16502  (45.9549, -130.0089)  CC_20160828102345_20160828103345    Cargo  \n",
       "16503  (45.9549, -130.0089)  CC_20160828103345_20160828104345    Cargo  \n",
       "16504  (45.9549, -130.0089)  CC_20160828103345_20160828104345    Cargo  \n",
       "16505  (45.9549, -130.0089)  CC_20160828104345_20160828105345    Cargo  \n",
       "16506  (45.9549, -130.0089)  CC_20160828105345_20160828110345    Cargo  \n",
       "16507  (45.9549, -130.0089)  CC_20160828110345_20160828111345    Cargo  \n",
       "16508  (45.9549, -130.0089)  CC_20160828110345_20160828111345    Cargo  \n",
       "16509  (45.9549, -130.0089)  CC_20160828111345_20160828112345    Cargo  \n",
       "16511  (45.9549, -130.0089)  CC_20160828113345_20160828114345    Cargo  \n",
       "16513  (45.9549, -130.0089)  CC_20160828115345_20160828120345    Cargo  \n",
       "16514  (45.9549, -130.0089)  CC_20160828120345_20160828121345    Cargo  \n",
       "16516  (45.9549, -130.0089)  CC_20160828122345_20160828123345    Cargo  \n",
       "16517  (45.9549, -130.0089)  CC_20160828122345_20160828123345    Cargo  \n",
       "16519  (45.9549, -130.0089)  CC_20160828124345_20160828125345    Cargo  \n",
       "16520  (45.9549, -130.0089)  CC_20160828125345_20160828130345    Cargo  \n",
       "16521  (45.9549, -130.0089)  CC_20160828125345_20160828130345    Cargo  "
      ]
     },
     "execution_count": 78,
     "metadata": {},
     "output_type": "execute_result"
    }
   ],
   "source": [
    "df"
   ]
  },
  {
   "cell_type": "code",
   "execution_count": 92,
   "metadata": {},
   "outputs": [
    {
     "name": "stdout",
     "output_type": "stream",
     "text": [
      "data/Central_Caldera/PSD_pickles/CC_20160828111345_20160828112345.json\n",
      "data/Central_Caldera/PSD_pickles/CC_20160828113345_20160828114345.json\n"
     ]
    },
    {
     "name": "stderr",
     "output_type": "stream",
     "text": [
      "C:\\Users\\UserALai\\AppData\\Local\\Temp\\ipykernel_18244\\1815691292.py:125: UserWarning:\n",
      "\n",
      "The following kwargs were not used by contour: 'linewidth'\n",
      "\n"
     ]
    },
    {
     "name": "stdout",
     "output_type": "stream",
     "text": [
      "data/Central_Caldera/PSD_pickles/CC_20160828111345_20160828112345.json\n",
      "data/Central_Caldera/PSD_pickles/CC_20160828113345_20160828114345.json\n"
     ]
    }
   ],
   "source": [
    "psd = get_PSD_dict_given_filt_df(df.iloc[16:18], 'Central_Caldera')\n",
    "spdf = get_spdf(psd)\n",
    "plot_spdf(spdf, log=False, title=key + ' Spectral PDF inst 16', shipType=key, location='Central_Caldera')\n",
    "\n",
    "psd = get_PSD_dict_given_filt_df(df.iloc[16:18], 'Central_Caldera')\n",
    "spdf = get_spdf(psd)\n",
    "plot_spdf(spdf, log=False, title=key + ' Spectral PDF inst 20', shipType=key, location='Central_Caldera')\n"
   ]
  },
  {
   "cell_type": "code",
   "execution_count": 88,
   "metadata": {},
   "outputs": [
    {
     "data": {
      "text/plain": [
       "{'objects': [], 'frequencies': [], 'values': []}"
      ]
     },
     "execution_count": 88,
     "metadata": {},
     "output_type": "execute_result"
    }
   ],
   "source": [
    "psd"
   ]
  },
  {
   "cell_type": "code",
   "execution_count": 38,
   "metadata": {},
   "outputs": [
    {
     "name": "stdout",
     "output_type": "stream",
     "text": [
      "Downloading mseed file...\n",
      "   Specific Time window timed out.\n"
     ]
    },
    {
     "ename": "AttributeError",
     "evalue": "'NoneType' object has no attribute 'compute_spectrogram'",
     "output_type": "error",
     "traceback": [
      "\u001b[1;31m---------------------------------------------------------------------------\u001b[0m",
      "\u001b[1;31mAttributeError\u001b[0m                            Traceback (most recent call last)",
      "\u001b[1;32mc:\\Users\\UserALai\\Documents\\Work\\Ocean Data\\OcDa-Files\\Untitled-1.ipynb Cell 15'\u001b[0m in \u001b[0;36m<cell line: 3>\u001b[1;34m()\u001b[0m\n\u001b[0;32m      <a href='vscode-notebook-cell:/c%3A/Users/UserALai/Documents/Work/Ocean%20Data/OcDa-Files/Untitled-1.ipynb#ch0000016?line=0'>1</a>\u001b[0m \u001b[39m#df['TIMESTAMP UTC'] = (pd.to_datetime(df['TIMESTAMP UTC'], format='%Y-%m-%d %H:%M:%S'))\u001b[39;00m\n\u001b[0;32m      <a href='vscode-notebook-cell:/c%3A/Users/UserALai/Documents/Work/Ocean%20Data/OcDa-Files/Untitled-1.ipynb#ch0000016?line=1'>2</a>\u001b[0m CC_hdata_LF \u001b[39m=\u001b[39m ooipy\u001b[39m.\u001b[39mget_acoustic_data_LF(start_time, end_time, CC_node_LF, verbose\u001b[39m=\u001b[39m\u001b[39mTrue\u001b[39;00m, zero_mean\u001b[39m=\u001b[39m\u001b[39mTrue\u001b[39;00m)\n\u001b[1;32m----> <a href='vscode-notebook-cell:/c%3A/Users/UserALai/Documents/Work/Ocean%20Data/OcDa-Files/Untitled-1.ipynb#ch0000016?line=2'>3</a>\u001b[0m CC_spec_LF \u001b[39m=\u001b[39m CC_hdata_LF\u001b[39m.\u001b[39;49mcompute_spectrogram(avg_time\u001b[39m=\u001b[39m\u001b[39m1\u001b[39m, overlap\u001b[39m=\u001b[39m\u001b[39m0\u001b[39m)\n\u001b[0;32m      <a href='vscode-notebook-cell:/c%3A/Users/UserALai/Documents/Work/Ocean%20Data/OcDa-Files/Untitled-1.ipynb#ch0000016?line=4'>5</a>\u001b[0m ooipy\u001b[39m.\u001b[39mplot(CC_spec_LF, fmin\u001b[39m=\u001b[39m\u001b[39m0\u001b[39m, fmax\u001b[39m=\u001b[39m\u001b[39m100\u001b[39m, xlabel_rot\u001b[39m=\u001b[39m\u001b[39m30\u001b[39m)\n",
      "\u001b[1;31mAttributeError\u001b[0m: 'NoneType' object has no attribute 'compute_spectrogram'"
     ]
    }
   ],
   "source": [
    "#df['TIMESTAMP UTC'] = (pd.to_datetime(df['TIMESTAMP UTC'], format='%Y-%m-%d %H:%M:%S'))\n",
    "CC_hdata_LF = ooipy.get_acoustic_data_LF(start_time, end_time, CC_node_LF, verbose=True, zero_mean=True)\n",
    "CC_spec_LF = CC_hdata_LF.compute_spectrogram(avg_time=1, overlap=0)\n",
    "\n",
    "ooipy.plot(CC_spec_LF, fmin=0, fmax=100, xlabel_rot=30)"
   ]
  },
  {
   "cell_type": "code",
   "execution_count": 79,
   "metadata": {},
   "outputs": [
    {
     "data": {
      "application/vnd.plotly.v1+json": {
       "config": {
        "plotlyServerURL": "https://plot.ly"
       },
       "data": [
        {
         "customdata": [
          [
           10,
           306.84404528496054
          ],
          [
           7,
           306.7443338151073
          ]
         ],
         "hovertemplate": "<b>%{hovertext}</b><br><br>SHIPNAME=FEDERAL IRIS<br>animation_frame=2016-08-28 09:10<br>LAT=%{lat}<br>LON=%{lon}<br>SPEED (KNOTSx10)=%{customdata[0]}<br>slfdist=%{customdata[1]}<extra></extra>",
         "hovertext": [
          "Bulk Carrier",
          "Bulk Carrier"
         ],
         "lat": [
          45.94016,
          45.93999
         ],
         "legendgroup": "FEDERAL IRIS",
         "lon": [
          -130.0656,
          -130.0635
         ],
         "marker": {
          "color": "#636efa"
         },
         "mode": "markers",
         "name": "FEDERAL IRIS",
         "showlegend": true,
         "subplot": "mapbox",
         "type": "scattermapbox"
        }
       ],
       "frames": [
        {
         "data": [
          {
           "customdata": [
            [
             10,
             306.84404528496054
            ],
            [
             7,
             306.7443338151073
            ]
           ],
           "hovertemplate": "<b>%{hovertext}</b><br><br>SHIPNAME=FEDERAL IRIS<br>animation_frame=2016-08-28 09:10<br>LAT=%{lat}<br>LON=%{lon}<br>SPEED (KNOTSx10)=%{customdata[0]}<br>slfdist=%{customdata[1]}<extra></extra>",
           "hovertext": [
            "Bulk Carrier",
            "Bulk Carrier"
           ],
           "lat": [
            45.94016,
            45.93999
           ],
           "legendgroup": "FEDERAL IRIS",
           "lon": [
            -130.0656,
            -130.0635
           ],
           "marker": {
            "color": "#636efa"
           },
           "mode": "markers",
           "name": "FEDERAL IRIS",
           "showlegend": true,
           "subplot": "mapbox",
           "type": "scattermapbox"
          }
         ],
         "name": "2016-08-28 09:10"
        },
        {
         "data": [
          {
           "customdata": [
            [
             8,
             306.59518252450937
            ]
           ],
           "hovertemplate": "<b>%{hovertext}</b><br><br>SHIPNAME=FEDERAL IRIS<br>animation_frame=2016-08-28 09:20<br>LAT=%{lat}<br>LON=%{lon}<br>SPEED (KNOTSx10)=%{customdata[0]}<br>slfdist=%{customdata[1]}<extra></extra>",
           "hovertext": [
            "Bulk Carrier"
           ],
           "lat": [
            45.93944
           ],
           "legendgroup": "FEDERAL IRIS",
           "lon": [
            -130.0605
           ],
           "marker": {
            "color": "#636efa"
           },
           "mode": "markers",
           "name": "FEDERAL IRIS",
           "showlegend": true,
           "subplot": "mapbox",
           "type": "scattermapbox"
          }
         ],
         "name": "2016-08-28 09:20"
        },
        {
         "data": [
          {
           "customdata": [
            [
             11,
             306.3315535383823
            ]
           ],
           "hovertemplate": "<b>%{hovertext}</b><br><br>SHIPNAME=FEDERAL IRIS<br>animation_frame=2016-08-28 09:40<br>LAT=%{lat}<br>LON=%{lon}<br>SPEED (KNOTSx10)=%{customdata[0]}<br>slfdist=%{customdata[1]}<extra></extra>",
           "hovertext": [
            "Bulk Carrier"
           ],
           "lat": [
            45.93909
           ],
           "legendgroup": "FEDERAL IRIS",
           "lon": [
            -130.0549
           ],
           "marker": {
            "color": "#636efa"
           },
           "mode": "markers",
           "name": "FEDERAL IRIS",
           "showlegend": true,
           "subplot": "mapbox",
           "type": "scattermapbox"
          }
         ],
         "name": "2016-08-28 09:40"
        },
        {
         "data": [
          {
           "customdata": [
            [
             9,
             306.23206800433593
            ],
            [
             8,
             306.1587412723354
            ]
           ],
           "hovertemplate": "<b>%{hovertext}</b><br><br>SHIPNAME=FEDERAL IRIS<br>animation_frame=2016-08-28 09:50<br>LAT=%{lat}<br>LON=%{lon}<br>SPEED (KNOTSx10)=%{customdata[0]}<br>slfdist=%{customdata[1]}<extra></extra>",
           "hovertext": [
            "Bulk Carrier",
            "Bulk Carrier"
           ],
           "lat": [
            45.93893,
            45.93913
           ],
           "legendgroup": "FEDERAL IRIS",
           "lon": [
            -130.0528,
            -130.0511
           ],
           "marker": {
            "color": "#636efa"
           },
           "mode": "markers",
           "name": "FEDERAL IRIS",
           "showlegend": true,
           "subplot": "mapbox",
           "type": "scattermapbox"
          }
         ],
         "name": "2016-08-28 09:50"
        },
        {
         "data": [
          {
           "customdata": [
            [
             10,
             305.90847192795053
            ],
            [
             9,
             305.8203296996678
            ]
           ],
           "hovertemplate": "<b>%{hovertext}</b><br><br>SHIPNAME=FEDERAL IRIS<br>animation_frame=2016-08-28 10:10<br>LAT=%{lat}<br>LON=%{lon}<br>SPEED (KNOTSx10)=%{customdata[0]}<br>slfdist=%{customdata[1]}<extra></extra>",
           "hovertext": [
            "Bulk Carrier",
            "Bulk Carrier"
           ],
           "lat": [
            45.93918,
            45.93912
           ],
           "legendgroup": "FEDERAL IRIS",
           "lon": [
            -130.0456,
            -130.0437
           ],
           "marker": {
            "color": "#636efa"
           },
           "mode": "markers",
           "name": "FEDERAL IRIS",
           "showlegend": true,
           "subplot": "mapbox",
           "type": "scattermapbox"
          }
         ],
         "name": "2016-08-28 10:10"
        },
        {
         "data": [
          {
           "customdata": [
            [
             11,
             305.62899588121974
            ]
           ],
           "hovertemplate": "<b>%{hovertext}</b><br><br>SHIPNAME=FEDERAL IRIS<br>animation_frame=2016-08-28 10:20<br>LAT=%{lat}<br>LON=%{lon}<br>SPEED (KNOTSx10)=%{customdata[0]}<br>slfdist=%{customdata[1]}<extra></extra>",
           "hovertext": [
            "Bulk Carrier"
           ],
           "lat": [
            45.93873
           ],
           "legendgroup": "FEDERAL IRIS",
           "lon": [
            -130.0397
           ],
           "marker": {
            "color": "#636efa"
           },
           "mode": "markers",
           "name": "FEDERAL IRIS",
           "showlegend": true,
           "subplot": "mapbox",
           "type": "scattermapbox"
          }
         ],
         "name": "2016-08-28 10:20"
        },
        {
         "data": [
          {
           "customdata": [
            [
             11,
             305.4163193111071
            ]
           ],
           "hovertemplate": "<b>%{hovertext}</b><br><br>SHIPNAME=FEDERAL IRIS<br>animation_frame=2016-08-28 10:30<br>LAT=%{lat}<br>LON=%{lon}<br>SPEED (KNOTSx10)=%{customdata[0]}<br>slfdist=%{customdata[1]}<extra></extra>",
           "hovertext": [
            "Bulk Carrier"
           ],
           "lat": [
            45.9382
           ],
           "legendgroup": "FEDERAL IRIS",
           "lon": [
            -130.0353
           ],
           "marker": {
            "color": "#636efa"
           },
           "mode": "markers",
           "name": "FEDERAL IRIS",
           "showlegend": true,
           "subplot": "mapbox",
           "type": "scattermapbox"
          }
         ],
         "name": "2016-08-28 10:30"
        },
        {
         "data": [
          {
           "customdata": [
            [
             11,
             305.2942277343089
            ]
           ],
           "hovertemplate": "<b>%{hovertext}</b><br><br>SHIPNAME=FEDERAL IRIS<br>animation_frame=2016-08-28 10:40<br>LAT=%{lat}<br>LON=%{lon}<br>SPEED (KNOTSx10)=%{customdata[0]}<br>slfdist=%{customdata[1]}<extra></extra>",
           "hovertext": [
            "Bulk Carrier"
           ],
           "lat": [
            45.93805
           ],
           "legendgroup": "FEDERAL IRIS",
           "lon": [
            -130.0327
           ],
           "marker": {
            "color": "#636efa"
           },
           "mode": "markers",
           "name": "FEDERAL IRIS",
           "showlegend": true,
           "subplot": "mapbox",
           "type": "scattermapbox"
          }
         ],
         "name": "2016-08-28 10:40"
        },
        {
         "data": [
          {
           "customdata": [
            [
             10,
             305.14472580601864
            ]
           ],
           "hovertemplate": "<b>%{hovertext}</b><br><br>SHIPNAME=FEDERAL IRIS<br>animation_frame=2016-08-28 10:50<br>LAT=%{lat}<br>LON=%{lon}<br>SPEED (KNOTSx10)=%{customdata[0]}<br>slfdist=%{customdata[1]}<extra></extra>",
           "hovertext": [
            "Bulk Carrier"
           ],
           "lat": [
            45.9379
           ],
           "legendgroup": "FEDERAL IRIS",
           "lon": [
            -130.0295
           ],
           "marker": {
            "color": "#636efa"
           },
           "mode": "markers",
           "name": "FEDERAL IRIS",
           "showlegend": true,
           "subplot": "mapbox",
           "type": "scattermapbox"
          }
         ],
         "name": "2016-08-28 10:50"
        },
        {
         "data": [
          {
           "customdata": [
            [
             9,
             304.96298698708455
            ],
            [
             11,
             304.83133127070744
            ]
           ],
           "hovertemplate": "<b>%{hovertext}</b><br><br>SHIPNAME=FEDERAL IRIS<br>animation_frame=2016-08-28 11:00<br>LAT=%{lat}<br>LON=%{lon}<br>SPEED (KNOTSx10)=%{customdata[0]}<br>slfdist=%{customdata[1]}<extra></extra>",
           "hovertext": [
            "Bulk Carrier",
            "Bulk Carrier"
           ],
           "lat": [
            45.93753,
            45.93736
           ],
           "legendgroup": "FEDERAL IRIS",
           "lon": [
            -130.0257,
            -130.0229
           ],
           "marker": {
            "color": "#636efa"
           },
           "mode": "markers",
           "name": "FEDERAL IRIS",
           "showlegend": true,
           "subplot": "mapbox",
           "type": "scattermapbox"
          }
         ],
         "name": "2016-08-28 11:00"
        },
        {
         "data": [
          {
           "customdata": [
            [
             10,
             304.7177333267452
            ],
            [
             12,
             304.58476584007593
            ]
           ],
           "hovertemplate": "<b>%{hovertext}</b><br><br>SHIPNAME=FEDERAL IRIS<br>animation_frame=2016-08-28 11:10<br>LAT=%{lat}<br>LON=%{lon}<br>SPEED (KNOTSx10)=%{customdata[0]}<br>slfdist=%{customdata[1]}<extra></extra>",
           "hovertext": [
            "Bulk Carrier",
            "Bulk Carrier"
           ],
           "lat": [
            45.93718,
            45.93695
           ],
           "legendgroup": "FEDERAL IRIS",
           "lon": [
            -130.0205,
            -130.0177
           ],
           "marker": {
            "color": "#636efa"
           },
           "mode": "markers",
           "name": "FEDERAL IRIS",
           "showlegend": true,
           "subplot": "mapbox",
           "type": "scattermapbox"
          }
         ],
         "name": "2016-08-28 11:10"
        },
        {
         "data": [
          {
           "customdata": [
            [
             12,
             304.22352343492616
            ]
           ],
           "hovertemplate": "<b>%{hovertext}</b><br><br>SHIPNAME=FEDERAL IRIS<br>animation_frame=2016-08-28 11:30<br>LAT=%{lat}<br>LON=%{lon}<br>SPEED (KNOTSx10)=%{customdata[0]}<br>slfdist=%{customdata[1]}<extra></extra>",
           "hovertext": [
            "Bulk Carrier"
           ],
           "lat": [
            45.93631
           ],
           "legendgroup": "FEDERAL IRIS",
           "lon": [
            -130.0101
           ],
           "marker": {
            "color": "#636efa"
           },
           "mode": "markers",
           "name": "FEDERAL IRIS",
           "showlegend": true,
           "subplot": "mapbox",
           "type": "scattermapbox"
          }
         ],
         "name": "2016-08-28 11:30"
        },
        {
         "data": [
          {
           "customdata": [
            [
             13,
             303.6200299526677
            ]
           ],
           "hovertemplate": "<b>%{hovertext}</b><br><br>SHIPNAME=FEDERAL IRIS<br>animation_frame=2016-08-28 11:50<br>LAT=%{lat}<br>LON=%{lon}<br>SPEED (KNOTSx10)=%{customdata[0]}<br>slfdist=%{customdata[1]}<extra></extra>",
           "hovertext": [
            "Bulk Carrier"
           ],
           "lat": [
            45.93566
           ],
           "legendgroup": "FEDERAL IRIS",
           "lon": [
            -129.9972
           ],
           "marker": {
            "color": "#636efa"
           },
           "mode": "markers",
           "name": "FEDERAL IRIS",
           "showlegend": true,
           "subplot": "mapbox",
           "type": "scattermapbox"
          }
         ],
         "name": "2016-08-28 11:50"
        },
        {
         "data": [
          {
           "customdata": [
            [
             13,
             303.45320574443645
            ]
           ],
           "hovertemplate": "<b>%{hovertext}</b><br><br>SHIPNAME=FEDERAL IRIS<br>animation_frame=2016-08-28 12:00<br>LAT=%{lat}<br>LON=%{lon}<br>SPEED (KNOTSx10)=%{customdata[0]}<br>slfdist=%{customdata[1]}<extra></extra>",
           "hovertext": [
            "Bulk Carrier"
           ],
           "lat": [
            45.93555
           ],
           "legendgroup": "FEDERAL IRIS",
           "lon": [
            -129.9936
           ],
           "marker": {
            "color": "#636efa"
           },
           "mode": "markers",
           "name": "FEDERAL IRIS",
           "showlegend": true,
           "subplot": "mapbox",
           "type": "scattermapbox"
          }
         ],
         "name": "2016-08-28 12:00"
        },
        {
         "data": [
          {
           "customdata": [
            [
             11,
             303.0773225014718
            ],
            [
             11,
             303.0303363943293
            ]
           ],
           "hovertemplate": "<b>%{hovertext}</b><br><br>SHIPNAME=FEDERAL IRIS<br>animation_frame=2016-08-28 12:20<br>LAT=%{lat}<br>LON=%{lon}<br>SPEED (KNOTSx10)=%{customdata[0]}<br>slfdist=%{customdata[1]}<extra></extra>",
           "hovertext": [
            "Bulk Carrier",
            "Bulk Carrier"
           ],
           "lat": [
            45.93445,
            45.93439
           ],
           "legendgroup": "FEDERAL IRIS",
           "lon": [
            -129.9859,
            -129.9849
           ],
           "marker": {
            "color": "#636efa"
           },
           "mode": "markers",
           "name": "FEDERAL IRIS",
           "showlegend": true,
           "subplot": "mapbox",
           "type": "scattermapbox"
          }
         ],
         "name": "2016-08-28 12:20"
        },
        {
         "data": [
          {
           "customdata": [
            [
             12,
             302.64017484963665
            ]
           ],
           "hovertemplate": "<b>%{hovertext}</b><br><br>SHIPNAME=FEDERAL IRIS<br>animation_frame=2016-08-28 12:40<br>LAT=%{lat}<br>LON=%{lon}<br>SPEED (KNOTSx10)=%{customdata[0]}<br>slfdist=%{customdata[1]}<extra></extra>",
           "hovertext": [
            "Bulk Carrier"
           ],
           "lat": [
            45.93347
           ],
           "legendgroup": "FEDERAL IRIS",
           "lon": [
            -129.9768
           ],
           "marker": {
            "color": "#636efa"
           },
           "mode": "markers",
           "name": "FEDERAL IRIS",
           "showlegend": true,
           "subplot": "mapbox",
           "type": "scattermapbox"
          }
         ],
         "name": "2016-08-28 12:40"
        },
        {
         "data": [
          {
           "customdata": [
            [
             12,
             302.3780802393313
            ]
           ],
           "hovertemplate": "<b>%{hovertext}</b><br><br>SHIPNAME=FEDERAL IRIS<br>animation_frame=2016-08-28 12:50<br>LAT=%{lat}<br>LON=%{lon}<br>SPEED (KNOTSx10)=%{customdata[0]}<br>slfdist=%{customdata[1]}<extra></extra>",
           "hovertext": [
            "Bulk Carrier"
           ],
           "lat": [
            45.93256
           ],
           "legendgroup": "FEDERAL IRIS",
           "lon": [
            -129.9715
           ],
           "marker": {
            "color": "#636efa"
           },
           "mode": "markers",
           "name": "FEDERAL IRIS",
           "showlegend": true,
           "subplot": "mapbox",
           "type": "scattermapbox"
          }
         ],
         "name": "2016-08-28 12:50"
        }
       ],
       "layout": {
        "legend": {
         "title": {
          "text": "SHIPNAME"
         },
         "tracegroupgap": 0
        },
        "mapbox": {
         "center": {
          "lat": 45.937362173913044,
          "lon": -130.0252913043478
         },
         "domain": {
          "x": [
           0,
           1
          ],
          "y": [
           0,
           1
          ]
         },
         "style": "carto-positron",
         "zoom": 5
        },
        "margin": {
         "t": 60
        },
        "sliders": [
         {
          "active": 0,
          "currentvalue": {
           "prefix": "animation_frame="
          },
          "len": 0.9,
          "pad": {
           "b": 10,
           "t": 60
          },
          "steps": [
           {
            "args": [
             [
              "2016-08-28 09:10"
             ],
             {
              "frame": {
               "duration": 0,
               "redraw": true
              },
              "fromcurrent": true,
              "mode": "immediate",
              "transition": {
               "duration": 0,
               "easing": "linear"
              }
             }
            ],
            "label": "2016-08-28 09:10",
            "method": "animate"
           },
           {
            "args": [
             [
              "2016-08-28 09:20"
             ],
             {
              "frame": {
               "duration": 0,
               "redraw": true
              },
              "fromcurrent": true,
              "mode": "immediate",
              "transition": {
               "duration": 0,
               "easing": "linear"
              }
             }
            ],
            "label": "2016-08-28 09:20",
            "method": "animate"
           },
           {
            "args": [
             [
              "2016-08-28 09:40"
             ],
             {
              "frame": {
               "duration": 0,
               "redraw": true
              },
              "fromcurrent": true,
              "mode": "immediate",
              "transition": {
               "duration": 0,
               "easing": "linear"
              }
             }
            ],
            "label": "2016-08-28 09:40",
            "method": "animate"
           },
           {
            "args": [
             [
              "2016-08-28 09:50"
             ],
             {
              "frame": {
               "duration": 0,
               "redraw": true
              },
              "fromcurrent": true,
              "mode": "immediate",
              "transition": {
               "duration": 0,
               "easing": "linear"
              }
             }
            ],
            "label": "2016-08-28 09:50",
            "method": "animate"
           },
           {
            "args": [
             [
              "2016-08-28 10:10"
             ],
             {
              "frame": {
               "duration": 0,
               "redraw": true
              },
              "fromcurrent": true,
              "mode": "immediate",
              "transition": {
               "duration": 0,
               "easing": "linear"
              }
             }
            ],
            "label": "2016-08-28 10:10",
            "method": "animate"
           },
           {
            "args": [
             [
              "2016-08-28 10:20"
             ],
             {
              "frame": {
               "duration": 0,
               "redraw": true
              },
              "fromcurrent": true,
              "mode": "immediate",
              "transition": {
               "duration": 0,
               "easing": "linear"
              }
             }
            ],
            "label": "2016-08-28 10:20",
            "method": "animate"
           },
           {
            "args": [
             [
              "2016-08-28 10:30"
             ],
             {
              "frame": {
               "duration": 0,
               "redraw": true
              },
              "fromcurrent": true,
              "mode": "immediate",
              "transition": {
               "duration": 0,
               "easing": "linear"
              }
             }
            ],
            "label": "2016-08-28 10:30",
            "method": "animate"
           },
           {
            "args": [
             [
              "2016-08-28 10:40"
             ],
             {
              "frame": {
               "duration": 0,
               "redraw": true
              },
              "fromcurrent": true,
              "mode": "immediate",
              "transition": {
               "duration": 0,
               "easing": "linear"
              }
             }
            ],
            "label": "2016-08-28 10:40",
            "method": "animate"
           },
           {
            "args": [
             [
              "2016-08-28 10:50"
             ],
             {
              "frame": {
               "duration": 0,
               "redraw": true
              },
              "fromcurrent": true,
              "mode": "immediate",
              "transition": {
               "duration": 0,
               "easing": "linear"
              }
             }
            ],
            "label": "2016-08-28 10:50",
            "method": "animate"
           },
           {
            "args": [
             [
              "2016-08-28 11:00"
             ],
             {
              "frame": {
               "duration": 0,
               "redraw": true
              },
              "fromcurrent": true,
              "mode": "immediate",
              "transition": {
               "duration": 0,
               "easing": "linear"
              }
             }
            ],
            "label": "2016-08-28 11:00",
            "method": "animate"
           },
           {
            "args": [
             [
              "2016-08-28 11:10"
             ],
             {
              "frame": {
               "duration": 0,
               "redraw": true
              },
              "fromcurrent": true,
              "mode": "immediate",
              "transition": {
               "duration": 0,
               "easing": "linear"
              }
             }
            ],
            "label": "2016-08-28 11:10",
            "method": "animate"
           },
           {
            "args": [
             [
              "2016-08-28 11:30"
             ],
             {
              "frame": {
               "duration": 0,
               "redraw": true
              },
              "fromcurrent": true,
              "mode": "immediate",
              "transition": {
               "duration": 0,
               "easing": "linear"
              }
             }
            ],
            "label": "2016-08-28 11:30",
            "method": "animate"
           },
           {
            "args": [
             [
              "2016-08-28 11:50"
             ],
             {
              "frame": {
               "duration": 0,
               "redraw": true
              },
              "fromcurrent": true,
              "mode": "immediate",
              "transition": {
               "duration": 0,
               "easing": "linear"
              }
             }
            ],
            "label": "2016-08-28 11:50",
            "method": "animate"
           },
           {
            "args": [
             [
              "2016-08-28 12:00"
             ],
             {
              "frame": {
               "duration": 0,
               "redraw": true
              },
              "fromcurrent": true,
              "mode": "immediate",
              "transition": {
               "duration": 0,
               "easing": "linear"
              }
             }
            ],
            "label": "2016-08-28 12:00",
            "method": "animate"
           },
           {
            "args": [
             [
              "2016-08-28 12:20"
             ],
             {
              "frame": {
               "duration": 0,
               "redraw": true
              },
              "fromcurrent": true,
              "mode": "immediate",
              "transition": {
               "duration": 0,
               "easing": "linear"
              }
             }
            ],
            "label": "2016-08-28 12:20",
            "method": "animate"
           },
           {
            "args": [
             [
              "2016-08-28 12:40"
             ],
             {
              "frame": {
               "duration": 0,
               "redraw": true
              },
              "fromcurrent": true,
              "mode": "immediate",
              "transition": {
               "duration": 0,
               "easing": "linear"
              }
             }
            ],
            "label": "2016-08-28 12:40",
            "method": "animate"
           },
           {
            "args": [
             [
              "2016-08-28 12:50"
             ],
             {
              "frame": {
               "duration": 0,
               "redraw": true
              },
              "fromcurrent": true,
              "mode": "immediate",
              "transition": {
               "duration": 0,
               "easing": "linear"
              }
             }
            ],
            "label": "2016-08-28 12:50",
            "method": "animate"
           }
          ],
          "x": 0.1,
          "xanchor": "left",
          "y": 0,
          "yanchor": "top"
         }
        ],
        "template": {
         "data": {
          "bar": [
           {
            "error_x": {
             "color": "#2a3f5f"
            },
            "error_y": {
             "color": "#2a3f5f"
            },
            "marker": {
             "line": {
              "color": "#E5ECF6",
              "width": 0.5
             },
             "pattern": {
              "fillmode": "overlay",
              "size": 10,
              "solidity": 0.2
             }
            },
            "type": "bar"
           }
          ],
          "barpolar": [
           {
            "marker": {
             "line": {
              "color": "#E5ECF6",
              "width": 0.5
             },
             "pattern": {
              "fillmode": "overlay",
              "size": 10,
              "solidity": 0.2
             }
            },
            "type": "barpolar"
           }
          ],
          "carpet": [
           {
            "aaxis": {
             "endlinecolor": "#2a3f5f",
             "gridcolor": "white",
             "linecolor": "white",
             "minorgridcolor": "white",
             "startlinecolor": "#2a3f5f"
            },
            "baxis": {
             "endlinecolor": "#2a3f5f",
             "gridcolor": "white",
             "linecolor": "white",
             "minorgridcolor": "white",
             "startlinecolor": "#2a3f5f"
            },
            "type": "carpet"
           }
          ],
          "choropleth": [
           {
            "colorbar": {
             "outlinewidth": 0,
             "ticks": ""
            },
            "type": "choropleth"
           }
          ],
          "contour": [
           {
            "colorbar": {
             "outlinewidth": 0,
             "ticks": ""
            },
            "colorscale": [
             [
              0,
              "#0d0887"
             ],
             [
              0.1111111111111111,
              "#46039f"
             ],
             [
              0.2222222222222222,
              "#7201a8"
             ],
             [
              0.3333333333333333,
              "#9c179e"
             ],
             [
              0.4444444444444444,
              "#bd3786"
             ],
             [
              0.5555555555555556,
              "#d8576b"
             ],
             [
              0.6666666666666666,
              "#ed7953"
             ],
             [
              0.7777777777777778,
              "#fb9f3a"
             ],
             [
              0.8888888888888888,
              "#fdca26"
             ],
             [
              1,
              "#f0f921"
             ]
            ],
            "type": "contour"
           }
          ],
          "contourcarpet": [
           {
            "colorbar": {
             "outlinewidth": 0,
             "ticks": ""
            },
            "type": "contourcarpet"
           }
          ],
          "heatmap": [
           {
            "colorbar": {
             "outlinewidth": 0,
             "ticks": ""
            },
            "colorscale": [
             [
              0,
              "#0d0887"
             ],
             [
              0.1111111111111111,
              "#46039f"
             ],
             [
              0.2222222222222222,
              "#7201a8"
             ],
             [
              0.3333333333333333,
              "#9c179e"
             ],
             [
              0.4444444444444444,
              "#bd3786"
             ],
             [
              0.5555555555555556,
              "#d8576b"
             ],
             [
              0.6666666666666666,
              "#ed7953"
             ],
             [
              0.7777777777777778,
              "#fb9f3a"
             ],
             [
              0.8888888888888888,
              "#fdca26"
             ],
             [
              1,
              "#f0f921"
             ]
            ],
            "type": "heatmap"
           }
          ],
          "heatmapgl": [
           {
            "colorbar": {
             "outlinewidth": 0,
             "ticks": ""
            },
            "colorscale": [
             [
              0,
              "#0d0887"
             ],
             [
              0.1111111111111111,
              "#46039f"
             ],
             [
              0.2222222222222222,
              "#7201a8"
             ],
             [
              0.3333333333333333,
              "#9c179e"
             ],
             [
              0.4444444444444444,
              "#bd3786"
             ],
             [
              0.5555555555555556,
              "#d8576b"
             ],
             [
              0.6666666666666666,
              "#ed7953"
             ],
             [
              0.7777777777777778,
              "#fb9f3a"
             ],
             [
              0.8888888888888888,
              "#fdca26"
             ],
             [
              1,
              "#f0f921"
             ]
            ],
            "type": "heatmapgl"
           }
          ],
          "histogram": [
           {
            "marker": {
             "pattern": {
              "fillmode": "overlay",
              "size": 10,
              "solidity": 0.2
             }
            },
            "type": "histogram"
           }
          ],
          "histogram2d": [
           {
            "colorbar": {
             "outlinewidth": 0,
             "ticks": ""
            },
            "colorscale": [
             [
              0,
              "#0d0887"
             ],
             [
              0.1111111111111111,
              "#46039f"
             ],
             [
              0.2222222222222222,
              "#7201a8"
             ],
             [
              0.3333333333333333,
              "#9c179e"
             ],
             [
              0.4444444444444444,
              "#bd3786"
             ],
             [
              0.5555555555555556,
              "#d8576b"
             ],
             [
              0.6666666666666666,
              "#ed7953"
             ],
             [
              0.7777777777777778,
              "#fb9f3a"
             ],
             [
              0.8888888888888888,
              "#fdca26"
             ],
             [
              1,
              "#f0f921"
             ]
            ],
            "type": "histogram2d"
           }
          ],
          "histogram2dcontour": [
           {
            "colorbar": {
             "outlinewidth": 0,
             "ticks": ""
            },
            "colorscale": [
             [
              0,
              "#0d0887"
             ],
             [
              0.1111111111111111,
              "#46039f"
             ],
             [
              0.2222222222222222,
              "#7201a8"
             ],
             [
              0.3333333333333333,
              "#9c179e"
             ],
             [
              0.4444444444444444,
              "#bd3786"
             ],
             [
              0.5555555555555556,
              "#d8576b"
             ],
             [
              0.6666666666666666,
              "#ed7953"
             ],
             [
              0.7777777777777778,
              "#fb9f3a"
             ],
             [
              0.8888888888888888,
              "#fdca26"
             ],
             [
              1,
              "#f0f921"
             ]
            ],
            "type": "histogram2dcontour"
           }
          ],
          "mesh3d": [
           {
            "colorbar": {
             "outlinewidth": 0,
             "ticks": ""
            },
            "type": "mesh3d"
           }
          ],
          "parcoords": [
           {
            "line": {
             "colorbar": {
              "outlinewidth": 0,
              "ticks": ""
             }
            },
            "type": "parcoords"
           }
          ],
          "pie": [
           {
            "automargin": true,
            "type": "pie"
           }
          ],
          "scatter": [
           {
            "fillpattern": {
             "fillmode": "overlay",
             "size": 10,
             "solidity": 0.2
            },
            "type": "scatter"
           }
          ],
          "scatter3d": [
           {
            "line": {
             "colorbar": {
              "outlinewidth": 0,
              "ticks": ""
             }
            },
            "marker": {
             "colorbar": {
              "outlinewidth": 0,
              "ticks": ""
             }
            },
            "type": "scatter3d"
           }
          ],
          "scattercarpet": [
           {
            "marker": {
             "colorbar": {
              "outlinewidth": 0,
              "ticks": ""
             }
            },
            "type": "scattercarpet"
           }
          ],
          "scattergeo": [
           {
            "marker": {
             "colorbar": {
              "outlinewidth": 0,
              "ticks": ""
             }
            },
            "type": "scattergeo"
           }
          ],
          "scattergl": [
           {
            "marker": {
             "colorbar": {
              "outlinewidth": 0,
              "ticks": ""
             }
            },
            "type": "scattergl"
           }
          ],
          "scattermapbox": [
           {
            "marker": {
             "colorbar": {
              "outlinewidth": 0,
              "ticks": ""
             }
            },
            "type": "scattermapbox"
           }
          ],
          "scatterpolar": [
           {
            "marker": {
             "colorbar": {
              "outlinewidth": 0,
              "ticks": ""
             }
            },
            "type": "scatterpolar"
           }
          ],
          "scatterpolargl": [
           {
            "marker": {
             "colorbar": {
              "outlinewidth": 0,
              "ticks": ""
             }
            },
            "type": "scatterpolargl"
           }
          ],
          "scatterternary": [
           {
            "marker": {
             "colorbar": {
              "outlinewidth": 0,
              "ticks": ""
             }
            },
            "type": "scatterternary"
           }
          ],
          "surface": [
           {
            "colorbar": {
             "outlinewidth": 0,
             "ticks": ""
            },
            "colorscale": [
             [
              0,
              "#0d0887"
             ],
             [
              0.1111111111111111,
              "#46039f"
             ],
             [
              0.2222222222222222,
              "#7201a8"
             ],
             [
              0.3333333333333333,
              "#9c179e"
             ],
             [
              0.4444444444444444,
              "#bd3786"
             ],
             [
              0.5555555555555556,
              "#d8576b"
             ],
             [
              0.6666666666666666,
              "#ed7953"
             ],
             [
              0.7777777777777778,
              "#fb9f3a"
             ],
             [
              0.8888888888888888,
              "#fdca26"
             ],
             [
              1,
              "#f0f921"
             ]
            ],
            "type": "surface"
           }
          ],
          "table": [
           {
            "cells": {
             "fill": {
              "color": "#EBF0F8"
             },
             "line": {
              "color": "white"
             }
            },
            "header": {
             "fill": {
              "color": "#C8D4E3"
             },
             "line": {
              "color": "white"
             }
            },
            "type": "table"
           }
          ]
         },
         "layout": {
          "annotationdefaults": {
           "arrowcolor": "#2a3f5f",
           "arrowhead": 0,
           "arrowwidth": 1
          },
          "autotypenumbers": "strict",
          "coloraxis": {
           "colorbar": {
            "outlinewidth": 0,
            "ticks": ""
           }
          },
          "colorscale": {
           "diverging": [
            [
             0,
             "#8e0152"
            ],
            [
             0.1,
             "#c51b7d"
            ],
            [
             0.2,
             "#de77ae"
            ],
            [
             0.3,
             "#f1b6da"
            ],
            [
             0.4,
             "#fde0ef"
            ],
            [
             0.5,
             "#f7f7f7"
            ],
            [
             0.6,
             "#e6f5d0"
            ],
            [
             0.7,
             "#b8e186"
            ],
            [
             0.8,
             "#7fbc41"
            ],
            [
             0.9,
             "#4d9221"
            ],
            [
             1,
             "#276419"
            ]
           ],
           "sequential": [
            [
             0,
             "#0d0887"
            ],
            [
             0.1111111111111111,
             "#46039f"
            ],
            [
             0.2222222222222222,
             "#7201a8"
            ],
            [
             0.3333333333333333,
             "#9c179e"
            ],
            [
             0.4444444444444444,
             "#bd3786"
            ],
            [
             0.5555555555555556,
             "#d8576b"
            ],
            [
             0.6666666666666666,
             "#ed7953"
            ],
            [
             0.7777777777777778,
             "#fb9f3a"
            ],
            [
             0.8888888888888888,
             "#fdca26"
            ],
            [
             1,
             "#f0f921"
            ]
           ],
           "sequentialminus": [
            [
             0,
             "#0d0887"
            ],
            [
             0.1111111111111111,
             "#46039f"
            ],
            [
             0.2222222222222222,
             "#7201a8"
            ],
            [
             0.3333333333333333,
             "#9c179e"
            ],
            [
             0.4444444444444444,
             "#bd3786"
            ],
            [
             0.5555555555555556,
             "#d8576b"
            ],
            [
             0.6666666666666666,
             "#ed7953"
            ],
            [
             0.7777777777777778,
             "#fb9f3a"
            ],
            [
             0.8888888888888888,
             "#fdca26"
            ],
            [
             1,
             "#f0f921"
            ]
           ]
          },
          "colorway": [
           "#636efa",
           "#EF553B",
           "#00cc96",
           "#ab63fa",
           "#FFA15A",
           "#19d3f3",
           "#FF6692",
           "#B6E880",
           "#FF97FF",
           "#FECB52"
          ],
          "font": {
           "color": "#2a3f5f"
          },
          "geo": {
           "bgcolor": "white",
           "lakecolor": "white",
           "landcolor": "#E5ECF6",
           "showlakes": true,
           "showland": true,
           "subunitcolor": "white"
          },
          "hoverlabel": {
           "align": "left"
          },
          "hovermode": "closest",
          "mapbox": {
           "style": "light"
          },
          "paper_bgcolor": "white",
          "plot_bgcolor": "#E5ECF6",
          "polar": {
           "angularaxis": {
            "gridcolor": "white",
            "linecolor": "white",
            "ticks": ""
           },
           "bgcolor": "#E5ECF6",
           "radialaxis": {
            "gridcolor": "white",
            "linecolor": "white",
            "ticks": ""
           }
          },
          "scene": {
           "xaxis": {
            "backgroundcolor": "#E5ECF6",
            "gridcolor": "white",
            "gridwidth": 2,
            "linecolor": "white",
            "showbackground": true,
            "ticks": "",
            "zerolinecolor": "white"
           },
           "yaxis": {
            "backgroundcolor": "#E5ECF6",
            "gridcolor": "white",
            "gridwidth": 2,
            "linecolor": "white",
            "showbackground": true,
            "ticks": "",
            "zerolinecolor": "white"
           },
           "zaxis": {
            "backgroundcolor": "#E5ECF6",
            "gridcolor": "white",
            "gridwidth": 2,
            "linecolor": "white",
            "showbackground": true,
            "ticks": "",
            "zerolinecolor": "white"
           }
          },
          "shapedefaults": {
           "line": {
            "color": "#2a3f5f"
           }
          },
          "ternary": {
           "aaxis": {
            "gridcolor": "white",
            "linecolor": "white",
            "ticks": ""
           },
           "baxis": {
            "gridcolor": "white",
            "linecolor": "white",
            "ticks": ""
           },
           "bgcolor": "#E5ECF6",
           "caxis": {
            "gridcolor": "white",
            "linecolor": "white",
            "ticks": ""
           }
          },
          "title": {
           "x": 0.05
          },
          "xaxis": {
           "automargin": true,
           "gridcolor": "white",
           "linecolor": "white",
           "ticks": "",
           "title": {
            "standoff": 15
           },
           "zerolinecolor": "white",
           "zerolinewidth": 2
          },
          "yaxis": {
           "automargin": true,
           "gridcolor": "white",
           "linecolor": "white",
           "ticks": "",
           "title": {
            "standoff": 15
           },
           "zerolinecolor": "white",
           "zerolinewidth": 2
          }
         }
        },
        "updatemenus": [
         {
          "buttons": [
           {
            "args": [
             null,
             {
              "frame": {
               "duration": 500,
               "redraw": true
              },
              "fromcurrent": true,
              "mode": "immediate",
              "transition": {
               "duration": 500,
               "easing": "linear"
              }
             }
            ],
            "label": "&#9654;",
            "method": "animate"
           },
           {
            "args": [
             [
              null
             ],
             {
              "frame": {
               "duration": 0,
               "redraw": true
              },
              "fromcurrent": true,
              "mode": "immediate",
              "transition": {
               "duration": 0,
               "easing": "linear"
              }
             }
            ],
            "label": "&#9724;",
            "method": "animate"
           }
          ],
          "direction": "left",
          "pad": {
           "r": 10,
           "t": 70
          },
          "showactive": false,
          "type": "buttons",
          "x": 0.1,
          "xanchor": "right",
          "y": 0,
          "yanchor": "top"
         }
        ]
       }
      }
     },
     "metadata": {},
     "output_type": "display_data"
    }
   ],
   "source": [
    "ais = df\n",
    "\n",
    "offdist = (44.2284, -124.57144)\n",
    "slfdist = (44.38132, -124.18216)\n",
    "ais['offdist'] = [geodesic((a, b), offdist).miles for a, b in ais[['LAT', 'LON']].values]\n",
    "ais['slfdist'] = [geodesic((a, b), slfdist).miles for a, b in ais[['LAT', 'LON']].values]\n",
    "\n",
    "ais['TIMESTAMP UTC'] = pd.to_datetime(ais['TIMESTAMP UTC']).dt.strftime('%Y-%m-%d %H:%M:%S')\n",
    "ais['TIMESTAMP UTC'] = pd.to_datetime(ais['TIMESTAMP UTC'])\n",
    "\n",
    "animate_map('2016-08-28 09:03:45', '2016-08-28 13:02:04')"
   ]
  },
  {
   "cell_type": "code",
   "execution_count": 57,
   "metadata": {},
   "outputs": [
    {
     "name": "stdout",
     "output_type": "stream",
     "text": [
      "Downloading Low Frequency Data:\n",
      "Downloading mseed file...\n",
      "   Specific Time window timed out.\n"
     ]
    },
    {
     "ename": "AttributeError",
     "evalue": "'NoneType' object has no attribute 'stats'",
     "output_type": "error",
     "traceback": [
      "\u001b[1;31m---------------------------------------------------------------------------\u001b[0m",
      "\u001b[1;31mAttributeError\u001b[0m                            Traceback (most recent call last)",
      "\u001b[1;32mc:\\Users\\UserALai\\Documents\\Work\\Ocean Data\\OcDa-Files\\Untitled-1.ipynb Cell 15'\u001b[0m in \u001b[0;36m<cell line: 9>\u001b[1;34m()\u001b[0m\n\u001b[0;32m      <a href='vscode-notebook-cell:/c%3A/Users/UserALai/Documents/Work/Ocean%20Data/OcDa-Files/Untitled-1.ipynb#ch0000019?line=6'>7</a>\u001b[0m \u001b[39mprint\u001b[39m(\u001b[39m'\u001b[39m\u001b[39mDownloading Low Frequency Data:\u001b[39m\u001b[39m'\u001b[39m)\n\u001b[0;32m      <a href='vscode-notebook-cell:/c%3A/Users/UserALai/Documents/Work/Ocean%20Data/OcDa-Files/Untitled-1.ipynb#ch0000019?line=7'>8</a>\u001b[0m hdata_lowfreq \u001b[39m=\u001b[39m ooipy\u001b[39m.\u001b[39mget_acoustic_data_LF(start_time, end_time, node2, verbose\u001b[39m=\u001b[39m\u001b[39mTrue\u001b[39;00m, zero_mean\u001b[39m=\u001b[39m\u001b[39mTrue\u001b[39;00m)\n\u001b[1;32m----> <a href='vscode-notebook-cell:/c%3A/Users/UserALai/Documents/Work/Ocean%20Data/OcDa-Files/Untitled-1.ipynb#ch0000019?line=8'>9</a>\u001b[0m \u001b[39mprint\u001b[39m(hdata_lowfreq\u001b[39m.\u001b[39;49mstats)\n",
      "\u001b[1;31mAttributeError\u001b[0m: 'NoneType' object has no attribute 'stats'"
     ]
    }
   ],
   "source": [
    "import datetime\n",
    "start_time = datetime.datetime(2017,7,1,0,0,0)\n",
    "end_time = datetime.datetime(2017,7,1,0,1,0)\n",
    "node1 = 'LJ01D'\n",
    "node2 = 'Eastern_Caldera'\n",
    "\n",
    "print('Downloading Low Frequency Data:')\n",
    "hdata_lowfreq = ooipy.get_acoustic_data_LF(start_time, end_time, node2, verbose=True, zero_mean=True)\n",
    "print(hdata_lowfreq.stats)"
   ]
  }
 ],
 "metadata": {
  "kernelspec": {
   "display_name": "Python 3.9.12 ('base')",
   "language": "python",
   "name": "python3"
  },
  "language_info": {
   "codemirror_mode": {
    "name": "ipython",
    "version": 3
   },
   "file_extension": ".py",
   "mimetype": "text/x-python",
   "name": "python",
   "nbconvert_exporter": "python",
   "pygments_lexer": "ipython3",
   "version": "3.9.12"
  },
  "orig_nbformat": 4,
  "vscode": {
   "interpreter": {
    "hash": "a881572e0f47ad42fbe19c9bef42a69b454c13522f4345672cdd837ecfaff96a"
   }
  }
 },
 "nbformat": 4,
 "nbformat_minor": 2
}
