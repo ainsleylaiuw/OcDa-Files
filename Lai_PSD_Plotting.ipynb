{
 "cells": [
  {
   "cell_type": "markdown",
   "metadata": {},
   "source": [
    "# PSD Plotting of Axial Base Ship Noise Data\n",
    "Ainsley Lai\n",
    "\n",
    "This notebook aims to familiarize myself with the work done at the Ocean Data Lab at the University of Washington.\n",
    "\n",
    "I will mainly deal with the data here [https://uwnetid-my.sharepoint.com/personal/abadi_uw_edu/_layouts/15/onedrive.aspx?ga=1&id=%2Fpersonal%2Fabadi%5Fuw%5Fedu%2FDocuments%2FOcean%20Data%20Lab%20SharePoint%2FOOI%2FShip%20Noise%20Data%20Set%2FData%20with%20avg%5Ftime%3D10%2FBenchmark%5FData%2FShips%2FAxial%5FBase]\n",
    "\n",
    "Khirod has done most of the heavy lifting, including already making PSD plots. I'll aim to recreate them using the CSV data he organized.\n",
    "\n",
    "The initial plan seems to be to iterate through each row and use the start/end times to query AIS via OOIPY and plot the data. It is advisable to also reference Khirod's existing code to get a handle on what else needs to happen.\n"
   ]
  },
  {
   "cell_type": "code",
   "execution_count": 1,
   "metadata": {},
   "outputs": [],
   "source": [
    "import ooipy\n",
    "import pandas as pd\n",
    "import matplotlib.pyplot as plt\n",
    "from datetime import datetime\n",
    "import numpy as np\n",
    "import functions as fn\n",
    "from ooipy.tools import ooiplotlib as ooiplt"
   ]
  },
  {
   "cell_type": "code",
   "execution_count": 2,
   "metadata": {},
   "outputs": [
    {
     "data": {
      "text/plain": [
       "0       2016-11-25 22:49:56\n",
       "1       2016-04-01 18:58:25\n",
       "2       2016-04-01 19:08:25\n",
       "3       2020-09-24 19:41:45\n",
       "4       2018-01-20 21:28:28\n",
       "               ...         \n",
       "3070    2016-07-18 07:29:31\n",
       "3071    2016-07-18 07:39:31\n",
       "3072    2020-02-08 02:24:44\n",
       "3073    2016-10-06 18:00:06\n",
       "3074    2016-08-26 10:23:37\n",
       "Name: start_time, Length: 3075, dtype: object"
      ]
     },
     "execution_count": 2,
     "metadata": {},
     "output_type": "execute_result"
    }
   ],
   "source": [
    "df = pd.read_csv('AB_isolated_ais_10m_5_20.csv',sep = ',')\n",
    "#(df['start_time'].iloc[1])\n",
    "#(df['start_time'])"
   ]
  },
  {
   "cell_type": "code",
   "execution_count": null,
   "metadata": {},
   "outputs": [],
   "source": [
    "node = 'Axial_Base'\n",
    "\n",
    "# this stuff can go in a for-loop that iterates thru the rows\n",
    "num = 1\n",
    "inst_id = df['instance_id'].iloc[num]\n",
    "start_time = datetime.strptime(df['start_time'].iloc[num],'%Y-%m-%d %H:%M:%S')\n",
    "end_time = datetime.strptime(df['end_time'].iloc[num],'%Y-%m-%d %H:%M:%S')\n",
    "print('PULLING DATA')\n",
    "hdata = ooipy.get_acoustic_data_LF(start_time, end_time, node, verbose=True, zero_mean=True)\n",
    "print('DATA PULLED')\n",
    "\n",
    "fn.plot_psd(hdata.compute_psd_welch(L=256, overlap=0.3), vmax=110, fmax=10**2)\n",
    "# aux code that I used to plot one instance\n",
    "inst_id\n",
    "ooipy.plot(hdata.compute_spectrogram(avg_time=10, overlap=0.5, L=256), fmax=100, vmax=110)\n",
    "ooiplt.plot_spectrogram(hdata.compute_spectrogram(avg_time=10, overlap=0.5, L=256), vmax=110, fmax=100)"
   ]
  },
  {
   "cell_type": "markdown",
   "metadata": {},
   "source": [
    "## Iterate through Axial Base metadata CSV"
   ]
  },
  {
   "cell_type": "code",
   "execution_count": null,
   "metadata": {},
   "outputs": [],
   "source": [
    "node = 'Axial_Base'\n",
    "gen_path = 'C:/Users/UserALai/Documents/Work/Ocean Data'\n",
    "spec_filepath = gen_path + '/plots/spectograms/'\n",
    "psd_filepath = gen_path + '/plots/PSDs/'\n",
    "\n",
    "\n",
    "for i in range(len(df.index)-10, len(df.index)): # iterate thru last 10 for ease\n",
    "    inst_id = df['instance_id'].iloc[i]\n",
    "    start_time = datetime.strptime(df['start_time'].iloc[i],'%Y-%m-%d %H:%M:%S')\n",
    "    end_time = datetime.strptime(df['end_time'].iloc[i],'%Y-%m-%d %H:%M:%S')\n",
    "    hdata = ooipy.get_acoustic_data_LF(start_time, end_time, node, verbose=True, zero_mean=True)\n",
    "\n",
    "    spec = hdata.compute_spectrogram(avg_time=10, overlap=0.5, L=256)\n",
    "    psd = hdata.compute_psd_welch(L=256, overlap=0.3)\n",
    "\n",
    "    #ooiplt.plot_spectrogram(spec, plot=False, save=True, vmax=110, fmax=100, filename=spec_filepath + inst_id + '.png')\n",
    "    ooipy.plot(spec, plot=False, save=True, vmax=110, fmax=100, filename=spec_filepath + inst_id + '.png')\n",
    "    #fn.plot_psd(psd,plot=False,save=True,fmax=100,vmax=110,filename=psd_filepath + inst_id + '.png')\n",
    "    # Don't need to use Khirod's plotting function, OOIPY default works fine\n",
    "    ooipy.plot(psd,plot=False,save=True,fmax=100,vmax=110,filename=psd_filepath + inst_id + '.png')"
   ]
  }
 ],
 "metadata": {
  "kernelspec": {
   "display_name": "Python 3.9.12 ('base')",
   "language": "python",
   "name": "python3"
  },
  "language_info": {
   "codemirror_mode": {
    "name": "ipython",
    "version": 3
   },
   "file_extension": ".py",
   "mimetype": "text/x-python",
   "name": "python",
   "nbconvert_exporter": "python",
   "pygments_lexer": "ipython3",
   "version": "3.9.12"
  },
  "orig_nbformat": 4,
  "vscode": {
   "interpreter": {
    "hash": "a881572e0f47ad42fbe19c9bef42a69b454c13522f4345672cdd837ecfaff96a"
   }
  }
 },
 "nbformat": 4,
 "nbformat_minor": 2
}
