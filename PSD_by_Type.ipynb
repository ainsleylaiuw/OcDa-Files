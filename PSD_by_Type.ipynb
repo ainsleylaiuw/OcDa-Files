{
 "cells": [
  {
   "cell_type": "markdown",
   "metadata": {},
   "source": [
    "# PSD for Each Ship Type for Multiple Locations\n",
    "\n",
    "Uses pickle (json) files to get PSD data and aggregates it in SPDF plot by ship type for 3 locations.\n",
    "\n",
    "Check following list for creation of SPDF with probabilities: https://github.com/Ocean-Data-Lab/Website-backend/blob/master/SpecGraph/SPDF.py"
   ]
  },
  {
   "cell_type": "code",
   "execution_count": 19,
   "metadata": {},
   "outputs": [],
   "source": [
    "# data\n",
    "import ooipy\n",
    "from ooipy.tools import ooiplotlib as ooiplt\n",
    "import pandas as pd\n",
    "import numpy as np\n",
    "#import functions as fn\n",
    "# plotting\n",
    "import matplotlib\n",
    "matplotlib.use('TkAgg')\n",
    "import matplotlib.pyplot as plt\n",
    "from matplotlib.lines import Line2D\n",
    "import matplotlib.colors as colors\n",
    "from matplotlib.colors import Normalize\n",
    "from matplotlib.backends.backend_agg import FigureCanvasAgg\n",
    "# IO\n",
    "from io import BytesIO\n",
    "import io\n",
    "import json\n",
    "from scipy.io import wavfile\n",
    "import re\n",
    "\n",
    "from scipy.signal import welch"
   ]
  },
  {
   "cell_type": "markdown",
   "metadata": {},
   "source": [
    "## PSD and SPDF Plotting functions"
   ]
  },
  {
   "cell_type": "code",
   "execution_count": 3,
   "metadata": {},
   "outputs": [],
   "source": [
    "def get_PSD_dict(meta_data_CSV_path, location):\n",
    "    \"\"\"\n",
    "    Generate a dictionary that holds PSD data\n",
    "    Ex. psd_dict[ship_type][freq_values] # not actual key names\n",
    "    This data gets passed into the spdf generation and plotting functions\n",
    "    \n",
    "    Parameters\n",
    "    ----------\n",
    "    meta_data_CSV_path : str\n",
    "        A file path that points to the .csv that contains the metadata. \n",
    "        Mainly used to group based on ship type (ud_group). Also matches instance_id\n",
    "        to corresponding ship type.\n",
    "\n",
    "    location : str\n",
    "        String containing location of the hydrophone (i.e. Axial_Base).\n",
    "        Used for file pathing\n",
    "\n",
    "    Returns\n",
    "    -------\n",
    "    dict: a nested dictionary for ship type and their respective PSD data\n",
    "    \"\"\"\n",
    "\n",
    "    df = pd.read_csv(meta_data_CSV_path, sep=',')\n",
    "\n",
    "    # EC is the only one with missing ship type and only 4 of them, just ignore those\n",
    "    # .dropna() followed by .groupby() cleans and groups\n",
    "    grouped_df = df.dropna(subset=['ud_group']).groupby('ud_group')\n",
    "\n",
    "    # https://stackoverflow.com/questions/27405483/how-to-loop-over-grouped-pandas-dataframe\n",
    "    PSDs = {}\n",
    "    for group_name, df_group in grouped_df:\n",
    "        PSD_obj_list = []\n",
    "        PSD_freq = []\n",
    "        PSD_val = []\n",
    "        dictPSD = {'objects': PSD_obj_list, 'frequencies': PSD_freq, 'values': PSD_val}\n",
    "\n",
    "        # for-loop to compile list of PSD data objects pulled from column\n",
    "        for row_index, row in df_group.iterrows():\n",
    "            inst_id = df['instance_id'].iloc[row_index]\n",
    "            # get pickle files (DL locally? Call some API?)\n",
    "            # local storage method\n",
    "            data_path = 'data/' + location + '/'\n",
    "            pklfilepath = data_path + 'PSD_pickles/' + inst_id + '.json'\n",
    "            # try-except deals with missing pickles\n",
    "            try:\n",
    "                with open(pklfilepath, 'rb') as f:\n",
    "                    dict1 = json.load(f)\n",
    "\n",
    "                # create PSD object and fill out PSD object fields\n",
    "                psd = ooipy.Psd(dict1['f'], dict1['psd'])\n",
    "                dictPSD['objects'].append(psd)\n",
    "                dictPSD['frequencies'].append(psd.freq)\n",
    "                dictPSD['values'].append(psd.values)\n",
    "            except FileNotFoundError:\n",
    "                pass\n",
    "        PSDs.update({group_name: dictPSD})\n",
    "    return PSDs"
   ]
  },
  {
   "cell_type": "code",
   "execution_count": 4,
   "metadata": {},
   "outputs": [],
   "source": [
    "# function pulled from https://github.com/Ocean-Data-Lab/Website-backend     \n",
    "def get_spdf(spec, fs_hz=200, fmax=None, spl_bins=np.linspace(0, 120, 481),\n",
    "             percentiles=[1, 5, 10, 50, 90, 95, 99]):\n",
    "    if fmax is None:\n",
    "        fmax = 100 #spec.frequency[-1]\n",
    "\n",
    "    n_freq_bin = int(len(spec['frequencies'][0]) * fmax/(fs_hz/2)) + 1\n",
    "\n",
    "    spdf_dct = {'freq': np.array(np.linspace(0, fmax, n_freq_bin)),\n",
    "                'spl': spl_bins[:-1],\n",
    "                'pdf': np.empty((n_freq_bin, 480))\n",
    "                #'number_psd': len(spec.time) this isn't used\n",
    "                }\n",
    "\n",
    "    for p in percentiles:\n",
    "        spdf_dct[str(p)] = np.empty(n_freq_bin)\n",
    "\n",
    "    for idx, freq_bin in enumerate(np.asarray(spec['values']).T[:n_freq_bin - 1]):\n",
    "        hist, _ = np.histogram(freq_bin, bins=spl_bins, density=True)\n",
    "        spdf_dct['pdf'][idx] = hist\n",
    "        spdf_dct['50'][idx] = np.median(freq_bin)\n",
    "        for p in percentiles:\n",
    "            spdf_dct[str(p)][idx] = np.nanquantile(freq_bin, p/100)\n",
    "\n",
    "    return spdf_dct\n",
    "\n",
    "def plot_spdf(spdf, vmin=0.003, vmax=0.2, vdelta=0.0025, save=False, filename=None, log=True, title='Spectral PDF', shipType=None, location=None):\n",
    "    cbarticks = np.arange(vmin, vmax+vdelta, vdelta)\n",
    "    fig, ax = plt.subplots(figsize=(9, 5))\n",
    "    im = ax.contourf(spdf['freq'], spdf['spl'], np.transpose(spdf['pdf']),\n",
    "                     cbarticks, norm=colors.Normalize(vmin=vmin, vmax=vmax),\n",
    "                     cmap='jet', extend='max', alpha=0.50, linewidth=0)\n",
    "\n",
    "    # plot some percentiles:\n",
    "    plt.plot(spdf['freq'], spdf['1'], color='black')\n",
    "    plt.plot(spdf['freq'], spdf['5'], color='black')\n",
    "    plt.plot(spdf['freq'], spdf['10'], color='black')\n",
    "    plt.plot(spdf['freq'], spdf['50'], color='black')\n",
    "    plt.plot(spdf['freq'], spdf['90'], color='black')\n",
    "    plt.plot(spdf['freq'], spdf['95'], color='black')\n",
    "    plt.plot(spdf['freq'], spdf['99'], color='black')\n",
    "\n",
    "    plt.ylabel(r'spectral level (dB rel $1 \\mathrm{\\frac{μ Pa^2}{Hz}}$)')\n",
    "    plt.xlabel('frequency (Hz)')\n",
    "    plt.ylim([36, 100])\n",
    "    plt.xlim([0, 90])\n",
    "    if log:\n",
    "        plt.xscale('log')\n",
    "\n",
    "    plt.colorbar(im, ax=ax, ticks=[vmin, vmin + (vmax-vmin)/4, vmin + (vmax-vmin)/2,\n",
    "                 vmin + 3*(vmax-vmin)/4,  vmax],  pad=0.03, label='probability', format='%.3f')\n",
    "    plt.tick_params(axis='y')\n",
    "    plt.grid(True)\n",
    "    plt.title(title)\n",
    "    handles, labels = plt.gca().get_legend_handles_labels()\n",
    "    line = Line2D(\n",
    "        [0], [0], label='percentiles: 1, 5, 10, 50, 90, 95, 99', color='k')\n",
    "    handles.extend([line])\n",
    "    plt.legend(handles=handles, loc='upper right')\n",
    "    plt.tight_layout()\n",
    "    plt.xlim((200/512, 100))\n",
    "    filepath = 'data/'+location+'/'\n",
    "    plt.savefig(filepath+shipType+'.jpg', format='jpg')\n",
    "    plt.close() # suppress plotting"
   ]
  },
  {
   "cell_type": "markdown",
   "metadata": {},
   "source": [
    "### Generate plots for 3 locations"
   ]
  },
  {
   "cell_type": "code",
   "execution_count": 6,
   "metadata": {},
   "outputs": [
    {
     "name": "stdout",
     "output_type": "stream",
     "text": [
      "Cargo\n",
      "Fishing type\n",
      "Passenger\n",
      "Recreational\n",
      "Research\n",
      "Tanker\n"
     ]
    }
   ],
   "source": [
    "AB_PSDs = get_PSD_dict('data/Axial_Base/AB_isolated_ais_10m_5_20.csv', location='Axial_Base')\n",
    "for key in AB_PSDs:\n",
    "    print((key))\n",
    "    spdf = get_spdf(AB_PSDs[key])\n",
    "    plot_spdf(spdf, log=False, title=key + ' Spectral PDF', shipType=key, location='Axial_Base')\n",
    "    "
   ]
  },
  {
   "cell_type": "code",
   "execution_count": 7,
   "metadata": {},
   "outputs": [
    {
     "name": "stdout",
     "output_type": "stream",
     "text": [
      "Cargo\n",
      "Fishing type\n",
      "Offshore\n",
      "Other purpose\n",
      "Research\n",
      "Tanker\n"
     ]
    }
   ],
   "source": [
    "CC_PSDs = get_PSD_dict('data/Central_Caldera/CC_isolated_ais_10m_5_20.csv', location='Central_Caldera')\n",
    "for key in CC_PSDs:\n",
    "    print(key)\n",
    "    spdf = get_spdf(CC_PSDs[key])\n",
    "    plot_spdf(spdf, log=False, title=key + ' Spectral PDF', shipType=key, location='Central_Caldera')"
   ]
  },
  {
   "cell_type": "code",
   "execution_count": 20,
   "metadata": {},
   "outputs": [
    {
     "name": "stdout",
     "output_type": "stream",
     "text": [
      "Cargo\n",
      "Fishing type\n",
      "Offshore\n",
      "Other purpose\n",
      "Research\n",
      "Tanker\n"
     ]
    }
   ],
   "source": [
    "EC_PSDs = get_PSD_dict('data/Eastern_Caldera/EC_isolated_ais_5_20.csv', location='Eastern_Caldera')\n",
    "for key in EC_PSDs:\n",
    "    print(key)\n",
    "    spdf = get_spdf(EC_PSDs[key])\n",
    "    plot_spdf(spdf, log=False, title=key + ' Spectral PDF', shipType=key, location='Eastern_Caldera')"
   ]
  },
  {
   "cell_type": "code",
   "execution_count": 9,
   "metadata": {},
   "outputs": [
    {
     "name": "stdout",
     "output_type": "stream",
     "text": [
      "Cargo\n"
     ]
    },
    {
     "name": "stderr",
     "output_type": "stream",
     "text": [
      "C:\\Users\\UserALai\\AppData\\Local\\Temp\\ipykernel_13316\\3414438163.py:30: UserWarning: The following kwargs were not used by contour: 'linewidth'\n",
      "  im = ax.contourf(spdf['freq'], spdf['spl'], np.transpose(spdf['pdf']),\n"
     ]
    },
    {
     "name": "stdout",
     "output_type": "stream",
     "text": [
      "Fishing type\n",
      "Other purpose\n",
      "Passenger\n",
      "Recreational\n",
      "Tanker\n",
      "drop\n"
     ]
    }
   ],
   "source": [
    "OS_PSDs = get_PSD_dict('data/Oregon_Slope/OS_isolated_ais_5_20.csv', location='Oregon_Slope')\n",
    "for key in OS_PSDs:\n",
    "    print(key)\n",
    "    spdf = get_spdf(OS_PSDs[key])\n",
    "    plot_spdf(spdf, log=False, title=key + ' Spectral PDF', shipType=key, location='Oregon_Slope')"
   ]
  },
  {
   "cell_type": "code",
   "execution_count": 12,
   "metadata": {},
   "outputs": [
    {
     "name": "stdout",
     "output_type": "stream",
     "text": [
      "Cargo\n"
     ]
    },
    {
     "name": "stderr",
     "output_type": "stream",
     "text": [
      "C:\\Users\\UserALai\\AppData\\Local\\Temp\\ipykernel_13316\\3414438163.py:30: UserWarning: The following kwargs were not used by contour: 'linewidth'\n",
      "  im = ax.contourf(spdf['freq'], spdf['spl'], np.transpose(spdf['pdf']),\n"
     ]
    },
    {
     "name": "stdout",
     "output_type": "stream",
     "text": [
      "Fishing type\n",
      "Other purpose\n",
      "Passenger\n",
      "Recreational\n",
      "Tanker\n",
      "drop\n"
     ]
    }
   ],
   "source": [
    "SH_PSDs = get_PSD_dict('data/Southern_Hydrate/SH_isolated_ais_5_20.csv', location='Southern_Hydrate')\n",
    "for key in SH_PSDs:\n",
    "    print(key)\n",
    "    spdf = get_spdf(SH_PSDs[key])\n",
    "    plot_spdf(spdf, log=False, title=key + ' Spectral PDF', shipType=key, location='Southern_Hydrate')"
   ]
  },
  {
   "cell_type": "markdown",
   "metadata": {},
   "source": [
    "# Cepstrum Plotting\n",
    "Cepstrum is in `log(abs(FFT(signal)))`.\n",
    "This gives something to use for the y-axis where x-axis would be quefrency.\n",
    "\n",
    "Higher frequency resolution is needed, so work begins with the audio files, which we will divide into 1-minute intervals to compute the cepstrum of. Then for each vessel type (within each ud_group), we will average the cepstrums.\n",
    "\n",
    "Can this somehow be plotted like the spdf?"
   ]
  },
  {
   "cell_type": "markdown",
   "metadata": {},
   "source": [
    "## Initial"
   ]
  },
  {
   "cell_type": "code",
   "execution_count": 8,
   "metadata": {},
   "outputs": [
    {
     "name": "stdout",
     "output_type": "stream",
     "text": [
      "('Cargo', 'Bulk Carrier')\n",
      "('Cargo', 'Cargo')\n",
      "('Cargo', 'General Cargo')\n",
      "('Cargo', 'Vehicles Carrier')\n",
      "('Cargo', 'Wood Chips Carrier')\n",
      "('Fishing type', 'Fishing Vessel')\n",
      "('Fishing type', 'Towing Vessel')\n",
      "('Fishing type', 'Tug')\n",
      "('Tanker', 'Crude Oil Tanker')\n",
      "('Tanker', 'LPG Tanker')\n",
      "('Tanker', 'Oil Products Tanker')\n",
      "('Tanker', 'Oil/Chemical Tanker')\n"
     ]
    }
   ],
   "source": [
    "rawdf = pd.read_csv('data/Axial_Base/AB_isolated_ais_10m_5_20.csv', sep=',')\n",
    "\n",
    "options = ['Cargo', 'Tanker', 'Fishing type']\n",
    "df = rawdf[rawdf['ud_group'].isin(options)]\n",
    "df = df.reset_index(drop=True)\n",
    "#df = rawdf[(df['ud_group']=='Cargo') | (df['ud_group']=='Tanker') | (df['ud_group']=='Fishing type')]\n",
    "# EC is the only one with missing ship type and only 4 of them, just ignore those\n",
    "# .dropna() followed by .groupby() cleans and groups\n",
    "grouped_df = df.dropna(subset=['ud_group', 'VESSEL TYPE']).groupby(['ud_group', 'VESSEL TYPE'])\n",
    "#grouped_df.sum().tail(20)\n",
    "mean_dict = {}  \n",
    "\n",
    "# Create average data\n",
    "for group_name, df_group in grouped_df:\n",
    "    print(group_name)\n",
    "    dict = {0: [], 1: [], 2: [], 3: [], 4: [],5: [],6: [], 7: [], 8: [], 9: []}\n",
    "    for row_index, row in df_group.iterrows():\n",
    "        inst_id = df['instance_id'].iloc[row_index]\n",
    "        #inst_id = df[df['Unnamed: 0'] == row_index]['instance_id'][0]\n",
    "        # data_path = 'data/' + location + '/'\n",
    "        data_path = 'data/' + 'Axial_Base' + '/'\n",
    "        wavfilepath = data_path + 'Audio/' + inst_id + '.wav'\n",
    "        # try-except deals with missing pickles\n",
    "        try:\n",
    "            output = wavfile.read(wavfilepath)\n",
    "            S = output[1]\n",
    "            w = int(len(S)/10) \n",
    "            time_windows = []\n",
    "            for i in range(1, 11):\n",
    "                \"\"\"if (i == 10):\n",
    "                    window = S[((i-1)*w):]\n",
    "                else:\n",
    "                    window = S[((i-1)*w):(i*w)]\"\"\"\n",
    "                # we lose out on very last value\n",
    "                window = S[((i-1)*w):(i*w)]\n",
    "                time_windows.append(window)\n",
    "\n",
    "            # to see time_windows output\n",
    "            for idx, wind in enumerate(time_windows):\n",
    "                #print(f'window {idx}: {wind}')\n",
    "                #print(f'Window {idx} shape is {wind.shape}')\n",
    "                # compute cf\n",
    "                cf = (np.log(np.abs(np.fft.fft(wind))))\n",
    "                if (len(wind) == 12000):\n",
    "                    dict[idx].append(cf)\n",
    "                #print(dict[idx][0])\n",
    "                #plt.plot(cf)\n",
    "\n",
    "        except FileNotFoundError:\n",
    "            pass\n",
    "    # time windows for this group filled out @ this point\n",
    "    group_cf_mean = 0\n",
    "    for i in range(len(dict)):\n",
    "        group_cf_mean += (dict[i][0])#np.mean(dict[i][0], axis=0) Gets first entry window\n",
    "    group_cf_mean /= len(dict)\n",
    "    mean_dict.update({str(group_name): group_cf_mean})\n"
   ]
  },
  {
   "cell_type": "code",
   "execution_count": 9,
   "metadata": {},
   "outputs": [
    {
     "name": "stdout",
     "output_type": "stream",
     "text": [
      "key: ('Cargo', 'Bulk Carrier'), values: (12000,)\n",
      "key: ('Cargo', 'Cargo'), values: (12000,)\n",
      "key: ('Cargo', 'General Cargo'), values: (12000,)\n",
      "key: ('Cargo', 'Vehicles Carrier'), values: (12000,)\n",
      "key: ('Cargo', 'Wood Chips Carrier'), values: (12000,)\n",
      "key: ('Fishing type', 'Fishing Vessel'), values: (12000,)\n",
      "key: ('Fishing type', 'Towing Vessel'), values: (12000,)\n",
      "key: ('Fishing type', 'Tug'), values: (12000,)\n",
      "key: ('Tanker', 'Crude Oil Tanker'), values: (12000,)\n",
      "key: ('Tanker', 'LPG Tanker'), values: (12000,)\n",
      "key: ('Tanker', 'Oil Products Tanker'), values: (12000,)\n",
      "key: ('Tanker', 'Oil/Chemical Tanker'), values: (12000,)\n"
     ]
    }
   ],
   "source": [
    "for k, v in mean_dict.items():\n",
    "    plt.subplots(figsize=(12, 10))\n",
    "    print(f'key: {k}, values: {v.shape}')\n",
    "    plt.plot(mean_dict[k])\n",
    "    plt.xlabel('frequency')\n",
    "    #plt.xscale('log')\n",
    "    title = re.sub('[^A-Za-z0-9 ]+', '', k)\n",
    "    plt.title(title + ' Cepstrum Plot')\n",
    "    plt.savefig('data/Axial_Base/Cepstrum/'+ title + '.jpg', format='jpg')\n",
    "    plt.close()"
   ]
  },
  {
   "cell_type": "code",
   "execution_count": 11,
   "metadata": {},
   "outputs": [],
   "source": [
    "def cepstrum_vesselType_instance(location=None, csv_name=None, vessel_type=None, instance=0, print_options=False):\n",
    "    rawdf = pd.read_csv('data/'+location+'/'+csv_name, sep=',')\n",
    "\n",
    "    if (print_options):\n",
    "        options = ['Cargo', 'Tanker', 'Fishing type']\n",
    "        df = rawdf[rawdf['ud_group'].isin(options)]\n",
    "        df = df.reset_index(drop=True)\n",
    "        #df = rawdf[(df['ud_group']=='Cargo') | (df['ud_group']=='Tanker') | (df['ud_group']=='Fishing type')]\n",
    "        # EC is the only one with missing ship type and only 4 of them, just ignore those\n",
    "        # .dropna() followed by .groupby() cleans and groups\n",
    "        grouped_df = df.dropna(subset=['ud_group', 'VESSEL TYPE']).groupby(['ud_group', 'VESSEL TYPE'])\n",
    "        #grouped_df.sum().tail(20)\n",
    "        mean_dict = {}  \n",
    "\n",
    "        # Create average data\n",
    "        for group_name, df_group in grouped_df:\n",
    "            print(group_name)\n",
    "\n",
    "    options = [vessel_type]\n",
    "    df = rawdf[rawdf['VESSEL TYPE'].isin(options)]\n",
    "    df = df.reset_index(drop=True)\n",
    "    #df = rawdf[(df['ud_group']=='Cargo') | (df['ud_group']=='Tanker') | (df['ud_group']=='Fishing type')]\n",
    "    # EC is the only one with missing ship type and only 4 of them, just ignore those\n",
    "    # .dropna() followed by .groupby() cleans and groups\n",
    "    grouped_df = df.dropna(subset=['ud_group', 'VESSEL TYPE']).groupby(['ud_group', 'VESSEL TYPE'])\n",
    "    #grouped_df.sum().tail(20)\n",
    "    mean_dict = {}  \n",
    "    dict = {0: [], 1: [], 2: [], 3: [], 4: [],5: [],6: [], 7: [], 8: [], 9: []}\n",
    "    inst_id = df['instance_id'].iloc[instance]\n",
    "    group = df['ud_group'].iloc[instance]\n",
    "    #inst_id = df[df['Unnamed: 0'] == row_index]['instance_id'][0]\n",
    "    # data_path = 'data/' + location + '/'\n",
    "    data_path = 'data/' + 'Axial_Base' + '/'\n",
    "    wavfilepath = data_path + 'Audio/' + inst_id + '.wav'\n",
    "    # try-except deals with missing pickles\n",
    "    try:\n",
    "        output = wavfile.read(wavfilepath)\n",
    "        S = output[1]\n",
    "        w = int(len(S)/10) \n",
    "        time_windows = []\n",
    "        for i in range(1, 11):\n",
    "            \"\"\"if (i == 10):\n",
    "                window = S[((i-1)*w):]\n",
    "            else:\n",
    "                window = S[((i-1)*w):(i*w)]\"\"\"\n",
    "            # we lose out on very last value\n",
    "            window = S[((i-1)*w):(i*w)]\n",
    "            time_windows.append(window)\n",
    "\n",
    "        # to see time_windows output\n",
    "        for idx, wind in enumerate(time_windows):\n",
    "            #print(f'window {idx}: {wind}')\n",
    "            #print(f'Window {idx} shape is {wind.shape}')\n",
    "            # compute cf\n",
    "            cf = (np.log(np.abs(np.fft.fft(wind))))\n",
    "            if (len(wind) == 12000):\n",
    "                dict[idx].append(cf)\n",
    "            #print(dict[idx][0])\n",
    "            #plt.plot(cf)\n",
    "\n",
    "    except FileNotFoundError:\n",
    "        pass\n",
    "\n",
    "    group_cf_mean = 0\n",
    "    for i in range(len(dict)):\n",
    "        group_cf_mean += (dict[i][0])#np.mean(dict[i][0], axis=0) Gets first entry window\n",
    "        group_cf_mean /= len(dict)\n",
    "    #print(group_cf_mean)\n",
    "    #mean_dict.update({str(group_name): group_cf_mean})\n",
    "    #return group_cf_mean\n",
    "    plt.subplots(figsize=(12, 10))\n",
    "    plt.plot(group_cf_mean)\n",
    "    plt.xlabel('frequency')\n",
    "    #plt.xscale('log')\n",
    "    title = re.sub('[^A-Za-z0-9 ]+', '', vessel_type)\n",
    "    plt.title(group + '_' + title + ' Cepstrum Plot')\n",
    "    #plt.savefig('data/Axial_Base/Cepstrum/'+ title + '.jpg', format='jpg')\n",
    "    #plt.close()\n"
   ]
  },
  {
   "cell_type": "code",
   "execution_count": 19,
   "metadata": {},
   "outputs": [
    {
     "name": "stdout",
     "output_type": "stream",
     "text": [
      "('Cargo', 'Bulk Carrier')\n",
      "('Cargo', 'Cargo')\n",
      "('Cargo', 'General Cargo')\n",
      "('Cargo', 'Vehicles Carrier')\n",
      "('Cargo', 'Wood Chips Carrier')\n",
      "('Fishing type', 'Fishing Vessel')\n",
      "('Fishing type', 'Towing Vessel')\n",
      "('Fishing type', 'Tug')\n",
      "('Tanker', 'Crude Oil Tanker')\n",
      "('Tanker', 'LPG Tanker')\n",
      "('Tanker', 'Oil Products Tanker')\n",
      "('Tanker', 'Oil/Chemical Tanker')\n"
     ]
    },
    {
     "data": {
      "image/png": "[encoded data removed]",
      "text/plain": [
       "<Figure size 1200x1000 with 1 Axes>"
      ]
     },
     "metadata": {},
     "output_type": "display_data"
    },
    {
     "data": {
      "image/png": "[encoded data removed]",
      "text/plain": [
       "<Figure size 1200x1000 with 1 Axes>"
      ]
     },
     "metadata": {},
     "output_type": "display_data"
    }
   ],
   "source": [
    "asdf = cepstrum_vesselType_instance(location='Axial_Base', csv_name='AB_isolated_ais_10m_5_20.csv', vessel_type='Bulk Carrier', instance=50, print_options=True)\n",
    "asdf = cepstrum_vesselType_instance(location='Axial_Base', csv_name='AB_isolated_ais_10m_5_20.csv', vessel_type='Bulk Carrier', instance=0)"
   ]
  },
  {
   "cell_type": "markdown",
   "metadata": {},
   "source": [
    "## SPDF Cepstrum Plotting\n",
    "\n",
    "present issues\n",
    "- [SOLVED] Pxx not scaled correctly. Fix by packing time signal into hdata obj and use `.compute_psd_welch()`\n",
    "- No way to log/abs the fft within the welch process. Perhaps can do it after(https://en.wikipedia.org/wiki/Cepstrum#Types)? \n",
    "but values don't seem like they'd be affected... What if we shove the inverted cepstrum that we make from the actual data into the welch creator? It might calculate the FFT of those which essentially gives back the cepstrum we calculated in the first place"
   ]
  },
  {
   "cell_type": "code",
   "execution_count": 3,
   "metadata": {},
   "outputs": [
    {
     "name": "stdout",
     "output_type": "stream",
     "text": [
      "f_og: [  0.        0.78125   1.5625    2.34375   3.125     3.90625   4.6875\n",
      "   5.46875   6.25      7.03125   7.8125    8.59375   9.375    10.15625\n",
      "  10.9375   11.71875  12.5      13.28125  14.0625   14.84375  15.625\n",
      "  16.40625  17.1875   17.96875  18.75     19.53125  20.3125   21.09375\n",
      "  21.875    22.65625  23.4375   24.21875  25.       25.78125  26.5625\n",
      "  27.34375  28.125    28.90625  29.6875   30.46875  31.25     32.03125\n",
      "  32.8125   33.59375  34.375    35.15625  35.9375   36.71875  37.5\n",
      "  38.28125  39.0625   39.84375  40.625    41.40625  42.1875   42.96875\n",
      "  43.75     44.53125  45.3125   46.09375  46.875    47.65625  48.4375\n",
      "  49.21875  50.       50.78125  51.5625   52.34375  53.125    53.90625\n",
      "  54.6875   55.46875  56.25     57.03125  57.8125   58.59375  59.375\n",
      "  60.15625  60.9375   61.71875  62.5      63.28125  64.0625   64.84375\n",
      "  65.625    66.40625  67.1875   67.96875  68.75     69.53125  70.3125\n",
      "  71.09375  71.875    72.65625  73.4375   74.21875  75.       75.78125\n",
      "  76.5625   77.34375  78.125    78.90625  79.6875   80.46875  81.25\n",
      "  82.03125  82.8125   83.59375  84.375    85.15625  85.9375   86.71875\n",
      "  87.5      88.28125  89.0625   89.84375  90.625    91.40625  92.1875\n",
      "  92.96875  93.75     94.53125  95.3125   96.09375  96.875    97.65625\n",
      "  98.4375   99.21875 100.     ]\n",
      "Pxx_og: [2.35484772e+02 2.10090796e+03 6.82815186e+02 1.47066574e+02\n",
      " 2.74127777e+02 4.52648315e+02 5.01527023e+01 1.35059986e+01\n",
      " 1.54950190e+01 4.26097946e+01 6.33202477e+01 1.05102466e+03\n",
      " 2.41666675e+03 3.01186157e+03 1.33289248e+04 7.17951465e+03\n",
      " 4.59846313e+02 2.66095001e+02 4.27354645e+02 7.08824829e+02\n",
      " 4.31099213e+02 9.52938721e+02 2.10531885e+03 6.77315723e+03\n",
      " 1.21934570e+04 5.09426123e+03 1.54268152e+03 7.18602234e+02\n",
      " 7.88605469e+02 7.49005554e+02 3.68185364e+02 3.69551086e+02\n",
      " 3.25581360e+02 3.76276276e+02 7.48316711e+02 1.45453076e+03\n",
      " 1.89501672e+03 1.47714490e+03 1.00307123e+03 4.03248413e+02\n",
      " 1.69411469e+02 1.61128418e+02 2.32028275e+02 2.75930389e+02\n",
      " 3.21561310e+02 4.24145203e+02 1.19451501e+03 1.70206104e+03\n",
      " 1.69209985e+03 1.34679810e+03 9.79961731e+02 7.27526855e+02\n",
      " 5.83023499e+02 5.37124756e+02 6.09036682e+02 5.89206482e+02\n",
      " 8.64936951e+02 1.49832446e+03 2.54202588e+03 3.63605591e+03\n",
      " 5.41056201e+03 4.73440967e+03 4.68295459e+03 4.17989551e+03\n",
      " 2.88249316e+03 2.25983960e+03 2.79304517e+03 4.37243555e+03\n",
      " 4.73291406e+03 5.79931348e+03 6.99898828e+03 6.51781152e+03\n",
      " 6.85398535e+03 5.74147070e+03 5.65807031e+03 5.00695215e+03\n",
      " 4.53454053e+03 4.09545630e+03 3.60476196e+03 3.49136353e+03\n",
      " 2.88220752e+03 3.74691821e+03 3.91974585e+03 4.13271094e+03\n",
      " 4.98549756e+03 4.75608887e+03 4.50678076e+03 4.25972949e+03\n",
      " 2.86028687e+03 2.33838696e+03 2.18778662e+03 2.17895142e+03\n",
      " 3.22101831e+03 2.85791260e+03 2.41184717e+03 1.99043689e+03\n",
      " 1.93515234e+03 1.96921948e+03 1.69820117e+03 1.52086951e+03\n",
      " 1.32070471e+03 1.11892078e+03 9.44043274e+02 1.00577563e+03\n",
      " 9.28075745e+02 8.83738708e+02 9.33603149e+02 1.07281726e+03\n",
      " 1.30661646e+03 1.44001221e+03 1.34617517e+03 1.39218225e+03\n",
      " 1.29586902e+03 1.16919971e+03 7.40639099e+02 5.58871582e+02\n",
      " 3.49984894e+02 1.76097412e+02 7.50394516e+01 2.52096996e+01\n",
      " 7.26131868e+00 1.70429802e+00 2.64839381e-01 3.99660803e-02\n",
      " 4.70195618e-03 1.42620096e-03 1.01530517e-03 1.11383537e-03\n",
      " 3.42962681e-04]\n"
     ]
    },
    {
     "ename": "NameError",
     "evalue": "name 'sense_corr' is not defined",
     "output_type": "error",
     "traceback": [
      "\u001b[1;31m---------------------------------------------------------------------------\u001b[0m",
      "\u001b[1;31mNameError\u001b[0m                                 Traceback (most recent call last)",
      "Input \u001b[1;32mIn [3]\u001b[0m, in \u001b[0;36m<cell line: 23>\u001b[1;34m()\u001b[0m\n\u001b[0;32m     21\u001b[0m \u001b[38;5;28mprint\u001b[39m(\u001b[38;5;124mf\u001b[39m\u001b[38;5;124m'\u001b[39m\u001b[38;5;124mPxx_og: \u001b[39m\u001b[38;5;132;01m{\u001b[39;00mPxx_og\u001b[38;5;132;01m}\u001b[39;00m\u001b[38;5;124m'\u001b[39m)\n\u001b[0;32m     22\u001b[0m plt\u001b[38;5;241m.\u001b[39mplot(sec, S)\n\u001b[1;32m---> 23\u001b[0m \u001b[38;5;28mlen\u001b[39m(\u001b[38;5;241m10\u001b[39m \u001b[38;5;241m*\u001b[39m np\u001b[38;5;241m.\u001b[39mlog10(Pxx_og \u001b[38;5;241m*\u001b[39m np\u001b[38;5;241m.\u001b[39mpower(\u001b[38;5;241m10\u001b[39m, \u001b[43msense_corr\u001b[49m \u001b[38;5;241m/\u001b[39m \u001b[38;5;241m10\u001b[39m)))\n",
      "\u001b[1;31mNameError\u001b[0m: name 'sense_corr' is not defined"
     ]
    },
    {
     "data": {
      "image/png": "[encoded data removed]",
      "text/plain": [
       "<Figure size 432x288 with 1 Axes>"
      ]
     },
     "metadata": {
      "needs_background": "light"
     },
     "output_type": "display_data"
    }
   ],
   "source": [
    "# just look at the psd/audio for now\n",
    "\n",
    "# this is for figuring out the behavior of a true PSD before moving onto cepstrum\n",
    "df = pd.read_csv('data/Axial_Base/AB_isolated_ais_10m_5_20.csv', sep=',')\n",
    "fs = 200 #sample rate\n",
    "inst_id = df['instance_id'].iloc[0]\n",
    "data_path = 'data/' + 'Axial_Base' + '/'\n",
    "wavfilepath = data_path + 'Audio/' + inst_id + '.wav'\n",
    "try:\n",
    "    output = wavfile.read(wavfilepath)\n",
    "    S = output[1]\n",
    "except FileNotFoundError:\n",
    "    pass\n",
    "sec = np.arange(0, len(S)/fs, 1/fs) # t in seconds\n",
    "L = 256\n",
    "nfft = L\n",
    "avg_method=\"median\"\n",
    "overlap = 0.3\n",
    "f_og, Pxx_og = welch(S, fs=fs, nfft=nfft, nperseg=L, noverlap=int(L * overlap), average=avg_method)\n",
    "print(f'f_og: {f_og}')\n",
    "print(f'Pxx_og: {Pxx_og}')\n",
    "plt.plot(sec, S)\n",
    "len(10 * np.log10(Pxx_og * np.power(10, sense_corr / 10)))"
   ]
  },
  {
   "cell_type": "code",
   "execution_count": 24,
   "metadata": {},
   "outputs": [
    {
     "name": "stdout",
     "output_type": "stream",
     "text": [
      "Downloading mseed file...\n"
     ]
    },
    {
     "data": {
      "text/plain": [
       "         network: OO\n",
       "         station: AXBA1\n",
       "        location: AXBA1\n",
       "         channel: HDH\n",
       "       starttime: 2016-11-25T22:49:56.000000Z\n",
       "         endtime: 2016-11-25T22:59:56.000000Z\n",
       "   sampling_rate: 200.0\n",
       "           delta: 0.005\n",
       "            npts: 120001\n",
       "           calib: 1.0\n",
       "         _format: MSEED\n",
       "           mseed: AttribDict({'dataquality': 'D', 'number_of_records': 119, 'encoding': 'FLOAT32', 'byteorder': '>', 'record_length': 4096, 'filesize': 487424})"
      ]
     },
     "execution_count": 24,
     "metadata": {},
     "output_type": "execute_result"
    }
   ],
   "source": [
    "# could we make use of the hydrophone class? try pinging API or making new object\n",
    "from datetime import datetime\n",
    "instance = 000\n",
    "start = datetime.strptime(df['start_time'].iloc[instance],'%Y-%m-%d %H:%M:%S')\n",
    "end = datetime.strptime(df['end_time'].iloc[instance],'%Y-%m-%d %H:%M:%S')\n",
    "hdata = ooipy.get_acoustic_data_LF(start, end, 'Axial_Base', verbose=True, zero_mean=True)\n",
    "hdata.stats"
   ]
  },
  {
   "cell_type": "code",
   "execution_count": 17,
   "metadata": {},
   "outputs": [
    {
     "data": {
      "text/plain": [
       "array([77.78311426, 74.13829558, 83.9740123 , ..., 22.03454676,\n",
       "       22.34722104, 17.32329485])"
      ]
     },
     "execution_count": 17,
     "metadata": {},
     "output_type": "execute_result"
    }
   ],
   "source": [
    "obj.psd.values"
   ]
  },
  {
   "cell_type": "code",
   "execution_count": 25,
   "metadata": {},
   "outputs": [
    {
     "name": "stdout",
     "output_type": "stream",
     "text": [
      "2049\n"
     ]
    },
    {
     "data": {
      "text/plain": [
       "2049"
      ]
     },
     "execution_count": 25,
     "metadata": {},
     "output_type": "execute_result"
    }
   ],
   "source": [
    "obj = ooipy.hydrophone.basic.HydrophoneData(data=S, header=None, node=\"Axial_Base\")\n",
    "obj.stats.sampling_rate = 200\n",
    "#obj.stats.station = 'AXBA1'\n",
    "obj.stats.channel='HDH'\n",
    "obj.compute_psd_welch()\n",
    "print(len(obj.psd.values))\n",
    "hdata.compute_psd_welch()\n",
    "sum(hdata.psd.values == obj.psd.values)\n",
    "## ding ding ding, just solved Pxx scaling issue by making it a hdata obj\n",
    "# now just gotta do cepstrum at some point\n",
    "# 3/21 on laptop, no longer working... key error?"
   ]
  },
  {
   "cell_type": "code",
   "execution_count": 7,
   "metadata": {},
   "outputs": [
    {
     "ename": "AttributeError",
     "evalue": "'NoneType' object has no attribute 'values'",
     "output_type": "error",
     "traceback": [
      "\u001b[1;31m---------------------------------------------------------------------------\u001b[0m",
      "\u001b[1;31mAttributeError\u001b[0m                            Traceback (most recent call last)",
      "Input \u001b[1;32mIn [7]\u001b[0m, in \u001b[0;36m<cell line: 1>\u001b[1;34m()\u001b[0m\n\u001b[1;32m----> 1\u001b[0m plt\u001b[38;5;241m.\u001b[39mplot(\u001b[43mobj\u001b[49m\u001b[38;5;241;43m.\u001b[39;49m\u001b[43mpsd\u001b[49m\u001b[38;5;241;43m.\u001b[39;49m\u001b[43mvalues\u001b[49m)\n",
      "\u001b[1;31mAttributeError\u001b[0m: 'NoneType' object has no attribute 'values'"
     ]
    }
   ],
   "source": [
    "plt.plot(obj.psd.values)"
   ]
  },
  {
   "cell_type": "code",
   "execution_count": 8,
   "metadata": {},
   "outputs": [
    {
     "data": {
      "text/plain": [
       "         network: OO\n",
       "         station: AXBA1\n",
       "        location: AXBA1\n",
       "         channel: HDH\n",
       "       starttime: 2016-11-25T22:49:56.000000Z\n",
       "         endtime: 2016-11-25T22:59:56.000000Z\n",
       "   sampling_rate: 200.0\n",
       "           delta: 0.005\n",
       "            npts: 120001\n",
       "           calib: 1.0\n",
       "         _format: MSEED\n",
       "           mseed: AttribDict({'dataquality': 'D', 'number_of_records': 119, 'encoding': 'FLOAT32', 'byteorder': '>', 'record_length': 4096, 'filesize': 487424})"
      ]
     },
     "execution_count": 8,
     "metadata": {},
     "output_type": "execute_result"
    }
   ],
   "source": [
    "hdata.stats"
   ]
  },
  {
   "cell_type": "code",
   "execution_count": 91,
   "metadata": {},
   "outputs": [
    {
     "data": {
      "text/plain": [
       "         network: \n",
       "         station: \n",
       "        location: AXBA1\n",
       "         channel: \n",
       "       starttime: 1970-01-01T00:00:00.000000Z\n",
       "         endtime: 1970-01-01T00:10:00.000000Z\n",
       "   sampling_rate: 200.0\n",
       "           delta: 0.005\n",
       "            npts: 120001\n",
       "           calib: 1.0"
      ]
     },
     "execution_count": 91,
     "metadata": {},
     "output_type": "execute_result"
    }
   ],
   "source": [
    "obj.stats"
   ]
  },
  {
   "cell_type": "code",
   "execution_count": 20,
   "metadata": {},
   "outputs": [
    {
     "data": {
      "text/plain": [
       "array([2.5, 2. , 2. , 6. , 4. ])"
      ]
     },
     "execution_count": 20,
     "metadata": {},
     "output_type": "execute_result"
    }
   ],
   "source": [
    "a = ([np.array([1, 2, 3, 4, 5]), np.array([4, 2, 1, 8, 3])])\n",
    "np.mean(a, axis=0)\n"
   ]
  },
  {
   "cell_type": "markdown",
   "metadata": {},
   "source": [
    "### adapted spdf plotter"
   ]
  },
  {
   "cell_type": "code",
   "execution_count": 86,
   "metadata": {},
   "outputs": [],
   "source": [
    "def get_spdf(spec, fs_hz=200, fmax=None, spl_bins=np.linspace(0, 120, 481),\n",
    "             percentiles=[1, 5, 10, 50, 90, 95, 99]):\n",
    "    if fmax is None:\n",
    "        fmax = 100 #spec.frequency[-1]\n",
    "\n",
    "    n_freq_bin = int(len(spec['frequencies'][0]) * fmax/(fs_hz/2)) + 1\n",
    "\n",
    "    spdf_dct = {'freq': np.array(np.linspace(0, fmax, n_freq_bin)),\n",
    "                'spl': spl_bins[:-1],\n",
    "                'pdf': np.empty((n_freq_bin, 480))\n",
    "                #'number_psd': len(spec.time) this isn't used\n",
    "                }\n",
    "\n",
    "    for p in percentiles:\n",
    "        spdf_dct[str(p)] = np.empty(n_freq_bin)\n",
    "\n",
    "    for idx, freq_bin in enumerate(np.asarray(spec['values']).T[:n_freq_bin - 1]):\n",
    "        hist, _ = np.histogram(freq_bin, bins=spl_bins, density=True)\n",
    "        spdf_dct['pdf'][idx] = hist\n",
    "        spdf_dct['50'][idx] = np.median(freq_bin)\n",
    "        for p in percentiles:\n",
    "            spdf_dct[str(p)][idx] = np.nanquantile(freq_bin, p/100)\n",
    "\n",
    "    return spdf_dct\n",
    "def plot_ceps_spdf(spdf, vmin=0.003, vmax=0.2, vdelta=0.0025, save=False, filename=None, log=True, title='Spectral PDF', shipType=None, location=None):\n",
    "    cbarticks = np.arange(vmin, vmax+vdelta, vdelta)\n",
    "    fig, ax = plt.subplots(figsize=(9, 5))\n",
    "    im = ax.contourf(spdf['freq'], spdf['spl'], np.transpose(spdf['pdf']),\n",
    "                     cbarticks, norm=colors.Normalize(vmin=vmin, vmax=vmax),\n",
    "                     cmap='jet', extend='max', alpha=0.50, linewidth=0)\n",
    "\n",
    "    # plot some percentiles:\n",
    "    plt.plot(spdf['freq'], spdf['1'], color='black')\n",
    "    plt.plot(spdf['freq'], spdf['5'], color='black')\n",
    "    plt.plot(spdf['freq'], spdf['10'], color='black')\n",
    "    plt.plot(spdf['freq'], spdf['50'], color='black')\n",
    "    plt.plot(spdf['freq'], spdf['90'], color='black')\n",
    "    plt.plot(spdf['freq'], spdf['95'], color='black')\n",
    "    plt.plot(spdf['freq'], spdf['99'], color='black')\n",
    "\n",
    "    plt.ylabel(r'spectral level (dB rel $1 \\mathrm{\\frac{μ Pa^2}{Hz}}$)')\n",
    "    plt.xlabel('frequency (Hz)')\n",
    "    plt.ylim([0, 100])\n",
    "    plt.xlim([0, 90])\n",
    "    if log:\n",
    "        plt.xscale('log')\n",
    "\n",
    "    plt.colorbar(im, ax=ax, ticks=[vmin, vmin + (vmax-vmin)/4, vmin + (vmax-vmin)/2,\n",
    "                 vmin + 3*(vmax-vmin)/4,  vmax],  pad=0.03, label='probability', format='%.3f')\n",
    "    plt.tick_params(axis='y')\n",
    "    plt.grid(True)\n",
    "    plt.title(title)\n",
    "    handles, labels = plt.gca().get_legend_handles_labels()\n",
    "    line = Line2D(\n",
    "        [0], [0], label='percentiles: 1, 5, 10, 50, 90, 95, 99', color='k')\n",
    "    handles.extend([line])\n",
    "    plt.legend(handles=handles, loc='upper right')\n",
    "    plt.tight_layout()\n",
    "    plt.xlim((200/512, 100))\n",
    "    filepath = 'data/'+location+'/'+'Cepstrum/SPDF/'\n",
    "    cleaned_type = ('[^A-Za-z0-9 ]+', '', (shipType))\n",
    "    plt.savefig(filepath+(title)+'.jpg', format='jpg')\n",
    "    plt.close() # suppress plotting"
   ]
  },
  {
   "cell_type": "markdown",
   "metadata": {},
   "source": [
    "### more function"
   ]
  },
  {
   "cell_type": "code",
   "execution_count": 4,
   "metadata": {},
   "outputs": [],
   "source": [
    "def cepstrum_maker(S):\n",
    "    w = int(len(S)/10) \n",
    "    time_windows = []\n",
    "    for i in range(1, 11):\n",
    "        \"\"\"if (i == 10):\n",
    "            window = S[((i-1)*w):]\n",
    "        else:\n",
    "            window = S[((i-1)*w):(i*w)]\"\"\"\n",
    "        # we lose out on very last value\n",
    "        window = S[((i-1)*w):(i*w)]\n",
    "        time_windows.append(window)\n",
    "\n",
    "    # to see time_windows output\n",
    "    for idx, wind in enumerate(time_windows):\n",
    "        #print(f'window {idx}: {wind}')\n",
    "        #print(f'Window {idx} shape is {wind.shape}')\n",
    "        # compute cf\n",
    "        cf = (np.log(np.abs(np.fft.fft(wind))))\n",
    "        #if (len(wind) == 12000):\n",
    "        #    dict[idx].append(cf)\n",
    "    return np.mean(time_windows, axis=0)\n",
    "    \n",
    "\n",
    "\n",
    "def get_cepsPSD_dict(meta_data_CSV_path, location, print_options=False):\n",
    "    \"\"\"\n",
    "    From given csv metadata path and location string, give a dictionary of PSD values using the cepstrum\n",
    "    \"\"\"\n",
    "    rawdf = pd.read_csv('data/'+location+'/'+meta_data_CSV_path, sep=',')\n",
    "    if (print_options):\n",
    "        options = ['Cargo', 'Tanker', 'Fishing type']\n",
    "        df = rawdf[rawdf['ud_group'].isin(options)]\n",
    "        df = df.reset_index(drop=True)\n",
    "        #df = rawdf[(df['ud_group']=='Cargo') | (df['ud_group']=='Tanker') | (df['ud_group']=='Fishing type')]\n",
    "        # EC is the only one with missing ship type and only 4 of them, just ignore those\n",
    "        # .dropna() followed by .groupby() cleans and groups\n",
    "        grouped_df = df.dropna(subset=['ud_group', 'VESSEL TYPE']).groupby(['ud_group', 'VESSEL TYPE'])\n",
    "        #grouped_df.sum().tail(20)\n",
    "        mean_dict = {}  \n",
    "\n",
    "        # Create average data\n",
    "        for group_name, df_group in grouped_df:\n",
    "            print(group_name)\n",
    "\n",
    "    options = ['Cargo', 'Tanker', 'Fishing type']\n",
    "    df = rawdf[rawdf['VESSEL TYPE'].isin(options)]\n",
    "    df = rawdf.reset_index(drop=True)\n",
    "    grouped_df = df.dropna(subset=['ud_group', 'VESSEL TYPE']).groupby(['ud_group', 'VESSEL TYPE'])\n",
    "\n",
    "    # https://stackoverflow.com/questions/27405483/how-to-loop-over-grouped-pandas-dataframe\n",
    "    PSDs = {}\n",
    "    for group_name, df_group in grouped_df:\n",
    "        PSD_freq = []\n",
    "        PSD_val = []\n",
    "        dictPSD = { 'frequencies': PSD_freq, 'values': PSD_val}\n",
    "\n",
    "        # for-loop to compile list of PSD data objects pulled from column\n",
    "        for row_index, row in df_group.iterrows():\n",
    "            inst_id = df['instance_id'].iloc[row_index]\n",
    "            # get pickle files (DL locally? Call some API?)\n",
    "            # local storage method\n",
    "            data_path = 'data/' + location + '/'\n",
    "            wavfilepath = data_path + 'Audio/' + inst_id + '.wav'\n",
    "            # try-except deals with missing pickles\n",
    "            try:\n",
    "                output = wavfile.read(wavfilepath)\n",
    "                S = output[1]\n",
    "                total_cf = np.log(np.abs(np.fft.fft(S)))\n",
    "                total_quefrec = np.fft.ifft(total_cf)\n",
    "                cf = cepstrum_maker(S)\n",
    "                icf = np.fft.ifft(cf)\n",
    "                #print(cf)\n",
    "                obj = ooipy.hydrophone.basic.HydrophoneData(data=np.real(icf), header=None, node=\"Axial_Base\")\n",
    "                obj.stats.sampling_rate = 200\n",
    "                obj.stats.channel = 'HDH'\n",
    "                obj.compute_psd_welch(L = 256, overlap=0.3)\n",
    "                #print(obj.stats)\n",
    "                psd = obj.psd   \n",
    "                dictPSD['frequencies'].append(psd.freq)\n",
    "                dictPSD['values'].append(psd.values)\n",
    "            except FileNotFoundError:\n",
    "                pass\n",
    "        PSDs.update({group_name: dictPSD})\n",
    "    return PSDs"
   ]
  },
  {
   "cell_type": "code",
   "execution_count": 71,
   "metadata": {},
   "outputs": [],
   "source": [
    "test = get_cepsPSD_dict('AB_isolated_ais_10m_5_20.csv', location='Axial_Base')"
   ]
  },
  {
   "cell_type": "code",
   "execution_count": 87,
   "metadata": {},
   "outputs": [
    {
     "name": "stdout",
     "output_type": "stream",
     "text": [
      "('Cargo', 'Bulk Carrier')\n"
     ]
    },
    {
     "name": "stderr",
     "output_type": "stream",
     "text": [
      "C:\\Users\\UserALai\\AppData\\Local\\Temp\\ipykernel_5100\\3404231315.py:28: UserWarning: The following kwargs were not used by contour: 'linewidth'\n",
      "  im = ax.contourf(spdf['freq'], spdf['spl'], np.transpose(spdf['pdf']),\n"
     ]
    },
    {
     "name": "stdout",
     "output_type": "stream",
     "text": [
      "('Cargo', 'Cargo')\n",
      "('Cargo', 'General Cargo')\n",
      "('Cargo', 'Vehicles Carrier')\n",
      "('Cargo', 'Wood Chips Carrier')\n",
      "('Fishing type', 'Fishing Vessel')\n"
     ]
    },
    {
     "name": "stderr",
     "output_type": "stream",
     "text": [
      "C:\\Users\\UserALai\\miniconda3\\lib\\site-packages\\numpy\\lib\\histograms.py:906: RuntimeWarning: invalid value encountered in true_divide\n",
      "  return n/db/n.sum(), bin_edges\n"
     ]
    },
    {
     "name": "stdout",
     "output_type": "stream",
     "text": [
      "('Fishing type', 'Towing Vessel')\n",
      "('Fishing type', 'Tug')\n",
      "('Passenger', 'Passenger Ship')\n",
      "('Recreational', 'Passenger')\n",
      "('Recreational', 'Yacht')\n",
      "('Research', 'Research/Survey Vessel')\n",
      "('Research', 'Special Vessel')\n",
      "('Tanker', 'Crude Oil Tanker')\n",
      "('Tanker', 'LPG Tanker')\n",
      "('Tanker', 'Oil Products Tanker')\n",
      "('Tanker', 'Oil/Chemical Tanker')\n"
     ]
    }
   ],
   "source": [
    "\"\"\"for i in test.keys():\n",
    "    print(i)\n",
    "    print(test[i]['values'])\"\"\"\n",
    "\n",
    "for key in test:\n",
    "    print((key))\n",
    "    spdf = get_spdf(test[key])\n",
    "    title = re.sub('[^A-Za-z0-9 ]+', '', str(key))\n",
    "    plot_ceps_spdf(spdf, log=False, title=title + ' Spectral PDF', shipType=str(key), location='Axial_Base')\n"
   ]
  },
  {
   "cell_type": "markdown",
   "metadata": {},
   "source": [
    "## Cepstrum Spectrograms"
   ]
  },
  {
   "cell_type": "code",
   "execution_count": 2,
   "metadata": {},
   "outputs": [],
   "source": [
    "def cep_spectrogram(meta_data_CSV_path, location, print_options=False):\n",
    "    \"\"\"\n",
    "    From given csv metadata path and location string, generate spectrogram plot using cepstrum\n",
    "    \"\"\"\n",
    "    rawdf = pd.read_csv('data/'+location+'/'+meta_data_CSV_path, sep=',')\n",
    "    if (print_options):\n",
    "        options = ['Cargo', 'Tanker', 'Fishing type']\n",
    "        df = rawdf[rawdf['ud_group'].isin(options)]\n",
    "        df = df.reset_index(drop=True)\n",
    "        grouped_df = df.dropna(subset=['ud_group', 'VESSEL TYPE']).groupby(['ud_group', 'VESSEL TYPE'])\n",
    "        mean_dict = {}  \n",
    "\n",
    "        # Create average data\n",
    "        for group_name, df_group in grouped_df:\n",
    "            print(group_name)\n",
    "\n",
    "    options = ['Cargo', 'Tanker', 'Fishing type']\n",
    "    df = rawdf[rawdf['VESSEL TYPE'].isin(options)]\n",
    "    df = rawdf.reset_index(drop=True)\n",
    "    grouped_df = df.dropna(subset=['ud_group', 'VESSEL TYPE']).groupby(['ud_group', 'VESSEL TYPE'])\n",
    "\n",
    "    # https://stackoverflow.com/questions/27405483/how-to-loop-over-grouped-pandas-dataframe\n",
    "    for group_name, df_group in grouped_df:\n",
    "        for row_index, row in df_group.iterrows():\n",
    "            inst_id = df['instance_id'].iloc[row_index]\n",
    "            # get pickle files (DL locally? Call some API?)\n",
    "            # local storage method\n",
    "            data_path = 'data/' + location + '/'\n",
    "            wavfilepath = data_path + 'Audio/' + inst_id + '.wav'\n",
    "            # try-except deals with missing pickles\n",
    "            try:\n",
    "                output = wavfile.read(wavfilepath)\n",
    "                S = output[1]\n",
    "                cf = cepstrum_maker(S)\n",
    "                icf = np.fft.ifft(cf)\n",
    "                #print(cf)\n",
    "                obj = ooipy.hydrophone.basic.HydrophoneData(data=np.real(icf), header=None, node=\"Axial_Base\")\n",
    "                obj.stats.sampling_rate = 200\n",
    "                obj.stats.channel = 'HDH'\n",
    "                spectrogram = obj.compute_spectrogram(L = 256,avg_time=10, overlap=0.9)\n",
    "                fmin=0\n",
    "                fmax=100\n",
    "                path = 'data/'+location+'/Cepstrum/Spectrograms/'\n",
    "                ooiplt.plot_spectrogram(spectrogram,plot=False,save=True,fmin=fmin,fmax=fmax,vmax=110,filename=path+inst_id+'.png')\n",
    "                #print(obj.stats)\n",
    "            except FileNotFoundError:\n",
    "                pass"
   ]
  },
  {
   "cell_type": "code",
   "execution_count": 5,
   "metadata": {},
   "outputs": [
    {
     "name": "stderr",
     "output_type": "stream",
     "text": [
      "c:\\Users\\UserALai\\miniconda3\\lib\\site-packages\\ooipy\\tools\\ooiplotlib.py:218: UserWarning: The following kwargs were not used by contour: 'plot', 'save', 'fmin', 'fmax', 'filename', 'title', 'xlabel', 'xlabel_rot', 'xlabel_format', 'ylabel', 'vdelta', 'vdelta_cbar', 'figsize', 'res_reduction_time', 'res_reduction_freq', 'dpi', 'fontsize', 'extend_type', 'logy'\n",
      "  ax.contourf(\n"
     ]
    },
    {
     "ename": "KeyboardInterrupt",
     "evalue": "",
     "output_type": "error",
     "traceback": [
      "\u001b[1;31m---------------------------------------------------------------------------\u001b[0m",
      "\u001b[1;31mKeyboardInterrupt\u001b[0m                         Traceback (most recent call last)",
      "\u001b[1;32mc:\\Users\\UserALai\\Documents\\Work\\Ocean Data\\OcDa-Files\\PSD_by_Type.ipynb Cell 35'\u001b[0m in \u001b[0;36m<cell line: 1>\u001b[1;34m()\u001b[0m\n\u001b[1;32m----> <a href='vscode-notebook-cell:/c%3A/Users/UserALai/Documents/Work/Ocean%20Data/OcDa-Files/PSD_by_Type.ipynb#ch0000033?line=0'>1</a>\u001b[0m cep_spectrogram(\u001b[39m'\u001b[39;49m\u001b[39mAB_isolated_ais_10m_5_20.csv\u001b[39;49m\u001b[39m'\u001b[39;49m, location\u001b[39m=\u001b[39;49m\u001b[39m'\u001b[39;49m\u001b[39mAxial_Base\u001b[39;49m\u001b[39m'\u001b[39;49m)\n",
      "\u001b[1;32mc:\\Users\\UserALai\\Documents\\Work\\Ocean Data\\OcDa-Files\\PSD_by_Type.ipynb Cell 34'\u001b[0m in \u001b[0;36mcep_spectrogram\u001b[1;34m(meta_data_CSV_path, location, print_options)\u001b[0m\n\u001b[0;32m     <a href='vscode-notebook-cell:/c%3A/Users/UserALai/Documents/Work/Ocean%20Data/OcDa-Files/PSD_by_Type.ipynb#ch0000032?line=41'>42</a>\u001b[0m     fmax\u001b[39m=\u001b[39m\u001b[39m100\u001b[39m\n\u001b[0;32m     <a href='vscode-notebook-cell:/c%3A/Users/UserALai/Documents/Work/Ocean%20Data/OcDa-Files/PSD_by_Type.ipynb#ch0000032?line=42'>43</a>\u001b[0m     path \u001b[39m=\u001b[39m \u001b[39m'\u001b[39m\u001b[39mdata/\u001b[39m\u001b[39m'\u001b[39m\u001b[39m+\u001b[39mlocation\u001b[39m+\u001b[39m\u001b[39m'\u001b[39m\u001b[39m/Cepstrum/Spectrograms/\u001b[39m\u001b[39m'\u001b[39m\n\u001b[1;32m---> <a href='vscode-notebook-cell:/c%3A/Users/UserALai/Documents/Work/Ocean%20Data/OcDa-Files/PSD_by_Type.ipynb#ch0000032?line=43'>44</a>\u001b[0m     ooiplt\u001b[39m.\u001b[39;49mplot_spectrogram(spectrogram,plot\u001b[39m=\u001b[39;49m\u001b[39mFalse\u001b[39;49;00m,save\u001b[39m=\u001b[39;49m\u001b[39mTrue\u001b[39;49;00m,fmin\u001b[39m=\u001b[39;49mfmin,fmax\u001b[39m=\u001b[39;49mfmax,vmax\u001b[39m=\u001b[39;49m\u001b[39m110\u001b[39;49m,filename\u001b[39m=\u001b[39;49mpath\u001b[39m+\u001b[39;49minst_id\u001b[39m+\u001b[39;49m\u001b[39m'\u001b[39;49m\u001b[39m.png\u001b[39;49m\u001b[39m'\u001b[39;49m)\n\u001b[0;32m     <a href='vscode-notebook-cell:/c%3A/Users/UserALai/Documents/Work/Ocean%20Data/OcDa-Files/PSD_by_Type.ipynb#ch0000032?line=44'>45</a>\u001b[0m     \u001b[39m#print(obj.stats)\u001b[39;00m\n\u001b[0;32m     <a href='vscode-notebook-cell:/c%3A/Users/UserALai/Documents/Work/Ocean%20Data/OcDa-Files/PSD_by_Type.ipynb#ch0000032?line=45'>46</a>\u001b[0m \u001b[39mexcept\u001b[39;00m \u001b[39mFileNotFoundError\u001b[39;00m:\n",
      "File \u001b[1;32mc:\\Users\\UserALai\\miniconda3\\lib\\site-packages\\ooipy\\tools\\ooiplotlib.py:218\u001b[0m, in \u001b[0;36mplot_spectrogram\u001b[1;34m(spec_obj, **kwargs)\u001b[0m\n\u001b[0;32m    216\u001b[0m cbarticks \u001b[39m=\u001b[39m np\u001b[39m.\u001b[39marange(kwargs[\u001b[39m\"\u001b[39m\u001b[39mvmin\u001b[39m\u001b[39m\"\u001b[39m], kwargs[\u001b[39m\"\u001b[39m\u001b[39mvmax\u001b[39m\u001b[39m\"\u001b[39m] \u001b[39m+\u001b[39m kwargs[\u001b[39m\"\u001b[39m\u001b[39mvdelta\u001b[39m\u001b[39m\"\u001b[39m], kwargs[\u001b[39m\"\u001b[39m\u001b[39mvdelta\u001b[39m\u001b[39m\"\u001b[39m])\n\u001b[0;32m    217\u001b[0m fig, ax \u001b[39m=\u001b[39m plt\u001b[39m.\u001b[39msubplots(figsize\u001b[39m=\u001b[39mkwargs[\u001b[39m\"\u001b[39m\u001b[39mfigsize\u001b[39m\u001b[39m\"\u001b[39m])\n\u001b[1;32m--> 218\u001b[0m ax\u001b[39m.\u001b[39mcontourf(\n\u001b[0;32m    219\u001b[0m     t,\n\u001b[0;32m    220\u001b[0m     f,\n\u001b[0;32m    221\u001b[0m     np\u001b[39m.\u001b[39mtranspose(v),\n\u001b[0;32m    222\u001b[0m     cbarticks,\n\u001b[0;32m    223\u001b[0m     norm\u001b[39m=\u001b[39mNormalize(vmin\u001b[39m=\u001b[39mkwargs[\u001b[39m\"\u001b[39m\u001b[39mvmin\u001b[39m\u001b[39m\"\u001b[39m], vmax\u001b[39m=\u001b[39mkwargs[\u001b[39m\"\u001b[39m\u001b[39mvmax\u001b[39m\u001b[39m\"\u001b[39m]),\n\u001b[0;32m    224\u001b[0m     cmap\u001b[39m=\u001b[39mplt\u001b[39m.\u001b[39mcm\u001b[39m.\u001b[39mjet,\n\u001b[0;32m    225\u001b[0m     extend\u001b[39m=\u001b[39mkwargs[\u001b[39m\"\u001b[39m\u001b[39mextend_type\u001b[39m\u001b[39m\"\u001b[39m],\n\u001b[0;32m    226\u001b[0m     \u001b[39m*\u001b[39m\u001b[39m*\u001b[39mkwargs\n\u001b[0;32m    227\u001b[0m )\n\u001b[0;32m    228\u001b[0m plt\u001b[39m.\u001b[39mylabel(kwargs[\u001b[39m\"\u001b[39m\u001b[39mylabel\u001b[39m\u001b[39m\"\u001b[39m])\n\u001b[0;32m    229\u001b[0m plt\u001b[39m.\u001b[39mxlabel(kwargs[\u001b[39m\"\u001b[39m\u001b[39mxlabel\u001b[39m\u001b[39m\"\u001b[39m])\n",
      "File \u001b[1;32mc:\\Users\\UserALai\\miniconda3\\lib\\site-packages\\matplotlib\\__init__.py:1414\u001b[0m, in \u001b[0;36m_preprocess_data.<locals>.inner\u001b[1;34m(ax, data, *args, **kwargs)\u001b[0m\n\u001b[0;32m   1411\u001b[0m \u001b[39m@functools\u001b[39m\u001b[39m.\u001b[39mwraps(func)\n\u001b[0;32m   1412\u001b[0m \u001b[39mdef\u001b[39;00m \u001b[39minner\u001b[39m(ax, \u001b[39m*\u001b[39margs, data\u001b[39m=\u001b[39m\u001b[39mNone\u001b[39;00m, \u001b[39m*\u001b[39m\u001b[39m*\u001b[39mkwargs):\n\u001b[0;32m   1413\u001b[0m     \u001b[39mif\u001b[39;00m data \u001b[39mis\u001b[39;00m \u001b[39mNone\u001b[39;00m:\n\u001b[1;32m-> 1414\u001b[0m         \u001b[39mreturn\u001b[39;00m func(ax, \u001b[39m*\u001b[39m\u001b[39mmap\u001b[39m(sanitize_sequence, args), \u001b[39m*\u001b[39m\u001b[39m*\u001b[39mkwargs)\n\u001b[0;32m   1416\u001b[0m     bound \u001b[39m=\u001b[39m new_sig\u001b[39m.\u001b[39mbind(ax, \u001b[39m*\u001b[39margs, \u001b[39m*\u001b[39m\u001b[39m*\u001b[39mkwargs)\n\u001b[0;32m   1417\u001b[0m     auto_label \u001b[39m=\u001b[39m (bound\u001b[39m.\u001b[39marguments\u001b[39m.\u001b[39mget(label_namer)\n\u001b[0;32m   1418\u001b[0m                   \u001b[39mor\u001b[39;00m bound\u001b[39m.\u001b[39mkwargs\u001b[39m.\u001b[39mget(label_namer))\n",
      "File \u001b[1;32mc:\\Users\\UserALai\\miniconda3\\lib\\site-packages\\matplotlib\\axes\\_axes.py:6319\u001b[0m, in \u001b[0;36mAxes.contourf\u001b[1;34m(self, *args, **kwargs)\u001b[0m\n\u001b[0;32m   6310\u001b[0m \u001b[39m\"\"\"\u001b[39;00m\n\u001b[0;32m   6311\u001b[0m \u001b[39mPlot filled contours.\u001b[39;00m\n\u001b[0;32m   6312\u001b[0m \n\u001b[1;32m   (...)\u001b[0m\n\u001b[0;32m   6316\u001b[0m \u001b[39m%(contour_doc)s\u001b[39;00m\n\u001b[0;32m   6317\u001b[0m \u001b[39m\"\"\"\u001b[39;00m\n\u001b[0;32m   6318\u001b[0m kwargs[\u001b[39m'\u001b[39m\u001b[39mfilled\u001b[39m\u001b[39m'\u001b[39m] \u001b[39m=\u001b[39m \u001b[39mTrue\u001b[39;00m\n\u001b[1;32m-> 6319\u001b[0m contours \u001b[39m=\u001b[39m mcontour\u001b[39m.\u001b[39mQuadContourSet(\u001b[39mself\u001b[39m, \u001b[39m*\u001b[39margs, \u001b[39m*\u001b[39m\u001b[39m*\u001b[39mkwargs)\n\u001b[0;32m   6320\u001b[0m \u001b[39mself\u001b[39m\u001b[39m.\u001b[39m_request_autoscale_view()\n\u001b[0;32m   6321\u001b[0m \u001b[39mreturn\u001b[39;00m contours\n",
      "File \u001b[1;32mc:\\Users\\UserALai\\miniconda3\\lib\\site-packages\\matplotlib\\contour.py:916\u001b[0m, in \u001b[0;36mContourSet.__init__\u001b[1;34m(self, ax, levels, filled, linewidths, linestyles, hatches, alpha, origin, extent, cmap, colors, norm, vmin, vmax, extend, antialiased, nchunk, locator, transform, *args, **kwargs)\u001b[0m\n\u001b[0;32m    900\u001b[0m     \u001b[39mself\u001b[39m\u001b[39m.\u001b[39mcollections[:] \u001b[39m=\u001b[39m [\n\u001b[0;32m    901\u001b[0m         mcoll\u001b[39m.\u001b[39mPathCollection(\n\u001b[0;32m    902\u001b[0m             \u001b[39mself\u001b[39m\u001b[39m.\u001b[39m_make_paths(segs, kinds),\n\u001b[1;32m   (...)\u001b[0m\n\u001b[0;32m    912\u001b[0m         \u001b[39min\u001b[39;00m \u001b[39mzip\u001b[39m(\u001b[39mself\u001b[39m\u001b[39m.\u001b[39mlevels, tlinewidths, tlinestyles, \u001b[39mself\u001b[39m\u001b[39m.\u001b[39mallsegs,\n\u001b[0;32m    913\u001b[0m                \u001b[39mself\u001b[39m\u001b[39m.\u001b[39mallkinds)]\n\u001b[0;32m    915\u001b[0m \u001b[39mfor\u001b[39;00m col \u001b[39min\u001b[39;00m \u001b[39mself\u001b[39m\u001b[39m.\u001b[39mcollections:\n\u001b[1;32m--> 916\u001b[0m     \u001b[39mself\u001b[39;49m\u001b[39m.\u001b[39;49maxes\u001b[39m.\u001b[39;49madd_collection(col, autolim\u001b[39m=\u001b[39;49m\u001b[39mFalse\u001b[39;49;00m)\n\u001b[0;32m    917\u001b[0m     col\u001b[39m.\u001b[39msticky_edges\u001b[39m.\u001b[39mx[:] \u001b[39m=\u001b[39m [\u001b[39mself\u001b[39m\u001b[39m.\u001b[39m_mins[\u001b[39m0\u001b[39m], \u001b[39mself\u001b[39m\u001b[39m.\u001b[39m_maxs[\u001b[39m0\u001b[39m]]\n\u001b[0;32m    918\u001b[0m     col\u001b[39m.\u001b[39msticky_edges\u001b[39m.\u001b[39my[:] \u001b[39m=\u001b[39m [\u001b[39mself\u001b[39m\u001b[39m.\u001b[39m_mins[\u001b[39m1\u001b[39m], \u001b[39mself\u001b[39m\u001b[39m.\u001b[39m_maxs[\u001b[39m1\u001b[39m]]\n",
      "File \u001b[1;32mc:\\Users\\UserALai\\miniconda3\\lib\\site-packages\\matplotlib\\axes\\_base.py:2242\u001b[0m, in \u001b[0;36m_AxesBase.add_collection\u001b[1;34m(self, collection, autolim)\u001b[0m\n\u001b[0;32m   2239\u001b[0m \u001b[39mself\u001b[39m\u001b[39m.\u001b[39m_set_artist_props(collection)\n\u001b[0;32m   2241\u001b[0m \u001b[39mif\u001b[39;00m collection\u001b[39m.\u001b[39mget_clip_path() \u001b[39mis\u001b[39;00m \u001b[39mNone\u001b[39;00m:\n\u001b[1;32m-> 2242\u001b[0m     collection\u001b[39m.\u001b[39;49mset_clip_path(\u001b[39mself\u001b[39;49m\u001b[39m.\u001b[39;49mpatch)\n\u001b[0;32m   2244\u001b[0m \u001b[39mif\u001b[39;00m autolim:\n\u001b[0;32m   2245\u001b[0m     \u001b[39m# Make sure viewLim is not stale (mostly to match\u001b[39;00m\n\u001b[0;32m   2246\u001b[0m     \u001b[39m# pre-lazy-autoscale behavior, which is not really better).\u001b[39;00m\n\u001b[0;32m   2247\u001b[0m     \u001b[39mself\u001b[39m\u001b[39m.\u001b[39m_unstale_viewLim()\n",
      "File \u001b[1;32mc:\\Users\\UserALai\\miniconda3\\lib\\site-packages\\matplotlib\\artist.py:791\u001b[0m, in \u001b[0;36mArtist.set_clip_path\u001b[1;34m(self, path, transform)\u001b[0m\n\u001b[0;32m    788\u001b[0m \u001b[39mif\u001b[39;00m transform \u001b[39mis\u001b[39;00m \u001b[39mNone\u001b[39;00m:\n\u001b[0;32m    789\u001b[0m     \u001b[39mif\u001b[39;00m \u001b[39misinstance\u001b[39m(path, Rectangle):\n\u001b[0;32m    790\u001b[0m         \u001b[39mself\u001b[39m\u001b[39m.\u001b[39mclipbox \u001b[39m=\u001b[39m TransformedBbox(Bbox\u001b[39m.\u001b[39munit(),\n\u001b[1;32m--> 791\u001b[0m                                        path\u001b[39m.\u001b[39;49mget_transform())\n\u001b[0;32m    792\u001b[0m         \u001b[39mself\u001b[39m\u001b[39m.\u001b[39m_clippath \u001b[39m=\u001b[39m \u001b[39mNone\u001b[39;00m\n\u001b[0;32m    793\u001b[0m         success \u001b[39m=\u001b[39m \u001b[39mTrue\u001b[39;00m\n",
      "File \u001b[1;32mc:\\Users\\UserALai\\miniconda3\\lib\\site-packages\\matplotlib\\patches.py:278\u001b[0m, in \u001b[0;36mPatch.get_transform\u001b[1;34m(self)\u001b[0m\n\u001b[0;32m    276\u001b[0m \u001b[39mdef\u001b[39;00m \u001b[39mget_transform\u001b[39m(\u001b[39mself\u001b[39m):\n\u001b[0;32m    277\u001b[0m     \u001b[39m\"\"\"Return the `~.transforms.Transform` applied to the `Patch`.\"\"\"\u001b[39;00m\n\u001b[1;32m--> 278\u001b[0m     \u001b[39mreturn\u001b[39;00m \u001b[39mself\u001b[39;49m\u001b[39m.\u001b[39;49mget_patch_transform() \u001b[39m+\u001b[39m artist\u001b[39m.\u001b[39mArtist\u001b[39m.\u001b[39mget_transform(\u001b[39mself\u001b[39m)\n",
      "File \u001b[1;32mc:\\Users\\UserALai\\miniconda3\\lib\\site-packages\\matplotlib\\patches.py:760\u001b[0m, in \u001b[0;36mRectangle.get_patch_transform\u001b[1;34m(self)\u001b[0m\n\u001b[0;32m    753\u001b[0m \u001b[39mdef\u001b[39;00m \u001b[39mget_patch_transform\u001b[39m(\u001b[39mself\u001b[39m):\n\u001b[0;32m    754\u001b[0m     \u001b[39m# Note: This cannot be called until after this has been added to\u001b[39;00m\n\u001b[0;32m    755\u001b[0m     \u001b[39m# an Axes, otherwise unit conversion will fail. This makes it very\u001b[39;00m\n\u001b[0;32m    756\u001b[0m     \u001b[39m# important to call the accessor method and not directly access the\u001b[39;00m\n\u001b[0;32m    757\u001b[0m     \u001b[39m# transformation member variable.\u001b[39;00m\n\u001b[0;32m    758\u001b[0m     bbox \u001b[39m=\u001b[39m \u001b[39mself\u001b[39m\u001b[39m.\u001b[39mget_bbox()\n\u001b[0;32m    759\u001b[0m     \u001b[39mreturn\u001b[39;00m (transforms\u001b[39m.\u001b[39mBboxTransformTo(bbox)\n\u001b[1;32m--> 760\u001b[0m             \u001b[39m+\u001b[39m transforms\u001b[39m.\u001b[39;49mAffine2D()\u001b[39m.\u001b[39mrotate_deg_around(\n\u001b[0;32m    761\u001b[0m                 bbox\u001b[39m.\u001b[39mx0, bbox\u001b[39m.\u001b[39my0, \u001b[39mself\u001b[39m\u001b[39m.\u001b[39mangle))\n",
      "File \u001b[1;32mc:\\Users\\UserALai\\miniconda3\\lib\\site-packages\\matplotlib\\transforms.py:1914\u001b[0m, in \u001b[0;36mAffine2D.__init__\u001b[1;34m(self, matrix, **kwargs)\u001b[0m\n\u001b[0;32m   1911\u001b[0m \u001b[39mif\u001b[39;00m matrix \u001b[39mis\u001b[39;00m \u001b[39mNone\u001b[39;00m:\n\u001b[0;32m   1912\u001b[0m     \u001b[39m# A bit faster than np.identity(3).\u001b[39;00m\n\u001b[0;32m   1913\u001b[0m     matrix \u001b[39m=\u001b[39m IdentityTransform\u001b[39m.\u001b[39m_mtx\u001b[39m.\u001b[39mcopy()\n\u001b[1;32m-> 1914\u001b[0m \u001b[39mself\u001b[39m\u001b[39m.\u001b[39m_mtx \u001b[39m=\u001b[39m matrix\u001b[39m.\u001b[39;49mcopy()\n\u001b[0;32m   1915\u001b[0m \u001b[39mself\u001b[39m\u001b[39m.\u001b[39m_invalid \u001b[39m=\u001b[39m \u001b[39m0\u001b[39m\n",
      "\u001b[1;31mKeyboardInterrupt\u001b[0m: "
     ]
    }
   ],
   "source": [
    "cep_spectrogram('AB_isolated_ais_10m_5_20.csv', location='Axial_Base')"
   ]
  },
  {
   "cell_type": "code",
   "execution_count": 24,
   "metadata": {},
   "outputs": [],
   "source": [
    "rawdf = pd.read_csv('data/'+'Axial_Base'+'/'+'AB_isolated_ais_10m_5_20.csv', sep=',')\n",
    "options = ['Cargo', 'Tanker', 'Fishing type']\n",
    "df = rawdf[rawdf['VESSEL TYPE'].isin(options)]\n",
    "df = rawdf.reset_index(drop=True)\n",
    "grouped_df = df.dropna(subset=['ud_group', 'VESSEL TYPE']).groupby(['ud_group', 'VESSEL TYPE'])\n",
    "\n",
    "inst_id = df['instance_id'].iloc[0]\n",
    "\n",
    "wavfilepath = 'data/Axial_Base/' + 'Audio/' + inst_id + '.wav'\n",
    "try:\n",
    "    output = wavfile.read(wavfilepath)\n",
    "    S = output[1]\n",
    "    cf = cepstrum_maker(S)\n",
    "    icf = np.fft.ifft(cf)\n",
    "    #print(cf)\n",
    "    obj = ooipy.hydrophone.basic.HydrophoneData(data=np.real(icf), header=None, node=\"Axial_Base\")\n",
    "    obj.stats.sampling_rate = 200\n",
    "    obj.stats.channel = 'HDH'\n",
    "    spectrogram = obj.compute_spectrogram(L = 256,avg_time=10, overlap=0.9)\n",
    "    fmin=0\n",
    "    fmax=100\n",
    "except FileNotFoundError:\n",
    "    pass"
   ]
  },
  {
   "cell_type": "code",
   "execution_count": 28,
   "metadata": {},
   "outputs": [],
   "source": [
    "spec = obj.compute_spectrogram(avg_time=1, overlap=0)\n",
    "spec.values.shape\n",
    "ooipy.plot(spec, fmin=0, fmax=100)\n",
    "plt.show()"
   ]
  },
  {
   "cell_type": "code",
   "execution_count": 7,
   "metadata": {},
   "outputs": [
    {
     "name": "stderr",
     "output_type": "stream",
     "text": [
      "c:\\Users\\UserALai\\miniconda3\\lib\\site-packages\\ooipy\\tools\\ooiplotlib.py:218: UserWarning: The following kwargs were not used by contour: 'fmax', 'xlabel_rot', 'plot', 'save', 'filename', 'title', 'xlabel', 'xlabel_format', 'ylabel', 'fmin', 'vdelta', 'vdelta_cbar', 'figsize', 'res_reduction_time', 'res_reduction_freq', 'dpi', 'fontsize', 'extend_type', 'logy'\n",
      "  ax.contourf(\n"
     ]
    }
   ],
   "source": [
    "sp = obj.compute_spectrogram(L = 256,avg_time=10, overlap=0.9)\n",
    "ooipy.plot(sp, fmax=100, xlabel_rot=30)\n",
    "sp.values.shape\n",
    "obj2 = ooipy.hydrophone.basic.HydrophoneData(data=S, header=None, node=\"Axial_Base\")\n",
    "obj2.stats.sampling_rate = 200\n",
    "obj2.stats.channel = 'HDH'\n",
    "sp2 = obj2.compute_spectrogram(L = 256,avg_time=10, overlap=0.9)\n",
    "ooipy.plot(sp2, fmax=100, xlabel_rot=30)"
   ]
  }
 ],
 "metadata": {
  "kernelspec": {
   "display_name": "Python 3.9.12 ('base')",
   "language": "python",
   "name": "python3"
  },
  "language_info": {
   "codemirror_mode": {
    "name": "ipython",
    "version": 3
   },
   "file_extension": ".py",
   "mimetype": "text/x-python",
   "name": "python",
   "nbconvert_exporter": "python",
   "pygments_lexer": "ipython3",
   "version": "3.9.12"
  },
  "orig_nbformat": 4,
  "vscode": {
   "interpreter": {
    "hash": "a881572e0f47ad42fbe19c9bef42a69b454c13522f4345672cdd837ecfaff96a"
   }
  }
 },
 "nbformat": 4,
 "nbformat_minor": 2
}
