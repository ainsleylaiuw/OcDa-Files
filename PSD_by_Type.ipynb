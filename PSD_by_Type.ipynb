{
 "cells": [
  {
   "cell_type": "markdown",
   "metadata": {},
   "source": [
    "# PSD for Each Ship Type for Multiple Locations\n",
    "\n",
    "Uses pickle (json) files to get PSD data and aggregates it in SPDF plot by ship type for 3 locations.\n",
    "\n",
    "Check following list for creation of SPDF with probabilities: https://github.com/Ocean-Data-Lab/Website-backend/blob/master/SpecGraph/SPDF.py"
   ]
  },
  {
   "cell_type": "code",
   "execution_count": 2,
   "metadata": {},
   "outputs": [],
   "source": [
    "# data\n",
    "import ooipy\n",
    "from ooipy.tools import ooiplotlib as ooiplt\n",
    "import pandas as pd\n",
    "import numpy as np\n",
    "#import functions as fn\n",
    "# plotting\n",
    "import matplotlib.pyplot as plt\n",
    "from matplotlib.lines import Line2D\n",
    "import matplotlib.colors as colors\n",
    "from matplotlib.colors import Normalize\n",
    "from matplotlib.backends.backend_agg import FigureCanvasAgg\n",
    "# IO\n",
    "from io import BytesIO\n",
    "import io\n",
    "import json\n",
    "from scipy.io import wavfile"
   ]
  },
  {
   "cell_type": "markdown",
   "metadata": {},
   "source": [
    "## PSD and SPDF Plotting functions"
   ]
  },
  {
   "cell_type": "code",
   "execution_count": 3,
   "metadata": {},
   "outputs": [],
   "source": [
    "def get_PSD_dict(meta_data_CSV_path, location):\n",
    "    \"\"\"\n",
    "    Generate a dictionary that holds PSD data\n",
    "    Ex. psd_dict[ship_type][freq_values] # not actual key names\n",
    "    This data gets passed into the spdf generation and plotting functions\n",
    "    \n",
    "    Parameters\n",
    "    ----------\n",
    "    meta_data_CSV_path : str\n",
    "        A file path that points to the .csv that contains the metadata. \n",
    "        Mainly used to group based on ship type (ud_group). Also matches instance_id\n",
    "        to corresponding ship type.\n",
    "\n",
    "    location : str\n",
    "        String containing location of the hydrophone (i.e. Axial_Base).\n",
    "        Used for file pathing\n",
    "\n",
    "    Returns\n",
    "    -------\n",
    "    dict: a nested dictionary for ship type and their respective PSD data\n",
    "    \"\"\"\n",
    "\n",
    "    df = pd.read_csv(meta_data_CSV_path, sep=',')\n",
    "\n",
    "    # EC is the only one with missing ship type and only 4 of them, just ignore those\n",
    "    # .dropna() followed by .groupby() cleans and groups\n",
    "    grouped_df = df.dropna(subset=['ud_group']).groupby('ud_group')\n",
    "\n",
    "    # https://stackoverflow.com/questions/27405483/how-to-loop-over-grouped-pandas-dataframe\n",
    "    PSDs = {}\n",
    "    for group_name, df_group in grouped_df:\n",
    "        PSD_obj_list = []\n",
    "        PSD_freq = []\n",
    "        PSD_val = []\n",
    "        dictPSD = {'objects': PSD_obj_list, 'frequencies': PSD_freq, 'values': PSD_val}\n",
    "\n",
    "        # for-loop to compile list of PSD data objects pulled from column\n",
    "        for row_index, row in df_group.iterrows():\n",
    "            inst_id = df['instance_id'].iloc[row_index]\n",
    "            # get pickle files (DL locally? Call some API?)\n",
    "            # local storage method\n",
    "            data_path = 'data/' + location + '/'\n",
    "            pklfilepath = data_path + 'PSD_pickles/' + inst_id + '.json'\n",
    "            # try-except deals with missing pickles\n",
    "            try:\n",
    "                with open(pklfilepath, 'rb') as f:\n",
    "                    dict1 = json.load(f)\n",
    "\n",
    "                # create PSD object and fill out PSD object fields\n",
    "                psd = ooipy.Psd(dict1['f'], dict1['psd'])\n",
    "                dictPSD['objects'].append(psd)\n",
    "                dictPSD['frequencies'].append(psd.freq)\n",
    "                dictPSD['values'].append(psd.values)\n",
    "            except FileNotFoundError:\n",
    "                pass\n",
    "        PSDs.update({group_name: dictPSD})\n",
    "    return PSDs"
   ]
  },
  {
   "cell_type": "code",
   "execution_count": 4,
   "metadata": {},
   "outputs": [],
   "source": [
    "# function pulled from https://github.com/Ocean-Data-Lab/Website-backend     \n",
    "def get_spdf(spec, fs_hz=200, fmax=None, spl_bins=np.linspace(0, 120, 481),\n",
    "             percentiles=[1, 5, 10, 50, 90, 95, 99]):\n",
    "    if fmax is None:\n",
    "        fmax = 100 #spec.frequency[-1]\n",
    "\n",
    "    n_freq_bin = int(len(spec['frequencies'][0]) * fmax/(fs_hz/2)) + 1\n",
    "\n",
    "    spdf_dct = {'freq': np.array(np.linspace(0, fmax, n_freq_bin)),\n",
    "                'spl': spl_bins[:-1],\n",
    "                'pdf': np.empty((n_freq_bin, 480))\n",
    "                #'number_psd': len(spec.time) this isn't used\n",
    "                }\n",
    "\n",
    "    for p in percentiles:\n",
    "        spdf_dct[str(p)] = np.empty(n_freq_bin)\n",
    "\n",
    "    for idx, freq_bin in enumerate(np.asarray(spec['values']).T[:n_freq_bin - 1]):\n",
    "        hist, _ = np.histogram(freq_bin, bins=spl_bins, density=True)\n",
    "        spdf_dct['pdf'][idx] = hist\n",
    "        spdf_dct['50'][idx] = np.median(freq_bin)\n",
    "        for p in percentiles:\n",
    "            spdf_dct[str(p)][idx] = np.nanquantile(freq_bin, p/100)\n",
    "\n",
    "    return spdf_dct\n",
    "\n",
    "def plot_spdf(spdf, vmin=0.003, vmax=0.2, vdelta=0.0025, save=False, filename=None, log=True, title='Spectral PDF', shipType=None, location=None):\n",
    "    cbarticks = np.arange(vmin, vmax+vdelta, vdelta)\n",
    "    fig, ax = plt.subplots(figsize=(9, 5))\n",
    "    im = ax.contourf(spdf['freq'], spdf['spl'], np.transpose(spdf['pdf']),\n",
    "                     cbarticks, norm=colors.Normalize(vmin=vmin, vmax=vmax),\n",
    "                     cmap='jet', extend='max', alpha=0.50, linewidth=0)\n",
    "\n",
    "    # plot some percentiles:\n",
    "    plt.plot(spdf['freq'], spdf['1'], color='black')\n",
    "    plt.plot(spdf['freq'], spdf['5'], color='black')\n",
    "    plt.plot(spdf['freq'], spdf['10'], color='black')\n",
    "    plt.plot(spdf['freq'], spdf['50'], color='black')\n",
    "    plt.plot(spdf['freq'], spdf['90'], color='black')\n",
    "    plt.plot(spdf['freq'], spdf['95'], color='black')\n",
    "    plt.plot(spdf['freq'], spdf['99'], color='black')\n",
    "\n",
    "    plt.ylabel(r'spectral level (dB rel $1 \\mathrm{\\frac{μ Pa^2}{Hz}}$)')\n",
    "    plt.xlabel('frequency (Hz)')\n",
    "    plt.ylim([36, 100])\n",
    "    plt.xlim([0, 90])\n",
    "    if log:\n",
    "        plt.xscale('log')\n",
    "\n",
    "    plt.colorbar(im, ax=ax, ticks=[vmin, vmin + (vmax-vmin)/4, vmin + (vmax-vmin)/2,\n",
    "                 vmin + 3*(vmax-vmin)/4,  vmax],  pad=0.03, label='probability', format='%.3f')\n",
    "    plt.tick_params(axis='y')\n",
    "    plt.grid(True)\n",
    "    plt.title(title)\n",
    "    handles, labels = plt.gca().get_legend_handles_labels()\n",
    "    line = Line2D(\n",
    "        [0], [0], label='percentiles: 1, 5, 10, 50, 90, 95, 99', color='k')\n",
    "    handles.extend([line])\n",
    "    plt.legend(handles=handles, loc='upper right')\n",
    "    plt.tight_layout()\n",
    "    plt.xlim((200/512, 100))\n",
    "    filepath = 'data/'+location+'/'\n",
    "    plt.savefig(filepath+shipType+'.jpg', format='jpg')\n",
    "    plt.close() # suppress plotting"
   ]
  },
  {
   "cell_type": "markdown",
   "metadata": {},
   "source": [
    "### Generate plots for 3 locations"
   ]
  },
  {
   "cell_type": "code",
   "execution_count": 6,
   "metadata": {},
   "outputs": [
    {
     "name": "stdout",
     "output_type": "stream",
     "text": [
      "Cargo\n",
      "Fishing type\n",
      "Passenger\n",
      "Recreational\n",
      "Research\n",
      "Tanker\n"
     ]
    }
   ],
   "source": [
    "AB_PSDs = get_PSD_dict('data/Axial_Base/AB_isolated_ais_10m_5_20.csv', location='Axial_Base')\n",
    "for key in AB_PSDs:\n",
    "    print((key))\n",
    "    spdf = get_spdf(AB_PSDs[key])\n",
    "    plot_spdf(spdf, log=False, title=key + ' Spectral PDF', shipType=key, location='Axial_Base')\n",
    "    "
   ]
  },
  {
   "cell_type": "code",
   "execution_count": 7,
   "metadata": {},
   "outputs": [
    {
     "name": "stdout",
     "output_type": "stream",
     "text": [
      "Cargo\n",
      "Fishing type\n",
      "Offshore\n",
      "Other purpose\n",
      "Research\n",
      "Tanker\n"
     ]
    }
   ],
   "source": [
    "CC_PSDs = get_PSD_dict('data/Central_Caldera/CC_isolated_ais_10m_5_20.csv', location='Central_Caldera')\n",
    "for key in CC_PSDs:\n",
    "    print(key)\n",
    "    spdf = get_spdf(CC_PSDs[key])\n",
    "    plot_spdf(spdf, log=False, title=key + ' Spectral PDF', shipType=key, location='Central_Caldera')"
   ]
  },
  {
   "cell_type": "code",
   "execution_count": 20,
   "metadata": {},
   "outputs": [
    {
     "name": "stdout",
     "output_type": "stream",
     "text": [
      "Cargo\n",
      "Fishing type\n",
      "Offshore\n",
      "Other purpose\n",
      "Research\n",
      "Tanker\n"
     ]
    }
   ],
   "source": [
    "EC_PSDs = get_PSD_dict('data/Eastern_Caldera/EC_isolated_ais_5_20.csv', location='Eastern_Caldera')\n",
    "for key in EC_PSDs:\n",
    "    print(key)\n",
    "    spdf = get_spdf(EC_PSDs[key])\n",
    "    plot_spdf(spdf, log=False, title=key + ' Spectral PDF', shipType=key, location='Eastern_Caldera')"
   ]
  },
  {
   "cell_type": "code",
   "execution_count": 9,
   "metadata": {},
   "outputs": [
    {
     "name": "stdout",
     "output_type": "stream",
     "text": [
      "Cargo\n"
     ]
    },
    {
     "name": "stderr",
     "output_type": "stream",
     "text": [
      "C:\\Users\\UserALai\\AppData\\Local\\Temp\\ipykernel_13316\\3414438163.py:30: UserWarning: The following kwargs were not used by contour: 'linewidth'\n",
      "  im = ax.contourf(spdf['freq'], spdf['spl'], np.transpose(spdf['pdf']),\n"
     ]
    },
    {
     "name": "stdout",
     "output_type": "stream",
     "text": [
      "Fishing type\n",
      "Other purpose\n",
      "Passenger\n",
      "Recreational\n",
      "Tanker\n",
      "drop\n"
     ]
    }
   ],
   "source": [
    "OS_PSDs = get_PSD_dict('data/Oregon_Slope/OS_isolated_ais_5_20.csv', location='Oregon_Slope')\n",
    "for key in OS_PSDs:\n",
    "    print(key)\n",
    "    spdf = get_spdf(OS_PSDs[key])\n",
    "    plot_spdf(spdf, log=False, title=key + ' Spectral PDF', shipType=key, location='Oregon_Slope')"
   ]
  },
  {
   "cell_type": "code",
   "execution_count": 12,
   "metadata": {},
   "outputs": [
    {
     "name": "stdout",
     "output_type": "stream",
     "text": [
      "Cargo\n"
     ]
    },
    {
     "name": "stderr",
     "output_type": "stream",
     "text": [
      "C:\\Users\\UserALai\\AppData\\Local\\Temp\\ipykernel_13316\\3414438163.py:30: UserWarning: The following kwargs were not used by contour: 'linewidth'\n",
      "  im = ax.contourf(spdf['freq'], spdf['spl'], np.transpose(spdf['pdf']),\n"
     ]
    },
    {
     "name": "stdout",
     "output_type": "stream",
     "text": [
      "Fishing type\n",
      "Other purpose\n",
      "Passenger\n",
      "Recreational\n",
      "Tanker\n",
      "drop\n"
     ]
    }
   ],
   "source": [
    "SH_PSDs = get_PSD_dict('data/Southern_Hydrate/SH_isolated_ais_5_20.csv', location='Southern_Hydrate')\n",
    "for key in SH_PSDs:\n",
    "    print(key)\n",
    "    spdf = get_spdf(SH_PSDs[key])\n",
    "    plot_spdf(spdf, log=False, title=key + ' Spectral PDF', shipType=key, location='Southern_Hydrate')"
   ]
  },
  {
   "cell_type": "markdown",
   "metadata": {},
   "source": [
    "# Cepstrum Plotting\n",
    "Cepstrum is in inverse (`ifft()`) of  `log(abs(FFT(signal)))`.\n",
    "This gives something to use for the y-axis where x-axis would be quefrency.\n",
    "\n",
    "Higher frequency resolution is needed, so work begins with the audio files, which we will divide into 1-minute intervals to compute the cepstrum of. Then for each vessel type (within each ud_group), we will average the cepstrums.\n",
    "\n",
    "Can this somehow be plotted like the spdf?"
   ]
  },
  {
   "cell_type": "code",
   "execution_count": 18,
   "metadata": {},
   "outputs": [],
   "source": [
    "output = wavfile.read('data/Axial_Base/Audio/AB_20150319051501_20150319052501.wav')"
   ]
  },
  {
   "cell_type": "code",
   "execution_count": 234,
   "metadata": {},
   "outputs": [
    {
     "name": "stdout",
     "output_type": "stream",
     "text": [
      "('Cargo', 'Bulk Carrier')\n",
      "('Cargo', 'Cargo')\n",
      "('Cargo', 'General Cargo')\n",
      "('Cargo', 'Vehicles Carrier')\n",
      "('Cargo', 'Wood Chips Carrier')\n",
      "('Fishing type', 'Fishing Vessel')\n",
      "('Fishing type', 'Towing Vessel')\n",
      "('Fishing type', 'Tug')\n",
      "('Tanker', 'Crude Oil Tanker')\n",
      "('Tanker', 'LPG Tanker')\n",
      "('Tanker', 'Oil Products Tanker')\n",
      "('Tanker', 'Oil/Chemical Tanker')\n"
     ]
    }
   ],
   "source": [
    "rawdf = pd.read_csv('data/Axial_Base/AB_isolated_ais_10m_5_20.csv', sep=',')\n",
    "\n",
    "options = ['Cargo', 'Tanker', 'Fishing type']\n",
    "df = rawdf[rawdf['ud_group'].isin(options)]\n",
    "df = df.reset_index(drop=True)\n",
    "#df = rawdf[(df['ud_group']=='Cargo') | (df['ud_group']=='Tanker') | (df['ud_group']=='Fishing type')]\n",
    "# EC is the only one with missing ship type and only 4 of them, just ignore those\n",
    "# .dropna() followed by .groupby() cleans and groups\n",
    "grouped_df = df.dropna(subset=['ud_group', 'VESSEL TYPE']).groupby(['ud_group', 'VESSEL TYPE'])\n",
    "#grouped_df.sum().tail(20)\n",
    "mean_dict = {}\n",
    "\n",
    "# Create average data\n",
    "for group_name, df_group in grouped_df:\n",
    "    print(group_name)\n",
    "    dict = {0: [], 1: [], 2: [], 3: [], 4: [],5: [],6: [], 7: [], 8: [], 9: []}\n",
    "    for row_index, row in df_group.iterrows():\n",
    "        inst_id = df['instance_id'].iloc[row_index]\n",
    "        #inst_id = df[df['Unnamed: 0'] == row_index]['instance_id'][0]\n",
    "        # data_path = 'data/' + location + '/'\n",
    "        data_path = 'data/' + 'Axial_Base' + '/'\n",
    "        wavfilepath = data_path + 'Audio/' + inst_id + '.wav'\n",
    "        # try-except deals with missing pickles\n",
    "        try:\n",
    "            output = wavfile.read(wavfilepath)\n",
    "            S = output[1]\n",
    "            w = int(len(S)/10) \n",
    "            time_windows = []\n",
    "            for i in range(1, 11):\n",
    "                \"\"\"if (i == 10):\n",
    "                    window = S[((i-1)*w):]\n",
    "                else:\n",
    "                    window = S[((i-1)*w):(i*w)]\"\"\"\n",
    "                # we lose out on very last value\n",
    "                window = S[((i-1)*w):(i*w)]\n",
    "                time_windows.append(window)\n",
    "\n",
    "            # to see time_windows output\n",
    "            for idx, wind in enumerate(time_windows):\n",
    "                #print(f'window {idx}: {wind}')\n",
    "                #print(f'Window {idx} shape is {wind.shape}')\n",
    "                # compute cf\n",
    "                cf = np.fft.ifft(np.log(np.abs(np.fft.fft(wind))))\n",
    "                if (len(wind) == 12000):\n",
    "                    dict[idx].append(cf)\n",
    "                #print(dict[idx][0])\n",
    "                #plt.plot(cf)\n",
    "\n",
    "        except FileNotFoundError:\n",
    "            pass\n",
    "    # time windows for this group filled out @ this point\n",
    "    group_cf_mean = 0\n",
    "    for i in range(len(dict)):\n",
    "        group_cf_mean += np.mean(dict[i], axis=0)\n",
    "    group_cf_mean /= len(dict)\n",
    "    mean_dict.update({str(group_name): group_cf_mean})\n"
   ]
  },
  {
   "cell_type": "code",
   "execution_count": 264,
   "metadata": {},
   "outputs": [
    {
     "name": "stdout",
     "output_type": "stream",
     "text": [
      "key: ('Cargo', 'Bulk Carrier'), values: (12000,)\n",
      "key: ('Cargo', 'Cargo'), values: (12000,)\n",
      "key: ('Cargo', 'General Cargo'), values: (12000,)\n",
      "key: ('Cargo', 'Vehicles Carrier'), values: (12000,)\n",
      "key: ('Cargo', 'Wood Chips Carrier'), values: (12000,)\n",
      "key: ('Fishing type', 'Fishing Vessel'), values: (12000,)\n",
      "key: ('Fishing type', 'Towing Vessel'), values: (12000,)\n",
      "key: ('Fishing type', 'Tug'), values: (12000,)\n",
      "key: ('Tanker', 'Crude Oil Tanker'), values: (12000,)\n",
      "key: ('Tanker', 'LPG Tanker'), values: (12000,)\n",
      "key: ('Tanker', 'Oil Products Tanker'), values: (12000,)\n",
      "key: ('Tanker', 'Oil/Chemical Tanker'), values: (12000,)\n"
     ]
    },
    {
     "ename": "FileNotFoundError",
     "evalue": "[Errno 2] No such file or directory: \"data/Axial_Base/Cepstrum/('Tanker', 'Oil/Chemical Tanker').jpg\"",
     "output_type": "error",
     "traceback": [
      "\u001b[1;31m---------------------------------------------------------------------------\u001b[0m",
      "\u001b[1;31mFileNotFoundError\u001b[0m                         Traceback (most recent call last)",
      "\u001b[1;32mc:\\Users\\UserALai\\Documents\\Work\\Ocean Data\\OcDa-Files\\PSD_by_Type.ipynb Cell 15'\u001b[0m in \u001b[0;36m<cell line: 1>\u001b[1;34m()\u001b[0m\n\u001b[0;32m      <a href='vscode-notebook-cell:/c%3A/Users/UserALai/Documents/Work/Ocean%20Data/OcDa-Files/PSD_by_Type.ipynb#ch0000031?line=5'>6</a>\u001b[0m \u001b[39m#plt.xscale('log')\u001b[39;00m\n\u001b[0;32m      <a href='vscode-notebook-cell:/c%3A/Users/UserALai/Documents/Work/Ocean%20Data/OcDa-Files/PSD_by_Type.ipynb#ch0000031?line=6'>7</a>\u001b[0m plt\u001b[39m.\u001b[39mtitle(k \u001b[39m+\u001b[39m \u001b[39m'\u001b[39m\u001b[39m Cepstrum Plot\u001b[39m\u001b[39m'\u001b[39m)\n\u001b[1;32m----> <a href='vscode-notebook-cell:/c%3A/Users/UserALai/Documents/Work/Ocean%20Data/OcDa-Files/PSD_by_Type.ipynb#ch0000031?line=7'>8</a>\u001b[0m plt\u001b[39m.\u001b[39;49msavefig(\u001b[39m'\u001b[39;49m\u001b[39mdata/Axial_Base/Cepstrum/\u001b[39;49m\u001b[39m'\u001b[39;49m\u001b[39m+\u001b[39;49m k \u001b[39m+\u001b[39;49m \u001b[39m'\u001b[39;49m\u001b[39m.jpg\u001b[39;49m\u001b[39m'\u001b[39;49m, \u001b[39mformat\u001b[39;49m\u001b[39m=\u001b[39;49m\u001b[39m'\u001b[39;49m\u001b[39mjpg\u001b[39;49m\u001b[39m'\u001b[39;49m)\n\u001b[0;32m      <a href='vscode-notebook-cell:/c%3A/Users/UserALai/Documents/Work/Ocean%20Data/OcDa-Files/PSD_by_Type.ipynb#ch0000031?line=8'>9</a>\u001b[0m plt\u001b[39m.\u001b[39mclose()\n",
      "File \u001b[1;32mc:\\Users\\UserALai\\miniconda3\\lib\\site-packages\\matplotlib\\pyplot.py:977\u001b[0m, in \u001b[0;36msavefig\u001b[1;34m(*args, **kwargs)\u001b[0m\n\u001b[0;32m    974\u001b[0m \u001b[39m@_copy_docstring_and_deprecators\u001b[39m(Figure\u001b[39m.\u001b[39msavefig)\n\u001b[0;32m    975\u001b[0m \u001b[39mdef\u001b[39;00m \u001b[39msavefig\u001b[39m(\u001b[39m*\u001b[39margs, \u001b[39m*\u001b[39m\u001b[39m*\u001b[39mkwargs):\n\u001b[0;32m    976\u001b[0m     fig \u001b[39m=\u001b[39m gcf()\n\u001b[1;32m--> 977\u001b[0m     res \u001b[39m=\u001b[39m fig\u001b[39m.\u001b[39msavefig(\u001b[39m*\u001b[39margs, \u001b[39m*\u001b[39m\u001b[39m*\u001b[39mkwargs)\n\u001b[0;32m    978\u001b[0m     fig\u001b[39m.\u001b[39mcanvas\u001b[39m.\u001b[39mdraw_idle()   \u001b[39m# need this if 'transparent=True' to reset colors\u001b[39;00m\n\u001b[0;32m    979\u001b[0m     \u001b[39mreturn\u001b[39;00m res\n",
      "File \u001b[1;32mc:\\Users\\UserALai\\miniconda3\\lib\\site-packages\\matplotlib\\figure.py:3058\u001b[0m, in \u001b[0;36mFigure.savefig\u001b[1;34m(self, fname, transparent, **kwargs)\u001b[0m\n\u001b[0;32m   3054\u001b[0m     \u001b[39mfor\u001b[39;00m ax \u001b[39min\u001b[39;00m \u001b[39mself\u001b[39m\u001b[39m.\u001b[39maxes:\n\u001b[0;32m   3055\u001b[0m         stack\u001b[39m.\u001b[39menter_context(\n\u001b[0;32m   3056\u001b[0m             ax\u001b[39m.\u001b[39mpatch\u001b[39m.\u001b[39m_cm_set(facecolor\u001b[39m=\u001b[39m\u001b[39m'\u001b[39m\u001b[39mnone\u001b[39m\u001b[39m'\u001b[39m, edgecolor\u001b[39m=\u001b[39m\u001b[39m'\u001b[39m\u001b[39mnone\u001b[39m\u001b[39m'\u001b[39m))\n\u001b[1;32m-> 3058\u001b[0m \u001b[39mself\u001b[39m\u001b[39m.\u001b[39mcanvas\u001b[39m.\u001b[39mprint_figure(fname, \u001b[39m*\u001b[39m\u001b[39m*\u001b[39mkwargs)\n",
      "File \u001b[1;32mc:\\Users\\UserALai\\miniconda3\\lib\\site-packages\\matplotlib\\backend_bases.py:2319\u001b[0m, in \u001b[0;36mFigureCanvasBase.print_figure\u001b[1;34m(self, filename, dpi, facecolor, edgecolor, orientation, format, bbox_inches, pad_inches, bbox_extra_artists, backend, **kwargs)\u001b[0m\n\u001b[0;32m   2315\u001b[0m \u001b[39mtry\u001b[39;00m:\n\u001b[0;32m   2316\u001b[0m     \u001b[39m# _get_renderer may change the figure dpi (as vector formats\u001b[39;00m\n\u001b[0;32m   2317\u001b[0m     \u001b[39m# force the figure dpi to 72), so we need to set it again here.\u001b[39;00m\n\u001b[0;32m   2318\u001b[0m     \u001b[39mwith\u001b[39;00m cbook\u001b[39m.\u001b[39m_setattr_cm(\u001b[39mself\u001b[39m\u001b[39m.\u001b[39mfigure, dpi\u001b[39m=\u001b[39mdpi):\n\u001b[1;32m-> 2319\u001b[0m         result \u001b[39m=\u001b[39m print_method(\n\u001b[0;32m   2320\u001b[0m             filename,\n\u001b[0;32m   2321\u001b[0m             facecolor\u001b[39m=\u001b[39mfacecolor,\n\u001b[0;32m   2322\u001b[0m             edgecolor\u001b[39m=\u001b[39medgecolor,\n\u001b[0;32m   2323\u001b[0m             orientation\u001b[39m=\u001b[39morientation,\n\u001b[0;32m   2324\u001b[0m             bbox_inches_restore\u001b[39m=\u001b[39m_bbox_inches_restore,\n\u001b[0;32m   2325\u001b[0m             \u001b[39m*\u001b[39m\u001b[39m*\u001b[39mkwargs)\n\u001b[0;32m   2326\u001b[0m \u001b[39mfinally\u001b[39;00m:\n\u001b[0;32m   2327\u001b[0m     \u001b[39mif\u001b[39;00m bbox_inches \u001b[39mand\u001b[39;00m restore_bbox:\n",
      "File \u001b[1;32mc:\\Users\\UserALai\\miniconda3\\lib\\site-packages\\matplotlib\\backend_bases.py:1648\u001b[0m, in \u001b[0;36m_check_savefig_extra_args.<locals>.wrapper\u001b[1;34m(*args, **kwargs)\u001b[0m\n\u001b[0;32m   1640\u001b[0m     _api\u001b[39m.\u001b[39mwarn_deprecated(\n\u001b[0;32m   1641\u001b[0m         \u001b[39m'\u001b[39m\u001b[39m3.3\u001b[39m\u001b[39m'\u001b[39m, name\u001b[39m=\u001b[39mname, removal\u001b[39m=\u001b[39m\u001b[39m'\u001b[39m\u001b[39m3.6\u001b[39m\u001b[39m'\u001b[39m,\n\u001b[0;32m   1642\u001b[0m         message\u001b[39m=\u001b[39m\u001b[39m'\u001b[39m\u001b[39m%(name)s\u001b[39;00m\u001b[39m() got unexpected keyword argument \u001b[39m\u001b[39m\"\u001b[39m\u001b[39m'\u001b[39m\n\u001b[0;32m   1643\u001b[0m                 \u001b[39m+\u001b[39m arg \u001b[39m+\u001b[39m \u001b[39m'\u001b[39m\u001b[39m\"\u001b[39m\u001b[39m which is no longer supported as of \u001b[39m\u001b[39m'\u001b[39m\n\u001b[0;32m   1644\u001b[0m                 \u001b[39m'\u001b[39m\u001b[39m%(since)s\u001b[39;00m\u001b[39m and will become an error \u001b[39m\u001b[39m'\u001b[39m\n\u001b[0;32m   1645\u001b[0m                 \u001b[39m'\u001b[39m\u001b[39m%(removal)s\u001b[39;00m\u001b[39m'\u001b[39m)\n\u001b[0;32m   1646\u001b[0m     kwargs\u001b[39m.\u001b[39mpop(arg)\n\u001b[1;32m-> 1648\u001b[0m \u001b[39mreturn\u001b[39;00m func(\u001b[39m*\u001b[39margs, \u001b[39m*\u001b[39m\u001b[39m*\u001b[39mkwargs)\n",
      "File \u001b[1;32mc:\\Users\\UserALai\\miniconda3\\lib\\site-packages\\matplotlib\\_api\\deprecation.py:415\u001b[0m, in \u001b[0;36mdelete_parameter.<locals>.wrapper\u001b[1;34m(*inner_args, **inner_kwargs)\u001b[0m\n\u001b[0;32m    405\u001b[0m     deprecation_addendum \u001b[39m=\u001b[39m (\n\u001b[0;32m    406\u001b[0m         \u001b[39mf\u001b[39m\u001b[39m\"\u001b[39m\u001b[39mIf any parameter follows \u001b[39m\u001b[39m{\u001b[39;00mname\u001b[39m!r}\u001b[39;00m\u001b[39m, they should be passed as \u001b[39m\u001b[39m\"\u001b[39m\n\u001b[0;32m    407\u001b[0m         \u001b[39mf\u001b[39m\u001b[39m\"\u001b[39m\u001b[39mkeyword, not positionally.\u001b[39m\u001b[39m\"\u001b[39m)\n\u001b[0;32m    408\u001b[0m     warn_deprecated(\n\u001b[0;32m    409\u001b[0m         since,\n\u001b[0;32m    410\u001b[0m         name\u001b[39m=\u001b[39m\u001b[39mrepr\u001b[39m(name),\n\u001b[1;32m   (...)\u001b[0m\n\u001b[0;32m    413\u001b[0m                  \u001b[39melse\u001b[39;00m deprecation_addendum,\n\u001b[0;32m    414\u001b[0m         \u001b[39m*\u001b[39m\u001b[39m*\u001b[39mkwargs)\n\u001b[1;32m--> 415\u001b[0m \u001b[39mreturn\u001b[39;00m func(\u001b[39m*\u001b[39minner_args, \u001b[39m*\u001b[39m\u001b[39m*\u001b[39minner_kwargs)\n",
      "File \u001b[1;32mc:\\Users\\UserALai\\miniconda3\\lib\\site-packages\\matplotlib\\backends\\backend_agg.py:583\u001b[0m, in \u001b[0;36mFigureCanvasAgg.print_jpg\u001b[1;34m(self, filename_or_obj, pil_kwargs, *args, **kwargs)\u001b[0m\n\u001b[0;32m    581\u001b[0m pil_kwargs\u001b[39m.\u001b[39msetdefault(\u001b[39m\"\u001b[39m\u001b[39mdpi\u001b[39m\u001b[39m\"\u001b[39m, (\u001b[39mself\u001b[39m\u001b[39m.\u001b[39mfigure\u001b[39m.\u001b[39mdpi, \u001b[39mself\u001b[39m\u001b[39m.\u001b[39mfigure\u001b[39m.\u001b[39mdpi))\n\u001b[0;32m    582\u001b[0m \u001b[39m# Drop alpha channel now.\u001b[39;00m\n\u001b[1;32m--> 583\u001b[0m \u001b[39mreturn\u001b[39;00m (Image\u001b[39m.\u001b[39mfromarray(np\u001b[39m.\u001b[39masarray(\u001b[39mself\u001b[39m\u001b[39m.\u001b[39mbuffer_rgba())[\u001b[39m.\u001b[39m\u001b[39m.\u001b[39m\u001b[39m.\u001b[39m, :\u001b[39m3\u001b[39m])\n\u001b[0;32m    584\u001b[0m         \u001b[39m.\u001b[39msave(filename_or_obj, \u001b[39mformat\u001b[39m\u001b[39m=\u001b[39m\u001b[39m'\u001b[39m\u001b[39mjpeg\u001b[39m\u001b[39m'\u001b[39m, \u001b[39m*\u001b[39m\u001b[39m*\u001b[39mpil_kwargs))\n",
      "File \u001b[1;32mc:\\Users\\UserALai\\miniconda3\\lib\\site-packages\\PIL\\Image.py:2350\u001b[0m, in \u001b[0;36mImage.save\u001b[1;34m(self, fp, format, **params)\u001b[0m\n\u001b[0;32m   2348\u001b[0m         fp \u001b[39m=\u001b[39m builtins\u001b[39m.\u001b[39mopen(filename, \u001b[39m\"\u001b[39m\u001b[39mr+b\u001b[39m\u001b[39m\"\u001b[39m)\n\u001b[0;32m   2349\u001b[0m     \u001b[39melse\u001b[39;00m:\n\u001b[1;32m-> 2350\u001b[0m         fp \u001b[39m=\u001b[39m builtins\u001b[39m.\u001b[39;49mopen(filename, \u001b[39m\"\u001b[39;49m\u001b[39mw+b\u001b[39;49m\u001b[39m\"\u001b[39;49m)\n\u001b[0;32m   2352\u001b[0m \u001b[39mtry\u001b[39;00m:\n\u001b[0;32m   2353\u001b[0m     save_handler(\u001b[39mself\u001b[39m, fp, filename)\n",
      "\u001b[1;31mFileNotFoundError\u001b[0m: [Errno 2] No such file or directory: \"data/Axial_Base/Cepstrum/('Tanker', 'Oil/Chemical Tanker').jpg\""
     ]
    },
    {
     "data": {
      "image/png": "[encoded data removed]",
      "text/plain": [
       "<Figure size 1200x1000 with 1 Axes>"
      ]
     },
     "metadata": {},
     "output_type": "display_data"
    }
   ],
   "source": [
    "for k, v in mean_dict.items():\n",
    "    plt.subplots(figsize=(12, 10))\n",
    "    print(f'key: {k}, values: {v.shape}')\n",
    "    plt.plot(mean_dict[k])\n",
    "    plt.xlabel('quefrency')\n",
    "    #plt.xscale('log')\n",
    "    plt.title(k + ' Cepstrum Plot')\n",
    "    plt.savefig('data/Axial_Base/Cepstrum/'+ k + '.jpg', format='jpg')\n",
    "    plt.close()"
   ]
  },
  {
   "cell_type": "code",
   "execution_count": 265,
   "metadata": {},
   "outputs": [
    {
     "data": {
      "image/png": "[encoded data removed]",
      "text/plain": [
       "<Figure size 640x480 with 1 Axes>"
      ]
     },
     "metadata": {},
     "output_type": "display_data"
    }
   ],
   "source": [
    "plt.plot(mean_dict['(\\'Tanker\\', \\'Oil/Chemical Tanker\\')'])\n",
    "plt.xlabel('quefrency')\n",
    "plt.title(k + ' Cepstrum Plot')\n",
    "plt.savefig('data/Axial_Base/Cepstrum/(\\'Tanker\\', \\'Oil Chemical Tanker\\').jpg', format='jpg')"
   ]
  },
  {
   "cell_type": "code",
   "execution_count": 253,
   "metadata": {},
   "outputs": [
    {
     "name": "stdout",
     "output_type": "stream",
     "text": [
      "C\n",
      "C\n",
      "C\n",
      "C\n",
      "C\n",
      "F\n",
      "F\n",
      "F\n",
      "T\n",
      "T\n",
      "T\n",
      "T\n"
     ]
    }
   ],
   "source": [
    "for k, v in mean_dict.items():\n",
    "    print(k[2])"
   ]
  },
  {
   "cell_type": "code",
   "execution_count": 241,
   "metadata": {},
   "outputs": [
    {
     "name": "stderr",
     "output_type": "stream",
     "text": [
      "c:\\Users\\UserALai\\miniconda3\\lib\\site-packages\\matplotlib\\cbook\\__init__.py:1298: ComplexWarning: Casting complex values to real discards the imaginary part\n",
      "  return np.asarray(x, float)\n"
     ]
    },
    {
     "data": {
      "text/plain": [
       "[<matplotlib.lines.Line2D at 0x166592ceca0>]"
      ]
     },
     "execution_count": 241,
     "metadata": {},
     "output_type": "execute_result"
    },
    {
     "data": {
      "image/png": "[encoded data removed]",
      "text/plain": [
       "<Figure size 640x480 with 1 Axes>"
      ]
     },
     "metadata": {},
     "output_type": "display_data"
    }
   ],
   "source": [
    "plt.plot(mean_dict[\"('Cargo', 'Bulk Carrier')\"])"
   ]
  }
 ],
 "metadata": {
  "kernelspec": {
   "display_name": "Python 3.9.12 ('base')",
   "language": "python",
   "name": "python3"
  },
  "language_info": {
   "codemirror_mode": {
    "name": "ipython",
    "version": 3
   },
   "file_extension": ".py",
   "mimetype": "text/x-python",
   "name": "python",
   "nbconvert_exporter": "python",
   "pygments_lexer": "ipython3",
   "version": "3.9.12"
  },
  "orig_nbformat": 4,
  "vscode": {
   "interpreter": {
    "hash": "a881572e0f47ad42fbe19c9bef42a69b454c13522f4345672cdd837ecfaff96a"
   }
  }
 },
 "nbformat": 4,
 "nbformat_minor": 2
}
