{
 "cells": [
  {
   "cell_type": "markdown",
   "metadata": {},
   "source": [
    "## PSD for Each Ship Type for Multiple Locations\n",
    "\n",
    "Can get PSD/Spectrogram data from MSEED in CSV.\n",
    "\n",
    "Group By ship type\n",
    "\n",
    "\n",
    "Compile all PSD data objects into list and plot them all on one plot?\n",
    "\n",
    "Check following list for creation of SPDF with probabilities: https://github.com/Ocean-Data-Lab/Website-backend/blob/master/SpecGraph/SPDF.py\n",
    "\n",
    "\n",
    "### NOTE 02/13/23\n",
    "Change dataframes to use average time=1 instead. For now, I'm going to just use the current avg_time=10 to setup the data pipeline."
   ]
  },
  {
   "cell_type": "code",
   "execution_count": null,
   "metadata": {},
   "outputs": [],
   "source": [
    "import ooipy\n",
    "import pandas as pd\n",
    "import matplotlib.pyplot as plt\n",
    "from datetime import datetime\n",
    "import numpy as np\n",
    "import functions as fn\n",
    "from ooipy.tools import ooiplotlib as ooiplt"
   ]
  },
  {
   "cell_type": "code",
   "execution_count": null,
   "metadata": {},
   "outputs": [],
   "source": [
    "AB_df = pd.read_csv('AB_isolated_ais_10m_5_20.csv',sep = ',')\n",
    "grouped_AB_df = AB_df.groupby('ud_group')\n",
    "\n",
    "# Pull PSD data for each groups from the MSEED\n",
    "# https://stackoverflow.com/questions/27405483/how-to-loop-over-grouped-pandas-dataframe\n",
    "# Need to handle NAs\n",
    "AB_PSDs = {}\n",
    "for group_name, df_group in grouped_AB_df:\n",
    "    PSD_obj_list = []\n",
    "\n",
    "    # for-loop to compile list of PSD data objects pulled from column\n",
    "    # for i in [something]\n",
    "    # some stackoverflow post said to be careful w/ iterating thru rows due to memory\n",
    "\n",
    "    AB_PSDs.update({group_name: PSD_obj_list})"
   ]
  },
  {
   "cell_type": "code",
   "execution_count": null,
   "metadata": {},
   "outputs": [],
   "source": [
    "sum(AB_df.psd.notna())\n",
    "AB_df.psd.isna().sum()\n",
    "AB_df.ud_group.unique()"
   ]
  },
  {
   "cell_type": "code",
   "execution_count": null,
   "metadata": {},
   "outputs": [],
   "source": [
    "# playing around with dictionaries to group PSD lists\n",
    "empty_dict = {}\n",
    "empty_dict.update({\"zero\": np.zeros(20)}) \n",
    "empty_dict.update({\"ones\": np.ones(20)}) \n",
    "empty_dict.update({\"rand\": (np.random.randint(10, size=20))}) \n",
    "\n",
    "empty_dict"
   ]
  },
  {
   "cell_type": "code",
   "execution_count": null,
   "metadata": {},
   "outputs": [],
   "source": []
  },
  {
   "cell_type": "code",
   "execution_count": null,
   "metadata": {},
   "outputs": [],
   "source": []
  }
 ],
 "metadata": {
  "language_info": {
   "name": "python"
  },
  "orig_nbformat": 4
 },
 "nbformat": 4,
 "nbformat_minor": 2
}
